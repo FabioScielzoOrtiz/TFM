{
 "cells": [
  {
   "cell_type": "markdown",
   "metadata": {},
   "source": [
    "# **Inner Evaluation: KFoldFastKmedoids**"
   ]
  },
  {
   "cell_type": "markdown",
   "metadata": {},
   "source": [
    "## **Requirements**"
   ]
  },
  {
   "cell_type": "code",
   "execution_count": 6,
   "metadata": {},
   "outputs": [],
   "source": [
    "import polars as pl\n",
    "import pandas as pd\n",
    "import numpy as np\n",
    "import sys\n",
    "from sklearn.compose import ColumnTransformer\n",
    "from sklearn.pipeline import Pipeline\n",
    "from sklearn.model_selection import train_test_split, KFold\n",
    "from sklearn.ensemble import RandomForestRegressor\n",
    "from  xgboost import XGBRegressor\n",
    "from sklearn.metrics import mean_absolute_error\n",
    "import pickle\n",
    "import warnings\n",
    "warnings.filterwarnings('ignore')\n",
    "import seaborn as sns\n",
    "import matplotlib.pyplot as plt \n",
    "sns.set_style('whitegrid')"
   ]
  },
  {
   "cell_type": "code",
   "execution_count": 7,
   "metadata": {},
   "outputs": [],
   "source": [
    "sys.path.insert(0, r'C:\\Users\\fscielzo\\Documents\\Packages\\PyMachineLearning_Package_Private')\n",
    "from PyMachineLearning.preprocessing import encoder, imputer, scaler, features_selector\n",
    "from PyMachineLearning.evaluation import SimpleEvaluation\n"
   ]
  },
  {
   "cell_type": "code",
   "execution_count": 8,
   "metadata": {},
   "outputs": [],
   "source": [
    "sys.path.insert(0, r'C:\\Users\\fscielzo\\Documents\\Packages\\FastKmedoids_Package_Private')\n",
    "from FastKmedoids.data import sort_predictors_for_GG"
   ]
  },
  {
   "cell_type": "code",
   "execution_count": 9,
   "metadata": {},
   "outputs": [],
   "source": [
    "sys.path.insert(0, r'C:\\Users\\fscielzo\\Documents\\Packages\\SupervisedClustering_Package_Private')\n",
    "from SupervisedClustering.models import KFoldFastKmedoidsEstimator"
   ]
  },
  {
   "cell_type": "code",
   "execution_count": 10,
   "metadata": {},
   "outputs": [],
   "source": [
    "sys.path.insert(0, r\"C:\\Users\\fscielzo\\Documents\\Packages\\BigEDA_Package_Private\")\n",
    "from BigEDA.descriptive import outliers_table"
   ]
  },
  {
   "cell_type": "markdown",
   "metadata": {},
   "source": [
    "## **Data**"
   ]
  },
  {
   "cell_type": "code",
   "execution_count": 11,
   "metadata": {},
   "outputs": [
    {
     "data": {
      "text/html": [
       "<div><style>\n",
       ".dataframe > thead > tr,\n",
       ".dataframe > tbody > tr {\n",
       "  text-align: right;\n",
       "  white-space: pre-wrap;\n",
       "}\n",
       "</style>\n",
       "<small>shape: (5, 12)</small><table border=\"1\" class=\"dataframe\"><thead><tr><th>sq_mt_built</th><th>n_rooms</th><th>n_bathrooms</th><th>n_floors</th><th>floor</th><th>buy_price</th><th>is_renewal_needed</th><th>has_lift</th><th>is_exterior</th><th>energy_certificate</th><th>has_parking</th><th>house_type</th></tr><tr><td>f64</td><td>i64</td><td>i64</td><td>i64</td><td>i64</td><td>i64</td><td>bool</td><td>bool</td><td>bool</td><td>i64</td><td>bool</td><td>i64</td></tr></thead><tbody><tr><td>64.0</td><td>2</td><td>1</td><td>1</td><td>3</td><td>85000</td><td>false</td><td>false</td><td>true</td><td>4</td><td>false</td><td>1</td></tr><tr><td>70.0</td><td>3</td><td>1</td><td>1</td><td>4</td><td>129900</td><td>true</td><td>true</td><td>true</td><td>0</td><td>false</td><td>1</td></tr><tr><td>94.0</td><td>2</td><td>2</td><td>1</td><td>1</td><td>144247</td><td>false</td><td>true</td><td>true</td><td>0</td><td>false</td><td>1</td></tr><tr><td>64.0</td><td>2</td><td>1</td><td>1</td><td>-1</td><td>109900</td><td>false</td><td>true</td><td>true</td><td>0</td><td>false</td><td>1</td></tr><tr><td>108.0</td><td>2</td><td>2</td><td>1</td><td>4</td><td>260000</td><td>false</td><td>true</td><td>true</td><td>0</td><td>true</td><td>1</td></tr></tbody></table></div>"
      ],
      "text/plain": [
       "shape: (5, 12)\n",
       "┌────────────┬─────────┬────────────┬──────────┬───┬───────────┬───────────┬───────────┬───────────┐\n",
       "│ sq_mt_buil ┆ n_rooms ┆ n_bathroom ┆ n_floors ┆ … ┆ is_exteri ┆ energy_ce ┆ has_parki ┆ house_typ │\n",
       "│ t          ┆ ---     ┆ s          ┆ ---      ┆   ┆ or        ┆ rtificate ┆ ng        ┆ e         │\n",
       "│ ---        ┆ i64     ┆ ---        ┆ i64      ┆   ┆ ---       ┆ ---       ┆ ---       ┆ ---       │\n",
       "│ f64        ┆         ┆ i64        ┆          ┆   ┆ bool      ┆ i64       ┆ bool      ┆ i64       │\n",
       "╞════════════╪═════════╪════════════╪══════════╪═══╪═══════════╪═══════════╪═══════════╪═══════════╡\n",
       "│ 64.0       ┆ 2       ┆ 1          ┆ 1        ┆ … ┆ true      ┆ 4         ┆ false     ┆ 1         │\n",
       "│ 70.0       ┆ 3       ┆ 1          ┆ 1        ┆ … ┆ true      ┆ 0         ┆ false     ┆ 1         │\n",
       "│ 94.0       ┆ 2       ┆ 2          ┆ 1        ┆ … ┆ true      ┆ 0         ┆ false     ┆ 1         │\n",
       "│ 64.0       ┆ 2       ┆ 1          ┆ 1        ┆ … ┆ true      ┆ 0         ┆ false     ┆ 1         │\n",
       "│ 108.0      ┆ 2       ┆ 2          ┆ 1        ┆ … ┆ true      ┆ 0         ┆ true      ┆ 1         │\n",
       "└────────────┴─────────┴────────────┴──────────┴───┴───────────┴───────────┴───────────┴───────────┘"
      ]
     },
     "execution_count": 11,
     "metadata": {},
     "output_type": "execute_result"
    }
   ],
   "source": [
    "madrid_houses_df = pl.read_csv('Data/madrid_houses_NaNS.csv')\n",
    "variables_to_remove = ['', 'id', 'district', 'neighborhood', 'sq_mt_allotment']\n",
    "variables_to_keep = [x for x in madrid_houses_df.columns if x not in variables_to_remove]\n",
    "madrid_houses_df = madrid_houses_df[variables_to_keep]\n",
    "madrid_houses_df.head()"
   ]
  },
  {
   "cell_type": "code",
   "execution_count": 12,
   "metadata": {},
   "outputs": [],
   "source": [
    "quant_columns = ['sq_mt_built', 'n_rooms', 'n_bathrooms', 'n_floors', 'buy_price']\n",
    "cat_columns = [x for x in madrid_houses_df.columns if x not in quant_columns]\n",
    "\n",
    "response = 'buy_price'\n",
    "quant_predictors = [x for x in quant_columns if x != response]\n",
    "cat_predictors = [x for x in cat_columns if x != response]\n",
    "predictors = quant_predictors + cat_predictors"
   ]
  },
  {
   "cell_type": "code",
   "execution_count": 13,
   "metadata": {},
   "outputs": [],
   "source": [
    "cat_predictors_sorted, p1, p2, p3 = sort_predictors_for_GG(df=madrid_houses_df, quant_predictors=quant_predictors, cat_predictors=cat_predictors)"
   ]
  },
  {
   "cell_type": "markdown",
   "metadata": {},
   "source": [
    "## **Response and Predictors**"
   ]
  },
  {
   "cell_type": "code",
   "execution_count": 14,
   "metadata": {},
   "outputs": [],
   "source": [
    "Y = madrid_houses_df[response].to_pandas()\n",
    "X = madrid_houses_df[predictors].to_pandas()\n",
    "# The Null values of the Polars columns that are define as Object type by Pandas are treated as None and not as NaN (what we would like)\n",
    "# The avoid this behavior the next step is necessary\n",
    "X = X.fillna(value=np.nan)"
   ]
  },
  {
   "cell_type": "markdown",
   "metadata": {},
   "source": [
    "## **Defining outer evaluation: train-test split**\n"
   ]
  },
  {
   "cell_type": "code",
   "execution_count": 15,
   "metadata": {},
   "outputs": [],
   "source": [
    "# Defining the outer-evaluation: train-test split.\n",
    "X_train, X_test, Y_train, Y_test = train_test_split(X, Y, train_size=0.90, random_state=123)\n",
    "# We set a large train size since we are mainly interested in compare models not in estimating the feature performance (indeed, we could omit the test part and doing the inner eval. with the whole data)"
   ]
  },
  {
   "cell_type": "markdown",
   "metadata": {},
   "source": [
    "## **Defining inner evaluation: K-Fold Cross Validation**"
   ]
  },
  {
   "cell_type": "code",
   "execution_count": 16,
   "metadata": {},
   "outputs": [],
   "source": [
    "# Defining the inner-evaluation: K-fold cross validation\n",
    "inner = KFold(n_splits=4, shuffle=True, random_state=111)"
   ]
  },
  {
   "cell_type": "code",
   "execution_count": 17,
   "metadata": {},
   "outputs": [],
   "source": [
    "inner_score, best_params, inner_results = {}, {}, {}"
   ]
  },
  {
   "cell_type": "markdown",
   "metadata": {},
   "source": [
    "## **Proportion of outliers**"
   ]
  },
  {
   "cell_type": "code",
   "execution_count": 18,
   "metadata": {},
   "outputs": [
    {
     "data": {
      "text/plain": [
       "0.09"
      ]
     },
     "execution_count": 18,
     "metadata": {},
     "output_type": "execute_result"
    }
   ],
   "source": [
    "Y_X_train = pd.concat((Y_train.reset_index(drop=True), X_train.reset_index(drop=True)), axis=1)\n",
    "Y_X_train_pl = pl.DataFrame(Y_X_train)\n",
    "mean_prop_outliers = np.round(outliers_table(df=Y_X_train_pl, auto=False, col_names=quant_columns)['prop_outliers'].mean(), 3)\n",
    "mean_prop_outliers"
   ]
  },
  {
   "cell_type": "markdown",
   "metadata": {},
   "source": [
    "## Example of usage"
   ]
  },
  {
   "cell_type": "code",
   "execution_count": 19,
   "metadata": {},
   "outputs": [],
   "source": [
    "quant_pipeline = Pipeline([('imputer', imputer(apply=True, method='iterative_median'))])\n",
    "\n",
    "cat_pipeline = Pipeline([('encoder', encoder(method='ordinal')),\n",
    "                         ('imputer', imputer(apply=True, method='simple_most_frequent'))])\n",
    "\n",
    "quant_cat_transformer = ColumnTransformer(transformers=[('quant', quant_pipeline, quant_predictors),\n",
    "                                                        ('cat', cat_pipeline, cat_predictors_sorted)])"
   ]
  },
  {
   "cell_type": "code",
   "execution_count": 20,
   "metadata": {},
   "outputs": [],
   "source": [
    "# Defining estimators to be used in each cluster\n",
    "estimators_RF_XGB_2_clusters = {0: RandomForestRegressor(random_state=123),\n",
    "                                1: XGBRegressor(random_state=123)}"
   ]
  },
  {
   "cell_type": "code",
   "execution_count": 21,
   "metadata": {},
   "outputs": [],
   "source": [
    "X_train = quant_cat_transformer.fit_transform(X_train)\n",
    "X_test = quant_cat_transformer.transform(X_test)\n",
    "X_train = pd.DataFrame(X_train, columns=quant_predictors + cat_predictors_sorted)\n",
    "X_test = pd.DataFrame(X_test, columns=quant_predictors + cat_predictors_sorted)"
   ]
  },
  {
   "cell_type": "code",
   "execution_count": 22,
   "metadata": {},
   "outputs": [],
   "source": [
    "kfold_fast_kmedoids_regressor = KFoldFastKmedoidsEstimator(estimators=estimators_RF_XGB_2_clusters, \n",
    "                                                n_clusters=2, method='pam', init='heuristic', max_iter=100, \n",
    "                                                random_state=123,  frac_sample_size=0.01, \n",
    "                                                p1=p1, p2=p2, p3=p3, \n",
    "                                                d1='robust_mahalanobis', d2='jaccard', d3='matching', \n",
    "                                                robust_maha_method='trimmed', alpha=0.05, \n",
    "                                                n_splits=10, shuffle=True, kfold_random_state=123,\n",
    "                                                y_type='quantitative', verbose=False)"
   ]
  },
  {
   "cell_type": "code",
   "execution_count": 23,
   "metadata": {},
   "outputs": [
    {
     "name": "stdout",
     "output_type": "stream",
     "text": [
      "Num.Folds: 10. Fold size: 1956.\n",
      "Distance matrix size: 20 (0.01*1956) \n",
      "Num.Clusters: 2. Clusters proportions: [0.179862 0.820138]\n"
     ]
    },
    {
     "data": {
      "text/plain": [
       "187188.01804794648"
      ]
     },
     "execution_count": 23,
     "metadata": {},
     "output_type": "execute_result"
    }
   ],
   "source": [
    "kfold_fast_kmedoids_regressor.fit(X=X_train, y=Y_train)\n",
    "Y_test_hat = kfold_fast_kmedoids_regressor.predict(X_test)\n",
    "mean_absolute_error(y_pred=Y_test_hat, y_true=Y_test)"
   ]
  },
  {
   "cell_type": "markdown",
   "metadata": {},
   "source": [
    "## **Pipelines definition**"
   ]
  },
  {
   "cell_type": "code",
   "execution_count": 24,
   "metadata": {},
   "outputs": [],
   "source": [
    "quant_pipeline = Pipeline([('imputer', imputer(apply=True)),\n",
    "                           ('scaler', scaler())\n",
    "                          ])\n",
    "\n",
    "cat_pipeline = Pipeline([('encoder', encoder(method='ordinal')),\n",
    "                         ('imputer', imputer(apply=True))\n",
    "                        ])\n",
    "\n",
    "quant_cat_preprocessing = ColumnTransformer(transformers=[('quant', quant_pipeline, quant_predictors),\n",
    "                                                          ('cat', cat_pipeline, cat_predictors_sorted)]) "
   ]
  },
  {
   "cell_type": "code",
   "execution_count": 25,
   "metadata": {},
   "outputs": [],
   "source": [
    "meta_models = {'XGB': XGBRegressor(random_state=123),\n",
    "               'RF': RandomForestRegressor(random_state=123)}\n",
    "\n",
    "# We assume a maximum n_clusters of 5 along this notebook. To accept more clusters the following two lines should be modified.\n",
    "clusters_RF = [0,2,4]\n",
    "clusters_XGB = [1,3]\n",
    "\n",
    "estimators_RF_XGB = {j: meta_models['RF'] for j in clusters_RF}\n",
    "estimators_RF_XGB.update({j: meta_models['XGB'] for j in clusters_XGB}) \n",
    "\n",
    "clustering_estimator = KFoldFastKmedoidsEstimator(estimators=estimators_RF_XGB, \n",
    "                                                    n_clusters=2, method='pam', init='heuristic', max_iter=100, \n",
    "                                                    random_state=123,  frac_sample_size=0.015, \n",
    "                                                    p1=p1, p2=p2, p3=p3, \n",
    "                                                    d1='robust_mahalanobis', d2='jaccard', d3='matching', q=1,\n",
    "                                                    robust_maha_method='trimmed', alpha=mean_prop_outliers, \n",
    "                                                    n_splits=5, shuffle=True, kfold_random_state=111,\n",
    "                                                    y_type='quantitative', verbose=False)\n",
    "\n",
    "pipeline_clustering_model = Pipeline([('preprocessing', quant_cat_preprocessing),\n",
    "                                      ('features_selector', features_selector()),\n",
    "                                      ('clustering_model', clustering_estimator)\n",
    "                                     ]) "
   ]
  },
  {
   "cell_type": "markdown",
   "metadata": {},
   "source": [
    "## **Grids for HPO**"
   ]
  },
  {
   "cell_type": "code",
   "execution_count": 26,
   "metadata": {},
   "outputs": [],
   "source": [
    "def preprocessing_param_grid(trial):\n",
    "\n",
    "    # Fix Grid\n",
    "    param_grid = {\n",
    "        'preprocessing__quant__imputer__method': trial.suggest_categorical('preprocessing__quant__imputer__method', ['simple_mean', 'simple_median', 'iterative_mean', 'iterative_median']),\n",
    "        'preprocessing__cat__imputer__method': trial.suggest_categorical('preprocessing__cat__imputer__method', ['simple_most_frequent']),\n",
    "        'preprocessing__quant__scaler__apply': trial.suggest_categorical('preprocessing__quant__scaler__apply', [True, False]),\n",
    "        'preprocessing__cat__encoder__method': trial.suggest_categorical('preprocessing__cat__encoder__method', ['ordinal']),  # with FastKmedoids only ordinal is suitable\n",
    "        'features_selector__apply': trial.suggest_categorical('features_selector__apply', [False]) # with FastKmedoids we must not select predictors\n",
    "        }\n",
    "\n",
    "    # Conditioned Grid\n",
    "    if param_grid['features_selector__apply'] == True:\n",
    "\n",
    "        param_grid.update({'features_selector__method': trial.suggest_categorical('features_selector__method', ['Fpr_f_reg', 'Fdr_f_reg'])})\n",
    "        \n",
    "    if param_grid['preprocessing__quant__scaler__apply'] == True:\n",
    "    \n",
    "        param_grid.update({'preprocessing__quant__scaler__method': trial.suggest_categorical('preprocessing__quant__scaler__method', ['standard', 'min-max'])})\n",
    "\n",
    "    return param_grid"
   ]
  },
  {
   "cell_type": "code",
   "execution_count": 27,
   "metadata": {},
   "outputs": [],
   "source": [
    "def param_grid_clustering_model_robust_maha(trial):\n",
    "\n",
    "    param_grid = {\n",
    "        'clustering_model__n_clusters': trial.suggest_categorical('clustering_model__n_clusters', [2, 3]),\n",
    "        'clustering_model__method': trial.suggest_categorical('clustering_model__method', ['pam', 'alternate']),\n",
    "        'clustering_model__init': trial.suggest_categorical('clustering_model__init', ['random', 'heuristic', 'k-medoids++']),\n",
    "        'clustering_model__frac_sample_size': trial.suggest_categorical('clustering_model__frac_sample_size', [0.1, 0.15, 0.2, 0.25, 0.3, 0.35, 0.4, 0.5, 0.6, 0.7]),\n",
    "        'clustering_model__d1': trial.suggest_categorical('clustering_model__d1', ['robust_mahalanobis']),\n",
    "        'clustering_model__d2': trial.suggest_categorical('clustering_model__d2', ['jaccard', 'sokal']),\n",
    "        'clustering_model__n_splits': trial.suggest_int('clustering_model__n_splits', 3, 50)\n",
    "    }\n",
    "\n",
    "    if param_grid['clustering_model__d1'] == 'robust_mahalanobis':\n",
    "\n",
    "        param_grid.update({\n",
    "            'clustering_model__robust_maha_method': trial.suggest_categorical('clustering_model__robust_maha_method', ['trimmed', 'winsorized', 'MAD']),\n",
    "            })\n",
    "\n",
    "        if param_grid['clustering_model__robust_maha_method'] in ['trimmed', 'winsorized']:\n",
    "\n",
    "                param_grid.update({\n",
    "                        'clustering_model__alpha': trial.suggest_categorical('clustering_model__alpha', [0.05, mean_prop_outliers, 0.15, 0.2, 0.25, 0.30]),\n",
    "                    })\n",
    "\n",
    "    return param_grid"
   ]
  },
  {
   "cell_type": "code",
   "execution_count": 28,
   "metadata": {},
   "outputs": [],
   "source": [
    "def param_grid_clustering_model_other_distances(trial):\n",
    "\n",
    "    param_grid = {\n",
    "        'clustering_model__n_clusters': trial.suggest_categorical('clustering_model__n_clusters', [2, 3]),\n",
    "        'clustering_model__method': trial.suggest_categorical('clustering_model__method', ['pam', 'alternate']),\n",
    "        'clustering_model__init': trial.suggest_categorical('clustering_model__init', ['heuristic', 'random', 'k-medoids++']),\n",
    "        'clustering_model__frac_sample_size': trial.suggest_categorical('clustering_model__frac_sample_size', [0.1, 0.15, 0.2, 0.25, 0.3, 0.35, 0.4, 0.5, 0.6, 0.7]),\n",
    "        # mahalanobis is not considered in d1 since sometimes leads to Singular Matrix error (with small data, when n_splits is large or/and frac_sample_size small)\n",
    "        'clustering_model__d1': trial.suggest_categorical('clustering_model__d1', ['euclidean', 'minkowski', 'canberra']), \n",
    "        'clustering_model__d2': trial.suggest_categorical('clustering_model__d2', ['jaccard', 'sokal']),\n",
    "        'clustering_model__n_splits': trial.suggest_int('clustering_model__n_splits', 3, 50)\n",
    "    }\n",
    "\n",
    "    return param_grid"
   ]
  },
  {
   "cell_type": "code",
   "execution_count": 29,
   "metadata": {},
   "outputs": [],
   "source": [
    "def param_grid_RF_XGB(trial, n_clusters, param_grid):\n",
    "\n",
    "    for j in range(0, n_clusters): # Create grids only for the effective clusters\n",
    "\n",
    "        # Grids for RF\n",
    "        if j in clusters_RF:\n",
    "\n",
    "            param_grid.update({\n",
    "                f'clustering_model__estimators__{j}__n_estimators': trial.suggest_int(f'clustering_model__estimators__{j}__n_estimators', 50, 120),\n",
    "                f'clustering_model__estimators__{j}__max_depth': trial.suggest_categorical(f'clustering_model__estimators__{j}__max_depth', [None, 3, 5, 7, 10, 20, 30, 40, 50]),\n",
    "                f'clustering_model__estimators__{j}__min_samples_split': trial.suggest_int(f'clustering_model__estimators__{j}__min_samples_split', 2, 25),\n",
    "                f'clustering_model__estimators__{j}__min_samples_leaf': trial.suggest_int(f'clustering_model__estimators__{j}__min_samples_leaf', 2, 25)\n",
    "            })\n",
    "\n",
    "        # Grids for XGB\n",
    "        if j in clusters_XGB:  \n",
    "\n",
    "            param_grid.update({\n",
    "                f'clustering_model__estimators__{j}__max_depth': trial.suggest_categorical(f'clustering_model__estimators__{j}__max_depth', [None, 3, 5, 7, 10, 20, 30, 40, 50]),\n",
    "                f'clustering_model__estimators__{j}__lambda': trial.suggest_float(f'clustering_model__estimators__{j}__lambda', 0, 0.5, step=0.1, log=False),\n",
    "                f'clustering_model__estimators__{j}__n_estimators': trial.suggest_categorical(f'clustering_model__estimators__{j}__n_estimators', [30, 50, 70, 100, 150, 180]),\n",
    "                f'clustering_model__estimators__{j}__eta': trial.suggest_float(f'clustering_model__estimators__{j}__eta', 0, 0.3, step=0.02, log=False),\n",
    "                f'clustering_model__estimators__{j}__alpha': trial.suggest_float(f'clustering_model__estimators__{j}__alpha', 0.2, 1, step=0.01, log=False)\n",
    "            })\n",
    "\n",
    "    return param_grid\n"
   ]
  },
  {
   "cell_type": "code",
   "execution_count": 30,
   "metadata": {},
   "outputs": [],
   "source": [
    "def param_grid_RF_XGB_robust_maha(trial):\n",
    "\n",
    "    param_grid = preprocessing_param_grid(trial)\n",
    "    param_grid.update(param_grid_clustering_model_robust_maha(trial))\n",
    "\n",
    "    n_clusters = param_grid['clustering_model__n_clusters']\n",
    "\n",
    "    param_grid = param_grid_RF_XGB(trial, n_clusters, param_grid)\n",
    "\n",
    "    return param_grid"
   ]
  },
  {
   "cell_type": "code",
   "execution_count": 31,
   "metadata": {},
   "outputs": [],
   "source": [
    "def param_grid_RF_XGB_other_distances(trial):\n",
    "\n",
    "    param_grid = preprocessing_param_grid(trial)\n",
    "    param_grid.update(param_grid_clustering_model_other_distances(trial))\n",
    "\n",
    "    n_clusters = param_grid['clustering_model__n_clusters']\n",
    "\n",
    "    param_grid = param_grid_RF_XGB(trial, n_clusters, param_grid)\n",
    "\n",
    "    return param_grid"
   ]
  },
  {
   "cell_type": "markdown",
   "metadata": {},
   "source": [
    "## **HPO**"
   ]
  },
  {
   "cell_type": "markdown",
   "metadata": {},
   "source": [
    "### **d1 = robust_maha**"
   ]
  },
  {
   "cell_type": "code",
   "execution_count": 30,
   "metadata": {},
   "outputs": [
    {
     "name": "stderr",
     "output_type": "stream",
     "text": [
      "[I 2024-05-04 19:09:34,646] A new study created in memory with name: no-name-00b08222-12b6-4d3e-b130-e796987718f4\n"
     ]
    },
    {
     "name": "stdout",
     "output_type": "stream",
     "text": [
      "Num.Folds: 13. Fold size: 1128.\n",
      "Distance matrix size: 452 (0.4*1128) \n",
      "Num.Clusters: 2. Clusters proportions: [0.03809719 0.96190281]\n",
      "Num.Folds: 13. Fold size: 1128.\n",
      "Distance matrix size: 452 (0.4*1128) \n",
      "Num.Clusters: 2. Clusters proportions: [0.25241924 0.74758076]\n",
      "Num.Folds: 13. Fold size: 1128.\n",
      "Distance matrix size: 452 (0.4*1128) \n",
      "Num.Clusters: 2. Clusters proportions: [0.98521194 0.01478806]\n",
      "Num.Folds: 13. Fold size: 1128.\n",
      "Distance matrix size: 452 (0.4*1128) \n",
      "Num.Clusters: 2. Clusters proportions: [0.43716778 0.56283222]\n"
     ]
    },
    {
     "name": "stderr",
     "output_type": "stream",
     "text": [
      "[I 2024-05-04 19:10:48,377] Trial 0 finished with value: -192182.8570571678 and parameters: {'preprocessing__quant__imputer__method': 'simple_mean', 'preprocessing__cat__imputer__method': 'simple_most_frequent', 'preprocessing__quant__scaler__apply': True, 'preprocessing__cat__encoder__method': 'ordinal', 'features_selector__apply': False, 'preprocessing__quant__scaler__method': 'standard', 'clustering_model__n_clusters': 2, 'clustering_model__method': 'alternate', 'clustering_model__init': 'random', 'clustering_model__frac_sample_size': 0.4, 'clustering_model__d1': 'robust_mahalanobis', 'clustering_model__d2': 'sokal', 'clustering_model__n_splits': 13, 'clustering_model__robust_maha_method': 'winsorized', 'clustering_model__alpha': 0.15, 'clustering_model__estimators__0__n_estimators': 113, 'clustering_model__estimators__0__max_depth': None, 'clustering_model__estimators__0__min_samples_split': 25, 'clustering_model__estimators__0__min_samples_leaf': 14, 'clustering_model__estimators__1__max_depth': 5, 'clustering_model__estimators__1__lambda': 0.5, 'clustering_model__estimators__1__n_estimators': 180, 'clustering_model__estimators__1__eta': 0.02, 'clustering_model__estimators__1__alpha': 0.81}. Best is trial 0 with value: -192182.8570571678.\n"
     ]
    },
    {
     "name": "stdout",
     "output_type": "stream",
     "text": [
      "Num.Folds: 31. Fold size: 473.\n",
      "Distance matrix size: 332 (0.7*473) \n",
      "Num.Clusters: 2. Clusters proportions: [0.59824167 0.40175833]\n",
      "Num.Folds: 31. Fold size: 473.\n",
      "Distance matrix size: 332 (0.7*473) \n",
      "Num.Clusters: 2. Clusters proportions: [0.98221344 0.01778656]\n",
      "Num.Folds: 31. Fold size: 473.\n",
      "Distance matrix size: 332 (0.7*473) \n",
      "Num.Clusters: 2. Clusters proportions: [0.39573395 0.60426605]\n",
      "Num.Folds: 31. Fold size: 473.\n",
      "Distance matrix size: 332 (0.7*473) \n",
      "Num.Clusters: 2. Clusters proportions: [0.58388987 0.41611013]\n"
     ]
    },
    {
     "name": "stderr",
     "output_type": "stream",
     "text": [
      "[I 2024-05-04 19:12:26,958] Trial 1 finished with value: -191485.06475173237 and parameters: {'preprocessing__quant__imputer__method': 'iterative_mean', 'preprocessing__cat__imputer__method': 'simple_most_frequent', 'preprocessing__quant__scaler__apply': True, 'preprocessing__cat__encoder__method': 'ordinal', 'features_selector__apply': False, 'preprocessing__quant__scaler__method': 'standard', 'clustering_model__n_clusters': 2, 'clustering_model__method': 'pam', 'clustering_model__init': 'random', 'clustering_model__frac_sample_size': 0.7, 'clustering_model__d1': 'robust_mahalanobis', 'clustering_model__d2': 'sokal', 'clustering_model__n_splits': 31, 'clustering_model__robust_maha_method': 'trimmed', 'clustering_model__alpha': 0.2, 'clustering_model__estimators__0__n_estimators': 72, 'clustering_model__estimators__0__max_depth': 7, 'clustering_model__estimators__0__min_samples_split': 10, 'clustering_model__estimators__0__min_samples_leaf': 15, 'clustering_model__estimators__1__max_depth': 7, 'clustering_model__estimators__1__lambda': 0.5, 'clustering_model__estimators__1__n_estimators': 70, 'clustering_model__estimators__1__eta': 0.18, 'clustering_model__estimators__1__alpha': 0.9000000000000001}. Best is trial 1 with value: -191485.06475173237.\n"
     ]
    },
    {
     "name": "stdout",
     "output_type": "stream",
     "text": [
      "Num.Folds: 24. Fold size: 611.\n",
      "Distance matrix size: 123 (0.2*611) \n",
      "Num.Clusters: 3. Clusters proportions: [0.2125673  0.27615348 0.51127922]\n",
      "Num.Folds: 24. Fold size: 611.\n",
      "Distance matrix size: 123 (0.2*611) \n",
      "Num.Clusters: 3. Clusters proportions: [0.7189587  0.04463677 0.23640453]\n",
      "Num.Folds: 24. Fold size: 611.\n",
      "Distance matrix size: 123 (0.2*611) \n",
      "Num.Clusters: 3. Clusters proportions: [0.0301213  0.69599291 0.27388578]\n",
      "Num.Folds: 24. Fold size: 611.\n",
      "Distance matrix size: 123 (0.2*611) \n",
      "Num.Clusters: 3. Clusters proportions: [0.0408205  0.75330517 0.20587434]\n"
     ]
    },
    {
     "name": "stderr",
     "output_type": "stream",
     "text": [
      "[I 2024-05-04 19:14:03,125] Trial 2 finished with value: -200199.2063981119 and parameters: {'preprocessing__quant__imputer__method': 'simple_mean', 'preprocessing__cat__imputer__method': 'simple_most_frequent', 'preprocessing__quant__scaler__apply': False, 'preprocessing__cat__encoder__method': 'ordinal', 'features_selector__apply': False, 'clustering_model__n_clusters': 3, 'clustering_model__method': 'pam', 'clustering_model__init': 'heuristic', 'clustering_model__frac_sample_size': 0.2, 'clustering_model__d1': 'robust_mahalanobis', 'clustering_model__d2': 'jaccard', 'clustering_model__n_splits': 24, 'clustering_model__robust_maha_method': 'winsorized', 'clustering_model__alpha': 0.25, 'clustering_model__estimators__0__n_estimators': 90, 'clustering_model__estimators__0__max_depth': 10, 'clustering_model__estimators__0__min_samples_split': 12, 'clustering_model__estimators__0__min_samples_leaf': 15, 'clustering_model__estimators__1__max_depth': 40, 'clustering_model__estimators__1__lambda': 0.1, 'clustering_model__estimators__1__n_estimators': 30, 'clustering_model__estimators__1__eta': 0.22, 'clustering_model__estimators__1__alpha': 0.5800000000000001, 'clustering_model__estimators__2__n_estimators': 58, 'clustering_model__estimators__2__max_depth': 7, 'clustering_model__estimators__2__min_samples_split': 3, 'clustering_model__estimators__2__min_samples_leaf': 21}. Best is trial 1 with value: -191485.06475173237.\n"
     ]
    },
    {
     "name": "stdout",
     "output_type": "stream",
     "text": [
      "Num.Folds: 28. Fold size: 524.\n",
      "Distance matrix size: 315 (0.6*524) \n",
      "Num.Clusters: 3. Clusters proportions: [0.23369454 0.2709739  0.49533156]\n",
      "Num.Folds: 28. Fold size: 524.\n",
      "Distance matrix size: 315 (0.6*524) \n",
      "Num.Clusters: 3. Clusters proportions: [0.45986098 0.24867112 0.2914679 ]\n",
      "Num.Folds: 28. Fold size: 524.\n",
      "Distance matrix size: 315 (0.6*524) \n",
      "Num.Clusters: 3. Clusters proportions: [0.36936077 0.38128663 0.2493526 ]\n",
      "Num.Folds: 28. Fold size: 524.\n",
      "Distance matrix size: 315 (0.6*524) \n",
      "Num.Clusters: 3. Clusters proportions: [0.2824724  0.47260461 0.24492299]\n"
     ]
    },
    {
     "name": "stderr",
     "output_type": "stream",
     "text": [
      "[I 2024-05-04 19:15:59,676] Trial 3 finished with value: -186290.2655812777 and parameters: {'preprocessing__quant__imputer__method': 'iterative_mean', 'preprocessing__cat__imputer__method': 'simple_most_frequent', 'preprocessing__quant__scaler__apply': True, 'preprocessing__cat__encoder__method': 'ordinal', 'features_selector__apply': False, 'preprocessing__quant__scaler__method': 'min-max', 'clustering_model__n_clusters': 3, 'clustering_model__method': 'pam', 'clustering_model__init': 'heuristic', 'clustering_model__frac_sample_size': 0.6, 'clustering_model__d1': 'robust_mahalanobis', 'clustering_model__d2': 'sokal', 'clustering_model__n_splits': 28, 'clustering_model__robust_maha_method': 'trimmed', 'clustering_model__alpha': 0.05, 'clustering_model__estimators__0__n_estimators': 106, 'clustering_model__estimators__0__max_depth': 30, 'clustering_model__estimators__0__min_samples_split': 2, 'clustering_model__estimators__0__min_samples_leaf': 8, 'clustering_model__estimators__1__max_depth': 5, 'clustering_model__estimators__1__lambda': 0.30000000000000004, 'clustering_model__estimators__1__n_estimators': 150, 'clustering_model__estimators__1__eta': 0.18, 'clustering_model__estimators__1__alpha': 0.43000000000000005, 'clustering_model__estimators__2__n_estimators': 94, 'clustering_model__estimators__2__max_depth': 40, 'clustering_model__estimators__2__min_samples_split': 19, 'clustering_model__estimators__2__min_samples_leaf': 25}. Best is trial 3 with value: -186290.2655812777.\n"
     ]
    },
    {
     "name": "stdout",
     "output_type": "stream",
     "text": [
      "Num.Folds: 47. Fold size: 312.\n",
      "Distance matrix size: 63 (0.2*312) \n",
      "Num.Clusters: 3. Clusters proportions: [0.55714578 0.44285422]\n",
      "Num.Folds: 47. Fold size: 312.\n",
      "Distance matrix size: 63 (0.2*312) \n",
      "Num.Clusters: 3. Clusters proportions: [1.]\n",
      "Num.Folds: 47. Fold size: 312.\n",
      "Distance matrix size: 63 (0.2*312) \n",
      "Num.Clusters: 3. Clusters proportions: [0.35000681 0.23974376 0.41024942]\n",
      "Num.Folds: 47. Fold size: 312.\n",
      "Distance matrix size: 63 (0.2*312) \n",
      "Num.Clusters: 3. Clusters proportions: [1.]\n"
     ]
    },
    {
     "name": "stderr",
     "output_type": "stream",
     "text": [
      "[W 2024-05-04 19:17:31,451] Trial 4 failed with parameters: {'preprocessing__quant__imputer__method': 'iterative_median', 'preprocessing__cat__imputer__method': 'simple_most_frequent', 'preprocessing__quant__scaler__apply': False, 'preprocessing__cat__encoder__method': 'ordinal', 'features_selector__apply': False, 'clustering_model__n_clusters': 3, 'clustering_model__method': 'alternate', 'clustering_model__init': 'heuristic', 'clustering_model__frac_sample_size': 0.2, 'clustering_model__d1': 'robust_mahalanobis', 'clustering_model__d2': 'sokal', 'clustering_model__n_splits': 47, 'clustering_model__robust_maha_method': 'winsorized', 'clustering_model__alpha': 0.2, 'clustering_model__estimators__0__n_estimators': 78, 'clustering_model__estimators__0__max_depth': 7, 'clustering_model__estimators__0__min_samples_split': 10, 'clustering_model__estimators__0__min_samples_leaf': 11, 'clustering_model__estimators__1__max_depth': 7, 'clustering_model__estimators__1__lambda': 0.2, 'clustering_model__estimators__1__n_estimators': 150, 'clustering_model__estimators__1__eta': 0.06, 'clustering_model__estimators__1__alpha': 0.29000000000000004, 'clustering_model__estimators__2__n_estimators': 71, 'clustering_model__estimators__2__max_depth': 30, 'clustering_model__estimators__2__min_samples_split': 19, 'clustering_model__estimators__2__min_samples_leaf': 15} because of the following error: The value nan is not acceptable.\n",
      "[W 2024-05-04 19:17:31,451] Trial 4 failed with value nan.\n"
     ]
    },
    {
     "name": "stdout",
     "output_type": "stream",
     "text": [
      "Num.Folds: 15. Fold size: 978.\n",
      "Distance matrix size: 343 (0.35*978) \n",
      "Num.Clusters: 3. Clusters proportions: [0.46745723 0.48442718 0.04811559]\n",
      "Num.Folds: 15. Fold size: 978.\n",
      "Distance matrix size: 343 (0.35*978) \n",
      "Num.Clusters: 3. Clusters proportions: [0.06058334 0.04886193 0.89055472]\n",
      "Num.Folds: 15. Fold size: 978.\n",
      "Distance matrix size: 343 (0.35*978) \n",
      "Num.Clusters: 3. Clusters proportions: [0.03598201 0.94166553 0.02235246]\n",
      "Num.Folds: 15. Fold size: 978.\n",
      "Distance matrix size: 343 (0.35*978) \n",
      "Num.Clusters: 3. Clusters proportions: [0.04565899 0.77654355 0.17779746]\n"
     ]
    },
    {
     "name": "stderr",
     "output_type": "stream",
     "text": [
      "[I 2024-05-04 19:18:50,332] Trial 5 finished with value: -184967.4161747315 and parameters: {'preprocessing__quant__imputer__method': 'iterative_median', 'preprocessing__cat__imputer__method': 'simple_most_frequent', 'preprocessing__quant__scaler__apply': True, 'preprocessing__cat__encoder__method': 'ordinal', 'features_selector__apply': False, 'preprocessing__quant__scaler__method': 'min-max', 'clustering_model__n_clusters': 3, 'clustering_model__method': 'alternate', 'clustering_model__init': 'k-medoids++', 'clustering_model__frac_sample_size': 0.35, 'clustering_model__d1': 'robust_mahalanobis', 'clustering_model__d2': 'jaccard', 'clustering_model__n_splits': 15, 'clustering_model__robust_maha_method': 'MAD', 'clustering_model__estimators__0__n_estimators': 65, 'clustering_model__estimators__0__max_depth': 7, 'clustering_model__estimators__0__min_samples_split': 12, 'clustering_model__estimators__0__min_samples_leaf': 2, 'clustering_model__estimators__1__max_depth': 5, 'clustering_model__estimators__1__lambda': 0.5, 'clustering_model__estimators__1__n_estimators': 180, 'clustering_model__estimators__1__eta': 0.3, 'clustering_model__estimators__1__alpha': 0.53, 'clustering_model__estimators__2__n_estimators': 96, 'clustering_model__estimators__2__max_depth': 40, 'clustering_model__estimators__2__min_samples_split': 17, 'clustering_model__estimators__2__min_samples_leaf': 12}. Best is trial 5 with value: -184967.4161747315.\n"
     ]
    },
    {
     "name": "stdout",
     "output_type": "stream",
     "text": [
      "Num.Folds: 14. Fold size: 1048.\n",
      "Distance matrix size: 158 (0.15*1048) \n",
      "Num.Clusters: 2. Clusters proportions: [0.03284945 0.96715055]\n",
      "Num.Folds: 14. Fold size: 1048.\n",
      "Distance matrix size: 158 (0.15*1048) \n",
      "Num.Clusters: 2. Clusters proportions: [0.23769933 0.76230067]\n",
      "Num.Folds: 14. Fold size: 1048.\n",
      "Distance matrix size: 158 (0.15*1048) \n",
      "Num.Clusters: 2. Clusters proportions: [0.02657762 0.97342238]\n",
      "Num.Folds: 14. Fold size: 1048.\n",
      "Distance matrix size: 158 (0.15*1048) \n",
      "Num.Clusters: 2. Clusters proportions: [0.01887693 0.98112307]\n"
     ]
    },
    {
     "name": "stderr",
     "output_type": "stream",
     "text": [
      "[I 2024-05-04 19:19:37,335] Trial 6 finished with value: -220231.56638282648 and parameters: {'preprocessing__quant__imputer__method': 'iterative_mean', 'preprocessing__cat__imputer__method': 'simple_most_frequent', 'preprocessing__quant__scaler__apply': False, 'preprocessing__cat__encoder__method': 'ordinal', 'features_selector__apply': False, 'clustering_model__n_clusters': 2, 'clustering_model__method': 'pam', 'clustering_model__init': 'heuristic', 'clustering_model__frac_sample_size': 0.15, 'clustering_model__d1': 'robust_mahalanobis', 'clustering_model__d2': 'jaccard', 'clustering_model__n_splits': 14, 'clustering_model__robust_maha_method': 'trimmed', 'clustering_model__alpha': 0.3, 'clustering_model__estimators__0__n_estimators': 52, 'clustering_model__estimators__0__max_depth': 5, 'clustering_model__estimators__0__min_samples_split': 9, 'clustering_model__estimators__0__min_samples_leaf': 12, 'clustering_model__estimators__1__max_depth': 10, 'clustering_model__estimators__1__lambda': 0.5, 'clustering_model__estimators__1__n_estimators': 30, 'clustering_model__estimators__1__eta': 0.04, 'clustering_model__estimators__1__alpha': 0.9199999999999999}. Best is trial 5 with value: -184967.4161747315.\n"
     ]
    },
    {
     "name": "stdout",
     "output_type": "stream",
     "text": [
      "Num.Folds: 4. Fold size: 3668.\n",
      "Distance matrix size: 1101 (0.3*3668) \n",
      "Num.Clusters: 3. Clusters proportions: [0.04239079 0.5476726  0.40993662]\n",
      "Num.Folds: 4. Fold size: 3668.\n",
      "Distance matrix size: 1101 (0.3*3668) \n",
      "Num.Clusters: 3. Clusters proportions: [0.42926264 0.52589614 0.04484122]\n",
      "Num.Folds: 4. Fold size: 3668.\n",
      "Distance matrix size: 1101 (0.3*3668) \n",
      "Num.Clusters: 3. Clusters proportions: [0.78451683 0.08961428 0.12586888]\n",
      "Num.Folds: 4. Fold size: 3668.\n",
      "Distance matrix size: 1101 (0.3*3668) \n",
      "Num.Clusters: 3. Clusters proportions: [0.00783699 0.92755895 0.06460406]\n"
     ]
    },
    {
     "name": "stderr",
     "output_type": "stream",
     "text": [
      "[I 2024-05-04 19:21:27,001] Trial 7 finished with value: -192963.31690579487 and parameters: {'preprocessing__quant__imputer__method': 'iterative_median', 'preprocessing__cat__imputer__method': 'simple_most_frequent', 'preprocessing__quant__scaler__apply': False, 'preprocessing__cat__encoder__method': 'ordinal', 'features_selector__apply': False, 'clustering_model__n_clusters': 3, 'clustering_model__method': 'alternate', 'clustering_model__init': 'k-medoids++', 'clustering_model__frac_sample_size': 0.3, 'clustering_model__d1': 'robust_mahalanobis', 'clustering_model__d2': 'jaccard', 'clustering_model__n_splits': 4, 'clustering_model__robust_maha_method': 'trimmed', 'clustering_model__alpha': 0.25, 'clustering_model__estimators__0__n_estimators': 67, 'clustering_model__estimators__0__max_depth': 50, 'clustering_model__estimators__0__min_samples_split': 15, 'clustering_model__estimators__0__min_samples_leaf': 6, 'clustering_model__estimators__1__max_depth': 7, 'clustering_model__estimators__1__lambda': 0.0, 'clustering_model__estimators__1__n_estimators': 70, 'clustering_model__estimators__1__eta': 0.24, 'clustering_model__estimators__1__alpha': 0.5900000000000001, 'clustering_model__estimators__2__n_estimators': 81, 'clustering_model__estimators__2__max_depth': 5, 'clustering_model__estimators__2__min_samples_split': 18, 'clustering_model__estimators__2__min_samples_leaf': 21}. Best is trial 5 with value: -184967.4161747315.\n"
     ]
    },
    {
     "name": "stdout",
     "output_type": "stream",
     "text": [
      "Num.Folds: 13. Fold size: 1128.\n",
      "Distance matrix size: 564 (0.5*1128) \n",
      "Num.Clusters: 2. Clusters proportions: [0.95740476 0.04259524]\n",
      "Num.Folds: 13. Fold size: 1128.\n",
      "Distance matrix size: 564 (0.5*1128) \n",
      "Num.Clusters: 2. Clusters proportions: [0.96245059 0.03754941]\n",
      "Num.Folds: 13. Fold size: 1128.\n",
      "Distance matrix size: 564 (0.5*1128) \n",
      "Num.Clusters: 2. Clusters proportions: [0.02814502 0.97185498]\n",
      "Num.Folds: 13. Fold size: 1128.\n",
      "Distance matrix size: 564 (0.5*1128) \n",
      "Num.Clusters: 2. Clusters proportions: [0.94336922 0.05663078]\n"
     ]
    },
    {
     "name": "stderr",
     "output_type": "stream",
     "text": [
      "[I 2024-05-04 19:23:41,110] Trial 8 finished with value: -184096.78902281323 and parameters: {'preprocessing__quant__imputer__method': 'simple_mean', 'preprocessing__cat__imputer__method': 'simple_most_frequent', 'preprocessing__quant__scaler__apply': False, 'preprocessing__cat__encoder__method': 'ordinal', 'features_selector__apply': False, 'clustering_model__n_clusters': 2, 'clustering_model__method': 'pam', 'clustering_model__init': 'k-medoids++', 'clustering_model__frac_sample_size': 0.5, 'clustering_model__d1': 'robust_mahalanobis', 'clustering_model__d2': 'jaccard', 'clustering_model__n_splits': 13, 'clustering_model__robust_maha_method': 'MAD', 'clustering_model__estimators__0__n_estimators': 63, 'clustering_model__estimators__0__max_depth': 50, 'clustering_model__estimators__0__min_samples_split': 20, 'clustering_model__estimators__0__min_samples_leaf': 14, 'clustering_model__estimators__1__max_depth': None, 'clustering_model__estimators__1__lambda': 0.2, 'clustering_model__estimators__1__n_estimators': 150, 'clustering_model__estimators__1__eta': 0.06, 'clustering_model__estimators__1__alpha': 0.27}. Best is trial 8 with value: -184096.78902281323.\n"
     ]
    },
    {
     "name": "stdout",
     "output_type": "stream",
     "text": [
      "Num.Folds: 34. Fold size: 431.\n",
      "Distance matrix size: 216 (0.5*431) \n",
      "Num.Clusters: 2. Clusters proportions: [0.96926327 0.03073673]\n",
      "Num.Folds: 34. Fold size: 431.\n",
      "Distance matrix size: 216 (0.5*431) \n",
      "Num.Clusters: 2. Clusters proportions: [0.97410386 0.02589614]\n",
      "Num.Folds: 34. Fold size: 431.\n",
      "Distance matrix size: 216 (0.5*431) \n",
      "Num.Clusters: 2. Clusters proportions: [0.099632 0.900368]\n",
      "Num.Folds: 34. Fold size: 431.\n",
      "Distance matrix size: 216 (0.5*431) \n",
      "Num.Clusters: 2. Clusters proportions: [0.9834401 0.0165599]\n"
     ]
    },
    {
     "name": "stderr",
     "output_type": "stream",
     "text": [
      "[I 2024-05-04 19:26:29,248] Trial 9 finished with value: -210680.195975984 and parameters: {'preprocessing__quant__imputer__method': 'simple_median', 'preprocessing__cat__imputer__method': 'simple_most_frequent', 'preprocessing__quant__scaler__apply': False, 'preprocessing__cat__encoder__method': 'ordinal', 'features_selector__apply': False, 'clustering_model__n_clusters': 2, 'clustering_model__method': 'pam', 'clustering_model__init': 'k-medoids++', 'clustering_model__frac_sample_size': 0.5, 'clustering_model__d1': 'robust_mahalanobis', 'clustering_model__d2': 'sokal', 'clustering_model__n_splits': 34, 'clustering_model__robust_maha_method': 'MAD', 'clustering_model__estimators__0__n_estimators': 57, 'clustering_model__estimators__0__max_depth': 3, 'clustering_model__estimators__0__min_samples_split': 22, 'clustering_model__estimators__0__min_samples_leaf': 3, 'clustering_model__estimators__1__max_depth': 7, 'clustering_model__estimators__1__lambda': 0.2, 'clustering_model__estimators__1__n_estimators': 150, 'clustering_model__estimators__1__eta': 0.18, 'clustering_model__estimators__1__alpha': 0.8800000000000001}. Best is trial 8 with value: -184096.78902281323.\n"
     ]
    },
    {
     "name": "stdout",
     "output_type": "stream",
     "text": [
      "Num.Folds: 49. Fold size: 299.\n",
      "Distance matrix size: 150 (0.5*299) \n",
      "Num.Clusters: 2. Clusters proportions: [0.9786683 0.0213317]\n",
      "Num.Folds: 49. Fold size: 299.\n",
      "Distance matrix size: 150 (0.5*299) \n",
      "Num.Clusters: 2. Clusters proportions: [0.96906092 0.03093908]\n",
      "Num.Folds: 49. Fold size: 299.\n",
      "Distance matrix size: 150 (0.5*299) \n",
      "Num.Clusters: 2. Clusters proportions: [0.96497206 0.03502794]\n",
      "Num.Folds: 49. Fold size: 299.\n",
      "Distance matrix size: 150 (0.5*299) \n",
      "Num.Clusters: 2. Clusters proportions: [0.03352869 0.96647131]\n"
     ]
    },
    {
     "name": "stderr",
     "output_type": "stream",
     "text": [
      "[I 2024-05-04 19:30:32,622] Trial 10 finished with value: -192201.26337872518 and parameters: {'preprocessing__quant__imputer__method': 'simple_mean', 'preprocessing__cat__imputer__method': 'simple_most_frequent', 'preprocessing__quant__scaler__apply': True, 'preprocessing__cat__encoder__method': 'ordinal', 'features_selector__apply': False, 'preprocessing__quant__scaler__method': 'min-max', 'clustering_model__n_clusters': 2, 'clustering_model__method': 'alternate', 'clustering_model__init': 'k-medoids++', 'clustering_model__frac_sample_size': 0.5, 'clustering_model__d1': 'robust_mahalanobis', 'clustering_model__d2': 'jaccard', 'clustering_model__n_splits': 49, 'clustering_model__robust_maha_method': 'MAD', 'clustering_model__estimators__0__n_estimators': 99, 'clustering_model__estimators__0__max_depth': 7, 'clustering_model__estimators__0__min_samples_split': 16, 'clustering_model__estimators__0__min_samples_leaf': 14, 'clustering_model__estimators__1__max_depth': 10, 'clustering_model__estimators__1__lambda': 0.1, 'clustering_model__estimators__1__n_estimators': 150, 'clustering_model__estimators__1__eta': 0.26, 'clustering_model__estimators__1__alpha': 0.54}. Best is trial 8 with value: -184096.78902281323.\n"
     ]
    },
    {
     "name": "stdout",
     "output_type": "stream",
     "text": [
      "Num.Folds: 40. Fold size: 366.\n",
      "Distance matrix size: 92 (0.25*366) \n",
      "Num.Clusters: 2. Clusters proportions: [0.96047161 0.03952839]\n",
      "Num.Folds: 40. Fold size: 366.\n",
      "Distance matrix size: 92 (0.25*366) \n",
      "Num.Clusters: 2. Clusters proportions: [0.0422516 0.9577484]\n",
      "Num.Folds: 40. Fold size: 366.\n",
      "Distance matrix size: 92 (0.25*366) \n",
      "Num.Clusters: 2. Clusters proportions: [0.02650947 0.97349053]\n",
      "Num.Folds: 40. Fold size: 366.\n",
      "Distance matrix size: 92 (0.25*366) \n",
      "Num.Clusters: 2. Clusters proportions: [0.96224615 0.03775385]\n"
     ]
    },
    {
     "name": "stderr",
     "output_type": "stream",
     "text": [
      "[I 2024-05-04 19:33:50,021] Trial 11 finished with value: -186478.64716487864 and parameters: {'preprocessing__quant__imputer__method': 'simple_median', 'preprocessing__cat__imputer__method': 'simple_most_frequent', 'preprocessing__quant__scaler__apply': False, 'preprocessing__cat__encoder__method': 'ordinal', 'features_selector__apply': False, 'clustering_model__n_clusters': 2, 'clustering_model__method': 'pam', 'clustering_model__init': 'k-medoids++', 'clustering_model__frac_sample_size': 0.25, 'clustering_model__d1': 'robust_mahalanobis', 'clustering_model__d2': 'jaccard', 'clustering_model__n_splits': 40, 'clustering_model__robust_maha_method': 'MAD', 'clustering_model__estimators__0__n_estimators': 82, 'clustering_model__estimators__0__max_depth': 50, 'clustering_model__estimators__0__min_samples_split': 20, 'clustering_model__estimators__0__min_samples_leaf': 23, 'clustering_model__estimators__1__max_depth': None, 'clustering_model__estimators__1__lambda': 0.30000000000000004, 'clustering_model__estimators__1__n_estimators': 100, 'clustering_model__estimators__1__eta': 0.1, 'clustering_model__estimators__1__alpha': 0.21000000000000002}. Best is trial 8 with value: -184096.78902281323.\n"
     ]
    },
    {
     "name": "stdout",
     "output_type": "stream",
     "text": [
      "Num.Folds: 17. Fold size: 863.\n",
      "Distance matrix size: 87 (0.1*863) \n",
      "Num.Clusters: 3. Clusters proportions: [0.9401622  0.02651128 0.03332652]\n",
      "Num.Folds: 17. Fold size: 863.\n",
      "Distance matrix size: 87 (0.1*863) \n",
      "Num.Clusters: 3. Clusters proportions: [0.05744855 0.81054927 0.13200218]\n",
      "Num.Folds: 17. Fold size: 863.\n",
      "Distance matrix size: 87 (0.1*863) \n",
      "Num.Clusters: 3. Clusters proportions: [0.43716778 0.0528145  0.51001772]\n",
      "Num.Folds: 17. Fold size: 863.\n",
      "Distance matrix size: 87 (0.1*863) \n",
      "Num.Clusters: 3. Clusters proportions: [0.7900368  0.04709009 0.16287311]\n"
     ]
    },
    {
     "name": "stderr",
     "output_type": "stream",
     "text": [
      "[I 2024-05-04 19:35:42,761] Trial 12 finished with value: -185361.73584544298 and parameters: {'preprocessing__quant__imputer__method': 'iterative_median', 'preprocessing__cat__imputer__method': 'simple_most_frequent', 'preprocessing__quant__scaler__apply': True, 'preprocessing__cat__encoder__method': 'ordinal', 'features_selector__apply': False, 'preprocessing__quant__scaler__method': 'min-max', 'clustering_model__n_clusters': 3, 'clustering_model__method': 'alternate', 'clustering_model__init': 'k-medoids++', 'clustering_model__frac_sample_size': 0.1, 'clustering_model__d1': 'robust_mahalanobis', 'clustering_model__d2': 'jaccard', 'clustering_model__n_splits': 17, 'clustering_model__robust_maha_method': 'MAD', 'clustering_model__estimators__0__n_estimators': 67, 'clustering_model__estimators__0__max_depth': 20, 'clustering_model__estimators__0__min_samples_split': 6, 'clustering_model__estimators__0__min_samples_leaf': 21, 'clustering_model__estimators__1__max_depth': None, 'clustering_model__estimators__1__lambda': 0.4, 'clustering_model__estimators__1__n_estimators': 50, 'clustering_model__estimators__1__eta': 0.3, 'clustering_model__estimators__1__alpha': 0.25, 'clustering_model__estimators__2__n_estimators': 120, 'clustering_model__estimators__2__max_depth': 50, 'clustering_model__estimators__2__min_samples_split': 25, 'clustering_model__estimators__2__min_samples_leaf': 5}. Best is trial 8 with value: -184096.78902281323.\n"
     ]
    },
    {
     "name": "stdout",
     "output_type": "stream",
     "text": [
      "Num.Folds: 4. Fold size: 3668.\n",
      "Distance matrix size: 1284 (0.35*3668) \n",
      "Num.Clusters: 3. Clusters proportions: [0.27369999 0.71007974 0.01622027]\n",
      "Num.Folds: 4. Fold size: 3668.\n",
      "Distance matrix size: 1284 (0.35*3668) \n",
      "Num.Clusters: 3. Clusters proportions: [0.02603244 0.26638953 0.70757803]\n",
      "Num.Folds: 4. Fold size: 3668.\n",
      "Distance matrix size: 1284 (0.35*3668) \n",
      "Num.Clusters: 3. Clusters proportions: [0.00620144 0.08518468 0.90861387]\n",
      "Num.Folds: 4. Fold size: 3668.\n",
      "Distance matrix size: 1284 (0.35*3668) \n",
      "Num.Clusters: 3. Clusters proportions: [0.55690337 0.06814774 0.37494889]\n"
     ]
    },
    {
     "name": "stderr",
     "output_type": "stream",
     "text": [
      "[I 2024-05-04 19:36:55,942] Trial 13 finished with value: -212736.50587842378 and parameters: {'preprocessing__quant__imputer__method': 'iterative_median', 'preprocessing__cat__imputer__method': 'simple_most_frequent', 'preprocessing__quant__scaler__apply': True, 'preprocessing__cat__encoder__method': 'ordinal', 'features_selector__apply': False, 'preprocessing__quant__scaler__method': 'min-max', 'clustering_model__n_clusters': 3, 'clustering_model__method': 'alternate', 'clustering_model__init': 'k-medoids++', 'clustering_model__frac_sample_size': 0.35, 'clustering_model__d1': 'robust_mahalanobis', 'clustering_model__d2': 'jaccard', 'clustering_model__n_splits': 4, 'clustering_model__robust_maha_method': 'MAD', 'clustering_model__estimators__0__n_estimators': 79, 'clustering_model__estimators__0__max_depth': 40, 'clustering_model__estimators__0__min_samples_split': 18, 'clustering_model__estimators__0__min_samples_leaf': 19, 'clustering_model__estimators__1__max_depth': 3, 'clustering_model__estimators__1__lambda': 0.2, 'clustering_model__estimators__1__n_estimators': 180, 'clustering_model__estimators__1__eta': 0.1, 'clustering_model__estimators__1__alpha': 0.39, 'clustering_model__estimators__2__n_estimators': 102, 'clustering_model__estimators__2__max_depth': 3, 'clustering_model__estimators__2__min_samples_split': 8, 'clustering_model__estimators__2__min_samples_leaf': 10}. Best is trial 8 with value: -184096.78902281323.\n"
     ]
    },
    {
     "name": "stdout",
     "output_type": "stream",
     "text": [
      "Num.Folds: 21. Fold size: 698.\n",
      "Distance matrix size: 245 (0.35*698) \n",
      "Num.Clusters: 3. Clusters proportions: [0.06154161 0.13071628 0.80774211]\n",
      "Num.Folds: 21. Fold size: 698.\n",
      "Distance matrix size: 245 (0.35*698) \n",
      "Num.Clusters: 3. Clusters proportions: [0.46538095 0.05567671 0.47894235]\n",
      "Num.Folds: 21. Fold size: 698.\n",
      "Distance matrix size: 245 (0.35*698) \n",
      "Num.Clusters: 3. Clusters proportions: [9.67561674e-01 2.04443233e-04 3.22338831e-02]\n",
      "Num.Folds: 21. Fold size: 698.\n",
      "Distance matrix size: 245 (0.35*698) \n",
      "Num.Clusters: 3. Clusters proportions: [0.04177457 0.20819136 0.75003407]\n"
     ]
    },
    {
     "name": "stderr",
     "output_type": "stream",
     "text": [
      "[I 2024-05-04 19:38:24,977] Trial 14 finished with value: -186623.33225871949 and parameters: {'preprocessing__quant__imputer__method': 'iterative_median', 'preprocessing__cat__imputer__method': 'simple_most_frequent', 'preprocessing__quant__scaler__apply': False, 'preprocessing__cat__encoder__method': 'ordinal', 'features_selector__apply': False, 'clustering_model__n_clusters': 3, 'clustering_model__method': 'alternate', 'clustering_model__init': 'k-medoids++', 'clustering_model__frac_sample_size': 0.35, 'clustering_model__d1': 'robust_mahalanobis', 'clustering_model__d2': 'jaccard', 'clustering_model__n_splits': 21, 'clustering_model__robust_maha_method': 'MAD', 'clustering_model__estimators__0__n_estimators': 59, 'clustering_model__estimators__0__max_depth': 50, 'clustering_model__estimators__0__min_samples_split': 13, 'clustering_model__estimators__0__min_samples_leaf': 9, 'clustering_model__estimators__1__max_depth': 20, 'clustering_model__estimators__1__lambda': 0.4, 'clustering_model__estimators__1__n_estimators': 180, 'clustering_model__estimators__1__eta': 0.1, 'clustering_model__estimators__1__alpha': 0.72, 'clustering_model__estimators__2__n_estimators': 72, 'clustering_model__estimators__2__max_depth': None, 'clustering_model__estimators__2__min_samples_split': 13, 'clustering_model__estimators__2__min_samples_leaf': 13}. Best is trial 8 with value: -184096.78902281323.\n"
     ]
    },
    {
     "name": "stdout",
     "output_type": "stream",
     "text": [
      "Num.Folds: 9. Fold size: 1630.\n",
      "Distance matrix size: 571 (0.35*1630) \n",
      "Num.Clusters: 2. Clusters proportions: [0.96803653 0.03196347]\n",
      "Num.Folds: 9. Fold size: 1630.\n",
      "Distance matrix size: 571 (0.35*1630) \n",
      "Num.Clusters: 2. Clusters proportions: [0.26236882 0.73763118]\n",
      "Num.Folds: 9. Fold size: 1630.\n",
      "Distance matrix size: 571 (0.35*1630) \n",
      "Num.Clusters: 2. Clusters proportions: [0.03966199 0.96033801]\n",
      "Num.Folds: 9. Fold size: 1630.\n",
      "Distance matrix size: 571 (0.35*1630) \n",
      "Num.Clusters: 2. Clusters proportions: [0.94991141 0.05008859]\n"
     ]
    },
    {
     "name": "stderr",
     "output_type": "stream",
     "text": [
      "[I 2024-05-04 19:39:17,916] Trial 15 finished with value: -310518.3317339742 and parameters: {'preprocessing__quant__imputer__method': 'simple_mean', 'preprocessing__cat__imputer__method': 'simple_most_frequent', 'preprocessing__quant__scaler__apply': True, 'preprocessing__cat__encoder__method': 'ordinal', 'features_selector__apply': False, 'preprocessing__quant__scaler__method': 'min-max', 'clustering_model__n_clusters': 2, 'clustering_model__method': 'pam', 'clustering_model__init': 'k-medoids++', 'clustering_model__frac_sample_size': 0.35, 'clustering_model__d1': 'robust_mahalanobis', 'clustering_model__d2': 'jaccard', 'clustering_model__n_splits': 9, 'clustering_model__robust_maha_method': 'MAD', 'clustering_model__estimators__0__n_estimators': 50, 'clustering_model__estimators__0__max_depth': 7, 'clustering_model__estimators__0__min_samples_split': 24, 'clustering_model__estimators__0__min_samples_leaf': 3, 'clustering_model__estimators__1__max_depth': 50, 'clustering_model__estimators__1__lambda': 0.4, 'clustering_model__estimators__1__n_estimators': 100, 'clustering_model__estimators__1__eta': 0.0, 'clustering_model__estimators__1__alpha': 0.37}. Best is trial 8 with value: -184096.78902281323.\n"
     ]
    },
    {
     "name": "stdout",
     "output_type": "stream",
     "text": [
      "Num.Folds: 20. Fold size: 733.\n",
      "Distance matrix size: 367 (0.5*733) \n",
      "Num.Clusters: 3. Clusters proportions: [0.80065426 0.00333947 0.19600627]\n",
      "Num.Folds: 20. Fold size: 733.\n",
      "Distance matrix size: 367 (0.5*733) \n",
      "Num.Clusters: 3. Clusters proportions: [0.75323702 0.02351097 0.22325201]\n",
      "Num.Folds: 20. Fold size: 733.\n",
      "Distance matrix size: 367 (0.5*733) \n",
      "Num.Clusters: 3. Clusters proportions: [0.12982145 0.03421017 0.83596838]\n",
      "Num.Folds: 20. Fold size: 733.\n",
      "Distance matrix size: 367 (0.5*733) \n",
      "Num.Clusters: 3. Clusters proportions: [0.65994276 0.11401118 0.22604607]\n"
     ]
    },
    {
     "name": "stderr",
     "output_type": "stream",
     "text": [
      "[I 2024-05-04 19:41:11,769] Trial 16 finished with value: -191301.78403532348 and parameters: {'preprocessing__quant__imputer__method': 'iterative_median', 'preprocessing__cat__imputer__method': 'simple_most_frequent', 'preprocessing__quant__scaler__apply': False, 'preprocessing__cat__encoder__method': 'ordinal', 'features_selector__apply': False, 'clustering_model__n_clusters': 3, 'clustering_model__method': 'alternate', 'clustering_model__init': 'random', 'clustering_model__frac_sample_size': 0.5, 'clustering_model__d1': 'robust_mahalanobis', 'clustering_model__d2': 'jaccard', 'clustering_model__n_splits': 20, 'clustering_model__robust_maha_method': 'MAD', 'clustering_model__estimators__0__n_estimators': 74, 'clustering_model__estimators__0__max_depth': 3, 'clustering_model__estimators__0__min_samples_split': 18, 'clustering_model__estimators__0__min_samples_leaf': 19, 'clustering_model__estimators__1__max_depth': 30, 'clustering_model__estimators__1__lambda': 0.1, 'clustering_model__estimators__1__n_estimators': 50, 'clustering_model__estimators__1__eta': 0.06, 'clustering_model__estimators__1__alpha': 0.73, 'clustering_model__estimators__2__n_estimators': 111, 'clustering_model__estimators__2__max_depth': 10, 'clustering_model__estimators__2__min_samples_split': 13, 'clustering_model__estimators__2__min_samples_leaf': 4}. Best is trial 8 with value: -184096.78902281323.\n"
     ]
    },
    {
     "name": "stdout",
     "output_type": "stream",
     "text": [
      "Num.Folds: 10. Fold size: 1467.\n",
      "Distance matrix size: 441 (0.3*1467) \n",
      "Num.Clusters: 2. Clusters proportions: [0.96381108 0.03618892]\n",
      "Num.Folds: 10. Fold size: 1467.\n",
      "Distance matrix size: 441 (0.3*1467) \n",
      "Num.Clusters: 2. Clusters proportions: [0.01063105 0.98936895]\n",
      "Num.Folds: 10. Fold size: 1467.\n",
      "Distance matrix size: 441 (0.3*1467) \n",
      "Num.Clusters: 2. Clusters proportions: [0.98023715 0.01976285]\n",
      "Num.Folds: 10. Fold size: 1467.\n",
      "Distance matrix size: 441 (0.3*1467) \n",
      "Num.Clusters: 2. Clusters proportions: [0.12178002 0.87821998]\n"
     ]
    },
    {
     "name": "stderr",
     "output_type": "stream",
     "text": [
      "[I 2024-05-04 19:42:53,598] Trial 17 finished with value: -184877.74677707415 and parameters: {'preprocessing__quant__imputer__method': 'simple_mean', 'preprocessing__cat__imputer__method': 'simple_most_frequent', 'preprocessing__quant__scaler__apply': True, 'preprocessing__cat__encoder__method': 'ordinal', 'features_selector__apply': False, 'preprocessing__quant__scaler__method': 'standard', 'clustering_model__n_clusters': 2, 'clustering_model__method': 'alternate', 'clustering_model__init': 'k-medoids++', 'clustering_model__frac_sample_size': 0.3, 'clustering_model__d1': 'robust_mahalanobis', 'clustering_model__d2': 'jaccard', 'clustering_model__n_splits': 10, 'clustering_model__robust_maha_method': 'winsorized', 'clustering_model__alpha': 0.09, 'clustering_model__estimators__0__n_estimators': 88, 'clustering_model__estimators__0__max_depth': 20, 'clustering_model__estimators__0__min_samples_split': 5, 'clustering_model__estimators__0__min_samples_leaf': 11, 'clustering_model__estimators__1__max_depth': None, 'clustering_model__estimators__1__lambda': 0.30000000000000004, 'clustering_model__estimators__1__n_estimators': 150, 'clustering_model__estimators__1__eta': 0.3, 'clustering_model__estimators__1__alpha': 0.49}. Best is trial 8 with value: -184096.78902281323.\n"
     ]
    },
    {
     "name": "stdout",
     "output_type": "stream",
     "text": [
      "Num.Folds: 8. Fold size: 1834.\n",
      "Distance matrix size: 551 (0.3*1834) \n",
      "Num.Clusters: 2. Clusters proportions: [0.79956382 0.20043618]\n",
      "Num.Folds: 8. Fold size: 1834.\n",
      "Distance matrix size: 551 (0.3*1834) \n",
      "Num.Clusters: 2. Clusters proportions: [0.34912089 0.65087911]\n",
      "Num.Folds: 8. Fold size: 1834.\n",
      "Distance matrix size: 551 (0.3*1834) \n",
      "Num.Clusters: 2. Clusters proportions: [0.26318659 0.73681341]\n",
      "Num.Folds: 8. Fold size: 1834.\n",
      "Distance matrix size: 551 (0.3*1834) \n",
      "Num.Clusters: 2. Clusters proportions: [0.98602971 0.01397029]\n"
     ]
    },
    {
     "name": "stderr",
     "output_type": "stream",
     "text": [
      "[I 2024-05-04 19:45:15,735] Trial 18 finished with value: -185137.29187488643 and parameters: {'preprocessing__quant__imputer__method': 'simple_mean', 'preprocessing__cat__imputer__method': 'simple_most_frequent', 'preprocessing__quant__scaler__apply': False, 'preprocessing__cat__encoder__method': 'ordinal', 'features_selector__apply': False, 'clustering_model__n_clusters': 2, 'clustering_model__method': 'pam', 'clustering_model__init': 'k-medoids++', 'clustering_model__frac_sample_size': 0.3, 'clustering_model__d1': 'robust_mahalanobis', 'clustering_model__d2': 'jaccard', 'clustering_model__n_splits': 8, 'clustering_model__robust_maha_method': 'winsorized', 'clustering_model__alpha': 0.09, 'clustering_model__estimators__0__n_estimators': 93, 'clustering_model__estimators__0__max_depth': 20, 'clustering_model__estimators__0__min_samples_split': 2, 'clustering_model__estimators__0__min_samples_leaf': 11, 'clustering_model__estimators__1__max_depth': None, 'clustering_model__estimators__1__lambda': 0.2, 'clustering_model__estimators__1__n_estimators': 150, 'clustering_model__estimators__1__eta': 0.14, 'clustering_model__estimators__1__alpha': 0.31}. Best is trial 8 with value: -184096.78902281323.\n"
     ]
    },
    {
     "name": "stdout",
     "output_type": "stream",
     "text": [
      "Num.Folds: 9. Fold size: 1630.\n",
      "Distance matrix size: 489 (0.3*1630) \n",
      "Num.Clusters: 2. Clusters proportions: [0.07074218 0.92925782]\n",
      "Num.Folds: 9. Fold size: 1630.\n",
      "Distance matrix size: 489 (0.3*1630) \n",
      "Num.Clusters: 2. Clusters proportions: [0.5862069 0.4137931]\n",
      "Num.Folds: 9. Fold size: 1630.\n",
      "Distance matrix size: 489 (0.3*1630) \n",
      "Num.Clusters: 2. Clusters proportions: [0.61053564 0.38946436]\n",
      "Num.Folds: 9. Fold size: 1630.\n",
      "Distance matrix size: 489 (0.3*1630) \n",
      "Num.Clusters: 2. Clusters proportions: [0.44221071 0.55778929]\n"
     ]
    },
    {
     "name": "stderr",
     "output_type": "stream",
     "text": [
      "[I 2024-05-04 19:46:28,868] Trial 19 finished with value: -185757.061043827 and parameters: {'preprocessing__quant__imputer__method': 'simple_mean', 'preprocessing__cat__imputer__method': 'simple_most_frequent', 'preprocessing__quant__scaler__apply': True, 'preprocessing__cat__encoder__method': 'ordinal', 'features_selector__apply': False, 'preprocessing__quant__scaler__method': 'standard', 'clustering_model__n_clusters': 2, 'clustering_model__method': 'alternate', 'clustering_model__init': 'random', 'clustering_model__frac_sample_size': 0.3, 'clustering_model__d1': 'robust_mahalanobis', 'clustering_model__d2': 'sokal', 'clustering_model__n_splits': 9, 'clustering_model__robust_maha_method': 'winsorized', 'clustering_model__alpha': 0.09, 'clustering_model__estimators__0__n_estimators': 85, 'clustering_model__estimators__0__max_depth': 20, 'clustering_model__estimators__0__min_samples_split': 6, 'clustering_model__estimators__0__min_samples_leaf': 17, 'clustering_model__estimators__1__max_depth': None, 'clustering_model__estimators__1__lambda': 0.30000000000000004, 'clustering_model__estimators__1__n_estimators': 150, 'clustering_model__estimators__1__eta': 0.06, 'clustering_model__estimators__1__alpha': 0.5}. Best is trial 8 with value: -184096.78902281323.\n"
     ]
    },
    {
     "name": "stdout",
     "output_type": "stream",
     "text": [
      "Num.Folds: 3. Fold size: 4891.\n",
      "Distance matrix size: 734 (0.15*4891) \n",
      "Num.Clusters: 2. Clusters proportions: [0.30000682 0.69999318]\n",
      "Num.Folds: 3. Fold size: 4891.\n",
      "Distance matrix size: 734 (0.15*4891) \n",
      "Num.Clusters: 2. Clusters proportions: [0.54088865 0.45911135]\n",
      "Num.Folds: 3. Fold size: 4891.\n",
      "Distance matrix size: 734 (0.15*4891) \n",
      "Num.Clusters: 2. Clusters proportions: [0.79623824 0.20376176]\n",
      "Num.Folds: 3. Fold size: 4891.\n",
      "Distance matrix size: 734 (0.15*4891) \n",
      "Num.Clusters: 2. Clusters proportions: [0.64849393 0.35150607]\n"
     ]
    },
    {
     "name": "stderr",
     "output_type": "stream",
     "text": [
      "[I 2024-05-04 19:47:28,908] Trial 20 finished with value: -191452.35457931805 and parameters: {'preprocessing__quant__imputer__method': 'simple_mean', 'preprocessing__cat__imputer__method': 'simple_most_frequent', 'preprocessing__quant__scaler__apply': False, 'preprocessing__cat__encoder__method': 'ordinal', 'features_selector__apply': False, 'clustering_model__n_clusters': 2, 'clustering_model__method': 'pam', 'clustering_model__init': 'heuristic', 'clustering_model__frac_sample_size': 0.15, 'clustering_model__d1': 'robust_mahalanobis', 'clustering_model__d2': 'jaccard', 'clustering_model__n_splits': 3, 'clustering_model__robust_maha_method': 'winsorized', 'clustering_model__alpha': 0.09, 'clustering_model__estimators__0__n_estimators': 99, 'clustering_model__estimators__0__max_depth': 5, 'clustering_model__estimators__0__min_samples_split': 6, 'clustering_model__estimators__0__min_samples_leaf': 25, 'clustering_model__estimators__1__max_depth': None, 'clustering_model__estimators__1__lambda': 0.0, 'clustering_model__estimators__1__n_estimators': 150, 'clustering_model__estimators__1__eta': 0.14, 'clustering_model__estimators__1__alpha': 0.29000000000000004}. Best is trial 8 with value: -184096.78902281323.\n"
     ]
    },
    {
     "name": "stdout",
     "output_type": "stream",
     "text": [
      "Num.Folds: 23. Fold size: 637.\n",
      "Distance matrix size: 446 (0.7*637) \n",
      "Num.Clusters: 2. Clusters proportions: [0.97307981 0.02692019]\n",
      "Num.Folds: 23. Fold size: 638.\n",
      "Distance matrix size: 447 (0.7*638) \n",
      "Num.Clusters: 2. Clusters proportions: [0.02528281 0.97471719]\n",
      "Num.Folds: 23. Fold size: 638.\n",
      "Distance matrix size: 447 (0.7*638) \n",
      "Num.Clusters: 2. Clusters proportions: [0.91215756 0.08784244]\n",
      "Num.Folds: 23. Fold size: 638.\n",
      "Distance matrix size: 447 (0.7*638) \n",
      "Num.Clusters: 2. Clusters proportions: [0.36513561 0.63486439]\n"
     ]
    },
    {
     "name": "stderr",
     "output_type": "stream",
     "text": [
      "[I 2024-05-04 19:49:06,966] Trial 21 finished with value: -189294.62083173546 and parameters: {'preprocessing__quant__imputer__method': 'simple_mean', 'preprocessing__cat__imputer__method': 'simple_most_frequent', 'preprocessing__quant__scaler__apply': True, 'preprocessing__cat__encoder__method': 'ordinal', 'features_selector__apply': False, 'preprocessing__quant__scaler__method': 'standard', 'clustering_model__n_clusters': 2, 'clustering_model__method': 'alternate', 'clustering_model__init': 'k-medoids++', 'clustering_model__frac_sample_size': 0.7, 'clustering_model__d1': 'robust_mahalanobis', 'clustering_model__d2': 'jaccard', 'clustering_model__n_splits': 23, 'clustering_model__robust_maha_method': 'winsorized', 'clustering_model__alpha': 0.15, 'clustering_model__estimators__0__n_estimators': 77, 'clustering_model__estimators__0__max_depth': None, 'clustering_model__estimators__0__min_samples_split': 9, 'clustering_model__estimators__0__min_samples_leaf': 10, 'clustering_model__estimators__1__max_depth': 50, 'clustering_model__estimators__1__lambda': 0.2, 'clustering_model__estimators__1__n_estimators': 150, 'clustering_model__estimators__1__eta': 0.26, 'clustering_model__estimators__1__alpha': 0.66}. Best is trial 8 with value: -184096.78902281323.\n"
     ]
    },
    {
     "name": "stdout",
     "output_type": "stream",
     "text": [
      "Num.Folds: 15. Fold size: 978.\n",
      "Distance matrix size: 245 (0.25*978) \n",
      "Num.Clusters: 3. Clusters proportions: [0.3522797  0.59865058 0.04906972]\n",
      "Num.Folds: 15. Fold size: 978.\n",
      "Distance matrix size: 245 (0.25*978) \n",
      "Num.Clusters: 3. Clusters proportions: [0.88701104 0.06310481 0.04988415]\n",
      "Num.Folds: 15. Fold size: 978.\n",
      "Distance matrix size: 245 (0.25*978) \n",
      "Num.Clusters: 3. Clusters proportions: [0.48085048 0.06092408 0.45822543]\n",
      "Num.Folds: 15. Fold size: 978.\n",
      "Distance matrix size: 245 (0.25*978) \n",
      "Num.Clusters: 3. Clusters proportions: [0.30891372 0.02923538 0.66185089]\n"
     ]
    },
    {
     "name": "stderr",
     "output_type": "stream",
     "text": [
      "[I 2024-05-04 19:50:43,311] Trial 22 finished with value: -188942.85910144768 and parameters: {'preprocessing__quant__imputer__method': 'simple_median', 'preprocessing__cat__imputer__method': 'simple_most_frequent', 'preprocessing__quant__scaler__apply': True, 'preprocessing__cat__encoder__method': 'ordinal', 'features_selector__apply': False, 'preprocessing__quant__scaler__method': 'standard', 'clustering_model__n_clusters': 3, 'clustering_model__method': 'alternate', 'clustering_model__init': 'k-medoids++', 'clustering_model__frac_sample_size': 0.25, 'clustering_model__d1': 'robust_mahalanobis', 'clustering_model__d2': 'jaccard', 'clustering_model__n_splits': 15, 'clustering_model__robust_maha_method': 'MAD', 'clustering_model__estimators__0__n_estimators': 62, 'clustering_model__estimators__0__max_depth': 10, 'clustering_model__estimators__0__min_samples_split': 11, 'clustering_model__estimators__0__min_samples_leaf': 6, 'clustering_model__estimators__1__max_depth': 5, 'clustering_model__estimators__1__lambda': 0.4, 'clustering_model__estimators__1__n_estimators': 180, 'clustering_model__estimators__1__eta': 0.3, 'clustering_model__estimators__1__alpha': 0.48000000000000004, 'clustering_model__estimators__2__n_estimators': 87, 'clustering_model__estimators__2__max_depth': 30, 'clustering_model__estimators__2__min_samples_split': 24, 'clustering_model__estimators__2__min_samples_leaf': 10}. Best is trial 8 with value: -184096.78902281323.\n"
     ]
    },
    {
     "name": "stdout",
     "output_type": "stream",
     "text": [
      "Num.Folds: 11. Fold size: 1333.\n",
      "Distance matrix size: 134 (0.1*1333) \n",
      "Num.Clusters: 2. Clusters proportions: [0.98371158 0.01628842]\n",
      "Num.Folds: 11. Fold size: 1334.\n",
      "Distance matrix size: 134 (0.1*1334) \n",
      "Num.Clusters: 2. Clusters proportions: [0.6858389 0.3141611]\n",
      "Num.Folds: 11. Fold size: 1334.\n",
      "Distance matrix size: 134 (0.1*1334) \n",
      "Num.Clusters: 2. Clusters proportions: [0.96912907 0.03087093]\n",
      "Num.Folds: 11. Fold size: 1334.\n",
      "Distance matrix size: 134 (0.1*1334) \n",
      "Num.Clusters: 2. Clusters proportions: [0.97526237 0.02473763]\n"
     ]
    },
    {
     "name": "stderr",
     "output_type": "stream",
     "text": [
      "[I 2024-05-04 19:52:04,223] Trial 23 finished with value: -191292.82616443827 and parameters: {'preprocessing__quant__imputer__method': 'iterative_median', 'preprocessing__cat__imputer__method': 'simple_most_frequent', 'preprocessing__quant__scaler__apply': True, 'preprocessing__cat__encoder__method': 'ordinal', 'features_selector__apply': False, 'preprocessing__quant__scaler__method': 'standard', 'clustering_model__n_clusters': 2, 'clustering_model__method': 'alternate', 'clustering_model__init': 'k-medoids++', 'clustering_model__frac_sample_size': 0.1, 'clustering_model__d1': 'robust_mahalanobis', 'clustering_model__d2': 'jaccard', 'clustering_model__n_splits': 11, 'clustering_model__robust_maha_method': 'MAD', 'clustering_model__estimators__0__n_estimators': 68, 'clustering_model__estimators__0__max_depth': 40, 'clustering_model__estimators__0__min_samples_split': 15, 'clustering_model__estimators__0__min_samples_leaf': 6, 'clustering_model__estimators__1__max_depth': 30, 'clustering_model__estimators__1__lambda': 0.30000000000000004, 'clustering_model__estimators__1__n_estimators': 180, 'clustering_model__estimators__1__eta': 0.28, 'clustering_model__estimators__1__alpha': 0.33}. Best is trial 8 with value: -184096.78902281323.\n"
     ]
    },
    {
     "name": "stdout",
     "output_type": "stream",
     "text": [
      "Num.Folds: 18. Fold size: 815.\n",
      "Distance matrix size: 326 (0.4*815) \n",
      "Num.Clusters: 3. Clusters proportions: [0.52286513 0.04177741 0.43535746]\n",
      "Num.Folds: 18. Fold size: 815.\n",
      "Distance matrix size: 326 (0.4*815) \n",
      "Num.Clusters: 3. Clusters proportions: [0.56078779 0.04204716 0.39716505]\n",
      "Num.Folds: 18. Fold size: 815.\n",
      "Distance matrix size: 326 (0.4*815) \n",
      "Num.Clusters: 3. Clusters proportions: [0.1161919  0.05322339 0.83058471]\n",
      "Num.Folds: 18. Fold size: 815.\n",
      "Distance matrix size: 326 (0.4*815) \n",
      "Num.Clusters: 3. Clusters proportions: [0.75984735 0.04722639 0.19292626]\n"
     ]
    },
    {
     "name": "stderr",
     "output_type": "stream",
     "text": [
      "[I 2024-05-04 19:54:30,866] Trial 24 finished with value: -193739.12040483012 and parameters: {'preprocessing__quant__imputer__method': 'simple_mean', 'preprocessing__cat__imputer__method': 'simple_most_frequent', 'preprocessing__quant__scaler__apply': True, 'preprocessing__cat__encoder__method': 'ordinal', 'features_selector__apply': False, 'preprocessing__quant__scaler__method': 'min-max', 'clustering_model__n_clusters': 3, 'clustering_model__method': 'alternate', 'clustering_model__init': 'k-medoids++', 'clustering_model__frac_sample_size': 0.4, 'clustering_model__d1': 'robust_mahalanobis', 'clustering_model__d2': 'jaccard', 'clustering_model__n_splits': 18, 'clustering_model__robust_maha_method': 'winsorized', 'clustering_model__alpha': 0.3, 'clustering_model__estimators__0__n_estimators': 92, 'clustering_model__estimators__0__max_depth': 30, 'clustering_model__estimators__0__min_samples_split': 4, 'clustering_model__estimators__0__min_samples_leaf': 2, 'clustering_model__estimators__1__max_depth': 20, 'clustering_model__estimators__1__lambda': 0.1, 'clustering_model__estimators__1__n_estimators': 150, 'clustering_model__estimators__1__eta': 0.22, 'clustering_model__estimators__1__alpha': 0.45, 'clustering_model__estimators__2__n_estimators': 65, 'clustering_model__estimators__2__max_depth': 40, 'clustering_model__estimators__2__min_samples_split': 19, 'clustering_model__estimators__2__min_samples_leaf': 17}. Best is trial 8 with value: -184096.78902281323.\n"
     ]
    },
    {
     "name": "stdout",
     "output_type": "stream",
     "text": [
      "Num.Folds: 7. Fold size: 2096.\n",
      "Distance matrix size: 420 (0.2*2096) \n",
      "Num.Clusters: 2. Clusters proportions: [0.09875281 0.90124719]\n",
      "Num.Folds: 7. Fold size: 2096.\n",
      "Distance matrix size: 420 (0.2*2096) \n",
      "Num.Clusters: 2. Clusters proportions: [0.9970015 0.0029985]\n",
      "Num.Folds: 7. Fold size: 2096.\n",
      "Distance matrix size: 420 (0.2*2096) \n",
      "Num.Clusters: 2. Clusters proportions: [0.03945754 0.96054246]\n",
      "Num.Folds: 7. Fold size: 2096.\n",
      "Distance matrix size: 420 (0.2*2096) \n",
      "Num.Clusters: 2. Clusters proportions: [0.02671392 0.97328608]\n"
     ]
    },
    {
     "name": "stderr",
     "output_type": "stream",
     "text": [
      "[I 2024-05-04 19:56:25,386] Trial 25 finished with value: -188064.99500159902 and parameters: {'preprocessing__quant__imputer__method': 'simple_mean', 'preprocessing__cat__imputer__method': 'simple_most_frequent', 'preprocessing__quant__scaler__apply': True, 'preprocessing__cat__encoder__method': 'ordinal', 'features_selector__apply': False, 'preprocessing__quant__scaler__method': 'min-max', 'clustering_model__n_clusters': 2, 'clustering_model__method': 'alternate', 'clustering_model__init': 'k-medoids++', 'clustering_model__frac_sample_size': 0.2, 'clustering_model__d1': 'robust_mahalanobis', 'clustering_model__d2': 'jaccard', 'clustering_model__n_splits': 7, 'clustering_model__robust_maha_method': 'MAD', 'clustering_model__estimators__0__n_estimators': 62, 'clustering_model__estimators__0__max_depth': 50, 'clustering_model__estimators__0__min_samples_split': 21, 'clustering_model__estimators__0__min_samples_leaf': 12, 'clustering_model__estimators__1__max_depth': 40, 'clustering_model__estimators__1__lambda': 0.4, 'clustering_model__estimators__1__n_estimators': 50, 'clustering_model__estimators__1__eta': 0.28, 'clustering_model__estimators__1__alpha': 0.53}. Best is trial 8 with value: -184096.78902281323.\n"
     ]
    },
    {
     "name": "stdout",
     "output_type": "stream",
     "text": [
      "Num.Folds: 13. Fold size: 1128.\n",
      "Distance matrix size: 677 (0.6*1128) \n",
      "Num.Clusters: 2. Clusters proportions: [0.97744156 0.02255844]\n",
      "Num.Folds: 13. Fold size: 1128.\n",
      "Distance matrix size: 677 (0.6*1128) \n",
      "Num.Clusters: 2. Clusters proportions: [0.02487393 0.97512607]\n",
      "Num.Folds: 13. Fold size: 1128.\n",
      "Distance matrix size: 677 (0.6*1128) \n",
      "Num.Clusters: 2. Clusters proportions: [0.1373177 0.8626823]\n",
      "Num.Folds: 13. Fold size: 1128.\n",
      "Distance matrix size: 677 (0.6*1128) \n",
      "Num.Clusters: 2. Clusters proportions: [0.95181954 0.04818046]\n"
     ]
    },
    {
     "name": "stderr",
     "output_type": "stream",
     "text": [
      "[I 2024-05-04 19:58:22,473] Trial 26 finished with value: -185563.21228839504 and parameters: {'preprocessing__quant__imputer__method': 'iterative_median', 'preprocessing__cat__imputer__method': 'simple_most_frequent', 'preprocessing__quant__scaler__apply': True, 'preprocessing__cat__encoder__method': 'ordinal', 'features_selector__apply': False, 'preprocessing__quant__scaler__method': 'standard', 'clustering_model__n_clusters': 2, 'clustering_model__method': 'alternate', 'clustering_model__init': 'k-medoids++', 'clustering_model__frac_sample_size': 0.6, 'clustering_model__d1': 'robust_mahalanobis', 'clustering_model__d2': 'jaccard', 'clustering_model__n_splits': 13, 'clustering_model__robust_maha_method': 'winsorized', 'clustering_model__alpha': 0.2, 'clustering_model__estimators__0__n_estimators': 86, 'clustering_model__estimators__0__max_depth': 20, 'clustering_model__estimators__0__min_samples_split': 8, 'clustering_model__estimators__0__min_samples_leaf': 17, 'clustering_model__estimators__1__max_depth': 3, 'clustering_model__estimators__1__lambda': 0.5, 'clustering_model__estimators__1__n_estimators': 70, 'clustering_model__estimators__1__eta': 0.22, 'clustering_model__estimators__1__alpha': 0.67}. Best is trial 8 with value: -184096.78902281323.\n"
     ]
    },
    {
     "name": "stdout",
     "output_type": "stream",
     "text": [
      "Num.Folds: 26. Fold size: 564.\n",
      "Distance matrix size: 282 (0.5*564) \n",
      "Num.Clusters: 3. Clusters proportions: [0.74926736 0.04579841 0.20493423]\n",
      "Num.Folds: 26. Fold size: 564.\n",
      "Distance matrix size: 282 (0.5*564) \n",
      "Num.Clusters: 3. Clusters proportions: [0.76843396 0.05956113 0.17200491]\n",
      "Num.Folds: 26. Fold size: 564.\n",
      "Distance matrix size: 282 (0.5*564) \n",
      "Num.Clusters: 3. Clusters proportions: [0.05165599 0.76570806 0.18263595]\n",
      "Num.Folds: 26. Fold size: 564.\n",
      "Distance matrix size: 282 (0.5*564) \n",
      "Num.Clusters: 3. Clusters proportions: [0.77736132 0.03352869 0.18910999]\n"
     ]
    },
    {
     "name": "stderr",
     "output_type": "stream",
     "text": [
      "[I 2024-05-04 20:02:08,147] Trial 27 finished with value: -183121.09736862453 and parameters: {'preprocessing__quant__imputer__method': 'simple_median', 'preprocessing__cat__imputer__method': 'simple_most_frequent', 'preprocessing__quant__scaler__apply': False, 'preprocessing__cat__encoder__method': 'ordinal', 'features_selector__apply': False, 'clustering_model__n_clusters': 3, 'clustering_model__method': 'pam', 'clustering_model__init': 'k-medoids++', 'clustering_model__frac_sample_size': 0.5, 'clustering_model__d1': 'robust_mahalanobis', 'clustering_model__d2': 'sokal', 'clustering_model__n_splits': 26, 'clustering_model__robust_maha_method': 'MAD', 'clustering_model__estimators__0__n_estimators': 71, 'clustering_model__estimators__0__max_depth': 7, 'clustering_model__estimators__0__min_samples_split': 17, 'clustering_model__estimators__0__min_samples_leaf': 5, 'clustering_model__estimators__1__max_depth': 5, 'clustering_model__estimators__1__lambda': 0.30000000000000004, 'clustering_model__estimators__1__n_estimators': 100, 'clustering_model__estimators__1__eta': 0.3, 'clustering_model__estimators__1__alpha': 0.39, 'clustering_model__estimators__2__n_estimators': 104, 'clustering_model__estimators__2__max_depth': 20, 'clustering_model__estimators__2__min_samples_split': 8, 'clustering_model__estimators__2__min_samples_leaf': 9}. Best is trial 27 with value: -183121.09736862453.\n"
     ]
    },
    {
     "name": "stdout",
     "output_type": "stream",
     "text": [
      "Num.Folds: 38. Fold size: 386.\n",
      "Distance matrix size: 193 (0.5*386) \n",
      "Num.Clusters: 2. Clusters proportions: [0.66884754 0.33115246]\n",
      "Num.Folds: 38. Fold size: 386.\n",
      "Distance matrix size: 193 (0.5*386) \n",
      "Num.Clusters: 2. Clusters proportions: [0.21289355 0.78710645]\n",
      "Num.Folds: 38. Fold size: 386.\n",
      "Distance matrix size: 193 (0.5*386) \n",
      "Num.Clusters: 2. Clusters proportions: [0.86656672 0.13343328]\n",
      "Num.Folds: 38. Fold size: 386.\n",
      "Distance matrix size: 193 (0.5*386) \n",
      "Num.Clusters: 2. Clusters proportions: [0.181273 0.818727]\n"
     ]
    },
    {
     "name": "stderr",
     "output_type": "stream",
     "text": [
      "[I 2024-05-04 20:05:49,777] Trial 28 finished with value: -185502.00480165778 and parameters: {'preprocessing__quant__imputer__method': 'simple_median', 'preprocessing__cat__imputer__method': 'simple_most_frequent', 'preprocessing__quant__scaler__apply': False, 'preprocessing__cat__encoder__method': 'ordinal', 'features_selector__apply': False, 'clustering_model__n_clusters': 2, 'clustering_model__method': 'pam', 'clustering_model__init': 'k-medoids++', 'clustering_model__frac_sample_size': 0.5, 'clustering_model__d1': 'robust_mahalanobis', 'clustering_model__d2': 'sokal', 'clustering_model__n_splits': 38, 'clustering_model__robust_maha_method': 'winsorized', 'clustering_model__alpha': 0.05, 'clustering_model__estimators__0__n_estimators': 72, 'clustering_model__estimators__0__max_depth': 20, 'clustering_model__estimators__0__min_samples_split': 18, 'clustering_model__estimators__0__min_samples_leaf': 8, 'clustering_model__estimators__1__max_depth': None, 'clustering_model__estimators__1__lambda': 0.30000000000000004, 'clustering_model__estimators__1__n_estimators': 100, 'clustering_model__estimators__1__eta': 0.26, 'clustering_model__estimators__1__alpha': 0.37}. Best is trial 27 with value: -183121.09736862453.\n"
     ]
    },
    {
     "name": "stdout",
     "output_type": "stream",
     "text": [
      "Num.Folds: 28. Fold size: 524.\n",
      "Distance matrix size: 262 (0.5*524) \n",
      "Num.Clusters: 3. Clusters proportions: [0.20561576 0.48401826 0.31036598]\n",
      "Num.Folds: 28. Fold size: 524.\n",
      "Distance matrix size: 262 (0.5*524) \n",
      "Num.Clusters: 3. Clusters proportions: [0.02071691 0.76352733 0.21575576]\n",
      "Num.Folds: 28. Fold size: 524.\n",
      "Distance matrix size: 262 (0.5*524) \n",
      "Num.Clusters: 3. Clusters proportions: [0.52078506 0.21432466 0.26489028]\n",
      "Num.Folds: 28. Fold size: 524.\n",
      "Distance matrix size: 262 (0.5*524) \n",
      "Num.Clusters: 3. Clusters proportions: [0.38448957 0.23592749 0.37958294]\n"
     ]
    },
    {
     "name": "stderr",
     "output_type": "stream",
     "text": [
      "[I 2024-05-04 20:10:01,402] Trial 29 finished with value: -179497.88321808394 and parameters: {'preprocessing__quant__imputer__method': 'simple_median', 'preprocessing__cat__imputer__method': 'simple_most_frequent', 'preprocessing__quant__scaler__apply': False, 'preprocessing__cat__encoder__method': 'ordinal', 'features_selector__apply': False, 'clustering_model__n_clusters': 3, 'clustering_model__method': 'pam', 'clustering_model__init': 'random', 'clustering_model__frac_sample_size': 0.5, 'clustering_model__d1': 'robust_mahalanobis', 'clustering_model__d2': 'sokal', 'clustering_model__n_splits': 28, 'clustering_model__robust_maha_method': 'trimmed', 'clustering_model__alpha': 0.09, 'clustering_model__estimators__0__n_estimators': 55, 'clustering_model__estimators__0__max_depth': 7, 'clustering_model__estimators__0__min_samples_split': 23, 'clustering_model__estimators__0__min_samples_leaf': 12, 'clustering_model__estimators__1__max_depth': None, 'clustering_model__estimators__1__lambda': 0.2, 'clustering_model__estimators__1__n_estimators': 100, 'clustering_model__estimators__1__eta': 0.12, 'clustering_model__estimators__1__alpha': 0.21000000000000002, 'clustering_model__estimators__2__n_estimators': 109, 'clustering_model__estimators__2__max_depth': 20, 'clustering_model__estimators__2__min_samples_split': 3, 'clustering_model__estimators__2__min_samples_leaf': 2}. Best is trial 29 with value: -179497.88321808394.\n"
     ]
    },
    {
     "name": "stdout",
     "output_type": "stream",
     "text": [
      "Num.Folds: 27. Fold size: 543.\n",
      "Distance matrix size: 272 (0.5*543) \n",
      "Num.Clusters: 3. Clusters proportions: [0.5263409  0.25870647 0.21495263]\n",
      "Num.Folds: 27. Fold size: 543.\n",
      "Distance matrix size: 272 (0.5*543) \n",
      "Num.Clusters: 3. Clusters proportions: [0.44316478 0.31375221 0.243083  ]\n",
      "Num.Folds: 27. Fold size: 543.\n",
      "Distance matrix size: 272 (0.5*543) \n",
      "Num.Clusters: 3. Clusters proportions: [0.26407251 0.2674799  0.46844759]\n",
      "Num.Folds: 27. Fold size: 543.\n",
      "Distance matrix size: 272 (0.5*543) \n",
      "Num.Clusters: 3. Clusters proportions: [0.46401799 0.27599836 0.25998364]\n"
     ]
    },
    {
     "name": "stderr",
     "output_type": "stream",
     "text": [
      "[I 2024-05-04 20:14:29,788] Trial 30 finished with value: -179542.38442122366 and parameters: {'preprocessing__quant__imputer__method': 'simple_median', 'preprocessing__cat__imputer__method': 'simple_most_frequent', 'preprocessing__quant__scaler__apply': False, 'preprocessing__cat__encoder__method': 'ordinal', 'features_selector__apply': False, 'clustering_model__n_clusters': 3, 'clustering_model__method': 'pam', 'clustering_model__init': 'random', 'clustering_model__frac_sample_size': 0.5, 'clustering_model__d1': 'robust_mahalanobis', 'clustering_model__d2': 'sokal', 'clustering_model__n_splits': 27, 'clustering_model__robust_maha_method': 'trimmed', 'clustering_model__alpha': 0.09, 'clustering_model__estimators__0__n_estimators': 117, 'clustering_model__estimators__0__max_depth': 7, 'clustering_model__estimators__0__min_samples_split': 25, 'clustering_model__estimators__0__min_samples_leaf': 13, 'clustering_model__estimators__1__max_depth': 5, 'clustering_model__estimators__1__lambda': 0.2, 'clustering_model__estimators__1__n_estimators': 100, 'clustering_model__estimators__1__eta': 0.08, 'clustering_model__estimators__1__alpha': 0.2, 'clustering_model__estimators__2__n_estimators': 108, 'clustering_model__estimators__2__max_depth': 20, 'clustering_model__estimators__2__min_samples_split': 3, 'clustering_model__estimators__2__min_samples_leaf': 2}. Best is trial 29 with value: -179497.88321808394.\n"
     ]
    },
    {
     "name": "stdout",
     "output_type": "stream",
     "text": [
      "Num.Folds: 28. Fold size: 524.\n",
      "Distance matrix size: 262 (0.5*524) \n",
      "Num.Clusters: 3. Clusters proportions: [0.20561576 0.48401826 0.31036598]\n",
      "Num.Folds: 28. Fold size: 524.\n",
      "Distance matrix size: 262 (0.5*524) \n",
      "Num.Clusters: 3. Clusters proportions: [0.02071691 0.76352733 0.21575576]\n",
      "Num.Folds: 28. Fold size: 524.\n",
      "Distance matrix size: 262 (0.5*524) \n",
      "Num.Clusters: 3. Clusters proportions: [0.52078506 0.21432466 0.26489028]\n",
      "Num.Folds: 28. Fold size: 524.\n",
      "Distance matrix size: 262 (0.5*524) \n",
      "Num.Clusters: 3. Clusters proportions: [0.38448957 0.23592749 0.37958294]\n"
     ]
    },
    {
     "name": "stderr",
     "output_type": "stream",
     "text": [
      "[I 2024-05-04 20:18:40,595] Trial 31 finished with value: -179769.10518763342 and parameters: {'preprocessing__quant__imputer__method': 'simple_median', 'preprocessing__cat__imputer__method': 'simple_most_frequent', 'preprocessing__quant__scaler__apply': False, 'preprocessing__cat__encoder__method': 'ordinal', 'features_selector__apply': False, 'clustering_model__n_clusters': 3, 'clustering_model__method': 'pam', 'clustering_model__init': 'random', 'clustering_model__frac_sample_size': 0.5, 'clustering_model__d1': 'robust_mahalanobis', 'clustering_model__d2': 'sokal', 'clustering_model__n_splits': 28, 'clustering_model__robust_maha_method': 'trimmed', 'clustering_model__alpha': 0.09, 'clustering_model__estimators__0__n_estimators': 115, 'clustering_model__estimators__0__max_depth': 7, 'clustering_model__estimators__0__min_samples_split': 25, 'clustering_model__estimators__0__min_samples_leaf': 5, 'clustering_model__estimators__1__max_depth': 5, 'clustering_model__estimators__1__lambda': 0.2, 'clustering_model__estimators__1__n_estimators': 100, 'clustering_model__estimators__1__eta': 0.12, 'clustering_model__estimators__1__alpha': 0.22, 'clustering_model__estimators__2__n_estimators': 108, 'clustering_model__estimators__2__max_depth': 20, 'clustering_model__estimators__2__min_samples_split': 2, 'clustering_model__estimators__2__min_samples_leaf': 2}. Best is trial 29 with value: -179497.88321808394.\n"
     ]
    },
    {
     "name": "stdout",
     "output_type": "stream",
     "text": [
      "Num.Folds: 28. Fold size: 524.\n",
      "Distance matrix size: 262 (0.5*524) \n",
      "Num.Clusters: 3. Clusters proportions: [0.20561576 0.48401826 0.31036598]\n",
      "Num.Folds: 28. Fold size: 524.\n",
      "Distance matrix size: 262 (0.5*524) \n",
      "Num.Clusters: 3. Clusters proportions: [0.02071691 0.76352733 0.21575576]\n",
      "Num.Folds: 28. Fold size: 524.\n",
      "Distance matrix size: 262 (0.5*524) \n",
      "Num.Clusters: 3. Clusters proportions: [0.52078506 0.21432466 0.26489028]\n",
      "Num.Folds: 28. Fold size: 524.\n",
      "Distance matrix size: 262 (0.5*524) \n",
      "Num.Clusters: 3. Clusters proportions: [0.38448957 0.23592749 0.37958294]\n"
     ]
    },
    {
     "name": "stderr",
     "output_type": "stream",
     "text": [
      "[I 2024-05-04 20:22:51,582] Trial 32 finished with value: -179769.10521318944 and parameters: {'preprocessing__quant__imputer__method': 'simple_median', 'preprocessing__cat__imputer__method': 'simple_most_frequent', 'preprocessing__quant__scaler__apply': False, 'preprocessing__cat__encoder__method': 'ordinal', 'features_selector__apply': False, 'clustering_model__n_clusters': 3, 'clustering_model__method': 'pam', 'clustering_model__init': 'random', 'clustering_model__frac_sample_size': 0.5, 'clustering_model__d1': 'robust_mahalanobis', 'clustering_model__d2': 'sokal', 'clustering_model__n_splits': 28, 'clustering_model__robust_maha_method': 'trimmed', 'clustering_model__alpha': 0.09, 'clustering_model__estimators__0__n_estimators': 117, 'clustering_model__estimators__0__max_depth': 7, 'clustering_model__estimators__0__min_samples_split': 25, 'clustering_model__estimators__0__min_samples_leaf': 5, 'clustering_model__estimators__1__max_depth': 5, 'clustering_model__estimators__1__lambda': 0.2, 'clustering_model__estimators__1__n_estimators': 100, 'clustering_model__estimators__1__eta': 0.12, 'clustering_model__estimators__1__alpha': 0.21000000000000002, 'clustering_model__estimators__2__n_estimators': 108, 'clustering_model__estimators__2__max_depth': 20, 'clustering_model__estimators__2__min_samples_split': 2, 'clustering_model__estimators__2__min_samples_leaf': 2}. Best is trial 29 with value: -179497.88321808394.\n"
     ]
    },
    {
     "name": "stdout",
     "output_type": "stream",
     "text": [
      "Num.Folds: 31. Fold size: 473.\n",
      "Distance matrix size: 237 (0.5*473) \n",
      "Num.Clusters: 3. Clusters proportions: [0.45873373 0.31854426 0.22272201]\n",
      "Num.Folds: 31. Fold size: 473.\n",
      "Distance matrix size: 237 (0.5*473) \n",
      "Num.Clusters: 3. Clusters proportions: [0.46919722 0.27143247 0.25937031]\n",
      "Num.Folds: 31. Fold size: 473.\n",
      "Distance matrix size: 237 (0.5*473) \n",
      "Num.Clusters: 3. Clusters proportions: [0.25459997 0.4817364  0.26366362]\n",
      "Num.Folds: 31. Fold size: 473.\n",
      "Distance matrix size: 237 (0.5*473) \n",
      "Num.Clusters: 3. Clusters proportions: [0.23286084 0.31211667 0.45502249]\n"
     ]
    },
    {
     "name": "stderr",
     "output_type": "stream",
     "text": [
      "[I 2024-05-04 20:27:29,735] Trial 33 finished with value: -179508.31951835303 and parameters: {'preprocessing__quant__imputer__method': 'simple_median', 'preprocessing__cat__imputer__method': 'simple_most_frequent', 'preprocessing__quant__scaler__apply': False, 'preprocessing__cat__encoder__method': 'ordinal', 'features_selector__apply': False, 'clustering_model__n_clusters': 3, 'clustering_model__method': 'pam', 'clustering_model__init': 'random', 'clustering_model__frac_sample_size': 0.5, 'clustering_model__d1': 'robust_mahalanobis', 'clustering_model__d2': 'sokal', 'clustering_model__n_splits': 31, 'clustering_model__robust_maha_method': 'trimmed', 'clustering_model__alpha': 0.09, 'clustering_model__estimators__0__n_estimators': 120, 'clustering_model__estimators__0__max_depth': 7, 'clustering_model__estimators__0__min_samples_split': 25, 'clustering_model__estimators__0__min_samples_leaf': 4, 'clustering_model__estimators__1__max_depth': 5, 'clustering_model__estimators__1__lambda': 0.2, 'clustering_model__estimators__1__n_estimators': 100, 'clustering_model__estimators__1__eta': 0.12, 'clustering_model__estimators__1__alpha': 0.21000000000000002, 'clustering_model__estimators__2__n_estimators': 113, 'clustering_model__estimators__2__max_depth': 20, 'clustering_model__estimators__2__min_samples_split': 2, 'clustering_model__estimators__2__min_samples_leaf': 2}. Best is trial 29 with value: -179497.88321808394.\n"
     ]
    },
    {
     "name": "stdout",
     "output_type": "stream",
     "text": [
      "Num.Folds: 32. Fold size: 458.\n",
      "Distance matrix size: 229 (0.5*458) \n",
      "Num.Clusters: 3. Clusters proportions: [0.4407415  0.33694541 0.22231309]\n",
      "Num.Folds: 32. Fold size: 458.\n",
      "Distance matrix size: 229 (0.5*458) \n",
      "Num.Clusters: 3. Clusters proportions: [0.24144746 0.48071419 0.27783835]\n",
      "Num.Folds: 32. Fold size: 458.\n",
      "Distance matrix size: 229 (0.5*458) \n",
      "Num.Clusters: 3. Clusters proportions: [0.35859343 0.37747036 0.26393621]\n",
      "Num.Folds: 32. Fold size: 458.\n",
      "Distance matrix size: 229 (0.5*458) \n",
      "Num.Clusters: 3. Clusters proportions: [0.24982963 0.44343737 0.306733  ]\n"
     ]
    },
    {
     "name": "stderr",
     "output_type": "stream",
     "text": [
      "[I 2024-05-04 20:31:51,192] Trial 34 finished with value: -179086.04791940647 and parameters: {'preprocessing__quant__imputer__method': 'simple_median', 'preprocessing__cat__imputer__method': 'simple_most_frequent', 'preprocessing__quant__scaler__apply': False, 'preprocessing__cat__encoder__method': 'ordinal', 'features_selector__apply': False, 'clustering_model__n_clusters': 3, 'clustering_model__method': 'pam', 'clustering_model__init': 'random', 'clustering_model__frac_sample_size': 0.5, 'clustering_model__d1': 'robust_mahalanobis', 'clustering_model__d2': 'sokal', 'clustering_model__n_splits': 32, 'clustering_model__robust_maha_method': 'trimmed', 'clustering_model__alpha': 0.09, 'clustering_model__estimators__0__n_estimators': 119, 'clustering_model__estimators__0__max_depth': 7, 'clustering_model__estimators__0__min_samples_split': 23, 'clustering_model__estimators__0__min_samples_leaf': 8, 'clustering_model__estimators__1__max_depth': 5, 'clustering_model__estimators__1__lambda': 0.1, 'clustering_model__estimators__1__n_estimators': 100, 'clustering_model__estimators__1__eta': 0.16, 'clustering_model__estimators__1__alpha': 0.2, 'clustering_model__estimators__2__n_estimators': 119, 'clustering_model__estimators__2__max_depth': 20, 'clustering_model__estimators__2__min_samples_split': 5, 'clustering_model__estimators__2__min_samples_leaf': 2}. Best is trial 34 with value: -179086.04791940647.\n"
     ]
    },
    {
     "name": "stdout",
     "output_type": "stream",
     "text": [
      "Num.Folds: 33. Fold size: 444.\n",
      "Distance matrix size: 222 (0.5*444) \n",
      "Num.Clusters: 3. Clusters proportions: [0.48006543 0.21699721 0.30293737]\n",
      "Num.Folds: 33. Fold size: 444.\n",
      "Distance matrix size: 222 (0.5*444) \n",
      "Num.Clusters: 3. Clusters proportions: [0.47519422 0.23585934 0.28894644]\n",
      "Num.Folds: 33. Fold size: 444.\n",
      "Distance matrix size: 222 (0.5*444) \n",
      "Num.Clusters: 3. Clusters proportions: [0.26311844 0.37821998 0.35866158]\n",
      "Num.Folds: 33. Fold size: 444.\n",
      "Distance matrix size: 222 (0.5*444) \n",
      "Num.Clusters: 3. Clusters proportions: [0.35368679 0.23347417 0.41283904]\n"
     ]
    },
    {
     "name": "stderr",
     "output_type": "stream",
     "text": [
      "[I 2024-05-04 20:37:09,300] Trial 35 finished with value: -181667.5234104441 and parameters: {'preprocessing__quant__imputer__method': 'simple_median', 'preprocessing__cat__imputer__method': 'simple_most_frequent', 'preprocessing__quant__scaler__apply': False, 'preprocessing__cat__encoder__method': 'ordinal', 'features_selector__apply': False, 'clustering_model__n_clusters': 3, 'clustering_model__method': 'pam', 'clustering_model__init': 'random', 'clustering_model__frac_sample_size': 0.5, 'clustering_model__d1': 'robust_mahalanobis', 'clustering_model__d2': 'sokal', 'clustering_model__n_splits': 33, 'clustering_model__robust_maha_method': 'trimmed', 'clustering_model__alpha': 0.09, 'clustering_model__estimators__0__n_estimators': 110, 'clustering_model__estimators__0__max_depth': 7, 'clustering_model__estimators__0__min_samples_split': 23, 'clustering_model__estimators__0__min_samples_leaf': 8, 'clustering_model__estimators__1__max_depth': 5, 'clustering_model__estimators__1__lambda': 0.1, 'clustering_model__estimators__1__n_estimators': 100, 'clustering_model__estimators__1__eta': 0.16, 'clustering_model__estimators__1__alpha': 0.2, 'clustering_model__estimators__2__n_estimators': 120, 'clustering_model__estimators__2__max_depth': 20, 'clustering_model__estimators__2__min_samples_split': 6, 'clustering_model__estimators__2__min_samples_leaf': 6}. Best is trial 34 with value: -179086.04791940647.\n"
     ]
    },
    {
     "name": "stdout",
     "output_type": "stream",
     "text": [
      "Num.Folds: 38. Fold size: 386.\n",
      "Distance matrix size: 155 (0.4*386) \n",
      "Num.Clusters: 3. Clusters proportions: [0.2512097  0.42854222 0.32024807]\n",
      "Num.Folds: 38. Fold size: 386.\n",
      "Distance matrix size: 155 (0.4*386) \n",
      "Num.Clusters: 3. Clusters proportions: [0.47110536 0.25650811 0.27238653]\n",
      "Num.Folds: 38. Fold size: 386.\n",
      "Distance matrix size: 155 (0.4*386) \n",
      "Num.Clusters: 3. Clusters proportions: [0.29174049 0.47124165 0.23701785]\n",
      "Num.Folds: 38. Fold size: 386.\n",
      "Distance matrix size: 155 (0.4*386) \n",
      "Num.Clusters: 3. Clusters proportions: [0.23217936 0.49509336 0.27272727]\n"
     ]
    },
    {
     "name": "stderr",
     "output_type": "stream",
     "text": [
      "[I 2024-05-04 20:42:01,809] Trial 36 finished with value: -180403.526662085 and parameters: {'preprocessing__quant__imputer__method': 'simple_median', 'preprocessing__cat__imputer__method': 'simple_most_frequent', 'preprocessing__quant__scaler__apply': False, 'preprocessing__cat__encoder__method': 'ordinal', 'features_selector__apply': False, 'clustering_model__n_clusters': 3, 'clustering_model__method': 'pam', 'clustering_model__init': 'random', 'clustering_model__frac_sample_size': 0.4, 'clustering_model__d1': 'robust_mahalanobis', 'clustering_model__d2': 'sokal', 'clustering_model__n_splits': 38, 'clustering_model__robust_maha_method': 'trimmed', 'clustering_model__alpha': 0.09, 'clustering_model__estimators__0__n_estimators': 120, 'clustering_model__estimators__0__max_depth': 7, 'clustering_model__estimators__0__min_samples_split': 23, 'clustering_model__estimators__0__min_samples_leaf': 16, 'clustering_model__estimators__1__max_depth': 5, 'clustering_model__estimators__1__lambda': 0.1, 'clustering_model__estimators__1__n_estimators': 100, 'clustering_model__estimators__1__eta': 0.08, 'clustering_model__estimators__1__alpha': 0.26, 'clustering_model__estimators__2__n_estimators': 115, 'clustering_model__estimators__2__max_depth': 20, 'clustering_model__estimators__2__min_samples_split': 5, 'clustering_model__estimators__2__min_samples_leaf': 2}. Best is trial 34 with value: -179086.04791940647.\n"
     ]
    },
    {
     "name": "stdout",
     "output_type": "stream",
     "text": [
      "Num.Folds: 31. Fold size: 473.\n",
      "Distance matrix size: 237 (0.5*473) \n",
      "Num.Clusters: 3. Clusters proportions: [0.45873373 0.31854426 0.22272201]\n",
      "Num.Folds: 31. Fold size: 473.\n",
      "Distance matrix size: 237 (0.5*473) \n",
      "Num.Clusters: 3. Clusters proportions: [0.46919722 0.27143247 0.25937031]\n",
      "Num.Folds: 31. Fold size: 473.\n",
      "Distance matrix size: 237 (0.5*473) \n",
      "Num.Clusters: 3. Clusters proportions: [0.25459997 0.4817364  0.26366362]\n",
      "Num.Folds: 31. Fold size: 473.\n",
      "Distance matrix size: 237 (0.5*473) \n",
      "Num.Clusters: 3. Clusters proportions: [0.23286084 0.31211667 0.45502249]\n"
     ]
    },
    {
     "name": "stderr",
     "output_type": "stream",
     "text": [
      "[I 2024-05-04 20:45:52,331] Trial 37 finished with value: -181491.91522387325 and parameters: {'preprocessing__quant__imputer__method': 'simple_median', 'preprocessing__cat__imputer__method': 'simple_most_frequent', 'preprocessing__quant__scaler__apply': False, 'preprocessing__cat__encoder__method': 'ordinal', 'features_selector__apply': False, 'clustering_model__n_clusters': 3, 'clustering_model__method': 'pam', 'clustering_model__init': 'random', 'clustering_model__frac_sample_size': 0.5, 'clustering_model__d1': 'robust_mahalanobis', 'clustering_model__d2': 'sokal', 'clustering_model__n_splits': 31, 'clustering_model__robust_maha_method': 'trimmed', 'clustering_model__alpha': 0.09, 'clustering_model__estimators__0__n_estimators': 110, 'clustering_model__estimators__0__max_depth': 7, 'clustering_model__estimators__0__min_samples_split': 23, 'clustering_model__estimators__0__min_samples_leaf': 13, 'clustering_model__estimators__1__max_depth': 5, 'clustering_model__estimators__1__lambda': 0.0, 'clustering_model__estimators__1__n_estimators': 100, 'clustering_model__estimators__1__eta': 0.16, 'clustering_model__estimators__1__alpha': 0.33, 'clustering_model__estimators__2__n_estimators': 114, 'clustering_model__estimators__2__max_depth': 20, 'clustering_model__estimators__2__min_samples_split': 5, 'clustering_model__estimators__2__min_samples_leaf': 6}. Best is trial 34 with value: -179086.04791940647.\n"
     ]
    },
    {
     "name": "stdout",
     "output_type": "stream",
     "text": [
      "Num.Folds: 31. Fold size: 473.\n",
      "Distance matrix size: 332 (0.7*473) \n",
      "Num.Clusters: 3. Clusters proportions: [0.2454849  0.29537245 0.45914264]\n",
      "Num.Folds: 31. Fold size: 473.\n",
      "Distance matrix size: 332 (0.7*473) \n",
      "Num.Clusters: 3. Clusters proportions: [0.23906229 0.5121303  0.24880741]\n",
      "Num.Folds: 31. Fold size: 473.\n",
      "Distance matrix size: 332 (0.7*473) \n",
      "Num.Clusters: 3. Clusters proportions: [0.50572441 0.22291127 0.27136432]\n",
      "Num.Folds: 31. Fold size: 473.\n",
      "Distance matrix size: 332 (0.7*473) \n",
      "Num.Clusters: 3. Clusters proportions: [0.47199128 0.30475671 0.22325201]\n"
     ]
    },
    {
     "name": "stderr",
     "output_type": "stream",
     "text": [
      "[I 2024-05-04 20:47:59,447] Trial 38 finished with value: -188000.98159507656 and parameters: {'preprocessing__quant__imputer__method': 'iterative_mean', 'preprocessing__cat__imputer__method': 'simple_most_frequent', 'preprocessing__quant__scaler__apply': False, 'preprocessing__cat__encoder__method': 'ordinal', 'features_selector__apply': False, 'clustering_model__n_clusters': 3, 'clustering_model__method': 'pam', 'clustering_model__init': 'random', 'clustering_model__frac_sample_size': 0.7, 'clustering_model__d1': 'robust_mahalanobis', 'clustering_model__d2': 'sokal', 'clustering_model__n_splits': 31, 'clustering_model__robust_maha_method': 'trimmed', 'clustering_model__alpha': 0.09, 'clustering_model__estimators__0__n_estimators': 104, 'clustering_model__estimators__0__max_depth': 7, 'clustering_model__estimators__0__min_samples_split': 21, 'clustering_model__estimators__0__min_samples_leaf': 9, 'clustering_model__estimators__1__max_depth': 40, 'clustering_model__estimators__1__lambda': 0.1, 'clustering_model__estimators__1__n_estimators': 30, 'clustering_model__estimators__1__eta': 0.12, 'clustering_model__estimators__1__alpha': 0.24000000000000002, 'clustering_model__estimators__2__n_estimators': 100, 'clustering_model__estimators__2__max_depth': 20, 'clustering_model__estimators__2__min_samples_split': 9, 'clustering_model__estimators__2__min_samples_leaf': 4}. Best is trial 34 with value: -179086.04791940647.\n"
     ]
    },
    {
     "name": "stdout",
     "output_type": "stream",
     "text": [
      "Num.Folds: 44. Fold size: 333.\n",
      "Distance matrix size: 67 (0.2*333) \n",
      "Num.Clusters: 3. Clusters proportions: [0.33353779 0.46091461 0.2055476 ]\n",
      "Num.Folds: 44. Fold size: 333.\n",
      "Distance matrix size: 67 (0.2*333) \n",
      "Num.Clusters: 3. Clusters proportions: [0.50606515 0.27913316 0.21480169]\n",
      "Num.Folds: 44. Fold size: 333.\n",
      "Distance matrix size: 67 (0.2*333) \n",
      "Num.Clusters: 3. Clusters proportions: [0.2098269 0.5393894 0.2507837]\n",
      "Num.Folds: 44. Fold size: 333.\n",
      "Distance matrix size: 67 (0.2*333) \n",
      "Num.Clusters: 3. Clusters proportions: [0.78622053 0.02371542 0.19006406]\n"
     ]
    },
    {
     "name": "stderr",
     "output_type": "stream",
     "text": [
      "[I 2024-05-04 20:50:24,308] Trial 39 finished with value: -182772.862509151 and parameters: {'preprocessing__quant__imputer__method': 'simple_median', 'preprocessing__cat__imputer__method': 'simple_most_frequent', 'preprocessing__quant__scaler__apply': False, 'preprocessing__cat__encoder__method': 'ordinal', 'features_selector__apply': False, 'clustering_model__n_clusters': 3, 'clustering_model__method': 'pam', 'clustering_model__init': 'random', 'clustering_model__frac_sample_size': 0.2, 'clustering_model__d1': 'robust_mahalanobis', 'clustering_model__d2': 'sokal', 'clustering_model__n_splits': 44, 'clustering_model__robust_maha_method': 'trimmed', 'clustering_model__alpha': 0.09, 'clustering_model__estimators__0__n_estimators': 120, 'clustering_model__estimators__0__max_depth': None, 'clustering_model__estimators__0__min_samples_split': 25, 'clustering_model__estimators__0__min_samples_leaf': 7, 'clustering_model__estimators__1__max_depth': 5, 'clustering_model__estimators__1__lambda': 0.2, 'clustering_model__estimators__1__n_estimators': 100, 'clustering_model__estimators__1__eta': 0.18, 'clustering_model__estimators__1__alpha': 0.28, 'clustering_model__estimators__2__n_estimators': 114, 'clustering_model__estimators__2__max_depth': 20, 'clustering_model__estimators__2__min_samples_split': 4, 'clustering_model__estimators__2__min_samples_leaf': 7}. Best is trial 34 with value: -179086.04791940647.\n"
     ]
    },
    {
     "name": "stdout",
     "output_type": "stream",
     "text": [
      "Num.Folds: 25. Fold size: 586.\n",
      "Distance matrix size: 293 (0.5*586) \n",
      "Num.Clusters: 3. Clusters proportions: [0.23723847 0.28678525 0.47597628]\n",
      "Num.Folds: 25. Fold size: 586.\n",
      "Distance matrix size: 293 (0.5*586) \n",
      "Num.Clusters: 3. Clusters proportions: [0.47219572 0.24512744 0.28267684]\n",
      "Num.Folds: 25. Fold size: 586.\n",
      "Distance matrix size: 293 (0.5*586) \n",
      "Num.Clusters: 3. Clusters proportions: [0.2703421  0.29739676 0.43226114]\n",
      "Num.Folds: 25. Fold size: 586.\n",
      "Distance matrix size: 293 (0.5*586) \n",
      "Num.Clusters: 3. Clusters proportions: [0.36833856 0.25385035 0.37781109]\n"
     ]
    },
    {
     "name": "stderr",
     "output_type": "stream",
     "text": [
      "[I 2024-05-04 20:52:36,785] Trial 40 finished with value: -184645.15197107557 and parameters: {'preprocessing__quant__imputer__method': 'simple_median', 'preprocessing__cat__imputer__method': 'simple_most_frequent', 'preprocessing__quant__scaler__apply': False, 'preprocessing__cat__encoder__method': 'ordinal', 'features_selector__apply': False, 'clustering_model__n_clusters': 3, 'clustering_model__method': 'pam', 'clustering_model__init': 'random', 'clustering_model__frac_sample_size': 0.5, 'clustering_model__d1': 'robust_mahalanobis', 'clustering_model__d2': 'sokal', 'clustering_model__n_splits': 25, 'clustering_model__robust_maha_method': 'trimmed', 'clustering_model__alpha': 0.09, 'clustering_model__estimators__0__n_estimators': 110, 'clustering_model__estimators__0__max_depth': 10, 'clustering_model__estimators__0__min_samples_split': 20, 'clustering_model__estimators__0__min_samples_leaf': 12, 'clustering_model__estimators__1__max_depth': 10, 'clustering_model__estimators__1__lambda': 0.1, 'clustering_model__estimators__1__n_estimators': 100, 'clustering_model__estimators__1__eta': 0.02, 'clustering_model__estimators__1__alpha': 0.33, 'clustering_model__estimators__2__n_estimators': 120, 'clustering_model__estimators__2__max_depth': 20, 'clustering_model__estimators__2__min_samples_split': 2, 'clustering_model__estimators__2__min_samples_leaf': 2}. Best is trial 34 with value: -179086.04791940647.\n"
     ]
    },
    {
     "name": "stdout",
     "output_type": "stream",
     "text": [
      "Num.Folds: 35. Fold size: 419.\n",
      "Distance matrix size: 252 (0.6*419) \n",
      "Num.Clusters: 3. Clusters proportions: [0.34771349 0.25516254 0.39712397]\n",
      "Num.Folds: 35. Fold size: 419.\n",
      "Distance matrix size: 252 (0.6*419) \n",
      "Num.Clusters: 3. Clusters proportions: [0.49277634 0.24274227 0.2644814 ]\n",
      "Num.Folds: 35. Fold size: 419.\n",
      "Distance matrix size: 252 (0.6*419) \n",
      "Num.Clusters: 3. Clusters proportions: [0.237086   0.27702058 0.48589342]\n",
      "Num.Folds: 35. Fold size: 419.\n",
      "Distance matrix size: 252 (0.6*419) \n",
      "Num.Clusters: 3. Clusters proportions: [0.45393212 0.24226523 0.30380264]\n"
     ]
    },
    {
     "name": "stderr",
     "output_type": "stream",
     "text": [
      "[I 2024-05-04 20:54:52,926] Trial 41 finished with value: -181406.68683429743 and parameters: {'preprocessing__quant__imputer__method': 'iterative_mean', 'preprocessing__cat__imputer__method': 'simple_most_frequent', 'preprocessing__quant__scaler__apply': False, 'preprocessing__cat__encoder__method': 'ordinal', 'features_selector__apply': False, 'clustering_model__n_clusters': 3, 'clustering_model__method': 'pam', 'clustering_model__init': 'random', 'clustering_model__frac_sample_size': 0.6, 'clustering_model__d1': 'robust_mahalanobis', 'clustering_model__d2': 'sokal', 'clustering_model__n_splits': 35, 'clustering_model__robust_maha_method': 'trimmed', 'clustering_model__alpha': 0.09, 'clustering_model__estimators__0__n_estimators': 104, 'clustering_model__estimators__0__max_depth': 7, 'clustering_model__estimators__0__min_samples_split': 22, 'clustering_model__estimators__0__min_samples_leaf': 15, 'clustering_model__estimators__1__max_depth': 7, 'clustering_model__estimators__1__lambda': 0.0, 'clustering_model__estimators__1__n_estimators': 100, 'clustering_model__estimators__1__eta': 0.2, 'clustering_model__estimators__1__alpha': 0.96, 'clustering_model__estimators__2__n_estimators': 107, 'clustering_model__estimators__2__max_depth': 30, 'clustering_model__estimators__2__min_samples_split': 7, 'clustering_model__estimators__2__min_samples_leaf': 4}. Best is trial 34 with value: -179086.04791940647.\n"
     ]
    },
    {
     "name": "stdout",
     "output_type": "stream",
     "text": [
      "Num.Folds: 28. Fold size: 524.\n",
      "Distance matrix size: 262 (0.5*524) \n",
      "Num.Clusters: 3. Clusters proportions: [0.20561576 0.48401826 0.31036598]\n",
      "Num.Folds: 28. Fold size: 524.\n",
      "Distance matrix size: 262 (0.5*524) \n",
      "Num.Clusters: 3. Clusters proportions: [0.02071691 0.76352733 0.21575576]\n",
      "Num.Folds: 28. Fold size: 524.\n",
      "Distance matrix size: 262 (0.5*524) \n",
      "Num.Clusters: 3. Clusters proportions: [0.52078506 0.21432466 0.26489028]\n",
      "Num.Folds: 28. Fold size: 524.\n",
      "Distance matrix size: 262 (0.5*524) \n",
      "Num.Clusters: 3. Clusters proportions: [0.38448957 0.23592749 0.37958294]\n"
     ]
    },
    {
     "name": "stderr",
     "output_type": "stream",
     "text": [
      "[I 2024-05-04 20:57:01,422] Trial 42 finished with value: -179767.50333950872 and parameters: {'preprocessing__quant__imputer__method': 'simple_median', 'preprocessing__cat__imputer__method': 'simple_most_frequent', 'preprocessing__quant__scaler__apply': False, 'preprocessing__cat__encoder__method': 'ordinal', 'features_selector__apply': False, 'clustering_model__n_clusters': 3, 'clustering_model__method': 'pam', 'clustering_model__init': 'random', 'clustering_model__frac_sample_size': 0.5, 'clustering_model__d1': 'robust_mahalanobis', 'clustering_model__d2': 'sokal', 'clustering_model__n_splits': 28, 'clustering_model__robust_maha_method': 'trimmed', 'clustering_model__alpha': 0.09, 'clustering_model__estimators__0__n_estimators': 115, 'clustering_model__estimators__0__max_depth': 7, 'clustering_model__estimators__0__min_samples_split': 25, 'clustering_model__estimators__0__min_samples_leaf': 4, 'clustering_model__estimators__1__max_depth': 5, 'clustering_model__estimators__1__lambda': 0.2, 'clustering_model__estimators__1__n_estimators': 100, 'clustering_model__estimators__1__eta': 0.12, 'clustering_model__estimators__1__alpha': 0.2, 'clustering_model__estimators__2__n_estimators': 109, 'clustering_model__estimators__2__max_depth': 20, 'clustering_model__estimators__2__min_samples_split': 2, 'clustering_model__estimators__2__min_samples_leaf': 2}. Best is trial 34 with value: -179086.04791940647.\n"
     ]
    },
    {
     "name": "stdout",
     "output_type": "stream",
     "text": [
      "Num.Folds: 30. Fold size: 489.\n",
      "Distance matrix size: 245 (0.5*489) \n",
      "Num.Clusters: 3. Clusters proportions: [0.50705377 0.2054113  0.28753493]\n",
      "Num.Folds: 30. Fold size: 489.\n",
      "Distance matrix size: 245 (0.5*489) \n",
      "Num.Clusters: 3. Clusters proportions: [0.2704784  0.41488347 0.31463814]\n",
      "Num.Folds: 30. Fold size: 489.\n",
      "Distance matrix size: 245 (0.5*489) \n",
      "Num.Clusters: 3. Clusters proportions: [0.46340466 0.23919858 0.29739676]\n",
      "Num.Folds: 30. Fold size: 489.\n",
      "Distance matrix size: 245 (0.5*489) \n",
      "Num.Clusters: 3. Clusters proportions: [0.23272455 0.41311163 0.35416383]\n"
     ]
    },
    {
     "name": "stderr",
     "output_type": "stream",
     "text": [
      "[I 2024-05-04 20:59:38,238] Trial 43 finished with value: -178589.66440058086 and parameters: {'preprocessing__quant__imputer__method': 'simple_median', 'preprocessing__cat__imputer__method': 'simple_most_frequent', 'preprocessing__quant__scaler__apply': False, 'preprocessing__cat__encoder__method': 'ordinal', 'features_selector__apply': False, 'clustering_model__n_clusters': 3, 'clustering_model__method': 'pam', 'clustering_model__init': 'random', 'clustering_model__frac_sample_size': 0.5, 'clustering_model__d1': 'robust_mahalanobis', 'clustering_model__d2': 'sokal', 'clustering_model__n_splits': 30, 'clustering_model__robust_maha_method': 'trimmed', 'clustering_model__alpha': 0.09, 'clustering_model__estimators__0__n_estimators': 115, 'clustering_model__estimators__0__max_depth': 7, 'clustering_model__estimators__0__min_samples_split': 24, 'clustering_model__estimators__0__min_samples_leaf': 4, 'clustering_model__estimators__1__max_depth': 5, 'clustering_model__estimators__1__lambda': 0.2, 'clustering_model__estimators__1__n_estimators': 100, 'clustering_model__estimators__1__eta': 0.08, 'clustering_model__estimators__1__alpha': 0.2, 'clustering_model__estimators__2__n_estimators': 113, 'clustering_model__estimators__2__max_depth': 20, 'clustering_model__estimators__2__min_samples_split': 4, 'clustering_model__estimators__2__min_samples_leaf': 2}. Best is trial 43 with value: -178589.66440058086.\n"
     ]
    },
    {
     "name": "stdout",
     "output_type": "stream",
     "text": [
      "Num.Folds: 31. Fold size: 473.\n",
      "Distance matrix size: 237 (0.5*473) \n",
      "Num.Clusters: 3. Clusters proportions: [0.45873373 0.31854426 0.22272201]\n",
      "Num.Folds: 31. Fold size: 473.\n",
      "Distance matrix size: 237 (0.5*473) \n",
      "Num.Clusters: 3. Clusters proportions: [0.46919722 0.27143247 0.25937031]\n",
      "Num.Folds: 31. Fold size: 473.\n",
      "Distance matrix size: 237 (0.5*473) \n",
      "Num.Clusters: 3. Clusters proportions: [0.25459997 0.4817364  0.26366362]\n",
      "Num.Folds: 31. Fold size: 473.\n",
      "Distance matrix size: 237 (0.5*473) \n",
      "Num.Clusters: 3. Clusters proportions: [0.23286084 0.31211667 0.45502249]\n"
     ]
    },
    {
     "name": "stderr",
     "output_type": "stream",
     "text": [
      "[I 2024-05-04 21:01:49,269] Trial 44 finished with value: -180735.61969381364 and parameters: {'preprocessing__quant__imputer__method': 'simple_median', 'preprocessing__cat__imputer__method': 'simple_most_frequent', 'preprocessing__quant__scaler__apply': False, 'preprocessing__cat__encoder__method': 'ordinal', 'features_selector__apply': False, 'clustering_model__n_clusters': 3, 'clustering_model__method': 'pam', 'clustering_model__init': 'random', 'clustering_model__frac_sample_size': 0.5, 'clustering_model__d1': 'robust_mahalanobis', 'clustering_model__d2': 'sokal', 'clustering_model__n_splits': 31, 'clustering_model__robust_maha_method': 'trimmed', 'clustering_model__alpha': 0.09, 'clustering_model__estimators__0__n_estimators': 112, 'clustering_model__estimators__0__max_depth': 7, 'clustering_model__estimators__0__min_samples_split': 24, 'clustering_model__estimators__0__min_samples_leaf': 3, 'clustering_model__estimators__1__max_depth': 5, 'clustering_model__estimators__1__lambda': 0.2, 'clustering_model__estimators__1__n_estimators': 100, 'clustering_model__estimators__1__eta': 0.08, 'clustering_model__estimators__1__alpha': 0.26, 'clustering_model__estimators__2__n_estimators': 115, 'clustering_model__estimators__2__max_depth': 20, 'clustering_model__estimators__2__min_samples_split': 10, 'clustering_model__estimators__2__min_samples_leaf': 4}. Best is trial 43 with value: -178589.66440058086.\n"
     ]
    },
    {
     "name": "stdout",
     "output_type": "stream",
     "text": [
      "Num.Folds: 34. Fold size: 431.\n",
      "Distance matrix size: 216 (0.5*431) \n",
      "Num.Clusters: 3. Clusters proportions: [0.2210182  0.30014312 0.47883868]\n",
      "Num.Folds: 34. Fold size: 431.\n",
      "Distance matrix size: 216 (0.5*431) \n",
      "Num.Clusters: 3. Clusters proportions: [0.50824588 0.23940303 0.2523511 ]\n",
      "Num.Folds: 34. Fold size: 431.\n",
      "Distance matrix size: 216 (0.5*431) \n",
      "Num.Clusters: 3. Clusters proportions: [0.25310072 0.44091591 0.30598337]\n",
      "Num.Folds: 34. Fold size: 431.\n",
      "Distance matrix size: 216 (0.5*431) \n",
      "Num.Clusters: 3. Clusters proportions: [0.22550089 0.49059561 0.2839035 ]\n"
     ]
    },
    {
     "name": "stderr",
     "output_type": "stream",
     "text": [
      "[I 2024-05-04 21:03:52,710] Trial 45 finished with value: -183948.10634424063 and parameters: {'preprocessing__quant__imputer__method': 'simple_median', 'preprocessing__cat__imputer__method': 'simple_most_frequent', 'preprocessing__quant__scaler__apply': False, 'preprocessing__cat__encoder__method': 'ordinal', 'features_selector__apply': False, 'clustering_model__n_clusters': 3, 'clustering_model__method': 'pam', 'clustering_model__init': 'heuristic', 'clustering_model__frac_sample_size': 0.5, 'clustering_model__d1': 'robust_mahalanobis', 'clustering_model__d2': 'sokal', 'clustering_model__n_splits': 34, 'clustering_model__robust_maha_method': 'trimmed', 'clustering_model__alpha': 0.09, 'clustering_model__estimators__0__n_estimators': 117, 'clustering_model__estimators__0__max_depth': 30, 'clustering_model__estimators__0__min_samples_split': 22, 'clustering_model__estimators__0__min_samples_leaf': 7, 'clustering_model__estimators__1__max_depth': 5, 'clustering_model__estimators__1__lambda': 0.1, 'clustering_model__estimators__1__n_estimators': 30, 'clustering_model__estimators__1__eta': 0.08, 'clustering_model__estimators__1__alpha': 0.24000000000000002, 'clustering_model__estimators__2__n_estimators': 114, 'clustering_model__estimators__2__max_depth': None, 'clustering_model__estimators__2__min_samples_split': 4, 'clustering_model__estimators__2__min_samples_leaf': 8}. Best is trial 43 with value: -178589.66440058086.\n"
     ]
    },
    {
     "name": "stdout",
     "output_type": "stream",
     "text": [
      "Num.Folds: 22. Fold size: 666.\n",
      "Distance matrix size: 100 (0.15*666) \n",
      "Num.Clusters: 3. Clusters proportions: [0.80440264 0.16172562 0.03387174]\n",
      "Num.Folds: 22. Fold size: 667.\n",
      "Distance matrix size: 101 (0.15*667) \n",
      "Num.Clusters: 3. Clusters proportions: [0.02023988 0.74812594 0.23163418]\n",
      "Num.Folds: 22. Fold size: 667.\n",
      "Distance matrix size: 101 (0.15*667) \n",
      "Num.Clusters: 3. Clusters proportions: [0.75569034 0.02173913 0.22257053]\n",
      "Num.Folds: 22. Fold size: 667.\n",
      "Distance matrix size: 101 (0.15*667) \n",
      "Num.Clusters: 3. Clusters proportions: [0.48166826 0.3065967  0.21173504]\n"
     ]
    },
    {
     "name": "stderr",
     "output_type": "stream",
     "text": [
      "[I 2024-05-04 21:05:39,719] Trial 46 finished with value: -193445.17158019665 and parameters: {'preprocessing__quant__imputer__method': 'simple_median', 'preprocessing__cat__imputer__method': 'simple_most_frequent', 'preprocessing__quant__scaler__apply': False, 'preprocessing__cat__encoder__method': 'ordinal', 'features_selector__apply': False, 'clustering_model__n_clusters': 3, 'clustering_model__method': 'pam', 'clustering_model__init': 'random', 'clustering_model__frac_sample_size': 0.15, 'clustering_model__d1': 'robust_mahalanobis', 'clustering_model__d2': 'sokal', 'clustering_model__n_splits': 22, 'clustering_model__robust_maha_method': 'trimmed', 'clustering_model__alpha': 0.15, 'clustering_model__estimators__0__n_estimators': 100, 'clustering_model__estimators__0__max_depth': 5, 'clustering_model__estimators__0__min_samples_split': 24, 'clustering_model__estimators__0__min_samples_leaf': 10, 'clustering_model__estimators__1__max_depth': 5, 'clustering_model__estimators__1__lambda': 0.2, 'clustering_model__estimators__1__n_estimators': 100, 'clustering_model__estimators__1__eta': 0.04, 'clustering_model__estimators__1__alpha': 0.30000000000000004, 'clustering_model__estimators__2__n_estimators': 99, 'clustering_model__estimators__2__max_depth': 5, 'clustering_model__estimators__2__min_samples_split': 5, 'clustering_model__estimators__2__min_samples_leaf': 4}. Best is trial 43 with value: -178589.66440058086.\n"
     ]
    },
    {
     "name": "stdout",
     "output_type": "stream",
     "text": [
      "Num.Folds: 29. Fold size: 505.\n",
      "Distance matrix size: 253 (0.5*505) \n",
      "Num.Clusters: 3. Clusters proportions: [0.20145846 0.49185579 0.30668575]\n",
      "Num.Folds: 29. Fold size: 506.\n",
      "Distance matrix size: 253 (0.5*506) \n",
      "Num.Clusters: 3. Clusters proportions: [0.26414066 0.50306665 0.23279269]\n",
      "Num.Folds: 29. Fold size: 506.\n",
      "Distance matrix size: 253 (0.5*506) \n",
      "Num.Clusters: 3. Clusters proportions: [0.32976693 0.10297124 0.56726182]\n",
      "Num.Folds: 29. Fold size: 506.\n",
      "Distance matrix size: 253 (0.5*506) \n",
      "Num.Clusters: 3. Clusters proportions: [0.43621371 0.23592749 0.3278588 ]\n"
     ]
    },
    {
     "name": "stderr",
     "output_type": "stream",
     "text": [
      "[I 2024-05-04 21:08:54,518] Trial 47 finished with value: -202400.60760541912 and parameters: {'preprocessing__quant__imputer__method': 'simple_median', 'preprocessing__cat__imputer__method': 'simple_most_frequent', 'preprocessing__quant__scaler__apply': False, 'preprocessing__cat__encoder__method': 'ordinal', 'features_selector__apply': False, 'clustering_model__n_clusters': 3, 'clustering_model__method': 'pam', 'clustering_model__init': 'random', 'clustering_model__frac_sample_size': 0.5, 'clustering_model__d1': 'robust_mahalanobis', 'clustering_model__d2': 'sokal', 'clustering_model__n_splits': 29, 'clustering_model__robust_maha_method': 'trimmed', 'clustering_model__alpha': 0.2, 'clustering_model__estimators__0__n_estimators': 113, 'clustering_model__estimators__0__max_depth': 7, 'clustering_model__estimators__0__min_samples_split': 21, 'clustering_model__estimators__0__min_samples_leaf': 13, 'clustering_model__estimators__1__max_depth': 3, 'clustering_model__estimators__1__lambda': 0.2, 'clustering_model__estimators__1__n_estimators': 70, 'clustering_model__estimators__1__eta': 0.14, 'clustering_model__estimators__1__alpha': 0.8300000000000001, 'clustering_model__estimators__2__n_estimators': 104, 'clustering_model__estimators__2__max_depth': 3, 'clustering_model__estimators__2__min_samples_split': 4, 'clustering_model__estimators__2__min_samples_leaf': 2}. Best is trial 43 with value: -178589.66440058086.\n"
     ]
    },
    {
     "name": "stdout",
     "output_type": "stream",
     "text": [
      "Num.Folds: 36. Fold size: 407.\n",
      "Distance matrix size: 102 (0.25*407) \n",
      "Num.Clusters: 3. Clusters proportions: [0.17794589 0.02610236 0.79595175]\n",
      "Num.Folds: 36. Fold size: 407.\n",
      "Distance matrix size: 102 (0.25*407) \n",
      "Num.Clusters: 3. Clusters proportions: [0.21514243 0.03618645 0.74867112]\n",
      "Num.Folds: 36. Fold size: 407.\n",
      "Distance matrix size: 102 (0.25*407) \n",
      "Num.Clusters: 3. Clusters proportions: [0.18175003 0.03754941 0.78070056]\n",
      "Num.Folds: 36. Fold size: 407.\n",
      "Distance matrix size: 102 (0.25*407) \n",
      "Num.Clusters: 3. Clusters proportions: [0.19585662 0.0272591  0.77688429]\n"
     ]
    },
    {
     "name": "stderr",
     "output_type": "stream",
     "text": [
      "[I 2024-05-04 21:11:28,666] Trial 48 finished with value: -187631.5078071628 and parameters: {'preprocessing__quant__imputer__method': 'simple_median', 'preprocessing__cat__imputer__method': 'simple_most_frequent', 'preprocessing__quant__scaler__apply': False, 'preprocessing__cat__encoder__method': 'ordinal', 'features_selector__apply': False, 'clustering_model__n_clusters': 3, 'clustering_model__method': 'pam', 'clustering_model__init': 'random', 'clustering_model__frac_sample_size': 0.25, 'clustering_model__d1': 'robust_mahalanobis', 'clustering_model__d2': 'sokal', 'clustering_model__n_splits': 36, 'clustering_model__robust_maha_method': 'trimmed', 'clustering_model__alpha': 0.25, 'clustering_model__estimators__0__n_estimators': 107, 'clustering_model__estimators__0__max_depth': 7, 'clustering_model__estimators__0__min_samples_split': 19, 'clustering_model__estimators__0__min_samples_leaf': 7, 'clustering_model__estimators__1__max_depth': 20, 'clustering_model__estimators__1__lambda': 0.1, 'clustering_model__estimators__1__n_estimators': 100, 'clustering_model__estimators__1__eta': 0.1, 'clustering_model__estimators__1__alpha': 0.42000000000000004, 'clustering_model__estimators__2__n_estimators': 91, 'clustering_model__estimators__2__max_depth': 10, 'clustering_model__estimators__2__min_samples_split': 6, 'clustering_model__estimators__2__min_samples_leaf': 6}. Best is trial 43 with value: -178589.66440058086.\n"
     ]
    },
    {
     "name": "stdout",
     "output_type": "stream",
     "text": [
      "Num.Folds: 24. Fold size: 611.\n",
      "Distance matrix size: 62 (0.1*611) \n",
      "Num.Clusters: 3. Clusters proportions: [0.34348804 0.61786956 0.0386424 ]\n",
      "Num.Folds: 24. Fold size: 611.\n",
      "Distance matrix size: 62 (0.1*611) \n",
      "Num.Clusters: 3. Clusters proportions: [0.03407387 0.76563991 0.20028622]\n",
      "Num.Folds: 24. Fold size: 611.\n",
      "Distance matrix size: 62 (0.1*611) \n",
      "Num.Clusters: 3. Clusters proportions: [0.02296579 0.79412566 0.18290855]\n",
      "Num.Folds: 24. Fold size: 611.\n",
      "Distance matrix size: 62 (0.1*611) \n",
      "Num.Clusters: 3. Clusters proportions: [0.74785335 0.03291536 0.21923129]\n"
     ]
    },
    {
     "name": "stderr",
     "output_type": "stream",
     "text": [
      "[I 2024-05-04 21:12:59,672] Trial 49 finished with value: -194299.1619217441 and parameters: {'preprocessing__quant__imputer__method': 'simple_median', 'preprocessing__cat__imputer__method': 'simple_most_frequent', 'preprocessing__quant__scaler__apply': False, 'preprocessing__cat__encoder__method': 'ordinal', 'features_selector__apply': False, 'clustering_model__n_clusters': 3, 'clustering_model__method': 'pam', 'clustering_model__init': 'random', 'clustering_model__frac_sample_size': 0.1, 'clustering_model__d1': 'robust_mahalanobis', 'clustering_model__d2': 'sokal', 'clustering_model__n_splits': 24, 'clustering_model__robust_maha_method': 'trimmed', 'clustering_model__alpha': 0.3, 'clustering_model__estimators__0__n_estimators': 120, 'clustering_model__estimators__0__max_depth': 3, 'clustering_model__estimators__0__min_samples_split': 23, 'clustering_model__estimators__0__min_samples_leaf': 4, 'clustering_model__estimators__1__max_depth': 50, 'clustering_model__estimators__1__lambda': 0.30000000000000004, 'clustering_model__estimators__1__n_estimators': 100, 'clustering_model__estimators__1__eta': 0.04, 'clustering_model__estimators__1__alpha': 0.24000000000000002, 'clustering_model__estimators__2__n_estimators': 50, 'clustering_model__estimators__2__max_depth': 7, 'clustering_model__estimators__2__min_samples_split': 11, 'clustering_model__estimators__2__min_samples_leaf': 17}. Best is trial 43 with value: -178589.66440058086.\n"
     ]
    },
    {
     "name": "stdout",
     "output_type": "stream",
     "text": [
      "Num.Folds: 44. Fold size: 333.\n",
      "Distance matrix size: 167 (0.5*333) \n",
      "Num.Clusters: 3. Clusters proportions: [0.30075649 0.22122265 0.47802085]\n",
      "Num.Folds: 44. Fold size: 333.\n",
      "Distance matrix size: 167 (0.5*333) \n",
      "Num.Clusters: 3. Clusters proportions: [0.20669211 0.03495979 0.7583481 ]\n",
      "Num.Folds: 44. Fold size: 333.\n",
      "Distance matrix size: 167 (0.5*333) \n",
      "Num.Clusters: 3. Clusters proportions: [0.23272455 0.48003271 0.28724274]\n",
      "Num.Folds: 44. Fold size: 333.\n",
      "Distance matrix size: 167 (0.5*333) \n",
      "Num.Clusters: 3. Clusters proportions: [0.40316206 0.21514243 0.38169552]\n"
     ]
    },
    {
     "name": "stderr",
     "output_type": "stream",
     "text": [
      "[I 2024-05-04 21:16:18,755] Trial 50 finished with value: -184032.2075763 and parameters: {'preprocessing__quant__imputer__method': 'iterative_mean', 'preprocessing__cat__imputer__method': 'simple_most_frequent', 'preprocessing__quant__scaler__apply': False, 'preprocessing__cat__encoder__method': 'ordinal', 'features_selector__apply': False, 'clustering_model__n_clusters': 3, 'clustering_model__method': 'pam', 'clustering_model__init': 'heuristic', 'clustering_model__frac_sample_size': 0.5, 'clustering_model__d1': 'robust_mahalanobis', 'clustering_model__d2': 'sokal', 'clustering_model__n_splits': 44, 'clustering_model__robust_maha_method': 'trimmed', 'clustering_model__alpha': 0.05, 'clustering_model__estimators__0__n_estimators': 116, 'clustering_model__estimators__0__max_depth': 40, 'clustering_model__estimators__0__min_samples_split': 24, 'clustering_model__estimators__0__min_samples_leaf': 9, 'clustering_model__estimators__1__max_depth': 10, 'clustering_model__estimators__1__lambda': 0.2, 'clustering_model__estimators__1__n_estimators': 100, 'clustering_model__estimators__1__eta': 0.16, 'clustering_model__estimators__1__alpha': 0.35, 'clustering_model__estimators__2__n_estimators': 111, 'clustering_model__estimators__2__max_depth': 50, 'clustering_model__estimators__2__min_samples_split': 3, 'clustering_model__estimators__2__min_samples_leaf': 4}. Best is trial 43 with value: -178589.66440058086.\n"
     ]
    },
    {
     "name": "stdout",
     "output_type": "stream",
     "text": [
      "Num.Folds: 30. Fold size: 489.\n",
      "Distance matrix size: 245 (0.5*489) \n",
      "Num.Clusters: 3. Clusters proportions: [0.52838547 0.18701015 0.28460438]\n",
      "Num.Folds: 30. Fold size: 489.\n",
      "Distance matrix size: 245 (0.5*489) \n",
      "Num.Clusters: 3. Clusters proportions: [0.45597656 0.26993322 0.27409023]\n",
      "Num.Folds: 30. Fold size: 489.\n",
      "Distance matrix size: 245 (0.5*489) \n",
      "Num.Clusters: 3. Clusters proportions: [0.48412158 0.21480169 0.30107673]\n",
      "Num.Folds: 30. Fold size: 489.\n",
      "Distance matrix size: 245 (0.5*489) \n",
      "Num.Clusters: 3. Clusters proportions: [0.23081641 0.33644541 0.43273818]\n"
     ]
    },
    {
     "name": "stderr",
     "output_type": "stream",
     "text": [
      "[I 2024-05-04 21:20:39,992] Trial 51 finished with value: -192697.18804273373 and parameters: {'preprocessing__quant__imputer__method': 'simple_median', 'preprocessing__cat__imputer__method': 'simple_most_frequent', 'preprocessing__quant__scaler__apply': False, 'preprocessing__cat__encoder__method': 'ordinal', 'features_selector__apply': False, 'clustering_model__n_clusters': 3, 'clustering_model__method': 'pam', 'clustering_model__init': 'random', 'clustering_model__frac_sample_size': 0.5, 'clustering_model__d1': 'robust_mahalanobis', 'clustering_model__d2': 'sokal', 'clustering_model__n_splits': 30, 'clustering_model__robust_maha_method': 'trimmed', 'clustering_model__alpha': 0.15, 'clustering_model__estimators__0__n_estimators': 53, 'clustering_model__estimators__0__max_depth': 7, 'clustering_model__estimators__0__min_samples_split': 22, 'clustering_model__estimators__0__min_samples_leaf': 2, 'clustering_model__estimators__1__max_depth': 30, 'clustering_model__estimators__1__lambda': 0.1, 'clustering_model__estimators__1__n_estimators': 50, 'clustering_model__estimators__1__eta': 0.1, 'clustering_model__estimators__1__alpha': 0.29000000000000004, 'clustering_model__estimators__2__n_estimators': 118, 'clustering_model__estimators__2__max_depth': 7, 'clustering_model__estimators__2__min_samples_split': 3, 'clustering_model__estimators__2__min_samples_leaf': 3}. Best is trial 43 with value: -178589.66440058086.\n"
     ]
    },
    {
     "name": "stdout",
     "output_type": "stream",
     "text": [
      "Num.Folds: 27. Fold size: 543.\n",
      "Distance matrix size: 272 (0.5*543) \n",
      "Num.Clusters: 3. Clusters proportions: [0.5263409  0.25870647 0.21495263]\n",
      "Num.Folds: 27. Fold size: 543.\n",
      "Distance matrix size: 272 (0.5*543) \n",
      "Num.Clusters: 3. Clusters proportions: [0.44316478 0.31375221 0.243083  ]\n",
      "Num.Folds: 27. Fold size: 543.\n",
      "Distance matrix size: 272 (0.5*543) \n",
      "Num.Clusters: 3. Clusters proportions: [0.26407251 0.2674799  0.46844759]\n",
      "Num.Folds: 27. Fold size: 543.\n",
      "Distance matrix size: 272 (0.5*543) \n",
      "Num.Clusters: 3. Clusters proportions: [0.46401799 0.27599836 0.25998364]\n"
     ]
    },
    {
     "name": "stderr",
     "output_type": "stream",
     "text": [
      "[I 2024-05-04 21:25:38,315] Trial 52 finished with value: -179158.54872803227 and parameters: {'preprocessing__quant__imputer__method': 'simple_median', 'preprocessing__cat__imputer__method': 'simple_most_frequent', 'preprocessing__quant__scaler__apply': False, 'preprocessing__cat__encoder__method': 'ordinal', 'features_selector__apply': False, 'clustering_model__n_clusters': 3, 'clustering_model__method': 'pam', 'clustering_model__init': 'random', 'clustering_model__frac_sample_size': 0.5, 'clustering_model__d1': 'robust_mahalanobis', 'clustering_model__d2': 'sokal', 'clustering_model__n_splits': 27, 'clustering_model__robust_maha_method': 'trimmed', 'clustering_model__alpha': 0.09, 'clustering_model__estimators__0__n_estimators': 114, 'clustering_model__estimators__0__max_depth': 7, 'clustering_model__estimators__0__min_samples_split': 25, 'clustering_model__estimators__0__min_samples_leaf': 3, 'clustering_model__estimators__1__max_depth': 5, 'clustering_model__estimators__1__lambda': 0.2, 'clustering_model__estimators__1__n_estimators': 100, 'clustering_model__estimators__1__eta': 0.12, 'clustering_model__estimators__1__alpha': 0.2, 'clustering_model__estimators__2__n_estimators': 109, 'clustering_model__estimators__2__max_depth': 20, 'clustering_model__estimators__2__min_samples_split': 2, 'clustering_model__estimators__2__min_samples_leaf': 2}. Best is trial 43 with value: -178589.66440058086.\n"
     ]
    },
    {
     "name": "stdout",
     "output_type": "stream",
     "text": [
      "Num.Folds: 33. Fold size: 444.\n",
      "Distance matrix size: 222 (0.5*444) \n",
      "Num.Clusters: 3. Clusters proportions: [0.48006543 0.21699721 0.30293737]\n",
      "Num.Folds: 33. Fold size: 444.\n",
      "Distance matrix size: 222 (0.5*444) \n",
      "Num.Clusters: 3. Clusters proportions: [0.47519422 0.23585934 0.28894644]\n",
      "Num.Folds: 33. Fold size: 444.\n",
      "Distance matrix size: 222 (0.5*444) \n",
      "Num.Clusters: 3. Clusters proportions: [0.26311844 0.37821998 0.35866158]\n",
      "Num.Folds: 33. Fold size: 444.\n",
      "Distance matrix size: 222 (0.5*444) \n",
      "Num.Clusters: 3. Clusters proportions: [0.35368679 0.23347417 0.41283904]\n"
     ]
    },
    {
     "name": "stderr",
     "output_type": "stream",
     "text": [
      "[I 2024-05-04 21:29:55,450] Trial 53 finished with value: -179437.720725879 and parameters: {'preprocessing__quant__imputer__method': 'simple_median', 'preprocessing__cat__imputer__method': 'simple_most_frequent', 'preprocessing__quant__scaler__apply': False, 'preprocessing__cat__encoder__method': 'ordinal', 'features_selector__apply': False, 'clustering_model__n_clusters': 3, 'clustering_model__method': 'pam', 'clustering_model__init': 'random', 'clustering_model__frac_sample_size': 0.5, 'clustering_model__d1': 'robust_mahalanobis', 'clustering_model__d2': 'sokal', 'clustering_model__n_splits': 33, 'clustering_model__robust_maha_method': 'trimmed', 'clustering_model__alpha': 0.09, 'clustering_model__estimators__0__n_estimators': 107, 'clustering_model__estimators__0__max_depth': 7, 'clustering_model__estimators__0__min_samples_split': 24, 'clustering_model__estimators__0__min_samples_leaf': 4, 'clustering_model__estimators__1__max_depth': 5, 'clustering_model__estimators__1__lambda': 0.2, 'clustering_model__estimators__1__n_estimators': 100, 'clustering_model__estimators__1__eta': 0.08, 'clustering_model__estimators__1__alpha': 0.2, 'clustering_model__estimators__2__n_estimators': 105, 'clustering_model__estimators__2__max_depth': 20, 'clustering_model__estimators__2__min_samples_split': 4, 'clustering_model__estimators__2__min_samples_leaf': 3}. Best is trial 43 with value: -178589.66440058086.\n"
     ]
    },
    {
     "name": "stdout",
     "output_type": "stream",
     "text": [
      "Num.Folds: 33. Fold size: 444.\n",
      "Distance matrix size: 222 (0.5*444) \n",
      "Num.Clusters: 3. Clusters proportions: [0.48006543 0.21699721 0.30293737]\n",
      "Num.Folds: 33. Fold size: 444.\n",
      "Distance matrix size: 222 (0.5*444) \n",
      "Num.Clusters: 3. Clusters proportions: [0.47519422 0.23585934 0.28894644]\n",
      "Num.Folds: 33. Fold size: 444.\n",
      "Distance matrix size: 222 (0.5*444) \n",
      "Num.Clusters: 3. Clusters proportions: [0.26311844 0.37821998 0.35866158]\n",
      "Num.Folds: 33. Fold size: 444.\n",
      "Distance matrix size: 222 (0.5*444) \n",
      "Num.Clusters: 3. Clusters proportions: [0.35368679 0.23347417 0.41283904]\n"
     ]
    },
    {
     "name": "stderr",
     "output_type": "stream",
     "text": [
      "[I 2024-05-04 21:32:08,756] Trial 54 finished with value: -180603.1893447524 and parameters: {'preprocessing__quant__imputer__method': 'simple_median', 'preprocessing__cat__imputer__method': 'simple_most_frequent', 'preprocessing__quant__scaler__apply': False, 'preprocessing__cat__encoder__method': 'ordinal', 'features_selector__apply': False, 'clustering_model__n_clusters': 3, 'clustering_model__method': 'pam', 'clustering_model__init': 'random', 'clustering_model__frac_sample_size': 0.5, 'clustering_model__d1': 'robust_mahalanobis', 'clustering_model__d2': 'sokal', 'clustering_model__n_splits': 33, 'clustering_model__robust_maha_method': 'trimmed', 'clustering_model__alpha': 0.09, 'clustering_model__estimators__0__n_estimators': 107, 'clustering_model__estimators__0__max_depth': 7, 'clustering_model__estimators__0__min_samples_split': 24, 'clustering_model__estimators__0__min_samples_leaf': 4, 'clustering_model__estimators__1__max_depth': 5, 'clustering_model__estimators__1__lambda': 0.2, 'clustering_model__estimators__1__n_estimators': 100, 'clustering_model__estimators__1__eta': 0.14, 'clustering_model__estimators__1__alpha': 0.23, 'clustering_model__estimators__2__n_estimators': 112, 'clustering_model__estimators__2__max_depth': 20, 'clustering_model__estimators__2__min_samples_split': 6, 'clustering_model__estimators__2__min_samples_leaf': 5}. Best is trial 43 with value: -178589.66440058086.\n"
     ]
    },
    {
     "name": "stdout",
     "output_type": "stream",
     "text": [
      "Num.Folds: 37. Fold size: 396.\n",
      "Distance matrix size: 198 (0.5*396) \n",
      "Num.Clusters: 3. Clusters proportions: [0.23253595 0.1998228  0.56764125]\n",
      "Num.Folds: 37. Fold size: 396.\n",
      "Distance matrix size: 198 (0.5*396) \n",
      "Num.Clusters: 3. Clusters proportions: [0.17098269 0.80053155 0.02848576]\n",
      "Num.Folds: 37. Fold size: 396.\n",
      "Distance matrix size: 198 (0.5*396) \n",
      "Num.Clusters: 3. Clusters proportions: [0.22727273 0.74083413 0.03189314]\n",
      "Num.Folds: 37. Fold size: 396.\n",
      "Distance matrix size: 198 (0.5*396) \n",
      "Num.Clusters: 3. Clusters proportions: [0.24424152 0.5212621  0.23449639]\n"
     ]
    },
    {
     "name": "stderr",
     "output_type": "stream",
     "text": [
      "[I 2024-05-04 21:34:06,846] Trial 55 finished with value: -182016.0954002086 and parameters: {'preprocessing__quant__imputer__method': 'simple_median', 'preprocessing__cat__imputer__method': 'simple_most_frequent', 'preprocessing__quant__scaler__apply': False, 'preprocessing__cat__encoder__method': 'ordinal', 'features_selector__apply': False, 'clustering_model__n_clusters': 3, 'clustering_model__method': 'pam', 'clustering_model__init': 'random', 'clustering_model__frac_sample_size': 0.5, 'clustering_model__d1': 'robust_mahalanobis', 'clustering_model__d2': 'sokal', 'clustering_model__n_splits': 37, 'clustering_model__robust_maha_method': 'trimmed', 'clustering_model__alpha': 0.25, 'clustering_model__estimators__0__n_estimators': 113, 'clustering_model__estimators__0__max_depth': 7, 'clustering_model__estimators__0__min_samples_split': 23, 'clustering_model__estimators__0__min_samples_leaf': 3, 'clustering_model__estimators__1__max_depth': 7, 'clustering_model__estimators__1__lambda': 0.30000000000000004, 'clustering_model__estimators__1__n_estimators': 100, 'clustering_model__estimators__1__eta': 0.06, 'clustering_model__estimators__1__alpha': 0.28, 'clustering_model__estimators__2__n_estimators': 104, 'clustering_model__estimators__2__max_depth': 20, 'clustering_model__estimators__2__min_samples_split': 4, 'clustering_model__estimators__2__min_samples_leaf': 3}. Best is trial 43 with value: -178589.66440058086.\n"
     ]
    },
    {
     "name": "stdout",
     "output_type": "stream",
     "text": [
      "Num.Folds: 41. Fold size: 357.\n",
      "Distance matrix size: 125 (0.35*357) \n",
      "Num.Clusters: 3. Clusters proportions: [0.48388196 0.23130921 0.28480883]\n",
      "Num.Folds: 41. Fold size: 357.\n",
      "Distance matrix size: 125 (0.35*357) \n",
      "Num.Clusters: 3. Clusters proportions: [0.26768434 0.231089   0.50122666]\n",
      "Num.Folds: 41. Fold size: 357.\n",
      "Distance matrix size: 125 (0.35*357) \n",
      "Num.Clusters: 3. Clusters proportions: [0.23068011 0.29392122 0.47539866]\n",
      "Num.Folds: 41. Fold size: 357.\n",
      "Distance matrix size: 125 (0.35*357) \n",
      "Num.Clusters: 3. Clusters proportions: [0.23374676 0.34060243 0.42565081]\n"
     ]
    },
    {
     "name": "stderr",
     "output_type": "stream",
     "text": [
      "[I 2024-05-04 21:36:28,560] Trial 56 finished with value: -185677.94255547744 and parameters: {'preprocessing__quant__imputer__method': 'simple_median', 'preprocessing__cat__imputer__method': 'simple_most_frequent', 'preprocessing__quant__scaler__apply': False, 'preprocessing__cat__encoder__method': 'ordinal', 'features_selector__apply': False, 'clustering_model__n_clusters': 3, 'clustering_model__method': 'pam', 'clustering_model__init': 'random', 'clustering_model__frac_sample_size': 0.35, 'clustering_model__d1': 'robust_mahalanobis', 'clustering_model__d2': 'sokal', 'clustering_model__n_splits': 41, 'clustering_model__robust_maha_method': 'trimmed', 'clustering_model__alpha': 0.09, 'clustering_model__estimators__0__n_estimators': 102, 'clustering_model__estimators__0__max_depth': None, 'clustering_model__estimators__0__min_samples_split': 21, 'clustering_model__estimators__0__min_samples_leaf': 2, 'clustering_model__estimators__1__max_depth': 5, 'clustering_model__estimators__1__lambda': 0.2, 'clustering_model__estimators__1__n_estimators': 70, 'clustering_model__estimators__1__eta': 0.12, 'clustering_model__estimators__1__alpha': 0.26, 'clustering_model__estimators__2__n_estimators': 94, 'clustering_model__estimators__2__max_depth': 20, 'clustering_model__estimators__2__min_samples_split': 2, 'clustering_model__estimators__2__min_samples_leaf': 23}. Best is trial 43 with value: -178589.66440058086.\n"
     ]
    },
    {
     "name": "stdout",
     "output_type": "stream",
     "text": [
      "Num.Folds: 32. Fold size: 458.\n",
      "Distance matrix size: 321 (0.7*458) \n",
      "Num.Clusters: 3. Clusters proportions: [0.29210114 0.2268793  0.48101956]\n",
      "Num.Folds: 32. Fold size: 458.\n",
      "Distance matrix size: 321 (0.7*458) \n",
      "Num.Clusters: 3. Clusters proportions: [0.2507837  0.45359139 0.29562491]\n",
      "Num.Folds: 32. Fold size: 458.\n",
      "Distance matrix size: 321 (0.7*458) \n",
      "Num.Clusters: 3. Clusters proportions: [0.27654355 0.44425515 0.27920131]\n",
      "Num.Folds: 32. Fold size: 458.\n",
      "Distance matrix size: 321 (0.7*458) \n",
      "Num.Clusters: 3. Clusters proportions: [0.40466131 0.33719504 0.25814366]\n"
     ]
    },
    {
     "name": "stderr",
     "output_type": "stream",
     "text": [
      "[I 2024-05-04 21:38:33,805] Trial 57 finished with value: -189874.147719001 and parameters: {'preprocessing__quant__imputer__method': 'simple_median', 'preprocessing__cat__imputer__method': 'simple_most_frequent', 'preprocessing__quant__scaler__apply': False, 'preprocessing__cat__encoder__method': 'ordinal', 'features_selector__apply': False, 'clustering_model__n_clusters': 3, 'clustering_model__method': 'pam', 'clustering_model__init': 'random', 'clustering_model__frac_sample_size': 0.7, 'clustering_model__d1': 'robust_mahalanobis', 'clustering_model__d2': 'sokal', 'clustering_model__n_splits': 32, 'clustering_model__robust_maha_method': 'trimmed', 'clustering_model__alpha': 0.09, 'clustering_model__estimators__0__n_estimators': 95, 'clustering_model__estimators__0__max_depth': 7, 'clustering_model__estimators__0__min_samples_split': 19, 'clustering_model__estimators__0__min_samples_leaf': 5, 'clustering_model__estimators__1__max_depth': 5, 'clustering_model__estimators__1__lambda': 0.2, 'clustering_model__estimators__1__n_estimators': 100, 'clustering_model__estimators__1__eta': 0.1, 'clustering_model__estimators__1__alpha': 0.23, 'clustering_model__estimators__2__n_estimators': 117, 'clustering_model__estimators__2__max_depth': 5, 'clustering_model__estimators__2__min_samples_split': 7, 'clustering_model__estimators__2__min_samples_leaf': 5}. Best is trial 43 with value: -178589.66440058086.\n"
     ]
    },
    {
     "name": "stdout",
     "output_type": "stream",
     "text": [
      "Num.Folds: 25. Fold size: 586.\n",
      "Distance matrix size: 235 (0.4*586) \n",
      "Num.Clusters: 3. Clusters proportions: [0.58542902 0.20404825 0.21052273]\n",
      "Num.Folds: 25. Fold size: 586.\n",
      "Distance matrix size: 235 (0.4*586) \n",
      "Num.Clusters: 3. Clusters proportions: [0.21262096 0.77088728 0.01649175]\n",
      "Num.Folds: 25. Fold size: 586.\n",
      "Distance matrix size: 235 (0.4*586) \n",
      "Num.Clusters: 3. Clusters proportions: [0.21970833 0.23401935 0.54627232]\n",
      "Num.Folds: 25. Fold size: 586.\n",
      "Distance matrix size: 235 (0.4*586) \n",
      "Num.Clusters: 3. Clusters proportions: [0.49597928 0.21616464 0.28785607]\n"
     ]
    },
    {
     "name": "stderr",
     "output_type": "stream",
     "text": [
      "[I 2024-05-04 21:40:23,869] Trial 58 finished with value: -188885.50121990638 and parameters: {'preprocessing__quant__imputer__method': 'simple_median', 'preprocessing__cat__imputer__method': 'simple_most_frequent', 'preprocessing__quant__scaler__apply': False, 'preprocessing__cat__encoder__method': 'ordinal', 'features_selector__apply': False, 'clustering_model__n_clusters': 3, 'clustering_model__method': 'pam', 'clustering_model__init': 'random', 'clustering_model__frac_sample_size': 0.4, 'clustering_model__d1': 'robust_mahalanobis', 'clustering_model__d2': 'sokal', 'clustering_model__n_splits': 25, 'clustering_model__robust_maha_method': 'trimmed', 'clustering_model__alpha': 0.2, 'clustering_model__estimators__0__n_estimators': 110, 'clustering_model__estimators__0__max_depth': 10, 'clustering_model__estimators__0__min_samples_split': 22, 'clustering_model__estimators__0__min_samples_leaf': 6, 'clustering_model__estimators__1__max_depth': 40, 'clustering_model__estimators__1__lambda': 0.30000000000000004, 'clustering_model__estimators__1__n_estimators': 30, 'clustering_model__estimators__1__eta': 0.18, 'clustering_model__estimators__1__alpha': 0.31, 'clustering_model__estimators__2__n_estimators': 76, 'clustering_model__estimators__2__max_depth': 20, 'clustering_model__estimators__2__min_samples_split': 4, 'clustering_model__estimators__2__min_samples_leaf': 3}. Best is trial 43 with value: -178589.66440058086.\n"
     ]
    },
    {
     "name": "stdout",
     "output_type": "stream",
     "text": [
      "Num.Folds: 20. Fold size: 733.\n",
      "Distance matrix size: 110 (0.15*733) \n",
      "Num.Clusters: 3. Clusters proportions: [0.52600014 0.19614257 0.27785729]\n",
      "Num.Folds: 20. Fold size: 733.\n",
      "Distance matrix size: 110 (0.15*733) \n",
      "Num.Clusters: 3. Clusters proportions: [0.49972741 0.24901186 0.25126073]\n",
      "Num.Folds: 20. Fold size: 733.\n",
      "Distance matrix size: 110 (0.15*733) \n",
      "Num.Clusters: 3. Clusters proportions: [0.34544092 0.37896961 0.27558948]\n",
      "Num.Folds: 20. Fold size: 733.\n",
      "Distance matrix size: 110 (0.15*733) \n",
      "Num.Clusters: 3. Clusters proportions: [0.35743492 0.25044296 0.39212212]\n"
     ]
    },
    {
     "name": "stderr",
     "output_type": "stream",
     "text": [
      "[I 2024-05-04 21:42:19,101] Trial 59 finished with value: -181611.97765117127 and parameters: {'preprocessing__quant__imputer__method': 'iterative_mean', 'preprocessing__cat__imputer__method': 'simple_most_frequent', 'preprocessing__quant__scaler__apply': False, 'preprocessing__cat__encoder__method': 'ordinal', 'features_selector__apply': False, 'clustering_model__n_clusters': 3, 'clustering_model__method': 'pam', 'clustering_model__init': 'heuristic', 'clustering_model__frac_sample_size': 0.15, 'clustering_model__d1': 'robust_mahalanobis', 'clustering_model__d2': 'sokal', 'clustering_model__n_splits': 20, 'clustering_model__robust_maha_method': 'trimmed', 'clustering_model__alpha': 0.09, 'clustering_model__estimators__0__n_estimators': 96, 'clustering_model__estimators__0__max_depth': 3, 'clustering_model__estimators__0__min_samples_split': 24, 'clustering_model__estimators__0__min_samples_leaf': 4, 'clustering_model__estimators__1__max_depth': None, 'clustering_model__estimators__1__lambda': 0.1, 'clustering_model__estimators__1__n_estimators': 100, 'clustering_model__estimators__1__eta': 0.14, 'clustering_model__estimators__1__alpha': 0.2, 'clustering_model__estimators__2__n_estimators': 98, 'clustering_model__estimators__2__max_depth': 40, 'clustering_model__estimators__2__min_samples_split': 5, 'clustering_model__estimators__2__min_samples_leaf': 3}. Best is trial 43 with value: -178589.66440058086.\n"
     ]
    },
    {
     "name": "stdout",
     "output_type": "stream",
     "text": [
      "Num.Folds: 26. Fold size: 564.\n",
      "Distance matrix size: 113 (0.2*564) \n",
      "Num.Clusters: 3. Clusters proportions: [0.20568391 0.64213181 0.15218428]\n",
      "Num.Folds: 26. Fold size: 564.\n",
      "Distance matrix size: 113 (0.2*564) \n",
      "Num.Clusters: 3. Clusters proportions: [0.7899005  0.02848576 0.18161374]\n",
      "Num.Folds: 26. Fold size: 564.\n",
      "Distance matrix size: 113 (0.2*564) \n",
      "Num.Clusters: 3. Clusters proportions: [0.03461905 0.77477171 0.19060924]\n",
      "Num.Folds: 26. Fold size: 564.\n",
      "Distance matrix size: 113 (0.2*564) \n",
      "Num.Clusters: 3. Clusters proportions: [0.16048794 0.79766935 0.04184272]\n"
     ]
    },
    {
     "name": "stderr",
     "output_type": "stream",
     "text": [
      "[I 2024-05-04 21:43:56,106] Trial 60 finished with value: -182271.52158579841 and parameters: {'preprocessing__quant__imputer__method': 'simple_median', 'preprocessing__cat__imputer__method': 'simple_most_frequent', 'preprocessing__quant__scaler__apply': False, 'preprocessing__cat__encoder__method': 'ordinal', 'features_selector__apply': False, 'clustering_model__n_clusters': 3, 'clustering_model__method': 'pam', 'clustering_model__init': 'random', 'clustering_model__frac_sample_size': 0.2, 'clustering_model__d1': 'robust_mahalanobis', 'clustering_model__d2': 'sokal', 'clustering_model__n_splits': 26, 'clustering_model__robust_maha_method': 'trimmed', 'clustering_model__alpha': 0.3, 'clustering_model__estimators__0__n_estimators': 81, 'clustering_model__estimators__0__max_depth': 5, 'clustering_model__estimators__0__min_samples_split': 20, 'clustering_model__estimators__0__min_samples_leaf': 3, 'clustering_model__estimators__1__max_depth': 5, 'clustering_model__estimators__1__lambda': 0.2, 'clustering_model__estimators__1__n_estimators': 180, 'clustering_model__estimators__1__eta': 0.2, 'clustering_model__estimators__1__alpha': 0.26, 'clustering_model__estimators__2__n_estimators': 104, 'clustering_model__estimators__2__max_depth': 50, 'clustering_model__estimators__2__min_samples_split': 3, 'clustering_model__estimators__2__min_samples_leaf': 7}. Best is trial 43 with value: -178589.66440058086.\n"
     ]
    },
    {
     "name": "stdout",
     "output_type": "stream",
     "text": [
      "Num.Folds: 40. Fold size: 366.\n",
      "Distance matrix size: 183 (0.5*366) \n",
      "Num.Clusters: 3. Clusters proportions: [0.25277721 0.39044504 0.35677776]\n",
      "Num.Folds: 40. Fold size: 366.\n",
      "Distance matrix size: 183 (0.5*366) \n",
      "Num.Clusters: 3. Clusters proportions: [0.24710372 0.40602426 0.34687202]\n",
      "Num.Folds: 40. Fold size: 366.\n",
      "Distance matrix size: 183 (0.5*366) \n",
      "Num.Clusters: 3. Clusters proportions: [0.46940166 0.25466812 0.27593022]\n",
      "Num.Folds: 40. Fold size: 366.\n",
      "Distance matrix size: 183 (0.5*366) \n",
      "Num.Clusters: 3. Clusters proportions: [0.24942074 0.27361319 0.47696606]\n"
     ]
    },
    {
     "name": "stderr",
     "output_type": "stream",
     "text": [
      "[I 2024-05-04 21:49:00,934] Trial 61 finished with value: -202955.5793951663 and parameters: {'preprocessing__quant__imputer__method': 'simple_median', 'preprocessing__cat__imputer__method': 'simple_most_frequent', 'preprocessing__quant__scaler__apply': False, 'preprocessing__cat__encoder__method': 'ordinal', 'features_selector__apply': False, 'clustering_model__n_clusters': 3, 'clustering_model__method': 'pam', 'clustering_model__init': 'random', 'clustering_model__frac_sample_size': 0.5, 'clustering_model__d1': 'robust_mahalanobis', 'clustering_model__d2': 'sokal', 'clustering_model__n_splits': 40, 'clustering_model__robust_maha_method': 'trimmed', 'clustering_model__alpha': 0.05, 'clustering_model__estimators__0__n_estimators': 118, 'clustering_model__estimators__0__max_depth': 30, 'clustering_model__estimators__0__min_samples_split': 25, 'clustering_model__estimators__0__min_samples_leaf': 8, 'clustering_model__estimators__1__max_depth': 50, 'clustering_model__estimators__1__lambda': 0.2, 'clustering_model__estimators__1__n_estimators': 100, 'clustering_model__estimators__1__eta': 0.06, 'clustering_model__estimators__1__alpha': 0.35, 'clustering_model__estimators__2__n_estimators': 111, 'clustering_model__estimators__2__max_depth': 3, 'clustering_model__estimators__2__min_samples_split': 15, 'clustering_model__estimators__2__min_samples_leaf': 17}. Best is trial 43 with value: -178589.66440058086.\n"
     ]
    },
    {
     "name": "stdout",
     "output_type": "stream",
     "text": [
      "Num.Folds: 29. Fold size: 505.\n",
      "Distance matrix size: 253 (0.5*505) \n",
      "Num.Clusters: 3. Clusters proportions: [0.23682955 0.44755674 0.31561371]\n",
      "Num.Folds: 29. Fold size: 506.\n",
      "Distance matrix size: 253 (0.5*506) \n",
      "Num.Clusters: 3. Clusters proportions: [0.42687747 0.3080278  0.26509473]\n",
      "Num.Folds: 29. Fold size: 506.\n",
      "Distance matrix size: 253 (0.5*506) \n",
      "Num.Clusters: 3. Clusters proportions: [0.10085866 0.26584435 0.63329699]\n",
      "Num.Folds: 29. Fold size: 506.\n",
      "Distance matrix size: 253 (0.5*506) \n",
      "Num.Clusters: 3. Clusters proportions: [0.45877061 0.30209895 0.23913043]\n"
     ]
    },
    {
     "name": "stderr",
     "output_type": "stream",
     "text": [
      "[I 2024-05-04 21:53:23,884] Trial 62 finished with value: -181036.493838392 and parameters: {'preprocessing__quant__imputer__method': 'simple_median', 'preprocessing__cat__imputer__method': 'simple_most_frequent', 'preprocessing__quant__scaler__apply': False, 'preprocessing__cat__encoder__method': 'ordinal', 'features_selector__apply': False, 'clustering_model__n_clusters': 3, 'clustering_model__method': 'pam', 'clustering_model__init': 'random', 'clustering_model__frac_sample_size': 0.5, 'clustering_model__d1': 'robust_mahalanobis', 'clustering_model__d2': 'sokal', 'clustering_model__n_splits': 29, 'clustering_model__robust_maha_method': 'trimmed', 'clustering_model__alpha': 0.09, 'clustering_model__estimators__0__n_estimators': 118, 'clustering_model__estimators__0__max_depth': 7, 'clustering_model__estimators__0__min_samples_split': 25, 'clustering_model__estimators__0__min_samples_leaf': 15, 'clustering_model__estimators__1__max_depth': 5, 'clustering_model__estimators__1__lambda': 0.2, 'clustering_model__estimators__1__n_estimators': 100, 'clustering_model__estimators__1__eta': 0.08, 'clustering_model__estimators__1__alpha': 0.22, 'clustering_model__estimators__2__n_estimators': 108, 'clustering_model__estimators__2__max_depth': 20, 'clustering_model__estimators__2__min_samples_split': 3, 'clustering_model__estimators__2__min_samples_leaf': 3}. Best is trial 43 with value: -178589.66440058086.\n"
     ]
    },
    {
     "name": "stdout",
     "output_type": "stream",
     "text": [
      "Num.Folds: 27. Fold size: 543.\n",
      "Distance matrix size: 272 (0.5*543) \n",
      "Num.Clusters: 3. Clusters proportions: [0.5263409  0.25870647 0.21495263]\n",
      "Num.Folds: 27. Fold size: 543.\n",
      "Distance matrix size: 272 (0.5*543) \n",
      "Num.Clusters: 3. Clusters proportions: [0.44316478 0.31375221 0.243083  ]\n",
      "Num.Folds: 27. Fold size: 543.\n",
      "Distance matrix size: 272 (0.5*543) \n",
      "Num.Clusters: 3. Clusters proportions: [0.26407251 0.2674799  0.46844759]\n",
      "Num.Folds: 27. Fold size: 543.\n",
      "Distance matrix size: 272 (0.5*543) \n",
      "Num.Clusters: 3. Clusters proportions: [0.46401799 0.27599836 0.25998364]\n"
     ]
    },
    {
     "name": "stderr",
     "output_type": "stream",
     "text": [
      "[I 2024-05-04 21:55:46,100] Trial 63 finished with value: -181600.9055251647 and parameters: {'preprocessing__quant__imputer__method': 'simple_median', 'preprocessing__cat__imputer__method': 'simple_most_frequent', 'preprocessing__quant__scaler__apply': False, 'preprocessing__cat__encoder__method': 'ordinal', 'features_selector__apply': False, 'clustering_model__n_clusters': 3, 'clustering_model__method': 'pam', 'clustering_model__init': 'random', 'clustering_model__frac_sample_size': 0.5, 'clustering_model__d1': 'robust_mahalanobis', 'clustering_model__d2': 'sokal', 'clustering_model__n_splits': 27, 'clustering_model__robust_maha_method': 'trimmed', 'clustering_model__alpha': 0.09, 'clustering_model__estimators__0__n_estimators': 114, 'clustering_model__estimators__0__max_depth': 7, 'clustering_model__estimators__0__min_samples_split': 24, 'clustering_model__estimators__0__min_samples_leaf': 6, 'clustering_model__estimators__1__max_depth': 5, 'clustering_model__estimators__1__lambda': 0.2, 'clustering_model__estimators__1__n_estimators': 100, 'clustering_model__estimators__1__eta': 0.1, 'clustering_model__estimators__1__alpha': 0.2, 'clustering_model__estimators__2__n_estimators': 117, 'clustering_model__estimators__2__max_depth': 20, 'clustering_model__estimators__2__min_samples_split': 22, 'clustering_model__estimators__2__min_samples_leaf': 2}. Best is trial 43 with value: -178589.66440058086.\n"
     ]
    },
    {
     "name": "stdout",
     "output_type": "stream",
     "text": [
      "Num.Folds: 34. Fold size: 431.\n",
      "Distance matrix size: 216 (0.5*431) \n",
      "Num.Clusters: 3. Clusters proportions: [0.23158182 0.22551625 0.54290193]\n",
      "Num.Folds: 34. Fold size: 431.\n",
      "Distance matrix size: 216 (0.5*431) \n",
      "Num.Clusters: 3. Clusters proportions: [0.41904048 0.22093499 0.36002453]\n",
      "Num.Folds: 34. Fold size: 431.\n",
      "Distance matrix size: 216 (0.5*431) \n",
      "Num.Clusters: 3. Clusters proportions: [0.29644269 0.45052474 0.25303257]\n",
      "Num.Folds: 34. Fold size: 431.\n",
      "Distance matrix size: 216 (0.5*431) \n",
      "Num.Clusters: 3. Clusters proportions: [0.45147881 0.20928172 0.33923947]\n"
     ]
    },
    {
     "name": "stderr",
     "output_type": "stream",
     "text": [
      "[I 2024-05-04 21:57:54,982] Trial 64 finished with value: -180797.63796377147 and parameters: {'preprocessing__quant__imputer__method': 'simple_median', 'preprocessing__cat__imputer__method': 'simple_most_frequent', 'preprocessing__quant__scaler__apply': False, 'preprocessing__cat__encoder__method': 'ordinal', 'features_selector__apply': False, 'clustering_model__n_clusters': 3, 'clustering_model__method': 'pam', 'clustering_model__init': 'random', 'clustering_model__frac_sample_size': 0.5, 'clustering_model__d1': 'robust_mahalanobis', 'clustering_model__d2': 'sokal', 'clustering_model__n_splits': 34, 'clustering_model__robust_maha_method': 'trimmed', 'clustering_model__alpha': 0.09, 'clustering_model__estimators__0__n_estimators': 112, 'clustering_model__estimators__0__max_depth': 7, 'clustering_model__estimators__0__min_samples_split': 23, 'clustering_model__estimators__0__min_samples_leaf': 10, 'clustering_model__estimators__1__max_depth': 5, 'clustering_model__estimators__1__lambda': 0.30000000000000004, 'clustering_model__estimators__1__n_estimators': 100, 'clustering_model__estimators__1__eta': 0.08, 'clustering_model__estimators__1__alpha': 0.24000000000000002, 'clustering_model__estimators__2__n_estimators': 107, 'clustering_model__estimators__2__max_depth': 20, 'clustering_model__estimators__2__min_samples_split': 3, 'clustering_model__estimators__2__min_samples_leaf': 5}. Best is trial 43 with value: -178589.66440058086.\n"
     ]
    },
    {
     "name": "stdout",
     "output_type": "stream",
     "text": [
      "Num.Folds: 32. Fold size: 458.\n",
      "Distance matrix size: 138 (0.3*458) \n",
      "Num.Clusters: 3. Clusters proportions: [0.30266476 0.19668779 0.50064745]\n",
      "Num.Folds: 32. Fold size: 458.\n",
      "Distance matrix size: 138 (0.3*458) \n",
      "Num.Clusters: 3. Clusters proportions: [0.23027123 0.26822952 0.50149925]\n",
      "Num.Folds: 32. Fold size: 458.\n",
      "Distance matrix size: 138 (0.3*458) \n",
      "Num.Clusters: 3. Clusters proportions: [0.23170233 0.51035846 0.25793921]\n",
      "Num.Folds: 32. Fold size: 458.\n",
      "Distance matrix size: 138 (0.3*458) \n",
      "Num.Clusters: 3. Clusters proportions: [0.28887829 0.24117487 0.46994684]\n"
     ]
    },
    {
     "name": "stderr",
     "output_type": "stream",
     "text": [
      "[I 2024-05-04 22:00:11,055] Trial 65 finished with value: -190536.73005321278 and parameters: {'preprocessing__quant__imputer__method': 'simple_median', 'preprocessing__cat__imputer__method': 'simple_most_frequent', 'preprocessing__quant__scaler__apply': False, 'preprocessing__cat__encoder__method': 'ordinal', 'features_selector__apply': False, 'clustering_model__n_clusters': 3, 'clustering_model__method': 'pam', 'clustering_model__init': 'random', 'clustering_model__frac_sample_size': 0.3, 'clustering_model__d1': 'robust_mahalanobis', 'clustering_model__d2': 'sokal', 'clustering_model__n_splits': 32, 'clustering_model__robust_maha_method': 'trimmed', 'clustering_model__alpha': 0.09, 'clustering_model__estimators__0__n_estimators': 108, 'clustering_model__estimators__0__max_depth': 7, 'clustering_model__estimators__0__min_samples_split': 25, 'clustering_model__estimators__0__min_samples_leaf': 11, 'clustering_model__estimators__1__max_depth': 20, 'clustering_model__estimators__1__lambda': 0.2, 'clustering_model__estimators__1__n_estimators': 50, 'clustering_model__estimators__1__eta': 0.12, 'clustering_model__estimators__1__alpha': 0.31, 'clustering_model__estimators__2__n_estimators': 111, 'clustering_model__estimators__2__max_depth': 10, 'clustering_model__estimators__2__min_samples_split': 2, 'clustering_model__estimators__2__min_samples_leaf': 15}. Best is trial 43 with value: -178589.66440058086.\n"
     ]
    },
    {
     "name": "stdout",
     "output_type": "stream",
     "text": [
      "Num.Folds: 23. Fold size: 637.\n",
      "Distance matrix size: 319 (0.5*637) \n",
      "Num.Clusters: 3. Clusters proportions: [0.24902883 0.33871737 0.4122538 ]\n",
      "Num.Folds: 23. Fold size: 638.\n",
      "Distance matrix size: 319 (0.5*638) \n",
      "Num.Clusters: 3. Clusters proportions: [0.47621644 0.29283086 0.23095271]\n",
      "Num.Folds: 23. Fold size: 638.\n",
      "Distance matrix size: 319 (0.5*638) \n",
      "Num.Clusters: 3. Clusters proportions: [0.28342647 0.24056154 0.47601199]\n",
      "Num.Folds: 23. Fold size: 638.\n",
      "Distance matrix size: 319 (0.5*638) \n",
      "Num.Clusters: 3. Clusters proportions: [0.45611285 0.26516287 0.27872427]\n"
     ]
    },
    {
     "name": "stderr",
     "output_type": "stream",
     "text": [
      "[I 2024-05-04 22:04:03,843] Trial 66 finished with value: -182978.55797171989 and parameters: {'preprocessing__quant__imputer__method': 'simple_median', 'preprocessing__cat__imputer__method': 'simple_most_frequent', 'preprocessing__quant__scaler__apply': False, 'preprocessing__cat__encoder__method': 'ordinal', 'features_selector__apply': False, 'clustering_model__n_clusters': 3, 'clustering_model__method': 'pam', 'clustering_model__init': 'random', 'clustering_model__frac_sample_size': 0.5, 'clustering_model__d1': 'robust_mahalanobis', 'clustering_model__d2': 'sokal', 'clustering_model__n_splits': 23, 'clustering_model__robust_maha_method': 'trimmed', 'clustering_model__alpha': 0.09, 'clustering_model__estimators__0__n_estimators': 119, 'clustering_model__estimators__0__max_depth': 7, 'clustering_model__estimators__0__min_samples_split': 23, 'clustering_model__estimators__0__min_samples_leaf': 2, 'clustering_model__estimators__1__max_depth': 3, 'clustering_model__estimators__1__lambda': 0.1, 'clustering_model__estimators__1__n_estimators': 100, 'clustering_model__estimators__1__eta': 0.04, 'clustering_model__estimators__1__alpha': 0.2, 'clustering_model__estimators__2__n_estimators': 101, 'clustering_model__estimators__2__max_depth': None, 'clustering_model__estimators__2__min_samples_split': 7, 'clustering_model__estimators__2__min_samples_leaf': 3}. Best is trial 43 with value: -178589.66440058086.\n"
     ]
    },
    {
     "name": "stdout",
     "output_type": "stream",
     "text": [
      "Num.Folds: 30. Fold size: 489.\n",
      "Distance matrix size: 294 (0.6*489) \n",
      "Num.Clusters: 3. Clusters proportions: [0.5048729  0.28923874 0.20588837]\n",
      "Num.Folds: 30. Fold size: 489.\n",
      "Distance matrix size: 294 (0.6*489) \n",
      "Num.Clusters: 3. Clusters proportions: [0.45836173 0.26700286 0.27463541]\n",
      "Num.Folds: 30. Fold size: 489.\n",
      "Distance matrix size: 294 (0.6*489) \n",
      "Num.Clusters: 3. Clusters proportions: [0.45768025 0.24976148 0.29255827]\n",
      "Num.Folds: 30. Fold size: 489.\n",
      "Distance matrix size: 294 (0.6*489) \n",
      "Num.Clusters: 3. Clusters proportions: [0.3655445  0.24512744 0.38932806]\n"
     ]
    },
    {
     "name": "stderr",
     "output_type": "stream",
     "text": [
      "[I 2024-05-04 22:09:04,845] Trial 67 finished with value: -185539.2567333729 and parameters: {'preprocessing__quant__imputer__method': 'iterative_median', 'preprocessing__cat__imputer__method': 'simple_most_frequent', 'preprocessing__quant__scaler__apply': False, 'preprocessing__cat__encoder__method': 'ordinal', 'features_selector__apply': False, 'clustering_model__n_clusters': 3, 'clustering_model__method': 'pam', 'clustering_model__init': 'random', 'clustering_model__frac_sample_size': 0.6, 'clustering_model__d1': 'robust_mahalanobis', 'clustering_model__d2': 'sokal', 'clustering_model__n_splits': 30, 'clustering_model__robust_maha_method': 'trimmed', 'clustering_model__alpha': 0.09, 'clustering_model__estimators__0__n_estimators': 116, 'clustering_model__estimators__0__max_depth': 50, 'clustering_model__estimators__0__min_samples_split': 14, 'clustering_model__estimators__0__min_samples_leaf': 5, 'clustering_model__estimators__1__max_depth': 30, 'clustering_model__estimators__1__lambda': 0.30000000000000004, 'clustering_model__estimators__1__n_estimators': 100, 'clustering_model__estimators__1__eta': 0.16, 'clustering_model__estimators__1__alpha': 0.5700000000000001, 'clustering_model__estimators__2__n_estimators': 105, 'clustering_model__estimators__2__max_depth': 20, 'clustering_model__estimators__2__min_samples_split': 5, 'clustering_model__estimators__2__min_samples_leaf': 2}. Best is trial 43 with value: -178589.66440058086.\n"
     ]
    },
    {
     "name": "stdout",
     "output_type": "stream",
     "text": [
      "Num.Folds: 26. Fold size: 564.\n",
      "Distance matrix size: 141 (0.25*564) \n",
      "Num.Clusters: 3. Clusters proportions: [0.14734546 0.27199618 0.58065835]\n",
      "Num.Folds: 26. Fold size: 564.\n",
      "Distance matrix size: 141 (0.25*564) \n",
      "Num.Clusters: 3. Clusters proportions: [0.74185634 0.02453319 0.23361047]\n",
      "Num.Folds: 26. Fold size: 564.\n",
      "Distance matrix size: 141 (0.25*564) \n",
      "Num.Clusters: 3. Clusters proportions: [0.02521467 0.17704784 0.79773749]\n",
      "Num.Folds: 26. Fold size: 564.\n",
      "Distance matrix size: 141 (0.25*564) \n",
      "Num.Clusters: 3. Clusters proportions: [0.20641952 0.24212894 0.55145155]\n"
     ]
    },
    {
     "name": "stderr",
     "output_type": "stream",
     "text": [
      "[I 2024-05-04 22:13:36,627] Trial 68 finished with value: -188712.46799726077 and parameters: {'preprocessing__quant__imputer__method': 'simple_median', 'preprocessing__cat__imputer__method': 'simple_most_frequent', 'preprocessing__quant__scaler__apply': False, 'preprocessing__cat__encoder__method': 'ordinal', 'features_selector__apply': False, 'clustering_model__n_clusters': 3, 'clustering_model__method': 'pam', 'clustering_model__init': 'random', 'clustering_model__frac_sample_size': 0.25, 'clustering_model__d1': 'robust_mahalanobis', 'clustering_model__d2': 'sokal', 'clustering_model__n_splits': 26, 'clustering_model__robust_maha_method': 'trimmed', 'clustering_model__alpha': 0.25, 'clustering_model__estimators__0__n_estimators': 115, 'clustering_model__estimators__0__max_depth': 40, 'clustering_model__estimators__0__min_samples_split': 22, 'clustering_model__estimators__0__min_samples_leaf': 4, 'clustering_model__estimators__1__max_depth': 5, 'clustering_model__estimators__1__lambda': 0.2, 'clustering_model__estimators__1__n_estimators': 100, 'clustering_model__estimators__1__eta': 0.02, 'clustering_model__estimators__1__alpha': 0.27, 'clustering_model__estimators__2__n_estimators': 117, 'clustering_model__estimators__2__max_depth': 30, 'clustering_model__estimators__2__min_samples_split': 4, 'clustering_model__estimators__2__min_samples_leaf': 11}. Best is trial 43 with value: -178589.66440058086.\n"
     ]
    },
    {
     "name": "stdout",
     "output_type": "stream",
     "text": [
      "Num.Folds: 35. Fold size: 419.\n",
      "Distance matrix size: 42 (0.1*419) \n",
      "Num.Clusters: 3. Clusters proportions: [0.21870102 0.27233695 0.50896204]\n",
      "Num.Folds: 35. Fold size: 419.\n",
      "Distance matrix size: 42 (0.1*419) \n",
      "Num.Clusters: 3. Clusters proportions: [0.03400572 0.80462042 0.16137386]\n",
      "Num.Folds: 35. Fold size: 419.\n",
      "Distance matrix size: 42 (0.1*419) \n",
      "Num.Folds: 35. Fold size: 419.\n",
      "Distance matrix size: 42 (0.1*419) \n",
      "Num.Clusters: 3. Clusters proportions: [0.15442279 0.68161374 0.16396347]\n"
     ]
    },
    {
     "name": "stderr",
     "output_type": "stream",
     "text": [
      "[W 2024-05-04 22:17:21,309] Trial 69 failed with parameters: {'preprocessing__quant__imputer__method': 'simple_median', 'preprocessing__cat__imputer__method': 'simple_most_frequent', 'preprocessing__quant__scaler__apply': False, 'preprocessing__cat__encoder__method': 'ordinal', 'features_selector__apply': False, 'clustering_model__n_clusters': 3, 'clustering_model__method': 'pam', 'clustering_model__init': 'heuristic', 'clustering_model__frac_sample_size': 0.1, 'clustering_model__d1': 'robust_mahalanobis', 'clustering_model__d2': 'sokal', 'clustering_model__n_splits': 35, 'clustering_model__robust_maha_method': 'trimmed', 'clustering_model__alpha': 0.09, 'clustering_model__estimators__0__n_estimators': 104, 'clustering_model__estimators__0__max_depth': 7, 'clustering_model__estimators__0__min_samples_split': 24, 'clustering_model__estimators__0__min_samples_leaf': 3, 'clustering_model__estimators__1__max_depth': None, 'clustering_model__estimators__1__lambda': 0.2, 'clustering_model__estimators__1__n_estimators': 70, 'clustering_model__estimators__1__eta': 0.08, 'clustering_model__estimators__1__alpha': 0.22, 'clustering_model__estimators__2__n_estimators': 112, 'clustering_model__estimators__2__max_depth': 20, 'clustering_model__estimators__2__min_samples_split': 2, 'clustering_model__estimators__2__min_samples_leaf': 5} because of the following error: The value nan is not acceptable.\n",
      "[W 2024-05-04 22:17:21,309] Trial 69 failed with value nan.\n"
     ]
    },
    {
     "name": "stdout",
     "output_type": "stream",
     "text": [
      "Num.Folds: 29. Fold size: 505.\n",
      "Distance matrix size: 51 (0.1*505) \n",
      "Num.Folds: 29. Fold size: 506.\n",
      "Distance matrix size: 51 (0.1*506) \n",
      "Num.Clusters: 3. Clusters proportions: [0.19081368 0.21929944 0.58988687]\n",
      "Num.Folds: 29. Fold size: 506.\n",
      "Distance matrix size: 51 (0.1*506) \n",
      "Num.Clusters: 3. Clusters proportions: [0.7930353  0.18297669 0.02398801]\n",
      "Num.Folds: 29. Fold size: 506.\n",
      "Distance matrix size: 51 (0.1*506) \n",
      "Num.Clusters: 3. Clusters proportions: [0.04266049 0.16818863 0.78915088]\n"
     ]
    },
    {
     "name": "stderr",
     "output_type": "stream",
     "text": [
      "[W 2024-05-04 22:21:06,285] Trial 70 failed with parameters: {'preprocessing__quant__imputer__method': 'simple_median', 'preprocessing__cat__imputer__method': 'simple_most_frequent', 'preprocessing__quant__scaler__apply': False, 'preprocessing__cat__encoder__method': 'ordinal', 'features_selector__apply': False, 'clustering_model__n_clusters': 3, 'clustering_model__method': 'pam', 'clustering_model__init': 'heuristic', 'clustering_model__frac_sample_size': 0.1, 'clustering_model__d1': 'robust_mahalanobis', 'clustering_model__d2': 'sokal', 'clustering_model__n_splits': 29, 'clustering_model__robust_maha_method': 'trimmed', 'clustering_model__alpha': 0.09, 'clustering_model__estimators__0__n_estimators': 57, 'clustering_model__estimators__0__max_depth': 7, 'clustering_model__estimators__0__min_samples_split': 24, 'clustering_model__estimators__0__min_samples_leaf': 3, 'clustering_model__estimators__1__max_depth': None, 'clustering_model__estimators__1__lambda': 0.2, 'clustering_model__estimators__1__n_estimators': 70, 'clustering_model__estimators__1__eta': 0.08, 'clustering_model__estimators__1__alpha': 0.23, 'clustering_model__estimators__2__n_estimators': 89, 'clustering_model__estimators__2__max_depth': 20, 'clustering_model__estimators__2__min_samples_split': 2, 'clustering_model__estimators__2__min_samples_leaf': 5} because of the following error: The value nan is not acceptable.\n",
      "[W 2024-05-04 22:21:06,301] Trial 70 failed with value nan.\n"
     ]
    },
    {
     "name": "stdout",
     "output_type": "stream",
     "text": [
      "Num.Folds: 29. Fold size: 505.\n",
      "Distance matrix size: 51 (0.1*505) \n",
      "Num.Folds: 29. Fold size: 506.\n",
      "Distance matrix size: 51 (0.1*506) \n",
      "Num.Clusters: 3. Clusters proportions: [0.19081368 0.21929944 0.58988687]\n",
      "Num.Folds: 29. Fold size: 506.\n",
      "Distance matrix size: 51 (0.1*506) \n",
      "Num.Clusters: 3. Clusters proportions: [0.7930353  0.18297669 0.02398801]\n",
      "Num.Folds: 29. Fold size: 506.\n",
      "Distance matrix size: 51 (0.1*506) \n",
      "Num.Clusters: 3. Clusters proportions: [0.04266049 0.16818863 0.78915088]\n"
     ]
    },
    {
     "name": "stderr",
     "output_type": "stream",
     "text": [
      "[W 2024-05-04 22:25:13,175] Trial 71 failed with parameters: {'preprocessing__quant__imputer__method': 'simple_median', 'preprocessing__cat__imputer__method': 'simple_most_frequent', 'preprocessing__quant__scaler__apply': False, 'preprocessing__cat__encoder__method': 'ordinal', 'features_selector__apply': False, 'clustering_model__n_clusters': 3, 'clustering_model__method': 'pam', 'clustering_model__init': 'heuristic', 'clustering_model__frac_sample_size': 0.1, 'clustering_model__d1': 'robust_mahalanobis', 'clustering_model__d2': 'sokal', 'clustering_model__n_splits': 29, 'clustering_model__robust_maha_method': 'trimmed', 'clustering_model__alpha': 0.09, 'clustering_model__estimators__0__n_estimators': 104, 'clustering_model__estimators__0__max_depth': 7, 'clustering_model__estimators__0__min_samples_split': 24, 'clustering_model__estimators__0__min_samples_leaf': 3, 'clustering_model__estimators__1__max_depth': None, 'clustering_model__estimators__1__lambda': 0.2, 'clustering_model__estimators__1__n_estimators': 70, 'clustering_model__estimators__1__eta': 0.08, 'clustering_model__estimators__1__alpha': 0.22, 'clustering_model__estimators__2__n_estimators': 112, 'clustering_model__estimators__2__max_depth': 20, 'clustering_model__estimators__2__min_samples_split': 2, 'clustering_model__estimators__2__min_samples_leaf': 5} because of the following error: The value nan is not acceptable.\n",
      "[W 2024-05-04 22:25:13,175] Trial 71 failed with value nan.\n"
     ]
    },
    {
     "name": "stdout",
     "output_type": "stream",
     "text": [
      "Num.Folds: 36. Fold size: 407.\n",
      "Distance matrix size: 41 (0.1*407) \n",
      "Num.Clusters: 3. Clusters proportions: [0.12887617 0.0426634  0.82846044]\n",
      "Num.Folds: 36. Fold size: 407.\n",
      "Distance matrix size: 41 (0.1*407) \n",
      "Num.Clusters: 3. Clusters proportions: [0.50306665 0.22236609 0.27456726]\n",
      "Num.Folds: 36. Fold size: 407.\n",
      "Distance matrix size: 41 (0.1*407) \n",
      "Num.Clusters: 3. Clusters proportions: [0.12409704 0.02650947 0.84939349]\n",
      "Num.Folds: 36. Fold size: 407.\n",
      "Distance matrix size: 41 (0.1*407) \n",
      "Num.Clusters: 3. Clusters proportions: [0.55847076 0.22093499 0.22059425]\n"
     ]
    },
    {
     "name": "stderr",
     "output_type": "stream",
     "text": [
      "[I 2024-05-04 22:30:34,280] Trial 72 finished with value: -182699.93597860704 and parameters: {'preprocessing__quant__imputer__method': 'simple_median', 'preprocessing__cat__imputer__method': 'simple_most_frequent', 'preprocessing__quant__scaler__apply': False, 'preprocessing__cat__encoder__method': 'ordinal', 'features_selector__apply': False, 'clustering_model__n_clusters': 3, 'clustering_model__method': 'pam', 'clustering_model__init': 'heuristic', 'clustering_model__frac_sample_size': 0.1, 'clustering_model__d1': 'robust_mahalanobis', 'clustering_model__d2': 'sokal', 'clustering_model__n_splits': 36, 'clustering_model__robust_maha_method': 'trimmed', 'clustering_model__alpha': 0.09, 'clustering_model__estimators__0__n_estimators': 104, 'clustering_model__estimators__0__max_depth': 7, 'clustering_model__estimators__0__min_samples_split': 24, 'clustering_model__estimators__0__min_samples_leaf': 3, 'clustering_model__estimators__1__max_depth': None, 'clustering_model__estimators__1__lambda': 0.2, 'clustering_model__estimators__1__n_estimators': 100, 'clustering_model__estimators__1__eta': 0.08, 'clustering_model__estimators__1__alpha': 0.23, 'clustering_model__estimators__2__n_estimators': 111, 'clustering_model__estimators__2__max_depth': 20, 'clustering_model__estimators__2__min_samples_split': 2, 'clustering_model__estimators__2__min_samples_leaf': 5}. Best is trial 43 with value: -178589.66440058086.\n"
     ]
    },
    {
     "name": "stdout",
     "output_type": "stream",
     "text": [
      "Num.Folds: 27. Fold size: 543.\n",
      "Distance matrix size: 272 (0.5*543) \n",
      "Num.Clusters: 3. Clusters proportions: [0.5263409  0.25870647 0.21495263]\n",
      "Num.Folds: 27. Fold size: 543.\n",
      "Distance matrix size: 272 (0.5*543) \n",
      "Num.Clusters: 3. Clusters proportions: [0.44316478 0.31375221 0.243083  ]\n",
      "Num.Folds: 27. Fold size: 543.\n",
      "Distance matrix size: 272 (0.5*543) \n",
      "Num.Clusters: 3. Clusters proportions: [0.26407251 0.2674799  0.46844759]\n",
      "Num.Folds: 27. Fold size: 543.\n",
      "Distance matrix size: 272 (0.5*543) \n",
      "Num.Clusters: 3. Clusters proportions: [0.46401799 0.27599836 0.25998364]\n"
     ]
    },
    {
     "name": "stderr",
     "output_type": "stream",
     "text": [
      "[I 2024-05-04 22:35:14,665] Trial 73 finished with value: -180299.1090935823 and parameters: {'preprocessing__quant__imputer__method': 'simple_median', 'preprocessing__cat__imputer__method': 'simple_most_frequent', 'preprocessing__quant__scaler__apply': False, 'preprocessing__cat__encoder__method': 'ordinal', 'features_selector__apply': False, 'clustering_model__n_clusters': 3, 'clustering_model__method': 'pam', 'clustering_model__init': 'random', 'clustering_model__frac_sample_size': 0.5, 'clustering_model__d1': 'robust_mahalanobis', 'clustering_model__d2': 'sokal', 'clustering_model__n_splits': 27, 'clustering_model__robust_maha_method': 'trimmed', 'clustering_model__alpha': 0.09, 'clustering_model__estimators__0__n_estimators': 111, 'clustering_model__estimators__0__max_depth': 7, 'clustering_model__estimators__0__min_samples_split': 25, 'clustering_model__estimators__0__min_samples_leaf': 14, 'clustering_model__estimators__1__max_depth': 5, 'clustering_model__estimators__1__lambda': 0.1, 'clustering_model__estimators__1__n_estimators': 70, 'clustering_model__estimators__1__eta': 0.12, 'clustering_model__estimators__1__alpha': 0.28, 'clustering_model__estimators__2__n_estimators': 120, 'clustering_model__estimators__2__max_depth': 20, 'clustering_model__estimators__2__min_samples_split': 6, 'clustering_model__estimators__2__min_samples_leaf': 3}. Best is trial 43 with value: -178589.66440058086.\n"
     ]
    },
    {
     "name": "stdout",
     "output_type": "stream",
     "text": [
      "Num.Folds: 30. Fold size: 489.\n",
      "Distance matrix size: 245 (0.5*489) \n",
      "Num.Clusters: 3. Clusters proportions: [0.51414162 0.27247325 0.21338513]\n",
      "Num.Folds: 30. Fold size: 489.\n",
      "Distance matrix size: 245 (0.5*489) \n",
      "Num.Clusters: 3. Clusters proportions: [0.23892599 0.48861933 0.27245468]\n",
      "Num.Folds: 30. Fold size: 489.\n",
      "Distance matrix size: 245 (0.5*489) \n",
      "Num.Clusters: 3. Clusters proportions: [0.43566853 0.24035709 0.32397438]\n",
      "Num.Folds: 30. Fold size: 489.\n",
      "Distance matrix size: 245 (0.5*489) \n",
      "Num.Clusters: 3. Clusters proportions: [0.24730816 0.42394712 0.32874472]\n"
     ]
    },
    {
     "name": "stderr",
     "output_type": "stream",
     "text": [
      "[I 2024-05-04 22:39:23,431] Trial 74 finished with value: -185116.6934120877 and parameters: {'preprocessing__quant__imputer__method': 'simple_median', 'preprocessing__cat__imputer__method': 'simple_most_frequent', 'preprocessing__quant__scaler__apply': False, 'preprocessing__cat__encoder__method': 'ordinal', 'features_selector__apply': False, 'clustering_model__n_clusters': 3, 'clustering_model__method': 'pam', 'clustering_model__init': 'random', 'clustering_model__frac_sample_size': 0.5, 'clustering_model__d1': 'robust_mahalanobis', 'clustering_model__d2': 'sokal', 'clustering_model__n_splits': 30, 'clustering_model__robust_maha_method': 'winsorized', 'clustering_model__alpha': 0.15, 'clustering_model__estimators__0__n_estimators': 108, 'clustering_model__estimators__0__max_depth': 7, 'clustering_model__estimators__0__min_samples_split': 21, 'clustering_model__estimators__0__min_samples_leaf': 7, 'clustering_model__estimators__1__max_depth': 10, 'clustering_model__estimators__1__lambda': 0.0, 'clustering_model__estimators__1__n_estimators': 180, 'clustering_model__estimators__1__eta': 0.14, 'clustering_model__estimators__1__alpha': 0.22, 'clustering_model__estimators__2__n_estimators': 89, 'clustering_model__estimators__2__max_depth': 40, 'clustering_model__estimators__2__min_samples_split': 8, 'clustering_model__estimators__2__min_samples_leaf': 4}. Best is trial 43 with value: -178589.66440058086.\n"
     ]
    },
    {
     "name": "stdout",
     "output_type": "stream",
     "text": [
      "Num.Folds: 29. Fold size: 505.\n",
      "Distance matrix size: 253 (0.5*505) \n",
      "Num.Clusters: 3. Clusters proportions: [0.23682955 0.44755674 0.31561371]\n",
      "Num.Folds: 29. Fold size: 506.\n",
      "Distance matrix size: 253 (0.5*506) \n",
      "Num.Clusters: 3. Clusters proportions: [0.42687747 0.3080278  0.26509473]\n",
      "Num.Folds: 29. Fold size: 506.\n",
      "Distance matrix size: 253 (0.5*506) \n",
      "Num.Clusters: 3. Clusters proportions: [0.10085866 0.26584435 0.63329699]\n",
      "Num.Folds: 29. Fold size: 506.\n",
      "Distance matrix size: 253 (0.5*506) \n",
      "Num.Clusters: 3. Clusters proportions: [0.45877061 0.30209895 0.23913043]\n"
     ]
    },
    {
     "name": "stderr",
     "output_type": "stream",
     "text": [
      "[I 2024-05-04 22:43:52,258] Trial 75 finished with value: -181460.2356853166 and parameters: {'preprocessing__quant__imputer__method': 'simple_median', 'preprocessing__cat__imputer__method': 'simple_most_frequent', 'preprocessing__quant__scaler__apply': False, 'preprocessing__cat__encoder__method': 'ordinal', 'features_selector__apply': False, 'clustering_model__n_clusters': 3, 'clustering_model__method': 'pam', 'clustering_model__init': 'random', 'clustering_model__frac_sample_size': 0.5, 'clustering_model__d1': 'robust_mahalanobis', 'clustering_model__d2': 'sokal', 'clustering_model__n_splits': 29, 'clustering_model__robust_maha_method': 'trimmed', 'clustering_model__alpha': 0.09, 'clustering_model__estimators__0__n_estimators': 115, 'clustering_model__estimators__0__max_depth': 7, 'clustering_model__estimators__0__min_samples_split': 25, 'clustering_model__estimators__0__min_samples_leaf': 4, 'clustering_model__estimators__1__max_depth': 5, 'clustering_model__estimators__1__lambda': 0.2, 'clustering_model__estimators__1__n_estimators': 100, 'clustering_model__estimators__1__eta': 0.1, 'clustering_model__estimators__1__alpha': 0.2, 'clustering_model__estimators__2__n_estimators': 108, 'clustering_model__estimators__2__max_depth': 20, 'clustering_model__estimators__2__min_samples_split': 2, 'clustering_model__estimators__2__min_samples_leaf': 2}. Best is trial 43 with value: -178589.66440058086.\n"
     ]
    },
    {
     "name": "stdout",
     "output_type": "stream",
     "text": [
      "Num.Folds: 28. Fold size: 524.\n",
      "Distance matrix size: 262 (0.5*524) \n",
      "Num.Clusters: 3. Clusters proportions: [0.20561576 0.48401826 0.31036598]\n",
      "Num.Folds: 28. Fold size: 524.\n",
      "Distance matrix size: 262 (0.5*524) \n",
      "Num.Clusters: 3. Clusters proportions: [0.02071691 0.76352733 0.21575576]\n",
      "Num.Folds: 28. Fold size: 524.\n",
      "Distance matrix size: 262 (0.5*524) \n",
      "Num.Clusters: 3. Clusters proportions: [0.52078506 0.21432466 0.26489028]\n",
      "Num.Folds: 28. Fold size: 524.\n",
      "Distance matrix size: 262 (0.5*524) \n",
      "Num.Clusters: 3. Clusters proportions: [0.38448957 0.23592749 0.37958294]\n"
     ]
    },
    {
     "name": "stderr",
     "output_type": "stream",
     "text": [
      "[I 2024-05-04 22:48:03,318] Trial 76 finished with value: -179767.50365615395 and parameters: {'preprocessing__quant__imputer__method': 'simple_median', 'preprocessing__cat__imputer__method': 'simple_most_frequent', 'preprocessing__quant__scaler__apply': False, 'preprocessing__cat__encoder__method': 'ordinal', 'features_selector__apply': False, 'clustering_model__n_clusters': 3, 'clustering_model__method': 'pam', 'clustering_model__init': 'random', 'clustering_model__frac_sample_size': 0.5, 'clustering_model__d1': 'robust_mahalanobis', 'clustering_model__d2': 'sokal', 'clustering_model__n_splits': 28, 'clustering_model__robust_maha_method': 'trimmed', 'clustering_model__alpha': 0.09, 'clustering_model__estimators__0__n_estimators': 117, 'clustering_model__estimators__0__max_depth': 7, 'clustering_model__estimators__0__min_samples_split': 24, 'clustering_model__estimators__0__min_samples_leaf': 5, 'clustering_model__estimators__1__max_depth': 5, 'clustering_model__estimators__1__lambda': 0.2, 'clustering_model__estimators__1__n_estimators': 100, 'clustering_model__estimators__1__eta': 0.12, 'clustering_model__estimators__1__alpha': 0.25, 'clustering_model__estimators__2__n_estimators': 109, 'clustering_model__estimators__2__max_depth': 20, 'clustering_model__estimators__2__min_samples_split': 3, 'clustering_model__estimators__2__min_samples_leaf': 2}. Best is trial 43 with value: -178589.66440058086.\n"
     ]
    },
    {
     "name": "stdout",
     "output_type": "stream",
     "text": [
      "Num.Folds: 33. Fold size: 444.\n",
      "Distance matrix size: 222 (0.5*444) \n",
      "Num.Clusters: 3. Clusters proportions: [0.48006543 0.21699721 0.30293737]\n",
      "Num.Folds: 33. Fold size: 444.\n",
      "Distance matrix size: 222 (0.5*444) \n",
      "Num.Clusters: 3. Clusters proportions: [0.47519422 0.23585934 0.28894644]\n",
      "Num.Folds: 33. Fold size: 444.\n",
      "Distance matrix size: 222 (0.5*444) \n",
      "Num.Clusters: 3. Clusters proportions: [0.26311844 0.37821998 0.35866158]\n",
      "Num.Folds: 33. Fold size: 444.\n",
      "Distance matrix size: 222 (0.5*444) \n",
      "Num.Clusters: 3. Clusters proportions: [0.35368679 0.23347417 0.41283904]\n"
     ]
    },
    {
     "name": "stderr",
     "output_type": "stream",
     "text": [
      "[I 2024-05-04 22:53:01,196] Trial 77 finished with value: -179689.0536375129 and parameters: {'preprocessing__quant__imputer__method': 'simple_median', 'preprocessing__cat__imputer__method': 'simple_most_frequent', 'preprocessing__quant__scaler__apply': False, 'preprocessing__cat__encoder__method': 'ordinal', 'features_selector__apply': False, 'clustering_model__n_clusters': 3, 'clustering_model__method': 'pam', 'clustering_model__init': 'random', 'clustering_model__frac_sample_size': 0.5, 'clustering_model__d1': 'robust_mahalanobis', 'clustering_model__d2': 'sokal', 'clustering_model__n_splits': 33, 'clustering_model__robust_maha_method': 'trimmed', 'clustering_model__alpha': 0.09, 'clustering_model__estimators__0__n_estimators': 114, 'clustering_model__estimators__0__max_depth': 7, 'clustering_model__estimators__0__min_samples_split': 25, 'clustering_model__estimators__0__min_samples_leaf': 4, 'clustering_model__estimators__1__max_depth': 5, 'clustering_model__estimators__1__lambda': 0.2, 'clustering_model__estimators__1__n_estimators': 100, 'clustering_model__estimators__1__eta': 0.06, 'clustering_model__estimators__1__alpha': 0.2, 'clustering_model__estimators__2__n_estimators': 115, 'clustering_model__estimators__2__max_depth': 20, 'clustering_model__estimators__2__min_samples_split': 2, 'clustering_model__estimators__2__min_samples_leaf': 3}. Best is trial 43 with value: -178589.66440058086.\n"
     ]
    },
    {
     "name": "stdout",
     "output_type": "stream",
     "text": [
      "Num.Folds: 33. Fold size: 444.\n",
      "Distance matrix size: 222 (0.5*444) \n",
      "Num.Clusters: 3. Clusters proportions: [0.48006543 0.21699721 0.30293737]\n",
      "Num.Folds: 33. Fold size: 444.\n",
      "Distance matrix size: 222 (0.5*444) \n",
      "Num.Clusters: 3. Clusters proportions: [0.47519422 0.23585934 0.28894644]\n",
      "Num.Folds: 33. Fold size: 444.\n",
      "Distance matrix size: 222 (0.5*444) \n",
      "Num.Clusters: 3. Clusters proportions: [0.26311844 0.37821998 0.35866158]\n",
      "Num.Folds: 33. Fold size: 444.\n",
      "Distance matrix size: 222 (0.5*444) \n",
      "Num.Clusters: 3. Clusters proportions: [0.35368679 0.23347417 0.41283904]\n"
     ]
    },
    {
     "name": "stderr",
     "output_type": "stream",
     "text": [
      "[I 2024-05-04 22:56:55,135] Trial 78 finished with value: -179683.1581100636 and parameters: {'preprocessing__quant__imputer__method': 'simple_median', 'preprocessing__cat__imputer__method': 'simple_most_frequent', 'preprocessing__quant__scaler__apply': False, 'preprocessing__cat__encoder__method': 'ordinal', 'features_selector__apply': False, 'clustering_model__n_clusters': 3, 'clustering_model__method': 'pam', 'clustering_model__init': 'random', 'clustering_model__frac_sample_size': 0.5, 'clustering_model__d1': 'robust_mahalanobis', 'clustering_model__d2': 'sokal', 'clustering_model__n_splits': 33, 'clustering_model__robust_maha_method': 'trimmed', 'clustering_model__alpha': 0.09, 'clustering_model__estimators__0__n_estimators': 120, 'clustering_model__estimators__0__max_depth': 7, 'clustering_model__estimators__0__min_samples_split': 23, 'clustering_model__estimators__0__min_samples_leaf': 3, 'clustering_model__estimators__1__max_depth': 5, 'clustering_model__estimators__1__lambda': 0.2, 'clustering_model__estimators__1__n_estimators': 100, 'clustering_model__estimators__1__eta': 0.06, 'clustering_model__estimators__1__alpha': 0.22, 'clustering_model__estimators__2__n_estimators': 114, 'clustering_model__estimators__2__max_depth': 20, 'clustering_model__estimators__2__min_samples_split': 4, 'clustering_model__estimators__2__min_samples_leaf': 3}. Best is trial 43 with value: -178589.66440058086.\n"
     ]
    },
    {
     "name": "stdout",
     "output_type": "stream",
     "text": [
      "Num.Folds: 35. Fold size: 419.\n",
      "Distance matrix size: 210 (0.5*419) \n",
      "Num.Clusters: 3. Clusters proportions: [0.25693451 0.32610918 0.41695631]\n",
      "Num.Folds: 35. Fold size: 419.\n",
      "Distance matrix size: 210 (0.5*419) \n",
      "Num.Clusters: 3. Clusters proportions: [0.26822952 0.2312253  0.50054518]\n",
      "Num.Folds: 35. Fold size: 419.\n",
      "Distance matrix size: 210 (0.5*419) \n",
      "Num.Clusters: 3. Clusters proportions: [0.48664304 0.26148289 0.25187406]\n",
      "Num.Folds: 35. Fold size: 419.\n",
      "Distance matrix size: 210 (0.5*419) \n",
      "Num.Clusters: 3. Clusters proportions: [0.42585525 0.32390623 0.25023852]\n"
     ]
    },
    {
     "name": "stderr",
     "output_type": "stream",
     "text": [
      "[I 2024-05-04 23:00:58,961] Trial 79 finished with value: -182999.98811564484 and parameters: {'preprocessing__quant__imputer__method': 'iterative_median', 'preprocessing__cat__imputer__method': 'simple_most_frequent', 'preprocessing__quant__scaler__apply': False, 'preprocessing__cat__encoder__method': 'ordinal', 'features_selector__apply': False, 'clustering_model__n_clusters': 3, 'clustering_model__method': 'pam', 'clustering_model__init': 'random', 'clustering_model__frac_sample_size': 0.5, 'clustering_model__d1': 'robust_mahalanobis', 'clustering_model__d2': 'sokal', 'clustering_model__n_splits': 35, 'clustering_model__robust_maha_method': 'trimmed', 'clustering_model__alpha': 0.09, 'clustering_model__estimators__0__n_estimators': 120, 'clustering_model__estimators__0__max_depth': 7, 'clustering_model__estimators__0__min_samples_split': 23, 'clustering_model__estimators__0__min_samples_leaf': 13, 'clustering_model__estimators__1__max_depth': 5, 'clustering_model__estimators__1__lambda': 0.30000000000000004, 'clustering_model__estimators__1__n_estimators': 100, 'clustering_model__estimators__1__eta': 0.1, 'clustering_model__estimators__1__alpha': 0.25, 'clustering_model__estimators__2__n_estimators': 113, 'clustering_model__estimators__2__max_depth': 20, 'clustering_model__estimators__2__min_samples_split': 5, 'clustering_model__estimators__2__min_samples_leaf': 5}. Best is trial 43 with value: -178589.66440058086.\n"
     ]
    },
    {
     "name": "stdout",
     "output_type": "stream",
     "text": [
      "Num.Folds: 32. Fold size: 458.\n",
      "Distance matrix size: 229 (0.5*458) \n",
      "Num.Clusters: 3. Clusters proportions: [0.54992162 0.30559531 0.14448306]\n",
      "Num.Folds: 32. Fold size: 458.\n",
      "Distance matrix size: 229 (0.5*458) \n",
      "Num.Clusters: 3. Clusters proportions: [0.42680932 0.54756713 0.02562355]\n",
      "Num.Folds: 32. Fold size: 458.\n",
      "Distance matrix size: 229 (0.5*458) \n",
      "Num.Clusters: 3. Clusters proportions: [0.4667439  0.32860842 0.20464768]\n",
      "Num.Folds: 32. Fold size: 458.\n",
      "Distance matrix size: 229 (0.5*458) \n",
      "Num.Clusters: 3. Clusters proportions: [0.41638272 0.34987052 0.23374676]\n"
     ]
    },
    {
     "name": "stderr",
     "output_type": "stream",
     "text": [
      "[I 2024-05-04 23:05:20,164] Trial 80 finished with value: -189045.50865543593 and parameters: {'preprocessing__quant__imputer__method': 'simple_median', 'preprocessing__cat__imputer__method': 'simple_most_frequent', 'preprocessing__quant__scaler__apply': True, 'preprocessing__cat__encoder__method': 'ordinal', 'features_selector__apply': False, 'preprocessing__quant__scaler__method': 'standard', 'clustering_model__n_clusters': 3, 'clustering_model__method': 'pam', 'clustering_model__init': 'random', 'clustering_model__frac_sample_size': 0.5, 'clustering_model__d1': 'robust_mahalanobis', 'clustering_model__d2': 'sokal', 'clustering_model__n_splits': 32, 'clustering_model__robust_maha_method': 'trimmed', 'clustering_model__alpha': 0.2, 'clustering_model__estimators__0__n_estimators': 118, 'clustering_model__estimators__0__max_depth': 10, 'clustering_model__estimators__0__min_samples_split': 22, 'clustering_model__estimators__0__min_samples_leaf': 3, 'clustering_model__estimators__1__max_depth': 7, 'clustering_model__estimators__1__lambda': 0.2, 'clustering_model__estimators__1__n_estimators': 30, 'clustering_model__estimators__1__eta': 0.06, 'clustering_model__estimators__1__alpha': 0.22, 'clustering_model__estimators__2__n_estimators': 106, 'clustering_model__estimators__2__max_depth': 20, 'clustering_model__estimators__2__min_samples_split': 4, 'clustering_model__estimators__2__min_samples_leaf': 6}. Best is trial 43 with value: -178589.66440058086.\n"
     ]
    },
    {
     "name": "stdout",
     "output_type": "stream",
     "text": [
      "Num.Folds: 30. Fold size: 489.\n",
      "Distance matrix size: 172 (0.35*489) \n",
      "Num.Clusters: 3. Clusters proportions: [0.26265931 0.21318067 0.52416002]\n",
      "Num.Folds: 30. Fold size: 489.\n",
      "Distance matrix size: 172 (0.35*489) \n",
      "Num.Clusters: 3. Clusters proportions: [0.24383263 0.28465313 0.47151424]\n",
      "Num.Folds: 30. Fold size: 489.\n",
      "Distance matrix size: 172 (0.35*489) \n",
      "Num.Clusters: 3. Clusters proportions: [0.40847758 0.22577348 0.36574894]\n",
      "Num.Folds: 30. Fold size: 489.\n",
      "Distance matrix size: 172 (0.35*489) \n",
      "Num.Clusters: 3. Clusters proportions: [0.33406024 0.40466131 0.26127845]\n"
     ]
    },
    {
     "name": "stderr",
     "output_type": "stream",
     "text": [
      "[I 2024-05-04 23:09:43,482] Trial 81 finished with value: -181743.87021776213 and parameters: {'preprocessing__quant__imputer__method': 'simple_median', 'preprocessing__cat__imputer__method': 'simple_most_frequent', 'preprocessing__quant__scaler__apply': False, 'preprocessing__cat__encoder__method': 'ordinal', 'features_selector__apply': False, 'clustering_model__n_clusters': 3, 'clustering_model__method': 'pam', 'clustering_model__init': 'random', 'clustering_model__frac_sample_size': 0.35, 'clustering_model__d1': 'robust_mahalanobis', 'clustering_model__d2': 'sokal', 'clustering_model__n_splits': 30, 'clustering_model__robust_maha_method': 'trimmed', 'clustering_model__alpha': 0.09, 'clustering_model__estimators__0__n_estimators': 120, 'clustering_model__estimators__0__max_depth': None, 'clustering_model__estimators__0__min_samples_split': 23, 'clustering_model__estimators__0__min_samples_leaf': 12, 'clustering_model__estimators__1__max_depth': 5, 'clustering_model__estimators__1__lambda': 0.2, 'clustering_model__estimators__1__n_estimators': 100, 'clustering_model__estimators__1__eta': 0.08, 'clustering_model__estimators__1__alpha': 0.29000000000000004, 'clustering_model__estimators__2__n_estimators': 102, 'clustering_model__estimators__2__max_depth': 20, 'clustering_model__estimators__2__min_samples_split': 6, 'clustering_model__estimators__2__min_samples_leaf': 4}. Best is trial 43 with value: -178589.66440058086.\n"
     ]
    },
    {
     "name": "stdout",
     "output_type": "stream",
     "text": [
      "Num.Folds: 35. Fold size: 419.\n",
      "Distance matrix size: 294 (0.7*419) \n",
      "Num.Clusters: 3. Clusters proportions: [0.70871669 0.26054658 0.03073673]\n",
      "Num.Folds: 35. Fold size: 419.\n",
      "Distance matrix size: 294 (0.7*419) \n",
      "Num.Clusters: 3. Clusters proportions: [0.09465722 0.85443642 0.05090636]\n",
      "Num.Folds: 35. Fold size: 419.\n",
      "Distance matrix size: 294 (0.7*419) \n",
      "Num.Clusters: 3. Clusters proportions: [0.06126482 0.56071964 0.37801554]\n",
      "Num.Folds: 35. Fold size: 419.\n",
      "Distance matrix size: 294 (0.7*419) \n",
      "Num.Clusters: 3. Clusters proportions: [0.11551043 0.17963745 0.70485212]\n"
     ]
    },
    {
     "name": "stderr",
     "output_type": "stream",
     "text": [
      "[I 2024-05-04 23:12:54,592] Trial 82 finished with value: -328958.67409603583 and parameters: {'preprocessing__quant__imputer__method': 'iterative_mean', 'preprocessing__cat__imputer__method': 'simple_most_frequent', 'preprocessing__quant__scaler__apply': False, 'preprocessing__cat__encoder__method': 'ordinal', 'features_selector__apply': False, 'clustering_model__n_clusters': 3, 'clustering_model__method': 'alternate', 'clustering_model__init': 'random', 'clustering_model__frac_sample_size': 0.7, 'clustering_model__d1': 'robust_mahalanobis', 'clustering_model__d2': 'sokal', 'clustering_model__n_splits': 35, 'clustering_model__robust_maha_method': 'MAD', 'clustering_model__estimators__0__n_estimators': 76, 'clustering_model__estimators__0__max_depth': 50, 'clustering_model__estimators__0__min_samples_split': 24, 'clustering_model__estimators__0__min_samples_leaf': 2, 'clustering_model__estimators__1__max_depth': None, 'clustering_model__estimators__1__lambda': 0.1, 'clustering_model__estimators__1__n_estimators': 100, 'clustering_model__estimators__1__eta': 0.0, 'clustering_model__estimators__1__alpha': 0.33, 'clustering_model__estimators__2__n_estimators': 80, 'clustering_model__estimators__2__max_depth': 20, 'clustering_model__estimators__2__min_samples_split': 3, 'clustering_model__estimators__2__min_samples_leaf': 2}. Best is trial 43 with value: -178589.66440058086.\n"
     ]
    },
    {
     "name": "stdout",
     "output_type": "stream",
     "text": [
      "Num.Folds: 38. Fold size: 386.\n",
      "Distance matrix size: 116 (0.3*386) \n",
      "Num.Clusters: 2. Clusters proportions: [0.87514482 0.12485518]\n",
      "Num.Folds: 38. Fold size: 386.\n",
      "Distance matrix size: 116 (0.3*386) \n",
      "Num.Clusters: 2. Clusters proportions: [0.84659943 0.15340057]\n",
      "Num.Folds: 38. Fold size: 386.\n",
      "Distance matrix size: 116 (0.3*386) \n",
      "Num.Clusters: 2. Clusters proportions: [0.14256508 0.85743492]\n",
      "Num.Folds: 38. Fold size: 386.\n",
      "Distance matrix size: 116 (0.3*386) \n",
      "Num.Clusters: 2. Clusters proportions: [0.85845714 0.14154286]\n"
     ]
    },
    {
     "name": "stderr",
     "output_type": "stream",
     "text": [
      "[I 2024-05-04 23:16:28,728] Trial 83 finished with value: -195504.3965843634 and parameters: {'preprocessing__quant__imputer__method': 'simple_mean', 'preprocessing__cat__imputer__method': 'simple_most_frequent', 'preprocessing__quant__scaler__apply': False, 'preprocessing__cat__encoder__method': 'ordinal', 'features_selector__apply': False, 'clustering_model__n_clusters': 2, 'clustering_model__method': 'pam', 'clustering_model__init': 'random', 'clustering_model__frac_sample_size': 0.3, 'clustering_model__d1': 'robust_mahalanobis', 'clustering_model__d2': 'sokal', 'clustering_model__n_splits': 38, 'clustering_model__robust_maha_method': 'trimmed', 'clustering_model__alpha': 0.3, 'clustering_model__estimators__0__n_estimators': 56, 'clustering_model__estimators__0__max_depth': 7, 'clustering_model__estimators__0__min_samples_split': 19, 'clustering_model__estimators__0__min_samples_leaf': 18, 'clustering_model__estimators__1__max_depth': 5, 'clustering_model__estimators__1__lambda': 0.2, 'clustering_model__estimators__1__n_estimators': 50, 'clustering_model__estimators__1__eta': 0.04, 'clustering_model__estimators__1__alpha': 0.78}. Best is trial 43 with value: -178589.66440058086.\n"
     ]
    },
    {
     "name": "stdout",
     "output_type": "stream",
     "text": [
      "Num.Folds: 25. Fold size: 586.\n",
      "Distance matrix size: 235 (0.4*586) \n",
      "Num.Clusters: 3. Clusters proportions: [0.47515845 0.23764738 0.28719417]\n",
      "Num.Folds: 25. Fold size: 586.\n",
      "Distance matrix size: 235 (0.4*586) \n",
      "Num.Clusters: 3. Clusters proportions: [0.22911272 0.46245059 0.30843669]\n",
      "Num.Folds: 25. Fold size: 586.\n",
      "Distance matrix size: 235 (0.4*586) \n",
      "Num.Clusters: 3. Clusters proportions: [0.30979965 0.21964018 0.47056017]\n",
      "Num.Folds: 25. Fold size: 586.\n",
      "Distance matrix size: 235 (0.4*586) \n",
      "Num.Clusters: 3. Clusters proportions: [0.28669756 0.48425787 0.22904457]\n"
     ]
    },
    {
     "name": "stderr",
     "output_type": "stream",
     "text": [
      "[I 2024-05-04 23:21:11,151] Trial 84 finished with value: -189465.08071756997 and parameters: {'preprocessing__quant__imputer__method': 'simple_median', 'preprocessing__cat__imputer__method': 'simple_most_frequent', 'preprocessing__quant__scaler__apply': False, 'preprocessing__cat__encoder__method': 'ordinal', 'features_selector__apply': False, 'clustering_model__n_clusters': 3, 'clustering_model__method': 'pam', 'clustering_model__init': 'random', 'clustering_model__frac_sample_size': 0.4, 'clustering_model__d1': 'robust_mahalanobis', 'clustering_model__d2': 'sokal', 'clustering_model__n_splits': 25, 'clustering_model__robust_maha_method': 'trimmed', 'clustering_model__alpha': 0.09, 'clustering_model__estimators__0__n_estimators': 112, 'clustering_model__estimators__0__max_depth': 5, 'clustering_model__estimators__0__min_samples_split': 21, 'clustering_model__estimators__0__min_samples_leaf': 16, 'clustering_model__estimators__1__max_depth': 40, 'clustering_model__estimators__1__lambda': 0.1, 'clustering_model__estimators__1__n_estimators': 100, 'clustering_model__estimators__1__eta': 0.06, 'clustering_model__estimators__1__alpha': 0.26, 'clustering_model__estimators__2__n_estimators': 118, 'clustering_model__estimators__2__max_depth': 7, 'clustering_model__estimators__2__min_samples_split': 4, 'clustering_model__estimators__2__min_samples_leaf': 3}. Best is trial 43 with value: -178589.66440058086.\n"
     ]
    },
    {
     "name": "stdout",
     "output_type": "stream",
     "text": [
      "Num.Folds: 33. Fold size: 444.\n",
      "Distance matrix size: 222 (0.5*444) \n",
      "Num.Clusters: 3. Clusters proportions: [0.48006543 0.21699721 0.30293737]\n",
      "Num.Folds: 33. Fold size: 444.\n",
      "Distance matrix size: 222 (0.5*444) \n",
      "Num.Clusters: 3. Clusters proportions: [0.47519422 0.23585934 0.28894644]\n",
      "Num.Folds: 33. Fold size: 444.\n",
      "Distance matrix size: 222 (0.5*444) \n",
      "Num.Clusters: 3. Clusters proportions: [0.26311844 0.37821998 0.35866158]\n",
      "Num.Folds: 33. Fold size: 444.\n",
      "Distance matrix size: 222 (0.5*444) \n",
      "Num.Clusters: 3. Clusters proportions: [0.35368679 0.23347417 0.41283904]\n"
     ]
    },
    {
     "name": "stderr",
     "output_type": "stream",
     "text": [
      "[I 2024-05-04 23:25:01,634] Trial 85 finished with value: -179689.05367743812 and parameters: {'preprocessing__quant__imputer__method': 'simple_median', 'preprocessing__cat__imputer__method': 'simple_most_frequent', 'preprocessing__quant__scaler__apply': False, 'preprocessing__cat__encoder__method': 'ordinal', 'features_selector__apply': False, 'clustering_model__n_clusters': 3, 'clustering_model__method': 'pam', 'clustering_model__init': 'random', 'clustering_model__frac_sample_size': 0.5, 'clustering_model__d1': 'robust_mahalanobis', 'clustering_model__d2': 'sokal', 'clustering_model__n_splits': 33, 'clustering_model__robust_maha_method': 'trimmed', 'clustering_model__alpha': 0.09, 'clustering_model__estimators__0__n_estimators': 113, 'clustering_model__estimators__0__max_depth': 7, 'clustering_model__estimators__0__min_samples_split': 25, 'clustering_model__estimators__0__min_samples_leaf': 6, 'clustering_model__estimators__1__max_depth': 5, 'clustering_model__estimators__1__lambda': 0.2, 'clustering_model__estimators__1__n_estimators': 100, 'clustering_model__estimators__1__eta': 0.06, 'clustering_model__estimators__1__alpha': 0.22, 'clustering_model__estimators__2__n_estimators': 115, 'clustering_model__estimators__2__max_depth': 20, 'clustering_model__estimators__2__min_samples_split': 2, 'clustering_model__estimators__2__min_samples_leaf': 3}. Best is trial 43 with value: -178589.66440058086.\n"
     ]
    },
    {
     "name": "stdout",
     "output_type": "stream",
     "text": [
      "Num.Folds: 32. Fold size: 458.\n",
      "Distance matrix size: 229 (0.5*458) \n",
      "Num.Clusters: 3. Clusters proportions: [0.4407415  0.33694541 0.22231309]\n",
      "Num.Folds: 32. Fold size: 458.\n",
      "Distance matrix size: 229 (0.5*458) \n",
      "Num.Clusters: 3. Clusters proportions: [0.24144746 0.48071419 0.27783835]\n",
      "Num.Folds: 32. Fold size: 458.\n",
      "Distance matrix size: 229 (0.5*458) \n",
      "Num.Clusters: 3. Clusters proportions: [0.35859343 0.37747036 0.26393621]\n",
      "Num.Folds: 32. Fold size: 458.\n",
      "Distance matrix size: 229 (0.5*458) \n",
      "Num.Clusters: 3. Clusters proportions: [0.24982963 0.44343737 0.306733  ]\n"
     ]
    },
    {
     "name": "stderr",
     "output_type": "stream",
     "text": [
      "[I 2024-05-04 23:27:04,851] Trial 86 finished with value: -180614.11646473862 and parameters: {'preprocessing__quant__imputer__method': 'simple_median', 'preprocessing__cat__imputer__method': 'simple_most_frequent', 'preprocessing__quant__scaler__apply': False, 'preprocessing__cat__encoder__method': 'ordinal', 'features_selector__apply': False, 'clustering_model__n_clusters': 3, 'clustering_model__method': 'pam', 'clustering_model__init': 'random', 'clustering_model__frac_sample_size': 0.5, 'clustering_model__d1': 'robust_mahalanobis', 'clustering_model__d2': 'sokal', 'clustering_model__n_splits': 32, 'clustering_model__robust_maha_method': 'trimmed', 'clustering_model__alpha': 0.09, 'clustering_model__estimators__0__n_estimators': 116, 'clustering_model__estimators__0__max_depth': 7, 'clustering_model__estimators__0__min_samples_split': 24, 'clustering_model__estimators__0__min_samples_leaf': 3, 'clustering_model__estimators__1__max_depth': 5, 'clustering_model__estimators__1__lambda': 0.2, 'clustering_model__estimators__1__n_estimators': 100, 'clustering_model__estimators__1__eta': 0.08, 'clustering_model__estimators__1__alpha': 0.2, 'clustering_model__estimators__2__n_estimators': 114, 'clustering_model__estimators__2__max_depth': 20, 'clustering_model__estimators__2__min_samples_split': 3, 'clustering_model__estimators__2__min_samples_leaf': 4}. Best is trial 43 with value: -178589.66440058086.\n"
     ]
    },
    {
     "name": "stdout",
     "output_type": "stream",
     "text": [
      "Num.Folds: 33. Fold size: 444.\n",
      "Distance matrix size: 222 (0.5*444) \n",
      "Num.Clusters: 3. Clusters proportions: [0.48006543 0.21699721 0.30293737]\n",
      "Num.Folds: 33. Fold size: 444.\n",
      "Distance matrix size: 222 (0.5*444) \n",
      "Num.Clusters: 3. Clusters proportions: [0.47519422 0.23585934 0.28894644]\n",
      "Num.Folds: 33. Fold size: 444.\n",
      "Distance matrix size: 222 (0.5*444) \n",
      "Num.Clusters: 3. Clusters proportions: [0.26311844 0.37821998 0.35866158]\n",
      "Num.Folds: 33. Fold size: 444.\n",
      "Distance matrix size: 222 (0.5*444) \n",
      "Num.Clusters: 3. Clusters proportions: [0.35368679 0.23347417 0.41283904]\n"
     ]
    },
    {
     "name": "stderr",
     "output_type": "stream",
     "text": [
      "[I 2024-05-04 23:29:33,492] Trial 87 finished with value: -179600.08548651097 and parameters: {'preprocessing__quant__imputer__method': 'simple_median', 'preprocessing__cat__imputer__method': 'simple_most_frequent', 'preprocessing__quant__scaler__apply': False, 'preprocessing__cat__encoder__method': 'ordinal', 'features_selector__apply': False, 'clustering_model__n_clusters': 3, 'clustering_model__method': 'pam', 'clustering_model__init': 'random', 'clustering_model__frac_sample_size': 0.5, 'clustering_model__d1': 'robust_mahalanobis', 'clustering_model__d2': 'sokal', 'clustering_model__n_splits': 33, 'clustering_model__robust_maha_method': 'trimmed', 'clustering_model__alpha': 0.09, 'clustering_model__estimators__0__n_estimators': 109, 'clustering_model__estimators__0__max_depth': 7, 'clustering_model__estimators__0__min_samples_split': 23, 'clustering_model__estimators__0__min_samples_leaf': 5, 'clustering_model__estimators__1__max_depth': 5, 'clustering_model__estimators__1__lambda': 0.2, 'clustering_model__estimators__1__n_estimators': 100, 'clustering_model__estimators__1__eta': 0.04, 'clustering_model__estimators__1__alpha': 0.24000000000000002, 'clustering_model__estimators__2__n_estimators': 116, 'clustering_model__estimators__2__max_depth': 20, 'clustering_model__estimators__2__min_samples_split': 5, 'clustering_model__estimators__2__min_samples_leaf': 2}. Best is trial 43 with value: -178589.66440058086.\n"
     ]
    },
    {
     "name": "stdout",
     "output_type": "stream",
     "text": [
      "Num.Folds: 29. Fold size: 505.\n",
      "Distance matrix size: 253 (0.5*505) \n",
      "Num.Clusters: 3. Clusters proportions: [0.24603012 0.30825325 0.44571662]\n",
      "Num.Folds: 29. Fold size: 506.\n",
      "Distance matrix size: 253 (0.5*506) \n",
      "Num.Clusters: 3. Clusters proportions: [0.41767752 0.32070328 0.26161919]\n",
      "Num.Folds: 29. Fold size: 506.\n",
      "Distance matrix size: 253 (0.5*506) \n",
      "Num.Clusters: 3. Clusters proportions: [0.25398664 0.23688156 0.5091318 ]\n",
      "Num.Folds: 29. Fold size: 506.\n",
      "Distance matrix size: 253 (0.5*506) \n",
      "Num.Clusters: 3. Clusters proportions: [0.45856617 0.29896415 0.24246967]\n"
     ]
    },
    {
     "name": "stderr",
     "output_type": "stream",
     "text": [
      "[I 2024-05-04 23:31:34,169] Trial 88 finished with value: -189002.82834407198 and parameters: {'preprocessing__quant__imputer__method': 'simple_median', 'preprocessing__cat__imputer__method': 'simple_most_frequent', 'preprocessing__quant__scaler__apply': False, 'preprocessing__cat__encoder__method': 'ordinal', 'features_selector__apply': False, 'clustering_model__n_clusters': 3, 'clustering_model__method': 'pam', 'clustering_model__init': 'random', 'clustering_model__frac_sample_size': 0.5, 'clustering_model__d1': 'robust_mahalanobis', 'clustering_model__d2': 'sokal', 'clustering_model__n_splits': 29, 'clustering_model__robust_maha_method': 'trimmed', 'clustering_model__alpha': 0.05, 'clustering_model__estimators__0__n_estimators': 109, 'clustering_model__estimators__0__max_depth': 7, 'clustering_model__estimators__0__min_samples_split': 22, 'clustering_model__estimators__0__min_samples_leaf': 5, 'clustering_model__estimators__1__max_depth': 5, 'clustering_model__estimators__1__lambda': 0.2, 'clustering_model__estimators__1__n_estimators': 150, 'clustering_model__estimators__1__eta': 0.04, 'clustering_model__estimators__1__alpha': 0.24000000000000002, 'clustering_model__estimators__2__n_estimators': 110, 'clustering_model__estimators__2__max_depth': 5, 'clustering_model__estimators__2__min_samples_split': 5, 'clustering_model__estimators__2__min_samples_leaf': 2}. Best is trial 43 with value: -178589.66440058086.\n"
     ]
    },
    {
     "name": "stdout",
     "output_type": "stream",
     "text": [
      "Num.Folds: 31. Fold size: 473.\n",
      "Distance matrix size: 237 (0.5*473) \n",
      "Num.Clusters: 3. Clusters proportions: [0.24125946 0.42090915 0.33783139]\n",
      "Num.Folds: 31. Fold size: 473.\n",
      "Distance matrix size: 237 (0.5*473) \n",
      "Num.Clusters: 3. Clusters proportions: [0.27170506 0.25132888 0.47696606]\n",
      "Num.Folds: 31. Fold size: 473.\n",
      "Distance matrix size: 237 (0.5*473) \n",
      "Num.Clusters: 3. Clusters proportions: [0.25889328 0.29085457 0.45025215]\n",
      "Num.Folds: 31. Fold size: 473.\n",
      "Distance matrix size: 237 (0.5*473) \n",
      "Num.Clusters: 3. Clusters proportions: [0.2356549  0.30564263 0.45870247]\n"
     ]
    },
    {
     "name": "stderr",
     "output_type": "stream",
     "text": [
      "[I 2024-05-04 23:33:37,432] Trial 89 finished with value: -183422.7197427815 and parameters: {'preprocessing__quant__imputer__method': 'simple_median', 'preprocessing__cat__imputer__method': 'simple_most_frequent', 'preprocessing__quant__scaler__apply': False, 'preprocessing__cat__encoder__method': 'ordinal', 'features_selector__apply': False, 'clustering_model__n_clusters': 3, 'clustering_model__method': 'pam', 'clustering_model__init': 'heuristic', 'clustering_model__frac_sample_size': 0.5, 'clustering_model__d1': 'robust_mahalanobis', 'clustering_model__d2': 'sokal', 'clustering_model__n_splits': 31, 'clustering_model__robust_maha_method': 'winsorized', 'clustering_model__alpha': 0.09, 'clustering_model__estimators__0__n_estimators': 105, 'clustering_model__estimators__0__max_depth': 3, 'clustering_model__estimators__0__min_samples_split': 23, 'clustering_model__estimators__0__min_samples_leaf': 21, 'clustering_model__estimators__1__max_depth': 5, 'clustering_model__estimators__1__lambda': 0.30000000000000004, 'clustering_model__estimators__1__n_estimators': 100, 'clustering_model__estimators__1__eta': 0.02, 'clustering_model__estimators__1__alpha': 0.27, 'clustering_model__estimators__2__n_estimators': 118, 'clustering_model__estimators__2__max_depth': 30, 'clustering_model__estimators__2__min_samples_split': 5, 'clustering_model__estimators__2__min_samples_leaf': 2}. Best is trial 43 with value: -178589.66440058086.\n"
     ]
    },
    {
     "name": "stdout",
     "output_type": "stream",
     "text": [
      "Num.Folds: 27. Fold size: 543.\n",
      "Distance matrix size: 109 (0.2*543) \n",
      "Num.Clusters: 3. Clusters proportions: [0.22231309 0.7516527  0.02603421]\n",
      "Num.Folds: 27. Fold size: 543.\n",
      "Distance matrix size: 109 (0.2*543) \n",
      "Num.Clusters: 3. Clusters proportions: [0.46210985 0.21889055 0.31899959]\n",
      "Num.Folds: 27. Fold size: 543.\n",
      "Distance matrix size: 109 (0.2*543) \n",
      "Num.Clusters: 3. Clusters proportions: [0.29085457 0.46776612 0.24137931]\n",
      "Num.Folds: 27. Fold size: 543.\n",
      "Distance matrix size: 109 (0.2*543) \n",
      "Num.Clusters: 3. Clusters proportions: [0.54027532 0.25473627 0.20498841]\n"
     ]
    },
    {
     "name": "stderr",
     "output_type": "stream",
     "text": [
      "[I 2024-05-04 23:35:24,331] Trial 90 finished with value: -181019.22139434548 and parameters: {'preprocessing__quant__imputer__method': 'simple_median', 'preprocessing__cat__imputer__method': 'simple_most_frequent', 'preprocessing__quant__scaler__apply': False, 'preprocessing__cat__encoder__method': 'ordinal', 'features_selector__apply': False, 'clustering_model__n_clusters': 3, 'clustering_model__method': 'pam', 'clustering_model__init': 'random', 'clustering_model__frac_sample_size': 0.2, 'clustering_model__d1': 'robust_mahalanobis', 'clustering_model__d2': 'sokal', 'clustering_model__n_splits': 27, 'clustering_model__robust_maha_method': 'trimmed', 'clustering_model__alpha': 0.09, 'clustering_model__estimators__0__n_estimators': 118, 'clustering_model__estimators__0__max_depth': 20, 'clustering_model__estimators__0__min_samples_split': 11, 'clustering_model__estimators__0__min_samples_leaf': 11, 'clustering_model__estimators__1__max_depth': None, 'clustering_model__estimators__1__lambda': 0.2, 'clustering_model__estimators__1__n_estimators': 100, 'clustering_model__estimators__1__eta': 0.14, 'clustering_model__estimators__1__alpha': 0.66, 'clustering_model__estimators__2__n_estimators': 113, 'clustering_model__estimators__2__max_depth': None, 'clustering_model__estimators__2__min_samples_split': 12, 'clustering_model__estimators__2__min_samples_leaf': 4}. Best is trial 43 with value: -178589.66440058086.\n"
     ]
    },
    {
     "name": "stdout",
     "output_type": "stream",
     "text": [
      "Num.Folds: 24. Fold size: 611.\n",
      "Distance matrix size: 92 (0.15*611) \n",
      "Num.Clusters: 3. Clusters proportions: [0.44448988 0.31527295 0.24023717]\n",
      "Num.Folds: 24. Fold size: 611.\n",
      "Distance matrix size: 92 (0.15*611) \n",
      "Num.Clusters: 3. Clusters proportions: [0.23892599 0.40302576 0.35804825]\n",
      "Num.Folds: 24. Fold size: 611.\n",
      "Distance matrix size: 92 (0.15*611) \n",
      "Num.Clusters: 3. Clusters proportions: [0.25371405 0.43703148 0.30925446]\n",
      "Num.Folds: 24. Fold size: 611.\n",
      "Distance matrix size: 92 (0.15*611) \n",
      "Num.Clusters: 3. Clusters proportions: [0.02303394 0.72672755 0.25023852]\n"
     ]
    },
    {
     "name": "stderr",
     "output_type": "stream",
     "text": [
      "[I 2024-05-04 23:37:30,604] Trial 91 finished with value: -196286.96421347745 and parameters: {'preprocessing__quant__imputer__method': 'simple_median', 'preprocessing__cat__imputer__method': 'simple_most_frequent', 'preprocessing__quant__scaler__apply': True, 'preprocessing__cat__encoder__method': 'ordinal', 'features_selector__apply': False, 'preprocessing__quant__scaler__method': 'min-max', 'clustering_model__n_clusters': 3, 'clustering_model__method': 'pam', 'clustering_model__init': 'random', 'clustering_model__frac_sample_size': 0.15, 'clustering_model__d1': 'robust_mahalanobis', 'clustering_model__d2': 'sokal', 'clustering_model__n_splits': 24, 'clustering_model__robust_maha_method': 'trimmed', 'clustering_model__alpha': 0.09, 'clustering_model__estimators__0__n_estimators': 64, 'clustering_model__estimators__0__max_depth': 30, 'clustering_model__estimators__0__min_samples_split': 20, 'clustering_model__estimators__0__min_samples_leaf': 6, 'clustering_model__estimators__1__max_depth': 50, 'clustering_model__estimators__1__lambda': 0.2, 'clustering_model__estimators__1__n_estimators': 100, 'clustering_model__estimators__1__eta': 0.1, 'clustering_model__estimators__1__alpha': 0.31, 'clustering_model__estimators__2__n_estimators': 116, 'clustering_model__estimators__2__max_depth': 20, 'clustering_model__estimators__2__min_samples_split': 15, 'clustering_model__estimators__2__min_samples_leaf': 21}. Best is trial 43 with value: -178589.66440058086.\n"
     ]
    },
    {
     "name": "stdout",
     "output_type": "stream",
     "text": [
      "Num.Folds: 34. Fold size: 431.\n",
      "Distance matrix size: 216 (0.5*431) \n",
      "Num.Clusters: 3. Clusters proportions: [0.14155251 0.33483269 0.5236148 ]\n",
      "Num.Folds: 34. Fold size: 431.\n",
      "Distance matrix size: 216 (0.5*431) \n",
      "Num.Clusters: 3. Clusters proportions: [0.93696334 0.00449775 0.05853891]\n",
      "Num.Folds: 34. Fold size: 431.\n",
      "Distance matrix size: 216 (0.5*431) \n",
      "Num.Clusters: 3. Clusters proportions: [0.71943574 0.20832765 0.07223661]\n",
      "Num.Folds: 34. Fold size: 431.\n",
      "Distance matrix size: 216 (0.5*431) \n",
      "Num.Clusters: 3. Clusters proportions: [0.32342919 0.4606106  0.2159602 ]\n"
     ]
    },
    {
     "name": "stderr",
     "output_type": "stream",
     "text": [
      "[I 2024-05-04 23:39:37,563] Trial 92 finished with value: -208135.62197399762 and parameters: {'preprocessing__quant__imputer__method': 'simple_median', 'preprocessing__cat__imputer__method': 'simple_most_frequent', 'preprocessing__quant__scaler__apply': False, 'preprocessing__cat__encoder__method': 'ordinal', 'features_selector__apply': False, 'clustering_model__n_clusters': 3, 'clustering_model__method': 'alternate', 'clustering_model__init': 'random', 'clustering_model__frac_sample_size': 0.5, 'clustering_model__d1': 'robust_mahalanobis', 'clustering_model__d2': 'sokal', 'clustering_model__n_splits': 34, 'clustering_model__robust_maha_method': 'trimmed', 'clustering_model__alpha': 0.09, 'clustering_model__estimators__0__n_estimators': 89, 'clustering_model__estimators__0__max_depth': 7, 'clustering_model__estimators__0__min_samples_split': 24, 'clustering_model__estimators__0__min_samples_leaf': 2, 'clustering_model__estimators__1__max_depth': 3, 'clustering_model__estimators__1__lambda': 0.1, 'clustering_model__estimators__1__n_estimators': 100, 'clustering_model__estimators__1__eta': 0.16, 'clustering_model__estimators__1__alpha': 0.22, 'clustering_model__estimators__2__n_estimators': 120, 'clustering_model__estimators__2__max_depth': 3, 'clustering_model__estimators__2__min_samples_split': 7, 'clustering_model__estimators__2__min_samples_leaf': 3}. Best is trial 43 with value: -178589.66440058086.\n"
     ]
    },
    {
     "name": "stdout",
     "output_type": "stream",
     "text": [
      "Num.Folds: 36. Fold size: 407.\n",
      "Distance matrix size: 245 (0.6*407) \n",
      "Num.Clusters: 2. Clusters proportions: [0.79165815 0.20834185]\n",
      "Num.Folds: 36. Fold size: 407.\n",
      "Distance matrix size: 245 (0.6*407) \n",
      "Num.Clusters: 2. Clusters proportions: [0.24226523 0.75773477]\n",
      "Num.Folds: 36. Fold size: 407.\n",
      "Distance matrix size: 245 (0.6*407) \n",
      "Num.Clusters: 2. Clusters proportions: [0.73620008 0.26379992]\n",
      "Num.Folds: 36. Fold size: 407.\n",
      "Distance matrix size: 245 (0.6*407) \n",
      "Num.Clusters: 2. Clusters proportions: [0.76509473 0.23490527]\n"
     ]
    },
    {
     "name": "stderr",
     "output_type": "stream",
     "text": [
      "[I 2024-05-04 23:41:43,021] Trial 93 finished with value: -193362.6844065972 and parameters: {'preprocessing__quant__imputer__method': 'iterative_median', 'preprocessing__cat__imputer__method': 'simple_most_frequent', 'preprocessing__quant__scaler__apply': False, 'preprocessing__cat__encoder__method': 'ordinal', 'features_selector__apply': False, 'clustering_model__n_clusters': 2, 'clustering_model__method': 'pam', 'clustering_model__init': 'random', 'clustering_model__frac_sample_size': 0.6, 'clustering_model__d1': 'robust_mahalanobis', 'clustering_model__d2': 'jaccard', 'clustering_model__n_splits': 36, 'clustering_model__robust_maha_method': 'trimmed', 'clustering_model__alpha': 0.09, 'clustering_model__estimators__0__n_estimators': 114, 'clustering_model__estimators__0__max_depth': 7, 'clustering_model__estimators__0__min_samples_split': 22, 'clustering_model__estimators__0__min_samples_leaf': 3, 'clustering_model__estimators__1__max_depth': 20, 'clustering_model__estimators__1__lambda': 0.2, 'clustering_model__estimators__1__n_estimators': 70, 'clustering_model__estimators__1__eta': 0.08, 'clustering_model__estimators__1__alpha': 0.24000000000000002}. Best is trial 43 with value: -178589.66440058086.\n"
     ]
    },
    {
     "name": "stdout",
     "output_type": "stream",
     "text": [
      "Num.Folds: 31. Fold size: 473.\n",
      "Distance matrix size: 237 (0.5*473) \n",
      "Num.Clusters: 3. Clusters proportions: [0.20936414 0.2782662  0.51236966]\n",
      "Num.Folds: 31. Fold size: 473.\n",
      "Distance matrix size: 237 (0.5*473) \n",
      "Num.Clusters: 3. Clusters proportions: [0.46994684 0.2539185  0.27613466]\n",
      "Num.Folds: 31. Fold size: 473.\n",
      "Distance matrix size: 237 (0.5*473) \n",
      "Num.Clusters: 3. Clusters proportions: [0.25071555 0.49379856 0.25548589]\n",
      "Num.Folds: 31. Fold size: 473.\n",
      "Distance matrix size: 237 (0.5*473) \n",
      "Num.Clusters: 3. Clusters proportions: [0.21998092 0.30775521 0.47226387]\n"
     ]
    },
    {
     "name": "stderr",
     "output_type": "stream",
     "text": [
      "[I 2024-05-04 23:43:20,925] Trial 94 finished with value: -178734.59519290435 and parameters: {'preprocessing__quant__imputer__method': 'simple_median', 'preprocessing__cat__imputer__method': 'simple_most_frequent', 'preprocessing__quant__scaler__apply': False, 'preprocessing__cat__encoder__method': 'ordinal', 'features_selector__apply': False, 'clustering_model__n_clusters': 3, 'clustering_model__method': 'pam', 'clustering_model__init': 'random', 'clustering_model__frac_sample_size': 0.5, 'clustering_model__d1': 'robust_mahalanobis', 'clustering_model__d2': 'sokal', 'clustering_model__n_splits': 31, 'clustering_model__robust_maha_method': 'trimmed', 'clustering_model__alpha': 0.15, 'clustering_model__estimators__0__n_estimators': 111, 'clustering_model__estimators__0__max_depth': 40, 'clustering_model__estimators__0__min_samples_split': 3, 'clustering_model__estimators__0__min_samples_leaf': 14, 'clustering_model__estimators__1__max_depth': 5, 'clustering_model__estimators__1__lambda': 0.30000000000000004, 'clustering_model__estimators__1__n_estimators': 100, 'clustering_model__estimators__1__eta': 0.12, 'clustering_model__estimators__1__alpha': 0.29000000000000004, 'clustering_model__estimators__2__n_estimators': 68, 'clustering_model__estimators__2__max_depth': 50, 'clustering_model__estimators__2__min_samples_split': 4, 'clustering_model__estimators__2__min_samples_leaf': 2}. Best is trial 43 with value: -178589.66440058086.\n"
     ]
    },
    {
     "name": "stdout",
     "output_type": "stream",
     "text": [
      "Num.Folds: 31. Fold size: 473.\n",
      "Distance matrix size: 237 (0.5*473) \n",
      "Num.Clusters: 3. Clusters proportions: [0.20936414 0.2782662  0.51236966]\n",
      "Num.Folds: 31. Fold size: 473.\n",
      "Distance matrix size: 237 (0.5*473) \n",
      "Num.Clusters: 3. Clusters proportions: [0.46994684 0.2539185  0.27613466]\n",
      "Num.Folds: 31. Fold size: 473.\n",
      "Distance matrix size: 237 (0.5*473) \n",
      "Num.Clusters: 3. Clusters proportions: [0.25071555 0.49379856 0.25548589]\n",
      "Num.Folds: 31. Fold size: 473.\n",
      "Distance matrix size: 237 (0.5*473) \n",
      "Num.Clusters: 3. Clusters proportions: [0.21998092 0.30775521 0.47226387]\n"
     ]
    },
    {
     "name": "stderr",
     "output_type": "stream",
     "text": [
      "[I 2024-05-04 23:45:04,759] Trial 95 finished with value: -178772.292356197 and parameters: {'preprocessing__quant__imputer__method': 'simple_median', 'preprocessing__cat__imputer__method': 'simple_most_frequent', 'preprocessing__quant__scaler__apply': False, 'preprocessing__cat__encoder__method': 'ordinal', 'features_selector__apply': False, 'clustering_model__n_clusters': 3, 'clustering_model__method': 'pam', 'clustering_model__init': 'random', 'clustering_model__frac_sample_size': 0.5, 'clustering_model__d1': 'robust_mahalanobis', 'clustering_model__d2': 'sokal', 'clustering_model__n_splits': 31, 'clustering_model__robust_maha_method': 'trimmed', 'clustering_model__alpha': 0.15, 'clustering_model__estimators__0__n_estimators': 102, 'clustering_model__estimators__0__max_depth': 40, 'clustering_model__estimators__0__min_samples_split': 17, 'clustering_model__estimators__0__min_samples_leaf': 14, 'clustering_model__estimators__1__max_depth': 5, 'clustering_model__estimators__1__lambda': 0.30000000000000004, 'clustering_model__estimators__1__n_estimators': 100, 'clustering_model__estimators__1__eta': 0.12, 'clustering_model__estimators__1__alpha': 0.22, 'clustering_model__estimators__2__n_estimators': 66, 'clustering_model__estimators__2__max_depth': 50, 'clustering_model__estimators__2__min_samples_split': 4, 'clustering_model__estimators__2__min_samples_leaf': 2}. Best is trial 43 with value: -178589.66440058086.\n"
     ]
    },
    {
     "name": "stdout",
     "output_type": "stream",
     "text": [
      "Num.Folds: 31. Fold size: 473.\n",
      "Distance matrix size: 237 (0.5*473) \n",
      "Num.Clusters: 3. Clusters proportions: [0.20936414 0.2782662  0.51236966]\n",
      "Num.Folds: 31. Fold size: 473.\n",
      "Distance matrix size: 237 (0.5*473) \n",
      "Num.Clusters: 3. Clusters proportions: [0.46994684 0.2539185  0.27613466]\n",
      "Num.Folds: 31. Fold size: 473.\n",
      "Distance matrix size: 237 (0.5*473) \n",
      "Num.Clusters: 3. Clusters proportions: [0.25071555 0.49379856 0.25548589]\n",
      "Num.Folds: 31. Fold size: 473.\n",
      "Distance matrix size: 237 (0.5*473) \n",
      "Num.Clusters: 3. Clusters proportions: [0.21998092 0.30775521 0.47226387]\n"
     ]
    },
    {
     "name": "stderr",
     "output_type": "stream",
     "text": [
      "[I 2024-05-04 23:46:52,325] Trial 96 finished with value: -178677.38312406585 and parameters: {'preprocessing__quant__imputer__method': 'simple_median', 'preprocessing__cat__imputer__method': 'simple_most_frequent', 'preprocessing__quant__scaler__apply': False, 'preprocessing__cat__encoder__method': 'ordinal', 'features_selector__apply': False, 'clustering_model__n_clusters': 3, 'clustering_model__method': 'pam', 'clustering_model__init': 'random', 'clustering_model__frac_sample_size': 0.5, 'clustering_model__d1': 'robust_mahalanobis', 'clustering_model__d2': 'sokal', 'clustering_model__n_splits': 31, 'clustering_model__robust_maha_method': 'trimmed', 'clustering_model__alpha': 0.15, 'clustering_model__estimators__0__n_estimators': 103, 'clustering_model__estimators__0__max_depth': 40, 'clustering_model__estimators__0__min_samples_split': 16, 'clustering_model__estimators__0__min_samples_leaf': 14, 'clustering_model__estimators__1__max_depth': 5, 'clustering_model__estimators__1__lambda': 0.30000000000000004, 'clustering_model__estimators__1__n_estimators': 100, 'clustering_model__estimators__1__eta': 0.12, 'clustering_model__estimators__1__alpha': 0.25, 'clustering_model__estimators__2__n_estimators': 71, 'clustering_model__estimators__2__max_depth': 50, 'clustering_model__estimators__2__min_samples_split': 4, 'clustering_model__estimators__2__min_samples_leaf': 2}. Best is trial 43 with value: -178589.66440058086.\n"
     ]
    },
    {
     "name": "stdout",
     "output_type": "stream",
     "text": [
      "Num.Folds: 31. Fold size: 473.\n",
      "Distance matrix size: 237 (0.5*473) \n",
      "Num.Clusters: 3. Clusters proportions: [0.20936414 0.2782662  0.51236966]\n",
      "Num.Folds: 31. Fold size: 473.\n",
      "Distance matrix size: 237 (0.5*473) \n",
      "Num.Clusters: 3. Clusters proportions: [0.46994684 0.2539185  0.27613466]\n",
      "Num.Folds: 31. Fold size: 473.\n",
      "Distance matrix size: 237 (0.5*473) \n",
      "Num.Clusters: 3. Clusters proportions: [0.25071555 0.49379856 0.25548589]\n",
      "Num.Folds: 31. Fold size: 473.\n",
      "Distance matrix size: 237 (0.5*473) \n",
      "Num.Clusters: 3. Clusters proportions: [0.21998092 0.30775521 0.47226387]\n"
     ]
    },
    {
     "name": "stderr",
     "output_type": "stream",
     "text": [
      "[I 2024-05-04 23:48:36,370] Trial 97 finished with value: -178855.89415864486 and parameters: {'preprocessing__quant__imputer__method': 'simple_median', 'preprocessing__cat__imputer__method': 'simple_most_frequent', 'preprocessing__quant__scaler__apply': False, 'preprocessing__cat__encoder__method': 'ordinal', 'features_selector__apply': False, 'clustering_model__n_clusters': 3, 'clustering_model__method': 'pam', 'clustering_model__init': 'random', 'clustering_model__frac_sample_size': 0.5, 'clustering_model__d1': 'robust_mahalanobis', 'clustering_model__d2': 'sokal', 'clustering_model__n_splits': 31, 'clustering_model__robust_maha_method': 'trimmed', 'clustering_model__alpha': 0.15, 'clustering_model__estimators__0__n_estimators': 98, 'clustering_model__estimators__0__max_depth': 40, 'clustering_model__estimators__0__min_samples_split': 16, 'clustering_model__estimators__0__min_samples_leaf': 14, 'clustering_model__estimators__1__max_depth': 5, 'clustering_model__estimators__1__lambda': 0.30000000000000004, 'clustering_model__estimators__1__n_estimators': 100, 'clustering_model__estimators__1__eta': 0.12, 'clustering_model__estimators__1__alpha': 0.28, 'clustering_model__estimators__2__n_estimators': 64, 'clustering_model__estimators__2__max_depth': 50, 'clustering_model__estimators__2__min_samples_split': 3, 'clustering_model__estimators__2__min_samples_leaf': 2}. Best is trial 43 with value: -178589.66440058086.\n"
     ]
    },
    {
     "name": "stdout",
     "output_type": "stream",
     "text": [
      "Num.Folds: 31. Fold size: 473.\n",
      "Distance matrix size: 237 (0.5*473) \n",
      "Num.Clusters: 3. Clusters proportions: [0.20936414 0.2782662  0.51236966]\n",
      "Num.Folds: 31. Fold size: 473.\n",
      "Distance matrix size: 237 (0.5*473) \n",
      "Num.Clusters: 3. Clusters proportions: [0.46994684 0.2539185  0.27613466]\n",
      "Num.Folds: 31. Fold size: 473.\n",
      "Distance matrix size: 237 (0.5*473) \n",
      "Num.Clusters: 3. Clusters proportions: [0.25071555 0.49379856 0.25548589]\n",
      "Num.Folds: 31. Fold size: 473.\n",
      "Distance matrix size: 237 (0.5*473) \n",
      "Num.Clusters: 3. Clusters proportions: [0.21998092 0.30775521 0.47226387]\n"
     ]
    },
    {
     "name": "stderr",
     "output_type": "stream",
     "text": [
      "[I 2024-05-04 23:50:16,585] Trial 98 finished with value: -179154.75661671802 and parameters: {'preprocessing__quant__imputer__method': 'simple_median', 'preprocessing__cat__imputer__method': 'simple_most_frequent', 'preprocessing__quant__scaler__apply': False, 'preprocessing__cat__encoder__method': 'ordinal', 'features_selector__apply': False, 'clustering_model__n_clusters': 3, 'clustering_model__method': 'pam', 'clustering_model__init': 'random', 'clustering_model__frac_sample_size': 0.5, 'clustering_model__d1': 'robust_mahalanobis', 'clustering_model__d2': 'sokal', 'clustering_model__n_splits': 31, 'clustering_model__robust_maha_method': 'trimmed', 'clustering_model__alpha': 0.15, 'clustering_model__estimators__0__n_estimators': 102, 'clustering_model__estimators__0__max_depth': 40, 'clustering_model__estimators__0__min_samples_split': 16, 'clustering_model__estimators__0__min_samples_leaf': 14, 'clustering_model__estimators__1__max_depth': 5, 'clustering_model__estimators__1__lambda': 0.4, 'clustering_model__estimators__1__n_estimators': 100, 'clustering_model__estimators__1__eta': 0.12, 'clustering_model__estimators__1__alpha': 0.35, 'clustering_model__estimators__2__n_estimators': 64, 'clustering_model__estimators__2__max_depth': 50, 'clustering_model__estimators__2__min_samples_split': 3, 'clustering_model__estimators__2__min_samples_leaf': 2}. Best is trial 43 with value: -178589.66440058086.\n"
     ]
    },
    {
     "name": "stdout",
     "output_type": "stream",
     "text": [
      "Num.Folds: 29. Fold size: 505.\n",
      "Distance matrix size: 127 (0.25*505) \n",
      "Num.Clusters: 3. Clusters proportions: [0.13405575 0.83370817 0.03223608]\n",
      "Num.Folds: 29. Fold size: 506.\n",
      "Distance matrix size: 127 (0.25*506) \n",
      "Num.Clusters: 3. Clusters proportions: [0.04586343 0.20566989 0.74846668]\n",
      "Num.Folds: 29. Fold size: 506.\n",
      "Distance matrix size: 127 (0.25*506) \n",
      "Num.Clusters: 3. Clusters proportions: [0.78996865 0.03789015 0.1721412 ]\n",
      "Num.Folds: 29. Fold size: 506.\n",
      "Distance matrix size: 127 (0.25*506) \n",
      "Num.Clusters: 3. Clusters proportions: [0.7916042  0.03257462 0.17582118]\n"
     ]
    },
    {
     "name": "stderr",
     "output_type": "stream",
     "text": [
      "[I 2024-05-04 23:51:56,071] Trial 99 finished with value: -183689.93549718818 and parameters: {'preprocessing__quant__imputer__method': 'simple_median', 'preprocessing__cat__imputer__method': 'simple_most_frequent', 'preprocessing__quant__scaler__apply': False, 'preprocessing__cat__encoder__method': 'ordinal', 'features_selector__apply': False, 'clustering_model__n_clusters': 3, 'clustering_model__method': 'pam', 'clustering_model__init': 'random', 'clustering_model__frac_sample_size': 0.25, 'clustering_model__d1': 'robust_mahalanobis', 'clustering_model__d2': 'sokal', 'clustering_model__n_splits': 29, 'clustering_model__robust_maha_method': 'MAD', 'clustering_model__estimators__0__n_estimators': 101, 'clustering_model__estimators__0__max_depth': 40, 'clustering_model__estimators__0__min_samples_split': 15, 'clustering_model__estimators__0__min_samples_leaf': 14, 'clustering_model__estimators__1__max_depth': 5, 'clustering_model__estimators__1__lambda': 0.4, 'clustering_model__estimators__1__n_estimators': 100, 'clustering_model__estimators__1__eta': 0.14, 'clustering_model__estimators__1__alpha': 0.36, 'clustering_model__estimators__2__n_estimators': 65, 'clustering_model__estimators__2__max_depth': 50, 'clustering_model__estimators__2__min_samples_split': 4, 'clustering_model__estimators__2__min_samples_leaf': 4}. Best is trial 43 with value: -178589.66440058086.\n"
     ]
    }
   ],
   "source": [
    "simple_eval = SimpleEvaluation(estimator=pipeline_clustering_model,  \n",
    "                                cv=inner, \n",
    "                                param_grid=param_grid_RF_XGB_robust_maha,\n",
    "                                search_method='optuna',\n",
    "                                scoring='neg_mean_absolute_error', \n",
    "                                direction='maximize', \n",
    "                                n_trials=100, \n",
    "                                random_state=123)\n",
    "\n",
    "simple_eval.fit(X=X_train, y=Y_train)\n",
    "# Time: "
   ]
  },
  {
   "cell_type": "code",
   "execution_count": 31,
   "metadata": {},
   "outputs": [],
   "source": [
    "clustering_method = 'KFoldFastKmedoids-RobustMaha'\n",
    "inner_score[clustering_method] = simple_eval.inner_score\n",
    "best_params[clustering_method] = simple_eval.inner_best_params\n",
    "inner_results[clustering_method] = simple_eval.inner_results"
   ]
  },
  {
   "cell_type": "markdown",
   "metadata": {},
   "source": [
    "### **d1 != robust maha**"
   ]
  },
  {
   "cell_type": "code",
   "execution_count": 34,
   "metadata": {},
   "outputs": [
    {
     "name": "stderr",
     "output_type": "stream",
     "text": [
      "[I 2024-05-31 16:41:01,409] A new study created in memory with name: no-name-b8c27007-6b31-4683-8973-f51f17a1c709\n"
     ]
    },
    {
     "name": "stdout",
     "output_type": "stream",
     "text": [
      "Num.Folds: 7. Fold size: 2096.\n",
      "Distance matrix size: 839 (0.4*2096) \n",
      "Num.Clusters: 2. Clusters proportions: [0.19873237 0.80126763]\n",
      "Num.Folds: 7. Fold size: 2096.\n",
      "Distance matrix size: 839 (0.4*2096) \n",
      "Num.Clusters: 2. Clusters proportions: [1.]\n",
      "Num.Folds: 7. Fold size: 2096.\n",
      "Distance matrix size: 839 (0.4*2096) \n",
      "Num.Clusters: 2. Clusters proportions: [0.84482759 0.15517241]\n",
      "Num.Folds: 7. Fold size: 2096.\n",
      "Distance matrix size: 839 (0.4*2096) \n",
      "Num.Clusters: 2. Clusters proportions: [1.]\n"
     ]
    },
    {
     "name": "stderr",
     "output_type": "stream",
     "text": [
      "[I 2024-05-31 16:41:48,535] Trial 0 finished with value: -186184.8272726917 and parameters: {'preprocessing__quant__imputer__method': 'simple_mean', 'preprocessing__cat__imputer__method': 'simple_most_frequent', 'preprocessing__quant__scaler__apply': True, 'preprocessing__cat__encoder__method': 'ordinal', 'features_selector__apply': False, 'preprocessing__quant__scaler__method': 'standard', 'clustering_model__n_clusters': 2, 'clustering_model__method': 'alternate', 'clustering_model__init': 'heuristic', 'clustering_model__frac_sample_size': 0.4, 'clustering_model__d1': 'minkowski', 'clustering_model__d2': 'sokal', 'clustering_model__n_splits': 7, 'clustering_model__estimators__0__n_estimators': 80, 'clustering_model__estimators__0__max_depth': 30, 'clustering_model__estimators__0__min_samples_split': 4, 'clustering_model__estimators__0__min_samples_leaf': 9, 'clustering_model__estimators__1__max_depth': 10, 'clustering_model__estimators__1__lambda': 0.30000000000000004, 'clustering_model__estimators__1__n_estimators': 180, 'clustering_model__estimators__1__eta': 0.16, 'clustering_model__estimators__1__alpha': 0.74}. Best is trial 0 with value: -186184.8272726917.\n"
     ]
    },
    {
     "name": "stdout",
     "output_type": "stream",
     "text": [
      "Num.Folds: 22. Fold size: 666.\n",
      "Distance matrix size: 234 (0.35*666) \n",
      "Num.Clusters: 2. Clusters proportions: [0.0372112 0.9627888]\n",
      "Num.Folds: 22. Fold size: 667.\n",
      "Distance matrix size: 234 (0.35*667) \n",
      "Num.Clusters: 2. Clusters proportions: [0.04334197 0.95665803]\n",
      "Num.Folds: 22. Fold size: 667.\n",
      "Distance matrix size: 234 (0.35*667) \n",
      "Num.Clusters: 2. Clusters proportions: [0.13643178 0.86356822]\n",
      "Num.Folds: 22. Fold size: 667.\n",
      "Distance matrix size: 234 (0.35*667) \n",
      "Num.Clusters: 2. Clusters proportions: [0.94670846 0.05329154]\n"
     ]
    },
    {
     "name": "stderr",
     "output_type": "stream",
     "text": [
      "[I 2024-05-31 16:42:47,284] Trial 1 finished with value: -338334.23120733496 and parameters: {'preprocessing__quant__imputer__method': 'iterative_median', 'preprocessing__cat__imputer__method': 'simple_most_frequent', 'preprocessing__quant__scaler__apply': False, 'preprocessing__cat__encoder__method': 'ordinal', 'features_selector__apply': False, 'clustering_model__n_clusters': 2, 'clustering_model__method': 'pam', 'clustering_model__init': 'heuristic', 'clustering_model__frac_sample_size': 0.35, 'clustering_model__d1': 'euclidean', 'clustering_model__d2': 'sokal', 'clustering_model__n_splits': 22, 'clustering_model__estimators__0__n_estimators': 100, 'clustering_model__estimators__0__max_depth': None, 'clustering_model__estimators__0__min_samples_split': 14, 'clustering_model__estimators__0__min_samples_leaf': 17, 'clustering_model__estimators__1__max_depth': 30, 'clustering_model__estimators__1__lambda': 0.2, 'clustering_model__estimators__1__n_estimators': 50, 'clustering_model__estimators__1__eta': 0.0, 'clustering_model__estimators__1__alpha': 1.0}. Best is trial 0 with value: -186184.8272726917.\n"
     ]
    },
    {
     "name": "stdout",
     "output_type": "stream",
     "text": [
      "Num.Folds: 37. Fold size: 396.\n",
      "Distance matrix size: 60 (0.15*396) \n",
      "Num.Clusters: 3. Clusters proportions: [0.08232809 0.75655967 0.16111225]\n",
      "Num.Folds: 37. Fold size: 396.\n",
      "Distance matrix size: 60 (0.15*396) \n",
      "Num.Clusters: 3. Clusters proportions: [0.07809731 0.14290582 0.77899687]\n",
      "Num.Folds: 37. Fold size: 396.\n",
      "Distance matrix size: 60 (0.15*396) \n",
      "Num.Clusters: 3. Clusters proportions: [0.0785062  0.72638681 0.19510699]\n",
      "Num.Folds: 37. Fold size: 396.\n",
      "Distance matrix size: 60 (0.15*396) \n",
      "Num.Clusters: 3. Clusters proportions: [0.07584844 0.22393349 0.70021807]\n"
     ]
    },
    {
     "name": "stderr",
     "output_type": "stream",
     "text": [
      "[I 2024-05-31 16:44:16,698] Trial 2 finished with value: -185504.63430941844 and parameters: {'preprocessing__quant__imputer__method': 'simple_mean', 'preprocessing__cat__imputer__method': 'simple_most_frequent', 'preprocessing__quant__scaler__apply': False, 'preprocessing__cat__encoder__method': 'ordinal', 'features_selector__apply': False, 'clustering_model__n_clusters': 3, 'clustering_model__method': 'pam', 'clustering_model__init': 'heuristic', 'clustering_model__frac_sample_size': 0.15, 'clustering_model__d1': 'canberra', 'clustering_model__d2': 'jaccard', 'clustering_model__n_splits': 37, 'clustering_model__estimators__0__n_estimators': 109, 'clustering_model__estimators__0__max_depth': 40, 'clustering_model__estimators__0__min_samples_split': 12, 'clustering_model__estimators__0__min_samples_leaf': 12, 'clustering_model__estimators__1__max_depth': 30, 'clustering_model__estimators__1__lambda': 0.4, 'clustering_model__estimators__1__n_estimators': 100, 'clustering_model__estimators__1__eta': 0.04, 'clustering_model__estimators__1__alpha': 0.52, 'clustering_model__estimators__2__n_estimators': 80, 'clustering_model__estimators__2__max_depth': 50, 'clustering_model__estimators__2__min_samples_split': 15, 'clustering_model__estimators__2__min_samples_leaf': 6}. Best is trial 2 with value: -185504.63430941844.\n"
     ]
    },
    {
     "name": "stdout",
     "output_type": "stream",
     "text": [
      "Num.Folds: 50. Fold size: 293.\n",
      "Distance matrix size: 88 (0.3*293) \n",
      "Num.Clusters: 3. Clusters proportions: [0.42833776 0.3152048  0.25645744]\n",
      "Num.Folds: 50. Fold size: 293.\n",
      "Distance matrix size: 88 (0.3*293) \n",
      "Num.Clusters: 3. Clusters proportions: [0.51621916 0.1751397  0.30864113]\n",
      "Num.Folds: 50. Fold size: 293.\n",
      "Distance matrix size: 88 (0.3*293) \n",
      "Num.Clusters: 3. Clusters proportions: [0.35436827 0.46660761 0.17902412]\n",
      "Num.Folds: 50. Fold size: 293.\n",
      "Distance matrix size: 88 (0.3*293) \n",
      "Num.Clusters: 3. Clusters proportions: [0.25344146 0.36288674 0.3836718 ]\n"
     ]
    },
    {
     "name": "stderr",
     "output_type": "stream",
     "text": [
      "[I 2024-05-31 16:46:14,494] Trial 3 finished with value: -196122.29135302675 and parameters: {'preprocessing__quant__imputer__method': 'simple_mean', 'preprocessing__cat__imputer__method': 'simple_most_frequent', 'preprocessing__quant__scaler__apply': True, 'preprocessing__cat__encoder__method': 'ordinal', 'features_selector__apply': False, 'preprocessing__quant__scaler__method': 'standard', 'clustering_model__n_clusters': 3, 'clustering_model__method': 'alternate', 'clustering_model__init': 'heuristic', 'clustering_model__frac_sample_size': 0.3, 'clustering_model__d1': 'canberra', 'clustering_model__d2': 'sokal', 'clustering_model__n_splits': 50, 'clustering_model__estimators__0__n_estimators': 66, 'clustering_model__estimators__0__max_depth': 3, 'clustering_model__estimators__0__min_samples_split': 7, 'clustering_model__estimators__0__min_samples_leaf': 21, 'clustering_model__estimators__1__max_depth': 50, 'clustering_model__estimators__1__lambda': 0.2, 'clustering_model__estimators__1__n_estimators': 70, 'clustering_model__estimators__1__eta': 0.06, 'clustering_model__estimators__1__alpha': 0.55, 'clustering_model__estimators__2__n_estimators': 100, 'clustering_model__estimators__2__max_depth': 5, 'clustering_model__estimators__2__min_samples_split': 25, 'clustering_model__estimators__2__min_samples_leaf': 7}. Best is trial 2 with value: -185504.63430941844.\n"
     ]
    },
    {
     "name": "stdout",
     "output_type": "stream",
     "text": [
      "Num.Folds: 20. Fold size: 733.\n",
      "Distance matrix size: 514 (0.7*733) \n",
      "Num.Clusters: 3. Clusters proportions: [0.05827029 0.8844817  0.05724801]\n",
      "Num.Folds: 20. Fold size: 733.\n",
      "Distance matrix size: 514 (0.7*733) \n",
      "Num.Clusters: 3. Clusters proportions: [0.21187134 0.74914815 0.03898051]\n",
      "Num.Folds: 20. Fold size: 733.\n",
      "Distance matrix size: 514 (0.7*733) \n",
      "Num.Clusters: 3. Clusters proportions: [0.31388851 0.03754941 0.64856208]\n",
      "Num.Folds: 20. Fold size: 733.\n",
      "Distance matrix size: 514 (0.7*733) \n",
      "Num.Clusters: 3. Clusters proportions: [0.14140657 0.62798146 0.23061197]\n"
     ]
    },
    {
     "name": "stderr",
     "output_type": "stream",
     "text": [
      "[I 2024-05-31 16:47:11,459] Trial 4 finished with value: -186344.38530674222 and parameters: {'preprocessing__quant__imputer__method': 'simple_mean', 'preprocessing__cat__imputer__method': 'simple_most_frequent', 'preprocessing__quant__scaler__apply': False, 'preprocessing__cat__encoder__method': 'ordinal', 'features_selector__apply': False, 'clustering_model__n_clusters': 3, 'clustering_model__method': 'alternate', 'clustering_model__init': 'k-medoids++', 'clustering_model__frac_sample_size': 0.7, 'clustering_model__d1': 'canberra', 'clustering_model__d2': 'sokal', 'clustering_model__n_splits': 20, 'clustering_model__estimators__0__n_estimators': 116, 'clustering_model__estimators__0__max_depth': 3, 'clustering_model__estimators__0__min_samples_split': 4, 'clustering_model__estimators__0__min_samples_leaf': 7, 'clustering_model__estimators__1__max_depth': None, 'clustering_model__estimators__1__lambda': 0.2, 'clustering_model__estimators__1__n_estimators': 70, 'clustering_model__estimators__1__eta': 0.14, 'clustering_model__estimators__1__alpha': 0.95, 'clustering_model__estimators__2__n_estimators': 64, 'clustering_model__estimators__2__max_depth': 20, 'clustering_model__estimators__2__min_samples_split': 21, 'clustering_model__estimators__2__min_samples_leaf': 10}. Best is trial 2 with value: -185504.63430941844.\n"
     ]
    },
    {
     "name": "stdout",
     "output_type": "stream",
     "text": [
      "Num.Folds: 13. Fold size: 1128.\n",
      "Distance matrix size: 282 (0.25*1128) \n",
      "Num.Clusters: 2. Clusters proportions: [0.97873645 0.02126355]\n",
      "Num.Folds: 13. Fold size: 1128.\n",
      "Distance matrix size: 282 (0.25*1128) \n",
      "Num.Clusters: 2. Clusters proportions: [0.9577484 0.0422516]\n",
      "Num.Folds: 13. Fold size: 1128.\n",
      "Distance matrix size: 282 (0.25*1128) \n",
      "Num.Clusters: 2. Clusters proportions: [0.05213302 0.94786698]\n",
      "Num.Folds: 13. Fold size: 1128.\n",
      "Distance matrix size: 282 (0.25*1128) \n",
      "Num.Clusters: 2. Clusters proportions: [0.97042388 0.02957612]\n"
     ]
    },
    {
     "name": "stderr",
     "output_type": "stream",
     "text": [
      "[I 2024-05-31 16:48:20,191] Trial 5 finished with value: -194512.55635611847 and parameters: {'preprocessing__quant__imputer__method': 'iterative_mean', 'preprocessing__cat__imputer__method': 'simple_most_frequent', 'preprocessing__quant__scaler__apply': False, 'preprocessing__cat__encoder__method': 'ordinal', 'features_selector__apply': False, 'clustering_model__n_clusters': 2, 'clustering_model__method': 'pam', 'clustering_model__init': 'random', 'clustering_model__frac_sample_size': 0.25, 'clustering_model__d1': 'euclidean', 'clustering_model__d2': 'sokal', 'clustering_model__n_splits': 13, 'clustering_model__estimators__0__n_estimators': 69, 'clustering_model__estimators__0__max_depth': 20, 'clustering_model__estimators__0__min_samples_split': 20, 'clustering_model__estimators__0__min_samples_leaf': 6, 'clustering_model__estimators__1__max_depth': 20, 'clustering_model__estimators__1__lambda': 0.1, 'clustering_model__estimators__1__n_estimators': 50, 'clustering_model__estimators__1__eta': 0.3, 'clustering_model__estimators__1__alpha': 0.5900000000000001}. Best is trial 2 with value: -185504.63430941844.\n"
     ]
    },
    {
     "name": "stdout",
     "output_type": "stream",
     "text": [
      "Num.Folds: 48. Fold size: 305.\n",
      "Distance matrix size: 107 (0.35*305) \n",
      "Num.Clusters: 2. Clusters proportions: [0.0512506 0.9487494]\n",
      "Num.Folds: 48. Fold size: 305.\n",
      "Distance matrix size: 107 (0.35*305) \n",
      "Num.Clusters: 2. Clusters proportions: [0.05922039 0.94077961]\n",
      "Num.Folds: 48. Fold size: 305.\n",
      "Distance matrix size: 107 (0.35*305) \n",
      "Num.Clusters: 2. Clusters proportions: [0.94602699 0.05397301]\n",
      "Num.Folds: 48. Fold size: 305.\n",
      "Distance matrix size: 107 (0.35*305) \n",
      "Num.Clusters: 2. Clusters proportions: [0.05976557 0.94023443]\n"
     ]
    },
    {
     "name": "stderr",
     "output_type": "stream",
     "text": [
      "[I 2024-05-31 16:49:27,831] Trial 6 finished with value: -192475.8111922155 and parameters: {'preprocessing__quant__imputer__method': 'iterative_median', 'preprocessing__cat__imputer__method': 'simple_most_frequent', 'preprocessing__quant__scaler__apply': False, 'preprocessing__cat__encoder__method': 'ordinal', 'features_selector__apply': False, 'clustering_model__n_clusters': 2, 'clustering_model__method': 'pam', 'clustering_model__init': 'heuristic', 'clustering_model__frac_sample_size': 0.35, 'clustering_model__d1': 'canberra', 'clustering_model__d2': 'jaccard', 'clustering_model__n_splits': 48, 'clustering_model__estimators__0__n_estimators': 107, 'clustering_model__estimators__0__max_depth': 5, 'clustering_model__estimators__0__min_samples_split': 8, 'clustering_model__estimators__0__min_samples_leaf': 11, 'clustering_model__estimators__1__max_depth': 3, 'clustering_model__estimators__1__lambda': 0.0, 'clustering_model__estimators__1__n_estimators': 30, 'clustering_model__estimators__1__eta': 0.26, 'clustering_model__estimators__1__alpha': 0.53}. Best is trial 2 with value: -185504.63430941844.\n"
     ]
    },
    {
     "name": "stdout",
     "output_type": "stream",
     "text": [
      "Num.Folds: 34. Fold size: 431.\n",
      "Distance matrix size: 259 (0.6*431) \n",
      "Num.Clusters: 2. Clusters proportions: [1.]\n",
      "Num.Folds: 34. Fold size: 431.\n",
      "Distance matrix size: 259 (0.6*431) \n",
      "Num.Clusters: 2. Clusters proportions: [0.46783426 0.53216574]\n",
      "Num.Folds: 34. Fold size: 431.\n",
      "Distance matrix size: 259 (0.6*431) \n",
      "Num.Clusters: 2. Clusters proportions: [1.]\n",
      "Num.Folds: 34. Fold size: 431.\n",
      "Distance matrix size: 259 (0.6*431) \n",
      "Num.Clusters: 2. Clusters proportions: [1.]\n"
     ]
    },
    {
     "name": "stderr",
     "output_type": "stream",
     "text": [
      "[I 2024-05-31 16:50:42,514] Trial 7 finished with value: -181032.67499507632 and parameters: {'preprocessing__quant__imputer__method': 'simple_median', 'preprocessing__cat__imputer__method': 'simple_most_frequent', 'preprocessing__quant__scaler__apply': False, 'preprocessing__cat__encoder__method': 'ordinal', 'features_selector__apply': False, 'clustering_model__n_clusters': 2, 'clustering_model__method': 'alternate', 'clustering_model__init': 'heuristic', 'clustering_model__frac_sample_size': 0.6, 'clustering_model__d1': 'canberra', 'clustering_model__d2': 'jaccard', 'clustering_model__n_splits': 34, 'clustering_model__estimators__0__n_estimators': 102, 'clustering_model__estimators__0__max_depth': 50, 'clustering_model__estimators__0__min_samples_split': 23, 'clustering_model__estimators__0__min_samples_leaf': 7, 'clustering_model__estimators__1__max_depth': 3, 'clustering_model__estimators__1__lambda': 0.0, 'clustering_model__estimators__1__n_estimators': 150, 'clustering_model__estimators__1__eta': 0.24, 'clustering_model__estimators__1__alpha': 0.8900000000000001}. Best is trial 7 with value: -181032.67499507632.\n"
     ]
    },
    {
     "name": "stdout",
     "output_type": "stream",
     "text": [
      "Num.Folds: 14. Fold size: 1048.\n",
      "Distance matrix size: 420 (0.4*1048) \n",
      "Num.Clusters: 3. Clusters proportions: [0.08328222 0.67252777 0.24419001]\n",
      "Num.Folds: 14. Fold size: 1048.\n",
      "Distance matrix size: 420 (0.4*1048) \n",
      "Num.Clusters: 3. Clusters proportions: [0.08838762 0.67193676 0.23967562]\n",
      "Num.Folds: 14. Fold size: 1048.\n",
      "Distance matrix size: 420 (0.4*1048) \n",
      "Num.Clusters: 3. Clusters proportions: [0.66498569 0.10072237 0.23429194]\n",
      "Num.Folds: 14. Fold size: 1048.\n",
      "Distance matrix size: 420 (0.4*1048) \n",
      "Num.Clusters: 3. Clusters proportions: [0.19769661 0.09479351 0.70750988]\n"
     ]
    },
    {
     "name": "stderr",
     "output_type": "stream",
     "text": [
      "[I 2024-05-31 16:51:44,930] Trial 8 finished with value: -195267.37621930288 and parameters: {'preprocessing__quant__imputer__method': 'simple_mean', 'preprocessing__cat__imputer__method': 'simple_most_frequent', 'preprocessing__quant__scaler__apply': False, 'preprocessing__cat__encoder__method': 'ordinal', 'features_selector__apply': False, 'clustering_model__n_clusters': 3, 'clustering_model__method': 'pam', 'clustering_model__init': 'heuristic', 'clustering_model__frac_sample_size': 0.4, 'clustering_model__d1': 'canberra', 'clustering_model__d2': 'jaccard', 'clustering_model__n_splits': 14, 'clustering_model__estimators__0__n_estimators': 87, 'clustering_model__estimators__0__max_depth': 40, 'clustering_model__estimators__0__min_samples_split': 6, 'clustering_model__estimators__0__min_samples_leaf': 14, 'clustering_model__estimators__1__max_depth': 5, 'clustering_model__estimators__1__lambda': 0.4, 'clustering_model__estimators__1__n_estimators': 50, 'clustering_model__estimators__1__eta': 0.14, 'clustering_model__estimators__1__alpha': 0.55, 'clustering_model__estimators__2__n_estimators': 72, 'clustering_model__estimators__2__max_depth': 3, 'clustering_model__estimators__2__min_samples_split': 21, 'clustering_model__estimators__2__min_samples_leaf': 19}. Best is trial 7 with value: -181032.67499507632.\n"
     ]
    },
    {
     "name": "stdout",
     "output_type": "stream",
     "text": [
      "Num.Folds: 12. Fold size: 1222.\n",
      "Distance matrix size: 489 (0.4*1222) \n",
      "Num.Clusters: 3. Clusters proportions: [0.74149799 0.08014721 0.1783548 ]\n",
      "Num.Folds: 12. Fold size: 1222.\n",
      "Distance matrix size: 489 (0.4*1222) \n",
      "Num.Clusters: 3. Clusters proportions: [0.68645223 0.06923811 0.24430966]\n",
      "Num.Folds: 12. Fold size: 1222.\n",
      "Distance matrix size: 489 (0.4*1222) \n",
      "Num.Folds: 12. Fold size: 1222.\n",
      "Distance matrix size: 489 (0.4*1222) \n",
      "Num.Clusters: 3. Clusters proportions: [0.03734496 0.58893281 0.37372223]\n"
     ]
    },
    {
     "name": "stderr",
     "output_type": "stream",
     "text": [
      "[W 2024-05-31 16:53:04,414] Trial 9 failed with parameters: {'preprocessing__quant__imputer__method': 'simple_median', 'preprocessing__cat__imputer__method': 'simple_most_frequent', 'preprocessing__quant__scaler__apply': False, 'preprocessing__cat__encoder__method': 'ordinal', 'features_selector__apply': False, 'clustering_model__n_clusters': 3, 'clustering_model__method': 'pam', 'clustering_model__init': 'random', 'clustering_model__frac_sample_size': 0.4, 'clustering_model__d1': 'euclidean', 'clustering_model__d2': 'sokal', 'clustering_model__n_splits': 12, 'clustering_model__estimators__0__n_estimators': 83, 'clustering_model__estimators__0__max_depth': 40, 'clustering_model__estimators__0__min_samples_split': 14, 'clustering_model__estimators__0__min_samples_leaf': 24, 'clustering_model__estimators__1__max_depth': None, 'clustering_model__estimators__1__lambda': 0.5, 'clustering_model__estimators__1__n_estimators': 100, 'clustering_model__estimators__1__eta': 0.02, 'clustering_model__estimators__1__alpha': 0.96, 'clustering_model__estimators__2__n_estimators': 117, 'clustering_model__estimators__2__max_depth': 10, 'clustering_model__estimators__2__min_samples_split': 4, 'clustering_model__estimators__2__min_samples_leaf': 24} because of the following error: The value nan is not acceptable.\n",
      "[W 2024-05-31 16:53:04,414] Trial 9 failed with value nan.\n"
     ]
    },
    {
     "name": "stdout",
     "output_type": "stream",
     "text": [
      "Num.Folds: 26. Fold size: 564.\n",
      "Distance matrix size: 198 (0.35*564) \n",
      "Num.Clusters: 3. Clusters proportions: [0.22524364 0.02903292 0.74572344]\n",
      "Num.Folds: 26. Fold size: 564.\n",
      "Distance matrix size: 198 (0.35*564) \n",
      "Num.Clusters: 3. Clusters proportions: [0.18474853 0.05301895 0.76223252]\n",
      "Num.Folds: 26. Fold size: 564.\n",
      "Distance matrix size: 198 (0.35*564) \n",
      "Num.Clusters: 3. Clusters proportions: [0.21834537 0.65033392 0.1313207 ]\n",
      "Num.Folds: 26. Fold size: 564.\n",
      "Distance matrix size: 198 (0.35*564) \n",
      "Num.Clusters: 3. Clusters proportions: [0.05376857 0.19919586 0.74703557]\n"
     ]
    },
    {
     "name": "stderr",
     "output_type": "stream",
     "text": [
      "[I 2024-05-31 16:54:18,499] Trial 10 finished with value: -190557.21992548468 and parameters: {'preprocessing__quant__imputer__method': 'simple_mean', 'preprocessing__cat__imputer__method': 'simple_most_frequent', 'preprocessing__quant__scaler__apply': False, 'preprocessing__cat__encoder__method': 'ordinal', 'features_selector__apply': False, 'clustering_model__n_clusters': 3, 'clustering_model__method': 'alternate', 'clustering_model__init': 'random', 'clustering_model__frac_sample_size': 0.35, 'clustering_model__d1': 'minkowski', 'clustering_model__d2': 'jaccard', 'clustering_model__n_splits': 26, 'clustering_model__estimators__0__n_estimators': 83, 'clustering_model__estimators__0__max_depth': 3, 'clustering_model__estimators__0__min_samples_split': 20, 'clustering_model__estimators__0__min_samples_leaf': 13, 'clustering_model__estimators__1__max_depth': 3, 'clustering_model__estimators__1__lambda': 0.5, 'clustering_model__estimators__1__n_estimators': 70, 'clustering_model__estimators__1__eta': 0.18, 'clustering_model__estimators__1__alpha': 0.74, 'clustering_model__estimators__2__n_estimators': 62, 'clustering_model__estimators__2__max_depth': None, 'clustering_model__estimators__2__min_samples_split': 4, 'clustering_model__estimators__2__min_samples_leaf': 17}. Best is trial 7 with value: -181032.67499507632.\n"
     ]
    },
    {
     "name": "stdout",
     "output_type": "stream",
     "text": [
      "Num.Folds: 36. Fold size: 407.\n",
      "Distance matrix size: 245 (0.6*407) \n",
      "Num.Clusters: 2. Clusters proportions: [7.49676276e-04 9.99250324e-01]\n",
      "Num.Folds: 36. Fold size: 407.\n",
      "Distance matrix size: 245 (0.6*407) \n",
      "Num.Clusters: 2. Clusters proportions: [0.05315524 0.94684476]\n",
      "Num.Folds: 36. Fold size: 407.\n",
      "Distance matrix size: 245 (0.6*407) \n",
      "Num.Clusters: 2. Clusters proportions: [0.91413384 0.08586616]\n",
      "Num.Folds: 36. Fold size: 407.\n",
      "Distance matrix size: 245 (0.6*407) \n",
      "Num.Clusters: 2. Clusters proportions: [0.04777157 0.95222843]\n"
     ]
    },
    {
     "name": "stderr",
     "output_type": "stream",
     "text": [
      "[I 2024-05-31 16:55:44,747] Trial 11 finished with value: -217737.6170582563 and parameters: {'preprocessing__quant__imputer__method': 'simple_median', 'preprocessing__cat__imputer__method': 'simple_most_frequent', 'preprocessing__quant__scaler__apply': True, 'preprocessing__cat__encoder__method': 'ordinal', 'features_selector__apply': False, 'preprocessing__quant__scaler__method': 'min-max', 'clustering_model__n_clusters': 2, 'clustering_model__method': 'alternate', 'clustering_model__init': 'k-medoids++', 'clustering_model__frac_sample_size': 0.6, 'clustering_model__d1': 'euclidean', 'clustering_model__d2': 'jaccard', 'clustering_model__n_splits': 36, 'clustering_model__estimators__0__n_estimators': 97, 'clustering_model__estimators__0__max_depth': 50, 'clustering_model__estimators__0__min_samples_split': 25, 'clustering_model__estimators__0__min_samples_leaf': 2, 'clustering_model__estimators__1__max_depth': 40, 'clustering_model__estimators__1__lambda': 0.0, 'clustering_model__estimators__1__n_estimators': 150, 'clustering_model__estimators__1__eta': 0.22, 'clustering_model__estimators__1__alpha': 0.27}. Best is trial 7 with value: -181032.67499507632.\n"
     ]
    },
    {
     "name": "stdout",
     "output_type": "stream",
     "text": [
      "Num.Folds: 35. Fold size: 419.\n",
      "Distance matrix size: 63 (0.15*419) \n",
      "Num.Clusters: 3. Clusters proportions: [0.72657262 0.06242759 0.2109998 ]\n",
      "Num.Folds: 35. Fold size: 419.\n",
      "Distance matrix size: 63 (0.15*419) \n",
      "Num.Clusters: 3. Clusters proportions: [0.68161374 0.08061878 0.23776748]\n",
      "Num.Folds: 35. Fold size: 419.\n",
      "Distance matrix size: 63 (0.15*419) \n",
      "Num.Clusters: 3. Clusters proportions: [0.06589887 0.17977375 0.75432738]\n",
      "Num.Folds: 35. Fold size: 419.\n",
      "Distance matrix size: 63 (0.15*419) \n",
      "Num.Clusters: 3. Clusters proportions: [0.07121439 0.66437236 0.26441325]\n"
     ]
    },
    {
     "name": "stderr",
     "output_type": "stream",
     "text": [
      "[I 2024-05-31 16:58:48,171] Trial 12 finished with value: -183128.45584359526 and parameters: {'preprocessing__quant__imputer__method': 'simple_median', 'preprocessing__cat__imputer__method': 'simple_most_frequent', 'preprocessing__quant__scaler__apply': False, 'preprocessing__cat__encoder__method': 'ordinal', 'features_selector__apply': False, 'clustering_model__n_clusters': 3, 'clustering_model__method': 'pam', 'clustering_model__init': 'heuristic', 'clustering_model__frac_sample_size': 0.15, 'clustering_model__d1': 'canberra', 'clustering_model__d2': 'jaccard', 'clustering_model__n_splits': 35, 'clustering_model__estimators__0__n_estimators': 119, 'clustering_model__estimators__0__max_depth': 40, 'clustering_model__estimators__0__min_samples_split': 13, 'clustering_model__estimators__0__min_samples_leaf': 25, 'clustering_model__estimators__1__max_depth': 30, 'clustering_model__estimators__1__lambda': 0.4, 'clustering_model__estimators__1__n_estimators': 100, 'clustering_model__estimators__1__eta': 0.06, 'clustering_model__estimators__1__alpha': 0.33, 'clustering_model__estimators__2__n_estimators': 120, 'clustering_model__estimators__2__max_depth': 50, 'clustering_model__estimators__2__min_samples_split': 11, 'clustering_model__estimators__2__min_samples_leaf': 3}. Best is trial 7 with value: -181032.67499507632.\n"
     ]
    },
    {
     "name": "stdout",
     "output_type": "stream",
     "text": [
      "Num.Folds: 36. Fold size: 407.\n",
      "Distance matrix size: 62 (0.15*407) \n",
      "Num.Clusters: 2. Clusters proportions: [0.5619846 0.4380154]\n",
      "Num.Folds: 36. Fold size: 407.\n",
      "Distance matrix size: 62 (0.15*407) \n",
      "Num.Clusters: 2. Clusters proportions: [1.]\n",
      "Num.Folds: 36. Fold size: 407.\n",
      "Distance matrix size: 62 (0.15*407) \n",
      "Num.Clusters: 2. Clusters proportions: [0.46810686 0.53189314]\n",
      "Num.Folds: 36. Fold size: 407.\n",
      "Distance matrix size: 62 (0.15*407) \n",
      "Num.Clusters: 2. Clusters proportions: [1.]\n"
     ]
    },
    {
     "name": "stderr",
     "output_type": "stream",
     "text": [
      "[I 2024-05-31 17:00:59,438] Trial 13 finished with value: -186109.44802392722 and parameters: {'preprocessing__quant__imputer__method': 'simple_median', 'preprocessing__cat__imputer__method': 'simple_most_frequent', 'preprocessing__quant__scaler__apply': False, 'preprocessing__cat__encoder__method': 'ordinal', 'features_selector__apply': False, 'clustering_model__n_clusters': 2, 'clustering_model__method': 'alternate', 'clustering_model__init': 'heuristic', 'clustering_model__frac_sample_size': 0.15, 'clustering_model__d1': 'canberra', 'clustering_model__d2': 'jaccard', 'clustering_model__n_splits': 36, 'clustering_model__estimators__0__n_estimators': 117, 'clustering_model__estimators__0__max_depth': 10, 'clustering_model__estimators__0__min_samples_split': 16, 'clustering_model__estimators__0__min_samples_leaf': 23, 'clustering_model__estimators__1__max_depth': 7, 'clustering_model__estimators__1__lambda': 0.5, 'clustering_model__estimators__1__n_estimators': 150, 'clustering_model__estimators__1__eta': 0.08, 'clustering_model__estimators__1__alpha': 0.28}. Best is trial 7 with value: -181032.67499507632.\n"
     ]
    },
    {
     "name": "stdout",
     "output_type": "stream",
     "text": [
      "Num.Folds: 41. Fold size: 357.\n",
      "Distance matrix size: 215 (0.6*357) \n",
      "Num.Clusters: 3. Clusters proportions: [0.09554965 0.71055681 0.19389355]\n",
      "Num.Folds: 41. Fold size: 357.\n",
      "Distance matrix size: 215 (0.6*357) \n",
      "Num.Clusters: 3. Clusters proportions: [0.0755077  0.23558675 0.68890555]\n",
      "Num.Folds: 41. Fold size: 357.\n",
      "Distance matrix size: 215 (0.6*357) \n",
      "Num.Clusters: 3. Clusters proportions: [0.06126482 0.74942074 0.18931443]\n",
      "Num.Folds: 41. Fold size: 357.\n",
      "Distance matrix size: 215 (0.6*357) \n",
      "Num.Clusters: 3. Clusters proportions: [0.07121439 0.2160965  0.71268911]\n"
     ]
    },
    {
     "name": "stderr",
     "output_type": "stream",
     "text": [
      "[I 2024-05-31 17:02:27,359] Trial 14 finished with value: -179629.11782426835 and parameters: {'preprocessing__quant__imputer__method': 'simple_median', 'preprocessing__cat__imputer__method': 'simple_most_frequent', 'preprocessing__quant__scaler__apply': False, 'preprocessing__cat__encoder__method': 'ordinal', 'features_selector__apply': False, 'clustering_model__n_clusters': 3, 'clustering_model__method': 'pam', 'clustering_model__init': 'heuristic', 'clustering_model__frac_sample_size': 0.6, 'clustering_model__d1': 'canberra', 'clustering_model__d2': 'jaccard', 'clustering_model__n_splits': 41, 'clustering_model__estimators__0__n_estimators': 51, 'clustering_model__estimators__0__max_depth': 7, 'clustering_model__estimators__0__min_samples_split': 25, 'clustering_model__estimators__0__min_samples_leaf': 25, 'clustering_model__estimators__1__max_depth': 3, 'clustering_model__estimators__1__lambda': 0.30000000000000004, 'clustering_model__estimators__1__n_estimators': 100, 'clustering_model__estimators__1__eta': 0.1, 'clustering_model__estimators__1__alpha': 0.37, 'clustering_model__estimators__2__n_estimators': 117, 'clustering_model__estimators__2__max_depth': 50, 'clustering_model__estimators__2__min_samples_split': 7, 'clustering_model__estimators__2__min_samples_leaf': 2}. Best is trial 14 with value: -179629.11782426835.\n"
     ]
    },
    {
     "name": "stdout",
     "output_type": "stream",
     "text": [
      "Num.Folds: 43. Fold size: 341.\n",
      "Distance matrix size: 205 (0.6*341) \n",
      "Num.Clusters: 2. Clusters proportions: [0.97069447 0.02930553]\n",
      "Num.Folds: 43. Fold size: 341.\n",
      "Distance matrix size: 205 (0.6*341) \n",
      "Num.Clusters: 2. Clusters proportions: [0.96367725 0.03632275]\n",
      "Num.Folds: 43. Fold size: 341.\n",
      "Distance matrix size: 205 (0.6*341) \n",
      "Num.Clusters: 2. Clusters proportions: [0.40629685 0.59370315]\n",
      "Num.Folds: 43. Fold size: 341.\n",
      "Distance matrix size: 205 (0.6*341) \n",
      "Num.Clusters: 2. Clusters proportions: [0.39927763 0.60072237]\n"
     ]
    },
    {
     "name": "stderr",
     "output_type": "stream",
     "text": [
      "[I 2024-05-31 17:03:26,472] Trial 15 finished with value: -188350.9613721909 and parameters: {'preprocessing__quant__imputer__method': 'simple_median', 'preprocessing__cat__imputer__method': 'simple_most_frequent', 'preprocessing__quant__scaler__apply': True, 'preprocessing__cat__encoder__method': 'ordinal', 'features_selector__apply': False, 'preprocessing__quant__scaler__method': 'min-max', 'clustering_model__n_clusters': 2, 'clustering_model__method': 'pam', 'clustering_model__init': 'k-medoids++', 'clustering_model__frac_sample_size': 0.6, 'clustering_model__d1': 'canberra', 'clustering_model__d2': 'jaccard', 'clustering_model__n_splits': 43, 'clustering_model__estimators__0__n_estimators': 52, 'clustering_model__estimators__0__max_depth': 7, 'clustering_model__estimators__0__min_samples_split': 25, 'clustering_model__estimators__0__min_samples_leaf': 18, 'clustering_model__estimators__1__max_depth': 3, 'clustering_model__estimators__1__lambda': 0.1, 'clustering_model__estimators__1__n_estimators': 150, 'clustering_model__estimators__1__eta': 0.2, 'clustering_model__estimators__1__alpha': 0.39}. Best is trial 14 with value: -179629.11782426835.\n"
     ]
    },
    {
     "name": "stdout",
     "output_type": "stream",
     "text": [
      "Num.Folds: 29. Fold size: 505.\n",
      "Distance matrix size: 303 (0.6*505) \n",
      "Num.Clusters: 3. Clusters proportions: [0.11456417 0.0513869  0.83404893]\n",
      "Num.Folds: 29. Fold size: 506.\n",
      "Distance matrix size: 304 (0.6*506) \n",
      "Num.Clusters: 3. Clusters proportions: [0.51805915 0.31095816 0.17098269]\n",
      "Num.Folds: 29. Fold size: 506.\n",
      "Distance matrix size: 304 (0.6*506) \n",
      "Num.Clusters: 3. Clusters proportions: [0.81811367 0.0499523  0.13193403]\n",
      "Num.Folds: 29. Fold size: 506.\n",
      "Distance matrix size: 304 (0.6*506) \n",
      "Num.Clusters: 3. Clusters proportions: [0.21418836 0.6404525  0.14535914]\n"
     ]
    },
    {
     "name": "stderr",
     "output_type": "stream",
     "text": [
      "[I 2024-05-31 17:05:05,835] Trial 16 finished with value: -192103.80160972787 and parameters: {'preprocessing__quant__imputer__method': 'simple_median', 'preprocessing__cat__imputer__method': 'simple_most_frequent', 'preprocessing__quant__scaler__apply': False, 'preprocessing__cat__encoder__method': 'ordinal', 'features_selector__apply': False, 'clustering_model__n_clusters': 3, 'clustering_model__method': 'alternate', 'clustering_model__init': 'random', 'clustering_model__frac_sample_size': 0.6, 'clustering_model__d1': 'minkowski', 'clustering_model__d2': 'jaccard', 'clustering_model__n_splits': 29, 'clustering_model__estimators__0__n_estimators': 53, 'clustering_model__estimators__0__max_depth': 7, 'clustering_model__estimators__0__min_samples_split': 22, 'clustering_model__estimators__0__min_samples_leaf': 2, 'clustering_model__estimators__1__max_depth': 3, 'clustering_model__estimators__1__lambda': 0.30000000000000004, 'clustering_model__estimators__1__n_estimators': 100, 'clustering_model__estimators__1__eta': 0.1, 'clustering_model__estimators__1__alpha': 0.8500000000000001, 'clustering_model__estimators__2__n_estimators': 118, 'clustering_model__estimators__2__max_depth': 7, 'clustering_model__estimators__2__min_samples_split': 2, 'clustering_model__estimators__2__min_samples_leaf': 23}. Best is trial 14 with value: -179629.11782426835.\n"
     ]
    },
    {
     "name": "stdout",
     "output_type": "stream",
     "text": [
      "Num.Folds: 28. Fold size: 524.\n",
      "Distance matrix size: 262 (0.5*524) \n",
      "Num.Clusters: 2. Clusters proportions: [1.]\n",
      "Num.Folds: 28. Fold size: 524.\n",
      "Distance matrix size: 262 (0.5*524) \n",
      "Num.Clusters: 2. Clusters proportions: [0.60801417 0.39198583]\n",
      "Num.Folds: 28. Fold size: 524.\n",
      "Distance matrix size: 262 (0.5*524) \n",
      "Num.Clusters: 2. Clusters proportions: [0.44541366 0.55458634]\n",
      "Num.Folds: 28. Fold size: 524.\n",
      "Distance matrix size: 262 (0.5*524) \n",
      "Num.Clusters: 2. Clusters proportions: [1.]\n"
     ]
    },
    {
     "name": "stderr",
     "output_type": "stream",
     "text": [
      "[I 2024-05-31 17:07:05,868] Trial 17 finished with value: -184595.002583488 and parameters: {'preprocessing__quant__imputer__method': 'iterative_mean', 'preprocessing__cat__imputer__method': 'simple_most_frequent', 'preprocessing__quant__scaler__apply': False, 'preprocessing__cat__encoder__method': 'ordinal', 'features_selector__apply': False, 'clustering_model__n_clusters': 2, 'clustering_model__method': 'alternate', 'clustering_model__init': 'heuristic', 'clustering_model__frac_sample_size': 0.5, 'clustering_model__d1': 'canberra', 'clustering_model__d2': 'jaccard', 'clustering_model__n_splits': 28, 'clustering_model__estimators__0__n_estimators': 93, 'clustering_model__estimators__0__max_depth': 50, 'clustering_model__estimators__0__min_samples_split': 22, 'clustering_model__estimators__0__min_samples_leaf': 17, 'clustering_model__estimators__1__max_depth': 3, 'clustering_model__estimators__1__lambda': 0.1, 'clustering_model__estimators__1__n_estimators': 180, 'clustering_model__estimators__1__eta': 0.22, 'clustering_model__estimators__1__alpha': 0.44}. Best is trial 14 with value: -179629.11782426835.\n"
     ]
    },
    {
     "name": "stdout",
     "output_type": "stream",
     "text": [
      "Num.Folds: 42. Fold size: 349.\n",
      "Distance matrix size: 70 (0.2*349) \n",
      "Num.Clusters: 3. Clusters proportions: [0.07006066 0.74695018 0.18298916]\n",
      "Num.Folds: 42. Fold size: 349.\n",
      "Distance matrix size: 70 (0.2*349) \n",
      "Num.Clusters: 3. Clusters proportions: [0.72870383 0.07135069 0.19994548]\n",
      "Num.Folds: 42. Fold size: 349.\n",
      "Distance matrix size: 70 (0.2*349) \n",
      "Num.Clusters: 3. Clusters proportions: [0.22856753 0.06610331 0.70532915]\n",
      "Num.Folds: 42. Fold size: 349.\n",
      "Distance matrix size: 70 (0.2*349) \n",
      "Num.Clusters: 3. Clusters proportions: [0.05683522 0.66648494 0.27667984]\n"
     ]
    },
    {
     "name": "stderr",
     "output_type": "stream",
     "text": [
      "[I 2024-05-31 17:10:17,838] Trial 18 finished with value: -182819.1610734457 and parameters: {'preprocessing__quant__imputer__method': 'simple_median', 'preprocessing__cat__imputer__method': 'simple_most_frequent', 'preprocessing__quant__scaler__apply': False, 'preprocessing__cat__encoder__method': 'ordinal', 'features_selector__apply': False, 'clustering_model__n_clusters': 3, 'clustering_model__method': 'pam', 'clustering_model__init': 'heuristic', 'clustering_model__frac_sample_size': 0.2, 'clustering_model__d1': 'canberra', 'clustering_model__d2': 'jaccard', 'clustering_model__n_splits': 42, 'clustering_model__estimators__0__n_estimators': 73, 'clustering_model__estimators__0__max_depth': 7, 'clustering_model__estimators__0__min_samples_split': 17, 'clustering_model__estimators__0__min_samples_leaf': 5, 'clustering_model__estimators__1__max_depth': 10, 'clustering_model__estimators__1__lambda': 0.30000000000000004, 'clustering_model__estimators__1__n_estimators': 30, 'clustering_model__estimators__1__eta': 0.3, 'clustering_model__estimators__1__alpha': 0.7, 'clustering_model__estimators__2__n_estimators': 98, 'clustering_model__estimators__2__max_depth': 40, 'clustering_model__estimators__2__min_samples_split': 8, 'clustering_model__estimators__2__min_samples_leaf': 2}. Best is trial 14 with value: -179629.11782426835.\n"
     ]
    },
    {
     "name": "stdout",
     "output_type": "stream",
     "text": [
      "Num.Folds: 43. Fold size: 341.\n",
      "Distance matrix size: 35 (0.1*341) \n",
      "Num.Clusters: 3. Clusters proportions: [0.04341307 0.17801404 0.77857289]\n",
      "Num.Folds: 43. Fold size: 341.\n",
      "Distance matrix size: 35 (0.1*341) \n",
      "Num.Clusters: 3. Clusters proportions: [0.06576257 0.77838354 0.15585389]\n",
      "Num.Folds: 43. Fold size: 341.\n",
      "Distance matrix size: 35 (0.1*341) \n",
      "Num.Clusters: 3. Clusters proportions: [0.19715142 0.05240562 0.75044296]\n",
      "Num.Folds: 43. Fold size: 341.\n",
      "Distance matrix size: 35 (0.1*341) \n",
      "Num.Clusters: 3. Clusters proportions: [0.71875426 0.23504157 0.04620417]\n"
     ]
    },
    {
     "name": "stderr",
     "output_type": "stream",
     "text": [
      "[I 2024-05-31 17:13:14,586] Trial 19 finished with value: -188822.25013627717 and parameters: {'preprocessing__quant__imputer__method': 'simple_median', 'preprocessing__cat__imputer__method': 'simple_most_frequent', 'preprocessing__quant__scaler__apply': True, 'preprocessing__cat__encoder__method': 'ordinal', 'features_selector__apply': False, 'preprocessing__quant__scaler__method': 'standard', 'clustering_model__n_clusters': 3, 'clustering_model__method': 'pam', 'clustering_model__init': 'random', 'clustering_model__frac_sample_size': 0.1, 'clustering_model__d1': 'euclidean', 'clustering_model__d2': 'jaccard', 'clustering_model__n_splits': 43, 'clustering_model__estimators__0__n_estimators': 59, 'clustering_model__estimators__0__max_depth': 50, 'clustering_model__estimators__0__min_samples_split': 23, 'clustering_model__estimators__0__min_samples_leaf': 21, 'clustering_model__estimators__1__max_depth': 7, 'clustering_model__estimators__1__lambda': 0.0, 'clustering_model__estimators__1__n_estimators': 150, 'clustering_model__estimators__1__eta': 0.12, 'clustering_model__estimators__1__alpha': 0.8300000000000001, 'clustering_model__estimators__2__n_estimators': 99, 'clustering_model__estimators__2__max_depth': 10, 'clustering_model__estimators__2__min_samples_split': 14, 'clustering_model__estimators__2__min_samples_leaf': 13}. Best is trial 14 with value: -179629.11782426835.\n"
     ]
    },
    {
     "name": "stdout",
     "output_type": "stream",
     "text": [
      "Num.Folds: 32. Fold size: 458.\n",
      "Distance matrix size: 275 (0.6*458) \n",
      "Num.Clusters: 2. Clusters proportions: [0.11292851 0.88707149]\n",
      "Num.Folds: 32. Fold size: 458.\n",
      "Distance matrix size: 275 (0.6*458) \n",
      "Num.Clusters: 2. Clusters proportions: [0.13234292 0.86765708]\n",
      "Num.Folds: 32. Fold size: 458.\n",
      "Distance matrix size: 275 (0.6*458) \n",
      "Num.Clusters: 2. Clusters proportions: [0.08395802 0.91604198]\n",
      "Num.Folds: 32. Fold size: 458.\n",
      "Distance matrix size: 275 (0.6*458) \n",
      "Num.Clusters: 2. Clusters proportions: [9.99386670e-01 6.13329699e-04]\n"
     ]
    },
    {
     "name": "stderr",
     "output_type": "stream",
     "text": [
      "[I 2024-05-31 17:16:02,367] Trial 20 finished with value: -202038.78298986278 and parameters: {'preprocessing__quant__imputer__method': 'simple_median', 'preprocessing__cat__imputer__method': 'simple_most_frequent', 'preprocessing__quant__scaler__apply': False, 'preprocessing__cat__encoder__method': 'ordinal', 'features_selector__apply': False, 'clustering_model__n_clusters': 2, 'clustering_model__method': 'alternate', 'clustering_model__init': 'k-medoids++', 'clustering_model__frac_sample_size': 0.6, 'clustering_model__d1': 'minkowski', 'clustering_model__d2': 'jaccard', 'clustering_model__n_splits': 32, 'clustering_model__estimators__0__n_estimators': 105, 'clustering_model__estimators__0__max_depth': None, 'clustering_model__estimators__0__min_samples_split': 19, 'clustering_model__estimators__0__min_samples_leaf': 10, 'clustering_model__estimators__1__max_depth': 40, 'clustering_model__estimators__1__lambda': 0.1, 'clustering_model__estimators__1__n_estimators': 100, 'clustering_model__estimators__1__eta': 0.26, 'clustering_model__estimators__1__alpha': 0.65}. Best is trial 14 with value: -179629.11782426835.\n"
     ]
    },
    {
     "name": "stdout",
     "output_type": "stream",
     "text": [
      "Num.Folds: 41. Fold size: 357.\n",
      "Distance matrix size: 215 (0.6*357) \n",
      "Num.Clusters: 2. Clusters proportions: [0.05322702 0.94677298]\n",
      "Num.Folds: 41. Fold size: 357.\n",
      "Distance matrix size: 215 (0.6*357) \n",
      "Num.Clusters: 2. Clusters proportions: [0.9394848 0.0605152]\n",
      "Num.Folds: 41. Fold size: 357.\n",
      "Distance matrix size: 215 (0.6*357) \n",
      "Num.Clusters: 2. Clusters proportions: [0.94807142 0.05192858]\n",
      "Num.Folds: 41. Fold size: 357.\n",
      "Distance matrix size: 215 (0.6*357) \n",
      "Num.Clusters: 2. Clusters proportions: [0.04722639 0.95277361]\n"
     ]
    },
    {
     "name": "stderr",
     "output_type": "stream",
     "text": [
      "[I 2024-05-31 17:18:42,559] Trial 21 finished with value: -313544.4172482495 and parameters: {'preprocessing__quant__imputer__method': 'iterative_mean', 'preprocessing__cat__imputer__method': 'simple_most_frequent', 'preprocessing__quant__scaler__apply': False, 'preprocessing__cat__encoder__method': 'ordinal', 'features_selector__apply': False, 'clustering_model__n_clusters': 2, 'clustering_model__method': 'pam', 'clustering_model__init': 'heuristic', 'clustering_model__frac_sample_size': 0.6, 'clustering_model__d1': 'canberra', 'clustering_model__d2': 'jaccard', 'clustering_model__n_splits': 41, 'clustering_model__estimators__0__n_estimators': 90, 'clustering_model__estimators__0__max_depth': 30, 'clustering_model__estimators__0__min_samples_split': 25, 'clustering_model__estimators__0__min_samples_leaf': 15, 'clustering_model__estimators__1__max_depth': 50, 'clustering_model__estimators__1__lambda': 0.2, 'clustering_model__estimators__1__n_estimators': 150, 'clustering_model__estimators__1__eta': 0.0, 'clustering_model__estimators__1__alpha': 0.23}. Best is trial 14 with value: -179629.11782426835.\n"
     ]
    },
    {
     "name": "stdout",
     "output_type": "stream",
     "text": [
      "Num.Folds: 46. Fold size: 318.\n",
      "Distance matrix size: 64 (0.2*318) \n",
      "Num.Clusters: 3. Clusters proportions: [0.08157841 0.70360526 0.21481633]\n",
      "Num.Folds: 46. Fold size: 319.\n",
      "Distance matrix size: 64 (0.2*319) \n",
      "Num.Clusters: 3. Clusters proportions: [0.2053973  0.07836991 0.71623279]\n",
      "Num.Folds: 46. Fold size: 319.\n",
      "Distance matrix size: 64 (0.2*319) \n",
      "Num.Clusters: 3. Clusters proportions: [0.69231293 0.0665122  0.24117487]\n",
      "Num.Folds: 46. Fold size: 319.\n",
      "Distance matrix size: 64 (0.2*319) \n",
      "Num.Clusters: 3. Clusters proportions: [0.19912771 0.73286084 0.06801145]\n"
     ]
    },
    {
     "name": "stderr",
     "output_type": "stream",
     "text": [
      "[I 2024-05-31 17:22:02,327] Trial 22 finished with value: -181830.6834546 and parameters: {'preprocessing__quant__imputer__method': 'simple_median', 'preprocessing__cat__imputer__method': 'simple_most_frequent', 'preprocessing__quant__scaler__apply': False, 'preprocessing__cat__encoder__method': 'ordinal', 'features_selector__apply': False, 'clustering_model__n_clusters': 3, 'clustering_model__method': 'pam', 'clustering_model__init': 'heuristic', 'clustering_model__frac_sample_size': 0.2, 'clustering_model__d1': 'canberra', 'clustering_model__d2': 'jaccard', 'clustering_model__n_splits': 46, 'clustering_model__estimators__0__n_estimators': 75, 'clustering_model__estimators__0__max_depth': 7, 'clustering_model__estimators__0__min_samples_split': 18, 'clustering_model__estimators__0__min_samples_leaf': 5, 'clustering_model__estimators__1__max_depth': 10, 'clustering_model__estimators__1__lambda': 0.30000000000000004, 'clustering_model__estimators__1__n_estimators': 30, 'clustering_model__estimators__1__eta': 0.3, 'clustering_model__estimators__1__alpha': 0.6799999999999999, 'clustering_model__estimators__2__n_estimators': 100, 'clustering_model__estimators__2__max_depth': 40, 'clustering_model__estimators__2__min_samples_split': 10, 'clustering_model__estimators__2__min_samples_leaf': 2}. Best is trial 14 with value: -179629.11782426835.\n"
     ]
    },
    {
     "name": "stdout",
     "output_type": "stream",
     "text": [
      "Num.Folds: 48. Fold size: 305.\n",
      "Distance matrix size: 61 (0.2*305) \n",
      "Num.Clusters: 3. Clusters proportions: [0.05827029 0.3081851  0.63354461]\n",
      "Num.Folds: 48. Fold size: 305.\n",
      "Distance matrix size: 61 (0.2*305) \n",
      "Num.Clusters: 3. Clusters proportions: [0.68229522 0.24042524 0.07727954]\n",
      "Num.Folds: 48. Fold size: 305.\n",
      "Distance matrix size: 61 (0.2*305) \n",
      "Num.Clusters: 3. Clusters proportions: [0.08123211 0.74574077 0.17302712]\n",
      "Num.Folds: 48. Fold size: 305.\n",
      "Distance matrix size: 61 (0.2*305) \n",
      "Num.Clusters: 3. Clusters proportions: [0.20260324 0.0726455  0.72475126]\n"
     ]
    },
    {
     "name": "stderr",
     "output_type": "stream",
     "text": [
      "[I 2024-05-31 17:25:34,983] Trial 23 finished with value: -180149.5387206041 and parameters: {'preprocessing__quant__imputer__method': 'simple_median', 'preprocessing__cat__imputer__method': 'simple_most_frequent', 'preprocessing__quant__scaler__apply': False, 'preprocessing__cat__encoder__method': 'ordinal', 'features_selector__apply': False, 'clustering_model__n_clusters': 3, 'clustering_model__method': 'pam', 'clustering_model__init': 'heuristic', 'clustering_model__frac_sample_size': 0.2, 'clustering_model__d1': 'canberra', 'clustering_model__d2': 'jaccard', 'clustering_model__n_splits': 48, 'clustering_model__estimators__0__n_estimators': 75, 'clustering_model__estimators__0__max_depth': 7, 'clustering_model__estimators__0__min_samples_split': 18, 'clustering_model__estimators__0__min_samples_leaf': 4, 'clustering_model__estimators__1__max_depth': 10, 'clustering_model__estimators__1__lambda': 0.30000000000000004, 'clustering_model__estimators__1__n_estimators': 30, 'clustering_model__estimators__1__eta': 0.26, 'clustering_model__estimators__1__alpha': 0.8800000000000001, 'clustering_model__estimators__2__n_estimators': 107, 'clustering_model__estimators__2__max_depth': 40, 'clustering_model__estimators__2__min_samples_split': 8, 'clustering_model__estimators__2__min_samples_leaf': 6}. Best is trial 14 with value: -179629.11782426835.\n"
     ]
    },
    {
     "name": "stdout",
     "output_type": "stream",
     "text": [
      "Num.Folds: 39. Fold size: 376.\n",
      "Distance matrix size: 76 (0.2*376) \n",
      "Num.Clusters: 3. Clusters proportions: [0.607783  0.0499557 0.3422613]\n",
      "Num.Folds: 39. Fold size: 376.\n",
      "Distance matrix size: 76 (0.2*376) \n",
      "Num.Clusters: 3. Clusters proportions: [0.07039662 0.23517787 0.69442551]\n",
      "Num.Folds: 39. Fold size: 376.\n",
      "Distance matrix size: 76 (0.2*376) \n",
      "Num.Clusters: 3. Clusters proportions: [0.0709418  0.74403707 0.18502113]\n",
      "Num.Folds: 39. Fold size: 376.\n",
      "Distance matrix size: 76 (0.2*376) \n",
      "Num.Clusters: 3. Clusters proportions: [0.69585662 0.06562628 0.23851711]\n"
     ]
    },
    {
     "name": "stderr",
     "output_type": "stream",
     "text": [
      "[I 2024-05-31 17:29:01,877] Trial 24 finished with value: -181581.16867744408 and parameters: {'preprocessing__quant__imputer__method': 'simple_median', 'preprocessing__cat__imputer__method': 'simple_most_frequent', 'preprocessing__quant__scaler__apply': False, 'preprocessing__cat__encoder__method': 'ordinal', 'features_selector__apply': False, 'clustering_model__n_clusters': 3, 'clustering_model__method': 'pam', 'clustering_model__init': 'heuristic', 'clustering_model__frac_sample_size': 0.2, 'clustering_model__d1': 'canberra', 'clustering_model__d2': 'jaccard', 'clustering_model__n_splits': 39, 'clustering_model__estimators__0__n_estimators': 62, 'clustering_model__estimators__0__max_depth': 7, 'clustering_model__estimators__0__min_samples_split': 22, 'clustering_model__estimators__0__min_samples_leaf': 8, 'clustering_model__estimators__1__max_depth': 5, 'clustering_model__estimators__1__lambda': 0.4, 'clustering_model__estimators__1__n_estimators': 30, 'clustering_model__estimators__1__eta': 0.26, 'clustering_model__estimators__1__alpha': 0.8600000000000001, 'clustering_model__estimators__2__n_estimators': 109, 'clustering_model__estimators__2__max_depth': 30, 'clustering_model__estimators__2__min_samples_split': 6, 'clustering_model__estimators__2__min_samples_leaf': 8}. Best is trial 14 with value: -179629.11782426835.\n"
     ]
    },
    {
     "name": "stdout",
     "output_type": "stream",
     "text": [
      "Num.Folds: 46. Fold size: 318.\n",
      "Distance matrix size: 32 (0.1*318) \n",
      "Num.Clusters: 3. Clusters proportions: [0.04361753 0.15054863 0.80583384]\n",
      "Num.Folds: 46. Fold size: 319.\n",
      "Distance matrix size: 32 (0.1*319) \n",
      "Num.Clusters: 3. Clusters proportions: [0.20914543 0.06644405 0.72441052]\n",
      "Num.Folds: 46. Fold size: 319.\n",
      "Distance matrix size: 32 (0.1*319) \n",
      "Num.Clusters: 3. Clusters proportions: [0.55601745 0.05506338 0.38891918]\n",
      "Num.Folds: 46. Fold size: 319.\n",
      "Distance matrix size: 32 (0.1*319) \n",
      "Num.Clusters: 3. Clusters proportions: [0.74860297 0.18481668 0.06658035]\n"
     ]
    },
    {
     "name": "stderr",
     "output_type": "stream",
     "text": [
      "[I 2024-05-31 17:32:31,315] Trial 25 finished with value: -184576.12989387766 and parameters: {'preprocessing__quant__imputer__method': 'iterative_median', 'preprocessing__cat__imputer__method': 'simple_most_frequent', 'preprocessing__quant__scaler__apply': False, 'preprocessing__cat__encoder__method': 'ordinal', 'features_selector__apply': False, 'clustering_model__n_clusters': 3, 'clustering_model__method': 'pam', 'clustering_model__init': 'heuristic', 'clustering_model__frac_sample_size': 0.1, 'clustering_model__d1': 'canberra', 'clustering_model__d2': 'jaccard', 'clustering_model__n_splits': 46, 'clustering_model__estimators__0__n_estimators': 77, 'clustering_model__estimators__0__max_depth': 5, 'clustering_model__estimators__0__min_samples_split': 15, 'clustering_model__estimators__0__min_samples_leaf': 4, 'clustering_model__estimators__1__max_depth': None, 'clustering_model__estimators__1__lambda': 0.30000000000000004, 'clustering_model__estimators__1__n_estimators': 100, 'clustering_model__estimators__1__eta': 0.22, 'clustering_model__estimators__1__alpha': 0.9299999999999999, 'clustering_model__estimators__2__n_estimators': 87, 'clustering_model__estimators__2__max_depth': 40, 'clustering_model__estimators__2__min_samples_split': 6, 'clustering_model__estimators__2__min_samples_leaf': 12}. Best is trial 14 with value: -179629.11782426835.\n"
     ]
    },
    {
     "name": "stdout",
     "output_type": "stream",
     "text": [
      "Num.Folds: 31. Fold size: 473.\n",
      "Distance matrix size: 237 (0.5*473) \n",
      "Num.Clusters: 3. Clusters proportions: [0.66285013 0.09309616 0.2440537 ]\n",
      "Num.Folds: 31. Fold size: 473.\n",
      "Distance matrix size: 237 (0.5*473) \n",
      "Num.Clusters: 3. Clusters proportions: [0.68365817 0.22979419 0.08654764]\n",
      "Num.Folds: 31. Fold size: 473.\n",
      "Distance matrix size: 237 (0.5*473) \n",
      "Num.Clusters: 3. Clusters proportions: [0.719095   0.18890555 0.09199945]\n",
      "Num.Folds: 31. Fold size: 473.\n",
      "Distance matrix size: 237 (0.5*473) \n",
      "Num.Clusters: 3. Clusters proportions: [0.07966471 0.66069238 0.25964291]\n"
     ]
    },
    {
     "name": "stderr",
     "output_type": "stream",
     "text": [
      "[I 2024-05-31 17:35:44,210] Trial 26 finished with value: -184093.37202371232 and parameters: {'preprocessing__quant__imputer__method': 'simple_median', 'preprocessing__cat__imputer__method': 'simple_most_frequent', 'preprocessing__quant__scaler__apply': False, 'preprocessing__cat__encoder__method': 'ordinal', 'features_selector__apply': False, 'clustering_model__n_clusters': 3, 'clustering_model__method': 'pam', 'clustering_model__init': 'heuristic', 'clustering_model__frac_sample_size': 0.5, 'clustering_model__d1': 'canberra', 'clustering_model__d2': 'jaccard', 'clustering_model__n_splits': 31, 'clustering_model__estimators__0__n_estimators': 56, 'clustering_model__estimators__0__max_depth': 20, 'clustering_model__estimators__0__min_samples_split': 23, 'clustering_model__estimators__0__min_samples_leaf': 4, 'clustering_model__estimators__1__max_depth': 20, 'clustering_model__estimators__1__lambda': 0.2, 'clustering_model__estimators__1__n_estimators': 30, 'clustering_model__estimators__1__eta': 0.24, 'clustering_model__estimators__1__alpha': 0.8900000000000001, 'clustering_model__estimators__2__n_estimators': 111, 'clustering_model__estimators__2__max_depth': 50, 'clustering_model__estimators__2__min_samples_split': 11, 'clustering_model__estimators__2__min_samples_leaf': 4}. Best is trial 14 with value: -179629.11782426835.\n"
     ]
    },
    {
     "name": "stdout",
     "output_type": "stream",
     "text": [
      "Num.Folds: 46. Fold size: 318.\n",
      "Distance matrix size: 96 (0.3*318) \n",
      "Num.Clusters: 3. Clusters proportions: [0.41423022 0.40543856 0.18033122]\n",
      "Num.Folds: 46. Fold size: 319.\n",
      "Distance matrix size: 96 (0.3*319) \n",
      "Num.Clusters: 3. Clusters proportions: [0.49448003 0.37331334 0.13220662]\n",
      "Num.Folds: 46. Fold size: 319.\n",
      "Distance matrix size: 96 (0.3*319) \n",
      "Num.Clusters: 3. Clusters proportions: [0.23899414 0.33358321 0.42742265]\n",
      "Num.Folds: 46. Fold size: 319.\n",
      "Distance matrix size: 96 (0.3*319) \n",
      "Num.Clusters: 3. Clusters proportions: [0.44916178 0.09690609 0.45393212]\n"
     ]
    },
    {
     "name": "stderr",
     "output_type": "stream",
     "text": [
      "[I 2024-05-31 17:39:32,083] Trial 27 finished with value: -184253.13496240135 and parameters: {'preprocessing__quant__imputer__method': 'simple_median', 'preprocessing__cat__imputer__method': 'simple_most_frequent', 'preprocessing__quant__scaler__apply': True, 'preprocessing__cat__encoder__method': 'ordinal', 'features_selector__apply': False, 'preprocessing__quant__scaler__method': 'min-max', 'clustering_model__n_clusters': 3, 'clustering_model__method': 'alternate', 'clustering_model__init': 'heuristic', 'clustering_model__frac_sample_size': 0.3, 'clustering_model__d1': 'canberra', 'clustering_model__d2': 'sokal', 'clustering_model__n_splits': 46, 'clustering_model__estimators__0__n_estimators': 66, 'clustering_model__estimators__0__max_depth': 50, 'clustering_model__estimators__0__min_samples_split': 10, 'clustering_model__estimators__0__min_samples_leaf': 8, 'clustering_model__estimators__1__max_depth': 10, 'clustering_model__estimators__1__lambda': 0.4, 'clustering_model__estimators__1__n_estimators': 180, 'clustering_model__estimators__1__eta': 0.18, 'clustering_model__estimators__1__alpha': 0.78, 'clustering_model__estimators__2__n_estimators': 110, 'clustering_model__estimators__2__max_depth': 20, 'clustering_model__estimators__2__min_samples_split': 17, 'clustering_model__estimators__2__min_samples_leaf': 6}. Best is trial 14 with value: -179629.11782426835.\n"
     ]
    },
    {
     "name": "stdout",
     "output_type": "stream",
     "text": [
      "Num.Folds: 50. Fold size: 293.\n",
      "Distance matrix size: 206 (0.7*293) \n",
      "Num.Clusters: 3. Clusters proportions: [0.09221018 0.67593539 0.23185443]\n",
      "Num.Folds: 50. Fold size: 293.\n",
      "Distance matrix size: 206 (0.7*293) \n",
      "Num.Clusters: 3. Clusters proportions: [0.21398392 0.69135887 0.09465722]\n",
      "Num.Folds: 50. Fold size: 293.\n",
      "Distance matrix size: 206 (0.7*293) \n",
      "Num.Clusters: 3. Clusters proportions: [0.09486166 0.23238381 0.67275453]\n",
      "Num.Folds: 50. Fold size: 293.\n",
      "Distance matrix size: 206 (0.7*293) \n",
      "Num.Clusters: 3. Clusters proportions: [0.07673436 0.21412021 0.70914543]\n"
     ]
    },
    {
     "name": "stderr",
     "output_type": "stream",
     "text": [
      "[I 2024-05-31 17:42:18,211] Trial 28 finished with value: -187891.06211542868 and parameters: {'preprocessing__quant__imputer__method': 'simple_median', 'preprocessing__cat__imputer__method': 'simple_most_frequent', 'preprocessing__quant__scaler__apply': False, 'preprocessing__cat__encoder__method': 'ordinal', 'features_selector__apply': False, 'clustering_model__n_clusters': 3, 'clustering_model__method': 'pam', 'clustering_model__init': 'heuristic', 'clustering_model__frac_sample_size': 0.7, 'clustering_model__d1': 'euclidean', 'clustering_model__d2': 'jaccard', 'clustering_model__n_splits': 50, 'clustering_model__estimators__0__n_estimators': 99, 'clustering_model__estimators__0__max_depth': 10, 'clustering_model__estimators__0__min_samples_split': 20, 'clustering_model__estimators__0__min_samples_leaf': 3, 'clustering_model__estimators__1__max_depth': 3, 'clustering_model__estimators__1__lambda': 0.30000000000000004, 'clustering_model__estimators__1__n_estimators': 100, 'clustering_model__estimators__1__eta': 0.28, 'clustering_model__estimators__1__alpha': 0.47000000000000003, 'clustering_model__estimators__2__n_estimators': 91, 'clustering_model__estimators__2__max_depth': 7, 'clustering_model__estimators__2__min_samples_split': 8, 'clustering_model__estimators__2__min_samples_leaf': 10}. Best is trial 14 with value: -179629.11782426835.\n"
     ]
    },
    {
     "name": "stdout",
     "output_type": "stream",
     "text": [
      "Num.Folds: 33. Fold size: 444.\n",
      "Distance matrix size: 111 (0.25*444) \n",
      "Num.Clusters: 2. Clusters proportions: [0.96456076 0.03543924]\n",
      "Num.Folds: 33. Fold size: 444.\n",
      "Distance matrix size: 111 (0.25*444) \n",
      "Num.Clusters: 2. Clusters proportions: [0.10188088 0.89811912]\n",
      "Num.Folds: 33. Fold size: 444.\n",
      "Distance matrix size: 111 (0.25*444) \n",
      "Num.Clusters: 2. Clusters proportions: [0.13159329 0.86840671]\n",
      "Num.Folds: 33. Fold size: 444.\n",
      "Distance matrix size: 111 (0.25*444) \n",
      "Num.Clusters: 2. Clusters proportions: [0.83194766 0.16805234]\n"
     ]
    },
    {
     "name": "stderr",
     "output_type": "stream",
     "text": [
      "[I 2024-05-31 17:44:28,417] Trial 29 finished with value: -198647.13574030253 and parameters: {'preprocessing__quant__imputer__method': 'simple_median', 'preprocessing__cat__imputer__method': 'simple_most_frequent', 'preprocessing__quant__scaler__apply': False, 'preprocessing__cat__encoder__method': 'ordinal', 'features_selector__apply': False, 'clustering_model__n_clusters': 2, 'clustering_model__method': 'alternate', 'clustering_model__init': 'random', 'clustering_model__frac_sample_size': 0.25, 'clustering_model__d1': 'minkowski', 'clustering_model__d2': 'jaccard', 'clustering_model__n_splits': 33, 'clustering_model__estimators__0__n_estimators': 85, 'clustering_model__estimators__0__max_depth': 7, 'clustering_model__estimators__0__min_samples_split': 23, 'clustering_model__estimators__0__min_samples_leaf': 20, 'clustering_model__estimators__1__max_depth': 3, 'clustering_model__estimators__1__lambda': 0.5, 'clustering_model__estimators__1__n_estimators': 30, 'clustering_model__estimators__1__eta': 0.1, 'clustering_model__estimators__1__alpha': 0.8}. Best is trial 14 with value: -179629.11782426835.\n"
     ]
    },
    {
     "name": "stdout",
     "output_type": "stream",
     "text": [
      "Num.Folds: 40. Fold size: 366.\n",
      "Distance matrix size: 147 (0.4*366) \n",
      "Num.Clusters: 2. Clusters proportions: [0.61664281 0.38335719]\n",
      "Num.Folds: 40. Fold size: 366.\n",
      "Distance matrix size: 147 (0.4*366) \n",
      "Num.Clusters: 2. Clusters proportions: [0.5845032 0.4154968]\n",
      "Num.Folds: 40. Fold size: 366.\n",
      "Distance matrix size: 147 (0.4*366) \n",
      "Num.Clusters: 2. Clusters proportions: [0.92619599 0.07380401]\n",
      "Num.Folds: 40. Fold size: 366.\n",
      "Distance matrix size: 147 (0.4*366) \n",
      "Num.Clusters: 2. Clusters proportions: [0.85716233 0.14283767]\n"
     ]
    },
    {
     "name": "stderr",
     "output_type": "stream",
     "text": [
      "[I 2024-05-31 17:47:17,536] Trial 30 finished with value: -189858.54695323948 and parameters: {'preprocessing__quant__imputer__method': 'iterative_median', 'preprocessing__cat__imputer__method': 'simple_most_frequent', 'preprocessing__quant__scaler__apply': True, 'preprocessing__cat__encoder__method': 'ordinal', 'features_selector__apply': False, 'preprocessing__quant__scaler__method': 'standard', 'clustering_model__n_clusters': 2, 'clustering_model__method': 'alternate', 'clustering_model__init': 'k-medoids++', 'clustering_model__frac_sample_size': 0.4, 'clustering_model__d1': 'canberra', 'clustering_model__d2': 'sokal', 'clustering_model__n_splits': 40, 'clustering_model__estimators__0__n_estimators': 80, 'clustering_model__estimators__0__max_depth': 30, 'clustering_model__estimators__0__min_samples_split': 18, 'clustering_model__estimators__0__min_samples_leaf': 9, 'clustering_model__estimators__1__max_depth': 10, 'clustering_model__estimators__1__lambda': 0.30000000000000004, 'clustering_model__estimators__1__n_estimators': 180, 'clustering_model__estimators__1__eta': 0.16, 'clustering_model__estimators__1__alpha': 1.0}. Best is trial 14 with value: -179629.11782426835.\n"
     ]
    },
    {
     "name": "stdout",
     "output_type": "stream",
     "text": [
      "Num.Folds: 7. Fold size: 2096.\n",
      "Distance matrix size: 420 (0.2*2096) \n",
      "Num.Clusters: 3. Clusters proportions: [0.1199482  0.65439924 0.22565256]\n",
      "Num.Folds: 7. Fold size: 2096.\n",
      "Distance matrix size: 420 (0.2*2096) \n",
      "Num.Clusters: 3. Clusters proportions: [0.10174458 0.28506201 0.6131934 ]\n",
      "Num.Folds: 7. Fold size: 2096.\n",
      "Distance matrix size: 420 (0.2*2096) \n",
      "Num.Clusters: 3. Clusters proportions: [0.08498024 0.63009404 0.28492572]\n",
      "Num.Folds: 7. Fold size: 2096.\n",
      "Distance matrix size: 420 (0.2*2096) \n",
      "Num.Clusters: 3. Clusters proportions: [0.08654764 0.63977102 0.27368134]\n"
     ]
    },
    {
     "name": "stderr",
     "output_type": "stream",
     "text": [
      "[I 2024-05-31 17:48:33,504] Trial 31 finished with value: -200031.831204089 and parameters: {'preprocessing__quant__imputer__method': 'iterative_mean', 'preprocessing__cat__imputer__method': 'simple_most_frequent', 'preprocessing__quant__scaler__apply': False, 'preprocessing__cat__encoder__method': 'ordinal', 'features_selector__apply': False, 'clustering_model__n_clusters': 3, 'clustering_model__method': 'pam', 'clustering_model__init': 'heuristic', 'clustering_model__frac_sample_size': 0.2, 'clustering_model__d1': 'minkowski', 'clustering_model__d2': 'jaccard', 'clustering_model__n_splits': 7, 'clustering_model__estimators__0__n_estimators': 50, 'clustering_model__estimators__0__max_depth': 7, 'clustering_model__estimators__0__min_samples_split': 21, 'clustering_model__estimators__0__min_samples_leaf': 7, 'clustering_model__estimators__1__max_depth': 10, 'clustering_model__estimators__1__lambda': 0.2, 'clustering_model__estimators__1__n_estimators': 150, 'clustering_model__estimators__1__eta': 0.18, 'clustering_model__estimators__1__alpha': 0.9099999999999999, 'clustering_model__estimators__2__n_estimators': 53, 'clustering_model__estimators__2__max_depth': 3, 'clustering_model__estimators__2__min_samples_split': 2, 'clustering_model__estimators__2__min_samples_leaf': 16}. Best is trial 14 with value: -179629.11782426835.\n"
     ]
    },
    {
     "name": "stdout",
     "output_type": "stream",
     "text": [
      "Num.Folds: 38. Fold size: 386.\n",
      "Distance matrix size: 78 (0.2*386) \n",
      "Num.Clusters: 3. Clusters proportions: [0.76589654 0.0513869  0.18271655]\n",
      "Num.Folds: 38. Fold size: 386.\n",
      "Distance matrix size: 78 (0.2*386) \n",
      "Num.Clusters: 3. Clusters proportions: [0.06855663 0.70921358 0.22222979]\n",
      "Num.Folds: 38. Fold size: 386.\n",
      "Distance matrix size: 78 (0.2*386) \n",
      "Num.Clusters: 3. Clusters proportions: [0.07830176 0.74560447 0.17609377]\n",
      "Num.Folds: 38. Fold size: 386.\n",
      "Distance matrix size: 78 (0.2*386) \n",
      "Num.Clusters: 3. Clusters proportions: [0.075644   0.76141475 0.16294126]\n"
     ]
    },
    {
     "name": "stderr",
     "output_type": "stream",
     "text": [
      "[I 2024-05-31 17:51:20,134] Trial 32 finished with value: -182634.9195125392 and parameters: {'preprocessing__quant__imputer__method': 'simple_median', 'preprocessing__cat__imputer__method': 'simple_most_frequent', 'preprocessing__quant__scaler__apply': False, 'preprocessing__cat__encoder__method': 'ordinal', 'features_selector__apply': False, 'clustering_model__n_clusters': 3, 'clustering_model__method': 'pam', 'clustering_model__init': 'heuristic', 'clustering_model__frac_sample_size': 0.2, 'clustering_model__d1': 'canberra', 'clustering_model__d2': 'jaccard', 'clustering_model__n_splits': 38, 'clustering_model__estimators__0__n_estimators': 61, 'clustering_model__estimators__0__max_depth': 7, 'clustering_model__estimators__0__min_samples_split': 24, 'clustering_model__estimators__0__min_samples_leaf': 9, 'clustering_model__estimators__1__max_depth': 5, 'clustering_model__estimators__1__lambda': 0.4, 'clustering_model__estimators__1__n_estimators': 30, 'clustering_model__estimators__1__eta': 0.26, 'clustering_model__estimators__1__alpha': 0.8700000000000001, 'clustering_model__estimators__2__n_estimators': 109, 'clustering_model__estimators__2__max_depth': 30, 'clustering_model__estimators__2__min_samples_split': 6, 'clustering_model__estimators__2__min_samples_leaf': 8}. Best is trial 14 with value: -179629.11782426835.\n"
     ]
    },
    {
     "name": "stdout",
     "output_type": "stream",
     "text": [
      "Num.Folds: 39. Fold size: 376.\n",
      "Distance matrix size: 76 (0.2*376) \n",
      "Num.Clusters: 3. Clusters proportions: [0.607783  0.0499557 0.3422613]\n",
      "Num.Folds: 39. Fold size: 376.\n",
      "Distance matrix size: 76 (0.2*376) \n",
      "Num.Clusters: 3. Clusters proportions: [0.07039662 0.23517787 0.69442551]\n",
      "Num.Folds: 39. Fold size: 376.\n",
      "Distance matrix size: 76 (0.2*376) \n",
      "Num.Clusters: 3. Clusters proportions: [0.0709418  0.74403707 0.18502113]\n",
      "Num.Folds: 39. Fold size: 376.\n",
      "Distance matrix size: 76 (0.2*376) \n",
      "Num.Clusters: 3. Clusters proportions: [0.69585662 0.06562628 0.23851711]\n"
     ]
    },
    {
     "name": "stderr",
     "output_type": "stream",
     "text": [
      "[I 2024-05-31 17:54:52,402] Trial 33 finished with value: -180538.08417509327 and parameters: {'preprocessing__quant__imputer__method': 'simple_median', 'preprocessing__cat__imputer__method': 'simple_most_frequent', 'preprocessing__quant__scaler__apply': False, 'preprocessing__cat__encoder__method': 'ordinal', 'features_selector__apply': False, 'clustering_model__n_clusters': 3, 'clustering_model__method': 'pam', 'clustering_model__init': 'heuristic', 'clustering_model__frac_sample_size': 0.2, 'clustering_model__d1': 'canberra', 'clustering_model__d2': 'jaccard', 'clustering_model__n_splits': 39, 'clustering_model__estimators__0__n_estimators': 60, 'clustering_model__estimators__0__max_depth': 7, 'clustering_model__estimators__0__min_samples_split': 21, 'clustering_model__estimators__0__min_samples_leaf': 7, 'clustering_model__estimators__1__max_depth': 5, 'clustering_model__estimators__1__lambda': 0.4, 'clustering_model__estimators__1__n_estimators': 30, 'clustering_model__estimators__1__eta': 0.24, 'clustering_model__estimators__1__alpha': 0.76, 'clustering_model__estimators__2__n_estimators': 113, 'clustering_model__estimators__2__max_depth': 30, 'clustering_model__estimators__2__min_samples_split': 6, 'clustering_model__estimators__2__min_samples_leaf': 5}. Best is trial 14 with value: -179629.11782426835.\n"
     ]
    },
    {
     "name": "stdout",
     "output_type": "stream",
     "text": [
      "Num.Folds: 24. Fold size: 611.\n",
      "Distance matrix size: 367 (0.6*611) \n",
      "Num.Clusters: 3. Clusters proportions: [0.69017924 0.09111974 0.21870102]\n",
      "Num.Folds: 24. Fold size: 611.\n",
      "Distance matrix size: 367 (0.6*611) \n",
      "Num.Clusters: 3. Clusters proportions: [0.09779201 0.21691427 0.68529372]\n",
      "Num.Folds: 24. Fold size: 611.\n",
      "Distance matrix size: 367 (0.6*611) \n",
      "Num.Clusters: 3. Clusters proportions: [0.09193131 0.25187406 0.65619463]\n",
      "Num.Folds: 24. Fold size: 611.\n",
      "Distance matrix size: 367 (0.6*611) \n",
      "Num.Clusters: 3. Clusters proportions: [0.08348099 0.24042524 0.67609377]\n"
     ]
    },
    {
     "name": "stderr",
     "output_type": "stream",
     "text": [
      "[I 2024-05-31 17:58:20,895] Trial 34 finished with value: -178316.1485376086 and parameters: {'preprocessing__quant__imputer__method': 'simple_median', 'preprocessing__cat__imputer__method': 'simple_most_frequent', 'preprocessing__quant__scaler__apply': False, 'preprocessing__cat__encoder__method': 'ordinal', 'features_selector__apply': False, 'clustering_model__n_clusters': 3, 'clustering_model__method': 'pam', 'clustering_model__init': 'heuristic', 'clustering_model__frac_sample_size': 0.6, 'clustering_model__d1': 'canberra', 'clustering_model__d2': 'jaccard', 'clustering_model__n_splits': 24, 'clustering_model__estimators__0__n_estimators': 58, 'clustering_model__estimators__0__max_depth': None, 'clustering_model__estimators__0__min_samples_split': 21, 'clustering_model__estimators__0__min_samples_leaf': 11, 'clustering_model__estimators__1__max_depth': 5, 'clustering_model__estimators__1__lambda': 0.4, 'clustering_model__estimators__1__n_estimators': 30, 'clustering_model__estimators__1__eta': 0.24, 'clustering_model__estimators__1__alpha': 0.75, 'clustering_model__estimators__2__n_estimators': 115, 'clustering_model__estimators__2__max_depth': 30, 'clustering_model__estimators__2__min_samples_split': 9, 'clustering_model__estimators__2__min_samples_leaf': 5}. Best is trial 34 with value: -178316.1485376086.\n"
     ]
    },
    {
     "name": "stdout",
     "output_type": "stream",
     "text": [
      "Num.Folds: 20. Fold size: 733.\n",
      "Distance matrix size: 147 (0.2*733) \n",
      "Num.Clusters: 3. Clusters proportions: [0.70278743 0.07612622 0.22108635]\n",
      "Num.Folds: 20. Fold size: 733.\n",
      "Distance matrix size: 147 (0.2*733) \n",
      "Num.Clusters: 3. Clusters proportions: [0.23633638 0.71030394 0.05335968]\n",
      "Num.Folds: 20. Fold size: 733.\n",
      "Distance matrix size: 147 (0.2*733) \n",
      "Num.Clusters: 3. Clusters proportions: [0.02678206 0.19238108 0.78083685]\n",
      "Num.Folds: 20. Fold size: 733.\n",
      "Distance matrix size: 147 (0.2*733) \n",
      "Num.Clusters: 3. Clusters proportions: [0.03986643 0.75425923 0.20587434]\n"
     ]
    },
    {
     "name": "stderr",
     "output_type": "stream",
     "text": [
      "[I 2024-05-31 18:01:07,594] Trial 35 finished with value: -183263.6188943024 and parameters: {'preprocessing__quant__imputer__method': 'simple_median', 'preprocessing__cat__imputer__method': 'simple_most_frequent', 'preprocessing__quant__scaler__apply': False, 'preprocessing__cat__encoder__method': 'ordinal', 'features_selector__apply': False, 'clustering_model__n_clusters': 3, 'clustering_model__method': 'pam', 'clustering_model__init': 'heuristic', 'clustering_model__frac_sample_size': 0.2, 'clustering_model__d1': 'canberra', 'clustering_model__d2': 'sokal', 'clustering_model__n_splits': 20, 'clustering_model__estimators__0__n_estimators': 69, 'clustering_model__estimators__0__max_depth': None, 'clustering_model__estimators__0__min_samples_split': 18, 'clustering_model__estimators__0__min_samples_leaf': 11, 'clustering_model__estimators__1__max_depth': 5, 'clustering_model__estimators__1__lambda': 0.4, 'clustering_model__estimators__1__n_estimators': 30, 'clustering_model__estimators__1__eta': 0.2, 'clustering_model__estimators__1__alpha': 0.78, 'clustering_model__estimators__2__n_estimators': 116, 'clustering_model__estimators__2__max_depth': 30, 'clustering_model__estimators__2__min_samples_split': 9, 'clustering_model__estimators__2__min_samples_leaf': 5}. Best is trial 34 with value: -178316.1485376086.\n"
     ]
    },
    {
     "name": "stdout",
     "output_type": "stream",
     "text": [
      "Num.Folds: 26. Fold size: 564.\n",
      "Distance matrix size: 113 (0.2*564) \n",
      "Num.Clusters: 3. Clusters proportions: [0.0656989  0.68936141 0.24493969]\n",
      "Num.Folds: 26. Fold size: 564.\n",
      "Distance matrix size: 113 (0.2*564) \n",
      "Num.Clusters: 3. Clusters proportions: [0.08579801 0.67977375 0.23442824]\n",
      "Num.Folds: 26. Fold size: 564.\n",
      "Distance matrix size: 113 (0.2*564) \n",
      "Num.Clusters: 3. Clusters proportions: [0.07373586 0.22890827 0.69735587]\n",
      "Num.Folds: 26. Fold size: 564.\n",
      "Distance matrix size: 113 (0.2*564) \n",
      "Num.Clusters: 3. Clusters proportions: [0.51417473 0.07843805 0.40738722]\n"
     ]
    },
    {
     "name": "stderr",
     "output_type": "stream",
     "text": [
      "[I 2024-05-31 18:04:05,549] Trial 36 finished with value: -180080.7054064218 and parameters: {'preprocessing__quant__imputer__method': 'simple_median', 'preprocessing__cat__imputer__method': 'simple_most_frequent', 'preprocessing__quant__scaler__apply': False, 'preprocessing__cat__encoder__method': 'ordinal', 'features_selector__apply': False, 'clustering_model__n_clusters': 3, 'clustering_model__method': 'pam', 'clustering_model__init': 'heuristic', 'clustering_model__frac_sample_size': 0.2, 'clustering_model__d1': 'canberra', 'clustering_model__d2': 'jaccard', 'clustering_model__n_splits': 26, 'clustering_model__estimators__0__n_estimators': 56, 'clustering_model__estimators__0__max_depth': None, 'clustering_model__estimators__0__min_samples_split': 16, 'clustering_model__estimators__0__min_samples_leaf': 15, 'clustering_model__estimators__1__max_depth': 5, 'clustering_model__estimators__1__lambda': 0.4, 'clustering_model__estimators__1__n_estimators': 30, 'clustering_model__estimators__1__eta': 0.28, 'clustering_model__estimators__1__alpha': 0.64, 'clustering_model__estimators__2__n_estimators': 115, 'clustering_model__estimators__2__max_depth': 30, 'clustering_model__estimators__2__min_samples_split': 5, 'clustering_model__estimators__2__min_samples_leaf': 4}. Best is trial 34 with value: -178316.1485376086.\n"
     ]
    },
    {
     "name": "stdout",
     "output_type": "stream",
     "text": [
      "Num.Folds: 24. Fold size: 611.\n",
      "Distance matrix size: 367 (0.6*611) \n",
      "Num.Clusters: 3. Clusters proportions: [0.06051932 0.22994616 0.70953452]\n",
      "Num.Folds: 24. Fold size: 611.\n",
      "Distance matrix size: 367 (0.6*611) \n",
      "Num.Clusters: 3. Clusters proportions: [0.07414475 0.69333515 0.2325201 ]\n",
      "Num.Folds: 24. Fold size: 611.\n",
      "Distance matrix size: 367 (0.6*611) \n",
      "Num.Clusters: 3. Clusters proportions: [0.25732588 0.6842715  0.05840262]\n",
      "Num.Folds: 24. Fold size: 611.\n",
      "Distance matrix size: 367 (0.6*611) \n",
      "Num.Clusters: 3. Clusters proportions: [0.05778929 0.22679569 0.71541502]\n"
     ]
    },
    {
     "name": "stderr",
     "output_type": "stream",
     "text": [
      "[I 2024-05-31 18:06:40,677] Trial 37 finished with value: -178861.1989631357 and parameters: {'preprocessing__quant__imputer__method': 'iterative_median', 'preprocessing__cat__imputer__method': 'simple_most_frequent', 'preprocessing__quant__scaler__apply': False, 'preprocessing__cat__encoder__method': 'ordinal', 'features_selector__apply': False, 'clustering_model__n_clusters': 3, 'clustering_model__method': 'pam', 'clustering_model__init': 'heuristic', 'clustering_model__frac_sample_size': 0.6, 'clustering_model__d1': 'canberra', 'clustering_model__d2': 'sokal', 'clustering_model__n_splits': 24, 'clustering_model__estimators__0__n_estimators': 56, 'clustering_model__estimators__0__max_depth': None, 'clustering_model__estimators__0__min_samples_split': 14, 'clustering_model__estimators__0__min_samples_leaf': 16, 'clustering_model__estimators__1__max_depth': 5, 'clustering_model__estimators__1__lambda': 0.5, 'clustering_model__estimators__1__n_estimators': 30, 'clustering_model__estimators__1__eta': 0.28, 'clustering_model__estimators__1__alpha': 0.64, 'clustering_model__estimators__2__n_estimators': 105, 'clustering_model__estimators__2__max_depth': 30, 'clustering_model__estimators__2__min_samples_split': 4, 'clustering_model__estimators__2__min_samples_leaf': 2}. Best is trial 34 with value: -178316.1485376086.\n"
     ]
    },
    {
     "name": "stdout",
     "output_type": "stream",
     "text": [
      "Num.Folds: 24. Fold size: 611.\n",
      "Distance matrix size: 367 (0.6*611) \n",
      "Num.Clusters: 3. Clusters proportions: [0.04327677 0.76092142 0.19580181]\n",
      "Num.Folds: 24. Fold size: 611.\n",
      "Distance matrix size: 367 (0.6*611) \n",
      "Num.Folds: 24. Fold size: 611.\n",
      "Distance matrix size: 367 (0.6*611) \n",
      "Num.Folds: 24. Fold size: 611.\n",
      "Distance matrix size: 367 (0.6*611) \n",
      "Num.Clusters: 3. Clusters proportions: [0.06140112 0.20014993 0.73844896]\n"
     ]
    },
    {
     "name": "stderr",
     "output_type": "stream",
     "text": [
      "[W 2024-05-31 18:07:32,600] Trial 38 failed with parameters: {'preprocessing__quant__imputer__method': 'iterative_median', 'preprocessing__cat__imputer__method': 'simple_most_frequent', 'preprocessing__quant__scaler__apply': False, 'preprocessing__cat__encoder__method': 'ordinal', 'features_selector__apply': False, 'clustering_model__n_clusters': 3, 'clustering_model__method': 'pam', 'clustering_model__init': 'heuristic', 'clustering_model__frac_sample_size': 0.6, 'clustering_model__d1': 'euclidean', 'clustering_model__d2': 'sokal', 'clustering_model__n_splits': 24, 'clustering_model__estimators__0__n_estimators': 56, 'clustering_model__estimators__0__max_depth': None, 'clustering_model__estimators__0__min_samples_split': 11, 'clustering_model__estimators__0__min_samples_leaf': 16, 'clustering_model__estimators__1__max_depth': 5, 'clustering_model__estimators__1__lambda': 0.5, 'clustering_model__estimators__1__n_estimators': 50, 'clustering_model__estimators__1__eta': 0.28, 'clustering_model__estimators__1__alpha': 0.67, 'clustering_model__estimators__2__n_estimators': 104, 'clustering_model__estimators__2__max_depth': 30, 'clustering_model__estimators__2__min_samples_split': 4, 'clustering_model__estimators__2__min_samples_leaf': 2} because of the following error: The value nan is not acceptable.\n",
      "[W 2024-05-31 18:07:32,600] Trial 38 failed with value nan.\n"
     ]
    },
    {
     "name": "stdout",
     "output_type": "stream",
     "text": [
      "Num.Folds: 24. Fold size: 611.\n",
      "Distance matrix size: 367 (0.6*611) \n",
      "Num.Clusters: 3. Clusters proportions: [0.04327677 0.76092142 0.19580181]\n",
      "Num.Folds: 24. Fold size: 611.\n",
      "Distance matrix size: 367 (0.6*611) \n",
      "Num.Folds: 24. Fold size: 611.\n",
      "Distance matrix size: 367 (0.6*611) \n",
      "Num.Folds: 24. Fold size: 611.\n",
      "Distance matrix size: 367 (0.6*611) \n",
      "Num.Clusters: 3. Clusters proportions: [0.06140112 0.20014993 0.73844896]\n"
     ]
    },
    {
     "name": "stderr",
     "output_type": "stream",
     "text": [
      "[W 2024-05-31 18:08:39,478] Trial 39 failed with parameters: {'preprocessing__quant__imputer__method': 'iterative_median', 'preprocessing__cat__imputer__method': 'simple_most_frequent', 'preprocessing__quant__scaler__apply': False, 'preprocessing__cat__encoder__method': 'ordinal', 'features_selector__apply': False, 'clustering_model__n_clusters': 3, 'clustering_model__method': 'pam', 'clustering_model__init': 'heuristic', 'clustering_model__frac_sample_size': 0.6, 'clustering_model__d1': 'euclidean', 'clustering_model__d2': 'sokal', 'clustering_model__n_splits': 24, 'clustering_model__estimators__0__n_estimators': 54, 'clustering_model__estimators__0__max_depth': None, 'clustering_model__estimators__0__min_samples_split': 11, 'clustering_model__estimators__0__min_samples_leaf': 16, 'clustering_model__estimators__1__max_depth': 5, 'clustering_model__estimators__1__lambda': 0.5, 'clustering_model__estimators__1__n_estimators': 50, 'clustering_model__estimators__1__eta': 0.28, 'clustering_model__estimators__1__alpha': 0.63, 'clustering_model__estimators__2__n_estimators': 104, 'clustering_model__estimators__2__max_depth': 30, 'clustering_model__estimators__2__min_samples_split': 3, 'clustering_model__estimators__2__min_samples_leaf': 2} because of the following error: The value nan is not acceptable.\n",
      "[W 2024-05-31 18:08:39,478] Trial 39 failed with value nan.\n"
     ]
    }
   ],
   "source": [
    "simple_eval = SimpleEvaluation(estimator=pipeline_clustering_model,  \n",
    "                                cv=inner, \n",
    "                                param_grid=param_grid_RF_XGB_other_distances,\n",
    "                                search_method='optuna',\n",
    "                                scoring='neg_mean_absolute_error', \n",
    "                                direction='maximize', \n",
    "                                n_trials=40, \n",
    "                                random_state=123)\n",
    "\n",
    "simple_eval.fit(X=X_train, y=Y_train)"
   ]
  },
  {
   "cell_type": "code",
   "execution_count": 35,
   "metadata": {},
   "outputs": [],
   "source": [
    "clustering_method = 'KFoldFastKmedoids-OtherDistances'\n",
    "inner_score[clustering_method] = simple_eval.inner_score\n",
    "best_params[clustering_method] = simple_eval.inner_best_params\n",
    "inner_results[clustering_method] = simple_eval.inner_results"
   ]
  },
  {
   "cell_type": "code",
   "execution_count": 36,
   "metadata": {},
   "outputs": [
    {
     "data": {
      "text/plain": [
       "{'KFoldFastKmedoids-OtherDistances': -178316.1485376086}"
      ]
     },
     "execution_count": 36,
     "metadata": {},
     "output_type": "execute_result"
    }
   ],
   "source": [
    "inner_score"
   ]
  },
  {
   "cell_type": "code",
   "execution_count": 46,
   "metadata": {},
   "outputs": [],
   "source": [
    "# Saving the results as pickle files\n",
    "\n",
    "'''\n",
    "with open('KFoldFastKmedoids_results/best_params', 'wb') as file:\n",
    "    pickle.dump(best_params, file)\n",
    "\n",
    "with open('KFoldFastKmedoids_results/inner_scores', 'wb') as file:\n",
    "    pickle.dump(inner_score, file)\n",
    "\n",
    "with open('KFoldFastKmedoids_results/inner_results', 'wb') as file:\n",
    "    pickle.dump(inner_results, file)\n",
    "'''"
   ]
  },
  {
   "cell_type": "code",
   "execution_count": 47,
   "metadata": {},
   "outputs": [],
   "source": [
    "# Opening the results \n",
    "\n",
    "with open(f'KFoldFastKmedoids_results/best_params', 'rb') as file:\n",
    "    best_params = pickle.load(file)\n",
    "\n",
    "with open(f'KFoldFastKmedoids_results/inner_scores', 'rb') as file:\n",
    "    inner_score = pickle.load(file)\n",
    "\n",
    "with open(f'KFoldFastKmedoids_results/inner_results', 'rb') as file:\n",
    "    inner_results = pickle.load(file)\n",
    "    "
   ]
  },
  {
   "cell_type": "code",
   "execution_count": 50,
   "metadata": {},
   "outputs": [
    {
     "data": {
      "text/plain": [
       "{'KFoldFastKmedoids-OtherDistances': -178316.1485376086,\n",
       " 'KFoldFastKmedoids-RobustMaha': -178589.66440058086}"
      ]
     },
     "execution_count": 50,
     "metadata": {},
     "output_type": "execute_result"
    }
   ],
   "source": [
    "inner_score"
   ]
  },
  {
   "cell_type": "code",
   "execution_count": 80,
   "metadata": {},
   "outputs": [],
   "source": [
    "pd.set_option('display.max_columns', None)"
   ]
  },
  {
   "cell_type": "code",
   "execution_count": 53,
   "metadata": {},
   "outputs": [
    {
     "data": {
      "text/html": [
       "<div>\n",
       "<style scoped>\n",
       "    .dataframe tbody tr th:only-of-type {\n",
       "        vertical-align: middle;\n",
       "    }\n",
       "\n",
       "    .dataframe tbody tr th {\n",
       "        vertical-align: top;\n",
       "    }\n",
       "\n",
       "    .dataframe thead th {\n",
       "        text-align: right;\n",
       "    }\n",
       "</style>\n",
       "<table border=\"1\" class=\"dataframe\">\n",
       "  <thead>\n",
       "    <tr style=\"text-align: right;\">\n",
       "      <th></th>\n",
       "      <th>preprocessing__quant__imputer__method</th>\n",
       "      <th>preprocessing__cat__imputer__method</th>\n",
       "      <th>preprocessing__quant__scaler__apply</th>\n",
       "      <th>preprocessing__cat__encoder__method</th>\n",
       "      <th>features_selector__apply</th>\n",
       "      <th>preprocessing__quant__scaler__method</th>\n",
       "      <th>clustering_model__n_clusters</th>\n",
       "      <th>clustering_model__method</th>\n",
       "      <th>clustering_model__init</th>\n",
       "      <th>clustering_model__frac_sample_size</th>\n",
       "      <th>...</th>\n",
       "      <th>clustering_model__estimators__1__max_depth</th>\n",
       "      <th>clustering_model__estimators__1__lambda</th>\n",
       "      <th>clustering_model__estimators__1__n_estimators</th>\n",
       "      <th>clustering_model__estimators__1__eta</th>\n",
       "      <th>clustering_model__estimators__1__alpha</th>\n",
       "      <th>clustering_model__estimators__2__n_estimators</th>\n",
       "      <th>clustering_model__estimators__2__max_depth</th>\n",
       "      <th>clustering_model__estimators__2__min_samples_split</th>\n",
       "      <th>clustering_model__estimators__2__min_samples_leaf</th>\n",
       "      <th>score</th>\n",
       "    </tr>\n",
       "  </thead>\n",
       "  <tbody>\n",
       "    <tr>\n",
       "      <th>43</th>\n",
       "      <td>simple_median</td>\n",
       "      <td>simple_most_frequent</td>\n",
       "      <td>False</td>\n",
       "      <td>ordinal</td>\n",
       "      <td>False</td>\n",
       "      <td>NaN</td>\n",
       "      <td>3</td>\n",
       "      <td>pam</td>\n",
       "      <td>random</td>\n",
       "      <td>0.5</td>\n",
       "      <td>...</td>\n",
       "      <td>5.0</td>\n",
       "      <td>0.2</td>\n",
       "      <td>100</td>\n",
       "      <td>0.08</td>\n",
       "      <td>0.20</td>\n",
       "      <td>113.0</td>\n",
       "      <td>20.0</td>\n",
       "      <td>4.0</td>\n",
       "      <td>2.0</td>\n",
       "      <td>-178589.664401</td>\n",
       "    </tr>\n",
       "    <tr>\n",
       "      <th>96</th>\n",
       "      <td>simple_median</td>\n",
       "      <td>simple_most_frequent</td>\n",
       "      <td>False</td>\n",
       "      <td>ordinal</td>\n",
       "      <td>False</td>\n",
       "      <td>NaN</td>\n",
       "      <td>3</td>\n",
       "      <td>pam</td>\n",
       "      <td>random</td>\n",
       "      <td>0.5</td>\n",
       "      <td>...</td>\n",
       "      <td>5.0</td>\n",
       "      <td>0.3</td>\n",
       "      <td>100</td>\n",
       "      <td>0.12</td>\n",
       "      <td>0.25</td>\n",
       "      <td>71.0</td>\n",
       "      <td>50.0</td>\n",
       "      <td>4.0</td>\n",
       "      <td>2.0</td>\n",
       "      <td>-178677.383124</td>\n",
       "    </tr>\n",
       "    <tr>\n",
       "      <th>94</th>\n",
       "      <td>simple_median</td>\n",
       "      <td>simple_most_frequent</td>\n",
       "      <td>False</td>\n",
       "      <td>ordinal</td>\n",
       "      <td>False</td>\n",
       "      <td>NaN</td>\n",
       "      <td>3</td>\n",
       "      <td>pam</td>\n",
       "      <td>random</td>\n",
       "      <td>0.5</td>\n",
       "      <td>...</td>\n",
       "      <td>5.0</td>\n",
       "      <td>0.3</td>\n",
       "      <td>100</td>\n",
       "      <td>0.12</td>\n",
       "      <td>0.29</td>\n",
       "      <td>68.0</td>\n",
       "      <td>50.0</td>\n",
       "      <td>4.0</td>\n",
       "      <td>2.0</td>\n",
       "      <td>-178734.595193</td>\n",
       "    </tr>\n",
       "    <tr>\n",
       "      <th>95</th>\n",
       "      <td>simple_median</td>\n",
       "      <td>simple_most_frequent</td>\n",
       "      <td>False</td>\n",
       "      <td>ordinal</td>\n",
       "      <td>False</td>\n",
       "      <td>NaN</td>\n",
       "      <td>3</td>\n",
       "      <td>pam</td>\n",
       "      <td>random</td>\n",
       "      <td>0.5</td>\n",
       "      <td>...</td>\n",
       "      <td>5.0</td>\n",
       "      <td>0.3</td>\n",
       "      <td>100</td>\n",
       "      <td>0.12</td>\n",
       "      <td>0.22</td>\n",
       "      <td>66.0</td>\n",
       "      <td>50.0</td>\n",
       "      <td>4.0</td>\n",
       "      <td>2.0</td>\n",
       "      <td>-178772.292356</td>\n",
       "    </tr>\n",
       "    <tr>\n",
       "      <th>97</th>\n",
       "      <td>simple_median</td>\n",
       "      <td>simple_most_frequent</td>\n",
       "      <td>False</td>\n",
       "      <td>ordinal</td>\n",
       "      <td>False</td>\n",
       "      <td>NaN</td>\n",
       "      <td>3</td>\n",
       "      <td>pam</td>\n",
       "      <td>random</td>\n",
       "      <td>0.5</td>\n",
       "      <td>...</td>\n",
       "      <td>5.0</td>\n",
       "      <td>0.3</td>\n",
       "      <td>100</td>\n",
       "      <td>0.12</td>\n",
       "      <td>0.28</td>\n",
       "      <td>64.0</td>\n",
       "      <td>50.0</td>\n",
       "      <td>3.0</td>\n",
       "      <td>2.0</td>\n",
       "      <td>-178855.894159</td>\n",
       "    </tr>\n",
       "    <tr>\n",
       "      <th>34</th>\n",
       "      <td>simple_median</td>\n",
       "      <td>simple_most_frequent</td>\n",
       "      <td>False</td>\n",
       "      <td>ordinal</td>\n",
       "      <td>False</td>\n",
       "      <td>NaN</td>\n",
       "      <td>3</td>\n",
       "      <td>pam</td>\n",
       "      <td>random</td>\n",
       "      <td>0.5</td>\n",
       "      <td>...</td>\n",
       "      <td>5.0</td>\n",
       "      <td>0.1</td>\n",
       "      <td>100</td>\n",
       "      <td>0.16</td>\n",
       "      <td>0.20</td>\n",
       "      <td>119.0</td>\n",
       "      <td>20.0</td>\n",
       "      <td>5.0</td>\n",
       "      <td>2.0</td>\n",
       "      <td>-179086.047919</td>\n",
       "    </tr>\n",
       "    <tr>\n",
       "      <th>98</th>\n",
       "      <td>simple_median</td>\n",
       "      <td>simple_most_frequent</td>\n",
       "      <td>False</td>\n",
       "      <td>ordinal</td>\n",
       "      <td>False</td>\n",
       "      <td>NaN</td>\n",
       "      <td>3</td>\n",
       "      <td>pam</td>\n",
       "      <td>random</td>\n",
       "      <td>0.5</td>\n",
       "      <td>...</td>\n",
       "      <td>5.0</td>\n",
       "      <td>0.4</td>\n",
       "      <td>100</td>\n",
       "      <td>0.12</td>\n",
       "      <td>0.35</td>\n",
       "      <td>64.0</td>\n",
       "      <td>50.0</td>\n",
       "      <td>3.0</td>\n",
       "      <td>2.0</td>\n",
       "      <td>-179154.756617</td>\n",
       "    </tr>\n",
       "    <tr>\n",
       "      <th>52</th>\n",
       "      <td>simple_median</td>\n",
       "      <td>simple_most_frequent</td>\n",
       "      <td>False</td>\n",
       "      <td>ordinal</td>\n",
       "      <td>False</td>\n",
       "      <td>NaN</td>\n",
       "      <td>3</td>\n",
       "      <td>pam</td>\n",
       "      <td>random</td>\n",
       "      <td>0.5</td>\n",
       "      <td>...</td>\n",
       "      <td>5.0</td>\n",
       "      <td>0.2</td>\n",
       "      <td>100</td>\n",
       "      <td>0.12</td>\n",
       "      <td>0.20</td>\n",
       "      <td>109.0</td>\n",
       "      <td>20.0</td>\n",
       "      <td>2.0</td>\n",
       "      <td>2.0</td>\n",
       "      <td>-179158.548728</td>\n",
       "    </tr>\n",
       "    <tr>\n",
       "      <th>53</th>\n",
       "      <td>simple_median</td>\n",
       "      <td>simple_most_frequent</td>\n",
       "      <td>False</td>\n",
       "      <td>ordinal</td>\n",
       "      <td>False</td>\n",
       "      <td>NaN</td>\n",
       "      <td>3</td>\n",
       "      <td>pam</td>\n",
       "      <td>random</td>\n",
       "      <td>0.5</td>\n",
       "      <td>...</td>\n",
       "      <td>5.0</td>\n",
       "      <td>0.2</td>\n",
       "      <td>100</td>\n",
       "      <td>0.08</td>\n",
       "      <td>0.20</td>\n",
       "      <td>105.0</td>\n",
       "      <td>20.0</td>\n",
       "      <td>4.0</td>\n",
       "      <td>3.0</td>\n",
       "      <td>-179437.720726</td>\n",
       "    </tr>\n",
       "    <tr>\n",
       "      <th>29</th>\n",
       "      <td>simple_median</td>\n",
       "      <td>simple_most_frequent</td>\n",
       "      <td>False</td>\n",
       "      <td>ordinal</td>\n",
       "      <td>False</td>\n",
       "      <td>NaN</td>\n",
       "      <td>3</td>\n",
       "      <td>pam</td>\n",
       "      <td>random</td>\n",
       "      <td>0.5</td>\n",
       "      <td>...</td>\n",
       "      <td>NaN</td>\n",
       "      <td>0.2</td>\n",
       "      <td>100</td>\n",
       "      <td>0.12</td>\n",
       "      <td>0.21</td>\n",
       "      <td>109.0</td>\n",
       "      <td>20.0</td>\n",
       "      <td>3.0</td>\n",
       "      <td>2.0</td>\n",
       "      <td>-179497.883218</td>\n",
       "    </tr>\n",
       "    <tr>\n",
       "      <th>33</th>\n",
       "      <td>simple_median</td>\n",
       "      <td>simple_most_frequent</td>\n",
       "      <td>False</td>\n",
       "      <td>ordinal</td>\n",
       "      <td>False</td>\n",
       "      <td>NaN</td>\n",
       "      <td>3</td>\n",
       "      <td>pam</td>\n",
       "      <td>random</td>\n",
       "      <td>0.5</td>\n",
       "      <td>...</td>\n",
       "      <td>5.0</td>\n",
       "      <td>0.2</td>\n",
       "      <td>100</td>\n",
       "      <td>0.12</td>\n",
       "      <td>0.21</td>\n",
       "      <td>113.0</td>\n",
       "      <td>20.0</td>\n",
       "      <td>2.0</td>\n",
       "      <td>2.0</td>\n",
       "      <td>-179508.319518</td>\n",
       "    </tr>\n",
       "    <tr>\n",
       "      <th>30</th>\n",
       "      <td>simple_median</td>\n",
       "      <td>simple_most_frequent</td>\n",
       "      <td>False</td>\n",
       "      <td>ordinal</td>\n",
       "      <td>False</td>\n",
       "      <td>NaN</td>\n",
       "      <td>3</td>\n",
       "      <td>pam</td>\n",
       "      <td>random</td>\n",
       "      <td>0.5</td>\n",
       "      <td>...</td>\n",
       "      <td>5.0</td>\n",
       "      <td>0.2</td>\n",
       "      <td>100</td>\n",
       "      <td>0.08</td>\n",
       "      <td>0.20</td>\n",
       "      <td>108.0</td>\n",
       "      <td>20.0</td>\n",
       "      <td>3.0</td>\n",
       "      <td>2.0</td>\n",
       "      <td>-179542.384421</td>\n",
       "    </tr>\n",
       "    <tr>\n",
       "      <th>87</th>\n",
       "      <td>simple_median</td>\n",
       "      <td>simple_most_frequent</td>\n",
       "      <td>False</td>\n",
       "      <td>ordinal</td>\n",
       "      <td>False</td>\n",
       "      <td>NaN</td>\n",
       "      <td>3</td>\n",
       "      <td>pam</td>\n",
       "      <td>random</td>\n",
       "      <td>0.5</td>\n",
       "      <td>...</td>\n",
       "      <td>5.0</td>\n",
       "      <td>0.2</td>\n",
       "      <td>100</td>\n",
       "      <td>0.04</td>\n",
       "      <td>0.24</td>\n",
       "      <td>116.0</td>\n",
       "      <td>20.0</td>\n",
       "      <td>5.0</td>\n",
       "      <td>2.0</td>\n",
       "      <td>-179600.085487</td>\n",
       "    </tr>\n",
       "    <tr>\n",
       "      <th>78</th>\n",
       "      <td>simple_median</td>\n",
       "      <td>simple_most_frequent</td>\n",
       "      <td>False</td>\n",
       "      <td>ordinal</td>\n",
       "      <td>False</td>\n",
       "      <td>NaN</td>\n",
       "      <td>3</td>\n",
       "      <td>pam</td>\n",
       "      <td>random</td>\n",
       "      <td>0.5</td>\n",
       "      <td>...</td>\n",
       "      <td>5.0</td>\n",
       "      <td>0.2</td>\n",
       "      <td>100</td>\n",
       "      <td>0.06</td>\n",
       "      <td>0.22</td>\n",
       "      <td>114.0</td>\n",
       "      <td>20.0</td>\n",
       "      <td>4.0</td>\n",
       "      <td>3.0</td>\n",
       "      <td>-179683.158110</td>\n",
       "    </tr>\n",
       "    <tr>\n",
       "      <th>77</th>\n",
       "      <td>simple_median</td>\n",
       "      <td>simple_most_frequent</td>\n",
       "      <td>False</td>\n",
       "      <td>ordinal</td>\n",
       "      <td>False</td>\n",
       "      <td>NaN</td>\n",
       "      <td>3</td>\n",
       "      <td>pam</td>\n",
       "      <td>random</td>\n",
       "      <td>0.5</td>\n",
       "      <td>...</td>\n",
       "      <td>5.0</td>\n",
       "      <td>0.2</td>\n",
       "      <td>100</td>\n",
       "      <td>0.06</td>\n",
       "      <td>0.20</td>\n",
       "      <td>115.0</td>\n",
       "      <td>20.0</td>\n",
       "      <td>2.0</td>\n",
       "      <td>3.0</td>\n",
       "      <td>-179689.053638</td>\n",
       "    </tr>\n",
       "  </tbody>\n",
       "</table>\n",
       "<p>15 rows × 29 columns</p>\n",
       "</div>"
      ],
      "text/plain": [
       "   preprocessing__quant__imputer__method preprocessing__cat__imputer__method  \\\n",
       "43                         simple_median                simple_most_frequent   \n",
       "96                         simple_median                simple_most_frequent   \n",
       "94                         simple_median                simple_most_frequent   \n",
       "95                         simple_median                simple_most_frequent   \n",
       "97                         simple_median                simple_most_frequent   \n",
       "34                         simple_median                simple_most_frequent   \n",
       "98                         simple_median                simple_most_frequent   \n",
       "52                         simple_median                simple_most_frequent   \n",
       "53                         simple_median                simple_most_frequent   \n",
       "29                         simple_median                simple_most_frequent   \n",
       "33                         simple_median                simple_most_frequent   \n",
       "30                         simple_median                simple_most_frequent   \n",
       "87                         simple_median                simple_most_frequent   \n",
       "78                         simple_median                simple_most_frequent   \n",
       "77                         simple_median                simple_most_frequent   \n",
       "\n",
       "    preprocessing__quant__scaler__apply preprocessing__cat__encoder__method  \\\n",
       "43                                False                             ordinal   \n",
       "96                                False                             ordinal   \n",
       "94                                False                             ordinal   \n",
       "95                                False                             ordinal   \n",
       "97                                False                             ordinal   \n",
       "34                                False                             ordinal   \n",
       "98                                False                             ordinal   \n",
       "52                                False                             ordinal   \n",
       "53                                False                             ordinal   \n",
       "29                                False                             ordinal   \n",
       "33                                False                             ordinal   \n",
       "30                                False                             ordinal   \n",
       "87                                False                             ordinal   \n",
       "78                                False                             ordinal   \n",
       "77                                False                             ordinal   \n",
       "\n",
       "    features_selector__apply preprocessing__quant__scaler__method  \\\n",
       "43                     False                                  NaN   \n",
       "96                     False                                  NaN   \n",
       "94                     False                                  NaN   \n",
       "95                     False                                  NaN   \n",
       "97                     False                                  NaN   \n",
       "34                     False                                  NaN   \n",
       "98                     False                                  NaN   \n",
       "52                     False                                  NaN   \n",
       "53                     False                                  NaN   \n",
       "29                     False                                  NaN   \n",
       "33                     False                                  NaN   \n",
       "30                     False                                  NaN   \n",
       "87                     False                                  NaN   \n",
       "78                     False                                  NaN   \n",
       "77                     False                                  NaN   \n",
       "\n",
       "    clustering_model__n_clusters clustering_model__method  \\\n",
       "43                             3                      pam   \n",
       "96                             3                      pam   \n",
       "94                             3                      pam   \n",
       "95                             3                      pam   \n",
       "97                             3                      pam   \n",
       "34                             3                      pam   \n",
       "98                             3                      pam   \n",
       "52                             3                      pam   \n",
       "53                             3                      pam   \n",
       "29                             3                      pam   \n",
       "33                             3                      pam   \n",
       "30                             3                      pam   \n",
       "87                             3                      pam   \n",
       "78                             3                      pam   \n",
       "77                             3                      pam   \n",
       "\n",
       "   clustering_model__init  clustering_model__frac_sample_size  ...  \\\n",
       "43                 random                                 0.5  ...   \n",
       "96                 random                                 0.5  ...   \n",
       "94                 random                                 0.5  ...   \n",
       "95                 random                                 0.5  ...   \n",
       "97                 random                                 0.5  ...   \n",
       "34                 random                                 0.5  ...   \n",
       "98                 random                                 0.5  ...   \n",
       "52                 random                                 0.5  ...   \n",
       "53                 random                                 0.5  ...   \n",
       "29                 random                                 0.5  ...   \n",
       "33                 random                                 0.5  ...   \n",
       "30                 random                                 0.5  ...   \n",
       "87                 random                                 0.5  ...   \n",
       "78                 random                                 0.5  ...   \n",
       "77                 random                                 0.5  ...   \n",
       "\n",
       "   clustering_model__estimators__1__max_depth  \\\n",
       "43                                        5.0   \n",
       "96                                        5.0   \n",
       "94                                        5.0   \n",
       "95                                        5.0   \n",
       "97                                        5.0   \n",
       "34                                        5.0   \n",
       "98                                        5.0   \n",
       "52                                        5.0   \n",
       "53                                        5.0   \n",
       "29                                        NaN   \n",
       "33                                        5.0   \n",
       "30                                        5.0   \n",
       "87                                        5.0   \n",
       "78                                        5.0   \n",
       "77                                        5.0   \n",
       "\n",
       "   clustering_model__estimators__1__lambda  \\\n",
       "43                                     0.2   \n",
       "96                                     0.3   \n",
       "94                                     0.3   \n",
       "95                                     0.3   \n",
       "97                                     0.3   \n",
       "34                                     0.1   \n",
       "98                                     0.4   \n",
       "52                                     0.2   \n",
       "53                                     0.2   \n",
       "29                                     0.2   \n",
       "33                                     0.2   \n",
       "30                                     0.2   \n",
       "87                                     0.2   \n",
       "78                                     0.2   \n",
       "77                                     0.2   \n",
       "\n",
       "    clustering_model__estimators__1__n_estimators  \\\n",
       "43                                            100   \n",
       "96                                            100   \n",
       "94                                            100   \n",
       "95                                            100   \n",
       "97                                            100   \n",
       "34                                            100   \n",
       "98                                            100   \n",
       "52                                            100   \n",
       "53                                            100   \n",
       "29                                            100   \n",
       "33                                            100   \n",
       "30                                            100   \n",
       "87                                            100   \n",
       "78                                            100   \n",
       "77                                            100   \n",
       "\n",
       "   clustering_model__estimators__1__eta  \\\n",
       "43                                 0.08   \n",
       "96                                 0.12   \n",
       "94                                 0.12   \n",
       "95                                 0.12   \n",
       "97                                 0.12   \n",
       "34                                 0.16   \n",
       "98                                 0.12   \n",
       "52                                 0.12   \n",
       "53                                 0.08   \n",
       "29                                 0.12   \n",
       "33                                 0.12   \n",
       "30                                 0.08   \n",
       "87                                 0.04   \n",
       "78                                 0.06   \n",
       "77                                 0.06   \n",
       "\n",
       "    clustering_model__estimators__1__alpha  \\\n",
       "43                                    0.20   \n",
       "96                                    0.25   \n",
       "94                                    0.29   \n",
       "95                                    0.22   \n",
       "97                                    0.28   \n",
       "34                                    0.20   \n",
       "98                                    0.35   \n",
       "52                                    0.20   \n",
       "53                                    0.20   \n",
       "29                                    0.21   \n",
       "33                                    0.21   \n",
       "30                                    0.20   \n",
       "87                                    0.24   \n",
       "78                                    0.22   \n",
       "77                                    0.20   \n",
       "\n",
       "    clustering_model__estimators__2__n_estimators  \\\n",
       "43                                          113.0   \n",
       "96                                           71.0   \n",
       "94                                           68.0   \n",
       "95                                           66.0   \n",
       "97                                           64.0   \n",
       "34                                          119.0   \n",
       "98                                           64.0   \n",
       "52                                          109.0   \n",
       "53                                          105.0   \n",
       "29                                          109.0   \n",
       "33                                          113.0   \n",
       "30                                          108.0   \n",
       "87                                          116.0   \n",
       "78                                          114.0   \n",
       "77                                          115.0   \n",
       "\n",
       "    clustering_model__estimators__2__max_depth  \\\n",
       "43                                        20.0   \n",
       "96                                        50.0   \n",
       "94                                        50.0   \n",
       "95                                        50.0   \n",
       "97                                        50.0   \n",
       "34                                        20.0   \n",
       "98                                        50.0   \n",
       "52                                        20.0   \n",
       "53                                        20.0   \n",
       "29                                        20.0   \n",
       "33                                        20.0   \n",
       "30                                        20.0   \n",
       "87                                        20.0   \n",
       "78                                        20.0   \n",
       "77                                        20.0   \n",
       "\n",
       "    clustering_model__estimators__2__min_samples_split  \\\n",
       "43                                                4.0    \n",
       "96                                                4.0    \n",
       "94                                                4.0    \n",
       "95                                                4.0    \n",
       "97                                                3.0    \n",
       "34                                                5.0    \n",
       "98                                                3.0    \n",
       "52                                                2.0    \n",
       "53                                                4.0    \n",
       "29                                                3.0    \n",
       "33                                                2.0    \n",
       "30                                                3.0    \n",
       "87                                                5.0    \n",
       "78                                                4.0    \n",
       "77                                                2.0    \n",
       "\n",
       "    clustering_model__estimators__2__min_samples_leaf          score  \n",
       "43                                                2.0 -178589.664401  \n",
       "96                                                2.0 -178677.383124  \n",
       "94                                                2.0 -178734.595193  \n",
       "95                                                2.0 -178772.292356  \n",
       "97                                                2.0 -178855.894159  \n",
       "34                                                2.0 -179086.047919  \n",
       "98                                                2.0 -179154.756617  \n",
       "52                                                2.0 -179158.548728  \n",
       "53                                                3.0 -179437.720726  \n",
       "29                                                2.0 -179497.883218  \n",
       "33                                                2.0 -179508.319518  \n",
       "30                                                2.0 -179542.384421  \n",
       "87                                                2.0 -179600.085487  \n",
       "78                                                3.0 -179683.158110  \n",
       "77                                                3.0 -179689.053638  \n",
       "\n",
       "[15 rows x 29 columns]"
      ]
     },
     "execution_count": 53,
     "metadata": {},
     "output_type": "execute_result"
    }
   ],
   "source": [
    "inner_results['KFoldFastKmedoids-RobustMaha'].head(15)"
   ]
  },
  {
   "cell_type": "code",
   "execution_count": 52,
   "metadata": {},
   "outputs": [
    {
     "data": {
      "text/html": [
       "<div>\n",
       "<style scoped>\n",
       "    .dataframe tbody tr th:only-of-type {\n",
       "        vertical-align: middle;\n",
       "    }\n",
       "\n",
       "    .dataframe tbody tr th {\n",
       "        vertical-align: top;\n",
       "    }\n",
       "\n",
       "    .dataframe thead th {\n",
       "        text-align: right;\n",
       "    }\n",
       "</style>\n",
       "<table border=\"1\" class=\"dataframe\">\n",
       "  <thead>\n",
       "    <tr style=\"text-align: right;\">\n",
       "      <th></th>\n",
       "      <th>preprocessing__quant__imputer__method</th>\n",
       "      <th>preprocessing__cat__imputer__method</th>\n",
       "      <th>preprocessing__quant__scaler__apply</th>\n",
       "      <th>preprocessing__cat__encoder__method</th>\n",
       "      <th>features_selector__apply</th>\n",
       "      <th>preprocessing__quant__scaler__method</th>\n",
       "      <th>clustering_model__n_clusters</th>\n",
       "      <th>clustering_model__method</th>\n",
       "      <th>clustering_model__init</th>\n",
       "      <th>clustering_model__frac_sample_size</th>\n",
       "      <th>...</th>\n",
       "      <th>clustering_model__estimators__1__lambda</th>\n",
       "      <th>clustering_model__estimators__1__n_estimators</th>\n",
       "      <th>clustering_model__estimators__1__eta</th>\n",
       "      <th>clustering_model__estimators__1__alpha</th>\n",
       "      <th>clustering_model__estimators__2__n_estimators</th>\n",
       "      <th>clustering_model__estimators__2__max_depth</th>\n",
       "      <th>clustering_model__estimators__2__min_samples_split</th>\n",
       "      <th>clustering_model__estimators__2__min_samples_leaf</th>\n",
       "      <th>score</th>\n",
       "      <th>time</th>\n",
       "    </tr>\n",
       "  </thead>\n",
       "  <tbody>\n",
       "    <tr>\n",
       "      <th>34</th>\n",
       "      <td>simple_median</td>\n",
       "      <td>simple_most_frequent</td>\n",
       "      <td>False</td>\n",
       "      <td>ordinal</td>\n",
       "      <td>False</td>\n",
       "      <td>NaN</td>\n",
       "      <td>3</td>\n",
       "      <td>pam</td>\n",
       "      <td>heuristic</td>\n",
       "      <td>0.60</td>\n",
       "      <td>...</td>\n",
       "      <td>0.4</td>\n",
       "      <td>30</td>\n",
       "      <td>0.24</td>\n",
       "      <td>0.75</td>\n",
       "      <td>115.0</td>\n",
       "      <td>30.0</td>\n",
       "      <td>9.0</td>\n",
       "      <td>5.0</td>\n",
       "      <td>-178316.148538</td>\n",
       "      <td>208.493044</td>\n",
       "    </tr>\n",
       "    <tr>\n",
       "      <th>37</th>\n",
       "      <td>iterative_median</td>\n",
       "      <td>simple_most_frequent</td>\n",
       "      <td>False</td>\n",
       "      <td>ordinal</td>\n",
       "      <td>False</td>\n",
       "      <td>NaN</td>\n",
       "      <td>3</td>\n",
       "      <td>pam</td>\n",
       "      <td>heuristic</td>\n",
       "      <td>0.60</td>\n",
       "      <td>...</td>\n",
       "      <td>0.5</td>\n",
       "      <td>30</td>\n",
       "      <td>0.28</td>\n",
       "      <td>0.64</td>\n",
       "      <td>105.0</td>\n",
       "      <td>30.0</td>\n",
       "      <td>4.0</td>\n",
       "      <td>2.0</td>\n",
       "      <td>-178861.198963</td>\n",
       "      <td>155.127874</td>\n",
       "    </tr>\n",
       "    <tr>\n",
       "      <th>14</th>\n",
       "      <td>simple_median</td>\n",
       "      <td>simple_most_frequent</td>\n",
       "      <td>False</td>\n",
       "      <td>ordinal</td>\n",
       "      <td>False</td>\n",
       "      <td>NaN</td>\n",
       "      <td>3</td>\n",
       "      <td>pam</td>\n",
       "      <td>heuristic</td>\n",
       "      <td>0.60</td>\n",
       "      <td>...</td>\n",
       "      <td>0.3</td>\n",
       "      <td>100</td>\n",
       "      <td>0.10</td>\n",
       "      <td>0.37</td>\n",
       "      <td>117.0</td>\n",
       "      <td>50.0</td>\n",
       "      <td>7.0</td>\n",
       "      <td>2.0</td>\n",
       "      <td>-179629.117824</td>\n",
       "      <td>87.903891</td>\n",
       "    </tr>\n",
       "    <tr>\n",
       "      <th>36</th>\n",
       "      <td>simple_median</td>\n",
       "      <td>simple_most_frequent</td>\n",
       "      <td>False</td>\n",
       "      <td>ordinal</td>\n",
       "      <td>False</td>\n",
       "      <td>NaN</td>\n",
       "      <td>3</td>\n",
       "      <td>pam</td>\n",
       "      <td>heuristic</td>\n",
       "      <td>0.20</td>\n",
       "      <td>...</td>\n",
       "      <td>0.4</td>\n",
       "      <td>30</td>\n",
       "      <td>0.28</td>\n",
       "      <td>0.64</td>\n",
       "      <td>115.0</td>\n",
       "      <td>30.0</td>\n",
       "      <td>5.0</td>\n",
       "      <td>4.0</td>\n",
       "      <td>-180080.705406</td>\n",
       "      <td>177.939434</td>\n",
       "    </tr>\n",
       "    <tr>\n",
       "      <th>23</th>\n",
       "      <td>simple_median</td>\n",
       "      <td>simple_most_frequent</td>\n",
       "      <td>False</td>\n",
       "      <td>ordinal</td>\n",
       "      <td>False</td>\n",
       "      <td>NaN</td>\n",
       "      <td>3</td>\n",
       "      <td>pam</td>\n",
       "      <td>heuristic</td>\n",
       "      <td>0.20</td>\n",
       "      <td>...</td>\n",
       "      <td>0.3</td>\n",
       "      <td>30</td>\n",
       "      <td>0.26</td>\n",
       "      <td>0.88</td>\n",
       "      <td>107.0</td>\n",
       "      <td>40.0</td>\n",
       "      <td>8.0</td>\n",
       "      <td>6.0</td>\n",
       "      <td>-180149.538721</td>\n",
       "      <td>212.639986</td>\n",
       "    </tr>\n",
       "    <tr>\n",
       "      <th>33</th>\n",
       "      <td>simple_median</td>\n",
       "      <td>simple_most_frequent</td>\n",
       "      <td>False</td>\n",
       "      <td>ordinal</td>\n",
       "      <td>False</td>\n",
       "      <td>NaN</td>\n",
       "      <td>3</td>\n",
       "      <td>pam</td>\n",
       "      <td>heuristic</td>\n",
       "      <td>0.20</td>\n",
       "      <td>...</td>\n",
       "      <td>0.4</td>\n",
       "      <td>30</td>\n",
       "      <td>0.24</td>\n",
       "      <td>0.76</td>\n",
       "      <td>113.0</td>\n",
       "      <td>30.0</td>\n",
       "      <td>6.0</td>\n",
       "      <td>5.0</td>\n",
       "      <td>-180538.084175</td>\n",
       "      <td>212.265872</td>\n",
       "    </tr>\n",
       "    <tr>\n",
       "      <th>7</th>\n",
       "      <td>simple_median</td>\n",
       "      <td>simple_most_frequent</td>\n",
       "      <td>False</td>\n",
       "      <td>ordinal</td>\n",
       "      <td>False</td>\n",
       "      <td>NaN</td>\n",
       "      <td>2</td>\n",
       "      <td>alternate</td>\n",
       "      <td>heuristic</td>\n",
       "      <td>0.60</td>\n",
       "      <td>...</td>\n",
       "      <td>0.0</td>\n",
       "      <td>150</td>\n",
       "      <td>0.24</td>\n",
       "      <td>0.89</td>\n",
       "      <td>NaN</td>\n",
       "      <td>NaN</td>\n",
       "      <td>NaN</td>\n",
       "      <td>NaN</td>\n",
       "      <td>-181032.674995</td>\n",
       "      <td>74.683228</td>\n",
       "    </tr>\n",
       "    <tr>\n",
       "      <th>24</th>\n",
       "      <td>simple_median</td>\n",
       "      <td>simple_most_frequent</td>\n",
       "      <td>False</td>\n",
       "      <td>ordinal</td>\n",
       "      <td>False</td>\n",
       "      <td>NaN</td>\n",
       "      <td>3</td>\n",
       "      <td>pam</td>\n",
       "      <td>heuristic</td>\n",
       "      <td>0.20</td>\n",
       "      <td>...</td>\n",
       "      <td>0.4</td>\n",
       "      <td>30</td>\n",
       "      <td>0.26</td>\n",
       "      <td>0.86</td>\n",
       "      <td>109.0</td>\n",
       "      <td>30.0</td>\n",
       "      <td>6.0</td>\n",
       "      <td>8.0</td>\n",
       "      <td>-181581.168677</td>\n",
       "      <td>206.893737</td>\n",
       "    </tr>\n",
       "    <tr>\n",
       "      <th>22</th>\n",
       "      <td>simple_median</td>\n",
       "      <td>simple_most_frequent</td>\n",
       "      <td>False</td>\n",
       "      <td>ordinal</td>\n",
       "      <td>False</td>\n",
       "      <td>NaN</td>\n",
       "      <td>3</td>\n",
       "      <td>pam</td>\n",
       "      <td>heuristic</td>\n",
       "      <td>0.20</td>\n",
       "      <td>...</td>\n",
       "      <td>0.3</td>\n",
       "      <td>30</td>\n",
       "      <td>0.30</td>\n",
       "      <td>0.68</td>\n",
       "      <td>100.0</td>\n",
       "      <td>40.0</td>\n",
       "      <td>10.0</td>\n",
       "      <td>2.0</td>\n",
       "      <td>-181830.683455</td>\n",
       "      <td>199.768308</td>\n",
       "    </tr>\n",
       "    <tr>\n",
       "      <th>32</th>\n",
       "      <td>simple_median</td>\n",
       "      <td>simple_most_frequent</td>\n",
       "      <td>False</td>\n",
       "      <td>ordinal</td>\n",
       "      <td>False</td>\n",
       "      <td>NaN</td>\n",
       "      <td>3</td>\n",
       "      <td>pam</td>\n",
       "      <td>heuristic</td>\n",
       "      <td>0.20</td>\n",
       "      <td>...</td>\n",
       "      <td>0.4</td>\n",
       "      <td>30</td>\n",
       "      <td>0.26</td>\n",
       "      <td>0.87</td>\n",
       "      <td>109.0</td>\n",
       "      <td>30.0</td>\n",
       "      <td>6.0</td>\n",
       "      <td>8.0</td>\n",
       "      <td>-182634.919513</td>\n",
       "      <td>166.628798</td>\n",
       "    </tr>\n",
       "    <tr>\n",
       "      <th>18</th>\n",
       "      <td>simple_median</td>\n",
       "      <td>simple_most_frequent</td>\n",
       "      <td>False</td>\n",
       "      <td>ordinal</td>\n",
       "      <td>False</td>\n",
       "      <td>NaN</td>\n",
       "      <td>3</td>\n",
       "      <td>pam</td>\n",
       "      <td>heuristic</td>\n",
       "      <td>0.20</td>\n",
       "      <td>...</td>\n",
       "      <td>0.3</td>\n",
       "      <td>30</td>\n",
       "      <td>0.30</td>\n",
       "      <td>0.70</td>\n",
       "      <td>98.0</td>\n",
       "      <td>40.0</td>\n",
       "      <td>8.0</td>\n",
       "      <td>2.0</td>\n",
       "      <td>-182819.161073</td>\n",
       "      <td>191.969682</td>\n",
       "    </tr>\n",
       "    <tr>\n",
       "      <th>12</th>\n",
       "      <td>simple_median</td>\n",
       "      <td>simple_most_frequent</td>\n",
       "      <td>False</td>\n",
       "      <td>ordinal</td>\n",
       "      <td>False</td>\n",
       "      <td>NaN</td>\n",
       "      <td>3</td>\n",
       "      <td>pam</td>\n",
       "      <td>heuristic</td>\n",
       "      <td>0.15</td>\n",
       "      <td>...</td>\n",
       "      <td>0.4</td>\n",
       "      <td>100</td>\n",
       "      <td>0.06</td>\n",
       "      <td>0.33</td>\n",
       "      <td>120.0</td>\n",
       "      <td>50.0</td>\n",
       "      <td>11.0</td>\n",
       "      <td>3.0</td>\n",
       "      <td>-183128.455844</td>\n",
       "      <td>183.422350</td>\n",
       "    </tr>\n",
       "    <tr>\n",
       "      <th>35</th>\n",
       "      <td>simple_median</td>\n",
       "      <td>simple_most_frequent</td>\n",
       "      <td>False</td>\n",
       "      <td>ordinal</td>\n",
       "      <td>False</td>\n",
       "      <td>NaN</td>\n",
       "      <td>3</td>\n",
       "      <td>pam</td>\n",
       "      <td>heuristic</td>\n",
       "      <td>0.20</td>\n",
       "      <td>...</td>\n",
       "      <td>0.4</td>\n",
       "      <td>30</td>\n",
       "      <td>0.20</td>\n",
       "      <td>0.78</td>\n",
       "      <td>116.0</td>\n",
       "      <td>30.0</td>\n",
       "      <td>9.0</td>\n",
       "      <td>5.0</td>\n",
       "      <td>-183263.618894</td>\n",
       "      <td>166.698574</td>\n",
       "    </tr>\n",
       "    <tr>\n",
       "      <th>26</th>\n",
       "      <td>simple_median</td>\n",
       "      <td>simple_most_frequent</td>\n",
       "      <td>False</td>\n",
       "      <td>ordinal</td>\n",
       "      <td>False</td>\n",
       "      <td>NaN</td>\n",
       "      <td>3</td>\n",
       "      <td>pam</td>\n",
       "      <td>heuristic</td>\n",
       "      <td>0.50</td>\n",
       "      <td>...</td>\n",
       "      <td>0.2</td>\n",
       "      <td>30</td>\n",
       "      <td>0.24</td>\n",
       "      <td>0.89</td>\n",
       "      <td>111.0</td>\n",
       "      <td>50.0</td>\n",
       "      <td>11.0</td>\n",
       "      <td>4.0</td>\n",
       "      <td>-184093.372024</td>\n",
       "      <td>192.895758</td>\n",
       "    </tr>\n",
       "    <tr>\n",
       "      <th>27</th>\n",
       "      <td>simple_median</td>\n",
       "      <td>simple_most_frequent</td>\n",
       "      <td>True</td>\n",
       "      <td>ordinal</td>\n",
       "      <td>False</td>\n",
       "      <td>min-max</td>\n",
       "      <td>3</td>\n",
       "      <td>alternate</td>\n",
       "      <td>heuristic</td>\n",
       "      <td>0.30</td>\n",
       "      <td>...</td>\n",
       "      <td>0.4</td>\n",
       "      <td>180</td>\n",
       "      <td>0.18</td>\n",
       "      <td>0.78</td>\n",
       "      <td>110.0</td>\n",
       "      <td>20.0</td>\n",
       "      <td>17.0</td>\n",
       "      <td>6.0</td>\n",
       "      <td>-184253.134962</td>\n",
       "      <td>227.872800</td>\n",
       "    </tr>\n",
       "  </tbody>\n",
       "</table>\n",
       "<p>15 rows × 28 columns</p>\n",
       "</div>"
      ],
      "text/plain": [
       "   preprocessing__quant__imputer__method preprocessing__cat__imputer__method  \\\n",
       "34                         simple_median                simple_most_frequent   \n",
       "37                      iterative_median                simple_most_frequent   \n",
       "14                         simple_median                simple_most_frequent   \n",
       "36                         simple_median                simple_most_frequent   \n",
       "23                         simple_median                simple_most_frequent   \n",
       "33                         simple_median                simple_most_frequent   \n",
       "7                          simple_median                simple_most_frequent   \n",
       "24                         simple_median                simple_most_frequent   \n",
       "22                         simple_median                simple_most_frequent   \n",
       "32                         simple_median                simple_most_frequent   \n",
       "18                         simple_median                simple_most_frequent   \n",
       "12                         simple_median                simple_most_frequent   \n",
       "35                         simple_median                simple_most_frequent   \n",
       "26                         simple_median                simple_most_frequent   \n",
       "27                         simple_median                simple_most_frequent   \n",
       "\n",
       "    preprocessing__quant__scaler__apply preprocessing__cat__encoder__method  \\\n",
       "34                                False                             ordinal   \n",
       "37                                False                             ordinal   \n",
       "14                                False                             ordinal   \n",
       "36                                False                             ordinal   \n",
       "23                                False                             ordinal   \n",
       "33                                False                             ordinal   \n",
       "7                                 False                             ordinal   \n",
       "24                                False                             ordinal   \n",
       "22                                False                             ordinal   \n",
       "32                                False                             ordinal   \n",
       "18                                False                             ordinal   \n",
       "12                                False                             ordinal   \n",
       "35                                False                             ordinal   \n",
       "26                                False                             ordinal   \n",
       "27                                 True                             ordinal   \n",
       "\n",
       "    features_selector__apply preprocessing__quant__scaler__method  \\\n",
       "34                     False                                  NaN   \n",
       "37                     False                                  NaN   \n",
       "14                     False                                  NaN   \n",
       "36                     False                                  NaN   \n",
       "23                     False                                  NaN   \n",
       "33                     False                                  NaN   \n",
       "7                      False                                  NaN   \n",
       "24                     False                                  NaN   \n",
       "22                     False                                  NaN   \n",
       "32                     False                                  NaN   \n",
       "18                     False                                  NaN   \n",
       "12                     False                                  NaN   \n",
       "35                     False                                  NaN   \n",
       "26                     False                                  NaN   \n",
       "27                     False                              min-max   \n",
       "\n",
       "    clustering_model__n_clusters clustering_model__method  \\\n",
       "34                             3                      pam   \n",
       "37                             3                      pam   \n",
       "14                             3                      pam   \n",
       "36                             3                      pam   \n",
       "23                             3                      pam   \n",
       "33                             3                      pam   \n",
       "7                              2                alternate   \n",
       "24                             3                      pam   \n",
       "22                             3                      pam   \n",
       "32                             3                      pam   \n",
       "18                             3                      pam   \n",
       "12                             3                      pam   \n",
       "35                             3                      pam   \n",
       "26                             3                      pam   \n",
       "27                             3                alternate   \n",
       "\n",
       "   clustering_model__init  clustering_model__frac_sample_size  ...  \\\n",
       "34              heuristic                                0.60  ...   \n",
       "37              heuristic                                0.60  ...   \n",
       "14              heuristic                                0.60  ...   \n",
       "36              heuristic                                0.20  ...   \n",
       "23              heuristic                                0.20  ...   \n",
       "33              heuristic                                0.20  ...   \n",
       "7               heuristic                                0.60  ...   \n",
       "24              heuristic                                0.20  ...   \n",
       "22              heuristic                                0.20  ...   \n",
       "32              heuristic                                0.20  ...   \n",
       "18              heuristic                                0.20  ...   \n",
       "12              heuristic                                0.15  ...   \n",
       "35              heuristic                                0.20  ...   \n",
       "26              heuristic                                0.50  ...   \n",
       "27              heuristic                                0.30  ...   \n",
       "\n",
       "   clustering_model__estimators__1__lambda  \\\n",
       "34                                     0.4   \n",
       "37                                     0.5   \n",
       "14                                     0.3   \n",
       "36                                     0.4   \n",
       "23                                     0.3   \n",
       "33                                     0.4   \n",
       "7                                      0.0   \n",
       "24                                     0.4   \n",
       "22                                     0.3   \n",
       "32                                     0.4   \n",
       "18                                     0.3   \n",
       "12                                     0.4   \n",
       "35                                     0.4   \n",
       "26                                     0.2   \n",
       "27                                     0.4   \n",
       "\n",
       "   clustering_model__estimators__1__n_estimators  \\\n",
       "34                                            30   \n",
       "37                                            30   \n",
       "14                                           100   \n",
       "36                                            30   \n",
       "23                                            30   \n",
       "33                                            30   \n",
       "7                                            150   \n",
       "24                                            30   \n",
       "22                                            30   \n",
       "32                                            30   \n",
       "18                                            30   \n",
       "12                                           100   \n",
       "35                                            30   \n",
       "26                                            30   \n",
       "27                                           180   \n",
       "\n",
       "    clustering_model__estimators__1__eta  \\\n",
       "34                                  0.24   \n",
       "37                                  0.28   \n",
       "14                                  0.10   \n",
       "36                                  0.28   \n",
       "23                                  0.26   \n",
       "33                                  0.24   \n",
       "7                                   0.24   \n",
       "24                                  0.26   \n",
       "22                                  0.30   \n",
       "32                                  0.26   \n",
       "18                                  0.30   \n",
       "12                                  0.06   \n",
       "35                                  0.20   \n",
       "26                                  0.24   \n",
       "27                                  0.18   \n",
       "\n",
       "    clustering_model__estimators__1__alpha  \\\n",
       "34                                    0.75   \n",
       "37                                    0.64   \n",
       "14                                    0.37   \n",
       "36                                    0.64   \n",
       "23                                    0.88   \n",
       "33                                    0.76   \n",
       "7                                     0.89   \n",
       "24                                    0.86   \n",
       "22                                    0.68   \n",
       "32                                    0.87   \n",
       "18                                    0.70   \n",
       "12                                    0.33   \n",
       "35                                    0.78   \n",
       "26                                    0.89   \n",
       "27                                    0.78   \n",
       "\n",
       "    clustering_model__estimators__2__n_estimators  \\\n",
       "34                                          115.0   \n",
       "37                                          105.0   \n",
       "14                                          117.0   \n",
       "36                                          115.0   \n",
       "23                                          107.0   \n",
       "33                                          113.0   \n",
       "7                                             NaN   \n",
       "24                                          109.0   \n",
       "22                                          100.0   \n",
       "32                                          109.0   \n",
       "18                                           98.0   \n",
       "12                                          120.0   \n",
       "35                                          116.0   \n",
       "26                                          111.0   \n",
       "27                                          110.0   \n",
       "\n",
       "    clustering_model__estimators__2__max_depth  \\\n",
       "34                                        30.0   \n",
       "37                                        30.0   \n",
       "14                                        50.0   \n",
       "36                                        30.0   \n",
       "23                                        40.0   \n",
       "33                                        30.0   \n",
       "7                                          NaN   \n",
       "24                                        30.0   \n",
       "22                                        40.0   \n",
       "32                                        30.0   \n",
       "18                                        40.0   \n",
       "12                                        50.0   \n",
       "35                                        30.0   \n",
       "26                                        50.0   \n",
       "27                                        20.0   \n",
       "\n",
       "    clustering_model__estimators__2__min_samples_split  \\\n",
       "34                                                9.0    \n",
       "37                                                4.0    \n",
       "14                                                7.0    \n",
       "36                                                5.0    \n",
       "23                                                8.0    \n",
       "33                                                6.0    \n",
       "7                                                 NaN    \n",
       "24                                                6.0    \n",
       "22                                               10.0    \n",
       "32                                                6.0    \n",
       "18                                                8.0    \n",
       "12                                               11.0    \n",
       "35                                                9.0    \n",
       "26                                               11.0    \n",
       "27                                               17.0    \n",
       "\n",
       "    clustering_model__estimators__2__min_samples_leaf          score  \\\n",
       "34                                                5.0 -178316.148538   \n",
       "37                                                2.0 -178861.198963   \n",
       "14                                                2.0 -179629.117824   \n",
       "36                                                4.0 -180080.705406   \n",
       "23                                                6.0 -180149.538721   \n",
       "33                                                5.0 -180538.084175   \n",
       "7                                                 NaN -181032.674995   \n",
       "24                                                8.0 -181581.168677   \n",
       "22                                                2.0 -181830.683455   \n",
       "32                                                8.0 -182634.919513   \n",
       "18                                                2.0 -182819.161073   \n",
       "12                                                3.0 -183128.455844   \n",
       "35                                                5.0 -183263.618894   \n",
       "26                                                4.0 -184093.372024   \n",
       "27                                                6.0 -184253.134962   \n",
       "\n",
       "          time  \n",
       "34  208.493044  \n",
       "37  155.127874  \n",
       "14   87.903891  \n",
       "36  177.939434  \n",
       "23  212.639986  \n",
       "33  212.265872  \n",
       "7    74.683228  \n",
       "24  206.893737  \n",
       "22  199.768308  \n",
       "32  166.628798  \n",
       "18  191.969682  \n",
       "12  183.422350  \n",
       "35  166.698574  \n",
       "26  192.895758  \n",
       "27  227.872800  \n",
       "\n",
       "[15 rows x 28 columns]"
      ]
     },
     "execution_count": 52,
     "metadata": {},
     "output_type": "execute_result"
    }
   ],
   "source": [
    "inner_results['KFoldFastKmedoids-OtherDistances'].head(15)"
   ]
  },
  {
   "cell_type": "code",
   "execution_count": 54,
   "metadata": {},
   "outputs": [],
   "source": [
    "inner_score_large, best_params_large = {}, {}"
   ]
  },
  {
   "cell_type": "code",
   "execution_count": 56,
   "metadata": {},
   "outputs": [],
   "source": [
    "for d1 in ['euclidean', 'minkowski', 'canberra']:\n",
    "    for d2 in ['sokal', 'jaccard']:\n",
    "        inner_score_large[f'KFoldFastKmedoids-{d1}-{d2}-matching'] = inner_results['KFoldFastKmedoids-OtherDistances'].loc[(inner_results['KFoldFastKmedoids-OtherDistances']['clustering_model__d1'] == d1) & (inner_results['KFoldFastKmedoids-OtherDistances']['clustering_model__d2'] == d2)]['score'].iloc[0]\n",
    "        best_params_large[f'KFoldFastKmedoids-{d1}-{d2}-matching'] = dict(inner_results['KFoldFastKmedoids-OtherDistances'].loc[(inner_results['KFoldFastKmedoids-OtherDistances']['clustering_model__d1'] == d1) & (inner_results['KFoldFastKmedoids-OtherDistances']['clustering_model__d2'] == d2)].iloc[0, :-1])\n",
    "\n",
    "for robust_method in ['trimmed', 'winsorized', 'MAD']:\n",
    "    for d2 in ['sokal', 'jaccard']:\n",
    "        inner_score_large[f'KFoldFastKmedoids-RobustMaha-{robust_method}-{d2}-matching'] = inner_results['KFoldFastKmedoids-RobustMaha'].loc[(inner_results['KFoldFastKmedoids-RobustMaha']['clustering_model__robust_maha_method'] == robust_method) & (inner_results['KFoldFastKmedoids-RobustMaha']['clustering_model__d2'] == d2)]['score'].iloc[0]\n",
    "        best_params_large[f'KFoldFastKmedoids-RobustMaha-{robust_method}-{d2}-matching'] = dict(inner_results['KFoldFastKmedoids-RobustMaha'].loc[(inner_results['KFoldFastKmedoids-RobustMaha']['clustering_model__robust_maha_method'] == robust_method) & (inner_results['KFoldFastKmedoids-RobustMaha']['clustering_model__d2'] == d2)].iloc[0, :-1])\n"
   ]
  },
  {
   "cell_type": "code",
   "execution_count": 57,
   "metadata": {},
   "outputs": [
    {
     "data": {
      "text/plain": [
       "{'KFoldFastKmedoids-euclidean-sokal-matching': -194512.55635611847,\n",
       " 'KFoldFastKmedoids-euclidean-jaccard-matching': -187891.06211542868,\n",
       " 'KFoldFastKmedoids-minkowski-sokal-matching': -186184.8272726917,\n",
       " 'KFoldFastKmedoids-minkowski-jaccard-matching': -190557.21992548468,\n",
       " 'KFoldFastKmedoids-canberra-sokal-matching': -178861.1989631357,\n",
       " 'KFoldFastKmedoids-canberra-jaccard-matching': -178316.1485376086,\n",
       " 'KFoldFastKmedoids-RobustMaha-trimmed-sokal-matching': -178589.66440058086,\n",
       " 'KFoldFastKmedoids-RobustMaha-trimmed-jaccard-matching': -192963.31690579487,\n",
       " 'KFoldFastKmedoids-RobustMaha-winsorized-sokal-matching': -183422.7197427815,\n",
       " 'KFoldFastKmedoids-RobustMaha-winsorized-jaccard-matching': -184877.74677707415,\n",
       " 'KFoldFastKmedoids-RobustMaha-MAD-sokal-matching': -183121.09736862453,\n",
       " 'KFoldFastKmedoids-RobustMaha-MAD-jaccard-matching': -184096.78902281323}"
      ]
     },
     "execution_count": 57,
     "metadata": {},
     "output_type": "execute_result"
    }
   ],
   "source": [
    "inner_score_large"
   ]
  },
  {
   "cell_type": "code",
   "execution_count": 58,
   "metadata": {},
   "outputs": [
    {
     "data": {
      "text/plain": [
       "{'KFoldFastKmedoids-euclidean-sokal-matching': {'preprocessing__quant__imputer__method': 'iterative_mean',\n",
       "  'preprocessing__cat__imputer__method': 'simple_most_frequent',\n",
       "  'preprocessing__quant__scaler__apply': False,\n",
       "  'preprocessing__cat__encoder__method': 'ordinal',\n",
       "  'features_selector__apply': False,\n",
       "  'preprocessing__quant__scaler__method': nan,\n",
       "  'clustering_model__n_clusters': 2,\n",
       "  'clustering_model__method': 'pam',\n",
       "  'clustering_model__init': 'random',\n",
       "  'clustering_model__frac_sample_size': 0.25,\n",
       "  'clustering_model__d1': 'euclidean',\n",
       "  'clustering_model__d2': 'sokal',\n",
       "  'clustering_model__n_splits': 13,\n",
       "  'clustering_model__estimators__0__n_estimators': 69,\n",
       "  'clustering_model__estimators__0__max_depth': 20.0,\n",
       "  'clustering_model__estimators__0__min_samples_split': 20,\n",
       "  'clustering_model__estimators__0__min_samples_leaf': 6,\n",
       "  'clustering_model__estimators__1__max_depth': 20.0,\n",
       "  'clustering_model__estimators__1__lambda': 0.1,\n",
       "  'clustering_model__estimators__1__n_estimators': 50,\n",
       "  'clustering_model__estimators__1__eta': 0.3,\n",
       "  'clustering_model__estimators__1__alpha': 0.5900000000000001,\n",
       "  'clustering_model__estimators__2__n_estimators': nan,\n",
       "  'clustering_model__estimators__2__max_depth': nan,\n",
       "  'clustering_model__estimators__2__min_samples_split': nan,\n",
       "  'clustering_model__estimators__2__min_samples_leaf': nan,\n",
       "  'score': -194512.55635611847},\n",
       " 'KFoldFastKmedoids-euclidean-jaccard-matching': {'preprocessing__quant__imputer__method': 'simple_median',\n",
       "  'preprocessing__cat__imputer__method': 'simple_most_frequent',\n",
       "  'preprocessing__quant__scaler__apply': False,\n",
       "  'preprocessing__cat__encoder__method': 'ordinal',\n",
       "  'features_selector__apply': False,\n",
       "  'preprocessing__quant__scaler__method': nan,\n",
       "  'clustering_model__n_clusters': 3,\n",
       "  'clustering_model__method': 'pam',\n",
       "  'clustering_model__init': 'heuristic',\n",
       "  'clustering_model__frac_sample_size': 0.7,\n",
       "  'clustering_model__d1': 'euclidean',\n",
       "  'clustering_model__d2': 'jaccard',\n",
       "  'clustering_model__n_splits': 50,\n",
       "  'clustering_model__estimators__0__n_estimators': 99,\n",
       "  'clustering_model__estimators__0__max_depth': 10.0,\n",
       "  'clustering_model__estimators__0__min_samples_split': 20,\n",
       "  'clustering_model__estimators__0__min_samples_leaf': 3,\n",
       "  'clustering_model__estimators__1__max_depth': 3.0,\n",
       "  'clustering_model__estimators__1__lambda': 0.30000000000000004,\n",
       "  'clustering_model__estimators__1__n_estimators': 100,\n",
       "  'clustering_model__estimators__1__eta': 0.28,\n",
       "  'clustering_model__estimators__1__alpha': 0.47000000000000003,\n",
       "  'clustering_model__estimators__2__n_estimators': 91.0,\n",
       "  'clustering_model__estimators__2__max_depth': 7.0,\n",
       "  'clustering_model__estimators__2__min_samples_split': 8.0,\n",
       "  'clustering_model__estimators__2__min_samples_leaf': 10.0,\n",
       "  'score': -187891.06211542868},\n",
       " 'KFoldFastKmedoids-minkowski-sokal-matching': {'preprocessing__quant__imputer__method': 'simple_mean',\n",
       "  'preprocessing__cat__imputer__method': 'simple_most_frequent',\n",
       "  'preprocessing__quant__scaler__apply': True,\n",
       "  'preprocessing__cat__encoder__method': 'ordinal',\n",
       "  'features_selector__apply': False,\n",
       "  'preprocessing__quant__scaler__method': 'standard',\n",
       "  'clustering_model__n_clusters': 2,\n",
       "  'clustering_model__method': 'alternate',\n",
       "  'clustering_model__init': 'heuristic',\n",
       "  'clustering_model__frac_sample_size': 0.4,\n",
       "  'clustering_model__d1': 'minkowski',\n",
       "  'clustering_model__d2': 'sokal',\n",
       "  'clustering_model__n_splits': 7,\n",
       "  'clustering_model__estimators__0__n_estimators': 80,\n",
       "  'clustering_model__estimators__0__max_depth': 30.0,\n",
       "  'clustering_model__estimators__0__min_samples_split': 4,\n",
       "  'clustering_model__estimators__0__min_samples_leaf': 9,\n",
       "  'clustering_model__estimators__1__max_depth': 10.0,\n",
       "  'clustering_model__estimators__1__lambda': 0.30000000000000004,\n",
       "  'clustering_model__estimators__1__n_estimators': 180,\n",
       "  'clustering_model__estimators__1__eta': 0.16,\n",
       "  'clustering_model__estimators__1__alpha': 0.74,\n",
       "  'clustering_model__estimators__2__n_estimators': nan,\n",
       "  'clustering_model__estimators__2__max_depth': nan,\n",
       "  'clustering_model__estimators__2__min_samples_split': nan,\n",
       "  'clustering_model__estimators__2__min_samples_leaf': nan,\n",
       "  'score': -186184.8272726917},\n",
       " 'KFoldFastKmedoids-minkowski-jaccard-matching': {'preprocessing__quant__imputer__method': 'simple_mean',\n",
       "  'preprocessing__cat__imputer__method': 'simple_most_frequent',\n",
       "  'preprocessing__quant__scaler__apply': False,\n",
       "  'preprocessing__cat__encoder__method': 'ordinal',\n",
       "  'features_selector__apply': False,\n",
       "  'preprocessing__quant__scaler__method': nan,\n",
       "  'clustering_model__n_clusters': 3,\n",
       "  'clustering_model__method': 'alternate',\n",
       "  'clustering_model__init': 'random',\n",
       "  'clustering_model__frac_sample_size': 0.35,\n",
       "  'clustering_model__d1': 'minkowski',\n",
       "  'clustering_model__d2': 'jaccard',\n",
       "  'clustering_model__n_splits': 26,\n",
       "  'clustering_model__estimators__0__n_estimators': 83,\n",
       "  'clustering_model__estimators__0__max_depth': 3.0,\n",
       "  'clustering_model__estimators__0__min_samples_split': 20,\n",
       "  'clustering_model__estimators__0__min_samples_leaf': 13,\n",
       "  'clustering_model__estimators__1__max_depth': 3.0,\n",
       "  'clustering_model__estimators__1__lambda': 0.5,\n",
       "  'clustering_model__estimators__1__n_estimators': 70,\n",
       "  'clustering_model__estimators__1__eta': 0.18,\n",
       "  'clustering_model__estimators__1__alpha': 0.74,\n",
       "  'clustering_model__estimators__2__n_estimators': 62.0,\n",
       "  'clustering_model__estimators__2__max_depth': nan,\n",
       "  'clustering_model__estimators__2__min_samples_split': 4.0,\n",
       "  'clustering_model__estimators__2__min_samples_leaf': 17.0,\n",
       "  'score': -190557.21992548468},\n",
       " 'KFoldFastKmedoids-canberra-sokal-matching': {'preprocessing__quant__imputer__method': 'iterative_median',\n",
       "  'preprocessing__cat__imputer__method': 'simple_most_frequent',\n",
       "  'preprocessing__quant__scaler__apply': False,\n",
       "  'preprocessing__cat__encoder__method': 'ordinal',\n",
       "  'features_selector__apply': False,\n",
       "  'preprocessing__quant__scaler__method': nan,\n",
       "  'clustering_model__n_clusters': 3,\n",
       "  'clustering_model__method': 'pam',\n",
       "  'clustering_model__init': 'heuristic',\n",
       "  'clustering_model__frac_sample_size': 0.6,\n",
       "  'clustering_model__d1': 'canberra',\n",
       "  'clustering_model__d2': 'sokal',\n",
       "  'clustering_model__n_splits': 24,\n",
       "  'clustering_model__estimators__0__n_estimators': 56,\n",
       "  'clustering_model__estimators__0__max_depth': nan,\n",
       "  'clustering_model__estimators__0__min_samples_split': 14,\n",
       "  'clustering_model__estimators__0__min_samples_leaf': 16,\n",
       "  'clustering_model__estimators__1__max_depth': 5.0,\n",
       "  'clustering_model__estimators__1__lambda': 0.5,\n",
       "  'clustering_model__estimators__1__n_estimators': 30,\n",
       "  'clustering_model__estimators__1__eta': 0.28,\n",
       "  'clustering_model__estimators__1__alpha': 0.64,\n",
       "  'clustering_model__estimators__2__n_estimators': 105.0,\n",
       "  'clustering_model__estimators__2__max_depth': 30.0,\n",
       "  'clustering_model__estimators__2__min_samples_split': 4.0,\n",
       "  'clustering_model__estimators__2__min_samples_leaf': 2.0,\n",
       "  'score': -178861.1989631357},\n",
       " 'KFoldFastKmedoids-canberra-jaccard-matching': {'preprocessing__quant__imputer__method': 'simple_median',\n",
       "  'preprocessing__cat__imputer__method': 'simple_most_frequent',\n",
       "  'preprocessing__quant__scaler__apply': False,\n",
       "  'preprocessing__cat__encoder__method': 'ordinal',\n",
       "  'features_selector__apply': False,\n",
       "  'preprocessing__quant__scaler__method': nan,\n",
       "  'clustering_model__n_clusters': 3,\n",
       "  'clustering_model__method': 'pam',\n",
       "  'clustering_model__init': 'heuristic',\n",
       "  'clustering_model__frac_sample_size': 0.6,\n",
       "  'clustering_model__d1': 'canberra',\n",
       "  'clustering_model__d2': 'jaccard',\n",
       "  'clustering_model__n_splits': 24,\n",
       "  'clustering_model__estimators__0__n_estimators': 58,\n",
       "  'clustering_model__estimators__0__max_depth': nan,\n",
       "  'clustering_model__estimators__0__min_samples_split': 21,\n",
       "  'clustering_model__estimators__0__min_samples_leaf': 11,\n",
       "  'clustering_model__estimators__1__max_depth': 5.0,\n",
       "  'clustering_model__estimators__1__lambda': 0.4,\n",
       "  'clustering_model__estimators__1__n_estimators': 30,\n",
       "  'clustering_model__estimators__1__eta': 0.24,\n",
       "  'clustering_model__estimators__1__alpha': 0.75,\n",
       "  'clustering_model__estimators__2__n_estimators': 115.0,\n",
       "  'clustering_model__estimators__2__max_depth': 30.0,\n",
       "  'clustering_model__estimators__2__min_samples_split': 9.0,\n",
       "  'clustering_model__estimators__2__min_samples_leaf': 5.0,\n",
       "  'score': -178316.1485376086},\n",
       " 'KFoldFastKmedoids-RobustMaha-trimmed-sokal-matching': {'preprocessing__quant__imputer__method': 'simple_median',\n",
       "  'preprocessing__cat__imputer__method': 'simple_most_frequent',\n",
       "  'preprocessing__quant__scaler__apply': False,\n",
       "  'preprocessing__cat__encoder__method': 'ordinal',\n",
       "  'features_selector__apply': False,\n",
       "  'preprocessing__quant__scaler__method': nan,\n",
       "  'clustering_model__n_clusters': 3,\n",
       "  'clustering_model__method': 'pam',\n",
       "  'clustering_model__init': 'random',\n",
       "  'clustering_model__frac_sample_size': 0.5,\n",
       "  'clustering_model__d1': 'robust_mahalanobis',\n",
       "  'clustering_model__d2': 'sokal',\n",
       "  'clustering_model__n_splits': 30,\n",
       "  'clustering_model__robust_maha_method': 'trimmed',\n",
       "  'clustering_model__alpha': 0.09,\n",
       "  'clustering_model__estimators__0__n_estimators': 115,\n",
       "  'clustering_model__estimators__0__max_depth': 7.0,\n",
       "  'clustering_model__estimators__0__min_samples_split': 24,\n",
       "  'clustering_model__estimators__0__min_samples_leaf': 4,\n",
       "  'clustering_model__estimators__1__max_depth': 5.0,\n",
       "  'clustering_model__estimators__1__lambda': 0.2,\n",
       "  'clustering_model__estimators__1__n_estimators': 100,\n",
       "  'clustering_model__estimators__1__eta': 0.08,\n",
       "  'clustering_model__estimators__1__alpha': 0.2,\n",
       "  'clustering_model__estimators__2__n_estimators': 113.0,\n",
       "  'clustering_model__estimators__2__max_depth': 20.0,\n",
       "  'clustering_model__estimators__2__min_samples_split': 4.0,\n",
       "  'clustering_model__estimators__2__min_samples_leaf': 2.0},\n",
       " 'KFoldFastKmedoids-RobustMaha-trimmed-jaccard-matching': {'preprocessing__quant__imputer__method': 'iterative_median',\n",
       "  'preprocessing__cat__imputer__method': 'simple_most_frequent',\n",
       "  'preprocessing__quant__scaler__apply': False,\n",
       "  'preprocessing__cat__encoder__method': 'ordinal',\n",
       "  'features_selector__apply': False,\n",
       "  'preprocessing__quant__scaler__method': nan,\n",
       "  'clustering_model__n_clusters': 3,\n",
       "  'clustering_model__method': 'alternate',\n",
       "  'clustering_model__init': 'k-medoids++',\n",
       "  'clustering_model__frac_sample_size': 0.3,\n",
       "  'clustering_model__d1': 'robust_mahalanobis',\n",
       "  'clustering_model__d2': 'jaccard',\n",
       "  'clustering_model__n_splits': 4,\n",
       "  'clustering_model__robust_maha_method': 'trimmed',\n",
       "  'clustering_model__alpha': 0.25,\n",
       "  'clustering_model__estimators__0__n_estimators': 67,\n",
       "  'clustering_model__estimators__0__max_depth': 50.0,\n",
       "  'clustering_model__estimators__0__min_samples_split': 15,\n",
       "  'clustering_model__estimators__0__min_samples_leaf': 6,\n",
       "  'clustering_model__estimators__1__max_depth': 7.0,\n",
       "  'clustering_model__estimators__1__lambda': 0.0,\n",
       "  'clustering_model__estimators__1__n_estimators': 70,\n",
       "  'clustering_model__estimators__1__eta': 0.24,\n",
       "  'clustering_model__estimators__1__alpha': 0.5900000000000001,\n",
       "  'clustering_model__estimators__2__n_estimators': 81.0,\n",
       "  'clustering_model__estimators__2__max_depth': 5.0,\n",
       "  'clustering_model__estimators__2__min_samples_split': 18.0,\n",
       "  'clustering_model__estimators__2__min_samples_leaf': 21.0},\n",
       " 'KFoldFastKmedoids-RobustMaha-winsorized-sokal-matching': {'preprocessing__quant__imputer__method': 'simple_median',\n",
       "  'preprocessing__cat__imputer__method': 'simple_most_frequent',\n",
       "  'preprocessing__quant__scaler__apply': False,\n",
       "  'preprocessing__cat__encoder__method': 'ordinal',\n",
       "  'features_selector__apply': False,\n",
       "  'preprocessing__quant__scaler__method': nan,\n",
       "  'clustering_model__n_clusters': 3,\n",
       "  'clustering_model__method': 'pam',\n",
       "  'clustering_model__init': 'heuristic',\n",
       "  'clustering_model__frac_sample_size': 0.5,\n",
       "  'clustering_model__d1': 'robust_mahalanobis',\n",
       "  'clustering_model__d2': 'sokal',\n",
       "  'clustering_model__n_splits': 31,\n",
       "  'clustering_model__robust_maha_method': 'winsorized',\n",
       "  'clustering_model__alpha': 0.09,\n",
       "  'clustering_model__estimators__0__n_estimators': 105,\n",
       "  'clustering_model__estimators__0__max_depth': 3.0,\n",
       "  'clustering_model__estimators__0__min_samples_split': 23,\n",
       "  'clustering_model__estimators__0__min_samples_leaf': 21,\n",
       "  'clustering_model__estimators__1__max_depth': 5.0,\n",
       "  'clustering_model__estimators__1__lambda': 0.30000000000000004,\n",
       "  'clustering_model__estimators__1__n_estimators': 100,\n",
       "  'clustering_model__estimators__1__eta': 0.02,\n",
       "  'clustering_model__estimators__1__alpha': 0.27,\n",
       "  'clustering_model__estimators__2__n_estimators': 118.0,\n",
       "  'clustering_model__estimators__2__max_depth': 30.0,\n",
       "  'clustering_model__estimators__2__min_samples_split': 5.0,\n",
       "  'clustering_model__estimators__2__min_samples_leaf': 2.0},\n",
       " 'KFoldFastKmedoids-RobustMaha-winsorized-jaccard-matching': {'preprocessing__quant__imputer__method': 'simple_mean',\n",
       "  'preprocessing__cat__imputer__method': 'simple_most_frequent',\n",
       "  'preprocessing__quant__scaler__apply': True,\n",
       "  'preprocessing__cat__encoder__method': 'ordinal',\n",
       "  'features_selector__apply': False,\n",
       "  'preprocessing__quant__scaler__method': 'standard',\n",
       "  'clustering_model__n_clusters': 2,\n",
       "  'clustering_model__method': 'alternate',\n",
       "  'clustering_model__init': 'k-medoids++',\n",
       "  'clustering_model__frac_sample_size': 0.3,\n",
       "  'clustering_model__d1': 'robust_mahalanobis',\n",
       "  'clustering_model__d2': 'jaccard',\n",
       "  'clustering_model__n_splits': 10,\n",
       "  'clustering_model__robust_maha_method': 'winsorized',\n",
       "  'clustering_model__alpha': 0.09,\n",
       "  'clustering_model__estimators__0__n_estimators': 88,\n",
       "  'clustering_model__estimators__0__max_depth': 20.0,\n",
       "  'clustering_model__estimators__0__min_samples_split': 5,\n",
       "  'clustering_model__estimators__0__min_samples_leaf': 11,\n",
       "  'clustering_model__estimators__1__max_depth': nan,\n",
       "  'clustering_model__estimators__1__lambda': 0.30000000000000004,\n",
       "  'clustering_model__estimators__1__n_estimators': 150,\n",
       "  'clustering_model__estimators__1__eta': 0.3,\n",
       "  'clustering_model__estimators__1__alpha': 0.49,\n",
       "  'clustering_model__estimators__2__n_estimators': nan,\n",
       "  'clustering_model__estimators__2__max_depth': nan,\n",
       "  'clustering_model__estimators__2__min_samples_split': nan,\n",
       "  'clustering_model__estimators__2__min_samples_leaf': nan},\n",
       " 'KFoldFastKmedoids-RobustMaha-MAD-sokal-matching': {'preprocessing__quant__imputer__method': 'simple_median',\n",
       "  'preprocessing__cat__imputer__method': 'simple_most_frequent',\n",
       "  'preprocessing__quant__scaler__apply': False,\n",
       "  'preprocessing__cat__encoder__method': 'ordinal',\n",
       "  'features_selector__apply': False,\n",
       "  'preprocessing__quant__scaler__method': nan,\n",
       "  'clustering_model__n_clusters': 3,\n",
       "  'clustering_model__method': 'pam',\n",
       "  'clustering_model__init': 'k-medoids++',\n",
       "  'clustering_model__frac_sample_size': 0.5,\n",
       "  'clustering_model__d1': 'robust_mahalanobis',\n",
       "  'clustering_model__d2': 'sokal',\n",
       "  'clustering_model__n_splits': 26,\n",
       "  'clustering_model__robust_maha_method': 'MAD',\n",
       "  'clustering_model__alpha': nan,\n",
       "  'clustering_model__estimators__0__n_estimators': 71,\n",
       "  'clustering_model__estimators__0__max_depth': 7.0,\n",
       "  'clustering_model__estimators__0__min_samples_split': 17,\n",
       "  'clustering_model__estimators__0__min_samples_leaf': 5,\n",
       "  'clustering_model__estimators__1__max_depth': 5.0,\n",
       "  'clustering_model__estimators__1__lambda': 0.30000000000000004,\n",
       "  'clustering_model__estimators__1__n_estimators': 100,\n",
       "  'clustering_model__estimators__1__eta': 0.3,\n",
       "  'clustering_model__estimators__1__alpha': 0.39,\n",
       "  'clustering_model__estimators__2__n_estimators': 104.0,\n",
       "  'clustering_model__estimators__2__max_depth': 20.0,\n",
       "  'clustering_model__estimators__2__min_samples_split': 8.0,\n",
       "  'clustering_model__estimators__2__min_samples_leaf': 9.0},\n",
       " 'KFoldFastKmedoids-RobustMaha-MAD-jaccard-matching': {'preprocessing__quant__imputer__method': 'simple_mean',\n",
       "  'preprocessing__cat__imputer__method': 'simple_most_frequent',\n",
       "  'preprocessing__quant__scaler__apply': False,\n",
       "  'preprocessing__cat__encoder__method': 'ordinal',\n",
       "  'features_selector__apply': False,\n",
       "  'preprocessing__quant__scaler__method': nan,\n",
       "  'clustering_model__n_clusters': 2,\n",
       "  'clustering_model__method': 'pam',\n",
       "  'clustering_model__init': 'k-medoids++',\n",
       "  'clustering_model__frac_sample_size': 0.5,\n",
       "  'clustering_model__d1': 'robust_mahalanobis',\n",
       "  'clustering_model__d2': 'jaccard',\n",
       "  'clustering_model__n_splits': 13,\n",
       "  'clustering_model__robust_maha_method': 'MAD',\n",
       "  'clustering_model__alpha': nan,\n",
       "  'clustering_model__estimators__0__n_estimators': 63,\n",
       "  'clustering_model__estimators__0__max_depth': 50.0,\n",
       "  'clustering_model__estimators__0__min_samples_split': 20,\n",
       "  'clustering_model__estimators__0__min_samples_leaf': 14,\n",
       "  'clustering_model__estimators__1__max_depth': nan,\n",
       "  'clustering_model__estimators__1__lambda': 0.2,\n",
       "  'clustering_model__estimators__1__n_estimators': 150,\n",
       "  'clustering_model__estimators__1__eta': 0.06,\n",
       "  'clustering_model__estimators__1__alpha': 0.27,\n",
       "  'clustering_model__estimators__2__n_estimators': nan,\n",
       "  'clustering_model__estimators__2__max_depth': nan,\n",
       "  'clustering_model__estimators__2__min_samples_split': nan,\n",
       "  'clustering_model__estimators__2__min_samples_leaf': nan}}"
      ]
     },
     "execution_count": 58,
     "metadata": {},
     "output_type": "execute_result"
    }
   ],
   "source": [
    "best_params_large"
   ]
  },
  {
   "cell_type": "code",
   "execution_count": 62,
   "metadata": {},
   "outputs": [],
   "source": [
    "# Saving the results as pickle files\n",
    "\n",
    "with open(f'KFoldFastKmedoids_results/best_params_large', 'wb') as file:\n",
    "    pickle.dump(best_params_large, file)\n",
    "\n",
    "with open(f'KFoldFastKmedoids_results/inner_scores_large', 'wb') as file:\n",
    "    pickle.dump(inner_score_large, file)"
   ]
  },
  {
   "cell_type": "code",
   "execution_count": 60,
   "metadata": {},
   "outputs": [],
   "source": [
    "inner_score_values = - np.array(list(inner_score_large.values())) # getting the positive MAE (the original score was negative MAE)\n",
    "pipelines_names = np.array(list(inner_score_large.keys()))\n",
    "best_pipeline = pipelines_names[np.argmin(inner_score_values)]\n",
    "score_best_pipeline = np.min(inner_score_values)\n",
    "\n",
    "combined_models_score = list(zip(pipelines_names, inner_score_values))\n",
    "sorted_combined_models_score= sorted(combined_models_score, key=lambda x: x[1], reverse=False)  # Sort from lower to greater\n",
    "sorted_pipelines, sorted_scores = zip(*sorted_combined_models_score)\n",
    "sorted_pipelines = list(sorted_pipelines)\n",
    "sorted_scores = list(sorted_scores)"
   ]
  },
  {
   "cell_type": "code",
   "execution_count": 61,
   "metadata": {},
   "outputs": [
    {
     "data": {
      "image/png": "[encoded data removed]",
      "text/plain": [
       "<Figure size 500x800 with 1 Axes>"
      ]
     },
     "metadata": {},
     "output_type": "display_data"
    },
    {
     "name": "stdout",
     "output_type": "stream",
     "text": [
      "The best model among all the 12 alternatives plotted, according to the inner evaluation, is: KFoldFastKmedoids-canberra-jaccard-matching\n",
      "MAE of the best model: 178316.149\n",
      "\n",
      "The best model hyper-parameters are: {'preprocessing__quant__imputer__method': 'simple_median', 'preprocessing__cat__imputer__method': 'simple_most_frequent', 'preprocessing__quant__scaler__apply': False, 'preprocessing__cat__encoder__method': 'ordinal', 'features_selector__apply': False, 'preprocessing__quant__scaler__method': nan, 'clustering_model__n_clusters': 3, 'clustering_model__method': 'pam', 'clustering_model__init': 'heuristic', 'clustering_model__frac_sample_size': 0.6, 'clustering_model__d1': 'canberra', 'clustering_model__d2': 'jaccard', 'clustering_model__n_splits': 24, 'clustering_model__estimators__0__n_estimators': 58, 'clustering_model__estimators__0__max_depth': nan, 'clustering_model__estimators__0__min_samples_split': 21, 'clustering_model__estimators__0__min_samples_leaf': 11, 'clustering_model__estimators__1__max_depth': 5.0, 'clustering_model__estimators__1__lambda': 0.4, 'clustering_model__estimators__1__n_estimators': 30, 'clustering_model__estimators__1__eta': 0.24, 'clustering_model__estimators__1__alpha': 0.75, 'clustering_model__estimators__2__n_estimators': 115.0, 'clustering_model__estimators__2__max_depth': 30.0, 'clustering_model__estimators__2__min_samples_split': 9.0, 'clustering_model__estimators__2__min_samples_leaf': 5.0, 'score': -178316.1485376086}\n"
     ]
    }
   ],
   "source": [
    "fig, axes = plt.subplots(figsize=(5,8))\n",
    "\n",
    "ax = sns.barplot(y=sorted_pipelines, x=sorted_scores, color='blue', width=0.4, alpha=0.9)\n",
    "ax = sns.barplot(y=[best_pipeline], x=[score_best_pipeline], color='red', width=0.4, alpha=0.9)\n",
    "\n",
    "ax.set_ylabel('Models', size=12)\n",
    "ax.set_xlabel('MAE', size=12)\n",
    "ax.set_xticks(np.round(np.linspace(0, np.max(inner_score_values), 6),3)) \n",
    "ax.tick_params(axis='y', labelsize=11)    \n",
    "plt.title(f'Model Selection - Inner Evaluation: 4-Fold CV', size=13, weight='bold')\n",
    "for label in ax.get_yticklabels():\n",
    "    label.set_color('black') \n",
    "plt.show()\n",
    "\n",
    "print(f'The best model among all the {len(sorted_scores)} alternatives plotted, according to the inner evaluation, is: {best_pipeline}')\n",
    "print('MAE of the best model:', np.round(score_best_pipeline, 3))\n",
    "print('\\nThe best model hyper-parameters are:', best_params_large[best_pipeline])"
   ]
  }
 ],
 "metadata": {
  "kernelspec": {
   "display_name": "Python 3",
   "language": "python",
   "name": "python3"
  },
  "language_info": {
   "codemirror_mode": {
    "name": "ipython",
    "version": 3
   },
   "file_extension": ".py",
   "mimetype": "text/x-python",
   "name": "python",
   "nbconvert_exporter": "python",
   "pygments_lexer": "ipython3",
   "version": "3.12.0"
  }
 },
 "nbformat": 4,
 "nbformat_minor": 2
}

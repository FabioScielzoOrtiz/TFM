{
 "cells": [
  {
   "cell_type": "markdown",
   "metadata": {},
   "source": [
    "# **Inner Evaluation: Kmeans**"
   ]
  },
  {
   "cell_type": "markdown",
   "metadata": {},
   "source": [
    "## **Requirements**"
   ]
  },
  {
   "cell_type": "code",
   "execution_count": 2,
   "metadata": {},
   "outputs": [],
   "source": [
    "import polars as pl\n",
    "import pandas as pd\n",
    "import numpy as np\n",
    "import sys\n",
    "from sklearn.compose import ColumnTransformer\n",
    "from sklearn.pipeline import Pipeline\n",
    "from sklearn.model_selection import train_test_split, KFold, cross_val_score\n",
    "from sklearn.ensemble import RandomForestRegressor\n",
    "from  xgboost import XGBRegressor\n",
    "from sklearn.metrics import mean_absolute_error\n",
    "import pickle\n",
    "import warnings\n",
    "warnings.filterwarnings('ignore')\n",
    "from sklearn.metrics import silhouette_score\n",
    "from sklearn.cluster import KMeans\n",
    "import seaborn as sns\n",
    "import matplotlib.pyplot as plt \n",
    "sns.set_style('whitegrid')"
   ]
  },
  {
   "cell_type": "code",
   "execution_count": 18,
   "metadata": {},
   "outputs": [],
   "source": [
    "sys.path.insert(0, r'C:\\Users\\fscielzo\\Documents\\Packages\\PyML_Package_Private')\n",
    "from PyML.preprocessing import encoder, imputer, scaler, features_selector\n",
    "from PyML.evaluation import SimpleEvaluation\n"
   ]
  },
  {
   "cell_type": "code",
   "execution_count": 19,
   "metadata": {},
   "outputs": [],
   "source": [
    "sys.path.insert(0, r'C:\\Users\\fscielzo\\Documents\\Packages\\FastKmedoids_Package_Private')\n",
    "from FastKmedoids.data import sort_predictors_for_GG\n",
    "from FastKmedoids.models import KmeansEstimator"
   ]
  },
  {
   "cell_type": "markdown",
   "metadata": {},
   "source": [
    "## **Data**"
   ]
  },
  {
   "cell_type": "code",
   "execution_count": 20,
   "metadata": {},
   "outputs": [
    {
     "data": {
      "text/html": [
       "<div><style>\n",
       ".dataframe > thead > tr,\n",
       ".dataframe > tbody > tr {\n",
       "  text-align: right;\n",
       "  white-space: pre-wrap;\n",
       "}\n",
       "</style>\n",
       "<small>shape: (5, 12)</small><table border=\"1\" class=\"dataframe\"><thead><tr><th>sq_mt_built</th><th>n_rooms</th><th>n_bathrooms</th><th>n_floors</th><th>floor</th><th>buy_price</th><th>is_renewal_needed</th><th>has_lift</th><th>is_exterior</th><th>energy_certificate</th><th>has_parking</th><th>house_type</th></tr><tr><td>f64</td><td>i64</td><td>i64</td><td>i64</td><td>i64</td><td>i64</td><td>bool</td><td>bool</td><td>bool</td><td>i64</td><td>bool</td><td>i64</td></tr></thead><tbody><tr><td>64.0</td><td>2</td><td>1</td><td>1</td><td>3</td><td>85000</td><td>false</td><td>false</td><td>true</td><td>4</td><td>false</td><td>1</td></tr><tr><td>70.0</td><td>3</td><td>1</td><td>1</td><td>4</td><td>129900</td><td>true</td><td>true</td><td>true</td><td>0</td><td>false</td><td>1</td></tr><tr><td>94.0</td><td>2</td><td>2</td><td>1</td><td>1</td><td>144247</td><td>false</td><td>true</td><td>true</td><td>0</td><td>false</td><td>1</td></tr><tr><td>64.0</td><td>2</td><td>1</td><td>1</td><td>-1</td><td>109900</td><td>false</td><td>true</td><td>true</td><td>0</td><td>false</td><td>1</td></tr><tr><td>108.0</td><td>2</td><td>2</td><td>1</td><td>4</td><td>260000</td><td>false</td><td>true</td><td>true</td><td>0</td><td>true</td><td>1</td></tr></tbody></table></div>"
      ],
      "text/plain": [
       "shape: (5, 12)\n",
       "┌────────────┬─────────┬────────────┬──────────┬───┬───────────┬───────────┬───────────┬───────────┐\n",
       "│ sq_mt_buil ┆ n_rooms ┆ n_bathroom ┆ n_floors ┆ … ┆ is_exteri ┆ energy_ce ┆ has_parki ┆ house_typ │\n",
       "│ t          ┆ ---     ┆ s          ┆ ---      ┆   ┆ or        ┆ rtificate ┆ ng        ┆ e         │\n",
       "│ ---        ┆ i64     ┆ ---        ┆ i64      ┆   ┆ ---       ┆ ---       ┆ ---       ┆ ---       │\n",
       "│ f64        ┆         ┆ i64        ┆          ┆   ┆ bool      ┆ i64       ┆ bool      ┆ i64       │\n",
       "╞════════════╪═════════╪════════════╪══════════╪═══╪═══════════╪═══════════╪═══════════╪═══════════╡\n",
       "│ 64.0       ┆ 2       ┆ 1          ┆ 1        ┆ … ┆ true      ┆ 4         ┆ false     ┆ 1         │\n",
       "│ 70.0       ┆ 3       ┆ 1          ┆ 1        ┆ … ┆ true      ┆ 0         ┆ false     ┆ 1         │\n",
       "│ 94.0       ┆ 2       ┆ 2          ┆ 1        ┆ … ┆ true      ┆ 0         ┆ false     ┆ 1         │\n",
       "│ 64.0       ┆ 2       ┆ 1          ┆ 1        ┆ … ┆ true      ┆ 0         ┆ false     ┆ 1         │\n",
       "│ 108.0      ┆ 2       ┆ 2          ┆ 1        ┆ … ┆ true      ┆ 0         ┆ true      ┆ 1         │\n",
       "└────────────┴─────────┴────────────┴──────────┴───┴───────────┴───────────┴───────────┴───────────┘"
      ]
     },
     "execution_count": 20,
     "metadata": {},
     "output_type": "execute_result"
    }
   ],
   "source": [
    "madrid_houses_df = pl.read_csv('Data/madrid_houses_NaNS.csv')\n",
    "variables_to_remove = ['', 'id', 'district', 'neighborhood', 'sq_mt_allotment']\n",
    "variables_to_keep = [x for x in madrid_houses_df.columns if x not in variables_to_remove]\n",
    "madrid_houses_df = madrid_houses_df[variables_to_keep]\n",
    "madrid_houses_df.head()"
   ]
  },
  {
   "cell_type": "code",
   "execution_count": 21,
   "metadata": {},
   "outputs": [],
   "source": [
    "quant_columns = ['sq_mt_built', 'n_rooms', 'n_bathrooms', 'n_floors', 'buy_price']\n",
    "cat_columns = [x for x in madrid_houses_df.columns if x not in quant_columns]\n",
    "\n",
    "response = 'buy_price'\n",
    "quant_predictors = [x for x in quant_columns if x != response]\n",
    "cat_predictors = [x for x in cat_columns if x != response]\n",
    "predictors = quant_predictors + cat_predictors"
   ]
  },
  {
   "cell_type": "code",
   "execution_count": 22,
   "metadata": {},
   "outputs": [],
   "source": [
    "cat_predictors_sorted, p1, p2, p3 = sort_predictors_for_GG(df=madrid_houses_df, quant_predictors=quant_predictors, cat_predictors=cat_predictors)"
   ]
  },
  {
   "cell_type": "markdown",
   "metadata": {},
   "source": [
    "## **Response and Predictors**"
   ]
  },
  {
   "cell_type": "code",
   "execution_count": 23,
   "metadata": {},
   "outputs": [],
   "source": [
    "Y = madrid_houses_df[response].to_pandas()\n",
    "X = madrid_houses_df[predictors].to_pandas()\n",
    "# The Null values of the Polars columns that are define as Object type by Pandas are treated as None and not as NaN (what we would like)\n",
    "# The avoid this behavior the next step is necessary\n",
    "X = X.fillna(value=np.nan)"
   ]
  },
  {
   "cell_type": "markdown",
   "metadata": {},
   "source": [
    "## **Defining outer evaluation: train-test split**\n"
   ]
  },
  {
   "cell_type": "code",
   "execution_count": 24,
   "metadata": {},
   "outputs": [],
   "source": [
    "# Defining the outer-evaluation: train-test split.\n",
    "X_train, X_test, Y_train, Y_test = train_test_split(X, Y, train_size=0.90, random_state=123)\n",
    "# We set a large train size since we are mainly interested in compare models not in estimating the feature performance (indeed, we could omit the test part and doing the inner eval. with the whole data)"
   ]
  },
  {
   "cell_type": "markdown",
   "metadata": {},
   "source": [
    "## **Defining inner evaluation: K-Fold Cross Validation**"
   ]
  },
  {
   "cell_type": "code",
   "execution_count": 25,
   "metadata": {},
   "outputs": [],
   "source": [
    "# Defining the inner-evaluation: K-fold cross validation\n",
    "inner = KFold(n_splits=4, shuffle=True, random_state=111)"
   ]
  },
  {
   "cell_type": "code",
   "execution_count": 66,
   "metadata": {},
   "outputs": [],
   "source": [
    "inner_score, best_params, inner_results = {}, {}, {}"
   ]
  },
  {
   "cell_type": "markdown",
   "metadata": {},
   "source": [
    "## Example of usage"
   ]
  },
  {
   "cell_type": "code",
   "execution_count": 27,
   "metadata": {},
   "outputs": [],
   "source": [
    "quant_pipeline = Pipeline([('imputer', imputer(apply=True, method='iterative_median'))])\n",
    "\n",
    "cat_pipeline = Pipeline([('encoder', encoder(method='ordinal')),\n",
    "                         ('imputer', imputer(apply=True, method='simple_most_frequent'))])\n",
    "\n",
    "quant_cat_transformer = ColumnTransformer(transformers=[('quant', quant_pipeline, quant_predictors),\n",
    "                                                        ('cat', cat_pipeline, cat_predictors_sorted)])"
   ]
  },
  {
   "cell_type": "code",
   "execution_count": 28,
   "metadata": {},
   "outputs": [],
   "source": [
    "# Defining estimators to be used in each cluster\n",
    "estimators_RF_XGB_2_clusters = {0: RandomForestRegressor(random_state=123),\n",
    "                                1: XGBRegressor(random_state=123)}"
   ]
  },
  {
   "cell_type": "code",
   "execution_count": 29,
   "metadata": {},
   "outputs": [],
   "source": [
    "X_train = quant_cat_transformer.fit_transform(X_train)\n",
    "X_test = quant_cat_transformer.transform(X_test)\n",
    "X_train = pd.DataFrame(X_train, columns=quant_predictors + cat_predictors_sorted)\n",
    "X_test = pd.DataFrame(X_test, columns=quant_predictors + cat_predictors_sorted)"
   ]
  },
  {
   "cell_type": "code",
   "execution_count": 30,
   "metadata": {},
   "outputs": [],
   "source": [
    "kmeans_regressor = KmeansEstimator(estimators=estimators_RF_XGB_2_clusters, \n",
    "                                   n_clusters=2, random_state=123)"
   ]
  },
  {
   "cell_type": "code",
   "execution_count": 31,
   "metadata": {},
   "outputs": [
    {
     "name": "stdout",
     "output_type": "stream",
     "text": [
      "Clusters weights (proportions): [0.88366982 0.11633018]\n"
     ]
    },
    {
     "data": {
      "text/plain": [
       "189485.72342915318"
      ]
     },
     "execution_count": 31,
     "metadata": {},
     "output_type": "execute_result"
    }
   ],
   "source": [
    "kmeans_regressor.fit(X=X_train, y=Y_train)\n",
    "Y_test_hat = kmeans_regressor.predict(X_test)\n",
    "mean_absolute_error(y_pred=Y_test_hat, y_true=Y_test)"
   ]
  },
  {
   "cell_type": "markdown",
   "metadata": {},
   "source": [
    "## **Pipelines definition**"
   ]
  },
  {
   "cell_type": "code",
   "execution_count": 32,
   "metadata": {},
   "outputs": [],
   "source": [
    "quant_pipeline = Pipeline([('imputer', imputer(apply=True)),\n",
    "                           ('scaler', scaler())\n",
    "                          ])\n",
    "\n",
    "cat_pipeline = Pipeline([('encoder', encoder(method='ordinal')),\n",
    "                         ('imputer', imputer(apply=True))\n",
    "                        ])\n",
    "\n",
    "quant_cat_preprocessing = ColumnTransformer(transformers=[('quant', quant_pipeline, quant_predictors),\n",
    "                                                          ('cat', cat_pipeline, cat_predictors_sorted)]) "
   ]
  },
  {
   "cell_type": "code",
   "execution_count": 33,
   "metadata": {},
   "outputs": [],
   "source": [
    "meta_models = {'XGB': XGBRegressor(random_state=123),\n",
    "               'RF': RandomForestRegressor(random_state=123)}\n",
    "\n",
    "clusters_RF = [0,2,4,6]\n",
    "clusters_XGB = [1,3,5,7]\n",
    "max_n_clusters = len(clusters_RF + clusters_XGB)\n",
    "\n",
    "estimators_RF_XGB = {j: meta_models['RF'] for j in clusters_RF}\n",
    "estimators_RF_XGB.update({j: meta_models['XGB'] for j in clusters_XGB}) \n",
    "\n",
    "clustering_estimator = KmeansEstimator(estimators=estimators_RF_XGB, \n",
    "                                       n_clusters=2)\n",
    "\n",
    "pipeline_clustering_model = Pipeline([('preprocessing', quant_cat_preprocessing),\n",
    "                                      ('features_selector', features_selector()),\n",
    "                                      ('clustering_model', clustering_estimator)\n",
    "                                     ]) "
   ]
  },
  {
   "cell_type": "markdown",
   "metadata": {},
   "source": [
    "## **Grids for HPO**"
   ]
  },
  {
   "cell_type": "code",
   "execution_count": 34,
   "metadata": {},
   "outputs": [],
   "source": [
    "def preprocessing_param_grid(trial):\n",
    "\n",
    "    # Fix Grid\n",
    "    param_grid = {\n",
    "        'preprocessing__quant__imputer__method': trial.suggest_categorical('preprocessing__quant__imputer__method', ['simple_mean', 'simple_median', 'iterative_mean', 'iterative_median']),\n",
    "        'preprocessing__cat__imputer__method': trial.suggest_categorical('preprocessing__cat__imputer__method', ['simple_most_frequent']),\n",
    "        'preprocessing__quant__scaler__apply': trial.suggest_categorical('preprocessing__quant__scaler__apply', [True, False]),\n",
    "        'preprocessing__cat__encoder__method': trial.suggest_categorical('preprocessing__cat__encoder__method', ['ordinal', 'one-hot']),   \n",
    "        'features_selector__apply': trial.suggest_categorical('features_selector__apply', [False, True])  \n",
    "        }\n",
    "\n",
    "    # Conditioned Grid\n",
    "    if param_grid['features_selector__apply'] == True:\n",
    "\n",
    "        param_grid.update({'features_selector__method': trial.suggest_categorical('features_selector__method', \n",
    "                                                                                  ['Fdr_f_reg', 'Fpr_f_reg', 'KBest_f_reg', 'Percentile_f_reg'\n",
    "                                                                                   #'forward_linear_reg', # Takes too much time with one-hot (too many predictors)\n",
    "                                                                                   #'backward_linear_reg' # Takes too much time with one-hot (too many predictors)\n",
    "                                                                                   ])})\n",
    "\n",
    "        if param_grid['features_selector__method'] == 'KBest_f_reg':\n",
    "\n",
    "            param_grid.update({'features_selector__k': trial.suggest_categorical('features_selector__k', [3, 5, 7, 8, 10])})\n",
    "\n",
    "        if param_grid['features_selector__method'] == 'Percentile_f_reg':\n",
    "\n",
    "            param_grid.update({'features_selector__percentile': trial.suggest_categorical('features_selector__percentile', [30, 50, 75])})\n",
    "\n",
    "\n",
    "    if param_grid['preprocessing__quant__scaler__apply'] == True:\n",
    "    \n",
    "        param_grid.update({'preprocessing__quant__scaler__method': trial.suggest_categorical('preprocessing__quant__scaler__method', ['standard', 'min-max'])})\n",
    "\n",
    "    return param_grid"
   ]
  },
  {
   "cell_type": "code",
   "execution_count": 35,
   "metadata": {},
   "outputs": [],
   "source": [
    "def param_grid_clustering_model(trial):\n",
    "\n",
    "    param_grid = {\n",
    "        'clustering_model__n_clusters': trial.suggest_int('clustering_model__n_clusters', 2, 8)\n",
    "    }\n",
    "\n",
    "    return param_grid"
   ]
  },
  {
   "cell_type": "code",
   "execution_count": 36,
   "metadata": {},
   "outputs": [],
   "source": [
    "def param_grid_RF_XGB(trial):\n",
    "\n",
    "    param_grid = preprocessing_param_grid(trial)\n",
    "    param_grid.update(param_grid_clustering_model(trial))\n",
    "\n",
    "    n_clusters = param_grid['clustering_model__n_clusters']\n",
    "\n",
    "    for j in range(0, n_clusters): # Create grids only for the effective clusters\n",
    "\n",
    "        # Grids for RF\n",
    "        if j in clusters_RF:\n",
    "\n",
    "            param_grid.update({\n",
    "                f'clustering_model__estimators__{j}__n_estimators': trial.suggest_int(f'clustering_model__estimators__{j}__n_estimators', 50, 120),\n",
    "                f'clustering_model__estimators__{j}__max_depth': trial.suggest_categorical(f'clustering_model__estimators__{j}__max_depth', [None, 3, 5, 7, 10, 20, 30, 40, 50]),\n",
    "                f'clustering_model__estimators__{j}__min_samples_split': trial.suggest_int(f'clustering_model__estimators__{j}__min_samples_split', 2, 25),\n",
    "                f'clustering_model__estimators__{j}__min_samples_leaf': trial.suggest_int(f'clustering_model__estimators__{j}__min_samples_leaf', 2, 25)\n",
    "            })\n",
    "\n",
    "        # Grids for XGB\n",
    "        if j in clusters_XGB:  \n",
    "\n",
    "            param_grid.update({\n",
    "                f'clustering_model__estimators__{j}__max_depth': trial.suggest_categorical(f'clustering_model__estimators__{j}__max_depth', [None, 3, 5, 7, 10, 20, 30, 40, 50]),\n",
    "                f'clustering_model__estimators__{j}__lambda': trial.suggest_float(f'clustering_model__estimators__{j}__lambda', 0, 0.5, step=0.1, log=False),\n",
    "                f'clustering_model__estimators__{j}__n_estimators': trial.suggest_categorical(f'clustering_model__estimators__{j}__n_estimators', [30, 50, 70, 100, 150, 180]),\n",
    "                f'clustering_model__estimators__{j}__eta': trial.suggest_float(f'clustering_model__estimators__{j}__eta', 0, 0.3, step=0.02, log=False),\n",
    "                f'clustering_model__estimators__{j}__alpha': trial.suggest_float(f'clustering_model__estimators__{j}__alpha', 0.2, 1, step=0.01, log=False)\n",
    "            })\n",
    "\n",
    "    return param_grid"
   ]
  },
  {
   "cell_type": "markdown",
   "metadata": {},
   "source": [
    "## **HPO**"
   ]
  },
  {
   "cell_type": "code",
   "execution_count": 39,
   "metadata": {},
   "outputs": [
    {
     "name": "stderr",
     "output_type": "stream",
     "text": [
      "[I 2024-04-17 10:41:21,300] A new study created in memory with name: no-name-975cf578-54d2-4ed6-88b0-27aaed9d17ef\n"
     ]
    },
    {
     "name": "stdout",
     "output_type": "stream",
     "text": [
      "Clusters weights (proportions): [0.88393648 0.11606352]\n",
      "Clusters weights (proportions): [0.88278588 0.11721412]\n",
      "Clusters weights (proportions): [0.1161919 0.8838081]\n",
      "Clusters weights (proportions): [0.88483031 0.11516969]\n"
     ]
    },
    {
     "name": "stderr",
     "output_type": "stream",
     "text": [
      "[I 2024-04-17 10:42:01,654] Trial 0 finished with value: -439283.73345602694 and parameters: {'preprocessing__quant__imputer__method': 'simple_median', 'preprocessing__cat__imputer__method': 'simple_most_frequent', 'preprocessing__quant__scaler__apply': True, 'preprocessing__cat__encoder__method': 'ordinal', 'features_selector__apply': True, 'features_selector__method': 'Fpr_f_reg', 'preprocessing__quant__scaler__method': 'min-max', 'clustering_model__n_clusters': 2, 'clustering_model__estimators__0__n_estimators': 58, 'clustering_model__estimators__0__max_depth': 40, 'clustering_model__estimators__0__min_samples_split': 8, 'clustering_model__estimators__0__min_samples_leaf': 16, 'clustering_model__estimators__1__max_depth': 3, 'clustering_model__estimators__1__lambda': 0.4, 'clustering_model__estimators__1__n_estimators': 150, 'clustering_model__estimators__1__eta': 0.08, 'clustering_model__estimators__1__alpha': 0.65}. Best is trial 0 with value: -439283.73345602694.\n"
     ]
    },
    {
     "name": "stdout",
     "output_type": "stream",
     "text": [
      "Clusters weights (proportions): [0.20561576 0.71226061 0.01349417 0.06862946]\n",
      "Clusters weights (proportions): [0.21807278 0.67916042 0.01546954 0.08729726]\n",
      "Clusters weights (proportions): [0.20498841 0.70505656 0.0151288  0.07482622]\n",
      "Clusters weights (proportions): [0.20444323 0.70941802 0.0151288  0.07100995]\n"
     ]
    },
    {
     "name": "stderr",
     "output_type": "stream",
     "text": [
      "[I 2024-04-17 10:42:29,534] Trial 1 finished with value: -233212.36693375115 and parameters: {'preprocessing__quant__imputer__method': 'simple_mean', 'preprocessing__cat__imputer__method': 'simple_most_frequent', 'preprocessing__quant__scaler__apply': False, 'preprocessing__cat__encoder__method': 'one-hot', 'features_selector__apply': False, 'clustering_model__n_clusters': 4, 'clustering_model__estimators__0__n_estimators': 105, 'clustering_model__estimators__0__max_depth': 5, 'clustering_model__estimators__0__min_samples_split': 14, 'clustering_model__estimators__0__min_samples_leaf': 9, 'clustering_model__estimators__1__max_depth': 10, 'clustering_model__estimators__1__lambda': 0.1, 'clustering_model__estimators__1__n_estimators': 150, 'clustering_model__estimators__1__eta': 0.0, 'clustering_model__estimators__1__alpha': 0.78, 'clustering_model__estimators__2__n_estimators': 50, 'clustering_model__estimators__2__max_depth': 20, 'clustering_model__estimators__2__min_samples_split': 6, 'clustering_model__estimators__2__min_samples_leaf': 4, 'clustering_model__estimators__3__max_depth': 40, 'clustering_model__estimators__3__lambda': 0.0, 'clustering_model__estimators__3__n_estimators': 30, 'clustering_model__estimators__3__eta': 0.14, 'clustering_model__estimators__3__alpha': 0.45}. Best is trial 1 with value: -233212.36693375115.\n"
     ]
    },
    {
     "name": "stdout",
     "output_type": "stream",
     "text": [
      "Clusters weights (proportions): [0.25495809 0.04470797 0.58897294 0.01356233 0.09534519 0.00245349]\n",
      "Clusters weights (proportions): [0.25596293 0.59159057 0.09370315 0.01315251 0.04327382 0.00231702]\n",
      "Clusters weights (proportions): [0.58770615 0.04559084 0.09302167 0.25807551 0.00218073 0.01342511]\n",
      "Clusters weights (proportions): [0.00218073 0.25514515 0.04347826 0.09908682 0.58682023 0.01328881]\n"
     ]
    },
    {
     "name": "stderr",
     "output_type": "stream",
     "text": [
      "[I 2024-04-17 10:43:21,552] Trial 2 finished with value: -245396.1521665574 and parameters: {'preprocessing__quant__imputer__method': 'simple_mean', 'preprocessing__cat__imputer__method': 'simple_most_frequent', 'preprocessing__quant__scaler__apply': False, 'preprocessing__cat__encoder__method': 'ordinal', 'features_selector__apply': False, 'clustering_model__n_clusters': 6, 'clustering_model__estimators__0__n_estimators': 77, 'clustering_model__estimators__0__max_depth': 20, 'clustering_model__estimators__0__min_samples_split': 7, 'clustering_model__estimators__0__min_samples_leaf': 22, 'clustering_model__estimators__1__max_depth': 50, 'clustering_model__estimators__1__lambda': 0.2, 'clustering_model__estimators__1__n_estimators': 30, 'clustering_model__estimators__1__eta': 0.12, 'clustering_model__estimators__1__alpha': 0.8400000000000001, 'clustering_model__estimators__2__n_estimators': 54, 'clustering_model__estimators__2__max_depth': 50, 'clustering_model__estimators__2__min_samples_split': 20, 'clustering_model__estimators__2__min_samples_leaf': 22, 'clustering_model__estimators__3__max_depth': 20, 'clustering_model__estimators__3__lambda': 0.2, 'clustering_model__estimators__3__n_estimators': 50, 'clustering_model__estimators__3__eta': 0.06, 'clustering_model__estimators__3__alpha': 0.6100000000000001, 'clustering_model__estimators__4__n_estimators': 80, 'clustering_model__estimators__4__max_depth': 3, 'clustering_model__estimators__4__min_samples_split': 11, 'clustering_model__estimators__4__min_samples_leaf': 10, 'clustering_model__estimators__5__max_depth': None, 'clustering_model__estimators__5__lambda': 0.30000000000000004, 'clustering_model__estimators__5__n_estimators': 180, 'clustering_model__estimators__5__eta': 0.26, 'clustering_model__estimators__5__alpha': 0.8900000000000001}. Best is trial 1 with value: -233212.36693375115.\n"
     ]
    },
    {
     "name": "stdout",
     "output_type": "stream",
     "text": [
      "Clusters weights (proportions): [0.25495809 0.04470797 0.58897294 0.01356233 0.09534519 0.00245349]\n",
      "Clusters weights (proportions): [0.25596293 0.59159057 0.09370315 0.01315251 0.04327382 0.00231702]\n",
      "Clusters weights (proportions): [0.58770615 0.04559084 0.09302167 0.25807551 0.00218073 0.01342511]\n",
      "Clusters weights (proportions): [0.00218073 0.25514515 0.04347826 0.09908682 0.58682023 0.01328881]\n"
     ]
    },
    {
     "name": "stderr",
     "output_type": "stream",
     "text": [
      "[I 2024-04-17 10:44:48,569] Trial 3 finished with value: -677649.2371008317 and parameters: {'preprocessing__quant__imputer__method': 'simple_mean', 'preprocessing__cat__imputer__method': 'simple_most_frequent', 'preprocessing__quant__scaler__apply': True, 'preprocessing__cat__encoder__method': 'ordinal', 'features_selector__apply': True, 'features_selector__method': 'Percentile_f_reg', 'features_selector__percentile': 50, 'preprocessing__quant__scaler__method': 'min-max', 'clustering_model__n_clusters': 6, 'clustering_model__estimators__0__n_estimators': 66, 'clustering_model__estimators__0__max_depth': 50, 'clustering_model__estimators__0__min_samples_split': 19, 'clustering_model__estimators__0__min_samples_leaf': 24, 'clustering_model__estimators__1__max_depth': 50, 'clustering_model__estimators__1__lambda': 0.1, 'clustering_model__estimators__1__n_estimators': 50, 'clustering_model__estimators__1__eta': 0.26, 'clustering_model__estimators__1__alpha': 0.33, 'clustering_model__estimators__2__n_estimators': 95, 'clustering_model__estimators__2__max_depth': 7, 'clustering_model__estimators__2__min_samples_split': 13, 'clustering_model__estimators__2__min_samples_leaf': 8, 'clustering_model__estimators__3__max_depth': 5, 'clustering_model__estimators__3__lambda': 0.30000000000000004, 'clustering_model__estimators__3__n_estimators': 100, 'clustering_model__estimators__3__eta': 0.26, 'clustering_model__estimators__3__alpha': 0.45, 'clustering_model__estimators__4__n_estimators': 106, 'clustering_model__estimators__4__max_depth': 7, 'clustering_model__estimators__4__min_samples_split': 16, 'clustering_model__estimators__4__min_samples_leaf': 13, 'clustering_model__estimators__5__max_depth': 30, 'clustering_model__estimators__5__lambda': 0.1, 'clustering_model__estimators__5__n_estimators': 180, 'clustering_model__estimators__5__eta': 0.24, 'clustering_model__estimators__5__alpha': 0.62}. Best is trial 1 with value: -233212.36693375115.\n"
     ]
    },
    {
     "name": "stdout",
     "output_type": "stream",
     "text": [
      "Clusters weights (proportions): [0.10059293 0.60873714 0.0356437  0.24998296 0.00504328]\n",
      "Clusters weights (proportions): [0.6087638  0.09636091 0.25146518 0.00817773 0.03523238]\n",
      "Clusters weights (proportions): [0.25630367 0.04470492 0.09772387 0.59097724 0.01029031]\n",
      "Clusters weights (proportions): [0.59084094 0.09874608 0.01022216 0.04490936 0.25528145]\n"
     ]
    },
    {
     "name": "stderr",
     "output_type": "stream",
     "text": [
      "[I 2024-04-17 10:45:28,917] Trial 4 finished with value: -232560.74307087244 and parameters: {'preprocessing__quant__imputer__method': 'iterative_mean', 'preprocessing__cat__imputer__method': 'simple_most_frequent', 'preprocessing__quant__scaler__apply': False, 'preprocessing__cat__encoder__method': 'ordinal', 'features_selector__apply': True, 'features_selector__method': 'Fdr_f_reg', 'clustering_model__n_clusters': 5, 'clustering_model__estimators__0__n_estimators': 104, 'clustering_model__estimators__0__max_depth': 7, 'clustering_model__estimators__0__min_samples_split': 5, 'clustering_model__estimators__0__min_samples_leaf': 5, 'clustering_model__estimators__1__max_depth': 3, 'clustering_model__estimators__1__lambda': 0.0, 'clustering_model__estimators__1__n_estimators': 50, 'clustering_model__estimators__1__eta': 0.08, 'clustering_model__estimators__1__alpha': 0.32, 'clustering_model__estimators__2__n_estimators': 98, 'clustering_model__estimators__2__max_depth': 10, 'clustering_model__estimators__2__min_samples_split': 12, 'clustering_model__estimators__2__min_samples_leaf': 23, 'clustering_model__estimators__3__max_depth': 10, 'clustering_model__estimators__3__lambda': 0.2, 'clustering_model__estimators__3__n_estimators': 70, 'clustering_model__estimators__3__eta': 0.04, 'clustering_model__estimators__3__alpha': 0.99, 'clustering_model__estimators__4__n_estimators': 51, 'clustering_model__estimators__4__max_depth': None, 'clustering_model__estimators__4__min_samples_split': 11, 'clustering_model__estimators__4__min_samples_leaf': 8}. Best is trial 4 with value: -232560.74307087244.\n"
     ]
    },
    {
     "name": "stdout",
     "output_type": "stream",
     "text": [
      "Clusters weights (proportions): [0.88393648 0.11606352]\n",
      "Clusters weights (proportions): [0.88278588 0.11721412]\n",
      "Clusters weights (proportions): [0.1161919 0.8838081]\n",
      "Clusters weights (proportions): [0.88483031 0.11516969]\n"
     ]
    },
    {
     "name": "stderr",
     "output_type": "stream",
     "text": [
      "[I 2024-04-17 10:46:29,700] Trial 5 finished with value: -202302.06258987924 and parameters: {'preprocessing__quant__imputer__method': 'simple_median', 'preprocessing__cat__imputer__method': 'simple_most_frequent', 'preprocessing__quant__scaler__apply': False, 'preprocessing__cat__encoder__method': 'ordinal', 'features_selector__apply': False, 'clustering_model__n_clusters': 2, 'clustering_model__estimators__0__n_estimators': 75, 'clustering_model__estimators__0__max_depth': 7, 'clustering_model__estimators__0__min_samples_split': 16, 'clustering_model__estimators__0__min_samples_leaf': 23, 'clustering_model__estimators__1__max_depth': 5, 'clustering_model__estimators__1__lambda': 0.30000000000000004, 'clustering_model__estimators__1__n_estimators': 50, 'clustering_model__estimators__1__eta': 0.24, 'clustering_model__estimators__1__alpha': 0.43000000000000005}. Best is trial 5 with value: -202302.06258987924.\n"
     ]
    },
    {
     "name": "stdout",
     "output_type": "stream",
     "text": [
      "Clusters weights (proportions): [0.88393648 0.11606352]\n",
      "Clusters weights (proportions): [0.88278588 0.11721412]\n",
      "Clusters weights (proportions): [0.1161919 0.8838081]\n",
      "Clusters weights (proportions): [0.88483031 0.11516969]\n"
     ]
    },
    {
     "name": "stderr",
     "output_type": "stream",
     "text": [
      "[I 2024-04-17 10:47:13,267] Trial 6 finished with value: -417101.8450469277 and parameters: {'preprocessing__quant__imputer__method': 'simple_median', 'preprocessing__cat__imputer__method': 'simple_most_frequent', 'preprocessing__quant__scaler__apply': True, 'preprocessing__cat__encoder__method': 'one-hot', 'features_selector__apply': True, 'features_selector__method': 'Fdr_f_reg', 'preprocessing__quant__scaler__method': 'min-max', 'clustering_model__n_clusters': 2, 'clustering_model__estimators__0__n_estimators': 52, 'clustering_model__estimators__0__max_depth': 30, 'clustering_model__estimators__0__min_samples_split': 6, 'clustering_model__estimators__0__min_samples_leaf': 17, 'clustering_model__estimators__1__max_depth': 3, 'clustering_model__estimators__1__lambda': 0.30000000000000004, 'clustering_model__estimators__1__n_estimators': 30, 'clustering_model__estimators__1__eta': 0.06, 'clustering_model__estimators__1__alpha': 0.27}. Best is trial 5 with value: -202302.06258987924.\n"
     ]
    },
    {
     "name": "stdout",
     "output_type": "stream",
     "text": [
      "Clusters weights (proportions): [0.10059293 0.60873714 0.0356437  0.24998296 0.00504328]\n",
      "Clusters weights (proportions): [0.6087638  0.09636091 0.25146518 0.00817773 0.03523238]\n",
      "Clusters weights (proportions): [0.25630367 0.04470492 0.09772387 0.59097724 0.01029031]\n",
      "Clusters weights (proportions): [0.59084094 0.09874608 0.01022216 0.04490936 0.25528145]\n"
     ]
    },
    {
     "name": "stderr",
     "output_type": "stream",
     "text": [
      "[I 2024-04-17 10:48:24,567] Trial 7 finished with value: -579951.4026231801 and parameters: {'preprocessing__quant__imputer__method': 'simple_median', 'preprocessing__cat__imputer__method': 'simple_most_frequent', 'preprocessing__quant__scaler__apply': True, 'preprocessing__cat__encoder__method': 'one-hot', 'features_selector__apply': True, 'features_selector__method': 'Percentile_f_reg', 'features_selector__percentile': 50, 'preprocessing__quant__scaler__method': 'min-max', 'clustering_model__n_clusters': 5, 'clustering_model__estimators__0__n_estimators': 74, 'clustering_model__estimators__0__max_depth': 20, 'clustering_model__estimators__0__min_samples_split': 11, 'clustering_model__estimators__0__min_samples_leaf': 15, 'clustering_model__estimators__1__max_depth': 3, 'clustering_model__estimators__1__lambda': 0.30000000000000004, 'clustering_model__estimators__1__n_estimators': 50, 'clustering_model__estimators__1__eta': 0.18, 'clustering_model__estimators__1__alpha': 0.55, 'clustering_model__estimators__2__n_estimators': 61, 'clustering_model__estimators__2__max_depth': 50, 'clustering_model__estimators__2__min_samples_split': 9, 'clustering_model__estimators__2__min_samples_leaf': 18, 'clustering_model__estimators__3__max_depth': 30, 'clustering_model__estimators__3__lambda': 0.1, 'clustering_model__estimators__3__n_estimators': 50, 'clustering_model__estimators__3__eta': 0.08, 'clustering_model__estimators__3__alpha': 0.55, 'clustering_model__estimators__4__n_estimators': 77, 'clustering_model__estimators__4__max_depth': 30, 'clustering_model__estimators__4__min_samples_split': 7, 'clustering_model__estimators__4__min_samples_leaf': 10}. Best is trial 5 with value: -202302.06258987924.\n"
     ]
    },
    {
     "name": "stdout",
     "output_type": "stream",
     "text": [
      "Clusters weights (proportions): [0.88393648 0.11606352]\n",
      "Clusters weights (proportions): [0.88278588 0.11721412]\n",
      "Clusters weights (proportions): [0.1161919 0.8838081]\n",
      "Clusters weights (proportions): [0.88483031 0.11516969]\n"
     ]
    },
    {
     "name": "stderr",
     "output_type": "stream",
     "text": [
      "[I 2024-04-17 10:49:51,085] Trial 8 finished with value: -348535.27964355925 and parameters: {'preprocessing__quant__imputer__method': 'iterative_mean', 'preprocessing__cat__imputer__method': 'simple_most_frequent', 'preprocessing__quant__scaler__apply': True, 'preprocessing__cat__encoder__method': 'one-hot', 'features_selector__apply': False, 'preprocessing__quant__scaler__method': 'min-max', 'clustering_model__n_clusters': 2, 'clustering_model__estimators__0__n_estimators': 81, 'clustering_model__estimators__0__max_depth': 10, 'clustering_model__estimators__0__min_samples_split': 22, 'clustering_model__estimators__0__min_samples_leaf': 19, 'clustering_model__estimators__1__max_depth': 50, 'clustering_model__estimators__1__lambda': 0.30000000000000004, 'clustering_model__estimators__1__n_estimators': 180, 'clustering_model__estimators__1__eta': 0.2, 'clustering_model__estimators__1__alpha': 0.53}. Best is trial 5 with value: -202302.06258987924.\n"
     ]
    },
    {
     "name": "stdout",
     "output_type": "stream",
     "text": [
      "Clusters weights (proportions): [0.20561576 0.71226061 0.01349417 0.06862946]\n",
      "Clusters weights (proportions): [0.21807278 0.67916042 0.01546954 0.08729726]\n",
      "Clusters weights (proportions): [0.20498841 0.70505656 0.0151288  0.07482622]\n",
      "Clusters weights (proportions): [0.20444323 0.70941802 0.0151288  0.07100995]\n"
     ]
    },
    {
     "name": "stderr",
     "output_type": "stream",
     "text": [
      "[I 2024-04-17 10:50:38,953] Trial 9 finished with value: -492801.7461159933 and parameters: {'preprocessing__quant__imputer__method': 'iterative_median', 'preprocessing__cat__imputer__method': 'simple_most_frequent', 'preprocessing__quant__scaler__apply': True, 'preprocessing__cat__encoder__method': 'one-hot', 'features_selector__apply': True, 'features_selector__method': 'Percentile_f_reg', 'features_selector__percentile': 50, 'preprocessing__quant__scaler__method': 'min-max', 'clustering_model__n_clusters': 4, 'clustering_model__estimators__0__n_estimators': 76, 'clustering_model__estimators__0__max_depth': 50, 'clustering_model__estimators__0__min_samples_split': 15, 'clustering_model__estimators__0__min_samples_leaf': 3, 'clustering_model__estimators__1__max_depth': 7, 'clustering_model__estimators__1__lambda': 0.4, 'clustering_model__estimators__1__n_estimators': 50, 'clustering_model__estimators__1__eta': 0.2, 'clustering_model__estimators__1__alpha': 0.97, 'clustering_model__estimators__2__n_estimators': 117, 'clustering_model__estimators__2__max_depth': 3, 'clustering_model__estimators__2__min_samples_split': 5, 'clustering_model__estimators__2__min_samples_leaf': 22, 'clustering_model__estimators__3__max_depth': 3, 'clustering_model__estimators__3__lambda': 0.4, 'clustering_model__estimators__3__n_estimators': 30, 'clustering_model__estimators__3__eta': 0.06, 'clustering_model__estimators__3__alpha': 0.6799999999999999}. Best is trial 5 with value: -202302.06258987924.\n"
     ]
    },
    {
     "name": "stdout",
     "output_type": "stream",
     "text": [
      "Clusters weights (proportions): [0.45818851 0.07653513 0.04498058 0.00913242 0.13834935 0.02262659\n",
      " 0.00170381 0.24848361]\n",
      "Clusters weights (proportions): [0.45952024 0.04116124 0.07387215 0.00231702 0.14304212 0.00940439\n",
      " 0.24955704 0.0211258 ]\n",
      "Clusters weights (proportions): [0.46660761 0.03973013 0.14017991 0.00211258 0.02248876 0.07489437\n",
      " 0.24444596 0.00954068]\n",
      "Clusters weights (proportions): [0.4591795  0.04456862 0.1373177  0.00947254 0.02207987 0.07557585\n",
      " 0.00129481 0.25051111]\n"
     ]
    },
    {
     "name": "stderr",
     "output_type": "stream",
     "text": [
      "[I 2024-04-17 10:52:13,649] Trial 10 finished with value: -254045.50548312286 and parameters: {'preprocessing__quant__imputer__method': 'iterative_median', 'preprocessing__cat__imputer__method': 'simple_most_frequent', 'preprocessing__quant__scaler__apply': False, 'preprocessing__cat__encoder__method': 'ordinal', 'features_selector__apply': False, 'clustering_model__n_clusters': 8, 'clustering_model__estimators__0__n_estimators': 93, 'clustering_model__estimators__0__max_depth': 3, 'clustering_model__estimators__0__min_samples_split': 23, 'clustering_model__estimators__0__min_samples_leaf': 11, 'clustering_model__estimators__1__max_depth': 5, 'clustering_model__estimators__1__lambda': 0.2, 'clustering_model__estimators__1__n_estimators': 70, 'clustering_model__estimators__1__eta': 0.3, 'clustering_model__estimators__1__alpha': 0.43000000000000005, 'clustering_model__estimators__2__n_estimators': 75, 'clustering_model__estimators__2__max_depth': 30, 'clustering_model__estimators__2__min_samples_split': 23, 'clustering_model__estimators__2__min_samples_leaf': 11, 'clustering_model__estimators__3__max_depth': 50, 'clustering_model__estimators__3__lambda': 0.5, 'clustering_model__estimators__3__n_estimators': 150, 'clustering_model__estimators__3__eta': 0.3, 'clustering_model__estimators__3__alpha': 0.2, 'clustering_model__estimators__4__n_estimators': 117, 'clustering_model__estimators__4__max_depth': 5, 'clustering_model__estimators__4__min_samples_split': 25, 'clustering_model__estimators__4__min_samples_leaf': 25, 'clustering_model__estimators__5__max_depth': 7, 'clustering_model__estimators__5__lambda': 0.5, 'clustering_model__estimators__5__n_estimators': 100, 'clustering_model__estimators__5__eta': 0.0, 'clustering_model__estimators__5__alpha': 0.22, 'clustering_model__estimators__6__n_estimators': 120, 'clustering_model__estimators__6__max_depth': 20, 'clustering_model__estimators__6__min_samples_split': 22, 'clustering_model__estimators__6__min_samples_leaf': 17, 'clustering_model__estimators__7__max_depth': 3, 'clustering_model__estimators__7__lambda': 0.0, 'clustering_model__estimators__7__n_estimators': 70, 'clustering_model__estimators__7__eta': 0.02, 'clustering_model__estimators__7__alpha': 0.6000000000000001}. Best is trial 5 with value: -202302.06258987924.\n"
     ]
    },
    {
     "name": "stdout",
     "output_type": "stream",
     "text": [
      "Clusters weights (proportions): [0.45818851 0.07653513 0.04498058 0.00913242 0.13834935 0.02262659\n",
      " 0.00170381 0.24848361]\n",
      "Clusters weights (proportions): [0.45952024 0.04116124 0.07387215 0.00231702 0.14304212 0.00940439\n",
      " 0.24955704 0.0211258 ]\n",
      "Clusters weights (proportions): [0.46660761 0.03973013 0.14017991 0.00211258 0.02248876 0.07489437\n",
      " 0.24444596 0.00954068]\n",
      "Clusters weights (proportions): [0.4591795  0.04456862 0.1373177  0.00947254 0.02207987 0.07557585\n",
      " 0.00129481 0.25051111]\n"
     ]
    },
    {
     "name": "stderr",
     "output_type": "stream",
     "text": [
      "[I 2024-04-17 10:53:08,568] Trial 11 finished with value: -250161.0202415706 and parameters: {'preprocessing__quant__imputer__method': 'iterative_mean', 'preprocessing__cat__imputer__method': 'simple_most_frequent', 'preprocessing__quant__scaler__apply': False, 'preprocessing__cat__encoder__method': 'ordinal', 'features_selector__apply': False, 'clustering_model__n_clusters': 8, 'clustering_model__estimators__0__n_estimators': 117, 'clustering_model__estimators__0__max_depth': 7, 'clustering_model__estimators__0__min_samples_split': 2, 'clustering_model__estimators__0__min_samples_leaf': 3, 'clustering_model__estimators__1__max_depth': 5, 'clustering_model__estimators__1__lambda': 0.0, 'clustering_model__estimators__1__n_estimators': 100, 'clustering_model__estimators__1__eta': 0.14, 'clustering_model__estimators__1__alpha': 0.2, 'clustering_model__estimators__2__n_estimators': 101, 'clustering_model__estimators__2__max_depth': 10, 'clustering_model__estimators__2__min_samples_split': 16, 'clustering_model__estimators__2__min_samples_leaf': 25, 'clustering_model__estimators__3__max_depth': 10, 'clustering_model__estimators__3__lambda': 0.2, 'clustering_model__estimators__3__n_estimators': 70, 'clustering_model__estimators__3__eta': 0.0, 'clustering_model__estimators__3__alpha': 1.0, 'clustering_model__estimators__4__n_estimators': 51, 'clustering_model__estimators__4__max_depth': None, 'clustering_model__estimators__4__min_samples_split': 2, 'clustering_model__estimators__4__min_samples_leaf': 2, 'clustering_model__estimators__5__max_depth': 5, 'clustering_model__estimators__5__lambda': 0.0, 'clustering_model__estimators__5__n_estimators': 30, 'clustering_model__estimators__5__eta': 0.08, 'clustering_model__estimators__5__alpha': 0.22, 'clustering_model__estimators__6__n_estimators': 50, 'clustering_model__estimators__6__max_depth': None, 'clustering_model__estimators__6__min_samples_split': 2, 'clustering_model__estimators__6__min_samples_leaf': 3, 'clustering_model__estimators__7__max_depth': 20, 'clustering_model__estimators__7__lambda': 0.5, 'clustering_model__estimators__7__n_estimators': 50, 'clustering_model__estimators__7__eta': 0.3, 'clustering_model__estimators__7__alpha': 0.99}. Best is trial 5 with value: -202302.06258987924.\n"
     ]
    },
    {
     "name": "stdout",
     "output_type": "stream",
     "text": [
      "Clusters weights (proportions): [0.20561576 0.71226061 0.01349417 0.06862946]\n",
      "Clusters weights (proportions): [0.21807278 0.67916042 0.01546954 0.08729726]\n",
      "Clusters weights (proportions): [0.20498841 0.70505656 0.0151288  0.07482622]\n",
      "Clusters weights (proportions): [0.20444323 0.70941802 0.0151288  0.07100995]\n"
     ]
    },
    {
     "name": "stderr",
     "output_type": "stream",
     "text": [
      "[I 2024-04-17 10:53:47,050] Trial 12 finished with value: -233805.10239800962 and parameters: {'preprocessing__quant__imputer__method': 'iterative_mean', 'preprocessing__cat__imputer__method': 'simple_most_frequent', 'preprocessing__quant__scaler__apply': False, 'preprocessing__cat__encoder__method': 'ordinal', 'features_selector__apply': True, 'features_selector__method': 'Fdr_f_reg', 'clustering_model__n_clusters': 4, 'clustering_model__estimators__0__n_estimators': 95, 'clustering_model__estimators__0__max_depth': 7, 'clustering_model__estimators__0__min_samples_split': 17, 'clustering_model__estimators__0__min_samples_leaf': 7, 'clustering_model__estimators__1__max_depth': None, 'clustering_model__estimators__1__lambda': 0.5, 'clustering_model__estimators__1__n_estimators': 50, 'clustering_model__estimators__1__eta': 0.26, 'clustering_model__estimators__1__alpha': 0.4, 'clustering_model__estimators__2__n_estimators': 119, 'clustering_model__estimators__2__max_depth': 40, 'clustering_model__estimators__2__min_samples_split': 13, 'clustering_model__estimators__2__min_samples_leaf': 16, 'clustering_model__estimators__3__max_depth': 10, 'clustering_model__estimators__3__lambda': 0.0, 'clustering_model__estimators__3__n_estimators': 180, 'clustering_model__estimators__3__eta': 0.2, 'clustering_model__estimators__3__alpha': 1.0}. Best is trial 5 with value: -202302.06258987924.\n"
     ]
    },
    {
     "name": "stdout",
     "output_type": "stream",
     "text": [
      "Clusters weights (proportions): [0.14836775 0.81864649 0.03298576]\n",
      "Clusters weights (proportions): [0.81940848 0.03277907 0.14781246]\n",
      "Clusters weights (proportions): [0.83269729 0.13391032 0.03339239]\n",
      "Clusters weights (proportions): [0.81961292 0.14760801 0.03277907]\n"
     ]
    },
    {
     "name": "stderr",
     "output_type": "stream",
     "text": [
      "[I 2024-04-17 10:54:48,081] Trial 13 finished with value: -237967.7499672505 and parameters: {'preprocessing__quant__imputer__method': 'simple_median', 'preprocessing__cat__imputer__method': 'simple_most_frequent', 'preprocessing__quant__scaler__apply': False, 'preprocessing__cat__encoder__method': 'ordinal', 'features_selector__apply': False, 'clustering_model__n_clusters': 3, 'clustering_model__estimators__0__n_estimators': 120, 'clustering_model__estimators__0__max_depth': 7, 'clustering_model__estimators__0__min_samples_split': 11, 'clustering_model__estimators__0__min_samples_leaf': 12, 'clustering_model__estimators__1__max_depth': 40, 'clustering_model__estimators__1__lambda': 0.0, 'clustering_model__estimators__1__n_estimators': 50, 'clustering_model__estimators__1__eta': 0.0, 'clustering_model__estimators__1__alpha': 0.44, 'clustering_model__estimators__2__n_estimators': 83, 'clustering_model__estimators__2__max_depth': 10, 'clustering_model__estimators__2__min_samples_split': 18, 'clustering_model__estimators__2__min_samples_leaf': 14}. Best is trial 5 with value: -202302.06258987924.\n"
     ]
    },
    {
     "name": "stdout",
     "output_type": "stream",
     "text": [
      "Clusters weights (proportions): [0.25495809 0.04470797 0.58897294 0.01356233 0.09534519 0.00245349]\n",
      "Clusters weights (proportions): [0.25596293 0.59159057 0.09370315 0.01315251 0.04327382 0.00231702]\n",
      "Clusters weights (proportions): [0.58770615 0.04559084 0.09302167 0.25807551 0.00218073 0.01342511]\n",
      "Clusters weights (proportions): [0.00218073 0.25514515 0.04347826 0.09908682 0.58682023 0.01328881]\n"
     ]
    },
    {
     "name": "stderr",
     "output_type": "stream",
     "text": [
      "[I 2024-04-17 10:55:28,542] Trial 14 finished with value: -250350.66633445764 and parameters: {'preprocessing__quant__imputer__method': 'iterative_mean', 'preprocessing__cat__imputer__method': 'simple_most_frequent', 'preprocessing__quant__scaler__apply': False, 'preprocessing__cat__encoder__method': 'ordinal', 'features_selector__apply': True, 'features_selector__method': 'KBest_f_reg', 'features_selector__k': 3, 'clustering_model__n_clusters': 6, 'clustering_model__estimators__0__n_estimators': 103, 'clustering_model__estimators__0__max_depth': None, 'clustering_model__estimators__0__min_samples_split': 4, 'clustering_model__estimators__0__min_samples_leaf': 6, 'clustering_model__estimators__1__max_depth': 30, 'clustering_model__estimators__1__lambda': 0.1, 'clustering_model__estimators__1__n_estimators': 180, 'clustering_model__estimators__1__eta': 0.08, 'clustering_model__estimators__1__alpha': 0.65, 'clustering_model__estimators__2__n_estimators': 104, 'clustering_model__estimators__2__max_depth': 5, 'clustering_model__estimators__2__min_samples_split': 2, 'clustering_model__estimators__2__min_samples_leaf': 20, 'clustering_model__estimators__3__max_depth': None, 'clustering_model__estimators__3__lambda': 0.30000000000000004, 'clustering_model__estimators__3__n_estimators': 70, 'clustering_model__estimators__3__eta': 0.0, 'clustering_model__estimators__3__alpha': 0.8200000000000001, 'clustering_model__estimators__4__n_estimators': 50, 'clustering_model__estimators__4__max_depth': 10, 'clustering_model__estimators__4__min_samples_split': 19, 'clustering_model__estimators__4__min_samples_leaf': 2, 'clustering_model__estimators__5__max_depth': 3, 'clustering_model__estimators__5__lambda': 0.4, 'clustering_model__estimators__5__n_estimators': 150, 'clustering_model__estimators__5__eta': 0.14, 'clustering_model__estimators__5__alpha': 0.9000000000000001}. Best is trial 5 with value: -202302.06258987924.\n"
     ]
    },
    {
     "name": "stdout",
     "output_type": "stream",
     "text": [
      "Clusters weights (proportions): [0.48776665 0.04361753 0.13146596 0.00245349 0.01356233 0.24446262\n",
      " 0.07667144]\n",
      "Clusters weights (proportions): [0.51083549 0.03945754 0.24042524 0.00272591 0.12109854 0.07271364\n",
      " 0.01274363]\n",
      "Clusters weights (proportions): [0.24485485 0.01342511 0.07230476 0.49516151 0.04075235 0.1313207\n",
      " 0.00218073]\n",
      "Clusters weights (proportions): [0.25057926 0.08061878 0.01294807 0.00252147 0.13016219 0.48050975\n",
      " 0.04266049]\n"
     ]
    },
    {
     "name": "stderr",
     "output_type": "stream",
     "text": [
      "[I 2024-04-17 10:56:37,585] Trial 15 finished with value: -243894.9786423249 and parameters: {'preprocessing__quant__imputer__method': 'simple_median', 'preprocessing__cat__imputer__method': 'simple_most_frequent', 'preprocessing__quant__scaler__apply': False, 'preprocessing__cat__encoder__method': 'ordinal', 'features_selector__apply': False, 'clustering_model__n_clusters': 7, 'clustering_model__estimators__0__n_estimators': 89, 'clustering_model__estimators__0__max_depth': 7, 'clustering_model__estimators__0__min_samples_split': 11, 'clustering_model__estimators__0__min_samples_leaf': 21, 'clustering_model__estimators__1__max_depth': 20, 'clustering_model__estimators__1__lambda': 0.4, 'clustering_model__estimators__1__n_estimators': 70, 'clustering_model__estimators__1__eta': 0.24, 'clustering_model__estimators__1__alpha': 0.32, 'clustering_model__estimators__2__n_estimators': 73, 'clustering_model__estimators__2__max_depth': None, 'clustering_model__estimators__2__min_samples_split': 10, 'clustering_model__estimators__2__min_samples_leaf': 2, 'clustering_model__estimators__3__max_depth': 10, 'clustering_model__estimators__3__lambda': 0.1, 'clustering_model__estimators__3__n_estimators': 70, 'clustering_model__estimators__3__eta': 0.16, 'clustering_model__estimators__3__alpha': 0.8, 'clustering_model__estimators__4__n_estimators': 65, 'clustering_model__estimators__4__max_depth': 20, 'clustering_model__estimators__4__min_samples_split': 10, 'clustering_model__estimators__4__min_samples_leaf': 22, 'clustering_model__estimators__5__max_depth': 20, 'clustering_model__estimators__5__lambda': 0.2, 'clustering_model__estimators__5__n_estimators': 70, 'clustering_model__estimators__5__eta': 0.3, 'clustering_model__estimators__5__alpha': 0.53, 'clustering_model__estimators__6__n_estimators': 84, 'clustering_model__estimators__6__max_depth': 10, 'clustering_model__estimators__6__min_samples_split': 8, 'clustering_model__estimators__6__min_samples_leaf': 23}. Best is trial 5 with value: -202302.06258987924.\n"
     ]
    },
    {
     "name": "stdout",
     "output_type": "stream",
     "text": [
      "Clusters weights (proportions): [0.14836775 0.81864649 0.03298576]\n",
      "Clusters weights (proportions): [0.81940848 0.03277907 0.14781246]\n",
      "Clusters weights (proportions): [0.83269729 0.13391032 0.03339239]\n",
      "Clusters weights (proportions): [0.81961292 0.14760801 0.03277907]\n"
     ]
    },
    {
     "name": "stderr",
     "output_type": "stream",
     "text": [
      "[I 2024-04-17 10:57:42,737] Trial 16 finished with value: -212077.03064894924 and parameters: {'preprocessing__quant__imputer__method': 'iterative_mean', 'preprocessing__cat__imputer__method': 'simple_most_frequent', 'preprocessing__quant__scaler__apply': False, 'preprocessing__cat__encoder__method': 'ordinal', 'features_selector__apply': False, 'clustering_model__n_clusters': 3, 'clustering_model__estimators__0__n_estimators': 107, 'clustering_model__estimators__0__max_depth': 7, 'clustering_model__estimators__0__min_samples_split': 19, 'clustering_model__estimators__0__min_samples_leaf': 6, 'clustering_model__estimators__1__max_depth': 5, 'clustering_model__estimators__1__lambda': 0.2, 'clustering_model__estimators__1__n_estimators': 100, 'clustering_model__estimators__1__eta': 0.04, 'clustering_model__estimators__1__alpha': 0.49, 'clustering_model__estimators__2__n_estimators': 89, 'clustering_model__estimators__2__max_depth': 10, 'clustering_model__estimators__2__min_samples_split': 24, 'clustering_model__estimators__2__min_samples_leaf': 25}. Best is trial 5 with value: -202302.06258987924.\n"
     ]
    },
    {
     "name": "stdout",
     "output_type": "stream",
     "text": [
      "Clusters weights (proportions): [0.14836775 0.81864649 0.03298576]\n",
      "Clusters weights (proportions): [0.81940848 0.03277907 0.14781246]\n",
      "Clusters weights (proportions): [0.83269729 0.13391032 0.03339239]\n",
      "Clusters weights (proportions): [0.81961292 0.14760801 0.03277907]\n"
     ]
    },
    {
     "name": "stderr",
     "output_type": "stream",
     "text": [
      "[I 2024-04-17 10:58:45,031] Trial 17 finished with value: -210509.53974377405 and parameters: {'preprocessing__quant__imputer__method': 'iterative_median', 'preprocessing__cat__imputer__method': 'simple_most_frequent', 'preprocessing__quant__scaler__apply': False, 'preprocessing__cat__encoder__method': 'ordinal', 'features_selector__apply': False, 'clustering_model__n_clusters': 3, 'clustering_model__estimators__0__n_estimators': 63, 'clustering_model__estimators__0__max_depth': None, 'clustering_model__estimators__0__min_samples_split': 19, 'clustering_model__estimators__0__min_samples_leaf': 24, 'clustering_model__estimators__1__max_depth': 5, 'clustering_model__estimators__1__lambda': 0.2, 'clustering_model__estimators__1__n_estimators': 100, 'clustering_model__estimators__1__eta': 0.3, 'clustering_model__estimators__1__alpha': 0.5, 'clustering_model__estimators__2__n_estimators': 87, 'clustering_model__estimators__2__max_depth': 7, 'clustering_model__estimators__2__min_samples_split': 25, 'clustering_model__estimators__2__min_samples_leaf': 10}. Best is trial 5 with value: -202302.06258987924.\n"
     ]
    },
    {
     "name": "stdout",
     "output_type": "stream",
     "text": [
      "Clusters weights (proportions): [0.14836775 0.81864649 0.03298576]\n",
      "Clusters weights (proportions): [0.81940848 0.03277907 0.14781246]\n",
      "Clusters weights (proportions): [0.83269729 0.13391032 0.03339239]\n",
      "Clusters weights (proportions): [0.81961292 0.14760801 0.03277907]\n"
     ]
    },
    {
     "name": "stderr",
     "output_type": "stream",
     "text": [
      "[I 2024-04-17 10:59:38,580] Trial 18 finished with value: -209860.48246391982 and parameters: {'preprocessing__quant__imputer__method': 'iterative_median', 'preprocessing__cat__imputer__method': 'simple_most_frequent', 'preprocessing__quant__scaler__apply': False, 'preprocessing__cat__encoder__method': 'ordinal', 'features_selector__apply': False, 'clustering_model__n_clusters': 3, 'clustering_model__estimators__0__n_estimators': 66, 'clustering_model__estimators__0__max_depth': None, 'clustering_model__estimators__0__min_samples_split': 25, 'clustering_model__estimators__0__min_samples_leaf': 25, 'clustering_model__estimators__1__max_depth': 5, 'clustering_model__estimators__1__lambda': 0.5, 'clustering_model__estimators__1__n_estimators': 100, 'clustering_model__estimators__1__eta': 0.28, 'clustering_model__estimators__1__alpha': 0.72, 'clustering_model__estimators__2__n_estimators': 69, 'clustering_model__estimators__2__max_depth': 7, 'clustering_model__estimators__2__min_samples_split': 21, 'clustering_model__estimators__2__min_samples_leaf': 9}. Best is trial 5 with value: -202302.06258987924.\n"
     ]
    },
    {
     "name": "stdout",
     "output_type": "stream",
     "text": [
      "Clusters weights (proportions): [0.14836775 0.81864649 0.03298576]\n",
      "Clusters weights (proportions): [0.81940848 0.03277907 0.14781246]\n",
      "Clusters weights (proportions): [0.83269729 0.13391032 0.03339239]\n",
      "Clusters weights (proportions): [0.81961292 0.14760801 0.03277907]\n"
     ]
    },
    {
     "name": "stderr",
     "output_type": "stream",
     "text": [
      "[I 2024-04-17 11:00:30,534] Trial 19 finished with value: -209581.98706656983 and parameters: {'preprocessing__quant__imputer__method': 'iterative_median', 'preprocessing__cat__imputer__method': 'simple_most_frequent', 'preprocessing__quant__scaler__apply': False, 'preprocessing__cat__encoder__method': 'ordinal', 'features_selector__apply': False, 'clustering_model__n_clusters': 3, 'clustering_model__estimators__0__n_estimators': 69, 'clustering_model__estimators__0__max_depth': None, 'clustering_model__estimators__0__min_samples_split': 25, 'clustering_model__estimators__0__min_samples_leaf': 25, 'clustering_model__estimators__1__max_depth': 5, 'clustering_model__estimators__1__lambda': 0.5, 'clustering_model__estimators__1__n_estimators': 100, 'clustering_model__estimators__1__eta': 0.24, 'clustering_model__estimators__1__alpha': 0.74, 'clustering_model__estimators__2__n_estimators': 65, 'clustering_model__estimators__2__max_depth': 7, 'clustering_model__estimators__2__min_samples_split': 21, 'clustering_model__estimators__2__min_samples_leaf': 6}. Best is trial 5 with value: -202302.06258987924.\n"
     ]
    },
    {
     "name": "stdout",
     "output_type": "stream",
     "text": [
      "Clusters weights (proportions): [0.88393648 0.11606352]\n",
      "Clusters weights (proportions): [0.88278588 0.11721412]\n",
      "Clusters weights (proportions): [0.1161919 0.8838081]\n",
      "Clusters weights (proportions): [0.88483031 0.11516969]\n"
     ]
    },
    {
     "name": "stderr",
     "output_type": "stream",
     "text": [
      "[I 2024-04-17 11:01:31,047] Trial 20 finished with value: -202705.2713145929 and parameters: {'preprocessing__quant__imputer__method': 'iterative_median', 'preprocessing__cat__imputer__method': 'simple_most_frequent', 'preprocessing__quant__scaler__apply': False, 'preprocessing__cat__encoder__method': 'ordinal', 'features_selector__apply': False, 'clustering_model__n_clusters': 2, 'clustering_model__estimators__0__n_estimators': 71, 'clustering_model__estimators__0__max_depth': 40, 'clustering_model__estimators__0__min_samples_split': 25, 'clustering_model__estimators__0__min_samples_leaf': 20, 'clustering_model__estimators__1__max_depth': 10, 'clustering_model__estimators__1__lambda': 0.5, 'clustering_model__estimators__1__n_estimators': 100, 'clustering_model__estimators__1__eta': 0.22, 'clustering_model__estimators__1__alpha': 0.95}. Best is trial 5 with value: -202302.06258987924.\n"
     ]
    },
    {
     "name": "stdout",
     "output_type": "stream",
     "text": [
      "Clusters weights (proportions): [0.88393648 0.11606352]\n",
      "Clusters weights (proportions): [0.88278588 0.11721412]\n",
      "Clusters weights (proportions): [0.1161919 0.8838081]\n",
      "Clusters weights (proportions): [0.88483031 0.11516969]\n"
     ]
    },
    {
     "name": "stderr",
     "output_type": "stream",
     "text": [
      "[I 2024-04-17 11:02:31,314] Trial 21 finished with value: -202857.2229523221 and parameters: {'preprocessing__quant__imputer__method': 'iterative_median', 'preprocessing__cat__imputer__method': 'simple_most_frequent', 'preprocessing__quant__scaler__apply': False, 'preprocessing__cat__encoder__method': 'ordinal', 'features_selector__apply': False, 'clustering_model__n_clusters': 2, 'clustering_model__estimators__0__n_estimators': 71, 'clustering_model__estimators__0__max_depth': 40, 'clustering_model__estimators__0__min_samples_split': 25, 'clustering_model__estimators__0__min_samples_leaf': 21, 'clustering_model__estimators__1__max_depth': 10, 'clustering_model__estimators__1__lambda': 0.5, 'clustering_model__estimators__1__n_estimators': 100, 'clustering_model__estimators__1__eta': 0.22, 'clustering_model__estimators__1__alpha': 0.99}. Best is trial 5 with value: -202302.06258987924.\n"
     ]
    },
    {
     "name": "stdout",
     "output_type": "stream",
     "text": [
      "Clusters weights (proportions): [0.88393648 0.11606352]\n",
      "Clusters weights (proportions): [0.88278588 0.11721412]\n",
      "Clusters weights (proportions): [0.1161919 0.8838081]\n",
      "Clusters weights (proportions): [0.88483031 0.11516969]\n"
     ]
    },
    {
     "name": "stderr",
     "output_type": "stream",
     "text": [
      "[I 2024-04-17 11:03:39,718] Trial 22 finished with value: -202628.56787212862 and parameters: {'preprocessing__quant__imputer__method': 'iterative_median', 'preprocessing__cat__imputer__method': 'simple_most_frequent', 'preprocessing__quant__scaler__apply': False, 'preprocessing__cat__encoder__method': 'ordinal', 'features_selector__apply': False, 'clustering_model__n_clusters': 2, 'clustering_model__estimators__0__n_estimators': 85, 'clustering_model__estimators__0__max_depth': 40, 'clustering_model__estimators__0__min_samples_split': 22, 'clustering_model__estimators__0__min_samples_leaf': 20, 'clustering_model__estimators__1__max_depth': 10, 'clustering_model__estimators__1__lambda': 0.4, 'clustering_model__estimators__1__n_estimators': 100, 'clustering_model__estimators__1__eta': 0.22, 'clustering_model__estimators__1__alpha': 0.99}. Best is trial 5 with value: -202302.06258987924.\n"
     ]
    },
    {
     "name": "stdout",
     "output_type": "stream",
     "text": [
      "Clusters weights (proportions): [0.88393648 0.11606352]\n",
      "Clusters weights (proportions): [0.88278588 0.11721412]\n",
      "Clusters weights (proportions): [0.1161919 0.8838081]\n",
      "Clusters weights (proportions): [0.88483031 0.11516969]\n"
     ]
    },
    {
     "name": "stderr",
     "output_type": "stream",
     "text": [
      "[I 2024-04-17 11:04:49,612] Trial 23 finished with value: -200990.2316958544 and parameters: {'preprocessing__quant__imputer__method': 'iterative_median', 'preprocessing__cat__imputer__method': 'simple_most_frequent', 'preprocessing__quant__scaler__apply': False, 'preprocessing__cat__encoder__method': 'ordinal', 'features_selector__apply': False, 'clustering_model__n_clusters': 2, 'clustering_model__estimators__0__n_estimators': 85, 'clustering_model__estimators__0__max_depth': 40, 'clustering_model__estimators__0__min_samples_split': 22, 'clustering_model__estimators__0__min_samples_leaf': 19, 'clustering_model__estimators__1__max_depth': 10, 'clustering_model__estimators__1__lambda': 0.4, 'clustering_model__estimators__1__n_estimators': 100, 'clustering_model__estimators__1__eta': 0.16, 'clustering_model__estimators__1__alpha': 0.9199999999999999}. Best is trial 23 with value: -200990.2316958544.\n"
     ]
    },
    {
     "name": "stdout",
     "output_type": "stream",
     "text": [
      "Clusters weights (proportions): [0.88393648 0.11606352]\n",
      "Clusters weights (proportions): [0.88278588 0.11721412]\n",
      "Clusters weights (proportions): [0.1161919 0.8838081]\n",
      "Clusters weights (proportions): [0.88483031 0.11516969]\n"
     ]
    },
    {
     "name": "stderr",
     "output_type": "stream",
     "text": [
      "[I 2024-04-17 11:05:59,199] Trial 24 finished with value: -200904.4107339673 and parameters: {'preprocessing__quant__imputer__method': 'iterative_median', 'preprocessing__cat__imputer__method': 'simple_most_frequent', 'preprocessing__quant__scaler__apply': False, 'preprocessing__cat__encoder__method': 'ordinal', 'features_selector__apply': False, 'clustering_model__n_clusters': 2, 'clustering_model__estimators__0__n_estimators': 85, 'clustering_model__estimators__0__max_depth': 40, 'clustering_model__estimators__0__min_samples_split': 21, 'clustering_model__estimators__0__min_samples_leaf': 18, 'clustering_model__estimators__1__max_depth': 10, 'clustering_model__estimators__1__lambda': 0.4, 'clustering_model__estimators__1__n_estimators': 100, 'clustering_model__estimators__1__eta': 0.16, 'clustering_model__estimators__1__alpha': 0.8900000000000001}. Best is trial 24 with value: -200904.4107339673.\n"
     ]
    },
    {
     "name": "stdout",
     "output_type": "stream",
     "text": [
      "Clusters weights (proportions): [0.20561576 0.71226061 0.01349417 0.06862946]\n",
      "Clusters weights (proportions): [0.21807278 0.67916042 0.01546954 0.08729726]\n",
      "Clusters weights (proportions): [0.20498841 0.70505656 0.0151288  0.07482622]\n",
      "Clusters weights (proportions): [0.20444323 0.70941802 0.0151288  0.07100995]\n"
     ]
    },
    {
     "name": "stderr",
     "output_type": "stream",
     "text": [
      "[I 2024-04-17 11:06:35,428] Trial 25 finished with value: -227373.97905778044 and parameters: {'preprocessing__quant__imputer__method': 'simple_median', 'preprocessing__cat__imputer__method': 'simple_most_frequent', 'preprocessing__quant__scaler__apply': False, 'preprocessing__cat__encoder__method': 'ordinal', 'features_selector__apply': False, 'clustering_model__n_clusters': 4, 'clustering_model__estimators__0__n_estimators': 83, 'clustering_model__estimators__0__max_depth': 40, 'clustering_model__estimators__0__min_samples_split': 17, 'clustering_model__estimators__0__min_samples_leaf': 18, 'clustering_model__estimators__1__max_depth': 10, 'clustering_model__estimators__1__lambda': 0.30000000000000004, 'clustering_model__estimators__1__n_estimators': 180, 'clustering_model__estimators__1__eta': 0.16, 'clustering_model__estimators__1__alpha': 0.8800000000000001, 'clustering_model__estimators__2__n_estimators': 109, 'clustering_model__estimators__2__max_depth': 30, 'clustering_model__estimators__2__min_samples_split': 17, 'clustering_model__estimators__2__min_samples_leaf': 15, 'clustering_model__estimators__3__max_depth': 7, 'clustering_model__estimators__3__lambda': 0.5, 'clustering_model__estimators__3__n_estimators': 180, 'clustering_model__estimators__3__eta': 0.24, 'clustering_model__estimators__3__alpha': 0.27}. Best is trial 24 with value: -200904.4107339673.\n"
     ]
    },
    {
     "name": "stdout",
     "output_type": "stream",
     "text": [
      "Clusters weights (proportions): [0.14836775 0.81864649 0.03298576]\n",
      "Clusters weights (proportions): [0.81940848 0.03277907 0.14781246]\n",
      "Clusters weights (proportions): [0.83269729 0.13391032 0.03339239]\n",
      "Clusters weights (proportions): [0.81961292 0.14760801 0.03277907]\n"
     ]
    },
    {
     "name": "stderr",
     "output_type": "stream",
     "text": [
      "[I 2024-04-17 11:07:55,365] Trial 26 finished with value: -212085.88533087473 and parameters: {'preprocessing__quant__imputer__method': 'iterative_median', 'preprocessing__cat__imputer__method': 'simple_most_frequent', 'preprocessing__quant__scaler__apply': False, 'preprocessing__cat__encoder__method': 'one-hot', 'features_selector__apply': False, 'clustering_model__n_clusters': 3, 'clustering_model__estimators__0__n_estimators': 96, 'clustering_model__estimators__0__max_depth': 3, 'clustering_model__estimators__0__min_samples_split': 20, 'clustering_model__estimators__0__min_samples_leaf': 14, 'clustering_model__estimators__1__max_depth': 30, 'clustering_model__estimators__1__lambda': 0.4, 'clustering_model__estimators__1__n_estimators': 150, 'clustering_model__estimators__1__eta': 0.12, 'clustering_model__estimators__1__alpha': 0.8900000000000001, 'clustering_model__estimators__2__n_estimators': 81, 'clustering_model__estimators__2__max_depth': None, 'clustering_model__estimators__2__min_samples_split': 2, 'clustering_model__estimators__2__min_samples_leaf': 12}. Best is trial 24 with value: -200904.4107339673.\n"
     ]
    },
    {
     "name": "stdout",
     "output_type": "stream",
     "text": [
      "Clusters weights (proportions): [0.88393648 0.11606352]\n",
      "Clusters weights (proportions): [0.88278588 0.11721412]\n",
      "Clusters weights (proportions): [0.1161919 0.8838081]\n",
      "Clusters weights (proportions): [0.88483031 0.11516969]\n"
     ]
    },
    {
     "name": "stderr",
     "output_type": "stream",
     "text": [
      "[I 2024-04-17 11:09:11,393] Trial 27 finished with value: -206937.4001584099 and parameters: {'preprocessing__quant__imputer__method': 'iterative_median', 'preprocessing__cat__imputer__method': 'simple_most_frequent', 'preprocessing__quant__scaler__apply': False, 'preprocessing__cat__encoder__method': 'ordinal', 'features_selector__apply': False, 'clustering_model__n_clusters': 2, 'clustering_model__estimators__0__n_estimators': 89, 'clustering_model__estimators__0__max_depth': 10, 'clustering_model__estimators__0__min_samples_split': 16, 'clustering_model__estimators__0__min_samples_leaf': 23, 'clustering_model__estimators__1__max_depth': 20, 'clustering_model__estimators__1__lambda': 0.4, 'clustering_model__estimators__1__n_estimators': 70, 'clustering_model__estimators__1__eta': 0.16, 'clustering_model__estimators__1__alpha': 0.8500000000000001}. Best is trial 24 with value: -200904.4107339673.\n"
     ]
    },
    {
     "name": "stdout",
     "output_type": "stream",
     "text": [
      "Clusters weights (proportions): [0.14836775 0.81864649 0.03298576]\n",
      "Clusters weights (proportions): [0.81940848 0.03277907 0.14781246]\n",
      "Clusters weights (proportions): [0.83269729 0.13391032 0.03339239]\n",
      "Clusters weights (proportions): [0.81961292 0.14760801 0.03277907]\n"
     ]
    },
    {
     "name": "stderr",
     "output_type": "stream",
     "text": [
      "[I 2024-04-17 11:10:27,753] Trial 28 finished with value: -209956.55597434315 and parameters: {'preprocessing__quant__imputer__method': 'simple_median', 'preprocessing__cat__imputer__method': 'simple_most_frequent', 'preprocessing__quant__scaler__apply': False, 'preprocessing__cat__encoder__method': 'ordinal', 'features_selector__apply': False, 'clustering_model__n_clusters': 3, 'clustering_model__estimators__0__n_estimators': 81, 'clustering_model__estimators__0__max_depth': 5, 'clustering_model__estimators__0__min_samples_split': 21, 'clustering_model__estimators__0__min_samples_leaf': 18, 'clustering_model__estimators__1__max_depth': 7, 'clustering_model__estimators__1__lambda': 0.30000000000000004, 'clustering_model__estimators__1__n_estimators': 30, 'clustering_model__estimators__1__eta': 0.12, 'clustering_model__estimators__1__alpha': 0.63, 'clustering_model__estimators__2__n_estimators': 112, 'clustering_model__estimators__2__max_depth': 20, 'clustering_model__estimators__2__min_samples_split': 7, 'clustering_model__estimators__2__min_samples_leaf': 18}. Best is trial 24 with value: -200904.4107339673.\n"
     ]
    },
    {
     "name": "stdout",
     "output_type": "stream",
     "text": [
      "Clusters weights (proportions): [0.88393648 0.11606352]\n",
      "Clusters weights (proportions): [0.88278588 0.11721412]\n",
      "Clusters weights (proportions): [0.1161919 0.8838081]\n",
      "Clusters weights (proportions): [0.88483031 0.11516969]\n"
     ]
    },
    {
     "name": "stderr",
     "output_type": "stream",
     "text": [
      "[I 2024-04-17 11:11:38,981] Trial 29 finished with value: -243361.61135248496 and parameters: {'preprocessing__quant__imputer__method': 'simple_median', 'preprocessing__cat__imputer__method': 'simple_most_frequent', 'preprocessing__quant__scaler__apply': True, 'preprocessing__cat__encoder__method': 'ordinal', 'features_selector__apply': False, 'preprocessing__quant__scaler__method': 'standard', 'clustering_model__n_clusters': 2, 'clustering_model__estimators__0__n_estimators': 60, 'clustering_model__estimators__0__max_depth': 40, 'clustering_model__estimators__0__min_samples_split': 23, 'clustering_model__estimators__0__min_samples_leaf': 16, 'clustering_model__estimators__1__max_depth': 40, 'clustering_model__estimators__1__lambda': 0.4, 'clustering_model__estimators__1__n_estimators': 150, 'clustering_model__estimators__1__eta': 0.18, 'clustering_model__estimators__1__alpha': 0.8}. Best is trial 24 with value: -200904.4107339673.\n"
     ]
    },
    {
     "name": "stdout",
     "output_type": "stream",
     "text": [
      "Clusters weights (proportions): [0.20561576 0.71226061 0.01349417 0.06862946]\n",
      "Clusters weights (proportions): [0.21807278 0.67916042 0.01546954 0.08729726]\n",
      "Clusters weights (proportions): [0.20498841 0.70505656 0.0151288  0.07482622]\n",
      "Clusters weights (proportions): [0.20444323 0.70941802 0.0151288  0.07100995]\n"
     ]
    },
    {
     "name": "stderr",
     "output_type": "stream",
     "text": [
      "[I 2024-04-17 11:12:11,543] Trial 30 finished with value: -221632.77648183375 and parameters: {'preprocessing__quant__imputer__method': 'simple_mean', 'preprocessing__cat__imputer__method': 'simple_most_frequent', 'preprocessing__quant__scaler__apply': False, 'preprocessing__cat__encoder__method': 'ordinal', 'features_selector__apply': False, 'clustering_model__n_clusters': 4, 'clustering_model__estimators__0__n_estimators': 89, 'clustering_model__estimators__0__max_depth': 30, 'clustering_model__estimators__0__min_samples_split': 17, 'clustering_model__estimators__0__min_samples_leaf': 16, 'clustering_model__estimators__1__max_depth': None, 'clustering_model__estimators__1__lambda': 0.30000000000000004, 'clustering_model__estimators__1__n_estimators': 100, 'clustering_model__estimators__1__eta': 0.1, 'clustering_model__estimators__1__alpha': 0.69, 'clustering_model__estimators__2__n_estimators': 93, 'clustering_model__estimators__2__max_depth': 40, 'clustering_model__estimators__2__min_samples_split': 16, 'clustering_model__estimators__2__min_samples_leaf': 2, 'clustering_model__estimators__3__max_depth': None, 'clustering_model__estimators__3__lambda': 0.4, 'clustering_model__estimators__3__n_estimators': 150, 'clustering_model__estimators__3__eta': 0.12, 'clustering_model__estimators__3__alpha': 0.34}. Best is trial 24 with value: -200904.4107339673.\n"
     ]
    },
    {
     "name": "stdout",
     "output_type": "stream",
     "text": [
      "Clusters weights (proportions): [0.88393648 0.11606352]\n",
      "Clusters weights (proportions): [0.88278588 0.11721412]\n",
      "Clusters weights (proportions): [0.1161919 0.8838081]\n",
      "Clusters weights (proportions): [0.88483031 0.11516969]\n"
     ]
    },
    {
     "name": "stderr",
     "output_type": "stream",
     "text": [
      "[I 2024-04-17 11:13:20,247] Trial 31 finished with value: -201712.73429335825 and parameters: {'preprocessing__quant__imputer__method': 'iterative_median', 'preprocessing__cat__imputer__method': 'simple_most_frequent', 'preprocessing__quant__scaler__apply': False, 'preprocessing__cat__encoder__method': 'ordinal', 'features_selector__apply': False, 'clustering_model__n_clusters': 2, 'clustering_model__estimators__0__n_estimators': 83, 'clustering_model__estimators__0__max_depth': 40, 'clustering_model__estimators__0__min_samples_split': 22, 'clustering_model__estimators__0__min_samples_leaf': 20, 'clustering_model__estimators__1__max_depth': 10, 'clustering_model__estimators__1__lambda': 0.4, 'clustering_model__estimators__1__n_estimators': 100, 'clustering_model__estimators__1__eta': 0.18, 'clustering_model__estimators__1__alpha': 0.9099999999999999}. Best is trial 24 with value: -200904.4107339673.\n"
     ]
    },
    {
     "name": "stdout",
     "output_type": "stream",
     "text": [
      "Clusters weights (proportions): [0.88393648 0.11606352]\n",
      "Clusters weights (proportions): [0.88278588 0.11721412]\n",
      "Clusters weights (proportions): [0.1161919 0.8838081]\n",
      "Clusters weights (proportions): [0.88483031 0.11516969]\n"
     ]
    },
    {
     "name": "stderr",
     "output_type": "stream",
     "text": [
      "[I 2024-04-17 11:14:24,259] Trial 32 finished with value: -202046.55242153283 and parameters: {'preprocessing__quant__imputer__method': 'iterative_median', 'preprocessing__cat__imputer__method': 'simple_most_frequent', 'preprocessing__quant__scaler__apply': False, 'preprocessing__cat__encoder__method': 'ordinal', 'features_selector__apply': False, 'clustering_model__n_clusters': 2, 'clustering_model__estimators__0__n_estimators': 77, 'clustering_model__estimators__0__max_depth': 40, 'clustering_model__estimators__0__min_samples_split': 13, 'clustering_model__estimators__0__min_samples_leaf': 22, 'clustering_model__estimators__1__max_depth': 10, 'clustering_model__estimators__1__lambda': 0.4, 'clustering_model__estimators__1__n_estimators': 100, 'clustering_model__estimators__1__eta': 0.18, 'clustering_model__estimators__1__alpha': 0.9199999999999999}. Best is trial 24 with value: -200904.4107339673.\n"
     ]
    },
    {
     "name": "stdout",
     "output_type": "stream",
     "text": [
      "Clusters weights (proportions): [0.88393648 0.11606352]\n",
      "Clusters weights (proportions): [0.88278588 0.11721412]\n",
      "Clusters weights (proportions): [0.1161919 0.8838081]\n",
      "Clusters weights (proportions): [0.88483031 0.11516969]\n"
     ]
    },
    {
     "name": "stderr",
     "output_type": "stream",
     "text": [
      "[I 2024-04-17 11:15:30,859] Trial 33 finished with value: -201055.902060753 and parameters: {'preprocessing__quant__imputer__method': 'iterative_median', 'preprocessing__cat__imputer__method': 'simple_most_frequent', 'preprocessing__quant__scaler__apply': False, 'preprocessing__cat__encoder__method': 'ordinal', 'features_selector__apply': False, 'clustering_model__n_clusters': 2, 'clustering_model__estimators__0__n_estimators': 81, 'clustering_model__estimators__0__max_depth': 40, 'clustering_model__estimators__0__min_samples_split': 12, 'clustering_model__estimators__0__min_samples_leaf': 19, 'clustering_model__estimators__1__max_depth': 10, 'clustering_model__estimators__1__lambda': 0.4, 'clustering_model__estimators__1__n_estimators': 100, 'clustering_model__estimators__1__eta': 0.14, 'clustering_model__estimators__1__alpha': 0.9299999999999999}. Best is trial 24 with value: -200904.4107339673.\n"
     ]
    },
    {
     "name": "stdout",
     "output_type": "stream",
     "text": [
      "Clusters weights (proportions): [0.14836775 0.81864649 0.03298576]\n",
      "Clusters weights (proportions): [0.81940848 0.03277907 0.14781246]\n",
      "Clusters weights (proportions): [0.83269729 0.13391032 0.03339239]\n",
      "Clusters weights (proportions): [0.81961292 0.14760801 0.03277907]\n"
     ]
    },
    {
     "name": "stderr",
     "output_type": "stream",
     "text": [
      "[I 2024-04-17 11:16:18,545] Trial 34 finished with value: -221051.27907522314 and parameters: {'preprocessing__quant__imputer__method': 'iterative_median', 'preprocessing__cat__imputer__method': 'simple_most_frequent', 'preprocessing__quant__scaler__apply': False, 'preprocessing__cat__encoder__method': 'ordinal', 'features_selector__apply': False, 'clustering_model__n_clusters': 3, 'clustering_model__estimators__0__n_estimators': 99, 'clustering_model__estimators__0__max_depth': 40, 'clustering_model__estimators__0__min_samples_split': 9, 'clustering_model__estimators__0__min_samples_leaf': 18, 'clustering_model__estimators__1__max_depth': 10, 'clustering_model__estimators__1__lambda': 0.4, 'clustering_model__estimators__1__n_estimators': 100, 'clustering_model__estimators__1__eta': 0.14, 'clustering_model__estimators__1__alpha': 0.81, 'clustering_model__estimators__2__n_estimators': 58, 'clustering_model__estimators__2__max_depth': 3, 'clustering_model__estimators__2__min_samples_split': 10, 'clustering_model__estimators__2__min_samples_leaf': 6}. Best is trial 24 with value: -200904.4107339673.\n"
     ]
    },
    {
     "name": "stdout",
     "output_type": "stream",
     "text": [
      "Clusters weights (proportions): [0.88393648 0.11606352]\n",
      "Clusters weights (proportions): [0.88278588 0.11721412]\n",
      "Clusters weights (proportions): [0.1161919 0.8838081]\n",
      "Clusters weights (proportions): [0.88483031 0.11516969]\n"
     ]
    },
    {
     "name": "stderr",
     "output_type": "stream",
     "text": [
      "[I 2024-04-17 11:17:31,361] Trial 35 finished with value: -200613.99115040808 and parameters: {'preprocessing__quant__imputer__method': 'iterative_median', 'preprocessing__cat__imputer__method': 'simple_most_frequent', 'preprocessing__quant__scaler__apply': False, 'preprocessing__cat__encoder__method': 'ordinal', 'features_selector__apply': False, 'clustering_model__n_clusters': 2, 'clustering_model__estimators__0__n_estimators': 87, 'clustering_model__estimators__0__max_depth': 40, 'clustering_model__estimators__0__min_samples_split': 14, 'clustering_model__estimators__0__min_samples_leaf': 13, 'clustering_model__estimators__1__max_depth': 10, 'clustering_model__estimators__1__lambda': 0.5, 'clustering_model__estimators__1__n_estimators': 100, 'clustering_model__estimators__1__eta': 0.14, 'clustering_model__estimators__1__alpha': 0.9299999999999999}. Best is trial 35 with value: -200613.99115040808.\n"
     ]
    },
    {
     "name": "stdout",
     "output_type": "stream",
     "text": [
      "Clusters weights (proportions): [0.14836775 0.81864649 0.03298576]\n",
      "Clusters weights (proportions): [0.81940848 0.03277907 0.14781246]\n",
      "Clusters weights (proportions): [0.83269729 0.13391032 0.03339239]\n",
      "Clusters weights (proportions): [0.81961292 0.14760801 0.03277907]\n"
     ]
    },
    {
     "name": "stderr",
     "output_type": "stream",
     "text": [
      "[I 2024-04-17 11:18:29,875] Trial 36 finished with value: -214116.26149219542 and parameters: {'preprocessing__quant__imputer__method': 'iterative_median', 'preprocessing__cat__imputer__method': 'simple_most_frequent', 'preprocessing__quant__scaler__apply': False, 'preprocessing__cat__encoder__method': 'one-hot', 'features_selector__apply': False, 'clustering_model__n_clusters': 3, 'clustering_model__estimators__0__n_estimators': 90, 'clustering_model__estimators__0__max_depth': 40, 'clustering_model__estimators__0__min_samples_split': 13, 'clustering_model__estimators__0__min_samples_leaf': 12, 'clustering_model__estimators__1__max_depth': 10, 'clustering_model__estimators__1__lambda': 0.5, 'clustering_model__estimators__1__n_estimators': 100, 'clustering_model__estimators__1__eta': 0.14, 'clustering_model__estimators__1__alpha': 0.8500000000000001, 'clustering_model__estimators__2__n_estimators': 78, 'clustering_model__estimators__2__max_depth': 5, 'clustering_model__estimators__2__min_samples_split': 4, 'clustering_model__estimators__2__min_samples_leaf': 13}. Best is trial 35 with value: -200613.99115040808.\n"
     ]
    },
    {
     "name": "stdout",
     "output_type": "stream",
     "text": [
      "Clusters weights (proportions): [0.88393648 0.11606352]\n",
      "Clusters weights (proportions): [0.88278588 0.11721412]\n",
      "Clusters weights (proportions): [0.1161919 0.8838081]\n",
      "Clusters weights (proportions): [0.88483031 0.11516969]\n"
     ]
    },
    {
     "name": "stderr",
     "output_type": "stream",
     "text": [
      "[I 2024-04-17 11:19:31,978] Trial 37 finished with value: -244450.66253233026 and parameters: {'preprocessing__quant__imputer__method': 'simple_mean', 'preprocessing__cat__imputer__method': 'simple_most_frequent', 'preprocessing__quant__scaler__apply': True, 'preprocessing__cat__encoder__method': 'ordinal', 'features_selector__apply': False, 'preprocessing__quant__scaler__method': 'standard', 'clustering_model__n_clusters': 2, 'clustering_model__estimators__0__n_estimators': 79, 'clustering_model__estimators__0__max_depth': 5, 'clustering_model__estimators__0__min_samples_split': 10, 'clustering_model__estimators__0__min_samples_leaf': 10, 'clustering_model__estimators__1__max_depth': 10, 'clustering_model__estimators__1__lambda': 0.5, 'clustering_model__estimators__1__n_estimators': 100, 'clustering_model__estimators__1__eta': 0.1, 'clustering_model__estimators__1__alpha': 0.77}. Best is trial 35 with value: -200613.99115040808.\n"
     ]
    },
    {
     "name": "stdout",
     "output_type": "stream",
     "text": [
      "Clusters weights (proportions): [0.10059293 0.60873714 0.0356437  0.24998296 0.00504328]\n",
      "Clusters weights (proportions): [0.6087638  0.09636091 0.25146518 0.00817773 0.03523238]\n",
      "Clusters weights (proportions): [0.25630367 0.04470492 0.09772387 0.59097724 0.01029031]\n",
      "Clusters weights (proportions): [0.59084094 0.09874608 0.01022216 0.04490936 0.25528145]\n"
     ]
    },
    {
     "name": "stderr",
     "output_type": "stream",
     "text": [
      "[I 2024-04-17 11:21:04,473] Trial 38 finished with value: -236683.8646183813 and parameters: {'preprocessing__quant__imputer__method': 'iterative_median', 'preprocessing__cat__imputer__method': 'simple_most_frequent', 'preprocessing__quant__scaler__apply': False, 'preprocessing__cat__encoder__method': 'ordinal', 'features_selector__apply': False, 'clustering_model__n_clusters': 5, 'clustering_model__estimators__0__n_estimators': 87, 'clustering_model__estimators__0__max_depth': 20, 'clustering_model__estimators__0__min_samples_split': 8, 'clustering_model__estimators__0__min_samples_leaf': 14, 'clustering_model__estimators__1__max_depth': 10, 'clustering_model__estimators__1__lambda': 0.5, 'clustering_model__estimators__1__n_estimators': 30, 'clustering_model__estimators__1__eta': 0.1, 'clustering_model__estimators__1__alpha': 0.94, 'clustering_model__estimators__2__n_estimators': 108, 'clustering_model__estimators__2__max_depth': 3, 'clustering_model__estimators__2__min_samples_split': 8, 'clustering_model__estimators__2__min_samples_leaf': 17, 'clustering_model__estimators__3__max_depth': 50, 'clustering_model__estimators__3__lambda': 0.4, 'clustering_model__estimators__3__n_estimators': 100, 'clustering_model__estimators__3__eta': 0.2, 'clustering_model__estimators__3__alpha': 0.8200000000000001, 'clustering_model__estimators__4__n_estimators': 97, 'clustering_model__estimators__4__max_depth': 40, 'clustering_model__estimators__4__min_samples_split': 24, 'clustering_model__estimators__4__min_samples_leaf': 18}. Best is trial 35 with value: -200613.99115040808.\n"
     ]
    },
    {
     "name": "stdout",
     "output_type": "stream",
     "text": [
      "Clusters weights (proportions): [0.88393648 0.11606352]\n",
      "Clusters weights (proportions): [0.88278588 0.11721412]\n",
      "Clusters weights (proportions): [0.8838081 0.1161919]\n",
      "Clusters weights (proportions): [0.88483031 0.11516969]\n"
     ]
    },
    {
     "name": "stderr",
     "output_type": "stream",
     "text": [
      "[I 2024-04-17 11:22:34,574] Trial 39 finished with value: -209338.95271080412 and parameters: {'preprocessing__quant__imputer__method': 'iterative_median', 'preprocessing__cat__imputer__method': 'simple_most_frequent', 'preprocessing__quant__scaler__apply': False, 'preprocessing__cat__encoder__method': 'one-hot', 'features_selector__apply': True, 'features_selector__method': 'KBest_f_reg', 'features_selector__k': 5, 'clustering_model__n_clusters': 2, 'clustering_model__estimators__0__n_estimators': 100, 'clustering_model__estimators__0__max_depth': 40, 'clustering_model__estimators__0__min_samples_split': 15, 'clustering_model__estimators__0__min_samples_leaf': 15, 'clustering_model__estimators__1__max_depth': 10, 'clustering_model__estimators__1__lambda': 0.5, 'clustering_model__estimators__1__n_estimators': 150, 'clustering_model__estimators__1__eta': 0.16, 'clustering_model__estimators__1__alpha': 1.0}. Best is trial 35 with value: -200613.99115040808.\n"
     ]
    }
   ],
   "source": [
    "simple_eval = SimpleEvaluation(estimator=pipeline_clustering_model,  \n",
    "                                inner=inner, \n",
    "                                param_grid=param_grid_RF_XGB,\n",
    "                                search_method='optuna',\n",
    "                                scoring='neg_mean_absolute_error', \n",
    "                                direction='maximize', \n",
    "                                n_trials=40, \n",
    "                                random_state=666)\n",
    "\n",
    "simple_eval.fit(X=X_train, y=Y_train)"
   ]
  },
  {
   "cell_type": "code",
   "execution_count": 67,
   "metadata": {},
   "outputs": [],
   "source": [
    "clustering_method = 'Kmeans'\n",
    "inner_score[clustering_method] = simple_eval.inner_score\n",
    "best_params[clustering_method] = simple_eval.inner_best_params\n",
    "inner_results[clustering_method] = simple_eval.inner_results"
   ]
  },
  {
   "cell_type": "code",
   "execution_count": 78,
   "metadata": {},
   "outputs": [],
   "source": [
    "# Saving the results as pickle files\n",
    "\n",
    "'''\n",
    "with open(f'Kmeans_results/best_params', 'wb') as file:\n",
    "    pickle.dump(best_params, file)\n",
    "\n",
    "with open(f'Kmeans_results/inner_scores', 'wb') as file:\n",
    "    pickle.dump(inner_score, file)\n",
    "\n",
    "with open(f'Kmeans_results/inner_results', 'wb') as file:\n",
    "    pickle.dump(inner_results, file)\n",
    "'''"
   ]
  },
  {
   "cell_type": "code",
   "execution_count": 4,
   "metadata": {},
   "outputs": [],
   "source": [
    "# Opening the results \n",
    "\n",
    "with open(f'Kmeans_results/best_params', 'rb') as file:\n",
    "    best_params = pickle.load(file)\n",
    "\n",
    "with open(f'Kmeans_results/inner_scores', 'rb') as file:\n",
    "    inner_score = pickle.load(file)\n",
    "\n",
    "with open(f'Kmeans_results/inner_results', 'rb') as file:\n",
    "    inner_results = pickle.load(file)"
   ]
  },
  {
   "cell_type": "code",
   "execution_count": 5,
   "metadata": {},
   "outputs": [
    {
     "data": {
      "text/plain": [
       "{'Kmeans': -200613.99115040808}"
      ]
     },
     "execution_count": 5,
     "metadata": {},
     "output_type": "execute_result"
    }
   ],
   "source": [
    "inner_score"
   ]
  },
  {
   "cell_type": "code",
   "execution_count": 6,
   "metadata": {},
   "outputs": [
    {
     "data": {
      "text/plain": [
       "{'Kmeans': {'preprocessing__quant__imputer__method': 'iterative_median',\n",
       "  'preprocessing__cat__imputer__method': 'simple_most_frequent',\n",
       "  'preprocessing__quant__scaler__apply': False,\n",
       "  'preprocessing__cat__encoder__method': 'ordinal',\n",
       "  'features_selector__apply': False,\n",
       "  'clustering_model__n_clusters': 2,\n",
       "  'clustering_model__estimators__0__n_estimators': 87,\n",
       "  'clustering_model__estimators__0__max_depth': 40,\n",
       "  'clustering_model__estimators__0__min_samples_split': 14,\n",
       "  'clustering_model__estimators__0__min_samples_leaf': 13,\n",
       "  'clustering_model__estimators__1__max_depth': 10,\n",
       "  'clustering_model__estimators__1__lambda': 0.5,\n",
       "  'clustering_model__estimators__1__n_estimators': 100,\n",
       "  'clustering_model__estimators__1__eta': 0.14,\n",
       "  'clustering_model__estimators__1__alpha': 0.9299999999999999}}"
      ]
     },
     "execution_count": 6,
     "metadata": {},
     "output_type": "execute_result"
    }
   ],
   "source": [
    "best_params"
   ]
  },
  {
   "cell_type": "code",
   "execution_count": 70,
   "metadata": {},
   "outputs": [],
   "source": [
    "pd.set_option('display.max_columns', None)"
   ]
  },
  {
   "cell_type": "code",
   "execution_count": 71,
   "metadata": {},
   "outputs": [
    {
     "data": {
      "text/html": [
       "<div>\n",
       "<style scoped>\n",
       "    .dataframe tbody tr th:only-of-type {\n",
       "        vertical-align: middle;\n",
       "    }\n",
       "\n",
       "    .dataframe tbody tr th {\n",
       "        vertical-align: top;\n",
       "    }\n",
       "\n",
       "    .dataframe thead th {\n",
       "        text-align: right;\n",
       "    }\n",
       "</style>\n",
       "<table border=\"1\" class=\"dataframe\">\n",
       "  <thead>\n",
       "    <tr style=\"text-align: right;\">\n",
       "      <th></th>\n",
       "      <th>preprocessing__quant__imputer__method</th>\n",
       "      <th>preprocessing__cat__imputer__method</th>\n",
       "      <th>preprocessing__quant__scaler__apply</th>\n",
       "      <th>preprocessing__cat__encoder__method</th>\n",
       "      <th>features_selector__apply</th>\n",
       "      <th>features_selector__method</th>\n",
       "      <th>preprocessing__quant__scaler__method</th>\n",
       "      <th>clustering_model__n_clusters</th>\n",
       "      <th>clustering_model__estimators__0__n_estimators</th>\n",
       "      <th>clustering_model__estimators__0__max_depth</th>\n",
       "      <th>clustering_model__estimators__0__min_samples_split</th>\n",
       "      <th>clustering_model__estimators__0__min_samples_leaf</th>\n",
       "      <th>clustering_model__estimators__1__max_depth</th>\n",
       "      <th>clustering_model__estimators__1__lambda</th>\n",
       "      <th>clustering_model__estimators__1__n_estimators</th>\n",
       "      <th>clustering_model__estimators__1__eta</th>\n",
       "      <th>clustering_model__estimators__1__alpha</th>\n",
       "      <th>clustering_model__estimators__2__n_estimators</th>\n",
       "      <th>clustering_model__estimators__2__max_depth</th>\n",
       "      <th>clustering_model__estimators__2__min_samples_split</th>\n",
       "      <th>clustering_model__estimators__2__min_samples_leaf</th>\n",
       "      <th>clustering_model__estimators__3__max_depth</th>\n",
       "      <th>clustering_model__estimators__3__lambda</th>\n",
       "      <th>clustering_model__estimators__3__n_estimators</th>\n",
       "      <th>clustering_model__estimators__3__eta</th>\n",
       "      <th>clustering_model__estimators__3__alpha</th>\n",
       "      <th>clustering_model__estimators__4__n_estimators</th>\n",
       "      <th>clustering_model__estimators__4__max_depth</th>\n",
       "      <th>clustering_model__estimators__4__min_samples_split</th>\n",
       "      <th>clustering_model__estimators__4__min_samples_leaf</th>\n",
       "      <th>clustering_model__estimators__5__max_depth</th>\n",
       "      <th>clustering_model__estimators__5__lambda</th>\n",
       "      <th>clustering_model__estimators__5__n_estimators</th>\n",
       "      <th>clustering_model__estimators__5__eta</th>\n",
       "      <th>clustering_model__estimators__5__alpha</th>\n",
       "      <th>features_selector__percentile</th>\n",
       "      <th>clustering_model__estimators__6__n_estimators</th>\n",
       "      <th>clustering_model__estimators__6__max_depth</th>\n",
       "      <th>clustering_model__estimators__6__min_samples_split</th>\n",
       "      <th>clustering_model__estimators__6__min_samples_leaf</th>\n",
       "      <th>clustering_model__estimators__7__max_depth</th>\n",
       "      <th>clustering_model__estimators__7__lambda</th>\n",
       "      <th>clustering_model__estimators__7__n_estimators</th>\n",
       "      <th>clustering_model__estimators__7__eta</th>\n",
       "      <th>clustering_model__estimators__7__alpha</th>\n",
       "      <th>features_selector__k</th>\n",
       "      <th>score</th>\n",
       "    </tr>\n",
       "  </thead>\n",
       "  <tbody>\n",
       "    <tr>\n",
       "      <th>35</th>\n",
       "      <td>iterative_median</td>\n",
       "      <td>simple_most_frequent</td>\n",
       "      <td>False</td>\n",
       "      <td>ordinal</td>\n",
       "      <td>False</td>\n",
       "      <td>NaN</td>\n",
       "      <td>NaN</td>\n",
       "      <td>2</td>\n",
       "      <td>87</td>\n",
       "      <td>40.0</td>\n",
       "      <td>14</td>\n",
       "      <td>13</td>\n",
       "      <td>10.0</td>\n",
       "      <td>0.5</td>\n",
       "      <td>100</td>\n",
       "      <td>0.14</td>\n",
       "      <td>0.93</td>\n",
       "      <td>NaN</td>\n",
       "      <td>NaN</td>\n",
       "      <td>NaN</td>\n",
       "      <td>NaN</td>\n",
       "      <td>NaN</td>\n",
       "      <td>NaN</td>\n",
       "      <td>NaN</td>\n",
       "      <td>NaN</td>\n",
       "      <td>NaN</td>\n",
       "      <td>NaN</td>\n",
       "      <td>NaN</td>\n",
       "      <td>NaN</td>\n",
       "      <td>NaN</td>\n",
       "      <td>NaN</td>\n",
       "      <td>NaN</td>\n",
       "      <td>NaN</td>\n",
       "      <td>NaN</td>\n",
       "      <td>NaN</td>\n",
       "      <td>NaN</td>\n",
       "      <td>NaN</td>\n",
       "      <td>NaN</td>\n",
       "      <td>NaN</td>\n",
       "      <td>NaN</td>\n",
       "      <td>NaN</td>\n",
       "      <td>NaN</td>\n",
       "      <td>NaN</td>\n",
       "      <td>NaN</td>\n",
       "      <td>NaN</td>\n",
       "      <td>NaN</td>\n",
       "      <td>-200613.991150</td>\n",
       "    </tr>\n",
       "    <tr>\n",
       "      <th>24</th>\n",
       "      <td>iterative_median</td>\n",
       "      <td>simple_most_frequent</td>\n",
       "      <td>False</td>\n",
       "      <td>ordinal</td>\n",
       "      <td>False</td>\n",
       "      <td>NaN</td>\n",
       "      <td>NaN</td>\n",
       "      <td>2</td>\n",
       "      <td>85</td>\n",
       "      <td>40.0</td>\n",
       "      <td>21</td>\n",
       "      <td>18</td>\n",
       "      <td>10.0</td>\n",
       "      <td>0.4</td>\n",
       "      <td>100</td>\n",
       "      <td>0.16</td>\n",
       "      <td>0.89</td>\n",
       "      <td>NaN</td>\n",
       "      <td>NaN</td>\n",
       "      <td>NaN</td>\n",
       "      <td>NaN</td>\n",
       "      <td>NaN</td>\n",
       "      <td>NaN</td>\n",
       "      <td>NaN</td>\n",
       "      <td>NaN</td>\n",
       "      <td>NaN</td>\n",
       "      <td>NaN</td>\n",
       "      <td>NaN</td>\n",
       "      <td>NaN</td>\n",
       "      <td>NaN</td>\n",
       "      <td>NaN</td>\n",
       "      <td>NaN</td>\n",
       "      <td>NaN</td>\n",
       "      <td>NaN</td>\n",
       "      <td>NaN</td>\n",
       "      <td>NaN</td>\n",
       "      <td>NaN</td>\n",
       "      <td>NaN</td>\n",
       "      <td>NaN</td>\n",
       "      <td>NaN</td>\n",
       "      <td>NaN</td>\n",
       "      <td>NaN</td>\n",
       "      <td>NaN</td>\n",
       "      <td>NaN</td>\n",
       "      <td>NaN</td>\n",
       "      <td>NaN</td>\n",
       "      <td>-200904.410734</td>\n",
       "    </tr>\n",
       "    <tr>\n",
       "      <th>23</th>\n",
       "      <td>iterative_median</td>\n",
       "      <td>simple_most_frequent</td>\n",
       "      <td>False</td>\n",
       "      <td>ordinal</td>\n",
       "      <td>False</td>\n",
       "      <td>NaN</td>\n",
       "      <td>NaN</td>\n",
       "      <td>2</td>\n",
       "      <td>85</td>\n",
       "      <td>40.0</td>\n",
       "      <td>22</td>\n",
       "      <td>19</td>\n",
       "      <td>10.0</td>\n",
       "      <td>0.4</td>\n",
       "      <td>100</td>\n",
       "      <td>0.16</td>\n",
       "      <td>0.92</td>\n",
       "      <td>NaN</td>\n",
       "      <td>NaN</td>\n",
       "      <td>NaN</td>\n",
       "      <td>NaN</td>\n",
       "      <td>NaN</td>\n",
       "      <td>NaN</td>\n",
       "      <td>NaN</td>\n",
       "      <td>NaN</td>\n",
       "      <td>NaN</td>\n",
       "      <td>NaN</td>\n",
       "      <td>NaN</td>\n",
       "      <td>NaN</td>\n",
       "      <td>NaN</td>\n",
       "      <td>NaN</td>\n",
       "      <td>NaN</td>\n",
       "      <td>NaN</td>\n",
       "      <td>NaN</td>\n",
       "      <td>NaN</td>\n",
       "      <td>NaN</td>\n",
       "      <td>NaN</td>\n",
       "      <td>NaN</td>\n",
       "      <td>NaN</td>\n",
       "      <td>NaN</td>\n",
       "      <td>NaN</td>\n",
       "      <td>NaN</td>\n",
       "      <td>NaN</td>\n",
       "      <td>NaN</td>\n",
       "      <td>NaN</td>\n",
       "      <td>NaN</td>\n",
       "      <td>-200990.231696</td>\n",
       "    </tr>\n",
       "    <tr>\n",
       "      <th>33</th>\n",
       "      <td>iterative_median</td>\n",
       "      <td>simple_most_frequent</td>\n",
       "      <td>False</td>\n",
       "      <td>ordinal</td>\n",
       "      <td>False</td>\n",
       "      <td>NaN</td>\n",
       "      <td>NaN</td>\n",
       "      <td>2</td>\n",
       "      <td>81</td>\n",
       "      <td>40.0</td>\n",
       "      <td>12</td>\n",
       "      <td>19</td>\n",
       "      <td>10.0</td>\n",
       "      <td>0.4</td>\n",
       "      <td>100</td>\n",
       "      <td>0.14</td>\n",
       "      <td>0.93</td>\n",
       "      <td>NaN</td>\n",
       "      <td>NaN</td>\n",
       "      <td>NaN</td>\n",
       "      <td>NaN</td>\n",
       "      <td>NaN</td>\n",
       "      <td>NaN</td>\n",
       "      <td>NaN</td>\n",
       "      <td>NaN</td>\n",
       "      <td>NaN</td>\n",
       "      <td>NaN</td>\n",
       "      <td>NaN</td>\n",
       "      <td>NaN</td>\n",
       "      <td>NaN</td>\n",
       "      <td>NaN</td>\n",
       "      <td>NaN</td>\n",
       "      <td>NaN</td>\n",
       "      <td>NaN</td>\n",
       "      <td>NaN</td>\n",
       "      <td>NaN</td>\n",
       "      <td>NaN</td>\n",
       "      <td>NaN</td>\n",
       "      <td>NaN</td>\n",
       "      <td>NaN</td>\n",
       "      <td>NaN</td>\n",
       "      <td>NaN</td>\n",
       "      <td>NaN</td>\n",
       "      <td>NaN</td>\n",
       "      <td>NaN</td>\n",
       "      <td>NaN</td>\n",
       "      <td>-201055.902061</td>\n",
       "    </tr>\n",
       "    <tr>\n",
       "      <th>31</th>\n",
       "      <td>iterative_median</td>\n",
       "      <td>simple_most_frequent</td>\n",
       "      <td>False</td>\n",
       "      <td>ordinal</td>\n",
       "      <td>False</td>\n",
       "      <td>NaN</td>\n",
       "      <td>NaN</td>\n",
       "      <td>2</td>\n",
       "      <td>83</td>\n",
       "      <td>40.0</td>\n",
       "      <td>22</td>\n",
       "      <td>20</td>\n",
       "      <td>10.0</td>\n",
       "      <td>0.4</td>\n",
       "      <td>100</td>\n",
       "      <td>0.18</td>\n",
       "      <td>0.91</td>\n",
       "      <td>NaN</td>\n",
       "      <td>NaN</td>\n",
       "      <td>NaN</td>\n",
       "      <td>NaN</td>\n",
       "      <td>NaN</td>\n",
       "      <td>NaN</td>\n",
       "      <td>NaN</td>\n",
       "      <td>NaN</td>\n",
       "      <td>NaN</td>\n",
       "      <td>NaN</td>\n",
       "      <td>NaN</td>\n",
       "      <td>NaN</td>\n",
       "      <td>NaN</td>\n",
       "      <td>NaN</td>\n",
       "      <td>NaN</td>\n",
       "      <td>NaN</td>\n",
       "      <td>NaN</td>\n",
       "      <td>NaN</td>\n",
       "      <td>NaN</td>\n",
       "      <td>NaN</td>\n",
       "      <td>NaN</td>\n",
       "      <td>NaN</td>\n",
       "      <td>NaN</td>\n",
       "      <td>NaN</td>\n",
       "      <td>NaN</td>\n",
       "      <td>NaN</td>\n",
       "      <td>NaN</td>\n",
       "      <td>NaN</td>\n",
       "      <td>NaN</td>\n",
       "      <td>-201712.734293</td>\n",
       "    </tr>\n",
       "  </tbody>\n",
       "</table>\n",
       "</div>"
      ],
      "text/plain": [
       "   preprocessing__quant__imputer__method preprocessing__cat__imputer__method  \\\n",
       "35                      iterative_median                simple_most_frequent   \n",
       "24                      iterative_median                simple_most_frequent   \n",
       "23                      iterative_median                simple_most_frequent   \n",
       "33                      iterative_median                simple_most_frequent   \n",
       "31                      iterative_median                simple_most_frequent   \n",
       "\n",
       "    preprocessing__quant__scaler__apply preprocessing__cat__encoder__method  \\\n",
       "35                                False                             ordinal   \n",
       "24                                False                             ordinal   \n",
       "23                                False                             ordinal   \n",
       "33                                False                             ordinal   \n",
       "31                                False                             ordinal   \n",
       "\n",
       "    features_selector__apply features_selector__method  \\\n",
       "35                     False                       NaN   \n",
       "24                     False                       NaN   \n",
       "23                     False                       NaN   \n",
       "33                     False                       NaN   \n",
       "31                     False                       NaN   \n",
       "\n",
       "   preprocessing__quant__scaler__method  clustering_model__n_clusters  \\\n",
       "35                                  NaN                             2   \n",
       "24                                  NaN                             2   \n",
       "23                                  NaN                             2   \n",
       "33                                  NaN                             2   \n",
       "31                                  NaN                             2   \n",
       "\n",
       "    clustering_model__estimators__0__n_estimators  \\\n",
       "35                                             87   \n",
       "24                                             85   \n",
       "23                                             85   \n",
       "33                                             81   \n",
       "31                                             83   \n",
       "\n",
       "    clustering_model__estimators__0__max_depth  \\\n",
       "35                                        40.0   \n",
       "24                                        40.0   \n",
       "23                                        40.0   \n",
       "33                                        40.0   \n",
       "31                                        40.0   \n",
       "\n",
       "    clustering_model__estimators__0__min_samples_split  \\\n",
       "35                                                 14    \n",
       "24                                                 21    \n",
       "23                                                 22    \n",
       "33                                                 12    \n",
       "31                                                 22    \n",
       "\n",
       "    clustering_model__estimators__0__min_samples_leaf  \\\n",
       "35                                                 13   \n",
       "24                                                 18   \n",
       "23                                                 19   \n",
       "33                                                 19   \n",
       "31                                                 20   \n",
       "\n",
       "    clustering_model__estimators__1__max_depth  \\\n",
       "35                                        10.0   \n",
       "24                                        10.0   \n",
       "23                                        10.0   \n",
       "33                                        10.0   \n",
       "31                                        10.0   \n",
       "\n",
       "    clustering_model__estimators__1__lambda  \\\n",
       "35                                      0.5   \n",
       "24                                      0.4   \n",
       "23                                      0.4   \n",
       "33                                      0.4   \n",
       "31                                      0.4   \n",
       "\n",
       "    clustering_model__estimators__1__n_estimators  \\\n",
       "35                                            100   \n",
       "24                                            100   \n",
       "23                                            100   \n",
       "33                                            100   \n",
       "31                                            100   \n",
       "\n",
       "    clustering_model__estimators__1__eta  \\\n",
       "35                                  0.14   \n",
       "24                                  0.16   \n",
       "23                                  0.16   \n",
       "33                                  0.14   \n",
       "31                                  0.18   \n",
       "\n",
       "    clustering_model__estimators__1__alpha  \\\n",
       "35                                    0.93   \n",
       "24                                    0.89   \n",
       "23                                    0.92   \n",
       "33                                    0.93   \n",
       "31                                    0.91   \n",
       "\n",
       "    clustering_model__estimators__2__n_estimators  \\\n",
       "35                                            NaN   \n",
       "24                                            NaN   \n",
       "23                                            NaN   \n",
       "33                                            NaN   \n",
       "31                                            NaN   \n",
       "\n",
       "    clustering_model__estimators__2__max_depth  \\\n",
       "35                                         NaN   \n",
       "24                                         NaN   \n",
       "23                                         NaN   \n",
       "33                                         NaN   \n",
       "31                                         NaN   \n",
       "\n",
       "    clustering_model__estimators__2__min_samples_split  \\\n",
       "35                                                NaN    \n",
       "24                                                NaN    \n",
       "23                                                NaN    \n",
       "33                                                NaN    \n",
       "31                                                NaN    \n",
       "\n",
       "    clustering_model__estimators__2__min_samples_leaf  \\\n",
       "35                                                NaN   \n",
       "24                                                NaN   \n",
       "23                                                NaN   \n",
       "33                                                NaN   \n",
       "31                                                NaN   \n",
       "\n",
       "    clustering_model__estimators__3__max_depth  \\\n",
       "35                                         NaN   \n",
       "24                                         NaN   \n",
       "23                                         NaN   \n",
       "33                                         NaN   \n",
       "31                                         NaN   \n",
       "\n",
       "    clustering_model__estimators__3__lambda  \\\n",
       "35                                      NaN   \n",
       "24                                      NaN   \n",
       "23                                      NaN   \n",
       "33                                      NaN   \n",
       "31                                      NaN   \n",
       "\n",
       "    clustering_model__estimators__3__n_estimators  \\\n",
       "35                                            NaN   \n",
       "24                                            NaN   \n",
       "23                                            NaN   \n",
       "33                                            NaN   \n",
       "31                                            NaN   \n",
       "\n",
       "    clustering_model__estimators__3__eta  \\\n",
       "35                                   NaN   \n",
       "24                                   NaN   \n",
       "23                                   NaN   \n",
       "33                                   NaN   \n",
       "31                                   NaN   \n",
       "\n",
       "    clustering_model__estimators__3__alpha  \\\n",
       "35                                     NaN   \n",
       "24                                     NaN   \n",
       "23                                     NaN   \n",
       "33                                     NaN   \n",
       "31                                     NaN   \n",
       "\n",
       "    clustering_model__estimators__4__n_estimators  \\\n",
       "35                                            NaN   \n",
       "24                                            NaN   \n",
       "23                                            NaN   \n",
       "33                                            NaN   \n",
       "31                                            NaN   \n",
       "\n",
       "    clustering_model__estimators__4__max_depth  \\\n",
       "35                                         NaN   \n",
       "24                                         NaN   \n",
       "23                                         NaN   \n",
       "33                                         NaN   \n",
       "31                                         NaN   \n",
       "\n",
       "    clustering_model__estimators__4__min_samples_split  \\\n",
       "35                                                NaN    \n",
       "24                                                NaN    \n",
       "23                                                NaN    \n",
       "33                                                NaN    \n",
       "31                                                NaN    \n",
       "\n",
       "    clustering_model__estimators__4__min_samples_leaf  \\\n",
       "35                                                NaN   \n",
       "24                                                NaN   \n",
       "23                                                NaN   \n",
       "33                                                NaN   \n",
       "31                                                NaN   \n",
       "\n",
       "    clustering_model__estimators__5__max_depth  \\\n",
       "35                                         NaN   \n",
       "24                                         NaN   \n",
       "23                                         NaN   \n",
       "33                                         NaN   \n",
       "31                                         NaN   \n",
       "\n",
       "    clustering_model__estimators__5__lambda  \\\n",
       "35                                      NaN   \n",
       "24                                      NaN   \n",
       "23                                      NaN   \n",
       "33                                      NaN   \n",
       "31                                      NaN   \n",
       "\n",
       "    clustering_model__estimators__5__n_estimators  \\\n",
       "35                                            NaN   \n",
       "24                                            NaN   \n",
       "23                                            NaN   \n",
       "33                                            NaN   \n",
       "31                                            NaN   \n",
       "\n",
       "    clustering_model__estimators__5__eta  \\\n",
       "35                                   NaN   \n",
       "24                                   NaN   \n",
       "23                                   NaN   \n",
       "33                                   NaN   \n",
       "31                                   NaN   \n",
       "\n",
       "    clustering_model__estimators__5__alpha  features_selector__percentile  \\\n",
       "35                                     NaN                            NaN   \n",
       "24                                     NaN                            NaN   \n",
       "23                                     NaN                            NaN   \n",
       "33                                     NaN                            NaN   \n",
       "31                                     NaN                            NaN   \n",
       "\n",
       "    clustering_model__estimators__6__n_estimators  \\\n",
       "35                                            NaN   \n",
       "24                                            NaN   \n",
       "23                                            NaN   \n",
       "33                                            NaN   \n",
       "31                                            NaN   \n",
       "\n",
       "    clustering_model__estimators__6__max_depth  \\\n",
       "35                                         NaN   \n",
       "24                                         NaN   \n",
       "23                                         NaN   \n",
       "33                                         NaN   \n",
       "31                                         NaN   \n",
       "\n",
       "    clustering_model__estimators__6__min_samples_split  \\\n",
       "35                                                NaN    \n",
       "24                                                NaN    \n",
       "23                                                NaN    \n",
       "33                                                NaN    \n",
       "31                                                NaN    \n",
       "\n",
       "    clustering_model__estimators__6__min_samples_leaf  \\\n",
       "35                                                NaN   \n",
       "24                                                NaN   \n",
       "23                                                NaN   \n",
       "33                                                NaN   \n",
       "31                                                NaN   \n",
       "\n",
       "    clustering_model__estimators__7__max_depth  \\\n",
       "35                                         NaN   \n",
       "24                                         NaN   \n",
       "23                                         NaN   \n",
       "33                                         NaN   \n",
       "31                                         NaN   \n",
       "\n",
       "    clustering_model__estimators__7__lambda  \\\n",
       "35                                      NaN   \n",
       "24                                      NaN   \n",
       "23                                      NaN   \n",
       "33                                      NaN   \n",
       "31                                      NaN   \n",
       "\n",
       "    clustering_model__estimators__7__n_estimators  \\\n",
       "35                                            NaN   \n",
       "24                                            NaN   \n",
       "23                                            NaN   \n",
       "33                                            NaN   \n",
       "31                                            NaN   \n",
       "\n",
       "    clustering_model__estimators__7__eta  \\\n",
       "35                                   NaN   \n",
       "24                                   NaN   \n",
       "23                                   NaN   \n",
       "33                                   NaN   \n",
       "31                                   NaN   \n",
       "\n",
       "    clustering_model__estimators__7__alpha  features_selector__k  \\\n",
       "35                                     NaN                   NaN   \n",
       "24                                     NaN                   NaN   \n",
       "23                                     NaN                   NaN   \n",
       "33                                     NaN                   NaN   \n",
       "31                                     NaN                   NaN   \n",
       "\n",
       "            score  \n",
       "35 -200613.991150  \n",
       "24 -200904.410734  \n",
       "23 -200990.231696  \n",
       "33 -201055.902061  \n",
       "31 -201712.734293  "
      ]
     },
     "execution_count": 71,
     "metadata": {},
     "output_type": "execute_result"
    }
   ],
   "source": [
    "inner_results['Kmeans'].head(5)"
   ]
  },
  {
   "cell_type": "code",
   "execution_count": 7,
   "metadata": {},
   "outputs": [],
   "source": [
    "inner_score_large, best_params_large = {}, {}"
   ]
  },
  {
   "cell_type": "code",
   "execution_count": 8,
   "metadata": {},
   "outputs": [],
   "source": [
    "for n_clusters in range(2, 8):\n",
    "    inner_score_large[f'Kmeans-n_clusters={n_clusters}'] = inner_results['Kmeans'].loc[inner_results['Kmeans']['clustering_model__n_clusters'] == n_clusters]['score'].iloc[0]\n",
    "    best_params_large[f'Kmeans-n_clusters={n_clusters}'] = dict(inner_results['Kmeans'].loc[inner_results['Kmeans']['clustering_model__n_clusters'] == n_clusters].iloc[0, :-1])"
   ]
  },
  {
   "cell_type": "code",
   "execution_count": 9,
   "metadata": {},
   "outputs": [
    {
     "data": {
      "text/plain": [
       "{'Kmeans-n_clusters=2': -200613.99115040808,\n",
       " 'Kmeans-n_clusters=3': -209581.98706656983,\n",
       " 'Kmeans-n_clusters=4': -221632.77648183375,\n",
       " 'Kmeans-n_clusters=5': -232560.74307087244,\n",
       " 'Kmeans-n_clusters=6': -245396.1521665574,\n",
       " 'Kmeans-n_clusters=7': -243894.9786423249}"
      ]
     },
     "execution_count": 9,
     "metadata": {},
     "output_type": "execute_result"
    }
   ],
   "source": [
    "inner_score_large"
   ]
  },
  {
   "cell_type": "code",
   "execution_count": 75,
   "metadata": {},
   "outputs": [
    {
     "data": {
      "text/plain": [
       "{'Kmeans-n_clusters=2': {'preprocessing__quant__imputer__method': 'iterative_median',\n",
       "  'preprocessing__cat__imputer__method': 'simple_most_frequent',\n",
       "  'preprocessing__quant__scaler__apply': False,\n",
       "  'preprocessing__cat__encoder__method': 'ordinal',\n",
       "  'features_selector__apply': False,\n",
       "  'features_selector__method': nan,\n",
       "  'preprocessing__quant__scaler__method': nan,\n",
       "  'clustering_model__n_clusters': 2,\n",
       "  'clustering_model__estimators__0__n_estimators': 87,\n",
       "  'clustering_model__estimators__0__max_depth': 40.0,\n",
       "  'clustering_model__estimators__0__min_samples_split': 14,\n",
       "  'clustering_model__estimators__0__min_samples_leaf': 13,\n",
       "  'clustering_model__estimators__1__max_depth': 10.0,\n",
       "  'clustering_model__estimators__1__lambda': 0.5,\n",
       "  'clustering_model__estimators__1__n_estimators': 100,\n",
       "  'clustering_model__estimators__1__eta': 0.14,\n",
       "  'clustering_model__estimators__1__alpha': 0.9299999999999999,\n",
       "  'clustering_model__estimators__2__n_estimators': nan,\n",
       "  'clustering_model__estimators__2__max_depth': nan,\n",
       "  'clustering_model__estimators__2__min_samples_split': nan,\n",
       "  'clustering_model__estimators__2__min_samples_leaf': nan,\n",
       "  'clustering_model__estimators__3__max_depth': nan,\n",
       "  'clustering_model__estimators__3__lambda': nan,\n",
       "  'clustering_model__estimators__3__n_estimators': nan,\n",
       "  'clustering_model__estimators__3__eta': nan,\n",
       "  'clustering_model__estimators__3__alpha': nan,\n",
       "  'clustering_model__estimators__4__n_estimators': nan,\n",
       "  'clustering_model__estimators__4__max_depth': nan,\n",
       "  'clustering_model__estimators__4__min_samples_split': nan,\n",
       "  'clustering_model__estimators__4__min_samples_leaf': nan,\n",
       "  'clustering_model__estimators__5__max_depth': nan,\n",
       "  'clustering_model__estimators__5__lambda': nan,\n",
       "  'clustering_model__estimators__5__n_estimators': nan,\n",
       "  'clustering_model__estimators__5__eta': nan,\n",
       "  'clustering_model__estimators__5__alpha': nan,\n",
       "  'features_selector__percentile': nan,\n",
       "  'clustering_model__estimators__6__n_estimators': nan,\n",
       "  'clustering_model__estimators__6__max_depth': nan,\n",
       "  'clustering_model__estimators__6__min_samples_split': nan,\n",
       "  'clustering_model__estimators__6__min_samples_leaf': nan,\n",
       "  'clustering_model__estimators__7__max_depth': nan,\n",
       "  'clustering_model__estimators__7__lambda': nan,\n",
       "  'clustering_model__estimators__7__n_estimators': nan,\n",
       "  'clustering_model__estimators__7__eta': nan,\n",
       "  'clustering_model__estimators__7__alpha': nan,\n",
       "  'features_selector__k': nan},\n",
       " 'Kmeans-n_clusters=3': {'preprocessing__quant__imputer__method': 'iterative_median',\n",
       "  'preprocessing__cat__imputer__method': 'simple_most_frequent',\n",
       "  'preprocessing__quant__scaler__apply': False,\n",
       "  'preprocessing__cat__encoder__method': 'ordinal',\n",
       "  'features_selector__apply': False,\n",
       "  'features_selector__method': nan,\n",
       "  'preprocessing__quant__scaler__method': nan,\n",
       "  'clustering_model__n_clusters': 3,\n",
       "  'clustering_model__estimators__0__n_estimators': 69,\n",
       "  'clustering_model__estimators__0__max_depth': nan,\n",
       "  'clustering_model__estimators__0__min_samples_split': 25,\n",
       "  'clustering_model__estimators__0__min_samples_leaf': 25,\n",
       "  'clustering_model__estimators__1__max_depth': 5.0,\n",
       "  'clustering_model__estimators__1__lambda': 0.5,\n",
       "  'clustering_model__estimators__1__n_estimators': 100,\n",
       "  'clustering_model__estimators__1__eta': 0.24,\n",
       "  'clustering_model__estimators__1__alpha': 0.74,\n",
       "  'clustering_model__estimators__2__n_estimators': 65.0,\n",
       "  'clustering_model__estimators__2__max_depth': 7.0,\n",
       "  'clustering_model__estimators__2__min_samples_split': 21.0,\n",
       "  'clustering_model__estimators__2__min_samples_leaf': 6.0,\n",
       "  'clustering_model__estimators__3__max_depth': nan,\n",
       "  'clustering_model__estimators__3__lambda': nan,\n",
       "  'clustering_model__estimators__3__n_estimators': nan,\n",
       "  'clustering_model__estimators__3__eta': nan,\n",
       "  'clustering_model__estimators__3__alpha': nan,\n",
       "  'clustering_model__estimators__4__n_estimators': nan,\n",
       "  'clustering_model__estimators__4__max_depth': nan,\n",
       "  'clustering_model__estimators__4__min_samples_split': nan,\n",
       "  'clustering_model__estimators__4__min_samples_leaf': nan,\n",
       "  'clustering_model__estimators__5__max_depth': nan,\n",
       "  'clustering_model__estimators__5__lambda': nan,\n",
       "  'clustering_model__estimators__5__n_estimators': nan,\n",
       "  'clustering_model__estimators__5__eta': nan,\n",
       "  'clustering_model__estimators__5__alpha': nan,\n",
       "  'features_selector__percentile': nan,\n",
       "  'clustering_model__estimators__6__n_estimators': nan,\n",
       "  'clustering_model__estimators__6__max_depth': nan,\n",
       "  'clustering_model__estimators__6__min_samples_split': nan,\n",
       "  'clustering_model__estimators__6__min_samples_leaf': nan,\n",
       "  'clustering_model__estimators__7__max_depth': nan,\n",
       "  'clustering_model__estimators__7__lambda': nan,\n",
       "  'clustering_model__estimators__7__n_estimators': nan,\n",
       "  'clustering_model__estimators__7__eta': nan,\n",
       "  'clustering_model__estimators__7__alpha': nan,\n",
       "  'features_selector__k': nan},\n",
       " 'Kmeans-n_clusters=4': {'preprocessing__quant__imputer__method': 'simple_mean',\n",
       "  'preprocessing__cat__imputer__method': 'simple_most_frequent',\n",
       "  'preprocessing__quant__scaler__apply': False,\n",
       "  'preprocessing__cat__encoder__method': 'ordinal',\n",
       "  'features_selector__apply': False,\n",
       "  'features_selector__method': nan,\n",
       "  'preprocessing__quant__scaler__method': nan,\n",
       "  'clustering_model__n_clusters': 4,\n",
       "  'clustering_model__estimators__0__n_estimators': 89,\n",
       "  'clustering_model__estimators__0__max_depth': 30.0,\n",
       "  'clustering_model__estimators__0__min_samples_split': 17,\n",
       "  'clustering_model__estimators__0__min_samples_leaf': 16,\n",
       "  'clustering_model__estimators__1__max_depth': nan,\n",
       "  'clustering_model__estimators__1__lambda': 0.30000000000000004,\n",
       "  'clustering_model__estimators__1__n_estimators': 100,\n",
       "  'clustering_model__estimators__1__eta': 0.1,\n",
       "  'clustering_model__estimators__1__alpha': 0.69,\n",
       "  'clustering_model__estimators__2__n_estimators': 93.0,\n",
       "  'clustering_model__estimators__2__max_depth': 40.0,\n",
       "  'clustering_model__estimators__2__min_samples_split': 16.0,\n",
       "  'clustering_model__estimators__2__min_samples_leaf': 2.0,\n",
       "  'clustering_model__estimators__3__max_depth': nan,\n",
       "  'clustering_model__estimators__3__lambda': 0.4,\n",
       "  'clustering_model__estimators__3__n_estimators': 150.0,\n",
       "  'clustering_model__estimators__3__eta': 0.12,\n",
       "  'clustering_model__estimators__3__alpha': 0.34,\n",
       "  'clustering_model__estimators__4__n_estimators': nan,\n",
       "  'clustering_model__estimators__4__max_depth': nan,\n",
       "  'clustering_model__estimators__4__min_samples_split': nan,\n",
       "  'clustering_model__estimators__4__min_samples_leaf': nan,\n",
       "  'clustering_model__estimators__5__max_depth': nan,\n",
       "  'clustering_model__estimators__5__lambda': nan,\n",
       "  'clustering_model__estimators__5__n_estimators': nan,\n",
       "  'clustering_model__estimators__5__eta': nan,\n",
       "  'clustering_model__estimators__5__alpha': nan,\n",
       "  'features_selector__percentile': nan,\n",
       "  'clustering_model__estimators__6__n_estimators': nan,\n",
       "  'clustering_model__estimators__6__max_depth': nan,\n",
       "  'clustering_model__estimators__6__min_samples_split': nan,\n",
       "  'clustering_model__estimators__6__min_samples_leaf': nan,\n",
       "  'clustering_model__estimators__7__max_depth': nan,\n",
       "  'clustering_model__estimators__7__lambda': nan,\n",
       "  'clustering_model__estimators__7__n_estimators': nan,\n",
       "  'clustering_model__estimators__7__eta': nan,\n",
       "  'clustering_model__estimators__7__alpha': nan,\n",
       "  'features_selector__k': nan},\n",
       " 'Kmeans-n_clusters=5': {'preprocessing__quant__imputer__method': 'iterative_mean',\n",
       "  'preprocessing__cat__imputer__method': 'simple_most_frequent',\n",
       "  'preprocessing__quant__scaler__apply': False,\n",
       "  'preprocessing__cat__encoder__method': 'ordinal',\n",
       "  'features_selector__apply': True,\n",
       "  'features_selector__method': 'Fdr_f_reg',\n",
       "  'preprocessing__quant__scaler__method': nan,\n",
       "  'clustering_model__n_clusters': 5,\n",
       "  'clustering_model__estimators__0__n_estimators': 104,\n",
       "  'clustering_model__estimators__0__max_depth': 7.0,\n",
       "  'clustering_model__estimators__0__min_samples_split': 5,\n",
       "  'clustering_model__estimators__0__min_samples_leaf': 5,\n",
       "  'clustering_model__estimators__1__max_depth': 3.0,\n",
       "  'clustering_model__estimators__1__lambda': 0.0,\n",
       "  'clustering_model__estimators__1__n_estimators': 50,\n",
       "  'clustering_model__estimators__1__eta': 0.08,\n",
       "  'clustering_model__estimators__1__alpha': 0.32,\n",
       "  'clustering_model__estimators__2__n_estimators': 98.0,\n",
       "  'clustering_model__estimators__2__max_depth': 10.0,\n",
       "  'clustering_model__estimators__2__min_samples_split': 12.0,\n",
       "  'clustering_model__estimators__2__min_samples_leaf': 23.0,\n",
       "  'clustering_model__estimators__3__max_depth': 10.0,\n",
       "  'clustering_model__estimators__3__lambda': 0.2,\n",
       "  'clustering_model__estimators__3__n_estimators': 70.0,\n",
       "  'clustering_model__estimators__3__eta': 0.04,\n",
       "  'clustering_model__estimators__3__alpha': 0.99,\n",
       "  'clustering_model__estimators__4__n_estimators': 51.0,\n",
       "  'clustering_model__estimators__4__max_depth': nan,\n",
       "  'clustering_model__estimators__4__min_samples_split': 11.0,\n",
       "  'clustering_model__estimators__4__min_samples_leaf': 8.0,\n",
       "  'clustering_model__estimators__5__max_depth': nan,\n",
       "  'clustering_model__estimators__5__lambda': nan,\n",
       "  'clustering_model__estimators__5__n_estimators': nan,\n",
       "  'clustering_model__estimators__5__eta': nan,\n",
       "  'clustering_model__estimators__5__alpha': nan,\n",
       "  'features_selector__percentile': nan,\n",
       "  'clustering_model__estimators__6__n_estimators': nan,\n",
       "  'clustering_model__estimators__6__max_depth': nan,\n",
       "  'clustering_model__estimators__6__min_samples_split': nan,\n",
       "  'clustering_model__estimators__6__min_samples_leaf': nan,\n",
       "  'clustering_model__estimators__7__max_depth': nan,\n",
       "  'clustering_model__estimators__7__lambda': nan,\n",
       "  'clustering_model__estimators__7__n_estimators': nan,\n",
       "  'clustering_model__estimators__7__eta': nan,\n",
       "  'clustering_model__estimators__7__alpha': nan,\n",
       "  'features_selector__k': nan},\n",
       " 'Kmeans-n_clusters=6': {'preprocessing__quant__imputer__method': 'simple_mean',\n",
       "  'preprocessing__cat__imputer__method': 'simple_most_frequent',\n",
       "  'preprocessing__quant__scaler__apply': False,\n",
       "  'preprocessing__cat__encoder__method': 'ordinal',\n",
       "  'features_selector__apply': False,\n",
       "  'features_selector__method': nan,\n",
       "  'preprocessing__quant__scaler__method': nan,\n",
       "  'clustering_model__n_clusters': 6,\n",
       "  'clustering_model__estimators__0__n_estimators': 77,\n",
       "  'clustering_model__estimators__0__max_depth': 20.0,\n",
       "  'clustering_model__estimators__0__min_samples_split': 7,\n",
       "  'clustering_model__estimators__0__min_samples_leaf': 22,\n",
       "  'clustering_model__estimators__1__max_depth': 50.0,\n",
       "  'clustering_model__estimators__1__lambda': 0.2,\n",
       "  'clustering_model__estimators__1__n_estimators': 30,\n",
       "  'clustering_model__estimators__1__eta': 0.12,\n",
       "  'clustering_model__estimators__1__alpha': 0.8400000000000001,\n",
       "  'clustering_model__estimators__2__n_estimators': 54.0,\n",
       "  'clustering_model__estimators__2__max_depth': 50.0,\n",
       "  'clustering_model__estimators__2__min_samples_split': 20.0,\n",
       "  'clustering_model__estimators__2__min_samples_leaf': 22.0,\n",
       "  'clustering_model__estimators__3__max_depth': 20.0,\n",
       "  'clustering_model__estimators__3__lambda': 0.2,\n",
       "  'clustering_model__estimators__3__n_estimators': 50.0,\n",
       "  'clustering_model__estimators__3__eta': 0.06,\n",
       "  'clustering_model__estimators__3__alpha': 0.6100000000000001,\n",
       "  'clustering_model__estimators__4__n_estimators': 80.0,\n",
       "  'clustering_model__estimators__4__max_depth': 3.0,\n",
       "  'clustering_model__estimators__4__min_samples_split': 11.0,\n",
       "  'clustering_model__estimators__4__min_samples_leaf': 10.0,\n",
       "  'clustering_model__estimators__5__max_depth': nan,\n",
       "  'clustering_model__estimators__5__lambda': 0.30000000000000004,\n",
       "  'clustering_model__estimators__5__n_estimators': 180.0,\n",
       "  'clustering_model__estimators__5__eta': 0.26,\n",
       "  'clustering_model__estimators__5__alpha': 0.8900000000000001,\n",
       "  'features_selector__percentile': nan,\n",
       "  'clustering_model__estimators__6__n_estimators': nan,\n",
       "  'clustering_model__estimators__6__max_depth': nan,\n",
       "  'clustering_model__estimators__6__min_samples_split': nan,\n",
       "  'clustering_model__estimators__6__min_samples_leaf': nan,\n",
       "  'clustering_model__estimators__7__max_depth': nan,\n",
       "  'clustering_model__estimators__7__lambda': nan,\n",
       "  'clustering_model__estimators__7__n_estimators': nan,\n",
       "  'clustering_model__estimators__7__eta': nan,\n",
       "  'clustering_model__estimators__7__alpha': nan,\n",
       "  'features_selector__k': nan},\n",
       " 'Kmeans-n_clusters=7': {'preprocessing__quant__imputer__method': 'simple_median',\n",
       "  'preprocessing__cat__imputer__method': 'simple_most_frequent',\n",
       "  'preprocessing__quant__scaler__apply': False,\n",
       "  'preprocessing__cat__encoder__method': 'ordinal',\n",
       "  'features_selector__apply': False,\n",
       "  'features_selector__method': nan,\n",
       "  'preprocessing__quant__scaler__method': nan,\n",
       "  'clustering_model__n_clusters': 7,\n",
       "  'clustering_model__estimators__0__n_estimators': 89,\n",
       "  'clustering_model__estimators__0__max_depth': 7.0,\n",
       "  'clustering_model__estimators__0__min_samples_split': 11,\n",
       "  'clustering_model__estimators__0__min_samples_leaf': 21,\n",
       "  'clustering_model__estimators__1__max_depth': 20.0,\n",
       "  'clustering_model__estimators__1__lambda': 0.4,\n",
       "  'clustering_model__estimators__1__n_estimators': 70,\n",
       "  'clustering_model__estimators__1__eta': 0.24,\n",
       "  'clustering_model__estimators__1__alpha': 0.32,\n",
       "  'clustering_model__estimators__2__n_estimators': 73.0,\n",
       "  'clustering_model__estimators__2__max_depth': nan,\n",
       "  'clustering_model__estimators__2__min_samples_split': 10.0,\n",
       "  'clustering_model__estimators__2__min_samples_leaf': 2.0,\n",
       "  'clustering_model__estimators__3__max_depth': 10.0,\n",
       "  'clustering_model__estimators__3__lambda': 0.1,\n",
       "  'clustering_model__estimators__3__n_estimators': 70.0,\n",
       "  'clustering_model__estimators__3__eta': 0.16,\n",
       "  'clustering_model__estimators__3__alpha': 0.8,\n",
       "  'clustering_model__estimators__4__n_estimators': 65.0,\n",
       "  'clustering_model__estimators__4__max_depth': 20.0,\n",
       "  'clustering_model__estimators__4__min_samples_split': 10.0,\n",
       "  'clustering_model__estimators__4__min_samples_leaf': 22.0,\n",
       "  'clustering_model__estimators__5__max_depth': 20.0,\n",
       "  'clustering_model__estimators__5__lambda': 0.2,\n",
       "  'clustering_model__estimators__5__n_estimators': 70.0,\n",
       "  'clustering_model__estimators__5__eta': 0.3,\n",
       "  'clustering_model__estimators__5__alpha': 0.53,\n",
       "  'features_selector__percentile': nan,\n",
       "  'clustering_model__estimators__6__n_estimators': 84.0,\n",
       "  'clustering_model__estimators__6__max_depth': 10.0,\n",
       "  'clustering_model__estimators__6__min_samples_split': 8.0,\n",
       "  'clustering_model__estimators__6__min_samples_leaf': 23.0,\n",
       "  'clustering_model__estimators__7__max_depth': nan,\n",
       "  'clustering_model__estimators__7__lambda': nan,\n",
       "  'clustering_model__estimators__7__n_estimators': nan,\n",
       "  'clustering_model__estimators__7__eta': nan,\n",
       "  'clustering_model__estimators__7__alpha': nan,\n",
       "  'features_selector__k': nan}}"
      ]
     },
     "execution_count": 75,
     "metadata": {},
     "output_type": "execute_result"
    }
   ],
   "source": [
    "best_params_large"
   ]
  },
  {
   "cell_type": "code",
   "execution_count": 10,
   "metadata": {},
   "outputs": [],
   "source": [
    "# Saving the results as pickle files\n",
    "\n",
    "with open(f'Kmeans_results/best_params_large', 'wb') as file:\n",
    "    pickle.dump(best_params, file)\n",
    "\n",
    "with open(f'Kmeans_results/inner_scores_large', 'wb') as file:\n",
    "    pickle.dump(inner_score, file)"
   ]
  },
  {
   "cell_type": "code",
   "execution_count": 76,
   "metadata": {},
   "outputs": [],
   "source": [
    "inner_score_values = - np.array(list(inner_score_large.values())) # getting the positive MAE (the original score was negative MAE)\n",
    "pipelines_names = np.array(list(inner_score_large.keys()))\n",
    "best_pipeline = pipelines_names[np.argmin(inner_score_values)]\n",
    "score_best_pipeline = np.min(inner_score_values)\n",
    "\n",
    "combined_models_score = list(zip(pipelines_names, inner_score_values))\n",
    "sorted_combined_models_score= sorted(combined_models_score, key=lambda x: x[1], reverse=False)  # Sort from lower to greater\n",
    "sorted_pipelines, sorted_scores = zip(*sorted_combined_models_score)\n",
    "sorted_pipelines = list(sorted_pipelines)\n",
    "sorted_scores = list(sorted_scores)"
   ]
  },
  {
   "cell_type": "code",
   "execution_count": 77,
   "metadata": {},
   "outputs": [
    {
     "data": {
      "image/png": "[encoded data removed]",
      "text/plain": [
       "<Figure size 500x400 with 1 Axes>"
      ]
     },
     "metadata": {},
     "output_type": "display_data"
    },
    {
     "name": "stdout",
     "output_type": "stream",
     "text": [
      "The best model among all the 6 alternatives plotted, according to the inner evaluation, is: Kmeans-n_clusters=2\n",
      "MAE of the best model: 200613.991\n",
      "\n",
      "The best model hyper-parameters are: {'preprocessing__quant__imputer__method': 'iterative_median', 'preprocessing__cat__imputer__method': 'simple_most_frequent', 'preprocessing__quant__scaler__apply': False, 'preprocessing__cat__encoder__method': 'ordinal', 'features_selector__apply': False, 'features_selector__method': nan, 'preprocessing__quant__scaler__method': nan, 'clustering_model__n_clusters': 2, 'clustering_model__estimators__0__n_estimators': 87, 'clustering_model__estimators__0__max_depth': 40.0, 'clustering_model__estimators__0__min_samples_split': 14, 'clustering_model__estimators__0__min_samples_leaf': 13, 'clustering_model__estimators__1__max_depth': 10.0, 'clustering_model__estimators__1__lambda': 0.5, 'clustering_model__estimators__1__n_estimators': 100, 'clustering_model__estimators__1__eta': 0.14, 'clustering_model__estimators__1__alpha': 0.9299999999999999, 'clustering_model__estimators__2__n_estimators': nan, 'clustering_model__estimators__2__max_depth': nan, 'clustering_model__estimators__2__min_samples_split': nan, 'clustering_model__estimators__2__min_samples_leaf': nan, 'clustering_model__estimators__3__max_depth': nan, 'clustering_model__estimators__3__lambda': nan, 'clustering_model__estimators__3__n_estimators': nan, 'clustering_model__estimators__3__eta': nan, 'clustering_model__estimators__3__alpha': nan, 'clustering_model__estimators__4__n_estimators': nan, 'clustering_model__estimators__4__max_depth': nan, 'clustering_model__estimators__4__min_samples_split': nan, 'clustering_model__estimators__4__min_samples_leaf': nan, 'clustering_model__estimators__5__max_depth': nan, 'clustering_model__estimators__5__lambda': nan, 'clustering_model__estimators__5__n_estimators': nan, 'clustering_model__estimators__5__eta': nan, 'clustering_model__estimators__5__alpha': nan, 'features_selector__percentile': nan, 'clustering_model__estimators__6__n_estimators': nan, 'clustering_model__estimators__6__max_depth': nan, 'clustering_model__estimators__6__min_samples_split': nan, 'clustering_model__estimators__6__min_samples_leaf': nan, 'clustering_model__estimators__7__max_depth': nan, 'clustering_model__estimators__7__lambda': nan, 'clustering_model__estimators__7__n_estimators': nan, 'clustering_model__estimators__7__eta': nan, 'clustering_model__estimators__7__alpha': nan, 'features_selector__k': nan}\n"
     ]
    }
   ],
   "source": [
    "fig, axes = plt.subplots(figsize=(5,4))\n",
    "\n",
    "ax = sns.barplot(y=sorted_pipelines, x=sorted_scores, color='blue', width=0.4, alpha=0.9)\n",
    "ax = sns.barplot(y=[best_pipeline], x=[score_best_pipeline], color='red', width=0.4, alpha=0.9)\n",
    "\n",
    "ax.set_ylabel('Models', size=12)\n",
    "ax.set_xlabel('MAE', size=12)\n",
    "ax.set_xticks(np.round(np.linspace(0, np.max(inner_score_values), 7),3)) \n",
    "ax.tick_params(axis='y', labelsize=11)    \n",
    "plt.title(f'Model Selection - Inner Evaluation: 4-Fold CV', size=13, weight='bold')\n",
    "for label in ax.get_yticklabels():\n",
    "    label.set_color('black') \n",
    "plt.show()\n",
    "\n",
    "print(f'The best model among all the {len(sorted_scores)} alternatives plotted, according to the inner evaluation, is: {best_pipeline}')\n",
    "print('MAE of the best model:', np.round(score_best_pipeline, 3))\n",
    "print('\\nThe best model hyper-parameters are:', best_params_large[best_pipeline])"
   ]
  }
 ],
 "metadata": {
  "kernelspec": {
   "display_name": "Python 3",
   "language": "python",
   "name": "python3"
  },
  "language_info": {
   "codemirror_mode": {
    "name": "ipython",
    "version": 3
   },
   "file_extension": ".py",
   "mimetype": "text/x-python",
   "name": "python",
   "nbconvert_exporter": "python",
   "pygments_lexer": "ipython3",
   "version": "3.12.0"
  }
 },
 "nbformat": 4,
 "nbformat_minor": 2
}

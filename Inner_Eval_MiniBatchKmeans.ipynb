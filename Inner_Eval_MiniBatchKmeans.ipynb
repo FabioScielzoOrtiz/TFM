{
 "cells": [
  {
   "cell_type": "markdown",
   "metadata": {},
   "source": [
    "# **Inner Evaluation: Kmeans**"
   ]
  },
  {
   "cell_type": "markdown",
   "metadata": {},
   "source": [
    "## **Requirements**"
   ]
  },
  {
   "cell_type": "code",
   "execution_count": 1,
   "metadata": {},
   "outputs": [],
   "source": [
    "import polars as pl\n",
    "import pandas as pd\n",
    "import numpy as np\n",
    "import sys\n",
    "from sklearn.preprocessing import OrdinalEncoder\n",
    "from sklearn.compose import ColumnTransformer\n",
    "from sklearn.pipeline import Pipeline\n",
    "from sklearn.model_selection import train_test_split, KFold, cross_val_score\n",
    "from sklearn.tree import DecisionTreeRegressor\n",
    "from sklearn.linear_model import LinearRegression, Ridge, Lasso, ElasticNet\n",
    "from sklearn.ensemble import RandomForestRegressor, HistGradientBoostingRegressor, ExtraTreesRegressor\n",
    "from sklearn.neighbors import KNeighborsRegressor\n",
    "from  xgboost import XGBRegressor\n",
    "from sklearn.svm import LinearSVR\n",
    "from sklearn.metrics import mean_absolute_error\n",
    "import pickle\n",
    "import warnings\n",
    "warnings.filterwarnings('ignore')\n",
    "from sklearn.metrics import silhouette_score\n",
    "from sklearn.cluster import KMeans\n",
    "import seaborn as sns\n",
    "import matplotlib.pyplot as plt \n",
    "sns.set_style('whitegrid')"
   ]
  },
  {
   "cell_type": "code",
   "execution_count": 2,
   "metadata": {},
   "outputs": [],
   "source": [
    "sys.path.insert(0, r'C:\\Users\\fscielzo\\Documents\\Packages\\PyML_Package_Private')\n",
    "from PyML.preprocessing import encoder, imputer, scaler, features_selector\n",
    "from PyML.evaluation import SimpleEvaluation\n"
   ]
  },
  {
   "cell_type": "code",
   "execution_count": 3,
   "metadata": {},
   "outputs": [],
   "source": [
    "sys.path.insert(0, r'C:\\Users\\fscielzo\\Documents\\Packages\\FastKmedoids_Package_Private')\n",
    "from FastKmedoids.models import MiniBatchKmeansEstimator\n",
    "from FastKmedoids.data import sort_predictors_for_GG"
   ]
  },
  {
   "cell_type": "markdown",
   "metadata": {},
   "source": [
    "## **Data**"
   ]
  },
  {
   "cell_type": "code",
   "execution_count": 4,
   "metadata": {},
   "outputs": [
    {
     "data": {
      "text/html": [
       "<div><style>\n",
       ".dataframe > thead > tr,\n",
       ".dataframe > tbody > tr {\n",
       "  text-align: right;\n",
       "  white-space: pre-wrap;\n",
       "}\n",
       "</style>\n",
       "<small>shape: (5, 12)</small><table border=\"1\" class=\"dataframe\"><thead><tr><th>sq_mt_built</th><th>n_rooms</th><th>n_bathrooms</th><th>n_floors</th><th>floor</th><th>buy_price</th><th>is_renewal_needed</th><th>has_lift</th><th>is_exterior</th><th>energy_certificate</th><th>has_parking</th><th>house_type</th></tr><tr><td>f64</td><td>i64</td><td>i64</td><td>i64</td><td>i64</td><td>i64</td><td>bool</td><td>bool</td><td>bool</td><td>i64</td><td>bool</td><td>i64</td></tr></thead><tbody><tr><td>64.0</td><td>2</td><td>1</td><td>1</td><td>3</td><td>85000</td><td>false</td><td>false</td><td>true</td><td>4</td><td>false</td><td>1</td></tr><tr><td>70.0</td><td>3</td><td>1</td><td>1</td><td>4</td><td>129900</td><td>true</td><td>true</td><td>true</td><td>0</td><td>false</td><td>1</td></tr><tr><td>94.0</td><td>2</td><td>2</td><td>1</td><td>1</td><td>144247</td><td>false</td><td>true</td><td>true</td><td>0</td><td>false</td><td>1</td></tr><tr><td>64.0</td><td>2</td><td>1</td><td>1</td><td>-1</td><td>109900</td><td>false</td><td>true</td><td>true</td><td>0</td><td>false</td><td>1</td></tr><tr><td>108.0</td><td>2</td><td>2</td><td>1</td><td>4</td><td>260000</td><td>false</td><td>true</td><td>true</td><td>0</td><td>true</td><td>1</td></tr></tbody></table></div>"
      ],
      "text/plain": [
       "shape: (5, 12)\n",
       "┌────────────┬─────────┬────────────┬──────────┬───┬───────────┬───────────┬───────────┬───────────┐\n",
       "│ sq_mt_buil ┆ n_rooms ┆ n_bathroom ┆ n_floors ┆ … ┆ is_exteri ┆ energy_ce ┆ has_parki ┆ house_typ │\n",
       "│ t          ┆ ---     ┆ s          ┆ ---      ┆   ┆ or        ┆ rtificate ┆ ng        ┆ e         │\n",
       "│ ---        ┆ i64     ┆ ---        ┆ i64      ┆   ┆ ---       ┆ ---       ┆ ---       ┆ ---       │\n",
       "│ f64        ┆         ┆ i64        ┆          ┆   ┆ bool      ┆ i64       ┆ bool      ┆ i64       │\n",
       "╞════════════╪═════════╪════════════╪══════════╪═══╪═══════════╪═══════════╪═══════════╪═══════════╡\n",
       "│ 64.0       ┆ 2       ┆ 1          ┆ 1        ┆ … ┆ true      ┆ 4         ┆ false     ┆ 1         │\n",
       "│ 70.0       ┆ 3       ┆ 1          ┆ 1        ┆ … ┆ true      ┆ 0         ┆ false     ┆ 1         │\n",
       "│ 94.0       ┆ 2       ┆ 2          ┆ 1        ┆ … ┆ true      ┆ 0         ┆ false     ┆ 1         │\n",
       "│ 64.0       ┆ 2       ┆ 1          ┆ 1        ┆ … ┆ true      ┆ 0         ┆ false     ┆ 1         │\n",
       "│ 108.0      ┆ 2       ┆ 2          ┆ 1        ┆ … ┆ true      ┆ 0         ┆ true      ┆ 1         │\n",
       "└────────────┴─────────┴────────────┴──────────┴───┴───────────┴───────────┴───────────┴───────────┘"
      ]
     },
     "execution_count": 4,
     "metadata": {},
     "output_type": "execute_result"
    }
   ],
   "source": [
    "madrid_houses_df = pl.read_csv('Data/madrid_houses_NaNS.csv')\n",
    "variables_to_remove = ['', 'id', 'district', 'neighborhood', 'sq_mt_allotment']\n",
    "variables_to_keep = [x for x in madrid_houses_df.columns if x not in variables_to_remove]\n",
    "madrid_houses_df = madrid_houses_df[variables_to_keep]\n",
    "madrid_houses_df.head()"
   ]
  },
  {
   "cell_type": "code",
   "execution_count": 5,
   "metadata": {},
   "outputs": [],
   "source": [
    "quant_columns = ['sq_mt_built', 'n_rooms', 'n_bathrooms', 'n_floors', 'buy_price']\n",
    "cat_columns = [x for x in madrid_houses_df.columns if x not in quant_columns]\n",
    "\n",
    "response = 'buy_price'\n",
    "quant_predictors = [x for x in quant_columns if x != response]\n",
    "cat_predictors = [x for x in cat_columns if x != response]\n",
    "predictors = quant_predictors + cat_predictors"
   ]
  },
  {
   "cell_type": "code",
   "execution_count": 6,
   "metadata": {},
   "outputs": [],
   "source": [
    "cat_predictors_sorted, p1, p2, p3 = sort_predictors_for_GG(df=madrid_houses_df, quant_predictors=quant_predictors, cat_predictors=cat_predictors)"
   ]
  },
  {
   "cell_type": "markdown",
   "metadata": {},
   "source": [
    "## **Response and Predictors**"
   ]
  },
  {
   "cell_type": "code",
   "execution_count": 7,
   "metadata": {},
   "outputs": [],
   "source": [
    "Y = madrid_houses_df[response].to_pandas()\n",
    "X = madrid_houses_df[predictors].to_pandas()\n",
    "# The Null values of the Polars columns that are define as Object type by Pandas are treated as None and not as NaN (what we would like)\n",
    "# The avoid this behavior the next step is necessary\n",
    "X = X.fillna(value=np.nan)"
   ]
  },
  {
   "cell_type": "markdown",
   "metadata": {},
   "source": [
    "## **Defining outer evaluation: train-test split**\n"
   ]
  },
  {
   "cell_type": "code",
   "execution_count": 8,
   "metadata": {},
   "outputs": [],
   "source": [
    "# Defining the outer-evaluation: train-test split.\n",
    "X_train, X_test, Y_train, Y_test = train_test_split(X, Y, train_size=0.90, random_state=123)\n",
    "# We set a large train size since we are mainly interested in compare models not in estimating the feature performance (indeed, we could omit the test part and doing the inner eval. with the whole data)"
   ]
  },
  {
   "cell_type": "markdown",
   "metadata": {},
   "source": [
    "## **Defining inner evaluation: K-Fold Cross Validation**"
   ]
  },
  {
   "cell_type": "code",
   "execution_count": 9,
   "metadata": {},
   "outputs": [],
   "source": [
    "# Defining the inner-evaluation: K-fold cross validation\n",
    "inner = KFold(n_splits=4, shuffle=True, random_state=111)"
   ]
  },
  {
   "cell_type": "code",
   "execution_count": 10,
   "metadata": {},
   "outputs": [],
   "source": [
    "inner_score, best_params, inner_results = {}, {}, {}"
   ]
  },
  {
   "cell_type": "markdown",
   "metadata": {},
   "source": [
    "## Example of usage"
   ]
  },
  {
   "cell_type": "code",
   "execution_count": 11,
   "metadata": {},
   "outputs": [],
   "source": [
    "quant_pipeline = Pipeline([('imputer', imputer(apply=True, method='iterative_median'))])\n",
    "\n",
    "cat_pipeline = Pipeline([('encoder', encoder(method='ordinal')),\n",
    "                         ('imputer', imputer(apply=True, method='simple_most_frequent'))])\n",
    "\n",
    "quant_cat_transformer = ColumnTransformer(transformers=[('quant', quant_pipeline, quant_predictors),\n",
    "                                                        ('cat', cat_pipeline, cat_predictors_sorted)])"
   ]
  },
  {
   "cell_type": "code",
   "execution_count": 12,
   "metadata": {},
   "outputs": [],
   "source": [
    "# Defining estimators to be used in each cluster\n",
    "estimators_RF_XGB_2_clusters = {0: RandomForestRegressor(random_state=123),\n",
    "                                1: XGBRegressor(random_state=123)}"
   ]
  },
  {
   "cell_type": "code",
   "execution_count": 13,
   "metadata": {},
   "outputs": [],
   "source": [
    "X_train = quant_cat_transformer.fit_transform(X_train)\n",
    "X_test = quant_cat_transformer.transform(X_test)\n",
    "X_train = pd.DataFrame(X_train, columns=quant_predictors + cat_predictors_sorted)\n",
    "X_test = pd.DataFrame(X_test, columns=quant_predictors + cat_predictors_sorted)"
   ]
  },
  {
   "cell_type": "code",
   "execution_count": 14,
   "metadata": {},
   "outputs": [],
   "source": [
    "minibatchkmeans_regressor = MiniBatchKmeansEstimator(estimators=estimators_RF_XGB_2_clusters, \n",
    "                                            n_clusters=2, random_state=123)"
   ]
  },
  {
   "cell_type": "code",
   "execution_count": 15,
   "metadata": {},
   "outputs": [
    {
     "name": "stdout",
     "output_type": "stream",
     "text": [
      "Clusters weights (proportions): [0.8888321 0.1111679]\n"
     ]
    },
    {
     "data": {
      "text/plain": [
       "189570.7263808632"
      ]
     },
     "execution_count": 15,
     "metadata": {},
     "output_type": "execute_result"
    }
   ],
   "source": [
    "minibatchkmeans_regressor.fit(X=X_train, y=Y_train)\n",
    "Y_test_hat = minibatchkmeans_regressor.predict(X_test)\n",
    "mean_absolute_error(y_pred=Y_test_hat, y_true=Y_test)"
   ]
  },
  {
   "cell_type": "markdown",
   "metadata": {},
   "source": [
    "## **Pipelines definition**"
   ]
  },
  {
   "cell_type": "code",
   "execution_count": 16,
   "metadata": {},
   "outputs": [],
   "source": [
    "quant_pipeline = Pipeline([('imputer', imputer(apply=True)),\n",
    "                           ('scaler', scaler())\n",
    "                          ])\n",
    "\n",
    "cat_pipeline = Pipeline([('encoder', encoder(method='ordinal')),\n",
    "                         ('imputer', imputer(apply=True))\n",
    "                        ])\n",
    "\n",
    "quant_cat_preprocessing = ColumnTransformer(transformers=[('quant', quant_pipeline, quant_predictors),\n",
    "                                                          ('cat', cat_pipeline, cat_predictors_sorted)]) "
   ]
  },
  {
   "cell_type": "code",
   "execution_count": 17,
   "metadata": {},
   "outputs": [],
   "source": [
    "meta_models = {'XGB': XGBRegressor(random_state=123),\n",
    "               'RF': RandomForestRegressor(random_state=123)}\n",
    "\n",
    "clusters_RF = [0,2,4,6]\n",
    "clusters_XGB = [1,3,5,7]\n",
    "max_n_clusters = len(clusters_RF + clusters_XGB)\n",
    "\n",
    "estimators_RF_XGB = {j: meta_models['RF'] for j in clusters_RF}\n",
    "estimators_RF_XGB.update({j: meta_models['XGB'] for j in clusters_XGB}) \n",
    "\n",
    "clustering_estimator = MiniBatchKmeansEstimator(estimators=estimators_RF_XGB, \n",
    "                                       n_clusters=2)\n",
    "\n",
    "pipeline_clustering_model = Pipeline([('preprocessing', quant_cat_preprocessing),\n",
    "                                      ('features_selector', features_selector()),\n",
    "                                      ('clustering_model', clustering_estimator)\n",
    "                                     ]) "
   ]
  },
  {
   "cell_type": "markdown",
   "metadata": {},
   "source": [
    "## **Grids for HPO**"
   ]
  },
  {
   "cell_type": "code",
   "execution_count": 18,
   "metadata": {},
   "outputs": [],
   "source": [
    "def preprocessing_param_grid(trial):\n",
    "\n",
    "    # Fix Grid\n",
    "    param_grid = {\n",
    "        'preprocessing__quant__imputer__method': trial.suggest_categorical('preprocessing__quant__imputer__method', ['simple_mean', 'simple_median', 'iterative_mean', 'iterative_median']),\n",
    "        'preprocessing__cat__imputer__method': trial.suggest_categorical('preprocessing__cat__imputer__method', ['simple_most_frequent']),\n",
    "        'preprocessing__quant__scaler__apply': trial.suggest_categorical('preprocessing__quant__scaler__apply', [True, False]),\n",
    "        'preprocessing__cat__encoder__method': trial.suggest_categorical('preprocessing__cat__encoder__method', ['ordinal', 'one-hot']),   \n",
    "        'features_selector__apply': trial.suggest_categorical('features_selector__apply', [False, True])  \n",
    "        }\n",
    "\n",
    "    # Conditioned Grid\n",
    "    if param_grid['features_selector__apply'] == True:\n",
    "\n",
    "        param_grid.update({'features_selector__method': trial.suggest_categorical('features_selector__method', \n",
    "                                                                                  ['Fdr_f_reg', 'Fpr_f_reg', 'KBest_f_reg', 'Percentile_f_reg'\n",
    "                                                                                   #'forward_linear_reg', # Takes too much time with one-hot (too many predictors)\n",
    "                                                                                   #'backward_linear_reg' # Takes too much time with one-hot (too many predictors)\n",
    "                                                                                   ])})\n",
    "\n",
    "        if param_grid['features_selector__method'] == 'KBest_f_reg':\n",
    "\n",
    "            param_grid.update({'features_selector__k': trial.suggest_categorical('features_selector__k', [3, 5, 7, 8, 10])})\n",
    "\n",
    "        if param_grid['features_selector__method'] == 'Percentile_f_reg':\n",
    "\n",
    "            param_grid.update({'features_selector__percentile': trial.suggest_categorical('features_selector__percentile', [30, 50, 75])})\n",
    "\n",
    "\n",
    "    if param_grid['preprocessing__quant__scaler__apply'] == True:\n",
    "    \n",
    "        param_grid.update({'preprocessing__quant__scaler__method': trial.suggest_categorical('preprocessing__quant__scaler__method', ['standard', 'min-max'])})\n",
    "\n",
    "    return param_grid"
   ]
  },
  {
   "cell_type": "code",
   "execution_count": 19,
   "metadata": {},
   "outputs": [],
   "source": [
    "def param_grid_clustering_model(trial):\n",
    "\n",
    "    param_grid = {\n",
    "        'clustering_model__n_clusters': trial.suggest_int('clustering_model__n_clusters', 2, 8)\n",
    "    }\n",
    "\n",
    "    return param_grid"
   ]
  },
  {
   "cell_type": "code",
   "execution_count": 20,
   "metadata": {},
   "outputs": [],
   "source": [
    "def param_grid_RF_XGB(trial):\n",
    "\n",
    "    param_grid = preprocessing_param_grid(trial)\n",
    "    param_grid.update(param_grid_clustering_model(trial))\n",
    "\n",
    "    n_clusters = param_grid['clustering_model__n_clusters']\n",
    "\n",
    "    for j in range(0, n_clusters): # Create grids only for the effective clusters\n",
    "\n",
    "        # Grids for RF\n",
    "        if j in clusters_RF:\n",
    "\n",
    "            param_grid.update({\n",
    "                f'clustering_model__estimators__{j}__n_estimators': trial.suggest_int(f'clustering_model__estimators__{j}__n_estimators', 50, 120),\n",
    "                f'clustering_model__estimators__{j}__max_depth': trial.suggest_categorical(f'clustering_model__estimators__{j}__max_depth', [None, 3, 5, 7, 10, 20, 30, 40, 50]),\n",
    "                f'clustering_model__estimators__{j}__min_samples_split': trial.suggest_int(f'clustering_model__estimators__{j}__min_samples_split', 2, 25),\n",
    "                f'clustering_model__estimators__{j}__min_samples_leaf': trial.suggest_int(f'clustering_model__estimators__{j}__min_samples_leaf', 2, 25)\n",
    "            })\n",
    "\n",
    "        # Grids for XGB\n",
    "        if j in clusters_XGB:  \n",
    "\n",
    "            param_grid.update({\n",
    "                f'clustering_model__estimators__{j}__max_depth': trial.suggest_categorical(f'clustering_model__estimators__{j}__max_depth', [None, 3, 5, 7, 10, 20, 30, 40, 50]),\n",
    "                f'clustering_model__estimators__{j}__lambda': trial.suggest_float(f'clustering_model__estimators__{j}__lambda', 0, 0.5, step=0.1, log=False),\n",
    "                f'clustering_model__estimators__{j}__n_estimators': trial.suggest_categorical(f'clustering_model__estimators__{j}__n_estimators', [30, 50, 70, 100, 150, 180]),\n",
    "                f'clustering_model__estimators__{j}__eta': trial.suggest_float(f'clustering_model__estimators__{j}__eta', 0, 0.3, step=0.02, log=False),\n",
    "                f'clustering_model__estimators__{j}__alpha': trial.suggest_float(f'clustering_model__estimators__{j}__alpha', 0.2, 1, step=0.01, log=False)\n",
    "            })\n",
    "\n",
    "    return param_grid"
   ]
  },
  {
   "cell_type": "markdown",
   "metadata": {},
   "source": [
    "## **HPO**"
   ]
  },
  {
   "cell_type": "code",
   "execution_count": 21,
   "metadata": {},
   "outputs": [
    {
     "name": "stderr",
     "output_type": "stream",
     "text": [
      "[I 2024-04-17 11:45:57,693] A new study created in memory with name: no-name-e134caaa-49d2-4c14-9c54-73ef269c508d\n"
     ]
    },
    {
     "name": "stdout",
     "output_type": "stream",
     "text": [
      "Clusters weights (proportions): [0.88073332 0.11926668]\n",
      "Clusters weights (proportions): [0.86670301 0.13329699]\n",
      "Clusters weights (proportions): [0.87835628 0.12164372]\n",
      "Clusters weights (proportions): [0.87678888 0.12321112]\n"
     ]
    },
    {
     "name": "stderr",
     "output_type": "stream",
     "text": [
      "[I 2024-04-17 11:46:43,494] Trial 0 finished with value: -436124.6987498269 and parameters: {'preprocessing__quant__imputer__method': 'simple_median', 'preprocessing__cat__imputer__method': 'simple_most_frequent', 'preprocessing__quant__scaler__apply': True, 'preprocessing__cat__encoder__method': 'ordinal', 'features_selector__apply': True, 'features_selector__method': 'Fpr_f_reg', 'preprocessing__quant__scaler__method': 'min-max', 'clustering_model__n_clusters': 2, 'clustering_model__estimators__0__n_estimators': 58, 'clustering_model__estimators__0__max_depth': 40, 'clustering_model__estimators__0__min_samples_split': 8, 'clustering_model__estimators__0__min_samples_leaf': 16, 'clustering_model__estimators__1__max_depth': 3, 'clustering_model__estimators__1__lambda': 0.4, 'clustering_model__estimators__1__n_estimators': 150, 'clustering_model__estimators__1__eta': 0.08, 'clustering_model__estimators__1__alpha': 0.65}. Best is trial 0 with value: -436124.6987498269.\n"
     ]
    },
    {
     "name": "stdout",
     "output_type": "stream",
     "text": [
      "Clusters weights (proportions): [0.14066653 0.798746   0.04791113 0.01267634]\n",
      "Clusters weights (proportions): [0.62661851 0.099632   0.25630367 0.01744582]\n",
      "Clusters weights (proportions): [0.70771432 0.01560583 0.07468993 0.20198991]\n",
      "Clusters weights (proportions): [0.3262914  0.03243833 0.12143928 0.51983099]\n"
     ]
    },
    {
     "name": "stderr",
     "output_type": "stream",
     "text": [
      "[I 2024-04-17 11:47:24,664] Trial 1 finished with value: -225973.35426895798 and parameters: {'preprocessing__quant__imputer__method': 'simple_mean', 'preprocessing__cat__imputer__method': 'simple_most_frequent', 'preprocessing__quant__scaler__apply': False, 'preprocessing__cat__encoder__method': 'one-hot', 'features_selector__apply': False, 'clustering_model__n_clusters': 4, 'clustering_model__estimators__0__n_estimators': 105, 'clustering_model__estimators__0__max_depth': 5, 'clustering_model__estimators__0__min_samples_split': 14, 'clustering_model__estimators__0__min_samples_leaf': 9, 'clustering_model__estimators__1__max_depth': 10, 'clustering_model__estimators__1__lambda': 0.1, 'clustering_model__estimators__1__n_estimators': 150, 'clustering_model__estimators__1__eta': 0.0, 'clustering_model__estimators__1__alpha': 0.78, 'clustering_model__estimators__2__n_estimators': 50, 'clustering_model__estimators__2__max_depth': 20, 'clustering_model__estimators__2__min_samples_split': 6, 'clustering_model__estimators__2__min_samples_leaf': 4, 'clustering_model__estimators__3__max_depth': 40, 'clustering_model__estimators__3__lambda': 0.0, 'clustering_model__estimators__3__n_estimators': 30, 'clustering_model__estimators__3__eta': 0.14, 'clustering_model__estimators__3__alpha': 0.45}. Best is trial 1 with value: -225973.35426895798.\n"
     ]
    },
    {
     "name": "stdout",
     "output_type": "stream",
     "text": [
      "Clusters weights (proportions): [0.42554352 0.01553874 0.09200572 0.2424862  0.0528181  0.17160771]\n",
      "Clusters weights (proportions): [0.01478806 0.45904321 0.08525283 0.05199673 0.15203762 0.23688156]\n",
      "Clusters weights (proportions): [0.21091727 0.01765027 0.06446777 0.11544228 0.23545046 0.35607196]\n",
      "Clusters weights (proportions): [0.28281314 0.03441461 0.14338285 0.00858662 0.08314025 0.44766253]\n"
     ]
    },
    {
     "name": "stderr",
     "output_type": "stream",
     "text": [
      "[I 2024-04-17 11:48:04,254] Trial 2 finished with value: -237850.8636629684 and parameters: {'preprocessing__quant__imputer__method': 'simple_mean', 'preprocessing__cat__imputer__method': 'simple_most_frequent', 'preprocessing__quant__scaler__apply': False, 'preprocessing__cat__encoder__method': 'ordinal', 'features_selector__apply': False, 'clustering_model__n_clusters': 6, 'clustering_model__estimators__0__n_estimators': 77, 'clustering_model__estimators__0__max_depth': 20, 'clustering_model__estimators__0__min_samples_split': 7, 'clustering_model__estimators__0__min_samples_leaf': 22, 'clustering_model__estimators__1__max_depth': 50, 'clustering_model__estimators__1__lambda': 0.2, 'clustering_model__estimators__1__n_estimators': 30, 'clustering_model__estimators__1__eta': 0.12, 'clustering_model__estimators__1__alpha': 0.8400000000000001, 'clustering_model__estimators__2__n_estimators': 54, 'clustering_model__estimators__2__max_depth': 50, 'clustering_model__estimators__2__min_samples_split': 20, 'clustering_model__estimators__2__min_samples_leaf': 22, 'clustering_model__estimators__3__max_depth': 20, 'clustering_model__estimators__3__lambda': 0.2, 'clustering_model__estimators__3__n_estimators': 50, 'clustering_model__estimators__3__eta': 0.06, 'clustering_model__estimators__3__alpha': 0.6100000000000001, 'clustering_model__estimators__4__n_estimators': 80, 'clustering_model__estimators__4__max_depth': 3, 'clustering_model__estimators__4__min_samples_split': 11, 'clustering_model__estimators__4__min_samples_leaf': 10, 'clustering_model__estimators__5__max_depth': None, 'clustering_model__estimators__5__lambda': 0.30000000000000004, 'clustering_model__estimators__5__n_estimators': 180, 'clustering_model__estimators__5__eta': 0.26, 'clustering_model__estimators__5__alpha': 0.8900000000000001}. Best is trial 1 with value: -225973.35426895798.\n"
     ]
    },
    {
     "name": "stdout",
     "output_type": "stream",
     "text": [
      "Clusters weights (proportions): [0.42554352 0.01553874 0.09200572 0.2424862  0.0528181  0.17160771]\n",
      "Clusters weights (proportions): [0.01478806 0.45904321 0.08525283 0.05199673 0.15203762 0.23688156]\n",
      "Clusters weights (proportions): [0.20764618 0.01765027 0.06446777 0.11912226 0.23783563 0.35327791]\n",
      "Clusters weights (proportions): [0.28281314 0.03441461 0.14338285 0.00858662 0.08314025 0.44766253]\n"
     ]
    },
    {
     "name": "stderr",
     "output_type": "stream",
     "text": [
      "[I 2024-04-17 11:48:56,065] Trial 3 finished with value: -623791.0039057308 and parameters: {'preprocessing__quant__imputer__method': 'simple_mean', 'preprocessing__cat__imputer__method': 'simple_most_frequent', 'preprocessing__quant__scaler__apply': True, 'preprocessing__cat__encoder__method': 'ordinal', 'features_selector__apply': True, 'features_selector__method': 'Percentile_f_reg', 'features_selector__percentile': 50, 'preprocessing__quant__scaler__method': 'min-max', 'clustering_model__n_clusters': 6, 'clustering_model__estimators__0__n_estimators': 66, 'clustering_model__estimators__0__max_depth': 50, 'clustering_model__estimators__0__min_samples_split': 19, 'clustering_model__estimators__0__min_samples_leaf': 24, 'clustering_model__estimators__1__max_depth': 50, 'clustering_model__estimators__1__lambda': 0.1, 'clustering_model__estimators__1__n_estimators': 50, 'clustering_model__estimators__1__eta': 0.26, 'clustering_model__estimators__1__alpha': 0.33, 'clustering_model__estimators__2__n_estimators': 95, 'clustering_model__estimators__2__max_depth': 7, 'clustering_model__estimators__2__min_samples_split': 13, 'clustering_model__estimators__2__min_samples_leaf': 8, 'clustering_model__estimators__3__max_depth': 5, 'clustering_model__estimators__3__lambda': 0.30000000000000004, 'clustering_model__estimators__3__n_estimators': 100, 'clustering_model__estimators__3__eta': 0.26, 'clustering_model__estimators__3__alpha': 0.45, 'clustering_model__estimators__4__n_estimators': 106, 'clustering_model__estimators__4__max_depth': 7, 'clustering_model__estimators__4__min_samples_split': 16, 'clustering_model__estimators__4__min_samples_leaf': 13, 'clustering_model__estimators__5__max_depth': 30, 'clustering_model__estimators__5__lambda': 0.1, 'clustering_model__estimators__5__n_estimators': 180, 'clustering_model__estimators__5__eta': 0.24, 'clustering_model__estimators__5__alpha': 0.62}. Best is trial 1 with value: -225973.35426895798.\n"
     ]
    },
    {
     "name": "stdout",
     "output_type": "stream",
     "text": [
      "Clusters weights (proportions): [0.54446943 0.08587201 0.03094118 0.11435971 0.22435766]\n",
      "Clusters weights (proportions): [0.16696197 0.28962791 0.02685021 0.42619599 0.09036391]\n",
      "Clusters weights (proportions): [0.08995502 0.62396075 0.01029031 0.23531416 0.04047976]\n",
      "Clusters weights (proportions): [0.46572168 0.0301213  0.14713098 0.26618509 0.09084094]\n"
     ]
    },
    {
     "name": "stderr",
     "output_type": "stream",
     "text": [
      "[I 2024-04-17 11:49:44,236] Trial 4 finished with value: -223834.05058343627 and parameters: {'preprocessing__quant__imputer__method': 'iterative_mean', 'preprocessing__cat__imputer__method': 'simple_most_frequent', 'preprocessing__quant__scaler__apply': False, 'preprocessing__cat__encoder__method': 'ordinal', 'features_selector__apply': True, 'features_selector__method': 'Fdr_f_reg', 'clustering_model__n_clusters': 5, 'clustering_model__estimators__0__n_estimators': 104, 'clustering_model__estimators__0__max_depth': 7, 'clustering_model__estimators__0__min_samples_split': 5, 'clustering_model__estimators__0__min_samples_leaf': 5, 'clustering_model__estimators__1__max_depth': 3, 'clustering_model__estimators__1__lambda': 0.0, 'clustering_model__estimators__1__n_estimators': 50, 'clustering_model__estimators__1__eta': 0.08, 'clustering_model__estimators__1__alpha': 0.32, 'clustering_model__estimators__2__n_estimators': 98, 'clustering_model__estimators__2__max_depth': 10, 'clustering_model__estimators__2__min_samples_split': 12, 'clustering_model__estimators__2__min_samples_leaf': 23, 'clustering_model__estimators__3__max_depth': 10, 'clustering_model__estimators__3__lambda': 0.2, 'clustering_model__estimators__3__n_estimators': 70, 'clustering_model__estimators__3__eta': 0.04, 'clustering_model__estimators__3__alpha': 0.99, 'clustering_model__estimators__4__n_estimators': 51, 'clustering_model__estimators__4__max_depth': None, 'clustering_model__estimators__4__min_samples_split': 11, 'clustering_model__estimators__4__min_samples_leaf': 8}. Best is trial 4 with value: -223834.05058343627.\n"
     ]
    },
    {
     "name": "stdout",
     "output_type": "stream",
     "text": [
      "Clusters weights (proportions): [0.88073332 0.11926668]\n",
      "Clusters weights (proportions): [0.86670301 0.13329699]\n",
      "Clusters weights (proportions): [0.87835628 0.12164372]\n",
      "Clusters weights (proportions): [0.87678888 0.12321112]\n"
     ]
    },
    {
     "name": "stderr",
     "output_type": "stream",
     "text": [
      "[I 2024-04-17 11:51:26,429] Trial 5 finished with value: -201033.3767351272 and parameters: {'preprocessing__quant__imputer__method': 'simple_median', 'preprocessing__cat__imputer__method': 'simple_most_frequent', 'preprocessing__quant__scaler__apply': False, 'preprocessing__cat__encoder__method': 'ordinal', 'features_selector__apply': False, 'clustering_model__n_clusters': 2, 'clustering_model__estimators__0__n_estimators': 75, 'clustering_model__estimators__0__max_depth': 7, 'clustering_model__estimators__0__min_samples_split': 16, 'clustering_model__estimators__0__min_samples_leaf': 23, 'clustering_model__estimators__1__max_depth': 5, 'clustering_model__estimators__1__lambda': 0.30000000000000004, 'clustering_model__estimators__1__n_estimators': 50, 'clustering_model__estimators__1__eta': 0.24, 'clustering_model__estimators__1__alpha': 0.43000000000000005}. Best is trial 5 with value: -201033.3767351272.\n"
     ]
    },
    {
     "name": "stdout",
     "output_type": "stream",
     "text": [
      "Clusters weights (proportions): [0.88073332 0.11926668]\n",
      "Clusters weights (proportions): [0.86670301 0.13329699]\n",
      "Clusters weights (proportions): [0.87835628 0.12164372]\n",
      "Clusters weights (proportions): [0.87678888 0.12321112]\n"
     ]
    },
    {
     "name": "stderr",
     "output_type": "stream",
     "text": [
      "[I 2024-04-17 11:52:19,116] Trial 6 finished with value: -425066.7027996639 and parameters: {'preprocessing__quant__imputer__method': 'simple_median', 'preprocessing__cat__imputer__method': 'simple_most_frequent', 'preprocessing__quant__scaler__apply': True, 'preprocessing__cat__encoder__method': 'one-hot', 'features_selector__apply': True, 'features_selector__method': 'Fdr_f_reg', 'preprocessing__quant__scaler__method': 'min-max', 'clustering_model__n_clusters': 2, 'clustering_model__estimators__0__n_estimators': 52, 'clustering_model__estimators__0__max_depth': 30, 'clustering_model__estimators__0__min_samples_split': 6, 'clustering_model__estimators__0__min_samples_leaf': 17, 'clustering_model__estimators__1__max_depth': 3, 'clustering_model__estimators__1__lambda': 0.30000000000000004, 'clustering_model__estimators__1__n_estimators': 30, 'clustering_model__estimators__1__eta': 0.06, 'clustering_model__estimators__1__alpha': 0.27}. Best is trial 5 with value: -201033.3767351272.\n"
     ]
    },
    {
     "name": "stdout",
     "output_type": "stream",
     "text": [
      "Clusters weights (proportions): [0.54446943 0.08587201 0.03094118 0.11435971 0.22435766]\n",
      "Clusters weights (proportions): [0.16696197 0.28962791 0.02685021 0.42619599 0.09036391]\n",
      "Clusters weights (proportions): [0.08995502 0.62396075 0.01029031 0.23531416 0.04047976]\n",
      "Clusters weights (proportions): [0.46572168 0.0301213  0.14781246 0.26536732 0.09097724]\n"
     ]
    },
    {
     "name": "stderr",
     "output_type": "stream",
     "text": [
      "[I 2024-04-17 11:54:00,059] Trial 7 finished with value: -491708.9818729749 and parameters: {'preprocessing__quant__imputer__method': 'simple_median', 'preprocessing__cat__imputer__method': 'simple_most_frequent', 'preprocessing__quant__scaler__apply': True, 'preprocessing__cat__encoder__method': 'one-hot', 'features_selector__apply': True, 'features_selector__method': 'Percentile_f_reg', 'features_selector__percentile': 50, 'preprocessing__quant__scaler__method': 'min-max', 'clustering_model__n_clusters': 5, 'clustering_model__estimators__0__n_estimators': 74, 'clustering_model__estimators__0__max_depth': 20, 'clustering_model__estimators__0__min_samples_split': 11, 'clustering_model__estimators__0__min_samples_leaf': 15, 'clustering_model__estimators__1__max_depth': 3, 'clustering_model__estimators__1__lambda': 0.30000000000000004, 'clustering_model__estimators__1__n_estimators': 50, 'clustering_model__estimators__1__eta': 0.18, 'clustering_model__estimators__1__alpha': 0.55, 'clustering_model__estimators__2__n_estimators': 61, 'clustering_model__estimators__2__max_depth': 50, 'clustering_model__estimators__2__min_samples_split': 9, 'clustering_model__estimators__2__min_samples_leaf': 18, 'clustering_model__estimators__3__max_depth': 30, 'clustering_model__estimators__3__lambda': 0.1, 'clustering_model__estimators__3__n_estimators': 50, 'clustering_model__estimators__3__eta': 0.08, 'clustering_model__estimators__3__alpha': 0.55, 'clustering_model__estimators__4__n_estimators': 77, 'clustering_model__estimators__4__max_depth': 30, 'clustering_model__estimators__4__min_samples_split': 7, 'clustering_model__estimators__4__min_samples_leaf': 10}. Best is trial 5 with value: -201033.3767351272.\n"
     ]
    },
    {
     "name": "stdout",
     "output_type": "stream",
     "text": [
      "Clusters weights (proportions): [0.88073332 0.11926668]\n",
      "Clusters weights (proportions): [0.86670301 0.13329699]\n",
      "Clusters weights (proportions): [0.87835628 0.12164372]\n",
      "Clusters weights (proportions): [0.87678888 0.12321112]\n"
     ]
    },
    {
     "name": "stderr",
     "output_type": "stream",
     "text": [
      "[I 2024-04-17 11:55:16,429] Trial 8 finished with value: -339124.68913214153 and parameters: {'preprocessing__quant__imputer__method': 'iterative_mean', 'preprocessing__cat__imputer__method': 'simple_most_frequent', 'preprocessing__quant__scaler__apply': True, 'preprocessing__cat__encoder__method': 'one-hot', 'features_selector__apply': False, 'preprocessing__quant__scaler__method': 'min-max', 'clustering_model__n_clusters': 2, 'clustering_model__estimators__0__n_estimators': 81, 'clustering_model__estimators__0__max_depth': 10, 'clustering_model__estimators__0__min_samples_split': 22, 'clustering_model__estimators__0__min_samples_leaf': 19, 'clustering_model__estimators__1__max_depth': 50, 'clustering_model__estimators__1__lambda': 0.30000000000000004, 'clustering_model__estimators__1__n_estimators': 180, 'clustering_model__estimators__1__eta': 0.2, 'clustering_model__estimators__1__alpha': 0.53}. Best is trial 5 with value: -201033.3767351272.\n"
     ]
    },
    {
     "name": "stdout",
     "output_type": "stream",
     "text": [
      "Clusters weights (proportions): [0.14066653 0.798746   0.04791113 0.01267634]\n",
      "Clusters weights (proportions): [0.62661851 0.099632   0.25630367 0.01744582]\n",
      "Clusters weights (proportions): [0.70744173 0.01560583 0.07468993 0.20226251]\n",
      "Clusters weights (proportions): [0.3262914  0.03243833 0.12143928 0.51983099]\n"
     ]
    },
    {
     "name": "stderr",
     "output_type": "stream",
     "text": [
      "[I 2024-04-17 11:56:18,331] Trial 9 finished with value: -503354.29260845017 and parameters: {'preprocessing__quant__imputer__method': 'iterative_median', 'preprocessing__cat__imputer__method': 'simple_most_frequent', 'preprocessing__quant__scaler__apply': True, 'preprocessing__cat__encoder__method': 'one-hot', 'features_selector__apply': True, 'features_selector__method': 'Percentile_f_reg', 'features_selector__percentile': 50, 'preprocessing__quant__scaler__method': 'min-max', 'clustering_model__n_clusters': 4, 'clustering_model__estimators__0__n_estimators': 76, 'clustering_model__estimators__0__max_depth': 50, 'clustering_model__estimators__0__min_samples_split': 15, 'clustering_model__estimators__0__min_samples_leaf': 3, 'clustering_model__estimators__1__max_depth': 7, 'clustering_model__estimators__1__lambda': 0.4, 'clustering_model__estimators__1__n_estimators': 50, 'clustering_model__estimators__1__eta': 0.2, 'clustering_model__estimators__1__alpha': 0.97, 'clustering_model__estimators__2__n_estimators': 117, 'clustering_model__estimators__2__max_depth': 3, 'clustering_model__estimators__2__min_samples_split': 5, 'clustering_model__estimators__2__min_samples_leaf': 22, 'clustering_model__estimators__3__max_depth': 3, 'clustering_model__estimators__3__lambda': 0.4, 'clustering_model__estimators__3__n_estimators': 30, 'clustering_model__estimators__3__eta': 0.06, 'clustering_model__estimators__3__alpha': 0.6799999999999999}. Best is trial 5 with value: -201033.3767351272.\n"
     ]
    },
    {
     "name": "stdout",
     "output_type": "stream",
     "text": [
      "Clusters weights (proportions): [0.21549785 0.04722961 0.00899612 0.07667144 0.16308867 0.21890547\n",
      " 0.03155456 0.23805629]\n",
      "Clusters weights (proportions): [0.36309118 0.03005316 0.06719368 0.21732316 0.15946572 0.04470492\n",
      " 0.00981328 0.10835491]\n",
      "Clusters weights (proportions): [0.20014993 0.01138067 0.06842034 0.02875835 0.40840943 0.10256236\n",
      " 0.14120213 0.03911681]\n",
      "Clusters weights (proportions): [0.44725365 0.05649448 0.0256917  0.12409704 0.00858662 0.23626823\n",
      " 0.04170642 0.05990187]\n"
     ]
    },
    {
     "name": "stderr",
     "output_type": "stream",
     "text": [
      "[I 2024-04-17 11:57:45,571] Trial 10 finished with value: -242150.25879100987 and parameters: {'preprocessing__quant__imputer__method': 'iterative_median', 'preprocessing__cat__imputer__method': 'simple_most_frequent', 'preprocessing__quant__scaler__apply': False, 'preprocessing__cat__encoder__method': 'ordinal', 'features_selector__apply': False, 'clustering_model__n_clusters': 8, 'clustering_model__estimators__0__n_estimators': 93, 'clustering_model__estimators__0__max_depth': 3, 'clustering_model__estimators__0__min_samples_split': 23, 'clustering_model__estimators__0__min_samples_leaf': 11, 'clustering_model__estimators__1__max_depth': 5, 'clustering_model__estimators__1__lambda': 0.2, 'clustering_model__estimators__1__n_estimators': 70, 'clustering_model__estimators__1__eta': 0.3, 'clustering_model__estimators__1__alpha': 0.43000000000000005, 'clustering_model__estimators__2__n_estimators': 75, 'clustering_model__estimators__2__max_depth': 30, 'clustering_model__estimators__2__min_samples_split': 23, 'clustering_model__estimators__2__min_samples_leaf': 11, 'clustering_model__estimators__3__max_depth': 50, 'clustering_model__estimators__3__lambda': 0.5, 'clustering_model__estimators__3__n_estimators': 150, 'clustering_model__estimators__3__eta': 0.3, 'clustering_model__estimators__3__alpha': 0.2, 'clustering_model__estimators__4__n_estimators': 117, 'clustering_model__estimators__4__max_depth': 5, 'clustering_model__estimators__4__min_samples_split': 25, 'clustering_model__estimators__4__min_samples_leaf': 25, 'clustering_model__estimators__5__max_depth': 7, 'clustering_model__estimators__5__lambda': 0.5, 'clustering_model__estimators__5__n_estimators': 100, 'clustering_model__estimators__5__eta': 0.0, 'clustering_model__estimators__5__alpha': 0.22, 'clustering_model__estimators__6__n_estimators': 120, 'clustering_model__estimators__6__max_depth': 20, 'clustering_model__estimators__6__min_samples_split': 22, 'clustering_model__estimators__6__min_samples_leaf': 17, 'clustering_model__estimators__7__max_depth': 3, 'clustering_model__estimators__7__lambda': 0.0, 'clustering_model__estimators__7__n_estimators': 70, 'clustering_model__estimators__7__eta': 0.02, 'clustering_model__estimators__7__alpha': 0.6000000000000001}. Best is trial 5 with value: -201033.3767351272.\n"
     ]
    },
    {
     "name": "stdout",
     "output_type": "stream",
     "text": [
      "Clusters weights (proportions): [0.21549785 0.04722961 0.00899612 0.07667144 0.16308867 0.21890547\n",
      " 0.03155456 0.23805629]\n",
      "Clusters weights (proportions): [0.36309118 0.03005316 0.06719368 0.21732316 0.15946572 0.04470492\n",
      " 0.00981328 0.10835491]\n",
      "Clusters weights (proportions): [0.20014993 0.01138067 0.06842034 0.02875835 0.40840943 0.10256236\n",
      " 0.14120213 0.03911681]\n",
      "Clusters weights (proportions): [0.44725365 0.05649448 0.0256917  0.12409704 0.00858662 0.23626823\n",
      " 0.04170642 0.05990187]\n"
     ]
    },
    {
     "name": "stderr",
     "output_type": "stream",
     "text": [
      "[I 2024-04-17 11:59:07,301] Trial 11 finished with value: -234407.9117814209 and parameters: {'preprocessing__quant__imputer__method': 'iterative_mean', 'preprocessing__cat__imputer__method': 'simple_most_frequent', 'preprocessing__quant__scaler__apply': False, 'preprocessing__cat__encoder__method': 'ordinal', 'features_selector__apply': False, 'clustering_model__n_clusters': 8, 'clustering_model__estimators__0__n_estimators': 117, 'clustering_model__estimators__0__max_depth': 7, 'clustering_model__estimators__0__min_samples_split': 2, 'clustering_model__estimators__0__min_samples_leaf': 3, 'clustering_model__estimators__1__max_depth': 5, 'clustering_model__estimators__1__lambda': 0.0, 'clustering_model__estimators__1__n_estimators': 100, 'clustering_model__estimators__1__eta': 0.14, 'clustering_model__estimators__1__alpha': 0.2, 'clustering_model__estimators__2__n_estimators': 101, 'clustering_model__estimators__2__max_depth': 10, 'clustering_model__estimators__2__min_samples_split': 16, 'clustering_model__estimators__2__min_samples_leaf': 25, 'clustering_model__estimators__3__max_depth': 10, 'clustering_model__estimators__3__lambda': 0.2, 'clustering_model__estimators__3__n_estimators': 70, 'clustering_model__estimators__3__eta': 0.0, 'clustering_model__estimators__3__alpha': 1.0, 'clustering_model__estimators__4__n_estimators': 51, 'clustering_model__estimators__4__max_depth': None, 'clustering_model__estimators__4__min_samples_split': 2, 'clustering_model__estimators__4__min_samples_leaf': 2, 'clustering_model__estimators__5__max_depth': 5, 'clustering_model__estimators__5__lambda': 0.0, 'clustering_model__estimators__5__n_estimators': 30, 'clustering_model__estimators__5__eta': 0.08, 'clustering_model__estimators__5__alpha': 0.22, 'clustering_model__estimators__6__n_estimators': 50, 'clustering_model__estimators__6__max_depth': None, 'clustering_model__estimators__6__min_samples_split': 2, 'clustering_model__estimators__6__min_samples_leaf': 3, 'clustering_model__estimators__7__max_depth': 20, 'clustering_model__estimators__7__lambda': 0.5, 'clustering_model__estimators__7__n_estimators': 50, 'clustering_model__estimators__7__eta': 0.3, 'clustering_model__estimators__7__alpha': 0.99}. Best is trial 5 with value: -201033.3767351272.\n"
     ]
    },
    {
     "name": "stdout",
     "output_type": "stream",
     "text": [
      "Clusters weights (proportions): [0.14066653 0.798746   0.04791113 0.01267634]\n",
      "Clusters weights (proportions): [0.62661851 0.099632   0.25630367 0.01744582]\n",
      "Clusters weights (proportions): [0.70771432 0.01560583 0.07468993 0.20198991]\n",
      "Clusters weights (proportions): [0.3262914  0.03243833 0.12143928 0.51983099]\n"
     ]
    },
    {
     "name": "stderr",
     "output_type": "stream",
     "text": [
      "[I 2024-04-17 12:00:37,221] Trial 12 finished with value: -226580.37078840108 and parameters: {'preprocessing__quant__imputer__method': 'iterative_mean', 'preprocessing__cat__imputer__method': 'simple_most_frequent', 'preprocessing__quant__scaler__apply': False, 'preprocessing__cat__encoder__method': 'ordinal', 'features_selector__apply': True, 'features_selector__method': 'Fdr_f_reg', 'clustering_model__n_clusters': 4, 'clustering_model__estimators__0__n_estimators': 95, 'clustering_model__estimators__0__max_depth': 7, 'clustering_model__estimators__0__min_samples_split': 17, 'clustering_model__estimators__0__min_samples_leaf': 7, 'clustering_model__estimators__1__max_depth': None, 'clustering_model__estimators__1__lambda': 0.5, 'clustering_model__estimators__1__n_estimators': 50, 'clustering_model__estimators__1__eta': 0.26, 'clustering_model__estimators__1__alpha': 0.4, 'clustering_model__estimators__2__n_estimators': 119, 'clustering_model__estimators__2__max_depth': 40, 'clustering_model__estimators__2__min_samples_split': 13, 'clustering_model__estimators__2__min_samples_leaf': 16, 'clustering_model__estimators__3__max_depth': 10, 'clustering_model__estimators__3__lambda': 0.0, 'clustering_model__estimators__3__n_estimators': 180, 'clustering_model__estimators__3__eta': 0.2, 'clustering_model__estimators__3__alpha': 1.0}. Best is trial 5 with value: -201033.3767351272.\n"
     ]
    },
    {
     "name": "stdout",
     "output_type": "stream",
     "text": [
      "Clusters weights (proportions): [0.83616166 0.02412595 0.1397124 ]\n",
      "Clusters weights (proportions): [0.2493526  0.07005588 0.68059152]\n",
      "Clusters weights (proportions): [0.83889873 0.02514652 0.13595475]\n",
      "Clusters weights (proportions): [0.8338558  0.03243833 0.13370587]\n"
     ]
    },
    {
     "name": "stderr",
     "output_type": "stream",
     "text": [
      "[I 2024-04-17 12:01:39,578] Trial 13 finished with value: -214054.3209725144 and parameters: {'preprocessing__quant__imputer__method': 'simple_median', 'preprocessing__cat__imputer__method': 'simple_most_frequent', 'preprocessing__quant__scaler__apply': False, 'preprocessing__cat__encoder__method': 'ordinal', 'features_selector__apply': False, 'clustering_model__n_clusters': 3, 'clustering_model__estimators__0__n_estimators': 120, 'clustering_model__estimators__0__max_depth': 7, 'clustering_model__estimators__0__min_samples_split': 11, 'clustering_model__estimators__0__min_samples_leaf': 12, 'clustering_model__estimators__1__max_depth': 40, 'clustering_model__estimators__1__lambda': 0.0, 'clustering_model__estimators__1__n_estimators': 50, 'clustering_model__estimators__1__eta': 0.0, 'clustering_model__estimators__1__alpha': 0.44, 'clustering_model__estimators__2__n_estimators': 83, 'clustering_model__estimators__2__max_depth': 10, 'clustering_model__estimators__2__min_samples_split': 18, 'clustering_model__estimators__2__min_samples_leaf': 14}. Best is trial 5 with value: -201033.3767351272.\n"
     ]
    },
    {
     "name": "stdout",
     "output_type": "stream",
     "text": [
      "Clusters weights (proportions): [0.83616166 0.02412595 0.1397124 ]\n",
      "Clusters weights (proportions): [0.2493526  0.07005588 0.68059152]\n",
      "Clusters weights (proportions): [0.83889873 0.02514652 0.13595475]\n",
      "Clusters weights (proportions): [0.8338558  0.03243833 0.13370587]\n"
     ]
    },
    {
     "name": "stderr",
     "output_type": "stream",
     "text": [
      "[I 2024-04-17 12:02:39,197] Trial 14 finished with value: -221278.658385784 and parameters: {'preprocessing__quant__imputer__method': 'simple_median', 'preprocessing__cat__imputer__method': 'simple_most_frequent', 'preprocessing__quant__scaler__apply': False, 'preprocessing__cat__encoder__method': 'ordinal', 'features_selector__apply': False, 'clustering_model__n_clusters': 3, 'clustering_model__estimators__0__n_estimators': 120, 'clustering_model__estimators__0__max_depth': None, 'clustering_model__estimators__0__min_samples_split': 12, 'clustering_model__estimators__0__min_samples_leaf': 12, 'clustering_model__estimators__1__max_depth': 40, 'clustering_model__estimators__1__lambda': 0.1, 'clustering_model__estimators__1__n_estimators': 100, 'clustering_model__estimators__1__eta': 0.0, 'clustering_model__estimators__1__alpha': 0.65, 'clustering_model__estimators__2__n_estimators': 79, 'clustering_model__estimators__2__max_depth': 5, 'clustering_model__estimators__2__min_samples_split': 19, 'clustering_model__estimators__2__min_samples_leaf': 12}. Best is trial 5 with value: -201033.3767351272.\n"
     ]
    },
    {
     "name": "stdout",
     "output_type": "stream",
     "text": [
      "Clusters weights (proportions): [0.83616166 0.02412595 0.1397124 ]\n",
      "Clusters weights (proportions): [0.2493526  0.07005588 0.68059152]\n",
      "Clusters weights (proportions): [0.83889873 0.02514652 0.13595475]\n",
      "Clusters weights (proportions): [0.8338558  0.03243833 0.13370587]\n"
     ]
    },
    {
     "name": "stderr",
     "output_type": "stream",
     "text": [
      "[I 2024-04-17 12:03:37,250] Trial 15 finished with value: -209346.9557471528 and parameters: {'preprocessing__quant__imputer__method': 'simple_median', 'preprocessing__cat__imputer__method': 'simple_most_frequent', 'preprocessing__quant__scaler__apply': False, 'preprocessing__cat__encoder__method': 'ordinal', 'features_selector__apply': False, 'clustering_model__n_clusters': 3, 'clustering_model__estimators__0__n_estimators': 91, 'clustering_model__estimators__0__max_depth': 7, 'clustering_model__estimators__0__min_samples_split': 19, 'clustering_model__estimators__0__min_samples_leaf': 21, 'clustering_model__estimators__1__max_depth': 40, 'clustering_model__estimators__1__lambda': 0.4, 'clustering_model__estimators__1__n_estimators': 180, 'clustering_model__estimators__1__eta': 0.24, 'clustering_model__estimators__1__alpha': 0.47000000000000003, 'clustering_model__estimators__2__n_estimators': 68, 'clustering_model__estimators__2__max_depth': None, 'clustering_model__estimators__2__min_samples_split': 25, 'clustering_model__estimators__2__min_samples_leaf': 3}. Best is trial 5 with value: -201033.3767351272.\n"
     ]
    },
    {
     "name": "stdout",
     "output_type": "stream",
     "text": [
      "Clusters weights (proportions): [0.83616166 0.02412595 0.1397124 ]\n",
      "Clusters weights (proportions): [0.2493526  0.07005588 0.68059152]\n",
      "Clusters weights (proportions): [0.83889873 0.02514652 0.13595475]\n",
      "Clusters weights (proportions): [0.8338558  0.03243833 0.13370587]\n"
     ]
    },
    {
     "name": "stderr",
     "output_type": "stream",
     "text": [
      "[I 2024-04-17 12:04:38,013] Trial 16 finished with value: -208812.29432013078 and parameters: {'preprocessing__quant__imputer__method': 'simple_median', 'preprocessing__cat__imputer__method': 'simple_most_frequent', 'preprocessing__quant__scaler__apply': False, 'preprocessing__cat__encoder__method': 'ordinal', 'features_selector__apply': False, 'clustering_model__n_clusters': 3, 'clustering_model__estimators__0__n_estimators': 87, 'clustering_model__estimators__0__max_depth': 7, 'clustering_model__estimators__0__min_samples_split': 20, 'clustering_model__estimators__0__min_samples_leaf': 25, 'clustering_model__estimators__1__max_depth': 30, 'clustering_model__estimators__1__lambda': 0.5, 'clustering_model__estimators__1__n_estimators': 180, 'clustering_model__estimators__1__eta': 0.24, 'clustering_model__estimators__1__alpha': 0.51, 'clustering_model__estimators__2__n_estimators': 70, 'clustering_model__estimators__2__max_depth': None, 'clustering_model__estimators__2__min_samples_split': 25, 'clustering_model__estimators__2__min_samples_leaf': 3}. Best is trial 5 with value: -201033.3767351272.\n"
     ]
    },
    {
     "name": "stdout",
     "output_type": "stream",
     "text": [
      "Clusters weights (proportions): [0.83616166 0.02412595 0.1397124 ]\n",
      "Clusters weights (proportions): [0.2493526  0.07005588 0.68059152]\n",
      "Clusters weights (proportions): [0.83889873 0.02514652 0.13595475]\n",
      "Clusters weights (proportions): [0.8338558  0.03243833 0.13370587]\n"
     ]
    },
    {
     "name": "stderr",
     "output_type": "stream",
     "text": [
      "[I 2024-04-17 12:05:33,315] Trial 17 finished with value: -208820.1571882352 and parameters: {'preprocessing__quant__imputer__method': 'simple_median', 'preprocessing__cat__imputer__method': 'simple_most_frequent', 'preprocessing__quant__scaler__apply': False, 'preprocessing__cat__encoder__method': 'ordinal', 'features_selector__apply': False, 'clustering_model__n_clusters': 3, 'clustering_model__estimators__0__n_estimators': 66, 'clustering_model__estimators__0__max_depth': 3, 'clustering_model__estimators__0__min_samples_split': 21, 'clustering_model__estimators__0__min_samples_leaf': 25, 'clustering_model__estimators__1__max_depth': 30, 'clustering_model__estimators__1__lambda': 0.5, 'clustering_model__estimators__1__n_estimators': 180, 'clustering_model__estimators__1__eta': 0.3, 'clustering_model__estimators__1__alpha': 0.65, 'clustering_model__estimators__2__n_estimators': 66, 'clustering_model__estimators__2__max_depth': None, 'clustering_model__estimators__2__min_samples_split': 2, 'clustering_model__estimators__2__min_samples_leaf': 7}. Best is trial 5 with value: -201033.3767351272.\n"
     ]
    },
    {
     "name": "stdout",
     "output_type": "stream",
     "text": [
      "Clusters weights (proportions): [0.88073332 0.11926668]\n",
      "Clusters weights (proportions): [0.86670301 0.13329699]\n",
      "Clusters weights (proportions): [0.87835628 0.12164372]\n",
      "Clusters weights (proportions): [0.87678888 0.12321112]\n"
     ]
    },
    {
     "name": "stderr",
     "output_type": "stream",
     "text": [
      "[I 2024-04-17 12:06:42,229] Trial 18 finished with value: -200502.16191070134 and parameters: {'preprocessing__quant__imputer__method': 'simple_median', 'preprocessing__cat__imputer__method': 'simple_most_frequent', 'preprocessing__quant__scaler__apply': False, 'preprocessing__cat__encoder__method': 'ordinal', 'features_selector__apply': False, 'clustering_model__n_clusters': 2, 'clustering_model__estimators__0__n_estimators': 87, 'clustering_model__estimators__0__max_depth': 10, 'clustering_model__estimators__0__min_samples_split': 25, 'clustering_model__estimators__0__min_samples_leaf': 22, 'clustering_model__estimators__1__max_depth': 30, 'clustering_model__estimators__1__lambda': 0.5, 'clustering_model__estimators__1__n_estimators': 70, 'clustering_model__estimators__1__eta': 0.24, 'clustering_model__estimators__1__alpha': 0.79}. Best is trial 18 with value: -200502.16191070134.\n"
     ]
    },
    {
     "name": "stdout",
     "output_type": "stream",
     "text": [
      "Clusters weights (proportions): [0.88073332 0.11926668]\n",
      "Clusters weights (proportions): [0.86670301 0.13329699]\n",
      "Clusters weights (proportions): [0.87835628 0.12164372]\n",
      "Clusters weights (proportions): [0.87678888 0.12321112]\n"
     ]
    },
    {
     "name": "stderr",
     "output_type": "stream",
     "text": [
      "[I 2024-04-17 12:08:12,064] Trial 19 finished with value: -200516.05268573738 and parameters: {'preprocessing__quant__imputer__method': 'iterative_median', 'preprocessing__cat__imputer__method': 'simple_most_frequent', 'preprocessing__quant__scaler__apply': False, 'preprocessing__cat__encoder__method': 'ordinal', 'features_selector__apply': False, 'clustering_model__n_clusters': 2, 'clustering_model__estimators__0__n_estimators': 100, 'clustering_model__estimators__0__max_depth': 10, 'clustering_model__estimators__0__min_samples_split': 25, 'clustering_model__estimators__0__min_samples_leaf': 20, 'clustering_model__estimators__1__max_depth': 20, 'clustering_model__estimators__1__lambda': 0.4, 'clustering_model__estimators__1__n_estimators': 70, 'clustering_model__estimators__1__eta': 0.18, 'clustering_model__estimators__1__alpha': 0.81}. Best is trial 18 with value: -200502.16191070134.\n"
     ]
    },
    {
     "name": "stdout",
     "output_type": "stream",
     "text": [
      "Clusters weights (proportions): [0.1969604  0.01438015 0.05097799 0.42302188 0.07728481 0.13167042\n",
      " 0.10570435]\n",
      "Clusters weights (proportions): [0.40827314 0.01253918 0.07612103 0.1071964  0.20130844 0.14835764\n",
      " 0.04620417]\n",
      "Clusters weights (proportions): [0.04484122 0.51717323 0.01506065 0.23149789 0.03993458 0.04933897\n",
      " 0.10215347]\n",
      "Clusters weights (proportions): [0.39512062 0.0468175  0.00947254 0.17766117 0.02984871 0.07891509\n",
      " 0.26216437]\n"
     ]
    },
    {
     "name": "stderr",
     "output_type": "stream",
     "text": [
      "[I 2024-04-17 12:09:33,384] Trial 20 finished with value: -238507.78731168498 and parameters: {'preprocessing__quant__imputer__method': 'iterative_median', 'preprocessing__cat__imputer__method': 'simple_most_frequent', 'preprocessing__quant__scaler__apply': False, 'preprocessing__cat__encoder__method': 'ordinal', 'features_selector__apply': False, 'clustering_model__n_clusters': 7, 'clustering_model__estimators__0__n_estimators': 103, 'clustering_model__estimators__0__max_depth': 10, 'clustering_model__estimators__0__min_samples_split': 25, 'clustering_model__estimators__0__min_samples_leaf': 19, 'clustering_model__estimators__1__max_depth': 20, 'clustering_model__estimators__1__lambda': 0.4, 'clustering_model__estimators__1__n_estimators': 70, 'clustering_model__estimators__1__eta': 0.18, 'clustering_model__estimators__1__alpha': 0.78, 'clustering_model__estimators__2__n_estimators': 111, 'clustering_model__estimators__2__max_depth': 7, 'clustering_model__estimators__2__min_samples_split': 9, 'clustering_model__estimators__2__min_samples_leaf': 18, 'clustering_model__estimators__3__max_depth': 7, 'clustering_model__estimators__3__lambda': 0.5, 'clustering_model__estimators__3__n_estimators': 100, 'clustering_model__estimators__3__eta': 0.16, 'clustering_model__estimators__3__alpha': 0.79, 'clustering_model__estimators__4__n_estimators': 99, 'clustering_model__estimators__4__max_depth': 10, 'clustering_model__estimators__4__min_samples_split': 21, 'clustering_model__estimators__4__min_samples_leaf': 24, 'clustering_model__estimators__5__max_depth': 40, 'clustering_model__estimators__5__lambda': 0.5, 'clustering_model__estimators__5__n_estimators': 70, 'clustering_model__estimators__5__eta': 0.14, 'clustering_model__estimators__5__alpha': 0.96, 'clustering_model__estimators__6__n_estimators': 81, 'clustering_model__estimators__6__max_depth': 7, 'clustering_model__estimators__6__min_samples_split': 7, 'clustering_model__estimators__6__min_samples_leaf': 24}. Best is trial 18 with value: -200502.16191070134.\n"
     ]
    },
    {
     "name": "stdout",
     "output_type": "stream",
     "text": [
      "Clusters weights (proportions): [0.88073332 0.11926668]\n",
      "Clusters weights (proportions): [0.86670301 0.13329699]\n",
      "Clusters weights (proportions): [0.87835628 0.12164372]\n",
      "Clusters weights (proportions): [0.87678888 0.12321112]\n"
     ]
    },
    {
     "name": "stderr",
     "output_type": "stream",
     "text": [
      "[I 2024-04-17 12:11:13,212] Trial 21 finished with value: -200534.64041561133 and parameters: {'preprocessing__quant__imputer__method': 'iterative_median', 'preprocessing__cat__imputer__method': 'simple_most_frequent', 'preprocessing__quant__scaler__apply': False, 'preprocessing__cat__encoder__method': 'ordinal', 'features_selector__apply': False, 'clustering_model__n_clusters': 2, 'clustering_model__estimators__0__n_estimators': 99, 'clustering_model__estimators__0__max_depth': 10, 'clustering_model__estimators__0__min_samples_split': 25, 'clustering_model__estimators__0__min_samples_leaf': 22, 'clustering_model__estimators__1__max_depth': 20, 'clustering_model__estimators__1__lambda': 0.5, 'clustering_model__estimators__1__n_estimators': 70, 'clustering_model__estimators__1__eta': 0.22, 'clustering_model__estimators__1__alpha': 1.0}. Best is trial 18 with value: -200502.16191070134.\n"
     ]
    },
    {
     "name": "stdout",
     "output_type": "stream",
     "text": [
      "Clusters weights (proportions): [0.88073332 0.11926668]\n",
      "Clusters weights (proportions): [0.86670301 0.13329699]\n",
      "Clusters weights (proportions): [0.87835628 0.12164372]\n",
      "Clusters weights (proportions): [0.87678888 0.12321112]\n"
     ]
    },
    {
     "name": "stderr",
     "output_type": "stream",
     "text": [
      "[I 2024-04-17 12:12:53,265] Trial 22 finished with value: -200199.02453358 and parameters: {'preprocessing__quant__imputer__method': 'iterative_median', 'preprocessing__cat__imputer__method': 'simple_most_frequent', 'preprocessing__quant__scaler__apply': False, 'preprocessing__cat__encoder__method': 'ordinal', 'features_selector__apply': False, 'clustering_model__n_clusters': 2, 'clustering_model__estimators__0__n_estimators': 99, 'clustering_model__estimators__0__max_depth': 10, 'clustering_model__estimators__0__min_samples_split': 23, 'clustering_model__estimators__0__min_samples_leaf': 20, 'clustering_model__estimators__1__max_depth': 20, 'clustering_model__estimators__1__lambda': 0.5, 'clustering_model__estimators__1__n_estimators': 70, 'clustering_model__estimators__1__eta': 0.2, 'clustering_model__estimators__1__alpha': 0.99}. Best is trial 22 with value: -200199.02453358.\n"
     ]
    },
    {
     "name": "stdout",
     "output_type": "stream",
     "text": [
      "Clusters weights (proportions): [0.88073332 0.11926668]\n",
      "Clusters weights (proportions): [0.86670301 0.13329699]\n",
      "Clusters weights (proportions): [0.87835628 0.12164372]\n",
      "Clusters weights (proportions): [0.87678888 0.12321112]\n"
     ]
    },
    {
     "name": "stderr",
     "output_type": "stream",
     "text": [
      "[I 2024-04-17 12:14:41,421] Trial 23 finished with value: -200292.16065220823 and parameters: {'preprocessing__quant__imputer__method': 'iterative_median', 'preprocessing__cat__imputer__method': 'simple_most_frequent', 'preprocessing__quant__scaler__apply': False, 'preprocessing__cat__encoder__method': 'ordinal', 'features_selector__apply': False, 'clustering_model__n_clusters': 2, 'clustering_model__estimators__0__n_estimators': 110, 'clustering_model__estimators__0__max_depth': 10, 'clustering_model__estimators__0__min_samples_split': 23, 'clustering_model__estimators__0__min_samples_leaf': 19, 'clustering_model__estimators__1__max_depth': 20, 'clustering_model__estimators__1__lambda': 0.5, 'clustering_model__estimators__1__n_estimators': 70, 'clustering_model__estimators__1__eta': 0.16, 'clustering_model__estimators__1__alpha': 0.9000000000000001}. Best is trial 22 with value: -200199.02453358.\n"
     ]
    },
    {
     "name": "stdout",
     "output_type": "stream",
     "text": [
      "Clusters weights (proportions): [0.14066653 0.798746   0.04791113 0.01267634]\n",
      "Clusters weights (proportions): [0.62661851 0.099632   0.25630367 0.01744582]\n",
      "Clusters weights (proportions): [0.70771432 0.01560583 0.07468993 0.20198991]\n",
      "Clusters weights (proportions): [0.3262914  0.03243833 0.12143928 0.51983099]\n"
     ]
    },
    {
     "name": "stderr",
     "output_type": "stream",
     "text": [
      "[I 2024-04-17 12:15:47,067] Trial 24 finished with value: -220789.40726928358 and parameters: {'preprocessing__quant__imputer__method': 'iterative_median', 'preprocessing__cat__imputer__method': 'simple_most_frequent', 'preprocessing__quant__scaler__apply': False, 'preprocessing__cat__encoder__method': 'ordinal', 'features_selector__apply': False, 'clustering_model__n_clusters': 4, 'clustering_model__estimators__0__n_estimators': 111, 'clustering_model__estimators__0__max_depth': 10, 'clustering_model__estimators__0__min_samples_split': 23, 'clustering_model__estimators__0__min_samples_leaf': 18, 'clustering_model__estimators__1__max_depth': 20, 'clustering_model__estimators__1__lambda': 0.5, 'clustering_model__estimators__1__n_estimators': 70, 'clustering_model__estimators__1__eta': 0.14, 'clustering_model__estimators__1__alpha': 0.9199999999999999, 'clustering_model__estimators__2__n_estimators': 89, 'clustering_model__estimators__2__max_depth': 30, 'clustering_model__estimators__2__min_samples_split': 3, 'clustering_model__estimators__2__min_samples_leaf': 8, 'clustering_model__estimators__3__max_depth': None, 'clustering_model__estimators__3__lambda': 0.4, 'clustering_model__estimators__3__n_estimators': 180, 'clustering_model__estimators__3__eta': 0.22, 'clustering_model__estimators__3__alpha': 0.2}. Best is trial 22 with value: -200199.02453358.\n"
     ]
    },
    {
     "name": "stdout",
     "output_type": "stream",
     "text": [
      "Clusters weights (proportions): [0.83616166 0.02412595 0.1397124 ]\n",
      "Clusters weights (proportions): [0.2493526  0.07005588 0.68059152]\n",
      "Clusters weights (proportions): [0.83889873 0.02514652 0.13595475]\n",
      "Clusters weights (proportions): [0.8338558  0.03243833 0.13370587]\n"
     ]
    },
    {
     "name": "stderr",
     "output_type": "stream",
     "text": [
      "[I 2024-04-17 12:17:04,808] Trial 25 finished with value: -212060.35107903986 and parameters: {'preprocessing__quant__imputer__method': 'iterative_median', 'preprocessing__cat__imputer__method': 'simple_most_frequent', 'preprocessing__quant__scaler__apply': False, 'preprocessing__cat__encoder__method': 'ordinal', 'features_selector__apply': False, 'clustering_model__n_clusters': 3, 'clustering_model__estimators__0__n_estimators': 110, 'clustering_model__estimators__0__max_depth': 10, 'clustering_model__estimators__0__min_samples_split': 22, 'clustering_model__estimators__0__min_samples_leaf': 14, 'clustering_model__estimators__1__max_depth': 30, 'clustering_model__estimators__1__lambda': 0.5, 'clustering_model__estimators__1__n_estimators': 70, 'clustering_model__estimators__1__eta': 0.16, 'clustering_model__estimators__1__alpha': 0.8900000000000001, 'clustering_model__estimators__2__n_estimators': 107, 'clustering_model__estimators__2__max_depth': 20, 'clustering_model__estimators__2__min_samples_split': 9, 'clustering_model__estimators__2__min_samples_leaf': 19}. Best is trial 22 with value: -200199.02453358.\n"
     ]
    },
    {
     "name": "stdout",
     "output_type": "stream",
     "text": [
      "Clusters weights (proportions): [0.88073332 0.11926668]\n",
      "Clusters weights (proportions): [0.86670301 0.13329699]\n",
      "Clusters weights (proportions): [0.87835628 0.12164372]\n",
      "Clusters weights (proportions): [0.87678888 0.12321112]\n"
     ]
    },
    {
     "name": "stderr",
     "output_type": "stream",
     "text": [
      "[I 2024-04-17 12:18:35,808] Trial 26 finished with value: -201244.4830161777 and parameters: {'preprocessing__quant__imputer__method': 'iterative_median', 'preprocessing__cat__imputer__method': 'simple_most_frequent', 'preprocessing__quant__scaler__apply': False, 'preprocessing__cat__encoder__method': 'one-hot', 'features_selector__apply': False, 'clustering_model__n_clusters': 2, 'clustering_model__estimators__0__n_estimators': 84, 'clustering_model__estimators__0__max_depth': 10, 'clustering_model__estimators__0__min_samples_split': 18, 'clustering_model__estimators__0__min_samples_leaf': 17, 'clustering_model__estimators__1__max_depth': 20, 'clustering_model__estimators__1__lambda': 0.4, 'clustering_model__estimators__1__n_estimators': 70, 'clustering_model__estimators__1__eta': 0.28, 'clustering_model__estimators__1__alpha': 0.71}. Best is trial 22 with value: -200199.02453358.\n"
     ]
    },
    {
     "name": "stdout",
     "output_type": "stream",
     "text": [
      "Clusters weights (proportions): [0.83616166 0.02412595 0.1397124 ]\n",
      "Clusters weights (proportions): [0.2493526  0.07005588 0.68059152]\n",
      "Clusters weights (proportions): [0.83889873 0.02514652 0.13595475]\n",
      "Clusters weights (proportions): [0.8338558  0.03243833 0.13370587]\n"
     ]
    },
    {
     "name": "stderr",
     "output_type": "stream",
     "text": [
      "[I 2024-04-17 12:19:46,858] Trial 27 finished with value: -209251.5232543344 and parameters: {'preprocessing__quant__imputer__method': 'iterative_median', 'preprocessing__cat__imputer__method': 'simple_most_frequent', 'preprocessing__quant__scaler__apply': False, 'preprocessing__cat__encoder__method': 'ordinal', 'features_selector__apply': False, 'clustering_model__n_clusters': 3, 'clustering_model__estimators__0__n_estimators': 110, 'clustering_model__estimators__0__max_depth': 5, 'clustering_model__estimators__0__min_samples_split': 23, 'clustering_model__estimators__0__min_samples_leaf': 20, 'clustering_model__estimators__1__max_depth': 10, 'clustering_model__estimators__1__lambda': 0.5, 'clustering_model__estimators__1__n_estimators': 70, 'clustering_model__estimators__1__eta': 0.12, 'clustering_model__estimators__1__alpha': 0.9000000000000001, 'clustering_model__estimators__2__n_estimators': 88, 'clustering_model__estimators__2__max_depth': 40, 'clustering_model__estimators__2__min_samples_split': 16, 'clustering_model__estimators__2__min_samples_leaf': 10}. Best is trial 22 with value: -200199.02453358.\n"
     ]
    },
    {
     "name": "stdout",
     "output_type": "stream",
     "text": [
      "Clusters weights (proportions): [0.88073332 0.11926668]\n",
      "Clusters weights (proportions): [0.86670301 0.13329699]\n",
      "Clusters weights (proportions): [0.87835628 0.12164372]\n",
      "Clusters weights (proportions): [0.87678888 0.12321112]\n"
     ]
    },
    {
     "name": "stderr",
     "output_type": "stream",
     "text": [
      "[I 2024-04-17 12:21:25,092] Trial 28 finished with value: -197053.16085808407 and parameters: {'preprocessing__quant__imputer__method': 'iterative_median', 'preprocessing__cat__imputer__method': 'simple_most_frequent', 'preprocessing__quant__scaler__apply': False, 'preprocessing__cat__encoder__method': 'ordinal', 'features_selector__apply': False, 'clustering_model__n_clusters': 2, 'clustering_model__estimators__0__n_estimators': 98, 'clustering_model__estimators__0__max_depth': 40, 'clustering_model__estimators__0__min_samples_split': 21, 'clustering_model__estimators__0__min_samples_leaf': 23, 'clustering_model__estimators__1__max_depth': 7, 'clustering_model__estimators__1__lambda': 0.5, 'clustering_model__estimators__1__n_estimators': 70, 'clustering_model__estimators__1__eta': 0.22, 'clustering_model__estimators__1__alpha': 0.95}. Best is trial 28 with value: -197053.16085808407.\n"
     ]
    },
    {
     "name": "stdout",
     "output_type": "stream",
     "text": [
      "Clusters weights (proportions): [0.88073332 0.11926668]\n",
      "Clusters weights (proportions): [0.86670301 0.13329699]\n",
      "Clusters weights (proportions): [0.87835628 0.12164372]\n",
      "Clusters weights (proportions): [0.87678888 0.12321112]\n"
     ]
    },
    {
     "name": "stderr",
     "output_type": "stream",
     "text": [
      "[I 2024-04-17 12:22:46,991] Trial 29 finished with value: -233233.30257822614 and parameters: {'preprocessing__quant__imputer__method': 'iterative_median', 'preprocessing__cat__imputer__method': 'simple_most_frequent', 'preprocessing__quant__scaler__apply': True, 'preprocessing__cat__encoder__method': 'ordinal', 'features_selector__apply': False, 'preprocessing__quant__scaler__method': 'standard', 'clustering_model__n_clusters': 2, 'clustering_model__estimators__0__n_estimators': 96, 'clustering_model__estimators__0__max_depth': 40, 'clustering_model__estimators__0__min_samples_split': 20, 'clustering_model__estimators__0__min_samples_leaf': 16, 'clustering_model__estimators__1__max_depth': 7, 'clustering_model__estimators__1__lambda': 0.4, 'clustering_model__estimators__1__n_estimators': 150, 'clustering_model__estimators__1__eta': 0.08, 'clustering_model__estimators__1__alpha': 0.95}. Best is trial 28 with value: -197053.16085808407.\n"
     ]
    },
    {
     "name": "stdout",
     "output_type": "stream",
     "text": [
      "Clusters weights (proportions): [0.14066653 0.798746   0.04791113 0.01267634]\n",
      "Clusters weights (proportions): [0.62661851 0.099632   0.25630367 0.01744582]\n",
      "Clusters weights (proportions): [0.70771432 0.01560583 0.07468993 0.20198991]\n",
      "Clusters weights (proportions): [0.3262914  0.03243833 0.12143928 0.51983099]\n"
     ]
    },
    {
     "name": "stderr",
     "output_type": "stream",
     "text": [
      "[I 2024-04-17 12:23:23,679] Trial 30 finished with value: -229515.3254826392 and parameters: {'preprocessing__quant__imputer__method': 'iterative_median', 'preprocessing__cat__imputer__method': 'simple_most_frequent', 'preprocessing__quant__scaler__apply': False, 'preprocessing__cat__encoder__method': 'ordinal', 'features_selector__apply': False, 'clustering_model__n_clusters': 4, 'clustering_model__estimators__0__n_estimators': 114, 'clustering_model__estimators__0__max_depth': 40, 'clustering_model__estimators__0__min_samples_split': 21, 'clustering_model__estimators__0__min_samples_leaf': 23, 'clustering_model__estimators__1__max_depth': 7, 'clustering_model__estimators__1__lambda': 0.4, 'clustering_model__estimators__1__n_estimators': 70, 'clustering_model__estimators__1__eta': 0.2, 'clustering_model__estimators__1__alpha': 0.72, 'clustering_model__estimators__2__n_estimators': 58, 'clustering_model__estimators__2__max_depth': 3, 'clustering_model__estimators__2__min_samples_split': 6, 'clustering_model__estimators__2__min_samples_leaf': 15, 'clustering_model__estimators__3__max_depth': None, 'clustering_model__estimators__3__lambda': 0.1, 'clustering_model__estimators__3__n_estimators': 150, 'clustering_model__estimators__3__eta': 0.12, 'clustering_model__estimators__3__alpha': 0.8300000000000001}. Best is trial 28 with value: -197053.16085808407.\n"
     ]
    },
    {
     "name": "stdout",
     "output_type": "stream",
     "text": [
      "Clusters weights (proportions): [0.88073332 0.11926668]\n",
      "Clusters weights (proportions): [0.86670301 0.13329699]\n",
      "Clusters weights (proportions): [0.87835628 0.12164372]\n",
      "Clusters weights (proportions): [0.87678888 0.12321112]\n"
     ]
    },
    {
     "name": "stderr",
     "output_type": "stream",
     "text": [
      "[I 2024-04-17 12:24:32,587] Trial 31 finished with value: -198029.47218875485 and parameters: {'preprocessing__quant__imputer__method': 'iterative_median', 'preprocessing__cat__imputer__method': 'simple_most_frequent', 'preprocessing__quant__scaler__apply': False, 'preprocessing__cat__encoder__method': 'ordinal', 'features_selector__apply': False, 'clustering_model__n_clusters': 2, 'clustering_model__estimators__0__n_estimators': 90, 'clustering_model__estimators__0__max_depth': 40, 'clustering_model__estimators__0__min_samples_split': 24, 'clustering_model__estimators__0__min_samples_leaf': 21, 'clustering_model__estimators__1__max_depth': None, 'clustering_model__estimators__1__lambda': 0.5, 'clustering_model__estimators__1__n_estimators': 70, 'clustering_model__estimators__1__eta': 0.22, 'clustering_model__estimators__1__alpha': 0.8500000000000001}. Best is trial 28 with value: -197053.16085808407.\n"
     ]
    },
    {
     "name": "stdout",
     "output_type": "stream",
     "text": [
      "Clusters weights (proportions): [0.88073332 0.11926668]\n",
      "Clusters weights (proportions): [0.86670301 0.13329699]\n",
      "Clusters weights (proportions): [0.87835628 0.12164372]\n",
      "Clusters weights (proportions): [0.87678888 0.12321112]\n"
     ]
    },
    {
     "name": "stderr",
     "output_type": "stream",
     "text": [
      "[I 2024-04-17 12:25:51,992] Trial 32 finished with value: -197904.06695087455 and parameters: {'preprocessing__quant__imputer__method': 'iterative_median', 'preprocessing__cat__imputer__method': 'simple_most_frequent', 'preprocessing__quant__scaler__apply': False, 'preprocessing__cat__encoder__method': 'ordinal', 'features_selector__apply': False, 'clustering_model__n_clusters': 2, 'clustering_model__estimators__0__n_estimators': 105, 'clustering_model__estimators__0__max_depth': 40, 'clustering_model__estimators__0__min_samples_split': 23, 'clustering_model__estimators__0__min_samples_leaf': 20, 'clustering_model__estimators__1__max_depth': None, 'clustering_model__estimators__1__lambda': 0.5, 'clustering_model__estimators__1__n_estimators': 70, 'clustering_model__estimators__1__eta': 0.22, 'clustering_model__estimators__1__alpha': 0.8600000000000001}. Best is trial 28 with value: -197053.16085808407.\n"
     ]
    },
    {
     "name": "stdout",
     "output_type": "stream",
     "text": [
      "Clusters weights (proportions): [0.83616166 0.02412595 0.1397124 ]\n",
      "Clusters weights (proportions): [0.2493526  0.07005588 0.68059152]\n",
      "Clusters weights (proportions): [0.83889873 0.02514652 0.13595475]\n",
      "Clusters weights (proportions): [0.8338558  0.03243833 0.13370587]\n"
     ]
    },
    {
     "name": "stderr",
     "output_type": "stream",
     "text": [
      "[I 2024-04-17 12:27:02,560] Trial 33 finished with value: -217744.01846945638 and parameters: {'preprocessing__quant__imputer__method': 'iterative_median', 'preprocessing__cat__imputer__method': 'simple_most_frequent', 'preprocessing__quant__scaler__apply': False, 'preprocessing__cat__encoder__method': 'ordinal', 'features_selector__apply': False, 'clustering_model__n_clusters': 3, 'clustering_model__estimators__0__n_estimators': 91, 'clustering_model__estimators__0__max_depth': 40, 'clustering_model__estimators__0__min_samples_split': 24, 'clustering_model__estimators__0__min_samples_leaf': 23, 'clustering_model__estimators__1__max_depth': None, 'clustering_model__estimators__1__lambda': 0.5, 'clustering_model__estimators__1__n_estimators': 150, 'clustering_model__estimators__1__eta': 0.22, 'clustering_model__estimators__1__alpha': 0.8500000000000001, 'clustering_model__estimators__2__n_estimators': 109, 'clustering_model__estimators__2__max_depth': 5, 'clustering_model__estimators__2__min_samples_split': 22, 'clustering_model__estimators__2__min_samples_leaf': 6}. Best is trial 28 with value: -197053.16085808407.\n"
     ]
    },
    {
     "name": "stdout",
     "output_type": "stream",
     "text": [
      "Clusters weights (proportions): [0.88073332 0.11926668]\n",
      "Clusters weights (proportions): [0.86670301 0.13329699]\n",
      "Clusters weights (proportions): [0.87835628 0.12164372]\n",
      "Clusters weights (proportions): [0.87678888 0.12321112]\n"
     ]
    },
    {
     "name": "stderr",
     "output_type": "stream",
     "text": [
      "[I 2024-04-17 12:28:33,864] Trial 34 finished with value: -198653.5017776231 and parameters: {'preprocessing__quant__imputer__method': 'simple_mean', 'preprocessing__cat__imputer__method': 'simple_most_frequent', 'preprocessing__quant__scaler__apply': False, 'preprocessing__cat__encoder__method': 'ordinal', 'features_selector__apply': False, 'clustering_model__n_clusters': 2, 'clustering_model__estimators__0__n_estimators': 100, 'clustering_model__estimators__0__max_depth': 40, 'clustering_model__estimators__0__min_samples_split': 21, 'clustering_model__estimators__0__min_samples_leaf': 21, 'clustering_model__estimators__1__max_depth': None, 'clustering_model__estimators__1__lambda': 0.4, 'clustering_model__estimators__1__n_estimators': 30, 'clustering_model__estimators__1__eta': 0.22, 'clustering_model__estimators__1__alpha': 0.8500000000000001}. Best is trial 28 with value: -197053.16085808407.\n"
     ]
    },
    {
     "name": "stdout",
     "output_type": "stream",
     "text": [
      "Clusters weights (proportions): [0.42554352 0.01553874 0.09200572 0.2424862  0.0528181  0.17160771]\n",
      "Clusters weights (proportions): [0.01478806 0.45904321 0.08525283 0.05199673 0.15203762 0.23688156]\n",
      "Clusters weights (proportions): [0.21091727 0.01765027 0.06446777 0.11544228 0.23545046 0.35607196]\n",
      "Clusters weights (proportions): [0.28281314 0.03441461 0.14338285 0.00858662 0.08314025 0.44766253]\n"
     ]
    },
    {
     "name": "stderr",
     "output_type": "stream",
     "text": [
      "[I 2024-04-17 12:29:32,633] Trial 35 finished with value: -235565.60188569577 and parameters: {'preprocessing__quant__imputer__method': 'simple_mean', 'preprocessing__cat__imputer__method': 'simple_most_frequent', 'preprocessing__quant__scaler__apply': False, 'preprocessing__cat__encoder__method': 'ordinal', 'features_selector__apply': False, 'clustering_model__n_clusters': 6, 'clustering_model__estimators__0__n_estimators': 102, 'clustering_model__estimators__0__max_depth': 40, 'clustering_model__estimators__0__min_samples_split': 18, 'clustering_model__estimators__0__min_samples_leaf': 24, 'clustering_model__estimators__1__max_depth': None, 'clustering_model__estimators__1__lambda': 0.4, 'clustering_model__estimators__1__n_estimators': 30, 'clustering_model__estimators__1__eta': 0.26, 'clustering_model__estimators__1__alpha': 0.8500000000000001, 'clustering_model__estimators__2__n_estimators': 103, 'clustering_model__estimators__2__max_depth': 3, 'clustering_model__estimators__2__min_samples_split': 16, 'clustering_model__estimators__2__min_samples_leaf': 13, 'clustering_model__estimators__3__max_depth': 30, 'clustering_model__estimators__3__lambda': 0.30000000000000004, 'clustering_model__estimators__3__n_estimators': 150, 'clustering_model__estimators__3__eta': 0.0, 'clustering_model__estimators__3__alpha': 0.36, 'clustering_model__estimators__4__n_estimators': 69, 'clustering_model__estimators__4__max_depth': 50, 'clustering_model__estimators__4__min_samples_split': 17, 'clustering_model__estimators__4__min_samples_leaf': 18, 'clustering_model__estimators__5__max_depth': 50, 'clustering_model__estimators__5__lambda': 0.30000000000000004, 'clustering_model__estimators__5__n_estimators': 50, 'clustering_model__estimators__5__eta': 0.3, 'clustering_model__estimators__5__alpha': 0.55}. Best is trial 28 with value: -197053.16085808407.\n"
     ]
    },
    {
     "name": "stdout",
     "output_type": "stream",
     "text": [
      "Clusters weights (proportions): [0.54446943 0.08587201 0.03094118 0.11435971 0.22435766]\n",
      "Clusters weights (proportions): [0.16696197 0.28962791 0.02685021 0.42619599 0.09036391]\n",
      "Clusters weights (proportions): [0.08995502 0.62396075 0.01029031 0.23531416 0.04047976]\n",
      "Clusters weights (proportions): [0.46572168 0.0301213  0.14713098 0.26618509 0.09084094]\n"
     ]
    },
    {
     "name": "stderr",
     "output_type": "stream",
     "text": [
      "[I 2024-04-17 12:30:39,514] Trial 36 finished with value: -227440.0088971997 and parameters: {'preprocessing__quant__imputer__method': 'simple_mean', 'preprocessing__cat__imputer__method': 'simple_most_frequent', 'preprocessing__quant__scaler__apply': False, 'preprocessing__cat__encoder__method': 'one-hot', 'features_selector__apply': True, 'features_selector__method': 'KBest_f_reg', 'features_selector__k': 5, 'clustering_model__n_clusters': 5, 'clustering_model__estimators__0__n_estimators': 106, 'clustering_model__estimators__0__max_depth': 40, 'clustering_model__estimators__0__min_samples_split': 21, 'clustering_model__estimators__0__min_samples_leaf': 21, 'clustering_model__estimators__1__max_depth': None, 'clustering_model__estimators__1__lambda': 0.4, 'clustering_model__estimators__1__n_estimators': 30, 'clustering_model__estimators__1__eta': 0.22, 'clustering_model__estimators__1__alpha': 0.69, 'clustering_model__estimators__2__n_estimators': 93, 'clustering_model__estimators__2__max_depth': 5, 'clustering_model__estimators__2__min_samples_split': 11, 'clustering_model__estimators__2__min_samples_leaf': 25, 'clustering_model__estimators__3__max_depth': 50, 'clustering_model__estimators__3__lambda': 0.4, 'clustering_model__estimators__3__n_estimators': 100, 'clustering_model__estimators__3__eta': 0.2, 'clustering_model__estimators__3__alpha': 0.8200000000000001, 'clustering_model__estimators__4__n_estimators': 93, 'clustering_model__estimators__4__max_depth': 20, 'clustering_model__estimators__4__min_samples_split': 3, 'clustering_model__estimators__4__min_samples_leaf': 2}. Best is trial 28 with value: -197053.16085808407.\n"
     ]
    },
    {
     "name": "stdout",
     "output_type": "stream",
     "text": [
      "Clusters weights (proportions): [0.88073332 0.11926668]\n",
      "Clusters weights (proportions): [0.86670301 0.13329699]\n",
      "Clusters weights (proportions): [0.87835628 0.12164372]\n",
      "Clusters weights (proportions): [0.87678888 0.12321112]\n"
     ]
    },
    {
     "name": "stderr",
     "output_type": "stream",
     "text": [
      "[I 2024-04-17 12:32:48,085] Trial 37 finished with value: -235005.1154504151 and parameters: {'preprocessing__quant__imputer__method': 'simple_mean', 'preprocessing__cat__imputer__method': 'simple_most_frequent', 'preprocessing__quant__scaler__apply': True, 'preprocessing__cat__encoder__method': 'ordinal', 'features_selector__apply': False, 'preprocessing__quant__scaler__method': 'standard', 'clustering_model__n_clusters': 2, 'clustering_model__estimators__0__n_estimators': 106, 'clustering_model__estimators__0__max_depth': 40, 'clustering_model__estimators__0__min_samples_split': 14, 'clustering_model__estimators__0__min_samples_leaf': 17, 'clustering_model__estimators__1__max_depth': None, 'clustering_model__estimators__1__lambda': 0.5, 'clustering_model__estimators__1__n_estimators': 30, 'clustering_model__estimators__1__eta': 0.28, 'clustering_model__estimators__1__alpha': 0.73}. Best is trial 28 with value: -197053.16085808407.\n"
     ]
    },
    {
     "name": "stdout",
     "output_type": "stream",
     "text": [
      "Clusters weights (proportions): [0.83616166 0.02412595 0.1397124 ]\n",
      "Clusters weights (proportions): [0.2493526  0.07005588 0.68059152]\n",
      "Clusters weights (proportions): [0.83889873 0.02514652 0.13595475]\n",
      "Clusters weights (proportions): [0.8338558  0.03243833 0.13370587]\n"
     ]
    },
    {
     "name": "stderr",
     "output_type": "stream",
     "text": [
      "[I 2024-04-17 12:34:57,066] Trial 38 finished with value: -206895.69343111117 and parameters: {'preprocessing__quant__imputer__method': 'simple_mean', 'preprocessing__cat__imputer__method': 'simple_most_frequent', 'preprocessing__quant__scaler__apply': False, 'preprocessing__cat__encoder__method': 'ordinal', 'features_selector__apply': False, 'clustering_model__n_clusters': 3, 'clustering_model__estimators__0__n_estimators': 96, 'clustering_model__estimators__0__max_depth': 40, 'clustering_model__estimators__0__min_samples_split': 16, 'clustering_model__estimators__0__min_samples_leaf': 24, 'clustering_model__estimators__1__max_depth': None, 'clustering_model__estimators__1__lambda': 0.30000000000000004, 'clustering_model__estimators__1__n_estimators': 30, 'clustering_model__estimators__1__eta': 0.22, 'clustering_model__estimators__1__alpha': 0.8300000000000001, 'clustering_model__estimators__2__n_estimators': 75, 'clustering_model__estimators__2__max_depth': 30, 'clustering_model__estimators__2__min_samples_split': 4, 'clustering_model__estimators__2__min_samples_leaf': 5}. Best is trial 28 with value: -197053.16085808407.\n"
     ]
    },
    {
     "name": "stdout",
     "output_type": "stream",
     "text": [
      "Clusters weights (proportions): [0.88073332 0.11926668]\n",
      "Clusters weights (proportions): [0.86670301 0.13329699]\n",
      "Clusters weights (proportions): [0.87835628 0.12164372]\n",
      "Clusters weights (proportions): [0.87678888 0.12321112]\n"
     ]
    },
    {
     "name": "stderr",
     "output_type": "stream",
     "text": [
      "[I 2024-04-17 12:36:59,272] Trial 39 finished with value: -218675.84062519285 and parameters: {'preprocessing__quant__imputer__method': 'simple_mean', 'preprocessing__cat__imputer__method': 'simple_most_frequent', 'preprocessing__quant__scaler__apply': False, 'preprocessing__cat__encoder__method': 'one-hot', 'features_selector__apply': True, 'features_selector__method': 'KBest_f_reg', 'features_selector__k': 3, 'clustering_model__n_clusters': 2, 'clustering_model__estimators__0__n_estimators': 83, 'clustering_model__estimators__0__max_depth': 30, 'clustering_model__estimators__0__min_samples_split': 9, 'clustering_model__estimators__0__min_samples_leaf': 21, 'clustering_model__estimators__1__max_depth': None, 'clustering_model__estimators__1__lambda': 0.2, 'clustering_model__estimators__1__n_estimators': 100, 'clustering_model__estimators__1__eta': 0.28, 'clustering_model__estimators__1__alpha': 0.9299999999999999}. Best is trial 28 with value: -197053.16085808407.\n"
     ]
    }
   ],
   "source": [
    "simple_eval = SimpleEvaluation(estimator=pipeline_clustering_model,  \n",
    "                                inner=inner, \n",
    "                                param_grid=param_grid_RF_XGB,\n",
    "                                search_method='optuna',\n",
    "                                scoring='neg_mean_absolute_error', \n",
    "                                direction='maximize', \n",
    "                                n_trials=40, \n",
    "                                random_state=666)\n",
    "\n",
    "simple_eval.fit(X=X_train, y=Y_train)"
   ]
  },
  {
   "cell_type": "code",
   "execution_count": 22,
   "metadata": {},
   "outputs": [],
   "source": [
    "clustering_method = 'MBKmeans'\n",
    "inner_score[clustering_method] = simple_eval.inner_score\n",
    "best_params[clustering_method] = simple_eval.inner_best_params\n",
    "inner_results[clustering_method] = simple_eval.inner_results"
   ]
  },
  {
   "cell_type": "code",
   "execution_count": 24,
   "metadata": {},
   "outputs": [],
   "source": [
    "# Saving the results as pickle files\n",
    "\n",
    "'''\n",
    "with open(f'MiniBatchKmeans_results/best_params', 'wb') as file:\n",
    "    pickle.dump(best_params, file)\n",
    "\n",
    "with open(f'MiniBatchKmeans_results/inner_scores', 'wb') as file:\n",
    "    pickle.dump(inner_score, file)\n",
    "\n",
    "with open(f'MiniBatchKmeans_results/inner_results', 'wb') as file:\n",
    "    pickle.dump(inner_results, file)\n",
    "'''"
   ]
  },
  {
   "cell_type": "code",
   "execution_count": 2,
   "metadata": {},
   "outputs": [],
   "source": [
    "# Opening the results \n",
    "\n",
    "with open(f'MiniBatchKmeans_results/best_params', 'rb') as file:\n",
    "    best_params = pickle.load(file)\n",
    "\n",
    "with open(f'MiniBatchKmeans_results/inner_scores', 'rb') as file:\n",
    "    inner_score = pickle.load(file)\n",
    "\n",
    "with open(f'MiniBatchKmeans_results/inner_results', 'rb') as file:\n",
    "    inner_results = pickle.load(file)"
   ]
  },
  {
   "cell_type": "code",
   "execution_count": 3,
   "metadata": {},
   "outputs": [
    {
     "data": {
      "text/plain": [
       "{'MBKmeans': -197053.16085808407}"
      ]
     },
     "execution_count": 3,
     "metadata": {},
     "output_type": "execute_result"
    }
   ],
   "source": [
    "inner_score"
   ]
  },
  {
   "cell_type": "code",
   "execution_count": 27,
   "metadata": {},
   "outputs": [
    {
     "data": {
      "text/plain": [
       "{'MBKmeans': {'preprocessing__quant__imputer__method': 'iterative_median',\n",
       "  'preprocessing__cat__imputer__method': 'simple_most_frequent',\n",
       "  'preprocessing__quant__scaler__apply': False,\n",
       "  'preprocessing__cat__encoder__method': 'ordinal',\n",
       "  'features_selector__apply': False,\n",
       "  'clustering_model__n_clusters': 2,\n",
       "  'clustering_model__estimators__0__n_estimators': 98,\n",
       "  'clustering_model__estimators__0__max_depth': 40,\n",
       "  'clustering_model__estimators__0__min_samples_split': 21,\n",
       "  'clustering_model__estimators__0__min_samples_leaf': 23,\n",
       "  'clustering_model__estimators__1__max_depth': 7,\n",
       "  'clustering_model__estimators__1__lambda': 0.5,\n",
       "  'clustering_model__estimators__1__n_estimators': 70,\n",
       "  'clustering_model__estimators__1__eta': 0.22,\n",
       "  'clustering_model__estimators__1__alpha': 0.95}}"
      ]
     },
     "execution_count": 27,
     "metadata": {},
     "output_type": "execute_result"
    }
   ],
   "source": [
    "best_params"
   ]
  },
  {
   "cell_type": "code",
   "execution_count": 28,
   "metadata": {},
   "outputs": [],
   "source": [
    "pd.set_option('display.max_columns', None)"
   ]
  },
  {
   "cell_type": "code",
   "execution_count": 29,
   "metadata": {},
   "outputs": [
    {
     "data": {
      "text/html": [
       "<div>\n",
       "<style scoped>\n",
       "    .dataframe tbody tr th:only-of-type {\n",
       "        vertical-align: middle;\n",
       "    }\n",
       "\n",
       "    .dataframe tbody tr th {\n",
       "        vertical-align: top;\n",
       "    }\n",
       "\n",
       "    .dataframe thead th {\n",
       "        text-align: right;\n",
       "    }\n",
       "</style>\n",
       "<table border=\"1\" class=\"dataframe\">\n",
       "  <thead>\n",
       "    <tr style=\"text-align: right;\">\n",
       "      <th></th>\n",
       "      <th>preprocessing__quant__imputer__method</th>\n",
       "      <th>preprocessing__cat__imputer__method</th>\n",
       "      <th>preprocessing__quant__scaler__apply</th>\n",
       "      <th>preprocessing__cat__encoder__method</th>\n",
       "      <th>features_selector__apply</th>\n",
       "      <th>features_selector__method</th>\n",
       "      <th>preprocessing__quant__scaler__method</th>\n",
       "      <th>clustering_model__n_clusters</th>\n",
       "      <th>clustering_model__estimators__0__n_estimators</th>\n",
       "      <th>clustering_model__estimators__0__max_depth</th>\n",
       "      <th>clustering_model__estimators__0__min_samples_split</th>\n",
       "      <th>clustering_model__estimators__0__min_samples_leaf</th>\n",
       "      <th>clustering_model__estimators__1__max_depth</th>\n",
       "      <th>clustering_model__estimators__1__lambda</th>\n",
       "      <th>clustering_model__estimators__1__n_estimators</th>\n",
       "      <th>clustering_model__estimators__1__eta</th>\n",
       "      <th>clustering_model__estimators__1__alpha</th>\n",
       "      <th>clustering_model__estimators__2__n_estimators</th>\n",
       "      <th>clustering_model__estimators__2__max_depth</th>\n",
       "      <th>clustering_model__estimators__2__min_samples_split</th>\n",
       "      <th>clustering_model__estimators__2__min_samples_leaf</th>\n",
       "      <th>clustering_model__estimators__3__max_depth</th>\n",
       "      <th>clustering_model__estimators__3__lambda</th>\n",
       "      <th>clustering_model__estimators__3__n_estimators</th>\n",
       "      <th>clustering_model__estimators__3__eta</th>\n",
       "      <th>clustering_model__estimators__3__alpha</th>\n",
       "      <th>clustering_model__estimators__4__n_estimators</th>\n",
       "      <th>clustering_model__estimators__4__max_depth</th>\n",
       "      <th>clustering_model__estimators__4__min_samples_split</th>\n",
       "      <th>clustering_model__estimators__4__min_samples_leaf</th>\n",
       "      <th>clustering_model__estimators__5__max_depth</th>\n",
       "      <th>clustering_model__estimators__5__lambda</th>\n",
       "      <th>clustering_model__estimators__5__n_estimators</th>\n",
       "      <th>clustering_model__estimators__5__eta</th>\n",
       "      <th>clustering_model__estimators__5__alpha</th>\n",
       "      <th>features_selector__percentile</th>\n",
       "      <th>clustering_model__estimators__6__n_estimators</th>\n",
       "      <th>clustering_model__estimators__6__max_depth</th>\n",
       "      <th>clustering_model__estimators__6__min_samples_split</th>\n",
       "      <th>clustering_model__estimators__6__min_samples_leaf</th>\n",
       "      <th>clustering_model__estimators__7__max_depth</th>\n",
       "      <th>clustering_model__estimators__7__lambda</th>\n",
       "      <th>clustering_model__estimators__7__n_estimators</th>\n",
       "      <th>clustering_model__estimators__7__eta</th>\n",
       "      <th>clustering_model__estimators__7__alpha</th>\n",
       "      <th>features_selector__k</th>\n",
       "      <th>score</th>\n",
       "    </tr>\n",
       "  </thead>\n",
       "  <tbody>\n",
       "    <tr>\n",
       "      <th>28</th>\n",
       "      <td>iterative_median</td>\n",
       "      <td>simple_most_frequent</td>\n",
       "      <td>False</td>\n",
       "      <td>ordinal</td>\n",
       "      <td>False</td>\n",
       "      <td>NaN</td>\n",
       "      <td>NaN</td>\n",
       "      <td>2</td>\n",
       "      <td>98</td>\n",
       "      <td>40.0</td>\n",
       "      <td>21</td>\n",
       "      <td>23</td>\n",
       "      <td>7.0</td>\n",
       "      <td>0.5</td>\n",
       "      <td>70</td>\n",
       "      <td>0.22</td>\n",
       "      <td>0.95</td>\n",
       "      <td>NaN</td>\n",
       "      <td>NaN</td>\n",
       "      <td>NaN</td>\n",
       "      <td>NaN</td>\n",
       "      <td>NaN</td>\n",
       "      <td>NaN</td>\n",
       "      <td>NaN</td>\n",
       "      <td>NaN</td>\n",
       "      <td>NaN</td>\n",
       "      <td>NaN</td>\n",
       "      <td>NaN</td>\n",
       "      <td>NaN</td>\n",
       "      <td>NaN</td>\n",
       "      <td>NaN</td>\n",
       "      <td>NaN</td>\n",
       "      <td>NaN</td>\n",
       "      <td>NaN</td>\n",
       "      <td>NaN</td>\n",
       "      <td>NaN</td>\n",
       "      <td>NaN</td>\n",
       "      <td>NaN</td>\n",
       "      <td>NaN</td>\n",
       "      <td>NaN</td>\n",
       "      <td>NaN</td>\n",
       "      <td>NaN</td>\n",
       "      <td>NaN</td>\n",
       "      <td>NaN</td>\n",
       "      <td>NaN</td>\n",
       "      <td>NaN</td>\n",
       "      <td>-197053.160858</td>\n",
       "    </tr>\n",
       "    <tr>\n",
       "      <th>32</th>\n",
       "      <td>iterative_median</td>\n",
       "      <td>simple_most_frequent</td>\n",
       "      <td>False</td>\n",
       "      <td>ordinal</td>\n",
       "      <td>False</td>\n",
       "      <td>NaN</td>\n",
       "      <td>NaN</td>\n",
       "      <td>2</td>\n",
       "      <td>105</td>\n",
       "      <td>40.0</td>\n",
       "      <td>23</td>\n",
       "      <td>20</td>\n",
       "      <td>NaN</td>\n",
       "      <td>0.5</td>\n",
       "      <td>70</td>\n",
       "      <td>0.22</td>\n",
       "      <td>0.86</td>\n",
       "      <td>NaN</td>\n",
       "      <td>NaN</td>\n",
       "      <td>NaN</td>\n",
       "      <td>NaN</td>\n",
       "      <td>NaN</td>\n",
       "      <td>NaN</td>\n",
       "      <td>NaN</td>\n",
       "      <td>NaN</td>\n",
       "      <td>NaN</td>\n",
       "      <td>NaN</td>\n",
       "      <td>NaN</td>\n",
       "      <td>NaN</td>\n",
       "      <td>NaN</td>\n",
       "      <td>NaN</td>\n",
       "      <td>NaN</td>\n",
       "      <td>NaN</td>\n",
       "      <td>NaN</td>\n",
       "      <td>NaN</td>\n",
       "      <td>NaN</td>\n",
       "      <td>NaN</td>\n",
       "      <td>NaN</td>\n",
       "      <td>NaN</td>\n",
       "      <td>NaN</td>\n",
       "      <td>NaN</td>\n",
       "      <td>NaN</td>\n",
       "      <td>NaN</td>\n",
       "      <td>NaN</td>\n",
       "      <td>NaN</td>\n",
       "      <td>NaN</td>\n",
       "      <td>-197904.066951</td>\n",
       "    </tr>\n",
       "    <tr>\n",
       "      <th>31</th>\n",
       "      <td>iterative_median</td>\n",
       "      <td>simple_most_frequent</td>\n",
       "      <td>False</td>\n",
       "      <td>ordinal</td>\n",
       "      <td>False</td>\n",
       "      <td>NaN</td>\n",
       "      <td>NaN</td>\n",
       "      <td>2</td>\n",
       "      <td>90</td>\n",
       "      <td>40.0</td>\n",
       "      <td>24</td>\n",
       "      <td>21</td>\n",
       "      <td>NaN</td>\n",
       "      <td>0.5</td>\n",
       "      <td>70</td>\n",
       "      <td>0.22</td>\n",
       "      <td>0.85</td>\n",
       "      <td>NaN</td>\n",
       "      <td>NaN</td>\n",
       "      <td>NaN</td>\n",
       "      <td>NaN</td>\n",
       "      <td>NaN</td>\n",
       "      <td>NaN</td>\n",
       "      <td>NaN</td>\n",
       "      <td>NaN</td>\n",
       "      <td>NaN</td>\n",
       "      <td>NaN</td>\n",
       "      <td>NaN</td>\n",
       "      <td>NaN</td>\n",
       "      <td>NaN</td>\n",
       "      <td>NaN</td>\n",
       "      <td>NaN</td>\n",
       "      <td>NaN</td>\n",
       "      <td>NaN</td>\n",
       "      <td>NaN</td>\n",
       "      <td>NaN</td>\n",
       "      <td>NaN</td>\n",
       "      <td>NaN</td>\n",
       "      <td>NaN</td>\n",
       "      <td>NaN</td>\n",
       "      <td>NaN</td>\n",
       "      <td>NaN</td>\n",
       "      <td>NaN</td>\n",
       "      <td>NaN</td>\n",
       "      <td>NaN</td>\n",
       "      <td>NaN</td>\n",
       "      <td>-198029.472189</td>\n",
       "    </tr>\n",
       "    <tr>\n",
       "      <th>34</th>\n",
       "      <td>simple_mean</td>\n",
       "      <td>simple_most_frequent</td>\n",
       "      <td>False</td>\n",
       "      <td>ordinal</td>\n",
       "      <td>False</td>\n",
       "      <td>NaN</td>\n",
       "      <td>NaN</td>\n",
       "      <td>2</td>\n",
       "      <td>100</td>\n",
       "      <td>40.0</td>\n",
       "      <td>21</td>\n",
       "      <td>21</td>\n",
       "      <td>NaN</td>\n",
       "      <td>0.4</td>\n",
       "      <td>30</td>\n",
       "      <td>0.22</td>\n",
       "      <td>0.85</td>\n",
       "      <td>NaN</td>\n",
       "      <td>NaN</td>\n",
       "      <td>NaN</td>\n",
       "      <td>NaN</td>\n",
       "      <td>NaN</td>\n",
       "      <td>NaN</td>\n",
       "      <td>NaN</td>\n",
       "      <td>NaN</td>\n",
       "      <td>NaN</td>\n",
       "      <td>NaN</td>\n",
       "      <td>NaN</td>\n",
       "      <td>NaN</td>\n",
       "      <td>NaN</td>\n",
       "      <td>NaN</td>\n",
       "      <td>NaN</td>\n",
       "      <td>NaN</td>\n",
       "      <td>NaN</td>\n",
       "      <td>NaN</td>\n",
       "      <td>NaN</td>\n",
       "      <td>NaN</td>\n",
       "      <td>NaN</td>\n",
       "      <td>NaN</td>\n",
       "      <td>NaN</td>\n",
       "      <td>NaN</td>\n",
       "      <td>NaN</td>\n",
       "      <td>NaN</td>\n",
       "      <td>NaN</td>\n",
       "      <td>NaN</td>\n",
       "      <td>NaN</td>\n",
       "      <td>-198653.501778</td>\n",
       "    </tr>\n",
       "    <tr>\n",
       "      <th>22</th>\n",
       "      <td>iterative_median</td>\n",
       "      <td>simple_most_frequent</td>\n",
       "      <td>False</td>\n",
       "      <td>ordinal</td>\n",
       "      <td>False</td>\n",
       "      <td>NaN</td>\n",
       "      <td>NaN</td>\n",
       "      <td>2</td>\n",
       "      <td>99</td>\n",
       "      <td>10.0</td>\n",
       "      <td>23</td>\n",
       "      <td>20</td>\n",
       "      <td>20.0</td>\n",
       "      <td>0.5</td>\n",
       "      <td>70</td>\n",
       "      <td>0.20</td>\n",
       "      <td>0.99</td>\n",
       "      <td>NaN</td>\n",
       "      <td>NaN</td>\n",
       "      <td>NaN</td>\n",
       "      <td>NaN</td>\n",
       "      <td>NaN</td>\n",
       "      <td>NaN</td>\n",
       "      <td>NaN</td>\n",
       "      <td>NaN</td>\n",
       "      <td>NaN</td>\n",
       "      <td>NaN</td>\n",
       "      <td>NaN</td>\n",
       "      <td>NaN</td>\n",
       "      <td>NaN</td>\n",
       "      <td>NaN</td>\n",
       "      <td>NaN</td>\n",
       "      <td>NaN</td>\n",
       "      <td>NaN</td>\n",
       "      <td>NaN</td>\n",
       "      <td>NaN</td>\n",
       "      <td>NaN</td>\n",
       "      <td>NaN</td>\n",
       "      <td>NaN</td>\n",
       "      <td>NaN</td>\n",
       "      <td>NaN</td>\n",
       "      <td>NaN</td>\n",
       "      <td>NaN</td>\n",
       "      <td>NaN</td>\n",
       "      <td>NaN</td>\n",
       "      <td>NaN</td>\n",
       "      <td>-200199.024534</td>\n",
       "    </tr>\n",
       "  </tbody>\n",
       "</table>\n",
       "</div>"
      ],
      "text/plain": [
       "   preprocessing__quant__imputer__method preprocessing__cat__imputer__method  \\\n",
       "28                      iterative_median                simple_most_frequent   \n",
       "32                      iterative_median                simple_most_frequent   \n",
       "31                      iterative_median                simple_most_frequent   \n",
       "34                           simple_mean                simple_most_frequent   \n",
       "22                      iterative_median                simple_most_frequent   \n",
       "\n",
       "    preprocessing__quant__scaler__apply preprocessing__cat__encoder__method  \\\n",
       "28                                False                             ordinal   \n",
       "32                                False                             ordinal   \n",
       "31                                False                             ordinal   \n",
       "34                                False                             ordinal   \n",
       "22                                False                             ordinal   \n",
       "\n",
       "    features_selector__apply features_selector__method  \\\n",
       "28                     False                       NaN   \n",
       "32                     False                       NaN   \n",
       "31                     False                       NaN   \n",
       "34                     False                       NaN   \n",
       "22                     False                       NaN   \n",
       "\n",
       "   preprocessing__quant__scaler__method  clustering_model__n_clusters  \\\n",
       "28                                  NaN                             2   \n",
       "32                                  NaN                             2   \n",
       "31                                  NaN                             2   \n",
       "34                                  NaN                             2   \n",
       "22                                  NaN                             2   \n",
       "\n",
       "    clustering_model__estimators__0__n_estimators  \\\n",
       "28                                             98   \n",
       "32                                            105   \n",
       "31                                             90   \n",
       "34                                            100   \n",
       "22                                             99   \n",
       "\n",
       "    clustering_model__estimators__0__max_depth  \\\n",
       "28                                        40.0   \n",
       "32                                        40.0   \n",
       "31                                        40.0   \n",
       "34                                        40.0   \n",
       "22                                        10.0   \n",
       "\n",
       "    clustering_model__estimators__0__min_samples_split  \\\n",
       "28                                                 21    \n",
       "32                                                 23    \n",
       "31                                                 24    \n",
       "34                                                 21    \n",
       "22                                                 23    \n",
       "\n",
       "    clustering_model__estimators__0__min_samples_leaf  \\\n",
       "28                                                 23   \n",
       "32                                                 20   \n",
       "31                                                 21   \n",
       "34                                                 21   \n",
       "22                                                 20   \n",
       "\n",
       "    clustering_model__estimators__1__max_depth  \\\n",
       "28                                         7.0   \n",
       "32                                         NaN   \n",
       "31                                         NaN   \n",
       "34                                         NaN   \n",
       "22                                        20.0   \n",
       "\n",
       "    clustering_model__estimators__1__lambda  \\\n",
       "28                                      0.5   \n",
       "32                                      0.5   \n",
       "31                                      0.5   \n",
       "34                                      0.4   \n",
       "22                                      0.5   \n",
       "\n",
       "    clustering_model__estimators__1__n_estimators  \\\n",
       "28                                             70   \n",
       "32                                             70   \n",
       "31                                             70   \n",
       "34                                             30   \n",
       "22                                             70   \n",
       "\n",
       "    clustering_model__estimators__1__eta  \\\n",
       "28                                  0.22   \n",
       "32                                  0.22   \n",
       "31                                  0.22   \n",
       "34                                  0.22   \n",
       "22                                  0.20   \n",
       "\n",
       "    clustering_model__estimators__1__alpha  \\\n",
       "28                                    0.95   \n",
       "32                                    0.86   \n",
       "31                                    0.85   \n",
       "34                                    0.85   \n",
       "22                                    0.99   \n",
       "\n",
       "    clustering_model__estimators__2__n_estimators  \\\n",
       "28                                            NaN   \n",
       "32                                            NaN   \n",
       "31                                            NaN   \n",
       "34                                            NaN   \n",
       "22                                            NaN   \n",
       "\n",
       "    clustering_model__estimators__2__max_depth  \\\n",
       "28                                         NaN   \n",
       "32                                         NaN   \n",
       "31                                         NaN   \n",
       "34                                         NaN   \n",
       "22                                         NaN   \n",
       "\n",
       "    clustering_model__estimators__2__min_samples_split  \\\n",
       "28                                                NaN    \n",
       "32                                                NaN    \n",
       "31                                                NaN    \n",
       "34                                                NaN    \n",
       "22                                                NaN    \n",
       "\n",
       "    clustering_model__estimators__2__min_samples_leaf  \\\n",
       "28                                                NaN   \n",
       "32                                                NaN   \n",
       "31                                                NaN   \n",
       "34                                                NaN   \n",
       "22                                                NaN   \n",
       "\n",
       "    clustering_model__estimators__3__max_depth  \\\n",
       "28                                         NaN   \n",
       "32                                         NaN   \n",
       "31                                         NaN   \n",
       "34                                         NaN   \n",
       "22                                         NaN   \n",
       "\n",
       "    clustering_model__estimators__3__lambda  \\\n",
       "28                                      NaN   \n",
       "32                                      NaN   \n",
       "31                                      NaN   \n",
       "34                                      NaN   \n",
       "22                                      NaN   \n",
       "\n",
       "    clustering_model__estimators__3__n_estimators  \\\n",
       "28                                            NaN   \n",
       "32                                            NaN   \n",
       "31                                            NaN   \n",
       "34                                            NaN   \n",
       "22                                            NaN   \n",
       "\n",
       "    clustering_model__estimators__3__eta  \\\n",
       "28                                   NaN   \n",
       "32                                   NaN   \n",
       "31                                   NaN   \n",
       "34                                   NaN   \n",
       "22                                   NaN   \n",
       "\n",
       "    clustering_model__estimators__3__alpha  \\\n",
       "28                                     NaN   \n",
       "32                                     NaN   \n",
       "31                                     NaN   \n",
       "34                                     NaN   \n",
       "22                                     NaN   \n",
       "\n",
       "    clustering_model__estimators__4__n_estimators  \\\n",
       "28                                            NaN   \n",
       "32                                            NaN   \n",
       "31                                            NaN   \n",
       "34                                            NaN   \n",
       "22                                            NaN   \n",
       "\n",
       "    clustering_model__estimators__4__max_depth  \\\n",
       "28                                         NaN   \n",
       "32                                         NaN   \n",
       "31                                         NaN   \n",
       "34                                         NaN   \n",
       "22                                         NaN   \n",
       "\n",
       "    clustering_model__estimators__4__min_samples_split  \\\n",
       "28                                                NaN    \n",
       "32                                                NaN    \n",
       "31                                                NaN    \n",
       "34                                                NaN    \n",
       "22                                                NaN    \n",
       "\n",
       "    clustering_model__estimators__4__min_samples_leaf  \\\n",
       "28                                                NaN   \n",
       "32                                                NaN   \n",
       "31                                                NaN   \n",
       "34                                                NaN   \n",
       "22                                                NaN   \n",
       "\n",
       "    clustering_model__estimators__5__max_depth  \\\n",
       "28                                         NaN   \n",
       "32                                         NaN   \n",
       "31                                         NaN   \n",
       "34                                         NaN   \n",
       "22                                         NaN   \n",
       "\n",
       "    clustering_model__estimators__5__lambda  \\\n",
       "28                                      NaN   \n",
       "32                                      NaN   \n",
       "31                                      NaN   \n",
       "34                                      NaN   \n",
       "22                                      NaN   \n",
       "\n",
       "    clustering_model__estimators__5__n_estimators  \\\n",
       "28                                            NaN   \n",
       "32                                            NaN   \n",
       "31                                            NaN   \n",
       "34                                            NaN   \n",
       "22                                            NaN   \n",
       "\n",
       "    clustering_model__estimators__5__eta  \\\n",
       "28                                   NaN   \n",
       "32                                   NaN   \n",
       "31                                   NaN   \n",
       "34                                   NaN   \n",
       "22                                   NaN   \n",
       "\n",
       "    clustering_model__estimators__5__alpha  features_selector__percentile  \\\n",
       "28                                     NaN                            NaN   \n",
       "32                                     NaN                            NaN   \n",
       "31                                     NaN                            NaN   \n",
       "34                                     NaN                            NaN   \n",
       "22                                     NaN                            NaN   \n",
       "\n",
       "    clustering_model__estimators__6__n_estimators  \\\n",
       "28                                            NaN   \n",
       "32                                            NaN   \n",
       "31                                            NaN   \n",
       "34                                            NaN   \n",
       "22                                            NaN   \n",
       "\n",
       "    clustering_model__estimators__6__max_depth  \\\n",
       "28                                         NaN   \n",
       "32                                         NaN   \n",
       "31                                         NaN   \n",
       "34                                         NaN   \n",
       "22                                         NaN   \n",
       "\n",
       "    clustering_model__estimators__6__min_samples_split  \\\n",
       "28                                                NaN    \n",
       "32                                                NaN    \n",
       "31                                                NaN    \n",
       "34                                                NaN    \n",
       "22                                                NaN    \n",
       "\n",
       "    clustering_model__estimators__6__min_samples_leaf  \\\n",
       "28                                                NaN   \n",
       "32                                                NaN   \n",
       "31                                                NaN   \n",
       "34                                                NaN   \n",
       "22                                                NaN   \n",
       "\n",
       "    clustering_model__estimators__7__max_depth  \\\n",
       "28                                         NaN   \n",
       "32                                         NaN   \n",
       "31                                         NaN   \n",
       "34                                         NaN   \n",
       "22                                         NaN   \n",
       "\n",
       "    clustering_model__estimators__7__lambda  \\\n",
       "28                                      NaN   \n",
       "32                                      NaN   \n",
       "31                                      NaN   \n",
       "34                                      NaN   \n",
       "22                                      NaN   \n",
       "\n",
       "    clustering_model__estimators__7__n_estimators  \\\n",
       "28                                            NaN   \n",
       "32                                            NaN   \n",
       "31                                            NaN   \n",
       "34                                            NaN   \n",
       "22                                            NaN   \n",
       "\n",
       "    clustering_model__estimators__7__eta  \\\n",
       "28                                   NaN   \n",
       "32                                   NaN   \n",
       "31                                   NaN   \n",
       "34                                   NaN   \n",
       "22                                   NaN   \n",
       "\n",
       "    clustering_model__estimators__7__alpha  features_selector__k  \\\n",
       "28                                     NaN                   NaN   \n",
       "32                                     NaN                   NaN   \n",
       "31                                     NaN                   NaN   \n",
       "34                                     NaN                   NaN   \n",
       "22                                     NaN                   NaN   \n",
       "\n",
       "            score  \n",
       "28 -197053.160858  \n",
       "32 -197904.066951  \n",
       "31 -198029.472189  \n",
       "34 -198653.501778  \n",
       "22 -200199.024534  "
      ]
     },
     "execution_count": 29,
     "metadata": {},
     "output_type": "execute_result"
    }
   ],
   "source": [
    "inner_results['MBKmeans'].head(5)"
   ]
  },
  {
   "cell_type": "code",
   "execution_count": 4,
   "metadata": {},
   "outputs": [],
   "source": [
    "inner_score_large, best_params_large = {}, {}"
   ]
  },
  {
   "cell_type": "code",
   "execution_count": 5,
   "metadata": {},
   "outputs": [],
   "source": [
    "for n_clusters in range(2, 8):\n",
    "    inner_score_large[f'MBKmeans-n_clusters={n_clusters}'] = inner_results['MBKmeans'].loc[inner_results['MBKmeans']['clustering_model__n_clusters'] == n_clusters]['score'].iloc[0]\n",
    "    best_params_large[f'MBKmeans-n_clusters={n_clusters}'] = dict(inner_results['MBKmeans'].loc[inner_results['MBKmeans']['clustering_model__n_clusters'] == n_clusters].iloc[0, :-1])"
   ]
  },
  {
   "cell_type": "code",
   "execution_count": 6,
   "metadata": {},
   "outputs": [
    {
     "data": {
      "text/plain": [
       "{'MBKmeans-n_clusters=2': -197053.16085808407,\n",
       " 'MBKmeans-n_clusters=3': -206895.69343111117,\n",
       " 'MBKmeans-n_clusters=4': -220789.40726928358,\n",
       " 'MBKmeans-n_clusters=5': -223834.05058343627,\n",
       " 'MBKmeans-n_clusters=6': -235565.60188569577,\n",
       " 'MBKmeans-n_clusters=7': -238507.78731168498}"
      ]
     },
     "execution_count": 6,
     "metadata": {},
     "output_type": "execute_result"
    }
   ],
   "source": [
    "inner_score_large"
   ]
  },
  {
   "cell_type": "code",
   "execution_count": 33,
   "metadata": {},
   "outputs": [
    {
     "data": {
      "text/plain": [
       "{'MBKmeans-n_clusters=2': {'preprocessing__quant__imputer__method': 'iterative_median',\n",
       "  'preprocessing__cat__imputer__method': 'simple_most_frequent',\n",
       "  'preprocessing__quant__scaler__apply': False,\n",
       "  'preprocessing__cat__encoder__method': 'ordinal',\n",
       "  'features_selector__apply': False,\n",
       "  'features_selector__method': nan,\n",
       "  'preprocessing__quant__scaler__method': nan,\n",
       "  'clustering_model__n_clusters': 2,\n",
       "  'clustering_model__estimators__0__n_estimators': 98,\n",
       "  'clustering_model__estimators__0__max_depth': 40.0,\n",
       "  'clustering_model__estimators__0__min_samples_split': 21,\n",
       "  'clustering_model__estimators__0__min_samples_leaf': 23,\n",
       "  'clustering_model__estimators__1__max_depth': 7.0,\n",
       "  'clustering_model__estimators__1__lambda': 0.5,\n",
       "  'clustering_model__estimators__1__n_estimators': 70,\n",
       "  'clustering_model__estimators__1__eta': 0.22,\n",
       "  'clustering_model__estimators__1__alpha': 0.95,\n",
       "  'clustering_model__estimators__2__n_estimators': nan,\n",
       "  'clustering_model__estimators__2__max_depth': nan,\n",
       "  'clustering_model__estimators__2__min_samples_split': nan,\n",
       "  'clustering_model__estimators__2__min_samples_leaf': nan,\n",
       "  'clustering_model__estimators__3__max_depth': nan,\n",
       "  'clustering_model__estimators__3__lambda': nan,\n",
       "  'clustering_model__estimators__3__n_estimators': nan,\n",
       "  'clustering_model__estimators__3__eta': nan,\n",
       "  'clustering_model__estimators__3__alpha': nan,\n",
       "  'clustering_model__estimators__4__n_estimators': nan,\n",
       "  'clustering_model__estimators__4__max_depth': nan,\n",
       "  'clustering_model__estimators__4__min_samples_split': nan,\n",
       "  'clustering_model__estimators__4__min_samples_leaf': nan,\n",
       "  'clustering_model__estimators__5__max_depth': nan,\n",
       "  'clustering_model__estimators__5__lambda': nan,\n",
       "  'clustering_model__estimators__5__n_estimators': nan,\n",
       "  'clustering_model__estimators__5__eta': nan,\n",
       "  'clustering_model__estimators__5__alpha': nan,\n",
       "  'features_selector__percentile': nan,\n",
       "  'clustering_model__estimators__6__n_estimators': nan,\n",
       "  'clustering_model__estimators__6__max_depth': nan,\n",
       "  'clustering_model__estimators__6__min_samples_split': nan,\n",
       "  'clustering_model__estimators__6__min_samples_leaf': nan,\n",
       "  'clustering_model__estimators__7__max_depth': nan,\n",
       "  'clustering_model__estimators__7__lambda': nan,\n",
       "  'clustering_model__estimators__7__n_estimators': nan,\n",
       "  'clustering_model__estimators__7__eta': nan,\n",
       "  'clustering_model__estimators__7__alpha': nan,\n",
       "  'features_selector__k': nan},\n",
       " 'MBKmeans-n_clusters=3': {'preprocessing__quant__imputer__method': 'simple_mean',\n",
       "  'preprocessing__cat__imputer__method': 'simple_most_frequent',\n",
       "  'preprocessing__quant__scaler__apply': False,\n",
       "  'preprocessing__cat__encoder__method': 'ordinal',\n",
       "  'features_selector__apply': False,\n",
       "  'features_selector__method': nan,\n",
       "  'preprocessing__quant__scaler__method': nan,\n",
       "  'clustering_model__n_clusters': 3,\n",
       "  'clustering_model__estimators__0__n_estimators': 96,\n",
       "  'clustering_model__estimators__0__max_depth': 40.0,\n",
       "  'clustering_model__estimators__0__min_samples_split': 16,\n",
       "  'clustering_model__estimators__0__min_samples_leaf': 24,\n",
       "  'clustering_model__estimators__1__max_depth': nan,\n",
       "  'clustering_model__estimators__1__lambda': 0.30000000000000004,\n",
       "  'clustering_model__estimators__1__n_estimators': 30,\n",
       "  'clustering_model__estimators__1__eta': 0.22,\n",
       "  'clustering_model__estimators__1__alpha': 0.8300000000000001,\n",
       "  'clustering_model__estimators__2__n_estimators': 75.0,\n",
       "  'clustering_model__estimators__2__max_depth': 30.0,\n",
       "  'clustering_model__estimators__2__min_samples_split': 4.0,\n",
       "  'clustering_model__estimators__2__min_samples_leaf': 5.0,\n",
       "  'clustering_model__estimators__3__max_depth': nan,\n",
       "  'clustering_model__estimators__3__lambda': nan,\n",
       "  'clustering_model__estimators__3__n_estimators': nan,\n",
       "  'clustering_model__estimators__3__eta': nan,\n",
       "  'clustering_model__estimators__3__alpha': nan,\n",
       "  'clustering_model__estimators__4__n_estimators': nan,\n",
       "  'clustering_model__estimators__4__max_depth': nan,\n",
       "  'clustering_model__estimators__4__min_samples_split': nan,\n",
       "  'clustering_model__estimators__4__min_samples_leaf': nan,\n",
       "  'clustering_model__estimators__5__max_depth': nan,\n",
       "  'clustering_model__estimators__5__lambda': nan,\n",
       "  'clustering_model__estimators__5__n_estimators': nan,\n",
       "  'clustering_model__estimators__5__eta': nan,\n",
       "  'clustering_model__estimators__5__alpha': nan,\n",
       "  'features_selector__percentile': nan,\n",
       "  'clustering_model__estimators__6__n_estimators': nan,\n",
       "  'clustering_model__estimators__6__max_depth': nan,\n",
       "  'clustering_model__estimators__6__min_samples_split': nan,\n",
       "  'clustering_model__estimators__6__min_samples_leaf': nan,\n",
       "  'clustering_model__estimators__7__max_depth': nan,\n",
       "  'clustering_model__estimators__7__lambda': nan,\n",
       "  'clustering_model__estimators__7__n_estimators': nan,\n",
       "  'clustering_model__estimators__7__eta': nan,\n",
       "  'clustering_model__estimators__7__alpha': nan,\n",
       "  'features_selector__k': nan},\n",
       " 'MBKmeans-n_clusters=4': {'preprocessing__quant__imputer__method': 'iterative_median',\n",
       "  'preprocessing__cat__imputer__method': 'simple_most_frequent',\n",
       "  'preprocessing__quant__scaler__apply': False,\n",
       "  'preprocessing__cat__encoder__method': 'ordinal',\n",
       "  'features_selector__apply': False,\n",
       "  'features_selector__method': nan,\n",
       "  'preprocessing__quant__scaler__method': nan,\n",
       "  'clustering_model__n_clusters': 4,\n",
       "  'clustering_model__estimators__0__n_estimators': 111,\n",
       "  'clustering_model__estimators__0__max_depth': 10.0,\n",
       "  'clustering_model__estimators__0__min_samples_split': 23,\n",
       "  'clustering_model__estimators__0__min_samples_leaf': 18,\n",
       "  'clustering_model__estimators__1__max_depth': 20.0,\n",
       "  'clustering_model__estimators__1__lambda': 0.5,\n",
       "  'clustering_model__estimators__1__n_estimators': 70,\n",
       "  'clustering_model__estimators__1__eta': 0.14,\n",
       "  'clustering_model__estimators__1__alpha': 0.9199999999999999,\n",
       "  'clustering_model__estimators__2__n_estimators': 89.0,\n",
       "  'clustering_model__estimators__2__max_depth': 30.0,\n",
       "  'clustering_model__estimators__2__min_samples_split': 3.0,\n",
       "  'clustering_model__estimators__2__min_samples_leaf': 8.0,\n",
       "  'clustering_model__estimators__3__max_depth': nan,\n",
       "  'clustering_model__estimators__3__lambda': 0.4,\n",
       "  'clustering_model__estimators__3__n_estimators': 180.0,\n",
       "  'clustering_model__estimators__3__eta': 0.22,\n",
       "  'clustering_model__estimators__3__alpha': 0.2,\n",
       "  'clustering_model__estimators__4__n_estimators': nan,\n",
       "  'clustering_model__estimators__4__max_depth': nan,\n",
       "  'clustering_model__estimators__4__min_samples_split': nan,\n",
       "  'clustering_model__estimators__4__min_samples_leaf': nan,\n",
       "  'clustering_model__estimators__5__max_depth': nan,\n",
       "  'clustering_model__estimators__5__lambda': nan,\n",
       "  'clustering_model__estimators__5__n_estimators': nan,\n",
       "  'clustering_model__estimators__5__eta': nan,\n",
       "  'clustering_model__estimators__5__alpha': nan,\n",
       "  'features_selector__percentile': nan,\n",
       "  'clustering_model__estimators__6__n_estimators': nan,\n",
       "  'clustering_model__estimators__6__max_depth': nan,\n",
       "  'clustering_model__estimators__6__min_samples_split': nan,\n",
       "  'clustering_model__estimators__6__min_samples_leaf': nan,\n",
       "  'clustering_model__estimators__7__max_depth': nan,\n",
       "  'clustering_model__estimators__7__lambda': nan,\n",
       "  'clustering_model__estimators__7__n_estimators': nan,\n",
       "  'clustering_model__estimators__7__eta': nan,\n",
       "  'clustering_model__estimators__7__alpha': nan,\n",
       "  'features_selector__k': nan},\n",
       " 'MBKmeans-n_clusters=5': {'preprocessing__quant__imputer__method': 'iterative_mean',\n",
       "  'preprocessing__cat__imputer__method': 'simple_most_frequent',\n",
       "  'preprocessing__quant__scaler__apply': False,\n",
       "  'preprocessing__cat__encoder__method': 'ordinal',\n",
       "  'features_selector__apply': True,\n",
       "  'features_selector__method': 'Fdr_f_reg',\n",
       "  'preprocessing__quant__scaler__method': nan,\n",
       "  'clustering_model__n_clusters': 5,\n",
       "  'clustering_model__estimators__0__n_estimators': 104,\n",
       "  'clustering_model__estimators__0__max_depth': 7.0,\n",
       "  'clustering_model__estimators__0__min_samples_split': 5,\n",
       "  'clustering_model__estimators__0__min_samples_leaf': 5,\n",
       "  'clustering_model__estimators__1__max_depth': 3.0,\n",
       "  'clustering_model__estimators__1__lambda': 0.0,\n",
       "  'clustering_model__estimators__1__n_estimators': 50,\n",
       "  'clustering_model__estimators__1__eta': 0.08,\n",
       "  'clustering_model__estimators__1__alpha': 0.32,\n",
       "  'clustering_model__estimators__2__n_estimators': 98.0,\n",
       "  'clustering_model__estimators__2__max_depth': 10.0,\n",
       "  'clustering_model__estimators__2__min_samples_split': 12.0,\n",
       "  'clustering_model__estimators__2__min_samples_leaf': 23.0,\n",
       "  'clustering_model__estimators__3__max_depth': 10.0,\n",
       "  'clustering_model__estimators__3__lambda': 0.2,\n",
       "  'clustering_model__estimators__3__n_estimators': 70.0,\n",
       "  'clustering_model__estimators__3__eta': 0.04,\n",
       "  'clustering_model__estimators__3__alpha': 0.99,\n",
       "  'clustering_model__estimators__4__n_estimators': 51.0,\n",
       "  'clustering_model__estimators__4__max_depth': nan,\n",
       "  'clustering_model__estimators__4__min_samples_split': 11.0,\n",
       "  'clustering_model__estimators__4__min_samples_leaf': 8.0,\n",
       "  'clustering_model__estimators__5__max_depth': nan,\n",
       "  'clustering_model__estimators__5__lambda': nan,\n",
       "  'clustering_model__estimators__5__n_estimators': nan,\n",
       "  'clustering_model__estimators__5__eta': nan,\n",
       "  'clustering_model__estimators__5__alpha': nan,\n",
       "  'features_selector__percentile': nan,\n",
       "  'clustering_model__estimators__6__n_estimators': nan,\n",
       "  'clustering_model__estimators__6__max_depth': nan,\n",
       "  'clustering_model__estimators__6__min_samples_split': nan,\n",
       "  'clustering_model__estimators__6__min_samples_leaf': nan,\n",
       "  'clustering_model__estimators__7__max_depth': nan,\n",
       "  'clustering_model__estimators__7__lambda': nan,\n",
       "  'clustering_model__estimators__7__n_estimators': nan,\n",
       "  'clustering_model__estimators__7__eta': nan,\n",
       "  'clustering_model__estimators__7__alpha': nan,\n",
       "  'features_selector__k': nan},\n",
       " 'MBKmeans-n_clusters=6': {'preprocessing__quant__imputer__method': 'simple_mean',\n",
       "  'preprocessing__cat__imputer__method': 'simple_most_frequent',\n",
       "  'preprocessing__quant__scaler__apply': False,\n",
       "  'preprocessing__cat__encoder__method': 'ordinal',\n",
       "  'features_selector__apply': False,\n",
       "  'features_selector__method': nan,\n",
       "  'preprocessing__quant__scaler__method': nan,\n",
       "  'clustering_model__n_clusters': 6,\n",
       "  'clustering_model__estimators__0__n_estimators': 102,\n",
       "  'clustering_model__estimators__0__max_depth': 40.0,\n",
       "  'clustering_model__estimators__0__min_samples_split': 18,\n",
       "  'clustering_model__estimators__0__min_samples_leaf': 24,\n",
       "  'clustering_model__estimators__1__max_depth': nan,\n",
       "  'clustering_model__estimators__1__lambda': 0.4,\n",
       "  'clustering_model__estimators__1__n_estimators': 30,\n",
       "  'clustering_model__estimators__1__eta': 0.26,\n",
       "  'clustering_model__estimators__1__alpha': 0.8500000000000001,\n",
       "  'clustering_model__estimators__2__n_estimators': 103.0,\n",
       "  'clustering_model__estimators__2__max_depth': 3.0,\n",
       "  'clustering_model__estimators__2__min_samples_split': 16.0,\n",
       "  'clustering_model__estimators__2__min_samples_leaf': 13.0,\n",
       "  'clustering_model__estimators__3__max_depth': 30.0,\n",
       "  'clustering_model__estimators__3__lambda': 0.30000000000000004,\n",
       "  'clustering_model__estimators__3__n_estimators': 150.0,\n",
       "  'clustering_model__estimators__3__eta': 0.0,\n",
       "  'clustering_model__estimators__3__alpha': 0.36,\n",
       "  'clustering_model__estimators__4__n_estimators': 69.0,\n",
       "  'clustering_model__estimators__4__max_depth': 50.0,\n",
       "  'clustering_model__estimators__4__min_samples_split': 17.0,\n",
       "  'clustering_model__estimators__4__min_samples_leaf': 18.0,\n",
       "  'clustering_model__estimators__5__max_depth': 50.0,\n",
       "  'clustering_model__estimators__5__lambda': 0.30000000000000004,\n",
       "  'clustering_model__estimators__5__n_estimators': 50.0,\n",
       "  'clustering_model__estimators__5__eta': 0.3,\n",
       "  'clustering_model__estimators__5__alpha': 0.55,\n",
       "  'features_selector__percentile': nan,\n",
       "  'clustering_model__estimators__6__n_estimators': nan,\n",
       "  'clustering_model__estimators__6__max_depth': nan,\n",
       "  'clustering_model__estimators__6__min_samples_split': nan,\n",
       "  'clustering_model__estimators__6__min_samples_leaf': nan,\n",
       "  'clustering_model__estimators__7__max_depth': nan,\n",
       "  'clustering_model__estimators__7__lambda': nan,\n",
       "  'clustering_model__estimators__7__n_estimators': nan,\n",
       "  'clustering_model__estimators__7__eta': nan,\n",
       "  'clustering_model__estimators__7__alpha': nan,\n",
       "  'features_selector__k': nan},\n",
       " 'MBKmeans-n_clusters=7': {'preprocessing__quant__imputer__method': 'iterative_median',\n",
       "  'preprocessing__cat__imputer__method': 'simple_most_frequent',\n",
       "  'preprocessing__quant__scaler__apply': False,\n",
       "  'preprocessing__cat__encoder__method': 'ordinal',\n",
       "  'features_selector__apply': False,\n",
       "  'features_selector__method': nan,\n",
       "  'preprocessing__quant__scaler__method': nan,\n",
       "  'clustering_model__n_clusters': 7,\n",
       "  'clustering_model__estimators__0__n_estimators': 103,\n",
       "  'clustering_model__estimators__0__max_depth': 10.0,\n",
       "  'clustering_model__estimators__0__min_samples_split': 25,\n",
       "  'clustering_model__estimators__0__min_samples_leaf': 19,\n",
       "  'clustering_model__estimators__1__max_depth': 20.0,\n",
       "  'clustering_model__estimators__1__lambda': 0.4,\n",
       "  'clustering_model__estimators__1__n_estimators': 70,\n",
       "  'clustering_model__estimators__1__eta': 0.18,\n",
       "  'clustering_model__estimators__1__alpha': 0.78,\n",
       "  'clustering_model__estimators__2__n_estimators': 111.0,\n",
       "  'clustering_model__estimators__2__max_depth': 7.0,\n",
       "  'clustering_model__estimators__2__min_samples_split': 9.0,\n",
       "  'clustering_model__estimators__2__min_samples_leaf': 18.0,\n",
       "  'clustering_model__estimators__3__max_depth': 7.0,\n",
       "  'clustering_model__estimators__3__lambda': 0.5,\n",
       "  'clustering_model__estimators__3__n_estimators': 100.0,\n",
       "  'clustering_model__estimators__3__eta': 0.16,\n",
       "  'clustering_model__estimators__3__alpha': 0.79,\n",
       "  'clustering_model__estimators__4__n_estimators': 99.0,\n",
       "  'clustering_model__estimators__4__max_depth': 10.0,\n",
       "  'clustering_model__estimators__4__min_samples_split': 21.0,\n",
       "  'clustering_model__estimators__4__min_samples_leaf': 24.0,\n",
       "  'clustering_model__estimators__5__max_depth': 40.0,\n",
       "  'clustering_model__estimators__5__lambda': 0.5,\n",
       "  'clustering_model__estimators__5__n_estimators': 70.0,\n",
       "  'clustering_model__estimators__5__eta': 0.14,\n",
       "  'clustering_model__estimators__5__alpha': 0.96,\n",
       "  'features_selector__percentile': nan,\n",
       "  'clustering_model__estimators__6__n_estimators': 81.0,\n",
       "  'clustering_model__estimators__6__max_depth': 7.0,\n",
       "  'clustering_model__estimators__6__min_samples_split': 7.0,\n",
       "  'clustering_model__estimators__6__min_samples_leaf': 24.0,\n",
       "  'clustering_model__estimators__7__max_depth': nan,\n",
       "  'clustering_model__estimators__7__lambda': nan,\n",
       "  'clustering_model__estimators__7__n_estimators': nan,\n",
       "  'clustering_model__estimators__7__eta': nan,\n",
       "  'clustering_model__estimators__7__alpha': nan,\n",
       "  'features_selector__k': nan}}"
      ]
     },
     "execution_count": 33,
     "metadata": {},
     "output_type": "execute_result"
    }
   ],
   "source": [
    "best_params_large"
   ]
  },
  {
   "cell_type": "code",
   "execution_count": 7,
   "metadata": {},
   "outputs": [],
   "source": [
    "# Saving the results as pickle files\n",
    "\n",
    "with open(f'MiniBatchKmeans_results/best_params_large', 'wb') as file:\n",
    "    pickle.dump(best_params, file)\n",
    "\n",
    "with open(f'MiniBatchKmeans_results/inner_scores_large', 'wb') as file:\n",
    "    pickle.dump(inner_score, file)"
   ]
  },
  {
   "cell_type": "code",
   "execution_count": 34,
   "metadata": {},
   "outputs": [],
   "source": [
    "inner_score_values = - np.array(list(inner_score_large.values())) # getting the positive MAE (the original score was negative MAE)\n",
    "pipelines_names = np.array(list(inner_score_large.keys()))\n",
    "best_pipeline = pipelines_names[np.argmin(inner_score_values)]\n",
    "score_best_pipeline = np.min(inner_score_values)\n",
    "\n",
    "combined_models_score = list(zip(pipelines_names, inner_score_values))\n",
    "sorted_combined_models_score= sorted(combined_models_score, key=lambda x: x[1], reverse=False)  # Sort from lower to greater\n",
    "sorted_pipelines, sorted_scores = zip(*sorted_combined_models_score)\n",
    "sorted_pipelines = list(sorted_pipelines)\n",
    "sorted_scores = list(sorted_scores)"
   ]
  },
  {
   "cell_type": "code",
   "execution_count": 37,
   "metadata": {},
   "outputs": [
    {
     "data": {
      "image/png": "[encoded data removed]",
      "text/plain": [
       "<Figure size 500x400 with 1 Axes>"
      ]
     },
     "metadata": {},
     "output_type": "display_data"
    },
    {
     "name": "stdout",
     "output_type": "stream",
     "text": [
      "The best model among all the 6 alternatives plotted, according to the inner evaluation, is: MBKmeans-n_clusters=2\n",
      "MAE of the best model: 197053.161\n",
      "\n",
      "The best model hyper-parameters are: {'preprocessing__quant__imputer__method': 'iterative_median', 'preprocessing__cat__imputer__method': 'simple_most_frequent', 'preprocessing__quant__scaler__apply': False, 'preprocessing__cat__encoder__method': 'ordinal', 'features_selector__apply': False, 'features_selector__method': nan, 'preprocessing__quant__scaler__method': nan, 'clustering_model__n_clusters': 2, 'clustering_model__estimators__0__n_estimators': 98, 'clustering_model__estimators__0__max_depth': 40.0, 'clustering_model__estimators__0__min_samples_split': 21, 'clustering_model__estimators__0__min_samples_leaf': 23, 'clustering_model__estimators__1__max_depth': 7.0, 'clustering_model__estimators__1__lambda': 0.5, 'clustering_model__estimators__1__n_estimators': 70, 'clustering_model__estimators__1__eta': 0.22, 'clustering_model__estimators__1__alpha': 0.95, 'clustering_model__estimators__2__n_estimators': nan, 'clustering_model__estimators__2__max_depth': nan, 'clustering_model__estimators__2__min_samples_split': nan, 'clustering_model__estimators__2__min_samples_leaf': nan, 'clustering_model__estimators__3__max_depth': nan, 'clustering_model__estimators__3__lambda': nan, 'clustering_model__estimators__3__n_estimators': nan, 'clustering_model__estimators__3__eta': nan, 'clustering_model__estimators__3__alpha': nan, 'clustering_model__estimators__4__n_estimators': nan, 'clustering_model__estimators__4__max_depth': nan, 'clustering_model__estimators__4__min_samples_split': nan, 'clustering_model__estimators__4__min_samples_leaf': nan, 'clustering_model__estimators__5__max_depth': nan, 'clustering_model__estimators__5__lambda': nan, 'clustering_model__estimators__5__n_estimators': nan, 'clustering_model__estimators__5__eta': nan, 'clustering_model__estimators__5__alpha': nan, 'features_selector__percentile': nan, 'clustering_model__estimators__6__n_estimators': nan, 'clustering_model__estimators__6__max_depth': nan, 'clustering_model__estimators__6__min_samples_split': nan, 'clustering_model__estimators__6__min_samples_leaf': nan, 'clustering_model__estimators__7__max_depth': nan, 'clustering_model__estimators__7__lambda': nan, 'clustering_model__estimators__7__n_estimators': nan, 'clustering_model__estimators__7__eta': nan, 'clustering_model__estimators__7__alpha': nan, 'features_selector__k': nan}\n"
     ]
    }
   ],
   "source": [
    "fig, axes = plt.subplots(figsize=(5,4))\n",
    "\n",
    "ax = sns.barplot(y=sorted_pipelines, x=sorted_scores, color='blue', width=0.4, alpha=0.9)\n",
    "ax = sns.barplot(y=[best_pipeline], x=[score_best_pipeline], color='red', width=0.4, alpha=0.9)\n",
    "\n",
    "ax.set_ylabel('Models', size=12)\n",
    "ax.set_xlabel('MAE', size=12)\n",
    "ax.set_xticks(np.round(np.linspace(0, np.max(inner_score_values), 7),3)) \n",
    "ax.tick_params(axis='y', labelsize=11)    \n",
    "plt.title(f'Model Selection - Inner Evaluation: 4-Fold CV', size=13, weight='bold')\n",
    "for label in ax.get_yticklabels():\n",
    "    label.set_color('black') \n",
    "plt.show()\n",
    "\n",
    "print(f'The best model among all the {len(sorted_scores)} alternatives plotted, according to the inner evaluation, is: {best_pipeline}')\n",
    "print('MAE of the best model:', np.round(score_best_pipeline, 3))\n",
    "print('\\nThe best model hyper-parameters are:', best_params_large[best_pipeline])"
   ]
  }
 ],
 "metadata": {
  "kernelspec": {
   "display_name": "Python 3",
   "language": "python",
   "name": "python3"
  },
  "language_info": {
   "codemirror_mode": {
    "name": "ipython",
    "version": 3
   },
   "file_extension": ".py",
   "mimetype": "text/x-python",
   "name": "python",
   "nbconvert_exporter": "python",
   "pygments_lexer": "ipython3",
   "version": "3.12.0"
  }
 },
 "nbformat": 4,
 "nbformat_minor": 2
}

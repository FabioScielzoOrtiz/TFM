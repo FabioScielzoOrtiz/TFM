{
 "cells": [
  {
   "cell_type": "markdown",
   "metadata": {},
   "source": [
    "# **Inner Evaluation: RF and XGB**"
   ]
  },
  {
   "cell_type": "markdown",
   "metadata": {},
   "source": [
    "## **Requirements**"
   ]
  },
  {
   "cell_type": "code",
   "execution_count": 2,
   "metadata": {},
   "outputs": [],
   "source": [
    "import polars as pl\n",
    "import pandas as pd\n",
    "import numpy as np\n",
    "import sys\n",
    "from sklearn.compose import ColumnTransformer\n",
    "from sklearn.pipeline import Pipeline\n",
    "from sklearn.model_selection import train_test_split, KFold\n",
    "from  xgboost import XGBRegressor\n",
    "from sklearn.ensemble import RandomForestRegressor\n",
    "from sklearn.metrics import mean_absolute_error\n",
    "import pickle\n",
    "import seaborn as sns\n",
    "import matplotlib.pyplot as plt \n",
    "sns.set_style('whitegrid')"
   ]
  },
  {
   "cell_type": "code",
   "execution_count": 3,
   "metadata": {},
   "outputs": [],
   "source": [
    "sys.path.insert(0, r'C:\\Users\\fscielzo\\Documents\\Packages\\BigEDA_Package_Private')\n",
    "from BigEDA.preprocessing import prop_cols_nulls"
   ]
  },
  {
   "cell_type": "code",
   "execution_count": 5,
   "metadata": {},
   "outputs": [],
   "source": [
    "sys.path.insert(0, r'C:\\Users\\fscielzo\\Documents\\Packages\\PyMachineLearning_Package_Private')\n",
    "from PyMachineLearning.preprocessing import encoder, imputer, scaler, features_selector\n",
    "from PyMachineLearning.evaluation import SimpleEvaluation"
   ]
  },
  {
   "cell_type": "markdown",
   "metadata": {},
   "source": [
    "## **Data**"
   ]
  },
  {
   "cell_type": "markdown",
   "metadata": {},
   "source": [
    "The data set of this project  contains information about Madrid houses extracted from Real State web portals.\n",
    "\n",
    "The data has been obtained from `Kaggle`:  https://www.kaggle.com/datasets/makofe/housesclean"
   ]
  },
  {
   "cell_type": "markdown",
   "metadata": {},
   "source": [
    "The following table summarize conceptually the variables contained in the data set with which we will work along this project."
   ]
  },
  {
   "cell_type": "markdown",
   "metadata": {},
   "source": [
    "| Variable Name | Description | Type |\n",
    "|----------|----------|----------|\n",
    "| `sq_mt_built`    |  size of the house in square meter built   |   Quantitative  |\n",
    "| `n_rooms`    | Number of rooms of the house     | Quantitative  |\n",
    "| `n_bathrooms`   |  Number of bathrooms of the house     |  Quantitative  |\n",
    "| `n_floors`   | Number of floors of the house   |  Quantitative  |\n",
    "| `sq_mt_allotment`   |   for detached houses, full size including house, pool, garden, etc   |  Quantitative  |\n",
    "| `floor`   |  Indicates the house height   |  Multiclass  |\n",
    "| `is_renewal_needed`   |  Indicates wether the house needs renewal or not    |  Binary  |\n",
    "| `has_lift`   |  Indicates wether the house has lift or not     |  Binary  |\n",
    "| `is_exterior`   |  Indicates wether the house is exterior or not    |  Binary  |\n",
    "| `energy_certificate`   |  higher values mean more efficient energy system   |  Multiclass  |\n",
    "| `has_parking`   |  Indicates wether the house has parking or not   |  Binary  |\n",
    "| `neighborhood`   |  Madrid's neighborhoods  |  Multiclass  |\n",
    "| `district`   |  Madrid's districts  |  Multiclass  |\n",
    "| `house_type`   |  Indicates the house type: flat (0), chalet (1), study (2), duplex (3), top floor (4)  |  Multiclass  |\n",
    "| `buy_price`   |  The buy price of the house    |  Quantitative  |"
   ]
  },
  {
   "cell_type": "code",
   "execution_count": 4,
   "metadata": {},
   "outputs": [],
   "source": [
    "madrid_houses_df = pl.read_csv('Data/madrid_houses_NaNS.csv')"
   ]
  },
  {
   "cell_type": "code",
   "execution_count": 5,
   "metadata": {},
   "outputs": [],
   "source": [
    "variables_to_remove = ['', 'id', 'district', 'neighborhood', 'sq_mt_allotment']\n",
    "variables_to_keep = [x for x in madrid_houses_df.columns if x not in variables_to_remove]"
   ]
  },
  {
   "cell_type": "code",
   "execution_count": 6,
   "metadata": {},
   "outputs": [
    {
     "data": {
      "text/html": [
       "<div><style>\n",
       ".dataframe > thead > tr,\n",
       ".dataframe > tbody > tr {\n",
       "  text-align: right;\n",
       "  white-space: pre-wrap;\n",
       "}\n",
       "</style>\n",
       "<small>shape: (5, 12)</small><table border=\"1\" class=\"dataframe\"><thead><tr><th>sq_mt_built</th><th>n_rooms</th><th>n_bathrooms</th><th>n_floors</th><th>floor</th><th>buy_price</th><th>is_renewal_needed</th><th>has_lift</th><th>is_exterior</th><th>energy_certificate</th><th>has_parking</th><th>house_type</th></tr><tr><td>f64</td><td>i64</td><td>i64</td><td>i64</td><td>i64</td><td>i64</td><td>bool</td><td>bool</td><td>bool</td><td>i64</td><td>bool</td><td>i64</td></tr></thead><tbody><tr><td>64.0</td><td>2</td><td>1</td><td>1</td><td>3</td><td>85000</td><td>false</td><td>false</td><td>true</td><td>4</td><td>false</td><td>1</td></tr><tr><td>70.0</td><td>3</td><td>1</td><td>1</td><td>4</td><td>129900</td><td>true</td><td>true</td><td>true</td><td>0</td><td>false</td><td>1</td></tr><tr><td>94.0</td><td>2</td><td>2</td><td>1</td><td>1</td><td>144247</td><td>false</td><td>true</td><td>true</td><td>0</td><td>false</td><td>1</td></tr><tr><td>64.0</td><td>2</td><td>1</td><td>1</td><td>-1</td><td>109900</td><td>false</td><td>true</td><td>true</td><td>0</td><td>false</td><td>1</td></tr><tr><td>108.0</td><td>2</td><td>2</td><td>1</td><td>4</td><td>260000</td><td>false</td><td>true</td><td>true</td><td>0</td><td>true</td><td>1</td></tr></tbody></table></div>"
      ],
      "text/plain": [
       "shape: (5, 12)\n",
       "┌────────────┬─────────┬────────────┬──────────┬───┬───────────┬───────────┬───────────┬───────────┐\n",
       "│ sq_mt_buil ┆ n_rooms ┆ n_bathroom ┆ n_floors ┆ … ┆ is_exteri ┆ energy_ce ┆ has_parki ┆ house_typ │\n",
       "│ t          ┆ ---     ┆ s          ┆ ---      ┆   ┆ or        ┆ rtificate ┆ ng        ┆ e         │\n",
       "│ ---        ┆ i64     ┆ ---        ┆ i64      ┆   ┆ ---       ┆ ---       ┆ ---       ┆ ---       │\n",
       "│ f64        ┆         ┆ i64        ┆          ┆   ┆ bool      ┆ i64       ┆ bool      ┆ i64       │\n",
       "╞════════════╪═════════╪════════════╪══════════╪═══╪═══════════╪═══════════╪═══════════╪═══════════╡\n",
       "│ 64.0       ┆ 2       ┆ 1          ┆ 1        ┆ … ┆ true      ┆ 4         ┆ false     ┆ 1         │\n",
       "│ 70.0       ┆ 3       ┆ 1          ┆ 1        ┆ … ┆ true      ┆ 0         ┆ false     ┆ 1         │\n",
       "│ 94.0       ┆ 2       ┆ 2          ┆ 1        ┆ … ┆ true      ┆ 0         ┆ false     ┆ 1         │\n",
       "│ 64.0       ┆ 2       ┆ 1          ┆ 1        ┆ … ┆ true      ┆ 0         ┆ false     ┆ 1         │\n",
       "│ 108.0      ┆ 2       ┆ 2          ┆ 1        ┆ … ┆ true      ┆ 0         ┆ true      ┆ 1         │\n",
       "└────────────┴─────────┴────────────┴──────────┴───┴───────────┴───────────┴───────────┴───────────┘"
      ]
     },
     "execution_count": 6,
     "metadata": {},
     "output_type": "execute_result"
    }
   ],
   "source": [
    "madrid_houses_df = madrid_houses_df[variables_to_keep]\n",
    "madrid_houses_df.head()"
   ]
  },
  {
   "cell_type": "code",
   "execution_count": 7,
   "metadata": {},
   "outputs": [
    {
     "data": {
      "text/html": [
       "<div><style>\n",
       ".dataframe > thead > tr,\n",
       ".dataframe > tbody > tr {\n",
       "  text-align: right;\n",
       "  white-space: pre-wrap;\n",
       "}\n",
       "</style>\n",
       "<small>shape: (9, 13)</small><table border=\"1\" class=\"dataframe\"><thead><tr><th>describe</th><th>sq_mt_built</th><th>n_rooms</th><th>n_bathrooms</th><th>n_floors</th><th>floor</th><th>buy_price</th><th>is_renewal_needed</th><th>has_lift</th><th>is_exterior</th><th>energy_certificate</th><th>has_parking</th><th>house_type</th></tr><tr><td>str</td><td>f64</td><td>f64</td><td>f64</td><td>f64</td><td>f64</td><td>f64</td><td>str</td><td>str</td><td>str</td><td>f64</td><td>str</td><td>f64</td></tr></thead><tbody><tr><td>&quot;count&quot;</td><td>21739.0</td><td>20173.0</td><td>21739.0</td><td>20626.0</td><td>21739.0</td><td>21739.0</td><td>&quot;21739&quot;</td><td>&quot;21357&quot;</td><td>&quot;21739&quot;</td><td>21739.0</td><td>&quot;19957&quot;</td><td>21739.0</td></tr><tr><td>&quot;null_count&quot;</td><td>0.0</td><td>1566.0</td><td>0.0</td><td>1113.0</td><td>0.0</td><td>0.0</td><td>&quot;0&quot;</td><td>&quot;382&quot;</td><td>&quot;0&quot;</td><td>0.0</td><td>&quot;1782&quot;</td><td>0.0</td></tr><tr><td>&quot;mean&quot;</td><td>153.81495</td><td>3.010063</td><td>2.091265</td><td>1.233443</td><td>1.833249</td><td>653572.862045</td><td>null</td><td>null</td><td>null</td><td>1.139289</td><td>null</td><td>1.407746</td></tr><tr><td>&quot;std&quot;</td><td>164.718815</td><td>1.514733</td><td>1.407185</td><td>0.709109</td><td>3.039869</td><td>781966.136859</td><td>null</td><td>null</td><td>null</td><td>1.902396</td><td>null</td><td>1.016465</td></tr><tr><td>&quot;min&quot;</td><td>13.0</td><td>0.0</td><td>1.0</td><td>1.0</td><td>-5.0</td><td>36000.0</td><td>&quot;False&quot;</td><td>&quot;False&quot;</td><td>&quot;False&quot;</td><td>0.0</td><td>&quot;False&quot;</td><td>1.0</td></tr><tr><td>&quot;25%&quot;</td><td>70.0</td><td>2.0</td><td>1.0</td><td>1.0</td><td>1.0</td><td>198000.0</td><td>null</td><td>null</td><td>null</td><td>0.0</td><td>null</td><td>1.0</td></tr><tr><td>&quot;50%&quot;</td><td>100.0</td><td>3.0</td><td>2.0</td><td>1.0</td><td>2.0</td><td>375000.0</td><td>null</td><td>null</td><td>null</td><td>0.0</td><td>null</td><td>1.0</td></tr><tr><td>&quot;75%&quot;</td><td>165.0</td><td>4.0</td><td>2.0</td><td>1.0</td><td>4.0</td><td>763000.0</td><td>null</td><td>null</td><td>null</td><td>3.0</td><td>null</td><td>1.0</td></tr><tr><td>&quot;max&quot;</td><td>2400.0</td><td>24.0</td><td>16.0</td><td>7.0</td><td>10.0</td><td>8.8e6</td><td>&quot;True&quot;</td><td>&quot;True&quot;</td><td>&quot;True&quot;</td><td>7.0</td><td>&quot;True&quot;</td><td>5.0</td></tr></tbody></table></div>"
      ],
      "text/plain": [
       "shape: (9, 13)\n",
       "┌───────────┬───────────┬──────────┬───────────┬───┬───────────┬───────────┬───────────┬───────────┐\n",
       "│ describe  ┆ sq_mt_bui ┆ n_rooms  ┆ n_bathroo ┆ … ┆ is_exteri ┆ energy_ce ┆ has_parki ┆ house_typ │\n",
       "│ ---       ┆ lt        ┆ ---      ┆ ms        ┆   ┆ or        ┆ rtificate ┆ ng        ┆ e         │\n",
       "│ str       ┆ ---       ┆ f64      ┆ ---       ┆   ┆ ---       ┆ ---       ┆ ---       ┆ ---       │\n",
       "│           ┆ f64       ┆          ┆ f64       ┆   ┆ str       ┆ f64       ┆ str       ┆ f64       │\n",
       "╞═══════════╪═══════════╪══════════╪═══════════╪═══╪═══════════╪═══════════╪═══════════╪═══════════╡\n",
       "│ count     ┆ 21739.0   ┆ 20173.0  ┆ 21739.0   ┆ … ┆ 21739     ┆ 21739.0   ┆ 19957     ┆ 21739.0   │\n",
       "│ null_coun ┆ 0.0       ┆ 1566.0   ┆ 0.0       ┆ … ┆ 0         ┆ 0.0       ┆ 1782      ┆ 0.0       │\n",
       "│ t         ┆           ┆          ┆           ┆   ┆           ┆           ┆           ┆           │\n",
       "│ mean      ┆ 153.81495 ┆ 3.010063 ┆ 2.091265  ┆ … ┆ null      ┆ 1.139289  ┆ null      ┆ 1.407746  │\n",
       "│ std       ┆ 164.71881 ┆ 1.514733 ┆ 1.407185  ┆ … ┆ null      ┆ 1.902396  ┆ null      ┆ 1.016465  │\n",
       "│           ┆ 5         ┆          ┆           ┆   ┆           ┆           ┆           ┆           │\n",
       "│ min       ┆ 13.0      ┆ 0.0      ┆ 1.0       ┆ … ┆ False     ┆ 0.0       ┆ False     ┆ 1.0       │\n",
       "│ 25%       ┆ 70.0      ┆ 2.0      ┆ 1.0       ┆ … ┆ null      ┆ 0.0       ┆ null      ┆ 1.0       │\n",
       "│ 50%       ┆ 100.0     ┆ 3.0      ┆ 2.0       ┆ … ┆ null      ┆ 0.0       ┆ null      ┆ 1.0       │\n",
       "│ 75%       ┆ 165.0     ┆ 4.0      ┆ 2.0       ┆ … ┆ null      ┆ 3.0       ┆ null      ┆ 1.0       │\n",
       "│ max       ┆ 2400.0    ┆ 24.0     ┆ 16.0      ┆ … ┆ True      ┆ 7.0       ┆ True      ┆ 5.0       │\n",
       "└───────────┴───────────┴──────────┴───────────┴───┴───────────┴───────────┴───────────┴───────────┘"
      ]
     },
     "execution_count": 7,
     "metadata": {},
     "output_type": "execute_result"
    }
   ],
   "source": [
    "madrid_houses_df.describe()"
   ]
  },
  {
   "cell_type": "code",
   "execution_count": 8,
   "metadata": {},
   "outputs": [
    {
     "data": {
      "text/html": [
       "<div><style>\n",
       ".dataframe > thead > tr,\n",
       ".dataframe > tbody > tr {\n",
       "  text-align: right;\n",
       "  white-space: pre-wrap;\n",
       "}\n",
       "</style>\n",
       "<small>shape: (1, 12)</small><table border=\"1\" class=\"dataframe\"><thead><tr><th>sq_mt_built</th><th>n_rooms</th><th>n_bathrooms</th><th>n_floors</th><th>floor</th><th>buy_price</th><th>is_renewal_needed</th><th>has_lift</th><th>is_exterior</th><th>energy_certificate</th><th>has_parking</th><th>house_type</th></tr><tr><td>f64</td><td>f64</td><td>f64</td><td>f64</td><td>f64</td><td>f64</td><td>f64</td><td>f64</td><td>f64</td><td>f64</td><td>f64</td><td>f64</td></tr></thead><tbody><tr><td>0.0</td><td>0.072036</td><td>0.0</td><td>0.051198</td><td>0.0</td><td>0.0</td><td>0.0</td><td>0.017572</td><td>0.0</td><td>0.0</td><td>0.081972</td><td>0.0</td></tr></tbody></table></div>"
      ],
      "text/plain": [
       "shape: (1, 12)\n",
       "┌────────────┬──────────┬───────────┬──────────┬───┬───────────┬───────────┬───────────┬───────────┐\n",
       "│ sq_mt_buil ┆ n_rooms  ┆ n_bathroo ┆ n_floors ┆ … ┆ is_exteri ┆ energy_ce ┆ has_parki ┆ house_typ │\n",
       "│ t          ┆ ---      ┆ ms        ┆ ---      ┆   ┆ or        ┆ rtificate ┆ ng        ┆ e         │\n",
       "│ ---        ┆ f64      ┆ ---       ┆ f64      ┆   ┆ ---       ┆ ---       ┆ ---       ┆ ---       │\n",
       "│ f64        ┆          ┆ f64       ┆          ┆   ┆ f64       ┆ f64       ┆ f64       ┆ f64       │\n",
       "╞════════════╪══════════╪═══════════╪══════════╪═══╪═══════════╪═══════════╪═══════════╪═══════════╡\n",
       "│ 0.0        ┆ 0.072036 ┆ 0.0       ┆ 0.051198 ┆ … ┆ 0.0       ┆ 0.0       ┆ 0.081972  ┆ 0.0       │\n",
       "└────────────┴──────────┴───────────┴──────────┴───┴───────────┴───────────┴───────────┴───────────┘"
      ]
     },
     "execution_count": 8,
     "metadata": {},
     "output_type": "execute_result"
    }
   ],
   "source": [
    "prop_cols_nulls(madrid_houses_df)"
   ]
  },
  {
   "cell_type": "markdown",
   "metadata": {},
   "source": [
    "## **Defining the response and predictors**"
   ]
  },
  {
   "cell_type": "code",
   "execution_count": 9,
   "metadata": {},
   "outputs": [],
   "source": [
    "quant_columns = ['sq_mt_built', 'n_rooms', 'n_bathrooms', 'n_floors', 'buy_price']\n",
    "cat_columns = [x for x in madrid_houses_df.columns if x not in quant_columns]\n",
    "\n",
    "response = 'buy_price'\n",
    "quant_predictors = [x for x in quant_columns if x != response]\n",
    "cat_predictors = [x for x in cat_columns if x != response]\n",
    "predictors = quant_predictors + cat_predictors"
   ]
  },
  {
   "cell_type": "code",
   "execution_count": 10,
   "metadata": {},
   "outputs": [],
   "source": [
    "Y = madrid_houses_df[response].to_pandas()\n",
    "X = madrid_houses_df[predictors].to_pandas()\n",
    "# The Null values of the Polars columns that are define as Object type by Pandas are treated as None and not as NaN (what we would like)\n",
    "# The avoid this behavior the next step is necessary\n",
    "X = X.fillna(value=np.nan)"
   ]
  },
  {
   "cell_type": "markdown",
   "metadata": {},
   "source": [
    "## **Defining outer evaluation: train-test split**\n"
   ]
  },
  {
   "cell_type": "code",
   "execution_count": 11,
   "metadata": {},
   "outputs": [],
   "source": [
    "# Defining the outer-evaluation: train-test split.\n",
    "X_train, X_test, Y_train, Y_test = train_test_split(X, Y, train_size=0.90, random_state=123)\n",
    "# We set a large train size since we are mainly interested in compare models not in estimating the feature performance (indeed, we could omit the test part and doing the inner eval. with the whole data)"
   ]
  },
  {
   "cell_type": "markdown",
   "metadata": {},
   "source": [
    "## **Defining inner evaluation: K-Fold Cross Validation**"
   ]
  },
  {
   "cell_type": "code",
   "execution_count": 12,
   "metadata": {},
   "outputs": [],
   "source": [
    "# Defining the inner-evaluation: K-fold cross validation\n",
    "inner = KFold(n_splits=4, shuffle=True, random_state=123)"
   ]
  },
  {
   "cell_type": "markdown",
   "metadata": {},
   "source": [
    "## **Pipelines definition**"
   ]
  },
  {
   "cell_type": "code",
   "execution_count": 13,
   "metadata": {},
   "outputs": [],
   "source": [
    "quant_pipeline = Pipeline([\n",
    "    ('imputer', imputer()),\n",
    "    ('scaler', scaler())\n",
    "    ])\n",
    "\n",
    "cat_pipeline = Pipeline([\n",
    "    ('encoder', encoder()), # encoding the categorical variables is needed by some imputers\n",
    "    ('imputer', imputer())\n",
    "    ])\n",
    "\n",
    "quant_cat_transformer = ColumnTransformer(transformers=[('quant', quant_pipeline, quant_predictors),\n",
    "                                                       ('cat', cat_pipeline, cat_predictors)])"
   ]
  },
  {
   "cell_type": "code",
   "execution_count": 14,
   "metadata": {},
   "outputs": [],
   "source": [
    "models = {'XGB': XGBRegressor(random_state=123),\n",
    "          'RF': RandomForestRegressor(random_state=123)}\n",
    "\n",
    "pipelines = {key: Pipeline([('preprocessing', quant_cat_transformer),\n",
    "                            ('features_selector', features_selector()),\n",
    "                            (key, models[key]) \n",
    "                           ])         \n",
    "              for key in models.keys()\n",
    "            }"
   ]
  },
  {
   "cell_type": "markdown",
   "metadata": {},
   "source": [
    "## **Grids for HPO**"
   ]
  },
  {
   "cell_type": "code",
   "execution_count": 15,
   "metadata": {},
   "outputs": [],
   "source": [
    "def preprocessing_param_grid(trial):\n",
    "\n",
    "    # Fix Grid\n",
    "    param_grid = {\n",
    "        'preprocessing__quant__scaler__apply': trial.suggest_categorical('preprocessing__quant__scaler__apply', [True, False]),\n",
    "        'preprocessing__cat__encoder__method': trial.suggest_categorical('preprocessing__cat__encoder__method', ['ordinal', 'one-hot']),\n",
    "        'preprocessing__cat__imputer__apply': trial.suggest_categorical('preprocessing__cat__imputer__apply', [True]),\n",
    "        'preprocessing__quant__imputer__apply': trial.suggest_categorical('preprocessing__quant__imputer__apply', [True]),\n",
    "        'features_selector__apply': trial.suggest_categorical('features_selector__apply', [False, True])\n",
    "        }\n",
    "\n",
    "    # Conditioned Grid\n",
    "\n",
    "    if param_grid['features_selector__apply'] == True:\n",
    "\n",
    "        param_grid.update({'features_selector__method': trial.suggest_categorical('features_selector__method', \n",
    "                                                                                  ['Fpr_f_reg', 'Fdr_f_reg', \n",
    "                                                                                   #'backward_trees_reg', # Takes too much time with one-hot (too many predictors)\n",
    "                                                                                   #'forward_trees_reg' # Takes too much time with one-hot (too many predictors)\n",
    "                                                                                   ])})\n",
    "\n",
    "    if param_grid['preprocessing__quant__scaler__apply'] == True:\n",
    "    \n",
    "        param_grid.update({'preprocessing__quant__scaler__method': trial.suggest_categorical('preprocessing__quant__scaler__method', ['standard', 'min-max'])})\n",
    "\n",
    "    if param_grid['preprocessing__quant__imputer__apply'] == True:\n",
    "\n",
    "        param_grid.update({'preprocessing__quant__imputer__method': trial.suggest_categorical('preprocessing__quant__imputer__method', ['simple_median', 'iterative_median', 'knn'])})\n",
    "        param_grid.update({'preprocessing__cat__imputer__method': trial.suggest_categorical('preprocessing__cat__imputer__method', ['simple_most_frequent', 'knn'])})\n",
    "        \n",
    "        if  param_grid['preprocessing__quant__imputer__method'] == 'knn':\n",
    "            param_grid.update({'preprocessing__quant__imputer__n_neighbors': trial.suggest_int('preprocessing__quant__imputer__n_neighbors', 1, 4)})\n",
    "\n",
    "        if  param_grid['preprocessing__cat__imputer__method'] == 'knn':\n",
    "            param_grid.update({'preprocessing__cat__imputer__n_neighbors': trial.suggest_int('preprocessing__cat__imputer__n_neighbors', 1, 4)})\n",
    "\n",
    "        if 'iterative' in param_grid['preprocessing__quant__imputer__method']:\n",
    "            param_grid.update({'preprocessing__quant__imputer__n_nearest_features': trial.suggest_int('preprocessing__quant__imputer__n_nearest_features', 3, 7)})\n",
    "\n",
    "        if 'iterative' in param_grid['preprocessing__cat__imputer__method']:\n",
    "            param_grid.update({'preprocessing__cat__imputer__n_nearest_features': trial.suggest_int('preprocessing__cat__imputer__n_nearest_features', 3, 7)})\n",
    "\n",
    "    return param_grid"
   ]
  },
  {
   "cell_type": "code",
   "execution_count": 16,
   "metadata": {},
   "outputs": [],
   "source": [
    "def param_grid_XGB(trial):\n",
    "\n",
    "    param_grid = preprocessing_param_grid(trial)\n",
    "    \n",
    "    param_grid.update({\n",
    "        'XGB__max_depth': trial.suggest_categorical('XGB__max_depth', [None, 3, 5, 7, 10, 20, 30, 40, 50]),\n",
    "        'XGB__lambda': trial.suggest_float('XGB__lambda', 0, 0.5, step=0.1, log=False),\n",
    "        'XGB__n_estimators': trial.suggest_categorical('XGB__n_estimators', [30, 50, 70, 100, 150, 180]),\n",
    "        'XGB__eta': trial.suggest_float('XGB__eta', 0, 0.3, step=0.02, log=False),\n",
    "        'XGB__alpha': trial.suggest_float('XGB__alpha', 0.2, 1, step=0.01, log=False)\n",
    "        })\n",
    "\n",
    "    return param_grid"
   ]
  },
  {
   "cell_type": "code",
   "execution_count": 17,
   "metadata": {},
   "outputs": [],
   "source": [
    "def param_grid_RF(trial):\n",
    "\n",
    "    param_grid = preprocessing_param_grid(trial)\n",
    "\n",
    "    param_grid.update({\n",
    "        'RF__n_estimators': trial.suggest_int('RF__n_estimators', 50, 120),\n",
    "        'RF__max_depth': trial.suggest_categorical('RF__max_depth', [None, 3, 5, 7, 10, 20, 30, 40, 50]),\n",
    "        'RF__min_samples_split': trial.suggest_int('RF__min_samples_split', 2, 25),\n",
    "        'RF__min_samples_leaf': trial.suggest_int('RF__min_samples_leaf', 2, 25)\n",
    "    })\n",
    "\n",
    "    return param_grid"
   ]
  },
  {
   "cell_type": "markdown",
   "metadata": {},
   "source": [
    "## **HPO**"
   ]
  },
  {
   "cell_type": "code",
   "execution_count": 18,
   "metadata": {},
   "outputs": [],
   "source": [
    "inner_score, best_params, inner_results = {}, {}, {}"
   ]
  },
  {
   "cell_type": "code",
   "execution_count": 23,
   "metadata": {},
   "outputs": [
    {
     "name": "stderr",
     "output_type": "stream",
     "text": [
      "[I 2024-04-15 17:26:44,957] A new study created in memory with name: no-name-1a1e0ac2-1944-4460-ac4e-a8f94b15e54c\n",
      "[I 2024-04-15 17:26:50,760] Trial 0 finished with value: -188890.70900535586 and parameters: {'preprocessing__quant__scaler__apply': False, 'preprocessing__cat__encoder__method': 'one-hot', 'preprocessing__cat__imputer__apply': True, 'preprocessing__quant__imputer__apply': True, 'features_selector__apply': False, 'preprocessing__quant__imputer__method': 'simple_median', 'preprocessing__cat__imputer__method': 'simple_most_frequent', 'RF__n_estimators': 102, 'RF__max_depth': 7, 'RF__min_samples_split': 19, 'RF__min_samples_leaf': 10}. Best is trial 0 with value: -188890.70900535586.\n",
      "[I 2024-04-15 17:27:03,749] Trial 1 finished with value: -184159.34783479813 and parameters: {'preprocessing__quant__scaler__apply': False, 'preprocessing__cat__encoder__method': 'ordinal', 'preprocessing__cat__imputer__apply': True, 'preprocessing__quant__imputer__apply': True, 'features_selector__apply': True, 'features_selector__method': 'Fdr_f_reg', 'preprocessing__quant__imputer__method': 'iterative_median', 'preprocessing__cat__imputer__method': 'knn', 'preprocessing__cat__imputer__n_neighbors': 2, 'preprocessing__quant__imputer__n_nearest_features': 3, 'RF__n_estimators': 105, 'RF__max_depth': 50, 'RF__min_samples_split': 22, 'RF__min_samples_leaf': 12}. Best is trial 1 with value: -184159.34783479813.\n",
      "[I 2024-04-15 17:27:11,125] Trial 2 finished with value: -188297.07302902208 and parameters: {'preprocessing__quant__scaler__apply': True, 'preprocessing__cat__encoder__method': 'one-hot', 'preprocessing__cat__imputer__apply': True, 'preprocessing__quant__imputer__apply': True, 'features_selector__apply': False, 'preprocessing__quant__scaler__method': 'standard', 'preprocessing__quant__imputer__method': 'simple_median', 'preprocessing__cat__imputer__method': 'simple_most_frequent', 'RF__n_estimators': 97, 'RF__max_depth': 10, 'RF__min_samples_split': 12, 'RF__min_samples_leaf': 25}. Best is trial 1 with value: -184159.34783479813.\n",
      "[I 2024-04-15 17:27:19,780] Trial 3 finished with value: -222191.1989653735 and parameters: {'preprocessing__quant__scaler__apply': True, 'preprocessing__cat__encoder__method': 'one-hot', 'preprocessing__cat__imputer__apply': True, 'preprocessing__quant__imputer__apply': True, 'features_selector__apply': True, 'features_selector__method': 'Fdr_f_reg', 'preprocessing__quant__scaler__method': 'min-max', 'preprocessing__quant__imputer__method': 'knn', 'preprocessing__cat__imputer__method': 'knn', 'preprocessing__quant__imputer__n_neighbors': 4, 'preprocessing__cat__imputer__n_neighbors': 1, 'RF__n_estimators': 117, 'RF__max_depth': 3, 'RF__min_samples_split': 11, 'RF__min_samples_leaf': 24}. Best is trial 1 with value: -184159.34783479813.\n",
      "[I 2024-04-15 17:27:22,075] Trial 4 finished with value: -221963.37870763545 and parameters: {'preprocessing__quant__scaler__apply': False, 'preprocessing__cat__encoder__method': 'one-hot', 'preprocessing__cat__imputer__apply': True, 'preprocessing__quant__imputer__apply': True, 'features_selector__apply': False, 'preprocessing__quant__imputer__method': 'simple_median', 'preprocessing__cat__imputer__method': 'knn', 'preprocessing__cat__imputer__n_neighbors': 1, 'RF__n_estimators': 83, 'RF__max_depth': 3, 'RF__min_samples_split': 3, 'RF__min_samples_leaf': 2}. Best is trial 1 with value: -184159.34783479813.\n",
      "[I 2024-04-15 17:27:33,125] Trial 5 finished with value: -181920.4482763306 and parameters: {'preprocessing__quant__scaler__apply': True, 'preprocessing__cat__encoder__method': 'one-hot', 'preprocessing__cat__imputer__apply': True, 'preprocessing__quant__imputer__apply': True, 'features_selector__apply': False, 'preprocessing__quant__scaler__method': 'min-max', 'preprocessing__quant__imputer__method': 'simple_median', 'preprocessing__cat__imputer__method': 'knn', 'preprocessing__cat__imputer__n_neighbors': 2, 'RF__n_estimators': 93, 'RF__max_depth': 30, 'RF__min_samples_split': 2, 'RF__min_samples_leaf': 9}. Best is trial 5 with value: -181920.4482763306.\n",
      "[I 2024-04-15 17:27:36,991] Trial 6 finished with value: -198357.98202608433 and parameters: {'preprocessing__quant__scaler__apply': False, 'preprocessing__cat__encoder__method': 'one-hot', 'preprocessing__cat__imputer__apply': True, 'preprocessing__quant__imputer__apply': True, 'features_selector__apply': False, 'preprocessing__quant__imputer__method': 'simple_median', 'preprocessing__cat__imputer__method': 'simple_most_frequent', 'RF__n_estimators': 88, 'RF__max_depth': 5, 'RF__min_samples_split': 4, 'RF__min_samples_leaf': 23}. Best is trial 5 with value: -181920.4482763306.\n",
      "[I 2024-04-15 17:27:45,674] Trial 7 finished with value: -187381.2771667575 and parameters: {'preprocessing__quant__scaler__apply': True, 'preprocessing__cat__encoder__method': 'ordinal', 'preprocessing__cat__imputer__apply': True, 'preprocessing__quant__imputer__apply': True, 'features_selector__apply': True, 'features_selector__method': 'Fdr_f_reg', 'preprocessing__quant__scaler__method': 'min-max', 'preprocessing__quant__imputer__method': 'iterative_median', 'preprocessing__cat__imputer__method': 'knn', 'preprocessing__cat__imputer__n_neighbors': 4, 'preprocessing__quant__imputer__n_nearest_features': 3, 'RF__n_estimators': 55, 'RF__max_depth': 30, 'RF__min_samples_split': 3, 'RF__min_samples_leaf': 22}. Best is trial 5 with value: -181920.4482763306.\n",
      "[I 2024-04-15 17:27:48,744] Trial 8 finished with value: -194055.89182469048 and parameters: {'preprocessing__quant__scaler__apply': True, 'preprocessing__cat__encoder__method': 'one-hot', 'preprocessing__cat__imputer__apply': True, 'preprocessing__quant__imputer__apply': True, 'features_selector__apply': True, 'features_selector__method': 'Fpr_f_reg', 'preprocessing__quant__scaler__method': 'min-max', 'preprocessing__quant__imputer__method': 'simple_median', 'preprocessing__cat__imputer__method': 'simple_most_frequent', 'RF__n_estimators': 63, 'RF__max_depth': 7, 'RF__min_samples_split': 4, 'RF__min_samples_leaf': 24}. Best is trial 5 with value: -181920.4482763306.\n",
      "[I 2024-04-15 17:27:56,308] Trial 9 finished with value: -200454.60986401114 and parameters: {'preprocessing__quant__scaler__apply': False, 'preprocessing__cat__encoder__method': 'ordinal', 'preprocessing__cat__imputer__apply': True, 'preprocessing__quant__imputer__apply': True, 'features_selector__apply': True, 'features_selector__method': 'Fdr_f_reg', 'preprocessing__quant__imputer__method': 'knn', 'preprocessing__cat__imputer__method': 'simple_most_frequent', 'preprocessing__quant__imputer__n_neighbors': 1, 'RF__n_estimators': 90, 'RF__max_depth': 5, 'RF__min_samples_split': 21, 'RF__min_samples_leaf': 13}. Best is trial 5 with value: -181920.4482763306.\n",
      "[I 2024-04-15 17:28:08,933] Trial 10 finished with value: -177318.0252383454 and parameters: {'preprocessing__quant__scaler__apply': True, 'preprocessing__cat__encoder__method': 'ordinal', 'preprocessing__cat__imputer__apply': True, 'preprocessing__quant__imputer__apply': True, 'features_selector__apply': False, 'preprocessing__quant__scaler__method': 'standard', 'preprocessing__quant__imputer__method': 'iterative_median', 'preprocessing__cat__imputer__method': 'knn', 'preprocessing__cat__imputer__n_neighbors': 3, 'preprocessing__quant__imputer__n_nearest_features': 7, 'RF__n_estimators': 75, 'RF__max_depth': 30, 'RF__min_samples_split': 8, 'RF__min_samples_leaf': 6}. Best is trial 10 with value: -177318.0252383454.\n",
      "[I 2024-04-15 17:28:21,423] Trial 11 finished with value: -177336.30399445447 and parameters: {'preprocessing__quant__scaler__apply': True, 'preprocessing__cat__encoder__method': 'ordinal', 'preprocessing__cat__imputer__apply': True, 'preprocessing__quant__imputer__apply': True, 'features_selector__apply': False, 'preprocessing__quant__scaler__method': 'standard', 'preprocessing__quant__imputer__method': 'iterative_median', 'preprocessing__cat__imputer__method': 'knn', 'preprocessing__cat__imputer__n_neighbors': 3, 'preprocessing__quant__imputer__n_nearest_features': 7, 'RF__n_estimators': 71, 'RF__max_depth': 30, 'RF__min_samples_split': 8, 'RF__min_samples_leaf': 6}. Best is trial 10 with value: -177318.0252383454.\n",
      "[I 2024-04-15 17:28:37,093] Trial 12 finished with value: -175601.02424102896 and parameters: {'preprocessing__quant__scaler__apply': True, 'preprocessing__cat__encoder__method': 'ordinal', 'preprocessing__cat__imputer__apply': True, 'preprocessing__quant__imputer__apply': True, 'features_selector__apply': False, 'preprocessing__quant__scaler__method': 'standard', 'preprocessing__quant__imputer__method': 'iterative_median', 'preprocessing__cat__imputer__method': 'knn', 'preprocessing__cat__imputer__n_neighbors': 4, 'preprocessing__quant__imputer__n_nearest_features': 7, 'RF__n_estimators': 73, 'RF__max_depth': 30, 'RF__min_samples_split': 9, 'RF__min_samples_leaf': 4}. Best is trial 12 with value: -175601.02424102896.\n",
      "[I 2024-04-15 17:28:51,912] Trial 13 finished with value: -176467.37839542807 and parameters: {'preprocessing__quant__scaler__apply': True, 'preprocessing__cat__encoder__method': 'ordinal', 'preprocessing__cat__imputer__apply': True, 'preprocessing__quant__imputer__apply': True, 'features_selector__apply': False, 'preprocessing__quant__scaler__method': 'standard', 'preprocessing__quant__imputer__method': 'iterative_median', 'preprocessing__cat__imputer__method': 'knn', 'preprocessing__cat__imputer__n_neighbors': 4, 'preprocessing__quant__imputer__n_nearest_features': 7, 'RF__n_estimators': 75, 'RF__max_depth': 40, 'RF__min_samples_split': 16, 'RF__min_samples_leaf': 2}. Best is trial 12 with value: -175601.02424102896.\n",
      "[I 2024-04-15 17:29:06,491] Trial 14 finished with value: -176459.25075702247 and parameters: {'preprocessing__quant__scaler__apply': True, 'preprocessing__cat__encoder__method': 'ordinal', 'preprocessing__cat__imputer__apply': True, 'preprocessing__quant__imputer__apply': True, 'features_selector__apply': False, 'preprocessing__quant__scaler__method': 'standard', 'preprocessing__quant__imputer__method': 'iterative_median', 'preprocessing__cat__imputer__method': 'knn', 'preprocessing__cat__imputer__n_neighbors': 4, 'preprocessing__quant__imputer__n_nearest_features': 6, 'RF__n_estimators': 73, 'RF__max_depth': 40, 'RF__min_samples_split': 16, 'RF__min_samples_leaf': 2}. Best is trial 12 with value: -175601.02424102896.\n",
      "[I 2024-04-15 17:29:15,473] Trial 15 finished with value: -183366.95234801035 and parameters: {'preprocessing__quant__scaler__apply': True, 'preprocessing__cat__encoder__method': 'ordinal', 'preprocessing__cat__imputer__apply': True, 'preprocessing__quant__imputer__apply': True, 'features_selector__apply': False, 'preprocessing__quant__scaler__method': 'standard', 'preprocessing__quant__imputer__method': 'iterative_median', 'preprocessing__cat__imputer__method': 'knn', 'preprocessing__cat__imputer__n_neighbors': 4, 'preprocessing__quant__imputer__n_nearest_features': 5, 'RF__n_estimators': 51, 'RF__max_depth': 40, 'RF__min_samples_split': 25, 'RF__min_samples_leaf': 18}. Best is trial 12 with value: -175601.02424102896.\n",
      "[I 2024-04-15 17:29:27,324] Trial 16 finished with value: -177075.85238475486 and parameters: {'preprocessing__quant__scaler__apply': True, 'preprocessing__cat__encoder__method': 'ordinal', 'preprocessing__cat__imputer__apply': True, 'preprocessing__quant__imputer__apply': True, 'features_selector__apply': False, 'preprocessing__quant__scaler__method': 'standard', 'preprocessing__quant__imputer__method': 'iterative_median', 'preprocessing__cat__imputer__method': 'knn', 'preprocessing__cat__imputer__n_neighbors': 3, 'preprocessing__quant__imputer__n_nearest_features': 5, 'RF__n_estimators': 63, 'RF__max_depth': None, 'RF__min_samples_split': 15, 'RF__min_samples_leaf': 4}. Best is trial 12 with value: -175601.02424102896.\n",
      "[I 2024-04-15 17:29:39,558] Trial 17 finished with value: -183016.76955446275 and parameters: {'preprocessing__quant__scaler__apply': True, 'preprocessing__cat__encoder__method': 'ordinal', 'preprocessing__cat__imputer__apply': True, 'preprocessing__quant__imputer__apply': True, 'features_selector__apply': False, 'preprocessing__quant__scaler__method': 'standard', 'preprocessing__quant__imputer__method': 'iterative_median', 'preprocessing__cat__imputer__method': 'knn', 'preprocessing__cat__imputer__n_neighbors': 4, 'preprocessing__quant__imputer__n_nearest_features': 6, 'RF__n_estimators': 81, 'RF__max_depth': 20, 'RF__min_samples_split': 8, 'RF__min_samples_leaf': 17}. Best is trial 12 with value: -175601.02424102896.\n",
      "[I 2024-04-15 17:29:55,162] Trial 18 finished with value: -178495.11502167906 and parameters: {'preprocessing__quant__scaler__apply': True, 'preprocessing__cat__encoder__method': 'ordinal', 'preprocessing__cat__imputer__apply': True, 'preprocessing__quant__imputer__apply': True, 'features_selector__apply': False, 'preprocessing__quant__scaler__method': 'standard', 'preprocessing__quant__imputer__method': 'knn', 'preprocessing__cat__imputer__method': 'knn', 'preprocessing__quant__imputer__n_neighbors': 1, 'preprocessing__cat__imputer__n_neighbors': 4, 'RF__n_estimators': 64, 'RF__max_depth': 40, 'RF__min_samples_split': 17, 'RF__min_samples_leaf': 7}. Best is trial 12 with value: -175601.02424102896.\n",
      "[I 2024-04-15 17:30:08,307] Trial 19 finished with value: -175883.11257141596 and parameters: {'preprocessing__quant__scaler__apply': True, 'preprocessing__cat__encoder__method': 'ordinal', 'preprocessing__cat__imputer__apply': True, 'preprocessing__quant__imputer__apply': True, 'features_selector__apply': False, 'preprocessing__quant__scaler__method': 'standard', 'preprocessing__quant__imputer__method': 'iterative_median', 'preprocessing__cat__imputer__method': 'knn', 'preprocessing__cat__imputer__n_neighbors': 3, 'preprocessing__quant__imputer__n_nearest_features': 6, 'RF__n_estimators': 70, 'RF__max_depth': 20, 'RF__min_samples_split': 11, 'RF__min_samples_leaf': 4}. Best is trial 12 with value: -175601.02424102896.\n",
      "[I 2024-04-15 17:30:17,040] Trial 20 finished with value: -182566.92952712337 and parameters: {'preprocessing__quant__scaler__apply': True, 'preprocessing__cat__encoder__method': 'ordinal', 'preprocessing__cat__imputer__apply': True, 'preprocessing__quant__imputer__apply': True, 'features_selector__apply': False, 'preprocessing__quant__scaler__method': 'standard', 'preprocessing__quant__imputer__method': 'iterative_median', 'preprocessing__cat__imputer__method': 'knn', 'preprocessing__cat__imputer__n_neighbors': 3, 'preprocessing__quant__imputer__n_nearest_features': 6, 'RF__n_estimators': 57, 'RF__max_depth': 20, 'RF__min_samples_split': 11, 'RF__min_samples_leaf': 15}. Best is trial 12 with value: -175601.02424102896.\n",
      "[I 2024-04-15 17:30:29,823] Trial 21 finished with value: -176858.35575143428 and parameters: {'preprocessing__quant__scaler__apply': True, 'preprocessing__cat__encoder__method': 'ordinal', 'preprocessing__cat__imputer__apply': True, 'preprocessing__quant__imputer__apply': True, 'features_selector__apply': False, 'preprocessing__quant__scaler__method': 'standard', 'preprocessing__quant__imputer__method': 'iterative_median', 'preprocessing__cat__imputer__method': 'knn', 'preprocessing__cat__imputer__n_neighbors': 4, 'preprocessing__quant__imputer__n_nearest_features': 6, 'RF__n_estimators': 71, 'RF__max_depth': 20, 'RF__min_samples_split': 14, 'RF__min_samples_leaf': 4}. Best is trial 12 with value: -175601.02424102896.\n",
      "[I 2024-04-15 17:30:43,977] Trial 22 finished with value: -175484.24889542127 and parameters: {'preprocessing__quant__scaler__apply': True, 'preprocessing__cat__encoder__method': 'ordinal', 'preprocessing__cat__imputer__apply': True, 'preprocessing__quant__imputer__apply': True, 'features_selector__apply': False, 'preprocessing__quant__scaler__method': 'standard', 'preprocessing__quant__imputer__method': 'iterative_median', 'preprocessing__cat__imputer__method': 'knn', 'preprocessing__cat__imputer__n_neighbors': 3, 'preprocessing__quant__imputer__n_nearest_features': 6, 'RF__n_estimators': 79, 'RF__max_depth': 50, 'RF__min_samples_split': 9, 'RF__min_samples_leaf': 4}. Best is trial 22 with value: -175484.24889542127.\n",
      "[I 2024-04-15 17:30:55,707] Trial 23 finished with value: -179552.38850304438 and parameters: {'preprocessing__quant__scaler__apply': True, 'preprocessing__cat__encoder__method': 'ordinal', 'preprocessing__cat__imputer__apply': True, 'preprocessing__quant__imputer__apply': True, 'features_selector__apply': False, 'preprocessing__quant__scaler__method': 'standard', 'preprocessing__quant__imputer__method': 'iterative_median', 'preprocessing__cat__imputer__method': 'knn', 'preprocessing__cat__imputer__n_neighbors': 2, 'preprocessing__quant__imputer__n_nearest_features': 6, 'RF__n_estimators': 84, 'RF__max_depth': 50, 'RF__min_samples_split': 7, 'RF__min_samples_leaf': 9}. Best is trial 22 with value: -175484.24889542127.\n",
      "[I 2024-04-15 17:31:09,006] Trial 24 finished with value: -175951.5972761498 and parameters: {'preprocessing__quant__scaler__apply': True, 'preprocessing__cat__encoder__method': 'ordinal', 'preprocessing__cat__imputer__apply': True, 'preprocessing__quant__imputer__apply': True, 'features_selector__apply': False, 'preprocessing__quant__scaler__method': 'standard', 'preprocessing__quant__imputer__method': 'iterative_median', 'preprocessing__cat__imputer__method': 'knn', 'preprocessing__cat__imputer__n_neighbors': 3, 'preprocessing__quant__imputer__n_nearest_features': 7, 'RF__n_estimators': 78, 'RF__max_depth': 50, 'RF__min_samples_split': 11, 'RF__min_samples_leaf': 4}. Best is trial 22 with value: -175484.24889542127.\n",
      "[I 2024-04-15 17:31:25,556] Trial 25 finished with value: -177725.3501481216 and parameters: {'preprocessing__quant__scaler__apply': True, 'preprocessing__cat__encoder__method': 'ordinal', 'preprocessing__cat__imputer__apply': True, 'preprocessing__quant__imputer__apply': True, 'features_selector__apply': False, 'preprocessing__quant__scaler__method': 'standard', 'preprocessing__quant__imputer__method': 'knn', 'preprocessing__cat__imputer__method': 'knn', 'preprocessing__quant__imputer__n_neighbors': 4, 'preprocessing__cat__imputer__n_neighbors': 3, 'RF__n_estimators': 67, 'RF__max_depth': None, 'RF__min_samples_split': 13, 'RF__min_samples_leaf': 7}. Best is trial 22 with value: -175484.24889542127.\n",
      "[I 2024-04-15 17:31:29,323] Trial 26 finished with value: -184714.12456985487 and parameters: {'preprocessing__quant__scaler__apply': False, 'preprocessing__cat__encoder__method': 'ordinal', 'preprocessing__cat__imputer__apply': True, 'preprocessing__quant__imputer__apply': True, 'features_selector__apply': True, 'features_selector__method': 'Fpr_f_reg', 'preprocessing__quant__imputer__method': 'iterative_median', 'preprocessing__cat__imputer__method': 'simple_most_frequent', 'preprocessing__quant__imputer__n_nearest_features': 5, 'RF__n_estimators': 58, 'RF__max_depth': 10, 'RF__min_samples_split': 9, 'RF__min_samples_leaf': 11}. Best is trial 22 with value: -175484.24889542127.\n",
      "[I 2024-04-15 17:31:42,373] Trial 27 finished with value: -176449.32257451786 and parameters: {'preprocessing__quant__scaler__apply': True, 'preprocessing__cat__encoder__method': 'ordinal', 'preprocessing__cat__imputer__apply': True, 'preprocessing__quant__imputer__apply': True, 'features_selector__apply': False, 'preprocessing__quant__scaler__method': 'standard', 'preprocessing__quant__imputer__method': 'iterative_median', 'preprocessing__cat__imputer__method': 'knn', 'preprocessing__cat__imputer__n_neighbors': 2, 'preprocessing__quant__imputer__n_nearest_features': 6, 'RF__n_estimators': 80, 'RF__max_depth': 20, 'RF__min_samples_split': 6, 'RF__min_samples_leaf': 5}. Best is trial 22 with value: -175484.24889542127.\n",
      "[I 2024-04-15 17:31:53,290] Trial 28 finished with value: -179548.08919994824 and parameters: {'preprocessing__quant__scaler__apply': True, 'preprocessing__cat__encoder__method': 'ordinal', 'preprocessing__cat__imputer__apply': True, 'preprocessing__quant__imputer__apply': True, 'features_selector__apply': False, 'preprocessing__quant__scaler__method': 'min-max', 'preprocessing__quant__imputer__method': 'iterative_median', 'preprocessing__cat__imputer__method': 'knn', 'preprocessing__cat__imputer__n_neighbors': 3, 'preprocessing__quant__imputer__n_nearest_features': 4, 'RF__n_estimators': 68, 'RF__max_depth': 50, 'RF__min_samples_split': 10, 'RF__min_samples_leaf': 9}. Best is trial 22 with value: -175484.24889542127.\n",
      "[I 2024-04-15 17:32:02,706] Trial 29 finished with value: -186540.96069194408 and parameters: {'preprocessing__quant__scaler__apply': False, 'preprocessing__cat__encoder__method': 'ordinal', 'preprocessing__cat__imputer__apply': True, 'preprocessing__quant__imputer__apply': True, 'features_selector__apply': False, 'preprocessing__quant__imputer__method': 'knn', 'preprocessing__cat__imputer__method': 'simple_most_frequent', 'preprocessing__quant__imputer__n_neighbors': 3, 'RF__n_estimators': 95, 'RF__max_depth': 7, 'RF__min_samples_split': 6, 'RF__min_samples_leaf': 8}. Best is trial 22 with value: -175484.24889542127.\n",
      "[I 2024-04-15 17:32:18,606] Trial 30 finished with value: -175991.39465226067 and parameters: {'preprocessing__quant__scaler__apply': True, 'preprocessing__cat__encoder__method': 'ordinal', 'preprocessing__cat__imputer__apply': True, 'preprocessing__quant__imputer__apply': True, 'features_selector__apply': False, 'preprocessing__quant__scaler__method': 'standard', 'preprocessing__quant__imputer__method': 'iterative_median', 'preprocessing__cat__imputer__method': 'knn', 'preprocessing__cat__imputer__n_neighbors': 3, 'preprocessing__quant__imputer__n_nearest_features': 7, 'RF__n_estimators': 104, 'RF__max_depth': 30, 'RF__min_samples_split': 13, 'RF__min_samples_leaf': 3}. Best is trial 22 with value: -175484.24889542127.\n",
      "[I 2024-04-15 17:32:31,989] Trial 31 finished with value: -175787.73555022254 and parameters: {'preprocessing__quant__scaler__apply': True, 'preprocessing__cat__encoder__method': 'ordinal', 'preprocessing__cat__imputer__apply': True, 'preprocessing__quant__imputer__apply': True, 'features_selector__apply': False, 'preprocessing__quant__scaler__method': 'standard', 'preprocessing__quant__imputer__method': 'iterative_median', 'preprocessing__cat__imputer__method': 'knn', 'preprocessing__cat__imputer__n_neighbors': 3, 'preprocessing__quant__imputer__n_nearest_features': 7, 'RF__n_estimators': 77, 'RF__max_depth': 50, 'RF__min_samples_split': 10, 'RF__min_samples_leaf': 4}. Best is trial 22 with value: -175484.24889542127.\n",
      "[I 2024-04-15 17:32:44,689] Trial 32 finished with value: -176452.48976457247 and parameters: {'preprocessing__quant__scaler__apply': True, 'preprocessing__cat__encoder__method': 'ordinal', 'preprocessing__cat__imputer__apply': True, 'preprocessing__quant__imputer__apply': True, 'features_selector__apply': False, 'preprocessing__quant__scaler__method': 'standard', 'preprocessing__quant__imputer__method': 'iterative_median', 'preprocessing__cat__imputer__method': 'knn', 'preprocessing__cat__imputer__n_neighbors': 3, 'preprocessing__quant__imputer__n_nearest_features': 7, 'RF__n_estimators': 77, 'RF__max_depth': 50, 'RF__min_samples_split': 10, 'RF__min_samples_leaf': 5}. Best is trial 22 with value: -175484.24889542127.\n",
      "[I 2024-04-15 17:32:54,594] Trial 33 finished with value: -180916.37599400204 and parameters: {'preprocessing__quant__scaler__apply': True, 'preprocessing__cat__encoder__method': 'ordinal', 'preprocessing__cat__imputer__apply': True, 'preprocessing__quant__imputer__apply': True, 'features_selector__apply': False, 'preprocessing__quant__scaler__method': 'standard', 'preprocessing__quant__imputer__method': 'iterative_median', 'preprocessing__cat__imputer__method': 'knn', 'preprocessing__cat__imputer__n_neighbors': 2, 'preprocessing__quant__imputer__n_nearest_features': 6, 'RF__n_estimators': 68, 'RF__max_depth': 50, 'RF__min_samples_split': 6, 'RF__min_samples_leaf': 11}. Best is trial 22 with value: -175484.24889542127.\n",
      "[I 2024-04-15 17:33:07,606] Trial 34 finished with value: -180188.8152512284 and parameters: {'preprocessing__quant__scaler__apply': True, 'preprocessing__cat__encoder__method': 'ordinal', 'preprocessing__cat__imputer__apply': True, 'preprocessing__quant__imputer__apply': True, 'features_selector__apply': True, 'features_selector__method': 'Fpr_f_reg', 'preprocessing__quant__scaler__method': 'standard', 'preprocessing__quant__imputer__method': 'iterative_median', 'preprocessing__cat__imputer__method': 'knn', 'preprocessing__cat__imputer__n_neighbors': 3, 'preprocessing__quant__imputer__n_nearest_features': 7, 'RF__n_estimators': 87, 'RF__max_depth': 50, 'RF__min_samples_split': 12, 'RF__min_samples_leaf': 6}. Best is trial 22 with value: -175484.24889542127.\n",
      "[I 2024-04-15 17:33:27,211] Trial 35 finished with value: -176124.60423226748 and parameters: {'preprocessing__quant__scaler__apply': False, 'preprocessing__cat__encoder__method': 'one-hot', 'preprocessing__cat__imputer__apply': True, 'preprocessing__quant__imputer__apply': True, 'features_selector__apply': False, 'preprocessing__quant__imputer__method': 'iterative_median', 'preprocessing__cat__imputer__method': 'knn', 'preprocessing__cat__imputer__n_neighbors': 3, 'preprocessing__quant__imputer__n_nearest_features': 7, 'RF__n_estimators': 112, 'RF__max_depth': 50, 'RF__min_samples_split': 9, 'RF__min_samples_leaf': 3}. Best is trial 22 with value: -175484.24889542127.\n",
      "[I 2024-04-15 17:33:34,556] Trial 36 finished with value: -221558.97593536603 and parameters: {'preprocessing__quant__scaler__apply': True, 'preprocessing__cat__encoder__method': 'ordinal', 'preprocessing__cat__imputer__apply': True, 'preprocessing__quant__imputer__apply': True, 'features_selector__apply': False, 'preprocessing__quant__scaler__method': 'standard', 'preprocessing__quant__imputer__method': 'simple_median', 'preprocessing__cat__imputer__method': 'knn', 'preprocessing__cat__imputer__n_neighbors': 4, 'RF__n_estimators': 83, 'RF__max_depth': 3, 'RF__min_samples_split': 18, 'RF__min_samples_leaf': 7}. Best is trial 22 with value: -175484.24889542127.\n",
      "[I 2024-04-15 17:33:45,554] Trial 37 finished with value: -180390.54446801313 and parameters: {'preprocessing__quant__scaler__apply': True, 'preprocessing__cat__encoder__method': 'one-hot', 'preprocessing__cat__imputer__apply': True, 'preprocessing__quant__imputer__apply': True, 'features_selector__apply': False, 'preprocessing__quant__scaler__method': 'standard', 'preprocessing__quant__imputer__method': 'iterative_median', 'preprocessing__cat__imputer__method': 'simple_most_frequent', 'preprocessing__quant__imputer__n_nearest_features': 6, 'RF__n_estimators': 98, 'RF__max_depth': 10, 'RF__min_samples_split': 12, 'RF__min_samples_leaf': 5}. Best is trial 22 with value: -175484.24889542127.\n",
      "[I 2024-04-15 17:33:59,455] Trial 38 finished with value: -178635.37210956553 and parameters: {'preprocessing__quant__scaler__apply': False, 'preprocessing__cat__encoder__method': 'ordinal', 'preprocessing__cat__imputer__apply': True, 'preprocessing__quant__imputer__apply': True, 'features_selector__apply': True, 'features_selector__method': 'Fpr_f_reg', 'preprocessing__quant__imputer__method': 'simple_median', 'preprocessing__cat__imputer__method': 'knn', 'preprocessing__cat__imputer__n_neighbors': 2, 'RF__n_estimators': 79, 'RF__max_depth': 20, 'RF__min_samples_split': 10, 'RF__min_samples_leaf': 3}. Best is trial 22 with value: -175484.24889542127.\n",
      "[I 2024-04-15 17:34:04,381] Trial 39 finished with value: -197950.00547098878 and parameters: {'preprocessing__quant__scaler__apply': True, 'preprocessing__cat__encoder__method': 'one-hot', 'preprocessing__cat__imputer__apply': True, 'preprocessing__quant__imputer__apply': True, 'features_selector__apply': False, 'preprocessing__quant__scaler__method': 'standard', 'preprocessing__quant__imputer__method': 'iterative_median', 'preprocessing__cat__imputer__method': 'knn', 'preprocessing__cat__imputer__n_neighbors': 3, 'preprocessing__quant__imputer__n_nearest_features': 4, 'RF__n_estimators': 90, 'RF__max_depth': 5, 'RF__min_samples_split': 14, 'RF__min_samples_leaf': 20}. Best is trial 22 with value: -175484.24889542127.\n",
      "[I 2024-04-15 17:34:15,160] Trial 40 finished with value: -221435.53167348387 and parameters: {'preprocessing__quant__scaler__apply': True, 'preprocessing__cat__encoder__method': 'ordinal', 'preprocessing__cat__imputer__apply': True, 'preprocessing__quant__imputer__apply': True, 'features_selector__apply': False, 'preprocessing__quant__scaler__method': 'standard', 'preprocessing__quant__imputer__method': 'knn', 'preprocessing__cat__imputer__method': 'knn', 'preprocessing__quant__imputer__n_neighbors': 2, 'preprocessing__cat__imputer__n_neighbors': 1, 'RF__n_estimators': 61, 'RF__max_depth': 3, 'RF__min_samples_split': 4, 'RF__min_samples_leaf': 10}. Best is trial 22 with value: -175484.24889542127.\n",
      "[I 2024-04-15 17:34:28,822] Trial 41 finished with value: -175953.4016455983 and parameters: {'preprocessing__quant__scaler__apply': True, 'preprocessing__cat__encoder__method': 'ordinal', 'preprocessing__cat__imputer__apply': True, 'preprocessing__quant__imputer__apply': True, 'features_selector__apply': False, 'preprocessing__quant__scaler__method': 'standard', 'preprocessing__quant__imputer__method': 'iterative_median', 'preprocessing__cat__imputer__method': 'knn', 'preprocessing__cat__imputer__n_neighbors': 3, 'preprocessing__quant__imputer__n_nearest_features': 7, 'RF__n_estimators': 76, 'RF__max_depth': 50, 'RF__min_samples_split': 11, 'RF__min_samples_leaf': 4}. Best is trial 22 with value: -175484.24889542127.\n",
      "[I 2024-04-15 17:34:42,161] Trial 42 finished with value: -175195.90276855376 and parameters: {'preprocessing__quant__scaler__apply': True, 'preprocessing__cat__encoder__method': 'ordinal', 'preprocessing__cat__imputer__apply': True, 'preprocessing__quant__imputer__apply': True, 'features_selector__apply': False, 'preprocessing__quant__scaler__method': 'standard', 'preprocessing__quant__imputer__method': 'iterative_median', 'preprocessing__cat__imputer__method': 'knn', 'preprocessing__cat__imputer__n_neighbors': 3, 'preprocessing__quant__imputer__n_nearest_features': 7, 'RF__n_estimators': 71, 'RF__max_depth': 50, 'RF__min_samples_split': 11, 'RF__min_samples_leaf': 2}. Best is trial 42 with value: -175195.90276855376.\n",
      "[I 2024-04-15 17:34:56,212] Trial 43 finished with value: -174367.85240754977 and parameters: {'preprocessing__quant__scaler__apply': True, 'preprocessing__cat__encoder__method': 'ordinal', 'preprocessing__cat__imputer__apply': True, 'preprocessing__quant__imputer__apply': True, 'features_selector__apply': False, 'preprocessing__quant__scaler__method': 'min-max', 'preprocessing__quant__imputer__method': 'iterative_median', 'preprocessing__cat__imputer__method': 'knn', 'preprocessing__cat__imputer__n_neighbors': 3, 'preprocessing__quant__imputer__n_nearest_features': 7, 'RF__n_estimators': 72, 'RF__max_depth': 50, 'RF__min_samples_split': 9, 'RF__min_samples_leaf': 2}. Best is trial 43 with value: -174367.85240754977.\n",
      "[I 2024-04-15 17:35:08,243] Trial 44 finished with value: -173974.7554222493 and parameters: {'preprocessing__quant__scaler__apply': True, 'preprocessing__cat__encoder__method': 'ordinal', 'preprocessing__cat__imputer__apply': True, 'preprocessing__quant__imputer__apply': True, 'features_selector__apply': False, 'preprocessing__quant__scaler__method': 'min-max', 'preprocessing__quant__imputer__method': 'iterative_median', 'preprocessing__cat__imputer__method': 'simple_most_frequent', 'preprocessing__quant__imputer__n_nearest_features': 7, 'RF__n_estimators': 74, 'RF__max_depth': 50, 'RF__min_samples_split': 7, 'RF__min_samples_leaf': 2}. Best is trial 44 with value: -173974.7554222493.\n",
      "[I 2024-04-15 17:35:22,081] Trial 45 finished with value: -175151.6672064559 and parameters: {'preprocessing__quant__scaler__apply': True, 'preprocessing__cat__encoder__method': 'one-hot', 'preprocessing__cat__imputer__apply': True, 'preprocessing__quant__imputer__apply': True, 'features_selector__apply': False, 'preprocessing__quant__scaler__method': 'min-max', 'preprocessing__quant__imputer__method': 'simple_median', 'preprocessing__cat__imputer__method': 'simple_most_frequent', 'RF__n_estimators': 73, 'RF__max_depth': 50, 'RF__min_samples_split': 7, 'RF__min_samples_leaf': 2}. Best is trial 44 with value: -173974.7554222493.\n",
      "[I 2024-04-15 17:35:34,239] Trial 46 finished with value: -178457.85527821427 and parameters: {'preprocessing__quant__scaler__apply': True, 'preprocessing__cat__encoder__method': 'one-hot', 'preprocessing__cat__imputer__apply': True, 'preprocessing__quant__imputer__apply': True, 'features_selector__apply': True, 'features_selector__method': 'Fpr_f_reg', 'preprocessing__quant__scaler__method': 'min-max', 'preprocessing__quant__imputer__method': 'simple_median', 'preprocessing__cat__imputer__method': 'simple_most_frequent', 'RF__n_estimators': 66, 'RF__max_depth': 50, 'RF__min_samples_split': 5, 'RF__min_samples_leaf': 2}. Best is trial 44 with value: -173974.7554222493.\n",
      "[I 2024-04-15 17:35:52,422] Trial 47 finished with value: -174450.6748612544 and parameters: {'preprocessing__quant__scaler__apply': False, 'preprocessing__cat__encoder__method': 'one-hot', 'preprocessing__cat__imputer__apply': True, 'preprocessing__quant__imputer__apply': True, 'features_selector__apply': False, 'preprocessing__quant__imputer__method': 'simple_median', 'preprocessing__cat__imputer__method': 'simple_most_frequent', 'RF__n_estimators': 74, 'RF__max_depth': 50, 'RF__min_samples_split': 2, 'RF__min_samples_leaf': 2}. Best is trial 44 with value: -173974.7554222493.\n",
      "[I 2024-04-15 17:36:09,042] Trial 48 finished with value: -174458.13010518125 and parameters: {'preprocessing__quant__scaler__apply': False, 'preprocessing__cat__encoder__method': 'one-hot', 'preprocessing__cat__imputer__apply': True, 'preprocessing__quant__imputer__apply': True, 'features_selector__apply': False, 'preprocessing__quant__imputer__method': 'simple_median', 'preprocessing__cat__imputer__method': 'simple_most_frequent', 'RF__n_estimators': 73, 'RF__max_depth': 50, 'RF__min_samples_split': 2, 'RF__min_samples_leaf': 2}. Best is trial 44 with value: -173974.7554222493.\n",
      "[I 2024-04-15 17:36:22,355] Trial 49 finished with value: -178316.6226783972 and parameters: {'preprocessing__quant__scaler__apply': False, 'preprocessing__cat__encoder__method': 'one-hot', 'preprocessing__cat__imputer__apply': True, 'preprocessing__quant__imputer__apply': True, 'features_selector__apply': True, 'features_selector__method': 'Fdr_f_reg', 'preprocessing__quant__imputer__method': 'simple_median', 'preprocessing__cat__imputer__method': 'simple_most_frequent', 'RF__n_estimators': 74, 'RF__max_depth': 50, 'RF__min_samples_split': 2, 'RF__min_samples_leaf': 2}. Best is trial 44 with value: -173974.7554222493.\n"
     ]
    }
   ],
   "source": [
    "model_name = 'RF'\n",
    "param_grid = param_grid_RF\n",
    "\n",
    "simple_eval = SimpleEvaluation(estimator=pipelines[model_name],  \n",
    "                               inner=inner, \n",
    "                               param_grid=param_grid,\n",
    "                               search_method='optuna',\n",
    "                               scoring='neg_mean_absolute_error', \n",
    "                               direction='maximize', \n",
    "                               n_trials=50, \n",
    "                               random_state=666)\n",
    "\n",
    "simple_eval.fit(X=X_train, y=Y_train)\n",
    "\n",
    "inner_score[model_name] = simple_eval.inner_score\n",
    "best_params[model_name] = simple_eval.inner_best_params\n",
    "inner_results[model_name] = simple_eval.inner_results\n",
    "# 4.18 mins"
   ]
  },
  {
   "cell_type": "code",
   "execution_count": 24,
   "metadata": {},
   "outputs": [
    {
     "name": "stderr",
     "output_type": "stream",
     "text": [
      "[I 2024-04-15 17:36:22,375] A new study created in memory with name: no-name-99409745-8e3e-4091-bcf5-e93fe5e66eca\n",
      "[I 2024-04-15 17:36:24,396] Trial 0 finished with value: -181858.00347698678 and parameters: {'preprocessing__quant__scaler__apply': False, 'preprocessing__cat__encoder__method': 'one-hot', 'preprocessing__cat__imputer__apply': True, 'preprocessing__quant__imputer__apply': True, 'features_selector__apply': False, 'preprocessing__quant__imputer__method': 'simple_median', 'preprocessing__cat__imputer__method': 'simple_most_frequent', 'XGB__max_depth': 10, 'XGB__lambda': 0.0, 'XGB__n_estimators': 150, 'XGB__eta': 0.08, 'XGB__alpha': 0.67}. Best is trial 0 with value: -181858.00347698678.\n",
      "[I 2024-04-15 17:37:03,038] Trial 1 finished with value: -197364.30613706264 and parameters: {'preprocessing__quant__scaler__apply': False, 'preprocessing__cat__encoder__method': 'one-hot', 'preprocessing__cat__imputer__apply': True, 'preprocessing__quant__imputer__apply': True, 'features_selector__apply': False, 'preprocessing__quant__imputer__method': 'simple_median', 'preprocessing__cat__imputer__method': 'simple_most_frequent', 'XGB__max_depth': 40, 'XGB__lambda': 0.2, 'XGB__n_estimators': 150, 'XGB__eta': 0.24, 'XGB__alpha': 0.54}. Best is trial 0 with value: -181858.00347698678.\n",
      "[I 2024-04-15 17:37:09,861] Trial 2 finished with value: -506937.1636215047 and parameters: {'preprocessing__quant__scaler__apply': True, 'preprocessing__cat__encoder__method': 'one-hot', 'preprocessing__cat__imputer__apply': True, 'preprocessing__quant__imputer__apply': True, 'features_selector__apply': False, 'preprocessing__quant__scaler__method': 'min-max', 'preprocessing__quant__imputer__method': 'knn', 'preprocessing__cat__imputer__method': 'knn', 'preprocessing__quant__imputer__n_neighbors': 2, 'preprocessing__cat__imputer__n_neighbors': 1, 'XGB__max_depth': 3, 'XGB__lambda': 0.5, 'XGB__n_estimators': 50, 'XGB__eta': 0.0, 'XGB__alpha': 1.0}. Best is trial 0 with value: -181858.00347698678.\n",
      "[I 2024-04-15 17:37:10,414] Trial 3 finished with value: -234080.9551546492 and parameters: {'preprocessing__quant__scaler__apply': False, 'preprocessing__cat__encoder__method': 'one-hot', 'preprocessing__cat__imputer__apply': True, 'preprocessing__quant__imputer__apply': True, 'features_selector__apply': True, 'features_selector__method': 'Fpr_f_reg', 'preprocessing__quant__imputer__method': 'iterative_median', 'preprocessing__cat__imputer__method': 'knn', 'preprocessing__cat__imputer__n_neighbors': 3, 'preprocessing__quant__imputer__n_nearest_features': 6, 'XGB__max_depth': 3, 'XGB__lambda': 0.0, 'XGB__n_estimators': 70, 'XGB__eta': 0.02, 'XGB__alpha': 0.75}. Best is trial 0 with value: -181858.00347698678.\n",
      "[I 2024-04-15 17:37:16,680] Trial 4 finished with value: -254247.61622938915 and parameters: {'preprocessing__quant__scaler__apply': True, 'preprocessing__cat__encoder__method': 'ordinal', 'preprocessing__cat__imputer__apply': True, 'preprocessing__quant__imputer__apply': True, 'features_selector__apply': False, 'preprocessing__quant__scaler__method': 'min-max', 'preprocessing__quant__imputer__method': 'knn', 'preprocessing__cat__imputer__method': 'simple_most_frequent', 'preprocessing__quant__imputer__n_neighbors': 2, 'XGB__max_depth': 5, 'XGB__lambda': 0.5, 'XGB__n_estimators': 50, 'XGB__eta': 0.02, 'XGB__alpha': 0.5700000000000001}. Best is trial 0 with value: -181858.00347698678.\n",
      "[I 2024-04-15 17:37:17,162] Trial 5 finished with value: -181012.61137988238 and parameters: {'preprocessing__quant__scaler__apply': False, 'preprocessing__cat__encoder__method': 'ordinal', 'preprocessing__cat__imputer__apply': True, 'preprocessing__quant__imputer__apply': True, 'features_selector__apply': False, 'preprocessing__quant__imputer__method': 'iterative_median', 'preprocessing__cat__imputer__method': 'simple_most_frequent', 'preprocessing__quant__imputer__n_nearest_features': 6, 'XGB__max_depth': None, 'XGB__lambda': 0.4, 'XGB__n_estimators': 50, 'XGB__eta': 0.14, 'XGB__alpha': 0.31}. Best is trial 5 with value: -181012.61137988238.\n",
      "[I 2024-04-15 17:37:17,785] Trial 6 finished with value: -188258.93733399667 and parameters: {'preprocessing__quant__scaler__apply': True, 'preprocessing__cat__encoder__method': 'ordinal', 'preprocessing__cat__imputer__apply': True, 'preprocessing__quant__imputer__apply': True, 'features_selector__apply': True, 'features_selector__method': 'Fpr_f_reg', 'preprocessing__quant__scaler__method': 'min-max', 'preprocessing__quant__imputer__method': 'simple_median', 'preprocessing__cat__imputer__method': 'simple_most_frequent', 'XGB__max_depth': None, 'XGB__lambda': 0.30000000000000004, 'XGB__n_estimators': 180, 'XGB__eta': 0.26, 'XGB__alpha': 0.8900000000000001}. Best is trial 5 with value: -181012.61137988238.\n",
      "[I 2024-04-15 17:37:25,913] Trial 7 finished with value: -184757.1052566652 and parameters: {'preprocessing__quant__scaler__apply': True, 'preprocessing__cat__encoder__method': 'one-hot', 'preprocessing__cat__imputer__apply': True, 'preprocessing__quant__imputer__apply': True, 'features_selector__apply': False, 'preprocessing__quant__scaler__method': 'standard', 'preprocessing__quant__imputer__method': 'knn', 'preprocessing__cat__imputer__method': 'simple_most_frequent', 'preprocessing__quant__imputer__n_neighbors': 4, 'XGB__max_depth': 3, 'XGB__lambda': 0.2, 'XGB__n_estimators': 180, 'XGB__eta': 0.22, 'XGB__alpha': 0.97}. Best is trial 5 with value: -181012.61137988238.\n",
      "[I 2024-04-15 17:37:33,444] Trial 8 finished with value: -181615.133970834 and parameters: {'preprocessing__quant__scaler__apply': False, 'preprocessing__cat__encoder__method': 'one-hot', 'preprocessing__cat__imputer__apply': True, 'preprocessing__quant__imputer__apply': True, 'features_selector__apply': False, 'preprocessing__quant__imputer__method': 'knn', 'preprocessing__cat__imputer__method': 'knn', 'preprocessing__quant__imputer__n_neighbors': 4, 'preprocessing__cat__imputer__n_neighbors': 1, 'XGB__max_depth': 7, 'XGB__lambda': 0.5, 'XGB__n_estimators': 50, 'XGB__eta': 0.08, 'XGB__alpha': 0.7}. Best is trial 5 with value: -181012.61137988238.\n",
      "[I 2024-04-15 17:37:34,141] Trial 9 finished with value: -186555.92254840332 and parameters: {'preprocessing__quant__scaler__apply': False, 'preprocessing__cat__encoder__method': 'one-hot', 'preprocessing__cat__imputer__apply': True, 'preprocessing__quant__imputer__apply': True, 'features_selector__apply': False, 'preprocessing__quant__imputer__method': 'iterative_median', 'preprocessing__cat__imputer__method': 'knn', 'preprocessing__cat__imputer__n_neighbors': 1, 'preprocessing__quant__imputer__n_nearest_features': 7, 'XGB__max_depth': 5, 'XGB__lambda': 0.0, 'XGB__n_estimators': 100, 'XGB__eta': 0.04, 'XGB__alpha': 0.39}. Best is trial 5 with value: -181012.61137988238.\n",
      "[I 2024-04-15 17:37:34,618] Trial 10 finished with value: -185240.13895104654 and parameters: {'preprocessing__quant__scaler__apply': False, 'preprocessing__cat__encoder__method': 'ordinal', 'preprocessing__cat__imputer__apply': True, 'preprocessing__quant__imputer__apply': True, 'features_selector__apply': True, 'features_selector__method': 'Fdr_f_reg', 'preprocessing__quant__imputer__method': 'iterative_median', 'preprocessing__cat__imputer__method': 'simple_most_frequent', 'preprocessing__quant__imputer__n_nearest_features': 3, 'XGB__max_depth': None, 'XGB__lambda': 0.30000000000000004, 'XGB__n_estimators': 30, 'XGB__eta': 0.16, 'XGB__alpha': 0.25}. Best is trial 5 with value: -181012.61137988238.\n",
      "[I 2024-04-15 17:37:41,107] Trial 11 finished with value: -179057.83288189673 and parameters: {'preprocessing__quant__scaler__apply': False, 'preprocessing__cat__encoder__method': 'ordinal', 'preprocessing__cat__imputer__apply': True, 'preprocessing__quant__imputer__apply': True, 'features_selector__apply': False, 'preprocessing__quant__imputer__method': 'iterative_median', 'preprocessing__cat__imputer__method': 'knn', 'preprocessing__cat__imputer__n_neighbors': 4, 'preprocessing__quant__imputer__n_nearest_features': 4, 'XGB__max_depth': 7, 'XGB__lambda': 0.4, 'XGB__n_estimators': 50, 'XGB__eta': 0.12, 'XGB__alpha': 0.41000000000000003}. Best is trial 11 with value: -179057.83288189673.\n",
      "[I 2024-04-15 17:37:46,786] Trial 12 finished with value: -178712.25250199786 and parameters: {'preprocessing__quant__scaler__apply': False, 'preprocessing__cat__encoder__method': 'ordinal', 'preprocessing__cat__imputer__apply': True, 'preprocessing__quant__imputer__apply': True, 'features_selector__apply': False, 'preprocessing__quant__imputer__method': 'iterative_median', 'preprocessing__cat__imputer__method': 'knn', 'preprocessing__cat__imputer__n_neighbors': 4, 'preprocessing__quant__imputer__n_nearest_features': 4, 'XGB__max_depth': 7, 'XGB__lambda': 0.4, 'XGB__n_estimators': 50, 'XGB__eta': 0.16, 'XGB__alpha': 0.22}. Best is trial 12 with value: -178712.25250199786.\n",
      "[I 2024-04-15 17:37:52,510] Trial 13 finished with value: -178712.2523566655 and parameters: {'preprocessing__quant__scaler__apply': False, 'preprocessing__cat__encoder__method': 'ordinal', 'preprocessing__cat__imputer__apply': True, 'preprocessing__quant__imputer__apply': True, 'features_selector__apply': False, 'preprocessing__quant__imputer__method': 'iterative_median', 'preprocessing__cat__imputer__method': 'knn', 'preprocessing__cat__imputer__n_neighbors': 4, 'preprocessing__quant__imputer__n_nearest_features': 4, 'XGB__max_depth': 7, 'XGB__lambda': 0.4, 'XGB__n_estimators': 50, 'XGB__eta': 0.16, 'XGB__alpha': 0.43000000000000005}. Best is trial 13 with value: -178712.2523566655.\n",
      "[I 2024-04-15 17:37:58,638] Trial 14 finished with value: -183189.64927163132 and parameters: {'preprocessing__quant__scaler__apply': False, 'preprocessing__cat__encoder__method': 'ordinal', 'preprocessing__cat__imputer__apply': True, 'preprocessing__quant__imputer__apply': True, 'features_selector__apply': True, 'features_selector__method': 'Fdr_f_reg', 'preprocessing__quant__imputer__method': 'iterative_median', 'preprocessing__cat__imputer__method': 'knn', 'preprocessing__cat__imputer__n_neighbors': 4, 'preprocessing__quant__imputer__n_nearest_features': 4, 'XGB__max_depth': 7, 'XGB__lambda': 0.4, 'XGB__n_estimators': 70, 'XGB__eta': 0.2, 'XGB__alpha': 0.21000000000000002}. Best is trial 13 with value: -178712.2523566655.\n",
      "[I 2024-04-15 17:38:14,855] Trial 15 finished with value: -195726.23908240264 and parameters: {'preprocessing__quant__scaler__apply': False, 'preprocessing__cat__encoder__method': 'ordinal', 'preprocessing__cat__imputer__apply': True, 'preprocessing__quant__imputer__apply': True, 'features_selector__apply': False, 'preprocessing__quant__imputer__method': 'iterative_median', 'preprocessing__cat__imputer__method': 'knn', 'preprocessing__cat__imputer__n_neighbors': 3, 'preprocessing__quant__imputer__n_nearest_features': 4, 'XGB__max_depth': 20, 'XGB__lambda': 0.30000000000000004, 'XGB__n_estimators': 100, 'XGB__eta': 0.3, 'XGB__alpha': 0.44}. Best is trial 13 with value: -178712.2523566655.\n",
      "[I 2024-04-15 17:38:34,073] Trial 16 finished with value: -192795.75705134947 and parameters: {'preprocessing__quant__scaler__apply': False, 'preprocessing__cat__encoder__method': 'ordinal', 'preprocessing__cat__imputer__apply': True, 'preprocessing__quant__imputer__apply': True, 'features_selector__apply': False, 'preprocessing__quant__imputer__method': 'iterative_median', 'preprocessing__cat__imputer__method': 'knn', 'preprocessing__cat__imputer__n_neighbors': 4, 'preprocessing__quant__imputer__n_nearest_features': 3, 'XGB__max_depth': 30, 'XGB__lambda': 0.4, 'XGB__n_estimators': 30, 'XGB__eta': 0.18, 'XGB__alpha': 0.32}. Best is trial 13 with value: -178712.2523566655.\n",
      "[I 2024-04-15 17:39:21,139] Trial 17 finished with value: -203364.71330179798 and parameters: {'preprocessing__quant__scaler__apply': False, 'preprocessing__cat__encoder__method': 'ordinal', 'preprocessing__cat__imputer__apply': True, 'preprocessing__quant__imputer__apply': True, 'features_selector__apply': False, 'preprocessing__quant__imputer__method': 'iterative_median', 'preprocessing__cat__imputer__method': 'knn', 'preprocessing__cat__imputer__n_neighbors': 3, 'preprocessing__quant__imputer__n_nearest_features': 5, 'XGB__max_depth': 50, 'XGB__lambda': 0.1, 'XGB__n_estimators': 50, 'XGB__eta': 0.1, 'XGB__alpha': 0.5}. Best is trial 13 with value: -178712.2523566655.\n",
      "[I 2024-04-15 17:39:27,556] Trial 18 finished with value: -182529.63217887963 and parameters: {'preprocessing__quant__scaler__apply': True, 'preprocessing__cat__encoder__method': 'ordinal', 'preprocessing__cat__imputer__apply': True, 'preprocessing__quant__imputer__apply': True, 'features_selector__apply': True, 'features_selector__method': 'Fdr_f_reg', 'preprocessing__quant__scaler__method': 'standard', 'preprocessing__quant__imputer__method': 'iterative_median', 'preprocessing__cat__imputer__method': 'knn', 'preprocessing__cat__imputer__n_neighbors': 4, 'preprocessing__quant__imputer__n_nearest_features': 5, 'XGB__max_depth': 7, 'XGB__lambda': 0.4, 'XGB__n_estimators': 50, 'XGB__eta': 0.18, 'XGB__alpha': 0.33}. Best is trial 13 with value: -178712.2523566655.\n",
      "[I 2024-04-15 17:39:32,959] Trial 19 finished with value: -180213.63220861962 and parameters: {'preprocessing__quant__scaler__apply': False, 'preprocessing__cat__encoder__method': 'ordinal', 'preprocessing__cat__imputer__apply': True, 'preprocessing__quant__imputer__apply': True, 'features_selector__apply': False, 'preprocessing__quant__imputer__method': 'simple_median', 'preprocessing__cat__imputer__method': 'knn', 'preprocessing__cat__imputer__n_neighbors': 2, 'XGB__max_depth': 7, 'XGB__lambda': 0.2, 'XGB__n_estimators': 50, 'XGB__eta': 0.14, 'XGB__alpha': 0.23}. Best is trial 13 with value: -178712.2523566655.\n",
      "[I 2024-04-15 17:40:07,004] Trial 20 finished with value: -192472.03809271613 and parameters: {'preprocessing__quant__scaler__apply': False, 'preprocessing__cat__encoder__method': 'ordinal', 'preprocessing__cat__imputer__apply': True, 'preprocessing__quant__imputer__apply': True, 'features_selector__apply': False, 'preprocessing__quant__imputer__method': 'iterative_median', 'preprocessing__cat__imputer__method': 'knn', 'preprocessing__cat__imputer__n_neighbors': 2, 'preprocessing__quant__imputer__n_nearest_features': 4, 'XGB__max_depth': 50, 'XGB__lambda': 0.5, 'XGB__n_estimators': 30, 'XGB__eta': 0.28, 'XGB__alpha': 0.47000000000000003}. Best is trial 13 with value: -178712.2523566655.\n",
      "[I 2024-04-15 17:40:12,988] Trial 21 finished with value: -179745.6477871773 and parameters: {'preprocessing__quant__scaler__apply': False, 'preprocessing__cat__encoder__method': 'ordinal', 'preprocessing__cat__imputer__apply': True, 'preprocessing__quant__imputer__apply': True, 'features_selector__apply': False, 'preprocessing__quant__imputer__method': 'iterative_median', 'preprocessing__cat__imputer__method': 'knn', 'preprocessing__cat__imputer__n_neighbors': 4, 'preprocessing__quant__imputer__n_nearest_features': 4, 'XGB__max_depth': 7, 'XGB__lambda': 0.4, 'XGB__n_estimators': 50, 'XGB__eta': 0.14, 'XGB__alpha': 0.42000000000000004}. Best is trial 13 with value: -178712.2523566655.\n",
      "[I 2024-04-15 17:40:18,788] Trial 22 finished with value: -178956.09050157224 and parameters: {'preprocessing__quant__scaler__apply': False, 'preprocessing__cat__encoder__method': 'ordinal', 'preprocessing__cat__imputer__apply': True, 'preprocessing__quant__imputer__apply': True, 'features_selector__apply': False, 'preprocessing__quant__imputer__method': 'iterative_median', 'preprocessing__cat__imputer__method': 'knn', 'preprocessing__cat__imputer__n_neighbors': 4, 'preprocessing__quant__imputer__n_nearest_features': 4, 'XGB__max_depth': 7, 'XGB__lambda': 0.30000000000000004, 'XGB__n_estimators': 50, 'XGB__eta': 0.1, 'XGB__alpha': 0.39}. Best is trial 13 with value: -178712.2523566655.\n",
      "[I 2024-04-15 17:40:24,038] Trial 23 finished with value: -179405.06281358184 and parameters: {'preprocessing__quant__scaler__apply': False, 'preprocessing__cat__encoder__method': 'ordinal', 'preprocessing__cat__imputer__apply': True, 'preprocessing__quant__imputer__apply': True, 'features_selector__apply': False, 'preprocessing__quant__imputer__method': 'iterative_median', 'preprocessing__cat__imputer__method': 'knn', 'preprocessing__cat__imputer__n_neighbors': 3, 'preprocessing__quant__imputer__n_nearest_features': 3, 'XGB__max_depth': 7, 'XGB__lambda': 0.30000000000000004, 'XGB__n_estimators': 50, 'XGB__eta': 0.1, 'XGB__alpha': 0.34}. Best is trial 13 with value: -178712.2523566655.\n",
      "[I 2024-04-15 17:40:45,922] Trial 24 finished with value: -195360.30985820247 and parameters: {'preprocessing__quant__scaler__apply': False, 'preprocessing__cat__encoder__method': 'ordinal', 'preprocessing__cat__imputer__apply': True, 'preprocessing__quant__imputer__apply': True, 'features_selector__apply': False, 'preprocessing__quant__imputer__method': 'iterative_median', 'preprocessing__cat__imputer__method': 'knn', 'preprocessing__cat__imputer__n_neighbors': 4, 'preprocessing__quant__imputer__n_nearest_features': 5, 'XGB__max_depth': 30, 'XGB__lambda': 0.30000000000000004, 'XGB__n_estimators': 50, 'XGB__eta': 0.06, 'XGB__alpha': 0.28}. Best is trial 13 with value: -178712.2523566655.\n",
      "[I 2024-04-15 17:41:42,404] Trial 25 finished with value: -202874.51291769918 and parameters: {'preprocessing__quant__scaler__apply': False, 'preprocessing__cat__encoder__method': 'ordinal', 'preprocessing__cat__imputer__apply': True, 'preprocessing__quant__imputer__apply': True, 'features_selector__apply': False, 'preprocessing__quant__imputer__method': 'iterative_median', 'preprocessing__cat__imputer__method': 'knn', 'preprocessing__cat__imputer__n_neighbors': 4, 'preprocessing__quant__imputer__n_nearest_features': 4, 'XGB__max_depth': 40, 'XGB__lambda': 0.1, 'XGB__n_estimators': 180, 'XGB__eta': 0.18, 'XGB__alpha': 0.62}. Best is trial 13 with value: -178712.2523566655.\n",
      "[I 2024-04-15 17:42:05,257] Trial 26 finished with value: -197436.8737865092 and parameters: {'preprocessing__quant__scaler__apply': True, 'preprocessing__cat__encoder__method': 'ordinal', 'preprocessing__cat__imputer__apply': True, 'preprocessing__quant__imputer__apply': True, 'features_selector__apply': True, 'features_selector__method': 'Fpr_f_reg', 'preprocessing__quant__scaler__method': 'standard', 'preprocessing__quant__imputer__method': 'iterative_median', 'preprocessing__cat__imputer__method': 'knn', 'preprocessing__cat__imputer__n_neighbors': 3, 'preprocessing__quant__imputer__n_nearest_features': 3, 'XGB__max_depth': 20, 'XGB__lambda': 0.4, 'XGB__n_estimators': 150, 'XGB__eta': 0.12, 'XGB__alpha': 0.5}. Best is trial 13 with value: -178712.2523566655.\n",
      "[I 2024-04-15 17:42:12,121] Trial 27 finished with value: -183386.24464343928 and parameters: {'preprocessing__quant__scaler__apply': False, 'preprocessing__cat__encoder__method': 'ordinal', 'preprocessing__cat__imputer__apply': True, 'preprocessing__quant__imputer__apply': True, 'features_selector__apply': False, 'preprocessing__quant__imputer__method': 'iterative_median', 'preprocessing__cat__imputer__method': 'knn', 'preprocessing__cat__imputer__n_neighbors': 4, 'preprocessing__quant__imputer__n_nearest_features': 5, 'XGB__max_depth': 10, 'XGB__lambda': 0.30000000000000004, 'XGB__n_estimators': 100, 'XGB__eta': 0.2, 'XGB__alpha': 0.38}. Best is trial 13 with value: -178712.2523566655.\n",
      "[I 2024-04-15 17:42:23,414] Trial 28 finished with value: -179769.79393624316 and parameters: {'preprocessing__quant__scaler__apply': False, 'preprocessing__cat__encoder__method': 'ordinal', 'preprocessing__cat__imputer__apply': True, 'preprocessing__quant__imputer__apply': True, 'features_selector__apply': False, 'preprocessing__quant__imputer__method': 'knn', 'preprocessing__cat__imputer__method': 'knn', 'preprocessing__quant__imputer__n_neighbors': 1, 'preprocessing__cat__imputer__n_neighbors': 3, 'XGB__max_depth': 7, 'XGB__lambda': 0.5, 'XGB__n_estimators': 70, 'XGB__eta': 0.16, 'XGB__alpha': 0.21000000000000002}. Best is trial 13 with value: -178712.2523566655.\n",
      "[I 2024-04-15 17:42:30,153] Trial 29 finished with value: -182564.68447652576 and parameters: {'preprocessing__quant__scaler__apply': False, 'preprocessing__cat__encoder__method': 'ordinal', 'preprocessing__cat__imputer__apply': True, 'preprocessing__quant__imputer__apply': True, 'features_selector__apply': False, 'preprocessing__quant__imputer__method': 'simple_median', 'preprocessing__cat__imputer__method': 'knn', 'preprocessing__cat__imputer__n_neighbors': 4, 'XGB__max_depth': 10, 'XGB__lambda': 0.2, 'XGB__n_estimators': 150, 'XGB__eta': 0.08, 'XGB__alpha': 0.6000000000000001}. Best is trial 13 with value: -178712.2523566655.\n",
      "[I 2024-04-15 17:42:35,337] Trial 30 finished with value: -179528.22106740493 and parameters: {'preprocessing__quant__scaler__apply': False, 'preprocessing__cat__encoder__method': 'ordinal', 'preprocessing__cat__imputer__apply': True, 'preprocessing__quant__imputer__apply': True, 'features_selector__apply': False, 'preprocessing__quant__imputer__method': 'simple_median', 'preprocessing__cat__imputer__method': 'knn', 'preprocessing__cat__imputer__n_neighbors': 2, 'XGB__max_depth': 7, 'XGB__lambda': 0.4, 'XGB__n_estimators': 50, 'XGB__eta': 0.12, 'XGB__alpha': 0.28}. Best is trial 13 with value: -178712.2523566655.\n",
      "[I 2024-04-15 17:42:40,889] Trial 31 finished with value: -179057.83274211653 and parameters: {'preprocessing__quant__scaler__apply': False, 'preprocessing__cat__encoder__method': 'ordinal', 'preprocessing__cat__imputer__apply': True, 'preprocessing__quant__imputer__apply': True, 'features_selector__apply': False, 'preprocessing__quant__imputer__method': 'iterative_median', 'preprocessing__cat__imputer__method': 'knn', 'preprocessing__cat__imputer__n_neighbors': 4, 'preprocessing__quant__imputer__n_nearest_features': 4, 'XGB__max_depth': 7, 'XGB__lambda': 0.4, 'XGB__n_estimators': 50, 'XGB__eta': 0.12, 'XGB__alpha': 0.36}. Best is trial 13 with value: -178712.2523566655.\n",
      "[I 2024-04-15 17:42:46,837] Trial 32 finished with value: -178956.09025480173 and parameters: {'preprocessing__quant__scaler__apply': False, 'preprocessing__cat__encoder__method': 'ordinal', 'preprocessing__cat__imputer__apply': True, 'preprocessing__quant__imputer__apply': True, 'features_selector__apply': False, 'preprocessing__quant__imputer__method': 'iterative_median', 'preprocessing__cat__imputer__method': 'knn', 'preprocessing__cat__imputer__n_neighbors': 4, 'preprocessing__quant__imputer__n_nearest_features': 4, 'XGB__max_depth': 7, 'XGB__lambda': 0.30000000000000004, 'XGB__n_estimators': 50, 'XGB__eta': 0.1, 'XGB__alpha': 0.36}. Best is trial 13 with value: -178712.2523566655.\n",
      "[I 2024-04-15 17:42:52,675] Trial 33 finished with value: -181920.9285249155 and parameters: {'preprocessing__quant__scaler__apply': False, 'preprocessing__cat__encoder__method': 'ordinal', 'preprocessing__cat__imputer__apply': True, 'preprocessing__quant__imputer__apply': True, 'features_selector__apply': False, 'preprocessing__quant__imputer__method': 'iterative_median', 'preprocessing__cat__imputer__method': 'knn', 'preprocessing__cat__imputer__n_neighbors': 4, 'preprocessing__quant__imputer__n_nearest_features': 4, 'XGB__max_depth': 7, 'XGB__lambda': 0.30000000000000004, 'XGB__n_estimators': 50, 'XGB__eta': 0.06, 'XGB__alpha': 0.51}. Best is trial 13 with value: -178712.2523566655.\n",
      "[I 2024-04-15 17:43:30,776] Trial 34 finished with value: -199611.94126162666 and parameters: {'preprocessing__quant__scaler__apply': False, 'preprocessing__cat__encoder__method': 'one-hot', 'preprocessing__cat__imputer__apply': True, 'preprocessing__quant__imputer__apply': True, 'features_selector__apply': False, 'preprocessing__quant__imputer__method': 'iterative_median', 'preprocessing__cat__imputer__method': 'knn', 'preprocessing__cat__imputer__n_neighbors': 4, 'preprocessing__quant__imputer__n_nearest_features': 5, 'XGB__max_depth': 40, 'XGB__lambda': 0.2, 'XGB__n_estimators': 50, 'XGB__eta': 0.1, 'XGB__alpha': 0.46}. Best is trial 13 with value: -178712.2523566655.\n",
      "[I 2024-04-15 17:43:32,163] Trial 35 finished with value: -182730.64763232786 and parameters: {'preprocessing__quant__scaler__apply': False, 'preprocessing__cat__encoder__method': 'ordinal', 'preprocessing__cat__imputer__apply': True, 'preprocessing__quant__imputer__apply': True, 'features_selector__apply': False, 'preprocessing__quant__imputer__method': 'iterative_median', 'preprocessing__cat__imputer__method': 'simple_most_frequent', 'preprocessing__quant__imputer__n_nearest_features': 3, 'XGB__max_depth': 7, 'XGB__lambda': 0.30000000000000004, 'XGB__n_estimators': 150, 'XGB__eta': 0.22, 'XGB__alpha': 0.27}. Best is trial 13 with value: -178712.2523566655.\n",
      "[I 2024-04-15 17:43:38,087] Trial 36 finished with value: -184090.09816747118 and parameters: {'preprocessing__quant__scaler__apply': True, 'preprocessing__cat__encoder__method': 'one-hot', 'preprocessing__cat__imputer__apply': True, 'preprocessing__quant__imputer__apply': True, 'features_selector__apply': False, 'preprocessing__quant__scaler__method': 'standard', 'preprocessing__quant__imputer__method': 'knn', 'preprocessing__cat__imputer__method': 'knn', 'preprocessing__quant__imputer__n_neighbors': 3, 'preprocessing__cat__imputer__n_neighbors': 3, 'XGB__max_depth': 5, 'XGB__lambda': 0.5, 'XGB__n_estimators': 50, 'XGB__eta': 0.16, 'XGB__alpha': 0.55}. Best is trial 13 with value: -178712.2523566655.\n",
      "[I 2024-04-15 17:43:38,454] Trial 37 finished with value: -198447.48803200855 and parameters: {'preprocessing__quant__scaler__apply': False, 'preprocessing__cat__encoder__method': 'ordinal', 'preprocessing__cat__imputer__apply': True, 'preprocessing__quant__imputer__apply': True, 'features_selector__apply': True, 'features_selector__method': 'Fdr_f_reg', 'preprocessing__quant__imputer__method': 'simple_median', 'preprocessing__cat__imputer__method': 'simple_most_frequent', 'XGB__max_depth': 3, 'XGB__lambda': 0.1, 'XGB__n_estimators': 70, 'XGB__eta': 0.06, 'XGB__alpha': 0.65}. Best is trial 13 with value: -178712.2523566655.\n",
      "[I 2024-04-15 17:43:44,029] Trial 38 finished with value: -179595.2248440803 and parameters: {'preprocessing__quant__scaler__apply': True, 'preprocessing__cat__encoder__method': 'ordinal', 'preprocessing__cat__imputer__apply': True, 'preprocessing__quant__imputer__apply': True, 'features_selector__apply': False, 'preprocessing__quant__scaler__method': 'min-max', 'preprocessing__quant__imputer__method': 'iterative_median', 'preprocessing__cat__imputer__method': 'knn', 'preprocessing__cat__imputer__n_neighbors': 4, 'preprocessing__quant__imputer__n_nearest_features': 4, 'XGB__max_depth': 7, 'XGB__lambda': 0.30000000000000004, 'XGB__n_estimators': 50, 'XGB__eta': 0.08, 'XGB__alpha': 0.76}. Best is trial 13 with value: -178712.2523566655.\n",
      "[I 2024-04-15 17:44:38,570] Trial 39 finished with value: -199948.36645174975 and parameters: {'preprocessing__quant__scaler__apply': False, 'preprocessing__cat__encoder__method': 'one-hot', 'preprocessing__cat__imputer__apply': True, 'preprocessing__quant__imputer__apply': True, 'features_selector__apply': False, 'preprocessing__quant__imputer__method': 'iterative_median', 'preprocessing__cat__imputer__method': 'simple_most_frequent', 'preprocessing__quant__imputer__n_nearest_features': 5, 'XGB__max_depth': 50, 'XGB__lambda': 0.2, 'XGB__n_estimators': 180, 'XGB__eta': 0.24, 'XGB__alpha': 0.31}. Best is trial 13 with value: -178712.2523566655.\n",
      "[I 2024-04-15 17:45:01,658] Trial 40 finished with value: -258739.49003763866 and parameters: {'preprocessing__quant__scaler__apply': False, 'preprocessing__cat__encoder__method': 'ordinal', 'preprocessing__cat__imputer__apply': True, 'preprocessing__quant__imputer__apply': True, 'features_selector__apply': False, 'preprocessing__quant__imputer__method': 'knn', 'preprocessing__cat__imputer__method': 'knn', 'preprocessing__quant__imputer__n_neighbors': 1, 'preprocessing__cat__imputer__n_neighbors': 4, 'XGB__max_depth': 30, 'XGB__lambda': 0.4, 'XGB__n_estimators': 50, 'XGB__eta': 0.02, 'XGB__alpha': 0.38}. Best is trial 13 with value: -178712.2523566655.\n",
      "[I 2024-04-15 17:45:07,236] Trial 41 finished with value: -179057.8327085774 and parameters: {'preprocessing__quant__scaler__apply': False, 'preprocessing__cat__encoder__method': 'ordinal', 'preprocessing__cat__imputer__apply': True, 'preprocessing__quant__imputer__apply': True, 'features_selector__apply': False, 'preprocessing__quant__imputer__method': 'iterative_median', 'preprocessing__cat__imputer__method': 'knn', 'preprocessing__cat__imputer__n_neighbors': 4, 'preprocessing__quant__imputer__n_nearest_features': 4, 'XGB__max_depth': 7, 'XGB__lambda': 0.4, 'XGB__n_estimators': 50, 'XGB__eta': 0.12, 'XGB__alpha': 0.35}. Best is trial 13 with value: -178712.2523566655.\n",
      "[I 2024-04-15 17:45:12,870] Trial 42 finished with value: -179389.6179244819 and parameters: {'preprocessing__quant__scaler__apply': False, 'preprocessing__cat__encoder__method': 'ordinal', 'preprocessing__cat__imputer__apply': True, 'preprocessing__quant__imputer__apply': True, 'features_selector__apply': False, 'preprocessing__quant__imputer__method': 'iterative_median', 'preprocessing__cat__imputer__method': 'knn', 'preprocessing__cat__imputer__n_neighbors': 4, 'preprocessing__quant__imputer__n_nearest_features': 4, 'XGB__max_depth': 7, 'XGB__lambda': 0.4, 'XGB__n_estimators': 50, 'XGB__eta': 0.1, 'XGB__alpha': 0.42000000000000004}. Best is trial 13 with value: -178712.2523566655.\n",
      "[I 2024-04-15 17:45:18,624] Trial 43 finished with value: -178649.63666242664 and parameters: {'preprocessing__quant__scaler__apply': False, 'preprocessing__cat__encoder__method': 'ordinal', 'preprocessing__cat__imputer__apply': True, 'preprocessing__quant__imputer__apply': True, 'features_selector__apply': False, 'preprocessing__quant__imputer__method': 'iterative_median', 'preprocessing__cat__imputer__method': 'knn', 'preprocessing__cat__imputer__n_neighbors': 4, 'preprocessing__quant__imputer__n_nearest_features': 4, 'XGB__max_depth': 7, 'XGB__lambda': 0.5, 'XGB__n_estimators': 50, 'XGB__eta': 0.14, 'XGB__alpha': 0.36}. Best is trial 43 with value: -178649.63666242664.\n",
      "[I 2024-04-15 17:45:24,086] Trial 44 finished with value: -180808.45552172337 and parameters: {'preprocessing__quant__scaler__apply': False, 'preprocessing__cat__encoder__method': 'ordinal', 'preprocessing__cat__imputer__apply': True, 'preprocessing__quant__imputer__apply': True, 'features_selector__apply': False, 'preprocessing__quant__imputer__method': 'iterative_median', 'preprocessing__cat__imputer__method': 'knn', 'preprocessing__cat__imputer__n_neighbors': 4, 'preprocessing__quant__imputer__n_nearest_features': 3, 'XGB__max_depth': None, 'XGB__lambda': 0.5, 'XGB__n_estimators': 50, 'XGB__eta': 0.14, 'XGB__alpha': 0.25}. Best is trial 43 with value: -178649.63666242664.\n",
      "[I 2024-04-15 17:45:24,869] Trial 45 finished with value: -184007.4744506125 and parameters: {'preprocessing__quant__scaler__apply': False, 'preprocessing__cat__encoder__method': 'one-hot', 'preprocessing__cat__imputer__apply': True, 'preprocessing__quant__imputer__apply': True, 'features_selector__apply': True, 'features_selector__method': 'Fpr_f_reg', 'preprocessing__quant__imputer__method': 'iterative_median', 'preprocessing__cat__imputer__method': 'knn', 'preprocessing__cat__imputer__n_neighbors': 3, 'preprocessing__quant__imputer__n_nearest_features': 4, 'XGB__max_depth': 7, 'XGB__lambda': 0.5, 'XGB__n_estimators': 100, 'XGB__eta': 0.2, 'XGB__alpha': 0.29000000000000004}. Best is trial 43 with value: -178649.63666242664.\n",
      "[I 2024-04-15 17:45:25,286] Trial 46 finished with value: -184512.4540180841 and parameters: {'preprocessing__quant__scaler__apply': True, 'preprocessing__cat__encoder__method': 'ordinal', 'preprocessing__cat__imputer__apply': True, 'preprocessing__quant__imputer__apply': True, 'features_selector__apply': False, 'preprocessing__quant__scaler__method': 'min-max', 'preprocessing__quant__imputer__method': 'iterative_median', 'preprocessing__cat__imputer__method': 'simple_most_frequent', 'preprocessing__quant__imputer__n_nearest_features': 5, 'XGB__max_depth': 5, 'XGB__lambda': 0.5, 'XGB__n_estimators': 30, 'XGB__eta': 0.16, 'XGB__alpha': 0.46}. Best is trial 43 with value: -178649.63666242664.\n",
      "[I 2024-04-15 17:45:30,721] Trial 47 finished with value: -190307.6007144876 and parameters: {'preprocessing__quant__scaler__apply': False, 'preprocessing__cat__encoder__method': 'ordinal', 'preprocessing__cat__imputer__apply': True, 'preprocessing__quant__imputer__apply': True, 'features_selector__apply': False, 'preprocessing__quant__imputer__method': 'iterative_median', 'preprocessing__cat__imputer__method': 'knn', 'preprocessing__cat__imputer__n_neighbors': 4, 'preprocessing__quant__imputer__n_nearest_features': 6, 'XGB__max_depth': 3, 'XGB__lambda': 0.30000000000000004, 'XGB__n_estimators': 50, 'XGB__eta': 0.14, 'XGB__alpha': 0.2}. Best is trial 43 with value: -178649.63666242664.\n",
      "[I 2024-04-15 17:45:48,842] Trial 48 finished with value: -194541.81871302525 and parameters: {'preprocessing__quant__scaler__apply': False, 'preprocessing__cat__encoder__method': 'ordinal', 'preprocessing__cat__imputer__apply': True, 'preprocessing__quant__imputer__apply': True, 'features_selector__apply': False, 'preprocessing__quant__imputer__method': 'knn', 'preprocessing__cat__imputer__method': 'knn', 'preprocessing__quant__imputer__n_neighbors': 3, 'preprocessing__cat__imputer__n_neighbors': 4, 'XGB__max_depth': 20, 'XGB__lambda': 0.4, 'XGB__n_estimators': 50, 'XGB__eta': 0.18, 'XGB__alpha': 0.39}. Best is trial 43 with value: -178649.63666242664.\n",
      "[I 2024-04-15 17:45:54,319] Trial 49 finished with value: -182340.46157151595 and parameters: {'preprocessing__quant__scaler__apply': False, 'preprocessing__cat__encoder__method': 'ordinal', 'preprocessing__cat__imputer__apply': True, 'preprocessing__quant__imputer__apply': True, 'features_selector__apply': True, 'features_selector__method': 'Fdr_f_reg', 'preprocessing__quant__imputer__method': 'iterative_median', 'preprocessing__cat__imputer__method': 'knn', 'preprocessing__cat__imputer__n_neighbors': 1, 'preprocessing__quant__imputer__n_nearest_features': 4, 'XGB__max_depth': 7, 'XGB__lambda': 0.5, 'XGB__n_estimators': 180, 'XGB__eta': 0.08, 'XGB__alpha': 0.52}. Best is trial 43 with value: -178649.63666242664.\n"
     ]
    }
   ],
   "source": [
    "model_name = 'XGB'\n",
    "param_grid = param_grid_XGB\n",
    "\n",
    "simple_eval = SimpleEvaluation(estimator=pipelines[model_name],  \n",
    "                               inner=inner, \n",
    "                               param_grid=param_grid,\n",
    "                               search_method='optuna',\n",
    "                               scoring='neg_mean_absolute_error', \n",
    "                               direction='maximize', \n",
    "                               n_trials=50, \n",
    "                               random_state=666)\n",
    "\n",
    "simple_eval.fit(X=X_train, y=Y_train)\n",
    "\n",
    "inner_score[model_name] = simple_eval.inner_score\n",
    "best_params[model_name] = simple_eval.inner_best_params\n",
    "inner_results[model_name] = simple_eval.inner_results\n",
    "# 4.18 mins"
   ]
  },
  {
   "cell_type": "code",
   "execution_count": 27,
   "metadata": {},
   "outputs": [],
   "source": [
    "# Saving the results as pickle files\n",
    "'''\n",
    "with open(f'classic_results/best_params', 'wb') as file:\n",
    "    pickle.dump(best_params, file)\n",
    "\n",
    "with open(f'classic_results/inner_scores', 'wb') as file:\n",
    "    pickle.dump(inner_score, file)\n",
    "\n",
    "with open(f'classic_results/inner_results', 'wb') as file:\n",
    "    pickle.dump(inner_results, file)\n",
    "'''"
   ]
  },
  {
   "cell_type": "code",
   "execution_count": 6,
   "metadata": {},
   "outputs": [],
   "source": [
    "# Opening the results \n",
    "\n",
    "with open(f'classic_results/best_params', 'rb') as file:\n",
    "    best_params = pickle.load(file)\n",
    "\n",
    "with open(f'classic_results/inner_scores', 'rb') as file:\n",
    "    inner_score = pickle.load(file)\n",
    "\n",
    "with open(f'classic_results/inner_results', 'rb') as file:\n",
    "    inner_results = pickle.load(file)"
   ]
  },
  {
   "cell_type": "markdown",
   "metadata": {},
   "source": [
    "## **Inner results**"
   ]
  },
  {
   "cell_type": "code",
   "execution_count": 9,
   "metadata": {},
   "outputs": [],
   "source": [
    "inner_score_values = - np.array(list(inner_score.values())) # getting the positive MAE (the original score was negative MAE)\n",
    "pipelines_names = np.array(list(inner_score.keys()))\n",
    "best_pipeline = pipelines_names[np.argmin(inner_score_values)]\n",
    "score_best_pipeline = np.min(inner_score_values)\n",
    "\n",
    "combined_models_score = list(zip(pipelines_names, inner_score_values))\n",
    "sorted_combined_models_score= sorted(combined_models_score, key=lambda x: x[1], reverse=False)  # Sort from lower to greater\n",
    "sorted_pipelines, sorted_scores = zip(*sorted_combined_models_score)\n",
    "sorted_pipelines = list(sorted_pipelines)\n",
    "sorted_scores = list(sorted_scores)"
   ]
  },
  {
   "cell_type": "code",
   "execution_count": 15,
   "metadata": {},
   "outputs": [
    {
     "data": {
      "image/png": "[encoded data removed]",
      "text/plain": [
       "<Figure size 450x300 with 1 Axes>"
      ]
     },
     "metadata": {},
     "output_type": "display_data"
    },
    {
     "name": "stdout",
     "output_type": "stream",
     "text": [
      "The best model among all the 2 alternatives plotted, according to the inner evaluation, is: RF\n",
      "MAE of the best model: 173974.755\n",
      "\n",
      "The best model hyper-parameters are: {'preprocessing__quant__scaler__apply': True, 'preprocessing__cat__encoder__method': 'ordinal', 'preprocessing__cat__imputer__apply': True, 'preprocessing__quant__imputer__apply': True, 'features_selector__apply': False, 'preprocessing__quant__scaler__method': 'min-max', 'preprocessing__quant__imputer__method': 'iterative_median', 'preprocessing__cat__imputer__method': 'simple_most_frequent', 'preprocessing__quant__imputer__n_nearest_features': 7, 'RF__n_estimators': 74, 'RF__max_depth': 50, 'RF__min_samples_split': 7, 'RF__min_samples_leaf': 2}\n"
     ]
    }
   ],
   "source": [
    "fig, axes = plt.subplots(figsize=(4.5,3))\n",
    "\n",
    "ax = sns.barplot(y=sorted_pipelines, x=sorted_scores, color='blue', width=0.2, alpha=0.9)\n",
    "ax = sns.barplot(y=[best_pipeline], x=[score_best_pipeline], color='red', width=0.2, alpha=0.9)\n",
    "\n",
    "ax.set_ylabel('Models', size=12)\n",
    "ax.set_xlabel('MAE', size=11)\n",
    "ax.set_xticks(np.linspace(0, np.max(inner_score_values), 5)) \n",
    "ax.tick_params(axis='y', labelsize=11)    \n",
    "plt.title(f'Model Selection - Inner Evaluation: 4-Fold CV', size=13, weight='bold')\n",
    "for label in ax.get_yticklabels():\n",
    "    label.set_color('black') \n",
    "plt.show()\n",
    "\n",
    "print(f'The best model among all the {len(sorted_scores)} alternatives plotted, according to the inner evaluation, is: {best_pipeline}')\n",
    "print('MAE of the best model:', np.round(score_best_pipeline, 3))\n",
    "print('\\nThe best model hyper-parameters are:', best_params[best_pipeline])"
   ]
  },
  {
   "cell_type": "code",
   "execution_count": 11,
   "metadata": {},
   "outputs": [
    {
     "data": {
      "text/plain": [
       "{'RF': -173974.7554222493, 'XGB': -178649.63666242664}"
      ]
     },
     "execution_count": 11,
     "metadata": {},
     "output_type": "execute_result"
    }
   ],
   "source": [
    "inner_score"
   ]
  }
 ],
 "metadata": {
  "kernelspec": {
   "display_name": "Python 3",
   "language": "python",
   "name": "python3"
  },
  "language_info": {
   "codemirror_mode": {
    "name": "ipython",
    "version": 3
   },
   "file_extension": ".py",
   "mimetype": "text/x-python",
   "name": "python",
   "nbconvert_exporter": "python",
   "pygments_lexer": "ipython3",
   "version": "3.12.0"
  }
 },
 "nbformat": 4,
 "nbformat_minor": 2
}
